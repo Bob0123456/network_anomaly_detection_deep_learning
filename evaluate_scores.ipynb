{
 "cells": [
  {
   "cell_type": "markdown",
   "metadata": {
    "slideshow": {
     "slide_type": "slide"
    }
   },
   "source": [
    "# Deep Learning for NSL KDD dataset\n",
    "\n",
    "> NSL-KDD is a data set suggested to solve some of the inherent problems of the KDD'99 data set...\n",
    "> [[University of New Brunswick](http://www.unb.ca/cic/research/datasets/nsl.html)]  \n",
    "\n",
    "NSL KDD dataset has large number of columns which doesn't have significant correlation to decide whether current network session is *Normal* or an *Attack*. We performed Linear modeling of data and found that **36% of columns** *(considering 1e-5 as threshold for p value)* are significant in creating models of the dataset. Hence, we believe Deep Learning architectures like AutoEncoders and GANs will be best suitable.\n",
    "\n",
    "We have special interest GAN networks due to their ability of learning about the data distribution by generating the distribution itself. We believe this can be utilized to generate Attack data distribution to help the discriminator model learn better."
   ]
  },
  {
   "cell_type": "markdown",
   "metadata": {
    "nbpresent": {
     "id": "c59ff496-7575-4402-b20b-20db68a3540f"
    },
    "slideshow": {
     "slide_type": "slide"
    }
   },
   "source": [
    "## Data files  \n",
    ">     * KDDTrain+.ARFF: The full NSL-KDD train set with binary labels in ARFF format  \n",
    ">     * KDDTrain+.TXT: The full NSL-KDD train set including attack-type labels and difficulty level in CSV format  \n",
    ">     * KDDTrain+_20Percent.ARFF: A 20% subset of the KDDTrain+.arff file  \n",
    ">     * KDDTrain+_20Percent.TXT: A 20% subset of the KDDTrain+.txt file  \n",
    ">     * KDDTest+.ARFF: The full NSL-KDD test set with binary labels in ARFF format  \n",
    ">     * KDDTest+.TXT: The full NSL-KDD test set including attack-type labels and difficulty level in CSV format  \n",
    ">     * KDDTest-21.ARFF: A subset of the KDDTest+.arff file which does not include records with difficulty level of 21 out of 21  \n",
    ">     * KDDTest-21.TXT: A subset of the KDDTest+.txt file which does not include records with difficulty level of 21 out of 21  \n",
    "> [[University of New Brunswick](http://www.unb.ca/cic/research/datasets/nsl.html)]  \n",
    "\n",
    "\n",
    "\n"
   ]
  },
  {
   "cell_type": "code",
   "execution_count": 1,
   "metadata": {
    "ExecuteTime": {
     "end_time": "2017-06-01T17:40:27.298854Z",
     "start_time": "2017-06-01T17:40:26.867245Z"
    },
    "collapsed": true,
    "nbpresent": {
     "id": "ac2268be-ef2d-4348-be47-904e281e0511"
    },
    "slideshow": {
     "slide_type": "skip"
    }
   },
   "outputs": [],
   "source": [
    "import pandas as pd\n",
    "import numpy as np\n",
    "pd.set_option(\"display.max_rows\",100)\n",
    "%matplotlib inline"
   ]
  },
  {
   "cell_type": "code",
   "execution_count": 2,
   "metadata": {
    "ExecuteTime": {
     "end_time": "2017-06-01T17:40:27.802972Z",
     "start_time": "2017-06-01T17:40:27.300472Z"
    },
    "collapsed": true,
    "nbpresent": {
     "id": "a531f3f3-dbf7-49c7-9241-93282f135458"
    },
    "slideshow": {
     "slide_type": "skip"
    }
   },
   "outputs": [],
   "source": [
    "import statsmodels.api as sm\n",
    "kdd_train_2labels = pd.read_pickle(\"dataset/kdd_train_2labels.pkl\")\n",
    "kdd_train_2labels_y = pd.read_pickle(\"dataset/kdd_train_2labels_y.pkl\")\n",
    "results = sm.OLS(kdd_train_2labels_y.iloc[0:1000], kdd_train_2labels.iloc[0:1000, :-2]).fit()\n",
    "master = \"\"\n",
    "#results.summary()"
   ]
  },
  {
   "cell_type": "markdown",
   "metadata": {
    "nbpresent": {
     "id": "8744ff16-810a-4f78-9d46-f01feb5ce35e"
    },
    "slideshow": {
     "slide_type": "slide"
    }
   },
   "source": [
    "# Exploratory Data Analysis\n",
    "\n",
    "\n",
    "## Feature Selection\n",
    "\n",
    "Using 'ordinary least squares model', we found that only 15 (out of 41) columns have P-values lower enough (< 1e-5) to be considered significant.   "
   ]
  },
  {
   "cell_type": "code",
   "execution_count": 3,
   "metadata": {
    "ExecuteTime": {
     "end_time": "2017-06-01T17:40:28.001094Z",
     "start_time": "2017-06-01T17:40:27.804636Z"
    },
    "nbpresent": {
     "id": "5dbceeca-6499-4cb0-834d-4db5462bd427"
    },
    "slideshow": {
     "slide_type": "subslide"
    }
   },
   "outputs": [
    {
     "data": {
      "image/png": "[encoded data removed]",
      "text/plain": [
       "<matplotlib.figure.Figure at 0x7ff51fa83f98>"
      ]
     },
     "metadata": {},
     "output_type": "display_data"
    }
   ],
   "source": [
    "import warnings\n",
    "warnings.filterwarnings('ignore')\n",
    "results.pvalues.sort_values().plot();"
   ]
  },
  {
   "cell_type": "code",
   "execution_count": 4,
   "metadata": {
    "ExecuteTime": {
     "end_time": "2017-06-01T17:40:28.021153Z",
     "start_time": "2017-06-01T17:40:28.002639Z"
    },
    "nbpresent": {
     "id": "35966131-eebf-4da9-962f-4d4d71000afe"
    },
    "slideshow": {
     "slide_type": "subslide"
    }
   },
   "outputs": [
    {
     "name": "stdout",
     "output_type": "stream",
     "text": [
      "Variables having P value lower than 1e-5\n"
     ]
    },
    {
     "data": {
      "text/plain": [
       "wrong_fragment                 1.577002e-39\n",
       "same_srv_rate                  2.913320e-16\n",
       "service_urp_i                  6.079849e-11\n",
       "service_http                   1.801443e-10\n",
       "dst_host_same_srv_rate         1.897631e-10\n",
       "service_smtp                   2.699004e-10\n",
       "dst_host_srv_rerror_rate       3.418082e-10\n",
       "dst_host_srv_count             1.270372e-08\n",
       "dst_host_same_src_port_rate    3.700446e-08\n",
       "diff_srv_rate                  3.464595e-07\n",
       "dst_host_srv_diff_host_rate    7.880064e-07\n",
       "protocol_type_udp              1.163489e-06\n",
       "service_IRC                    1.688161e-06\n",
       "dst_host_count                 3.587908e-06\n",
       "protocol_type_tcp              8.879575e-06\n",
       "dtype: float64"
      ]
     },
     "execution_count": 4,
     "metadata": {},
     "output_type": "execute_result"
    }
   ],
   "source": [
    "\n",
    "print(\"Variables having P value lower than 1e-5\")\n",
    "results.pvalues[results.pvalues < 1e-5].sort_values()"
   ]
  },
  {
   "attachments": {},
   "cell_type": "markdown",
   "metadata": {
    "nbpresent": {
     "id": "c67b5de0-d0f8-427e-8b34-0dad203d61d7"
    },
    "slideshow": {
     "slide_type": "slide"
    }
   },
   "source": [
    "## TSNE\n",
    "- We found that Normal and Attack data are:\n",
    "    * Not clearly separable.\n",
    "    * Not linearly separable \n",
    "\n",
    "![](images/TSNE-Train+Dataset.png)\n"
   ]
  },
  {
   "cell_type": "code",
   "execution_count": 5,
   "metadata": {
    "ExecuteTime": {
     "end_time": "2017-06-01T17:40:28.033905Z",
     "start_time": "2017-06-01T17:40:28.022987Z"
    },
    "collapsed": true,
    "nbpresent": {
     "id": "a9549f94-67aa-448d-8d2c-3ab11677f860"
    },
    "slideshow": {
     "slide_type": "skip"
    }
   },
   "outputs": [],
   "source": [
    "#kdd_diff_level_train = pd.read_pickle(\"dataset/kdd_diff_level_train.pkl\")\n",
    "#kdd_diff_level_test = pd.read_pickle(\"dataset/kdd_diff_level_test.pkl\")\n",
    "#output_columns_2labels = ['Normal','Attack']\n",
    "output_columns_2labels = ['Attack','Normal']\n",
    "actual_value = pd.read_pickle(\"dataset/kdd_test_2labels_y.pkl\");\n"
   ]
  },
  {
   "cell_type": "code",
   "execution_count": 6,
   "metadata": {
    "ExecuteTime": {
     "end_time": "2017-06-01T17:40:28.109660Z",
     "start_time": "2017-06-01T17:40:28.035602Z"
    },
    "collapsed": true,
    "nbpresent": {
     "id": "6da8ab16-c580-4890-a2e2-a723568500a3"
    },
    "slideshow": {
     "slide_type": "skip"
    }
   },
   "outputs": [],
   "source": [
    "import numpy as np\n",
    "import matplotlib.pyplot as plt\n",
    "import itertools\n",
    "\n",
    "def plot_confusion_matrix(cm, classes,\n",
    "                          normalize=False,\n",
    "                          title='Confusion matrix',\n",
    "                          cmap=plt.cm.Blues):\n",
    "    \"\"\"\n",
    "    This function prints and plots the confusion matrix.\n",
    "    Normalization can be applied by setting `normalize=True`.\n",
    "    \"\"\"\n",
    "    np.set_printoptions(precision=4)\n",
    "\n",
    "    plt.imshow(cm, interpolation='nearest', cmap=cmap)\n",
    "    plt.title(title)\n",
    "    plt.colorbar()\n",
    "    tick_marks = np.arange(len(classes))\n",
    "    plt.xticks(tick_marks, classes, rotation=45)\n",
    "    plt.yticks(tick_marks, classes)\n",
    "\n",
    "    if normalize:\n",
    "        cm = cm.astype('float') / cm.sum(axis=1)[:, np.newaxis]\n",
    "        #print(\"Normalized confusion matrix\")\n",
    "    else:\n",
    "        #print('Confusion matrix, without normalization')\n",
    "        pass\n",
    "    \n",
    "    #print(cm)\n",
    "\n",
    "    label = [[\"\\n True Positive\", \"\\n False Negative \\n Type II Error\"],\n",
    "             [\"\\n False Positive \\n Type I Error\", \"\\n True Negative\"]\n",
    "            ]\n",
    "    \n",
    "    thresh = cm.max() / 2.\n",
    "    for i, j in itertools.product(range(cm.shape[0]), range(cm.shape[1])):\n",
    "        \n",
    "        plt.text(j, i, \"{} {}\".format(cm[i, j].round(4), label[i][j]),\n",
    "                 horizontalalignment=\"center\",\n",
    "                 color=\"white\" if cm[i, j] > thresh else \"black\")\n",
    "\n",
    "    plt.tight_layout()\n",
    "    plt.ylabel('True label')\n",
    "    plt.xlabel('Predicted label')\n",
    "\n",
    "def plot(pred_value):\n",
    "    from sklearn.metrics import confusion_matrix\n",
    "\n",
    "    cm_2labels = confusion_matrix(y_pred = pred_value, y_true = actual_value)\n",
    "    plt.figure(figsize=[6,6])\n",
    "    plot_confusion_matrix(cm_2labels, output_columns_2labels, normalize = True)"
   ]
  },
  {
   "cell_type": "code",
   "execution_count": 7,
   "metadata": {
    "ExecuteTime": {
     "end_time": "2017-06-01T17:40:28.144100Z",
     "start_time": "2017-06-01T17:40:28.111259Z"
    },
    "collapsed": true,
    "nbpresent": {
     "id": "dc327101-f063-4204-aebf-bdcfdbb52961"
    },
    "slideshow": {
     "slide_type": "skip"
    }
   },
   "outputs": [],
   "source": [
    "def get_count(pred_value):\n",
    "    difficulty = pd.DataFrame({\"Actual\":actual_value, \"Predict\":pred_value, \"difficulty_level\":kdd_diff_level_test})\n",
    "    #difficulty = pd.concat(difficulty, pd.Data)\n",
    "    difficulty['accuracy'] = None\n",
    "    difficulty.ix[difficulty.Actual == difficulty.Predict, \"accuracy\"] = 'Correct'\n",
    "    difficulty.ix[difficulty.Actual != difficulty.Predict, \"accuracy\"] = 'Incorrect'\n",
    "    diff_group = difficulty.loc[:,[\"difficulty_level\", \"accuracy\", \"Predict\"]].groupby([\"difficulty_level\", \"accuracy\"])\n",
    "    total_correct = sum(difficulty.Actual == difficulty.Predict)\n",
    "    total_records = difficulty.shape[0]\n",
    "    total_incorrect = total_records - total_correct\n",
    "    print(\"Total Records:{}\".format(total_records))\n",
    "    return diff_group.count()"
   ]
  },
  {
   "cell_type": "code",
   "execution_count": 8,
   "metadata": {
    "ExecuteTime": {
     "end_time": "2017-06-01T17:40:28.178301Z",
     "start_time": "2017-06-01T17:40:28.145676Z"
    },
    "collapsed": true,
    "nbpresent": {
     "id": "91e05ba0-d86f-4fcf-8088-3f12c7d94802"
    },
    "slideshow": {
     "slide_type": "skip"
    }
   },
   "outputs": [],
   "source": [
    "scores = pd.read_pickle(\"dataset/{}tf_vae_dense_trained_together_nsl_kdd_scores.pkl\".format(master))\n",
    "accumulate_test_scores = scores.iloc[:,0:3]\n",
    "accumulate_test_time = scores.iloc[:,0:3]\n",
    "#accumulate_test_scores"
   ]
  },
  {
   "cell_type": "code",
   "execution_count": 9,
   "metadata": {
    "ExecuteTime": {
     "end_time": "2017-06-01T17:40:28.256885Z",
     "start_time": "2017-06-01T17:40:28.179916Z"
    },
    "collapsed": true,
    "nbpresent": {
     "id": "d6b24543-bbf1-4826-b17d-dd735d08d01b"
    },
    "slideshow": {
     "slide_type": "skip"
    }
   },
   "outputs": [],
   "source": [
    "def evaluate(pred_pkl, score_pkl, name = 'DNN'):\n",
    "    global accumulate_test_scores\n",
    "    global accumulate_test_time\n",
    "    \n",
    "    print(pred_pkl)\n",
    "    predictions = pd.read_pickle(pred_pkl)\n",
    "    scores = pd.read_pickle(score_pkl)\n",
    "    \n",
    "    #accumulate_test_scores = pd.concat([accumulate_test_scores, \n",
    "    #                                    pd.DataFrame({\"{}\" #_test_score\n",
    "    #                                                              .format(name):\n",
    "    #                                                              scores.loc[:,\"test_score\"]})], \n",
    "    #                                   axis = 1,)\n",
    "    \n",
    "    accumulate_test_scores = pd.merge(accumulate_test_scores, \n",
    "                                      scores.loc[:,[\"no_of_features\", \"hidden_layers\" , \"test_score\"]],\n",
    "                                      on=('no_of_features', 'hidden_layers'),\n",
    "                                      how = 'outer')\n",
    "\n",
    "    accumulate_test_scores = accumulate_test_scores.rename(columns = {\"test_score\":name})\n",
    "\n",
    "\n",
    "    accumulate_test_time = pd.merge(accumulate_test_time, \n",
    "                                      scores.loc[:,[\"no_of_features\", \"hidden_layers\" , \"time_taken\"]],\n",
    "                                      on=('no_of_features', 'hidden_layers'),\n",
    "                                      how = 'outer')\n",
    "    \n",
    "    accumulate_test_time = accumulate_test_time.rename(columns = {\"time_taken\":name})\n",
    "    \n",
    "    #accumulate_test_scores = accumulate_test_scores.rename(columns = {\"test_score\":\"{}_test_score\".format(name)})\n",
    "    #print(scores.sort_values(\"test_score\", ascending=False))\n",
    "\n",
    "    df_sorted = scores.sort_values(\"test_score\", ascending=False).iloc[0,0:3]\n",
    "    epoch = int(df_sorted['epoch'])\n",
    "    n_o_f = int(df_sorted['no_of_features'])\n",
    "    h_l = int(df_sorted['hidden_layers'])\n",
    "    print(\"Best model choosen is: Epochs:{} Number of Features:{} Hidden Layers:{}\".format(epoch,n_o_f,h_l))\n",
    "    \n",
    "    import fnmatch\n",
    "    pred_keys = predictions.keys()\n",
    "    best_hp = fnmatch.filter(pred_keys.tolist(), \"*_{}_{}\".format(n_o_f,h_l))\n",
    "    \n",
    "    df_pred = predictions[best_hp[0]] #.round(2)\n",
    "    Attack_index = actual_value == 0\n",
    "    Normal_index = actual_value == 1\n",
    "\n",
    "    #df_pred[Attack_index].plot(kind='line', figsize=(20,5), title=\"Prediction of Attack\")\n",
    "    #df_pred[Normal_index].plot(kind='line', figsize=(20,5), title=\"Prediction of Normal\")\n",
    "    \n",
    "    pred_value = df_pred[\"Prediction\"] #np.argmax(df_pred.values, axis=1)\n",
    "    plot(pred_value)\n",
    "    return scores.sort_values(\"test_score\", ascending=False)"
   ]
  },
  {
   "cell_type": "markdown",
   "metadata": {
    "nbpresent": {
     "id": "1cdf93b2-90b9-49f1-b624-141ada99d3c9"
    },
    "slideshow": {
     "slide_type": "slide"
    }
   },
   "source": [
    "# Evaluating Dense Network\n",
    "\n",
    "![Fully Connected Network](images/NSL_KDD_FullyConnectedNetwork.jpg)\n",
    "\n",
    "We used Fully connected Neural Network to observe the behavior of model training on NSL KDD data under various hyper parameter configurations as stated below:\n",
    "\n",
    "- Feature Reduction  \n",
    "We tried to reduce the number of features to understand how much the data can be compressed while still able to generalize enough for test dataset.\n",
    "    \n",
    "- Number of Hidden layers  \n",
    "    We wanted to observe how many layers of dense networks may be required to capture the non-leanarity of the data. This understanding may prove useful while training other deep learning architectures.\n",
    "- Epochs, learning rate   \n",
    "    We wanted to get an understanding of how much time/resources will be required to train the model."
   ]
  },
  {
   "cell_type": "code",
   "execution_count": 10,
   "metadata": {
    "ExecuteTime": {
     "end_time": "2017-06-01T17:40:28.682193Z",
     "start_time": "2017-06-01T17:40:28.258492Z"
    },
    "nbpresent": {
     "id": "3a6c2944-2893-4d44-88d8-606a7745c93f"
    },
    "slideshow": {
     "slide_type": "subslide"
    }
   },
   "outputs": [
    {
     "name": "stdout",
     "output_type": "stream",
     "text": [
      "dataset/tf_dense_only_nsl_kdd_predictions.pkl\n",
      "Best model choosen is: Epochs:60 Number of Features:32 Hidden Layers:4\n"
     ]
    },
    {
     "data": {
      "text/html": [
       "<div>\n",
       "<table border=\"1\" class=\"dataframe\">\n",
       "  <thead>\n",
       "    <tr style=\"text-align: right;\">\n",
       "      <th></th>\n",
       "      <th>epoch</th>\n",
       "      <th>no_of_features</th>\n",
       "      <th>hidden_layers</th>\n",
       "      <th>train_score</th>\n",
       "      <th>test_score</th>\n",
       "      <th>time_taken</th>\n",
       "    </tr>\n",
       "  </thead>\n",
       "  <tbody>\n",
       "    <tr>\n",
       "      <th>7</th>\n",
       "      <td>60</td>\n",
       "      <td>32</td>\n",
       "      <td>4</td>\n",
       "      <td>0.922289</td>\n",
       "      <td>0.902591</td>\n",
       "      <td>30.308796</td>\n",
       "    </tr>\n",
       "    <tr>\n",
       "      <th>4</th>\n",
       "      <td>60</td>\n",
       "      <td>4</td>\n",
       "      <td>4</td>\n",
       "      <td>0.858867</td>\n",
       "      <td>0.902236</td>\n",
       "      <td>5.278900</td>\n",
       "    </tr>\n",
       "    <tr>\n",
       "      <th>6</th>\n",
       "      <td>60</td>\n",
       "      <td>16</td>\n",
       "      <td>4</td>\n",
       "      <td>0.883553</td>\n",
       "      <td>0.901659</td>\n",
       "      <td>21.081949</td>\n",
       "    </tr>\n",
       "    <tr>\n",
       "      <th>10</th>\n",
       "      <td>60</td>\n",
       "      <td>16</td>\n",
       "      <td>6</td>\n",
       "      <td>0.908319</td>\n",
       "      <td>0.892965</td>\n",
       "      <td>17.890709</td>\n",
       "    </tr>\n",
       "    <tr>\n",
       "      <th>1</th>\n",
       "      <td>60</td>\n",
       "      <td>8</td>\n",
       "      <td>2</td>\n",
       "      <td>0.877044</td>\n",
       "      <td>0.872339</td>\n",
       "      <td>7.683722</td>\n",
       "    </tr>\n",
       "    <tr>\n",
       "      <th>11</th>\n",
       "      <td>60</td>\n",
       "      <td>32</td>\n",
       "      <td>6</td>\n",
       "      <td>0.932132</td>\n",
       "      <td>0.848297</td>\n",
       "      <td>53.703757</td>\n",
       "    </tr>\n",
       "    <tr>\n",
       "      <th>2</th>\n",
       "      <td>60</td>\n",
       "      <td>16</td>\n",
       "      <td>2</td>\n",
       "      <td>0.917844</td>\n",
       "      <td>0.832195</td>\n",
       "      <td>14.460667</td>\n",
       "    </tr>\n",
       "    <tr>\n",
       "      <th>3</th>\n",
       "      <td>60</td>\n",
       "      <td>32</td>\n",
       "      <td>2</td>\n",
       "      <td>0.955072</td>\n",
       "      <td>0.804383</td>\n",
       "      <td>21.300486</td>\n",
       "    </tr>\n",
       "    <tr>\n",
       "      <th>5</th>\n",
       "      <td>60</td>\n",
       "      <td>8</td>\n",
       "      <td>4</td>\n",
       "      <td>0.962613</td>\n",
       "      <td>0.788059</td>\n",
       "      <td>45.761467</td>\n",
       "    </tr>\n",
       "    <tr>\n",
       "      <th>0</th>\n",
       "      <td>60</td>\n",
       "      <td>4</td>\n",
       "      <td>2</td>\n",
       "      <td>0.966503</td>\n",
       "      <td>0.769872</td>\n",
       "      <td>29.823778</td>\n",
       "    </tr>\n",
       "    <tr>\n",
       "      <th>9</th>\n",
       "      <td>60</td>\n",
       "      <td>8</td>\n",
       "      <td>6</td>\n",
       "      <td>0.944674</td>\n",
       "      <td>0.714469</td>\n",
       "      <td>111.958876</td>\n",
       "    </tr>\n",
       "    <tr>\n",
       "      <th>8</th>\n",
       "      <td>60</td>\n",
       "      <td>4</td>\n",
       "      <td>6</td>\n",
       "      <td>0.618193</td>\n",
       "      <td>0.559351</td>\n",
       "      <td>1.979650</td>\n",
       "    </tr>\n",
       "  </tbody>\n",
       "</table>\n",
       "</div>"
      ],
      "text/plain": [
       "    epoch  no_of_features  hidden_layers  train_score  test_score  time_taken\n",
       "7      60              32              4     0.922289    0.902591   30.308796\n",
       "4      60               4              4     0.858867    0.902236    5.278900\n",
       "6      60              16              4     0.883553    0.901659   21.081949\n",
       "10     60              16              6     0.908319    0.892965   17.890709\n",
       "1      60               8              2     0.877044    0.872339    7.683722\n",
       "11     60              32              6     0.932132    0.848297   53.703757\n",
       "2      60              16              2     0.917844    0.832195   14.460667\n",
       "3      60              32              2     0.955072    0.804383   21.300486\n",
       "5      60               8              4     0.962613    0.788059   45.761467\n",
       "0      60               4              2     0.966503    0.769872   29.823778\n",
       "9      60               8              6     0.944674    0.714469  111.958876\n",
       "8      60               4              6     0.618193    0.559351    1.979650"
      ]
     },
     "execution_count": 10,
     "metadata": {},
     "output_type": "execute_result"
    },
    {
     "data": {
      "image/png": "[encoded data removed]",
      "text/plain": [
       "<matplotlib.figure.Figure at 0x7ff54f594128>"
      ]
     },
     "metadata": {},
     "output_type": "display_data"
    }
   ],
   "source": [
    "evaluate(\"dataset/{}tf_dense_only_nsl_kdd_predictions.pkl\".format(master),\n",
    "         \"dataset/{}tf_dense_only_nsl_kdd_scores.pkl\".format(master), \"Dense Network\")"
   ]
  },
  {
   "cell_type": "markdown",
   "metadata": {
    "nbpresent": {
     "id": "a474a32b-ac75-4127-847b-5b6a54768b22"
    },
    "slideshow": {
     "slide_type": "slide"
    }
   },
   "source": [
    "# Variational Autoencoders \n",
    "\n",
    "Variational Autoencoders can reduce the features by initially compressing the data and then calculating mean and variance of the compressed data features. Mean and variance is used to approximate data distribution (Z) of each compressed feature. The model learns by optimzing loss occured while reproducing the actual data using the Z data distribution.  \n",
    "\n",
    "## Predict using Softmax\n",
    "In order to predict whether current network session is Normal or Attack, we coupled Softmax with layer producing Z data distribution.\n",
    "\n",
    "![VAE with Softmax](images/VAE_withSoftmax.jpg)\n"
   ]
  },
  {
   "cell_type": "code",
   "execution_count": 11,
   "metadata": {
    "ExecuteTime": {
     "end_time": "2017-06-01T17:40:29.048361Z",
     "start_time": "2017-06-01T17:40:28.683710Z"
    },
    "nbpresent": {
     "id": "2faa93e3-932d-4dec-a1d4-6b6550904965"
    },
    "scrolled": false,
    "slideshow": {
     "slide_type": "subslide"
    }
   },
   "outputs": [
    {
     "name": "stdout",
     "output_type": "stream",
     "text": [
      "dataset/tf_vae_dense_trained_together_nsl_kdd_predictions.pkl\n",
      "Best model choosen is: Epochs:60 Number of Features:32 Hidden Layers:6\n"
     ]
    },
    {
     "data": {
      "text/html": [
       "<div>\n",
       "<table border=\"1\" class=\"dataframe\">\n",
       "  <thead>\n",
       "    <tr style=\"text-align: right;\">\n",
       "      <th></th>\n",
       "      <th>epoch</th>\n",
       "      <th>no_of_features</th>\n",
       "      <th>hidden_layers</th>\n",
       "      <th>train_score</th>\n",
       "      <th>test_score</th>\n",
       "      <th>time_taken</th>\n",
       "    </tr>\n",
       "  </thead>\n",
       "  <tbody>\n",
       "    <tr>\n",
       "      <th>11</th>\n",
       "      <td>60</td>\n",
       "      <td>32</td>\n",
       "      <td>6</td>\n",
       "      <td>0.903195</td>\n",
       "      <td>0.897667</td>\n",
       "      <td>415.066499</td>\n",
       "    </tr>\n",
       "    <tr>\n",
       "      <th>6</th>\n",
       "      <td>60</td>\n",
       "      <td>16</td>\n",
       "      <td>4</td>\n",
       "      <td>0.937329</td>\n",
       "      <td>0.894429</td>\n",
       "      <td>154.415640</td>\n",
       "    </tr>\n",
       "    <tr>\n",
       "      <th>2</th>\n",
       "      <td>60</td>\n",
       "      <td>16</td>\n",
       "      <td>2</td>\n",
       "      <td>0.911689</td>\n",
       "      <td>0.884182</td>\n",
       "      <td>91.800545</td>\n",
       "    </tr>\n",
       "    <tr>\n",
       "      <th>3</th>\n",
       "      <td>60</td>\n",
       "      <td>32</td>\n",
       "      <td>2</td>\n",
       "      <td>0.930740</td>\n",
       "      <td>0.880767</td>\n",
       "      <td>110.905065</td>\n",
       "    </tr>\n",
       "    <tr>\n",
       "      <th>8</th>\n",
       "      <td>60</td>\n",
       "      <td>4</td>\n",
       "      <td>6</td>\n",
       "      <td>0.878508</td>\n",
       "      <td>0.879258</td>\n",
       "      <td>230.232700</td>\n",
       "    </tr>\n",
       "    <tr>\n",
       "      <th>10</th>\n",
       "      <td>60</td>\n",
       "      <td>16</td>\n",
       "      <td>6</td>\n",
       "      <td>0.903076</td>\n",
       "      <td>0.871939</td>\n",
       "      <td>518.508926</td>\n",
       "    </tr>\n",
       "    <tr>\n",
       "      <th>0</th>\n",
       "      <td>60</td>\n",
       "      <td>4</td>\n",
       "      <td>2</td>\n",
       "      <td>0.897599</td>\n",
       "      <td>0.868923</td>\n",
       "      <td>68.806965</td>\n",
       "    </tr>\n",
       "    <tr>\n",
       "      <th>5</th>\n",
       "      <td>60</td>\n",
       "      <td>8</td>\n",
       "      <td>4</td>\n",
       "      <td>0.916134</td>\n",
       "      <td>0.866084</td>\n",
       "      <td>12.501491</td>\n",
       "    </tr>\n",
       "    <tr>\n",
       "      <th>1</th>\n",
       "      <td>60</td>\n",
       "      <td>8</td>\n",
       "      <td>2</td>\n",
       "      <td>0.884183</td>\n",
       "      <td>0.865951</td>\n",
       "      <td>67.387382</td>\n",
       "    </tr>\n",
       "    <tr>\n",
       "      <th>9</th>\n",
       "      <td>60</td>\n",
       "      <td>8</td>\n",
       "      <td>6</td>\n",
       "      <td>0.915499</td>\n",
       "      <td>0.865685</td>\n",
       "      <td>230.881235</td>\n",
       "    </tr>\n",
       "    <tr>\n",
       "      <th>4</th>\n",
       "      <td>60</td>\n",
       "      <td>4</td>\n",
       "      <td>4</td>\n",
       "      <td>0.884382</td>\n",
       "      <td>0.864532</td>\n",
       "      <td>71.878820</td>\n",
       "    </tr>\n",
       "    <tr>\n",
       "      <th>7</th>\n",
       "      <td>60</td>\n",
       "      <td>32</td>\n",
       "      <td>4</td>\n",
       "      <td>0.843104</td>\n",
       "      <td>0.799636</td>\n",
       "      <td>141.924597</td>\n",
       "    </tr>\n",
       "  </tbody>\n",
       "</table>\n",
       "</div>"
      ],
      "text/plain": [
       "    epoch  no_of_features  hidden_layers  train_score  test_score  time_taken\n",
       "11     60              32              6     0.903195    0.897667  415.066499\n",
       "6      60              16              4     0.937329    0.894429  154.415640\n",
       "2      60              16              2     0.911689    0.884182   91.800545\n",
       "3      60              32              2     0.930740    0.880767  110.905065\n",
       "8      60               4              6     0.878508    0.879258  230.232700\n",
       "10     60              16              6     0.903076    0.871939  518.508926\n",
       "0      60               4              2     0.897599    0.868923   68.806965\n",
       "5      60               8              4     0.916134    0.866084   12.501491\n",
       "1      60               8              2     0.884183    0.865951   67.387382\n",
       "9      60               8              6     0.915499    0.865685  230.881235\n",
       "4      60               4              4     0.884382    0.864532   71.878820\n",
       "7      60              32              4     0.843104    0.799636  141.924597"
      ]
     },
     "execution_count": 11,
     "metadata": {},
     "output_type": "execute_result"
    },
    {
     "data": {
      "image/png": "[encoded data removed]",
      "text/plain": [
       "<matplotlib.figure.Figure at 0x7ff5149ab4e0>"
      ]
     },
     "metadata": {},
     "output_type": "display_data"
    }
   ],
   "source": [
    "evaluate(\"dataset/{}tf_vae_dense_trained_together_nsl_kdd_predictions.pkl\".format(master),\n",
    "         \"dataset/{}tf_vae_dense_trained_together_nsl_kdd_scores.pkl\".format(master), \"VAE with Softmax\")"
   ]
  },
  {
   "cell_type": "markdown",
   "metadata": {
    "nbpresent": {
     "id": "c4ef37f2-b016-4b0e-a3c9-aa38478fc6eb"
    },
    "slideshow": {
     "slide_type": "slide"
    }
   },
   "source": [
    "## Include dependent Variable as feature.\n",
    "\n",
    "Another approach we took is to train VAE to reproduce Normal/Attack labels itself during Training cylce. While testing, we would replace the labels with **random values(0~1)** and use VAE to generate correct values of the labels.\n",
    "\n",
    "![VAE with Softmax](images/VAE_withLabel.jpg)\n"
   ]
  },
  {
   "cell_type": "markdown",
   "metadata": {
    "nbpresent": {
     "id": "7d9c7d57-0cb5-4eb4-969f-959d0a3ae352"
    },
    "slideshow": {
     "slide_type": "subslide"
    }
   },
   "source": [
    "## using VAE Loss\n",
    "\n",
    "< explain the variation >"
   ]
  },
  {
   "cell_type": "code",
   "execution_count": 12,
   "metadata": {
    "ExecuteTime": {
     "end_time": "2017-06-01T17:40:29.423502Z",
     "start_time": "2017-06-01T17:40:29.049861Z"
    },
    "nbpresent": {
     "id": "a4c7d76b-0be6-4bd2-9b00-208e08d86ca7"
    },
    "scrolled": false,
    "slideshow": {
     "slide_type": "subslide"
    }
   },
   "outputs": [
    {
     "name": "stdout",
     "output_type": "stream",
     "text": [
      "dataset/tf_vae_only_vae_loss_nsl_kdd_predictions.pkl\n",
      "Best model choosen is: Epochs:60 Number of Features:32 Hidden Layers:4\n"
     ]
    },
    {
     "data": {
      "text/html": [
       "<div>\n",
       "<table border=\"1\" class=\"dataframe\">\n",
       "  <thead>\n",
       "    <tr style=\"text-align: right;\">\n",
       "      <th></th>\n",
       "      <th>epoch</th>\n",
       "      <th>no_of_features</th>\n",
       "      <th>hidden_layers</th>\n",
       "      <th>train_score</th>\n",
       "      <th>test_score</th>\n",
       "      <th>time_taken</th>\n",
       "    </tr>\n",
       "  </thead>\n",
       "  <tbody>\n",
       "    <tr>\n",
       "      <th>7</th>\n",
       "      <td>60</td>\n",
       "      <td>32</td>\n",
       "      <td>4</td>\n",
       "      <td>0.899190</td>\n",
       "      <td>0.894828</td>\n",
       "      <td>277.087312</td>\n",
       "    </tr>\n",
       "    <tr>\n",
       "      <th>5</th>\n",
       "      <td>60</td>\n",
       "      <td>8</td>\n",
       "      <td>4</td>\n",
       "      <td>0.784648</td>\n",
       "      <td>0.888618</td>\n",
       "      <td>326.445902</td>\n",
       "    </tr>\n",
       "    <tr>\n",
       "      <th>2</th>\n",
       "      <td>60</td>\n",
       "      <td>16</td>\n",
       "      <td>2</td>\n",
       "      <td>0.906255</td>\n",
       "      <td>0.861781</td>\n",
       "      <td>22.907380</td>\n",
       "    </tr>\n",
       "    <tr>\n",
       "      <th>8</th>\n",
       "      <td>60</td>\n",
       "      <td>4</td>\n",
       "      <td>6</td>\n",
       "      <td>0.872837</td>\n",
       "      <td>0.851757</td>\n",
       "      <td>78.289377</td>\n",
       "    </tr>\n",
       "    <tr>\n",
       "      <th>1</th>\n",
       "      <td>60</td>\n",
       "      <td>8</td>\n",
       "      <td>2</td>\n",
       "      <td>0.943959</td>\n",
       "      <td>0.849849</td>\n",
       "      <td>22.652336</td>\n",
       "    </tr>\n",
       "    <tr>\n",
       "      <th>4</th>\n",
       "      <td>60</td>\n",
       "      <td>4</td>\n",
       "      <td>4</td>\n",
       "      <td>0.816876</td>\n",
       "      <td>0.848031</td>\n",
       "      <td>333.715173</td>\n",
       "    </tr>\n",
       "    <tr>\n",
       "      <th>11</th>\n",
       "      <td>60</td>\n",
       "      <td>32</td>\n",
       "      <td>6</td>\n",
       "      <td>0.901969</td>\n",
       "      <td>0.845413</td>\n",
       "      <td>9.349152</td>\n",
       "    </tr>\n",
       "    <tr>\n",
       "      <th>9</th>\n",
       "      <td>60</td>\n",
       "      <td>8</td>\n",
       "      <td>6</td>\n",
       "      <td>0.856247</td>\n",
       "      <td>0.838893</td>\n",
       "      <td>44.365170</td>\n",
       "    </tr>\n",
       "    <tr>\n",
       "      <th>10</th>\n",
       "      <td>60</td>\n",
       "      <td>16</td>\n",
       "      <td>6</td>\n",
       "      <td>0.902762</td>\n",
       "      <td>0.832638</td>\n",
       "      <td>306.418287</td>\n",
       "    </tr>\n",
       "    <tr>\n",
       "      <th>6</th>\n",
       "      <td>60</td>\n",
       "      <td>16</td>\n",
       "      <td>4</td>\n",
       "      <td>0.911811</td>\n",
       "      <td>0.826207</td>\n",
       "      <td>12.959080</td>\n",
       "    </tr>\n",
       "    <tr>\n",
       "      <th>0</th>\n",
       "      <td>60</td>\n",
       "      <td>4</td>\n",
       "      <td>2</td>\n",
       "      <td>0.925861</td>\n",
       "      <td>0.813121</td>\n",
       "      <td>7.008952</td>\n",
       "    </tr>\n",
       "    <tr>\n",
       "      <th>3</th>\n",
       "      <td>60</td>\n",
       "      <td>32</td>\n",
       "      <td>2</td>\n",
       "      <td>0.913161</td>\n",
       "      <td>0.769917</td>\n",
       "      <td>37.892799</td>\n",
       "    </tr>\n",
       "  </tbody>\n",
       "</table>\n",
       "</div>"
      ],
      "text/plain": [
       "    epoch  no_of_features  hidden_layers  train_score  test_score  time_taken\n",
       "7      60              32              4     0.899190    0.894828  277.087312\n",
       "5      60               8              4     0.784648    0.888618  326.445902\n",
       "2      60              16              2     0.906255    0.861781   22.907380\n",
       "8      60               4              6     0.872837    0.851757   78.289377\n",
       "1      60               8              2     0.943959    0.849849   22.652336\n",
       "4      60               4              4     0.816876    0.848031  333.715173\n",
       "11     60              32              6     0.901969    0.845413    9.349152\n",
       "9      60               8              6     0.856247    0.838893   44.365170\n",
       "10     60              16              6     0.902762    0.832638  306.418287\n",
       "6      60              16              4     0.911811    0.826207   12.959080\n",
       "0      60               4              2     0.925861    0.813121    7.008952\n",
       "3      60              32              2     0.913161    0.769917   37.892799"
      ]
     },
     "execution_count": 12,
     "metadata": {},
     "output_type": "execute_result"
    },
    {
     "data": {
      "image/png": "[encoded data removed]",
      "text/plain": [
       "<matplotlib.figure.Figure at 0x7ff50f0cbb38>"
      ]
     },
     "metadata": {},
     "output_type": "display_data"
    }
   ],
   "source": [
    "evaluate(\"dataset/{}tf_vae_only_vae_loss_nsl_kdd_predictions.pkl\".format(master),\n",
    "         \"dataset/{}tf_vae_only_vae_loss_nsl_kdd_scores.pkl\".format(master), \"VAE with label (using VAE loss)\")"
   ]
  },
  {
   "cell_type": "markdown",
   "metadata": {
    "nbpresent": {
     "id": "77e87c15-2fa9-42e3-a422-16e7a4fcd394"
    },
    "slideshow": {
     "slide_type": "subslide"
    }
   },
   "source": [
    "## Using MSE Loss"
   ]
  },
  {
   "cell_type": "code",
   "execution_count": 13,
   "metadata": {
    "ExecuteTime": {
     "end_time": "2017-06-01T17:40:29.794838Z",
     "start_time": "2017-06-01T17:40:29.425536Z"
    },
    "nbpresent": {
     "id": "6c54a49d-2138-49dd-a863-40f4b4b7036b"
    },
    "slideshow": {
     "slide_type": "subslide"
    }
   },
   "outputs": [
    {
     "name": "stdout",
     "output_type": "stream",
     "text": [
      "dataset/tf_vae_only_nsl_kdd_predictions.pkl\n",
      "Best model choosen is: Epochs:60 Number of Features:32 Hidden Layers:4\n"
     ]
    },
    {
     "data": {
      "text/html": [
       "<div>\n",
       "<table border=\"1\" class=\"dataframe\">\n",
       "  <thead>\n",
       "    <tr style=\"text-align: right;\">\n",
       "      <th></th>\n",
       "      <th>epoch</th>\n",
       "      <th>no_of_features</th>\n",
       "      <th>hidden_layers</th>\n",
       "      <th>train_score</th>\n",
       "      <th>test_score</th>\n",
       "      <th>time_taken</th>\n",
       "    </tr>\n",
       "  </thead>\n",
       "  <tbody>\n",
       "    <tr>\n",
       "      <th>7</th>\n",
       "      <td>60</td>\n",
       "      <td>32</td>\n",
       "      <td>4</td>\n",
       "      <td>0.900778</td>\n",
       "      <td>0.884714</td>\n",
       "      <td>114.009192</td>\n",
       "    </tr>\n",
       "    <tr>\n",
       "      <th>6</th>\n",
       "      <td>60</td>\n",
       "      <td>16</td>\n",
       "      <td>4</td>\n",
       "      <td>0.925147</td>\n",
       "      <td>0.884537</td>\n",
       "      <td>151.541185</td>\n",
       "    </tr>\n",
       "    <tr>\n",
       "      <th>5</th>\n",
       "      <td>60</td>\n",
       "      <td>8</td>\n",
       "      <td>4</td>\n",
       "      <td>0.921972</td>\n",
       "      <td>0.867016</td>\n",
       "      <td>173.620789</td>\n",
       "    </tr>\n",
       "    <tr>\n",
       "      <th>8</th>\n",
       "      <td>60</td>\n",
       "      <td>4</td>\n",
       "      <td>6</td>\n",
       "      <td>0.917923</td>\n",
       "      <td>0.855438</td>\n",
       "      <td>178.681830</td>\n",
       "    </tr>\n",
       "    <tr>\n",
       "      <th>10</th>\n",
       "      <td>60</td>\n",
       "      <td>16</td>\n",
       "      <td>6</td>\n",
       "      <td>0.927052</td>\n",
       "      <td>0.849361</td>\n",
       "      <td>163.095515</td>\n",
       "    </tr>\n",
       "    <tr>\n",
       "      <th>9</th>\n",
       "      <td>60</td>\n",
       "      <td>8</td>\n",
       "      <td>6</td>\n",
       "      <td>0.942292</td>\n",
       "      <td>0.844792</td>\n",
       "      <td>178.116029</td>\n",
       "    </tr>\n",
       "    <tr>\n",
       "      <th>11</th>\n",
       "      <td>60</td>\n",
       "      <td>32</td>\n",
       "      <td>6</td>\n",
       "      <td>0.785045</td>\n",
       "      <td>0.842619</td>\n",
       "      <td>69.283948</td>\n",
       "    </tr>\n",
       "    <tr>\n",
       "      <th>4</th>\n",
       "      <td>60</td>\n",
       "      <td>4</td>\n",
       "      <td>4</td>\n",
       "      <td>0.940387</td>\n",
       "      <td>0.839381</td>\n",
       "      <td>88.363373</td>\n",
       "    </tr>\n",
       "    <tr>\n",
       "      <th>1</th>\n",
       "      <td>60</td>\n",
       "      <td>8</td>\n",
       "      <td>2</td>\n",
       "      <td>0.967693</td>\n",
       "      <td>0.823634</td>\n",
       "      <td>24.156216</td>\n",
       "    </tr>\n",
       "    <tr>\n",
       "      <th>3</th>\n",
       "      <td>60</td>\n",
       "      <td>32</td>\n",
       "      <td>2</td>\n",
       "      <td>0.953088</td>\n",
       "      <td>0.818621</td>\n",
       "      <td>223.318441</td>\n",
       "    </tr>\n",
       "    <tr>\n",
       "      <th>2</th>\n",
       "      <td>60</td>\n",
       "      <td>16</td>\n",
       "      <td>2</td>\n",
       "      <td>0.955072</td>\n",
       "      <td>0.810016</td>\n",
       "      <td>53.770209</td>\n",
       "    </tr>\n",
       "    <tr>\n",
       "      <th>0</th>\n",
       "      <td>60</td>\n",
       "      <td>4</td>\n",
       "      <td>2</td>\n",
       "      <td>0.950389</td>\n",
       "      <td>0.795955</td>\n",
       "      <td>99.397313</td>\n",
       "    </tr>\n",
       "  </tbody>\n",
       "</table>\n",
       "</div>"
      ],
      "text/plain": [
       "    epoch  no_of_features  hidden_layers  train_score  test_score  time_taken\n",
       "7      60              32              4     0.900778    0.884714  114.009192\n",
       "6      60              16              4     0.925147    0.884537  151.541185\n",
       "5      60               8              4     0.921972    0.867016  173.620789\n",
       "8      60               4              6     0.917923    0.855438  178.681830\n",
       "10     60              16              6     0.927052    0.849361  163.095515\n",
       "9      60               8              6     0.942292    0.844792  178.116029\n",
       "11     60              32              6     0.785045    0.842619   69.283948\n",
       "4      60               4              4     0.940387    0.839381   88.363373\n",
       "1      60               8              2     0.967693    0.823634   24.156216\n",
       "3      60              32              2     0.953088    0.818621  223.318441\n",
       "2      60              16              2     0.955072    0.810016   53.770209\n",
       "0      60               4              2     0.950389    0.795955   99.397313"
      ]
     },
     "execution_count": 13,
     "metadata": {},
     "output_type": "execute_result"
    },
    {
     "data": {
      "image/png": "[encoded data removed]",
      "text/plain": [
       "<matplotlib.figure.Figure at 0x7ff514a9d2b0>"
      ]
     },
     "metadata": {},
     "output_type": "display_data"
    }
   ],
   "source": [
    "evaluate(\"dataset/{}tf_vae_only_nsl_kdd_predictions.pkl\".format(master),\n",
    "         \"dataset/{}tf_vae_only_nsl_kdd_scores.pkl\".format(master), \"VAE with label (using MSE loss)\")"
   ]
  },
  {
   "cell_type": "markdown",
   "metadata": {
    "nbpresent": {
     "id": "93a1c0ae-00d0-4878-b175-623a9935d426"
    },
    "slideshow": {
     "slide_type": "slide"
    }
   },
   "source": [
    "# LSTM Autoencoder Model\n",
    "\n",
    "LSTM Autoencoder, aka Seq2Seq, model is generally used to predict sequences of numbers (time dependent) given another sequence of numbers. LSTM encoders generates a context vector using input sequence which is passed on to decoder to generate the output.  \n",
    "We coupled LSTM decoder cells with Softmax layer to generate probability whether current session is Normal or Attack  \n",
    "\n",
    "\n",
    "![LSTM Encoder Decoder Model](images/LSTMseq2seq_withsoftmax.jpg)"
   ]
  },
  {
   "cell_type": "code",
   "execution_count": 14,
   "metadata": {
    "ExecuteTime": {
     "end_time": "2017-06-01T17:40:30.230916Z",
     "start_time": "2017-06-01T17:40:29.796474Z"
    },
    "nbpresent": {
     "id": "b357855c-ff4f-4b65-81f5-b1805f98cced"
    },
    "slideshow": {
     "slide_type": "subslide"
    }
   },
   "outputs": [
    {
     "name": "stdout",
     "output_type": "stream",
     "text": [
      "dataset/tf_lstm_nsl_kdd_predictions.pkl\n",
      "Best model choosen is: Epochs:10 Number of Features:122 Hidden Layers:2\n"
     ]
    },
    {
     "data": {
      "text/html": [
       "<div>\n",
       "<table border=\"1\" class=\"dataframe\">\n",
       "  <thead>\n",
       "    <tr style=\"text-align: right;\">\n",
       "      <th></th>\n",
       "      <th>epoch</th>\n",
       "      <th>no_of_features</th>\n",
       "      <th>hidden_layers</th>\n",
       "      <th>train_score</th>\n",
       "      <th>test_score</th>\n",
       "      <th>time_taken</th>\n",
       "    </tr>\n",
       "  </thead>\n",
       "  <tbody>\n",
       "    <tr>\n",
       "      <th>0</th>\n",
       "      <td>10</td>\n",
       "      <td>122</td>\n",
       "      <td>2</td>\n",
       "      <td>0.999206</td>\n",
       "      <td>0.995830</td>\n",
       "      <td>9.976430</td>\n",
       "    </tr>\n",
       "    <tr>\n",
       "      <th>1</th>\n",
       "      <td>10</td>\n",
       "      <td>122</td>\n",
       "      <td>4</td>\n",
       "      <td>0.988093</td>\n",
       "      <td>0.941270</td>\n",
       "      <td>200.224591</td>\n",
       "    </tr>\n",
       "    <tr>\n",
       "      <th>2</th>\n",
       "      <td>10</td>\n",
       "      <td>122</td>\n",
       "      <td>6</td>\n",
       "      <td>0.995714</td>\n",
       "      <td>0.780296</td>\n",
       "      <td>210.623815</td>\n",
       "    </tr>\n",
       "  </tbody>\n",
       "</table>\n",
       "</div>"
      ],
      "text/plain": [
       "   epoch  no_of_features  hidden_layers  train_score  test_score  time_taken\n",
       "0     10             122              2     0.999206    0.995830    9.976430\n",
       "1     10             122              4     0.988093    0.941270  200.224591\n",
       "2     10             122              6     0.995714    0.780296  210.623815"
      ]
     },
     "execution_count": 14,
     "metadata": {},
     "output_type": "execute_result"
    },
    {
     "data": {
      "image/png": "[encoded data removed]",
      "text/plain": [
       "<matplotlib.figure.Figure at 0x7ff50eed1208>"
      ]
     },
     "metadata": {},
     "output_type": "display_data"
    }
   ],
   "source": [
    "evaluate(\"dataset/{}tf_lstm_nsl_kdd_predictions.pkl\".format(master),\n",
    "         \"dataset/{}tf_lstm_nsl_kdd_scores.pkl\".format(master), \"LSTM Autoencoder (Seq2Seq)\")"
   ]
  },
  {
   "cell_type": "code",
   "execution_count": null,
   "metadata": {
    "ExecuteTime": {
     "end_time": "2017-06-01T17:40:30.452553Z",
     "start_time": "2017-06-01T17:40:30.232493Z"
    }
   },
   "outputs": [],
   "source": [
    "evaluate(\"dataset/{}tf_lstm_nsl_kdd_predictions-.pkl\".format(master),\n",
    "         \"dataset/{}tf_lstm_nsl_kdd_scores-.pkl\".format(master), \"LSTM Autoencoder (Seq2Seq) 20% Data\")"
   ]
  },
  {
   "cell_type": "markdown",
   "metadata": {
    "nbpresent": {
     "id": "76d423a9-d1c1-41be-9eea-37efcd760698"
    },
    "slideshow": {
     "slide_type": "slide"
    }
   },
   "source": [
    "# Generative Adversarial Networks\n",
    "\n",
    "## General Concept\n",
    "\n",
    "GANs utilizes two networks, Generator and Discriminator, to learn about data distribution by generating the data itself.\n",
    "- Generator Network is responsible to produce data of interest using random values.\n",
    "- Discriminator Network is responsible to identify between fake data produced by Generator and Actual sample of data.\n",
    "\n",
    "The optimized state of GANs is when Generator starts to produce enough realistic data so discriminator cannot distinguish between real data and generated data\n",
    "\n",
    "\n",
    "\n",
    "![Generative Advarsarial Networks](images/NSL_KDD_GAN_original_idea.jpg)"
   ]
  },
  {
   "cell_type": "markdown",
   "metadata": {
    "nbpresent": {
     "id": "51c2878f-3084-4b90-90a0-47b521aa2b72"
    },
    "slideshow": {
     "slide_type": "slide"
    }
   },
   "source": [
    "## GANs - For Hypothesis testing\n",
    "\n",
    "We suggest a learning model where GANs can be used for Hypothesis testing. Assume we have 2 data distributions D1 and D2:\n",
    "- Generator will be responsible to produce D2 distribution using random values\n",
    "- Discriminiator will be responsible to distinguish between D1 and D2 distributions.  \n",
    "\n",
    "Basically, discriminator will output probability between 0~1 whether current data is D1 or not. In this way we can decide a significance level based on which it can be decided to either Accept or Reject Null hypothesis i.e. whether current data is D1 or not.\n",
    "\n",
    "![GAN_hypo_optim_state](images/NSL_KDD_GAN_initial_state.jpg)\n",
    "![GAN_hypo_optim_state](images/NSL_KDD_GAN_hypo_optim_state.jpg)"
   ]
  },
  {
   "cell_type": "markdown",
   "metadata": {
    "nbpresent": {
     "id": "42ada2ab-373d-4ad8-a029-ecffaa76bb9f"
    },
    "slideshow": {
     "slide_type": "slide"
    }
   },
   "source": [
    "### GANs for NSL KDD dataset \n",
    "\n",
    "\n",
    "\n",
    "![GANs for NSL KDD dataset ](images/NSL_KDD_GAN_attack_hypothesis.jpg)"
   ]
  },
  {
   "cell_type": "markdown",
   "metadata": {
    "nbpresent": {
     "id": "ae6e2a6d-a258-412f-9d50-53bf77e2f622"
    },
    "slideshow": {
     "slide_type": "slide"
    }
   },
   "source": [
    "# Compare Results"
   ]
  },
  {
   "cell_type": "code",
   "execution_count": null,
   "metadata": {
    "ExecuteTime": {
     "end_time": "2017-06-01T17:40:30.453238Z",
     "start_time": "2017-06-01T17:40:24.904Z"
    },
    "collapsed": true,
    "nbpresent": {
     "id": "7478d10f-09bf-4090-95cd-f0021c756136"
    },
    "slideshow": {
     "slide_type": "skip"
    }
   },
   "outputs": [],
   "source": [
    "#accumulate_test_scores['param'] = accumulate_test_scores[['epoch','no_of_features', 'hidden_layers']].apply(lambda x : 'epoch:{}_features:{}_layers:{}'.format(x[0],x[1], x[2]), axis=1)\n",
    "accumulate_test_scores['Scenarios'] = accumulate_test_scores[['no_of_features', 'hidden_layers']].apply(lambda x : 'features:{}_layers:{}'.format(x[0], x[1]), axis=1)\n",
    "accumulate_test_time['Scenarios'] = accumulate_test_time[['no_of_features', 'hidden_layers']].apply(lambda x : 'features:{}_layers:{}'.format(x[0], x[1]), axis=1)\n"
   ]
  },
  {
   "cell_type": "code",
   "execution_count": null,
   "metadata": {
    "ExecuteTime": {
     "end_time": "2017-06-01T17:40:30.454067Z",
     "start_time": "2017-06-01T17:40:24.907Z"
    },
    "collapsed": true,
    "nbpresent": {
     "id": "0f797418-3425-4061-98fb-6bfdfb254c72"
    },
    "slideshow": {
     "slide_type": "skip"
    }
   },
   "outputs": [],
   "source": [
    "accumulate_test_scores = accumulate_test_scores.drop(['epoch','no_of_features', 'hidden_layers'], axis = 1)\n",
    "accumulate_test_time = accumulate_test_time.drop(['epoch','no_of_features', 'hidden_layers'], axis = 1)"
   ]
  },
  {
   "cell_type": "code",
   "execution_count": null,
   "metadata": {
    "ExecuteTime": {
     "end_time": "2017-06-01T17:40:30.454706Z",
     "start_time": "2017-06-01T17:40:24.911Z"
    },
    "collapsed": true,
    "nbpresent": {
     "id": "af94558b-d4d2-4e1e-8478-4d36504c8c51"
    },
    "slideshow": {
     "slide_type": "skip"
    }
   },
   "outputs": [],
   "source": [
    "accumulate_test_scores.set_index(\"Scenarios\", inplace = True)\n",
    "accumulate_test_time.set_index(\"Scenarios\", inplace = True)"
   ]
  },
  {
   "cell_type": "code",
   "execution_count": null,
   "metadata": {
    "ExecuteTime": {
     "end_time": "2017-06-01T17:40:30.455404Z",
     "start_time": "2017-06-01T17:40:24.918Z"
    },
    "nbpresent": {
     "id": "d0352ed5-d35e-421e-b41f-64e6be58b0e3"
    },
    "slideshow": {
     "slide_type": "subslide"
    }
   },
   "outputs": [],
   "source": [
    "accumulate_test_scores.replace(np.nan, '<Not Tested>', regex=True)"
   ]
  },
  {
   "cell_type": "code",
   "execution_count": null,
   "metadata": {
    "ExecuteTime": {
     "end_time": "2017-06-01T17:40:30.456065Z",
     "start_time": "2017-06-01T17:40:24.922Z"
    },
    "nbpresent": {
     "id": "d2b7cd6f-82d4-47f5-bf2f-0a8b003947ad"
    },
    "slideshow": {
     "slide_type": "subslide"
    }
   },
   "outputs": [],
   "source": [
    "f = plt.figure()\n",
    "accumulate_test_scores.plot(kind='bar', figsize=(15,4), ax=f.gca(),grid=True, )\n",
    "plt.legend(loc='center left', bbox_to_anchor=(1.0, 0.5))\n",
    "plt.title(\"Test Accuracy\")\n",
    "plt.show()"
   ]
  },
  {
   "cell_type": "code",
   "execution_count": null,
   "metadata": {
    "ExecuteTime": {
     "end_time": "2017-06-01T17:40:30.456777Z",
     "start_time": "2017-06-01T17:40:24.925Z"
    },
    "collapsed": true,
    "nbpresent": {
     "id": "5eed33c1-30c4-4447-8067-f97c5a110d97"
    },
    "slideshow": {
     "slide_type": "skip"
    }
   },
   "outputs": [],
   "source": [
    "accumulate_test_scores.to_csv(\"dataset/{}scores.csv\".format(master))"
   ]
  },
  {
   "cell_type": "code",
   "execution_count": null,
   "metadata": {
    "ExecuteTime": {
     "end_time": "2017-06-01T17:40:30.457411Z",
     "start_time": "2017-06-01T17:40:24.933Z"
    },
    "nbpresent": {
     "id": "226a0ba1-e79a-4ba2-8e27-23d447d1ec1e"
    },
    "slideshow": {
     "slide_type": "skip"
    }
   },
   "outputs": [],
   "source": [
    "accumulate_test_time.replace(np.nan, '<Not Tested>', regex=True)"
   ]
  },
  {
   "cell_type": "code",
   "execution_count": null,
   "metadata": {
    "ExecuteTime": {
     "end_time": "2017-06-01T17:40:30.458125Z",
     "start_time": "2017-06-01T17:40:24.937Z"
    }
   },
   "outputs": [],
   "source": [
    "f = plt.figure()\n",
    "accumulate_test_time.plot(kind='bar', figsize=(15,4), ax=f.gca(),grid=True, )\n",
    "plt.legend(loc='center left', bbox_to_anchor=(1.0, 0.5))\n",
    "plt.title('Time required for Training (in secs)')\n",
    "plt.show()"
   ]
  },
  {
   "cell_type": "code",
   "execution_count": null,
   "metadata": {
    "ExecuteTime": {
     "end_time": "2017-06-01T17:40:30.458756Z",
     "start_time": "2017-06-01T17:40:24.941Z"
    },
    "collapsed": true
   },
   "outputs": [],
   "source": [
    "accumulate_test_time.to_csv(\"dataset/{}time.csv\".format(master))"
   ]
  }
 ],
 "metadata": {
  "_draft": {
   "nbviewer_url": "https://gist.github.com/93fa75f3f9285b1ba4670c28a417c10c"
  },
  "anaconda-cloud": {},
  "celltoolbar": "Slideshow",
  "gist": {
   "data": {
    "description": "With True Positive, True Negative, Type I & II errors",
    "public": false
   },
   "id": "93fa75f3f9285b1ba4670c28a417c10c"
  },
  "kernelspec": {
   "display_name": "Python [conda env:p3]",
   "language": "python",
   "name": "conda-env-p3-py"
  },
  "language_info": {
   "codemirror_mode": {
    "name": "ipython",
    "version": 3
   },
   "file_extension": ".py",
   "mimetype": "text/x-python",
   "name": "python",
   "nbconvert_exporter": "python",
   "pygments_lexer": "ipython3",
   "version": "3.6.1"
  },
  "nbpresent": {
   "slides": {
    "465daa31-826a-4f9c-8612-f5248561e27a": {
     "id": "465daa31-826a-4f9c-8612-f5248561e27a",
     "prev": null,
     "regions": {
      "7f9bea92-5d12-4214-8baf-1ddd8e29581d": {
       "attrs": {
        "height": 1,
        "width": 1,
        "x": 0,
        "y": 0
       },
       "content": {
        "cell": "c59ff496-7575-4402-b20b-20db68a3540f",
        "part": "source"
       },
       "id": "7f9bea92-5d12-4214-8baf-1ddd8e29581d"
      }
     }
    },
    "760681d5-7308-42c1-833a-01ffb8a76cfc": {
     "id": "760681d5-7308-42c1-833a-01ffb8a76cfc",
     "layout": "manual",
     "prev": "465daa31-826a-4f9c-8612-f5248561e27a",
     "regions": {
      "6409a8d4-b4b2-41fc-84c8-e136ddceb555": {
       "attrs": {
        "height": 0.4864994026284349,
        "width": 0.4913978494623656,
        "x": 0.0064516129032258064,
        "y": 0.49761146953405017
       },
       "content": {
        "cell": "5dbceeca-6499-4cb0-834d-4db5462bd427",
        "part": "outputs"
       },
       "id": "6409a8d4-b4b2-41fc-84c8-e136ddceb555"
      },
      "8190449a-cc49-4dc9-89e2-79031a7103e4": {
       "attrs": {
        "height": 0.4769414575866189,
        "width": 0.4838709677419355,
        "x": 0.5064516129032258,
        "y": 0.495699880525687
       },
       "content": {
        "cell": "35966131-eebf-4da9-962f-4d4d71000afe",
        "part": "outputs"
       },
       "id": "8190449a-cc49-4dc9-89e2-79031a7103e4"
      },
      "eb015708-540c-4ff8-8d93-880739f5a207": {
       "attrs": {
        "height": 0.47120669056152925,
        "width": 0.989247311827957,
        "x": 0.0032258064516129032,
        "y": 0.010155297491039427
       },
       "content": {
        "cell": "8744ff16-810a-4f78-9d46-f01feb5ce35e",
        "part": "source"
       },
       "id": "eb015708-540c-4ff8-8d93-880739f5a207"
      }
     }
    },
    "99702eec-7996-4128-8b4f-29679d686a6d": {
     "id": "99702eec-7996-4128-8b4f-29679d686a6d",
     "prev": "760681d5-7308-42c1-833a-01ffb8a76cfc",
     "regions": {
      "f020b0ef-f71f-4904-8eb3-05adca2cab3e": {
       "attrs": {
        "height": 1,
        "width": 1,
        "x": 0,
        "y": 0
       },
       "content": {
        "cell": "c67b5de0-d0f8-427e-8b34-0dad203d61d7",
        "part": "source"
       },
       "id": "f020b0ef-f71f-4904-8eb3-05adca2cab3e"
      }
     }
    }
   },
   "themes": {
    "default": "4c5fcccd-eb25-41be-99f3-040a2d43a641",
    "theme": {
     "4c5fcccd-eb25-41be-99f3-040a2d43a641": {
      "backgrounds": {
       "dc7afa04-bf90-40b1-82a5-726e3cff5267": {
        "background-color": "31af15d2-7e15-44c5-ab5e-e04b16a89eff",
        "id": "dc7afa04-bf90-40b1-82a5-726e3cff5267"
       }
      },
      "id": "4c5fcccd-eb25-41be-99f3-040a2d43a641",
      "palette": {
       "19cc588f-0593-49c9-9f4b-e4d7cc113b1c": {
        "id": "19cc588f-0593-49c9-9f4b-e4d7cc113b1c",
        "rgb": [
         252,
         252,
         252
        ]
       },
       "31af15d2-7e15-44c5-ab5e-e04b16a89eff": {
        "id": "31af15d2-7e15-44c5-ab5e-e04b16a89eff",
        "rgb": [
         68,
         68,
         68
        ]
       },
       "50f92c45-a630-455b-aec3-788680ec7410": {
        "id": "50f92c45-a630-455b-aec3-788680ec7410",
        "rgb": [
         197,
         226,
         245
        ]
       },
       "c5cc3653-2ee1-402a-aba2-7caae1da4f6c": {
        "id": "c5cc3653-2ee1-402a-aba2-7caae1da4f6c",
        "rgb": [
         43,
         126,
         184
        ]
       },
       "efa7f048-9acb-414c-8b04-a26811511a21": {
        "id": "efa7f048-9acb-414c-8b04-a26811511a21",
        "rgb": [
         25.118061674008803,
         73.60176211453744,
         107.4819383259912
        ]
       }
      },
      "rules": {
       "a": {
        "color": "19cc588f-0593-49c9-9f4b-e4d7cc113b1c"
       },
       "blockquote": {
        "color": "50f92c45-a630-455b-aec3-788680ec7410",
        "font-size": 3
       },
       "code": {
        "font-family": "Anonymous Pro"
       },
       "h1": {
        "color": "19cc588f-0593-49c9-9f4b-e4d7cc113b1c",
        "font-family": "Merriweather",
        "font-size": 8
       },
       "h2": {
        "color": "19cc588f-0593-49c9-9f4b-e4d7cc113b1c",
        "font-family": "Merriweather",
        "font-size": 6
       },
       "h3": {
        "color": "50f92c45-a630-455b-aec3-788680ec7410",
        "font-family": "Lato",
        "font-size": 5.5
       },
       "h4": {
        "color": "c5cc3653-2ee1-402a-aba2-7caae1da4f6c",
        "font-family": "Lato",
        "font-size": 5
       },
       "h5": {
        "font-family": "Lato"
       },
       "h6": {
        "font-family": "Lato"
       },
       "h7": {
        "font-family": "Lato"
       },
       "li": {
        "color": "50f92c45-a630-455b-aec3-788680ec7410",
        "font-size": 3.25
       },
       "pre": {
        "font-family": "Anonymous Pro",
        "font-size": 4
       }
      },
      "text-base": {
       "color": "19cc588f-0593-49c9-9f4b-e4d7cc113b1c",
       "font-family": "Lato",
       "font-size": 4
      }
     }
    }
   }
  },
  "widgets": {
   "application/vnd.jupyter.widget-state+json": {
    "state": {},
    "version_major": 1,
    "version_minor": 0
   }
  }
 },
 "nbformat": 4,
 "nbformat_minor": 2
}
