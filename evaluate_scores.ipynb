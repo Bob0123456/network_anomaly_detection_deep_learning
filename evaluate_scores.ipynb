{
 "cells": [
  {
   "cell_type": "markdown",
   "metadata": {},
   "source": [
    "# Hello, _nbpresent_!"
   ]
  },
  {
   "cell_type": "code",
   "execution_count": null,
   "metadata": {
    "collapsed": true
   },
   "outputs": [],
   "source": [
    "import nbpresent\n",
    "nbpresent.__version__"
   ]
  },
  {
   "cell_type": "markdown",
   "metadata": {
    "nbpresent": {
     "id": "c59ff496-7575-4402-b20b-20db68a3540f"
    },
    "slideshow": {
     "slide_type": "slide"
    }
   },
   "source": [
    "# Deep Learning for NSL KDD dataset\n",
    "\n",
    "< Fill in with details of architectures that will be used>"
   ]
  },
  {
   "cell_type": "code",
   "execution_count": 1,
   "metadata": {
    "ExecuteTime": {
     "end_time": "2017-05-29T21:32:48.549487Z",
     "start_time": "2017-05-29T21:32:48.152712Z"
    },
    "collapsed": true,
    "nbpresent": {
     "id": "ac2268be-ef2d-4348-be47-904e281e0511"
    },
    "slideshow": {
     "slide_type": "skip"
    }
   },
   "outputs": [],
   "source": [
    "import pandas as pd\n",
    "import numpy as np\n",
    "pd.set_option(\"display.max_rows\",100)\n",
    "%matplotlib inline"
   ]
  },
  {
   "cell_type": "code",
   "execution_count": 2,
   "metadata": {
    "ExecuteTime": {
     "end_time": "2017-05-29T21:32:48.555630Z",
     "start_time": "2017-05-29T21:32:48.550979Z"
    },
    "collapsed": true,
    "nbpresent": {
     "id": "a9549f94-67aa-448d-8d2c-3ab11677f860"
    },
    "slideshow": {
     "slide_type": "skip"
    }
   },
   "outputs": [],
   "source": [
    "#kdd_diff_level_train = pd.read_pickle(\"dataset/kdd_diff_level_train.pkl\")\n",
    "#kdd_diff_level_test = pd.read_pickle(\"dataset/kdd_diff_level_test.pkl\")\n",
    "#output_columns_2labels = ['Normal','Attack']\n",
    "output_columns_2labels = ['Attack','Normal']\n",
    "actual_value = pd.read_pickle(\"dataset/kdd_test_2labels_y.pkl\");\n"
   ]
  },
  {
   "cell_type": "code",
   "execution_count": 3,
   "metadata": {
    "ExecuteTime": {
     "end_time": "2017-05-29T21:32:48.628696Z",
     "start_time": "2017-05-29T21:32:48.557248Z"
    },
    "collapsed": true,
    "nbpresent": {
     "id": "6da8ab16-c580-4890-a2e2-a723568500a3"
    },
    "slideshow": {
     "slide_type": "skip"
    }
   },
   "outputs": [],
   "source": [
    "import numpy as np\n",
    "import matplotlib.pyplot as plt\n",
    "import itertools\n",
    "\n",
    "def plot_confusion_matrix(cm, classes,\n",
    "                          normalize=False,\n",
    "                          title='Confusion matrix',\n",
    "                          cmap=plt.cm.Blues):\n",
    "    \"\"\"\n",
    "    This function prints and plots the confusion matrix.\n",
    "    Normalization can be applied by setting `normalize=True`.\n",
    "    \"\"\"\n",
    "    np.set_printoptions(precision=4)\n",
    "\n",
    "    plt.imshow(cm, interpolation='nearest', cmap=cmap)\n",
    "    plt.title(title)\n",
    "    plt.colorbar()\n",
    "    tick_marks = np.arange(len(classes))\n",
    "    plt.xticks(tick_marks, classes, rotation=45)\n",
    "    plt.yticks(tick_marks, classes)\n",
    "\n",
    "    if normalize:\n",
    "        cm = cm.astype('float') / cm.sum(axis=1)[:, np.newaxis]\n",
    "        print(\"Normalized confusion matrix\")\n",
    "    else:\n",
    "        print('Confusion matrix, without normalization')\n",
    "\n",
    "    print(cm)\n",
    "\n",
    "    label = [[\"\\n True Positive\", \"\\n False Negative \\n Type II Error\"],\n",
    "             [\"\\n False Positive \\n Type I Error\", \"\\n True Negative\"]\n",
    "            ]\n",
    "    \n",
    "    thresh = cm.max() / 2.\n",
    "    for i, j in itertools.product(range(cm.shape[0]), range(cm.shape[1])):\n",
    "        \n",
    "        plt.text(j, i, \"{} {}\".format(cm[i, j].round(4), label[i][j]),\n",
    "                 horizontalalignment=\"center\",\n",
    "                 color=\"white\" if cm[i, j] > thresh else \"black\")\n",
    "\n",
    "    plt.tight_layout()\n",
    "    plt.ylabel('True label')\n",
    "    plt.xlabel('Predicted label')\n",
    "\n",
    "def plot(pred_value):\n",
    "    from sklearn.metrics import confusion_matrix\n",
    "\n",
    "    cm_2labels = confusion_matrix(y_pred = pred_value, y_true = actual_value)\n",
    "    plt.figure(figsize=[6,6])\n",
    "    plot_confusion_matrix(cm_2labels, output_columns_2labels, normalize = True)"
   ]
  },
  {
   "cell_type": "code",
   "execution_count": 4,
   "metadata": {
    "ExecuteTime": {
     "end_time": "2017-05-29T21:32:48.644749Z",
     "start_time": "2017-05-29T21:32:48.630330Z"
    },
    "collapsed": true,
    "nbpresent": {
     "id": "dc327101-f063-4204-aebf-bdcfdbb52961"
    },
    "slideshow": {
     "slide_type": "skip"
    }
   },
   "outputs": [],
   "source": [
    "def get_count(pred_value):\n",
    "    difficulty = pd.DataFrame({\"Actual\":actual_value, \"Predict\":pred_value, \"difficulty_level\":kdd_diff_level_test})\n",
    "    #difficulty = pd.concat(difficulty, pd.Data)\n",
    "    difficulty['accuracy'] = None\n",
    "    difficulty.ix[difficulty.Actual == difficulty.Predict, \"accuracy\"] = 'Correct'\n",
    "    difficulty.ix[difficulty.Actual != difficulty.Predict, \"accuracy\"] = 'Incorrect'\n",
    "    diff_group = difficulty.loc[:,[\"difficulty_level\", \"accuracy\", \"Predict\"]].groupby([\"difficulty_level\", \"accuracy\"])\n",
    "    total_correct = sum(difficulty.Actual == difficulty.Predict)\n",
    "    total_records = difficulty.shape[0]\n",
    "    total_incorrect = total_records - total_correct\n",
    "    print(\"Total Records:{}\".format(total_records))\n",
    "    return diff_group.count()"
   ]
  },
  {
   "cell_type": "code",
   "execution_count": 5,
   "metadata": {
    "ExecuteTime": {
     "end_time": "2017-05-29T21:32:48.652207Z",
     "start_time": "2017-05-29T21:32:48.646349Z"
    },
    "collapsed": true,
    "nbpresent": {
     "id": "91e05ba0-d86f-4fcf-8088-3f12c7d94802"
    },
    "slideshow": {
     "slide_type": "skip"
    }
   },
   "outputs": [],
   "source": [
    "scores = pd.read_pickle(\"dataset/tf_vae_dense_trained_together_nsl_kdd_scores.pkl\")\n",
    "accumulate_test_scores = scores.iloc[:,0:3]\n",
    "#accumulate_test_scores"
   ]
  },
  {
   "cell_type": "code",
   "execution_count": 6,
   "metadata": {
    "ExecuteTime": {
     "end_time": "2017-05-29T21:32:48.687744Z",
     "start_time": "2017-05-29T21:32:48.653811Z"
    },
    "collapsed": true,
    "nbpresent": {
     "id": "d6b24543-bbf1-4826-b17d-dd735d08d01b"
    },
    "slideshow": {
     "slide_type": "skip"
    }
   },
   "outputs": [],
   "source": [
    "def evaluate(pred_pkl, score_pkl, name = 'DNN'):\n",
    "    global accumulate_test_scores\n",
    "    predictions = pd.read_pickle(pred_pkl)\n",
    "    scores = pd.read_pickle(score_pkl)\n",
    "    \n",
    "    accumulate_test_scores = pd.concat([accumulate_test_scores, \n",
    "                                        pd.DataFrame({\"{}_test_score\"\n",
    "                                                                  .format(name):\n",
    "                                                                  scores.loc[:,\"test_score\"]})], \n",
    "                                       axis = 1,)\n",
    "    #accumulate_test_scores = accumulate_test_scores.rename(columns = {\"test_score\":\"{}_test_score\".format(name)})\n",
    "    #print(scores.sort_values(\"test_score\", ascending=False))\n",
    "\n",
    "    df_sorted = scores.sort_values(\"test_score\", ascending=False).iloc[0,0:3]\n",
    "    epoch = int(df_sorted['epoch'])\n",
    "    n_o_f = int(df_sorted['no_of_features'])\n",
    "    h_l = int(df_sorted['hidden_layers'])\n",
    "    print(\"Best model choosen is: Epochs:{} Number of Features:{} Hidden Layers:{}\".format(epoch,n_o_f,h_l))\n",
    "    df_pred = predictions[\"{}_{}_{}\".format(epoch,n_o_f,h_l)] #.round(2)\n",
    "    Attack_index = actual_value == 0\n",
    "    Normal_index = actual_value == 1\n",
    "\n",
    "    #df_pred[Attack_index].plot(kind='line', figsize=(20,5), title=\"Prediction of Attack\")\n",
    "    #df_pred[Normal_index].plot(kind='line', figsize=(20,5), title=\"Prediction of Normal\")\n",
    "    \n",
    "    pred_value = df_pred[\"Prediction\"] #np.argmax(df_pred.values, axis=1)\n",
    "    plot(pred_value)\n",
    "    return scores.sort_values(\"test_score\", ascending=False)"
   ]
  },
  {
   "cell_type": "markdown",
   "metadata": {
    "nbpresent": {
     "id": "1cdf93b2-90b9-49f1-b624-141ada99d3c9"
    },
    "slideshow": {
     "slide_type": "slide"
    }
   },
   "source": [
    "# Evaluating Dense Network\n",
    "\n",
    "![Fully Connected Network](images/NSL_KDD_FullyConnectedNetwork.jpg)\n",
    "\n",
    "< Explain the strategy >"
   ]
  },
  {
   "cell_type": "code",
   "execution_count": 7,
   "metadata": {
    "ExecuteTime": {
     "end_time": "2017-05-29T21:32:49.347204Z",
     "start_time": "2017-05-29T21:32:48.689154Z"
    },
    "nbpresent": {
     "id": "3a6c2944-2893-4d44-88d8-606a7745c93f"
    },
    "slideshow": {
     "slide_type": "subslide"
    }
   },
   "outputs": [
    {
     "name": "stdout",
     "output_type": "stream",
     "text": [
      "Best model choosen is: Epochs:100 Number of Features:32 Hidden Layers:4\n",
      "Normalized confusion matrix\n",
      "[[ 0.9078  0.0922]\n",
      " [ 0.1311  0.8689]]\n"
     ]
    },
    {
     "data": {
      "text/html": [
       "<div>\n",
       "<table border=\"1\" class=\"dataframe\">\n",
       "  <thead>\n",
       "    <tr style=\"text-align: right;\">\n",
       "      <th></th>\n",
       "      <th>epoch</th>\n",
       "      <th>no_of_features</th>\n",
       "      <th>hidden_layers</th>\n",
       "      <th>train_score</th>\n",
       "      <th>test_score</th>\n",
       "    </tr>\n",
       "  </thead>\n",
       "  <tbody>\n",
       "    <tr>\n",
       "      <th>6</th>\n",
       "      <td>100</td>\n",
       "      <td>32</td>\n",
       "      <td>4</td>\n",
       "      <td>0.872043</td>\n",
       "      <td>0.891057</td>\n",
       "    </tr>\n",
       "    <tr>\n",
       "      <th>3</th>\n",
       "      <td>100</td>\n",
       "      <td>64</td>\n",
       "      <td>2</td>\n",
       "      <td>0.859501</td>\n",
       "      <td>0.890614</td>\n",
       "    </tr>\n",
       "    <tr>\n",
       "      <th>1</th>\n",
       "      <td>100</td>\n",
       "      <td>8</td>\n",
       "      <td>2</td>\n",
       "      <td>0.887760</td>\n",
       "      <td>0.888707</td>\n",
       "    </tr>\n",
       "    <tr>\n",
       "      <th>10</th>\n",
       "      <td>100</td>\n",
       "      <td>32</td>\n",
       "      <td>6</td>\n",
       "      <td>0.908239</td>\n",
       "      <td>0.887952</td>\n",
       "    </tr>\n",
       "    <tr>\n",
       "      <th>7</th>\n",
       "      <td>100</td>\n",
       "      <td>64</td>\n",
       "      <td>4</td>\n",
       "      <td>0.905223</td>\n",
       "      <td>0.886710</td>\n",
       "    </tr>\n",
       "    <tr>\n",
       "      <th>11</th>\n",
       "      <td>100</td>\n",
       "      <td>64</td>\n",
       "      <td>6</td>\n",
       "      <td>0.933720</td>\n",
       "      <td>0.883472</td>\n",
       "    </tr>\n",
       "    <tr>\n",
       "      <th>9</th>\n",
       "      <td>100</td>\n",
       "      <td>8</td>\n",
       "      <td>6</td>\n",
       "      <td>0.910541</td>\n",
       "      <td>0.860451</td>\n",
       "    </tr>\n",
       "    <tr>\n",
       "      <th>2</th>\n",
       "      <td>100</td>\n",
       "      <td>32</td>\n",
       "      <td>2</td>\n",
       "      <td>0.944674</td>\n",
       "      <td>0.847809</td>\n",
       "    </tr>\n",
       "    <tr>\n",
       "      <th>0</th>\n",
       "      <td>100</td>\n",
       "      <td>4</td>\n",
       "      <td>2</td>\n",
       "      <td>0.956501</td>\n",
       "      <td>0.827715</td>\n",
       "    </tr>\n",
       "    <tr>\n",
       "      <th>4</th>\n",
       "      <td>100</td>\n",
       "      <td>4</td>\n",
       "      <td>4</td>\n",
       "      <td>0.954199</td>\n",
       "      <td>0.806024</td>\n",
       "    </tr>\n",
       "    <tr>\n",
       "      <th>5</th>\n",
       "      <td>100</td>\n",
       "      <td>8</td>\n",
       "      <td>4</td>\n",
       "      <td>0.953643</td>\n",
       "      <td>0.791031</td>\n",
       "    </tr>\n",
       "    <tr>\n",
       "      <th>8</th>\n",
       "      <td>100</td>\n",
       "      <td>4</td>\n",
       "      <td>6</td>\n",
       "      <td>0.946420</td>\n",
       "      <td>0.727333</td>\n",
       "    </tr>\n",
       "  </tbody>\n",
       "</table>\n",
       "</div>"
      ],
      "text/plain": [
       "    epoch  no_of_features  hidden_layers  train_score  test_score\n",
       "6     100              32              4     0.872043    0.891057\n",
       "3     100              64              2     0.859501    0.890614\n",
       "1     100               8              2     0.887760    0.888707\n",
       "10    100              32              6     0.908239    0.887952\n",
       "7     100              64              4     0.905223    0.886710\n",
       "11    100              64              6     0.933720    0.883472\n",
       "9     100               8              6     0.910541    0.860451\n",
       "2     100              32              2     0.944674    0.847809\n",
       "0     100               4              2     0.956501    0.827715\n",
       "4     100               4              4     0.954199    0.806024\n",
       "5     100               8              4     0.953643    0.791031\n",
       "8     100               4              6     0.946420    0.727333"
      ]
     },
     "execution_count": 7,
     "metadata": {},
     "output_type": "execute_result"
    },
    {
     "data": {
      "image/png": "[encoded data removed]",
      "text/plain": [
       "<matplotlib.figure.Figure at 0x7f5abc061ac8>"
      ]
     },
     "metadata": {},
     "output_type": "display_data"
    }
   ],
   "source": [
    "evaluate(\"dataset/tf_dense_only_nsl_kdd_predictions.pkl\",\n",
    "         \"dataset/tf_dense_only_nsl_kdd_scores.pkl\", \"DenseNetwork\")"
   ]
  },
  {
   "cell_type": "markdown",
   "metadata": {
    "nbpresent": {
     "id": "a474a32b-ac75-4127-847b-5b6a54768b22"
    },
    "slideshow": {
     "slide_type": "slide"
    }
   },
   "source": [
    "# VAE with Softmax\n",
    "\n",
    "![VAE with Softmax](images/VAE_withSoftmax.jpg)\n",
    "\n",
    "< Explain the strategy >"
   ]
  },
  {
   "cell_type": "code",
   "execution_count": 8,
   "metadata": {
    "ExecuteTime": {
     "end_time": "2017-05-29T21:32:49.685063Z",
     "start_time": "2017-05-29T21:32:49.348667Z"
    },
    "nbpresent": {
     "id": "2faa93e3-932d-4dec-a1d4-6b6550904965"
    },
    "scrolled": false,
    "slideshow": {
     "slide_type": "subslide"
    }
   },
   "outputs": [
    {
     "name": "stdout",
     "output_type": "stream",
     "text": [
      "Best model choosen is: Epochs:100 Number of Features:32 Hidden Layers:2\n",
      "Normalized confusion matrix\n",
      "[[ 0.9458  0.0542]\n",
      " [ 0.1395  0.8605]]\n"
     ]
    },
    {
     "data": {
      "text/html": [
       "<div>\n",
       "<table border=\"1\" class=\"dataframe\">\n",
       "  <thead>\n",
       "    <tr style=\"text-align: right;\">\n",
       "      <th></th>\n",
       "      <th>epoch</th>\n",
       "      <th>no_of_features</th>\n",
       "      <th>hidden_layers</th>\n",
       "      <th>train_score</th>\n",
       "      <th>test_score</th>\n",
       "    </tr>\n",
       "  </thead>\n",
       "  <tbody>\n",
       "    <tr>\n",
       "      <th>3</th>\n",
       "      <td>100</td>\n",
       "      <td>32</td>\n",
       "      <td>2</td>\n",
       "      <td>0.894503</td>\n",
       "      <td>0.909022</td>\n",
       "    </tr>\n",
       "    <tr>\n",
       "      <th>2</th>\n",
       "      <td>100</td>\n",
       "      <td>16</td>\n",
       "      <td>2</td>\n",
       "      <td>0.898035</td>\n",
       "      <td>0.906317</td>\n",
       "    </tr>\n",
       "    <tr>\n",
       "      <th>0</th>\n",
       "      <td>100</td>\n",
       "      <td>4</td>\n",
       "      <td>2</td>\n",
       "      <td>0.867156</td>\n",
       "      <td>0.885646</td>\n",
       "    </tr>\n",
       "    <tr>\n",
       "      <th>6</th>\n",
       "      <td>100</td>\n",
       "      <td>16</td>\n",
       "      <td>4</td>\n",
       "      <td>0.911649</td>\n",
       "      <td>0.877883</td>\n",
       "    </tr>\n",
       "    <tr>\n",
       "      <th>5</th>\n",
       "      <td>100</td>\n",
       "      <td>8</td>\n",
       "      <td>4</td>\n",
       "      <td>0.926057</td>\n",
       "      <td>0.871984</td>\n",
       "    </tr>\n",
       "    <tr>\n",
       "      <th>10</th>\n",
       "      <td>100</td>\n",
       "      <td>16</td>\n",
       "      <td>6</td>\n",
       "      <td>0.849097</td>\n",
       "      <td>0.867504</td>\n",
       "    </tr>\n",
       "    <tr>\n",
       "      <th>4</th>\n",
       "      <td>100</td>\n",
       "      <td>4</td>\n",
       "      <td>4</td>\n",
       "      <td>0.829927</td>\n",
       "      <td>0.861870</td>\n",
       "    </tr>\n",
       "    <tr>\n",
       "      <th>9</th>\n",
       "      <td>100</td>\n",
       "      <td>8</td>\n",
       "      <td>6</td>\n",
       "      <td>0.909268</td>\n",
       "      <td>0.857567</td>\n",
       "    </tr>\n",
       "    <tr>\n",
       "      <th>1</th>\n",
       "      <td>100</td>\n",
       "      <td>8</td>\n",
       "      <td>2</td>\n",
       "      <td>0.826751</td>\n",
       "      <td>0.852244</td>\n",
       "    </tr>\n",
       "    <tr>\n",
       "      <th>11</th>\n",
       "      <td>100</td>\n",
       "      <td>32</td>\n",
       "      <td>6</td>\n",
       "      <td>0.945704</td>\n",
       "      <td>0.847853</td>\n",
       "    </tr>\n",
       "    <tr>\n",
       "      <th>8</th>\n",
       "      <td>100</td>\n",
       "      <td>4</td>\n",
       "      <td>6</td>\n",
       "      <td>0.764040</td>\n",
       "      <td>0.833393</td>\n",
       "    </tr>\n",
       "    <tr>\n",
       "      <th>7</th>\n",
       "      <td>100</td>\n",
       "      <td>32</td>\n",
       "      <td>4</td>\n",
       "      <td>0.922326</td>\n",
       "      <td>0.800967</td>\n",
       "    </tr>\n",
       "  </tbody>\n",
       "</table>\n",
       "</div>"
      ],
      "text/plain": [
       "    epoch  no_of_features  hidden_layers  train_score  test_score\n",
       "3     100              32              2     0.894503    0.909022\n",
       "2     100              16              2     0.898035    0.906317\n",
       "0     100               4              2     0.867156    0.885646\n",
       "6     100              16              4     0.911649    0.877883\n",
       "5     100               8              4     0.926057    0.871984\n",
       "10    100              16              6     0.849097    0.867504\n",
       "4     100               4              4     0.829927    0.861870\n",
       "9     100               8              6     0.909268    0.857567\n",
       "1     100               8              2     0.826751    0.852244\n",
       "11    100              32              6     0.945704    0.847853\n",
       "8     100               4              6     0.764040    0.833393\n",
       "7     100              32              4     0.922326    0.800967"
      ]
     },
     "execution_count": 8,
     "metadata": {},
     "output_type": "execute_result"
    },
    {
     "data": {
      "image/png": "[encoded data removed]",
      "text/plain": [
       "<matplotlib.figure.Figure at 0x7f5a813a0ac8>"
      ]
     },
     "metadata": {},
     "output_type": "display_data"
    }
   ],
   "source": [
    "evaluate(\"dataset/tf_vae_dense_trained_together_nsl_kdd_predictions.pkl\",\n",
    "         \"dataset/tf_vae_dense_trained_together_nsl_kdd_scores.pkl\", \"VAE_with_Softmax\")"
   ]
  },
  {
   "cell_type": "markdown",
   "metadata": {
    "nbpresent": {
     "id": "c4ef37f2-b016-4b0e-a3c9-aa38478fc6eb"
    },
    "slideshow": {
     "slide_type": "slide"
    }
   },
   "source": [
    "# VAE with Label \n",
    "\n",
    "![VAE with Softmax](images/VAE_withLabel.jpg)\n",
    "\n",
    "< explain the strategy >"
   ]
  },
  {
   "cell_type": "markdown",
   "metadata": {
    "nbpresent": {
     "id": "7d9c7d57-0cb5-4eb4-969f-959d0a3ae352"
    },
    "slideshow": {
     "slide_type": "subslide"
    }
   },
   "source": [
    "## using VAE Loss\n",
    "\n",
    "< explain the variation >"
   ]
  },
  {
   "cell_type": "code",
   "execution_count": 9,
   "metadata": {
    "ExecuteTime": {
     "end_time": "2017-05-29T21:32:50.012656Z",
     "start_time": "2017-05-29T21:32:49.686514Z"
    },
    "nbpresent": {
     "id": "a4c7d76b-0be6-4bd2-9b00-208e08d86ca7"
    },
    "scrolled": false,
    "slideshow": {
     "slide_type": "subslide"
    }
   },
   "outputs": [
    {
     "name": "stdout",
     "output_type": "stream",
     "text": [
      "Best model choosen is: Epochs:100 Number of Features:4 Hidden Layers:4\n",
      "Normalized confusion matrix\n",
      "[[ 0.9083  0.0917]\n",
      " [ 0.1098  0.8902]]\n"
     ]
    },
    {
     "data": {
      "text/html": [
       "<div>\n",
       "<table border=\"1\" class=\"dataframe\">\n",
       "  <thead>\n",
       "    <tr style=\"text-align: right;\">\n",
       "      <th></th>\n",
       "      <th>epoch</th>\n",
       "      <th>no_of_features</th>\n",
       "      <th>hidden_layers</th>\n",
       "      <th>train_score</th>\n",
       "      <th>test_score</th>\n",
       "    </tr>\n",
       "  </thead>\n",
       "  <tbody>\n",
       "    <tr>\n",
       "      <th>4</th>\n",
       "      <td>100</td>\n",
       "      <td>4</td>\n",
       "      <td>4</td>\n",
       "      <td>0.905620</td>\n",
       "      <td>0.900506</td>\n",
       "    </tr>\n",
       "    <tr>\n",
       "      <th>8</th>\n",
       "      <td>100</td>\n",
       "      <td>4</td>\n",
       "      <td>6</td>\n",
       "      <td>0.862756</td>\n",
       "      <td>0.886622</td>\n",
       "    </tr>\n",
       "    <tr>\n",
       "      <th>9</th>\n",
       "      <td>100</td>\n",
       "      <td>8</td>\n",
       "      <td>6</td>\n",
       "      <td>0.852278</td>\n",
       "      <td>0.885291</td>\n",
       "    </tr>\n",
       "    <tr>\n",
       "      <th>11</th>\n",
       "      <td>100</td>\n",
       "      <td>32</td>\n",
       "      <td>6</td>\n",
       "      <td>0.920464</td>\n",
       "      <td>0.873137</td>\n",
       "    </tr>\n",
       "    <tr>\n",
       "      <th>5</th>\n",
       "      <td>100</td>\n",
       "      <td>8</td>\n",
       "      <td>4</td>\n",
       "      <td>0.887442</td>\n",
       "      <td>0.863911</td>\n",
       "    </tr>\n",
       "    <tr>\n",
       "      <th>10</th>\n",
       "      <td>100</td>\n",
       "      <td>16</td>\n",
       "      <td>6</td>\n",
       "      <td>0.931815</td>\n",
       "      <td>0.863290</td>\n",
       "    </tr>\n",
       "    <tr>\n",
       "      <th>7</th>\n",
       "      <td>100</td>\n",
       "      <td>32</td>\n",
       "      <td>4</td>\n",
       "      <td>0.886649</td>\n",
       "      <td>0.862092</td>\n",
       "    </tr>\n",
       "    <tr>\n",
       "      <th>6</th>\n",
       "      <td>100</td>\n",
       "      <td>16</td>\n",
       "      <td>4</td>\n",
       "      <td>0.919273</td>\n",
       "      <td>0.856148</td>\n",
       "    </tr>\n",
       "    <tr>\n",
       "      <th>3</th>\n",
       "      <td>100</td>\n",
       "      <td>32</td>\n",
       "      <td>2</td>\n",
       "      <td>0.939197</td>\n",
       "      <td>0.855438</td>\n",
       "    </tr>\n",
       "    <tr>\n",
       "      <th>0</th>\n",
       "      <td>100</td>\n",
       "      <td>4</td>\n",
       "      <td>2</td>\n",
       "      <td>0.917130</td>\n",
       "      <td>0.850603</td>\n",
       "    </tr>\n",
       "    <tr>\n",
       "      <th>2</th>\n",
       "      <td>100</td>\n",
       "      <td>16</td>\n",
       "      <td>2</td>\n",
       "      <td>0.942134</td>\n",
       "      <td>0.842708</td>\n",
       "    </tr>\n",
       "    <tr>\n",
       "      <th>1</th>\n",
       "      <td>100</td>\n",
       "      <td>8</td>\n",
       "      <td>2</td>\n",
       "      <td>0.929433</td>\n",
       "      <td>0.801943</td>\n",
       "    </tr>\n",
       "  </tbody>\n",
       "</table>\n",
       "</div>"
      ],
      "text/plain": [
       "    epoch  no_of_features  hidden_layers  train_score  test_score\n",
       "4     100               4              4     0.905620    0.900506\n",
       "8     100               4              6     0.862756    0.886622\n",
       "9     100               8              6     0.852278    0.885291\n",
       "11    100              32              6     0.920464    0.873137\n",
       "5     100               8              4     0.887442    0.863911\n",
       "10    100              16              6     0.931815    0.863290\n",
       "7     100              32              4     0.886649    0.862092\n",
       "6     100              16              4     0.919273    0.856148\n",
       "3     100              32              2     0.939197    0.855438\n",
       "0     100               4              2     0.917130    0.850603\n",
       "2     100              16              2     0.942134    0.842708\n",
       "1     100               8              2     0.929433    0.801943"
      ]
     },
     "execution_count": 9,
     "metadata": {},
     "output_type": "execute_result"
    },
    {
     "data": {
      "image/png": "[encoded data removed]",
      "text/plain": [
       "<matplotlib.figure.Figure at 0x7f5a8d726128>"
      ]
     },
     "metadata": {},
     "output_type": "display_data"
    }
   ],
   "source": [
    "evaluate(\"dataset/tf_vae_only_vae_loss_nsl_kdd_predictions.pkl\",\n",
    "         \"dataset/tf_vae_only_vae_loss_nsl_kdd_scores.pkl\", \"VAE_with_label\")"
   ]
  },
  {
   "cell_type": "markdown",
   "metadata": {
    "nbpresent": {
     "id": "77e87c15-2fa9-42e3-a422-16e7a4fcd394"
    },
    "slideshow": {
     "slide_type": "subslide"
    }
   },
   "source": [
    "## Using MSE Loss"
   ]
  },
  {
   "cell_type": "code",
   "execution_count": 10,
   "metadata": {
    "ExecuteTime": {
     "end_time": "2017-05-29T21:32:50.355859Z",
     "start_time": "2017-05-29T21:32:50.014478Z"
    },
    "nbpresent": {
     "id": "6c54a49d-2138-49dd-a863-40f4b4b7036b"
    },
    "slideshow": {
     "slide_type": "subslide"
    }
   },
   "outputs": [
    {
     "name": "stdout",
     "output_type": "stream",
     "text": [
      "Best model choosen is: Epochs:100 Number of Features:4 Hidden Layers:4\n",
      "Normalized confusion matrix\n",
      "[[ 0.9436  0.0564]\n",
      " [ 0.1529  0.8471]]\n"
     ]
    },
    {
     "data": {
      "text/html": [
       "<div>\n",
       "<table border=\"1\" class=\"dataframe\">\n",
       "  <thead>\n",
       "    <tr style=\"text-align: right;\">\n",
       "      <th></th>\n",
       "      <th>epoch</th>\n",
       "      <th>no_of_features</th>\n",
       "      <th>hidden_layers</th>\n",
       "      <th>train_score</th>\n",
       "      <th>test_score</th>\n",
       "    </tr>\n",
       "  </thead>\n",
       "  <tbody>\n",
       "    <tr>\n",
       "      <th>4</th>\n",
       "      <td>100</td>\n",
       "      <td>4</td>\n",
       "      <td>4</td>\n",
       "      <td>0.870694</td>\n",
       "      <td>0.902014</td>\n",
       "    </tr>\n",
       "    <tr>\n",
       "      <th>5</th>\n",
       "      <td>100</td>\n",
       "      <td>8</td>\n",
       "      <td>4</td>\n",
       "      <td>0.943880</td>\n",
       "      <td>0.888086</td>\n",
       "    </tr>\n",
       "    <tr>\n",
       "      <th>9</th>\n",
       "      <td>100</td>\n",
       "      <td>8</td>\n",
       "      <td>6</td>\n",
       "      <td>0.927766</td>\n",
       "      <td>0.866749</td>\n",
       "    </tr>\n",
       "    <tr>\n",
       "      <th>8</th>\n",
       "      <td>100</td>\n",
       "      <td>4</td>\n",
       "      <td>6</td>\n",
       "      <td>0.959994</td>\n",
       "      <td>0.843506</td>\n",
       "    </tr>\n",
       "    <tr>\n",
       "      <th>2</th>\n",
       "      <td>100</td>\n",
       "      <td>16</td>\n",
       "      <td>2</td>\n",
       "      <td>0.943562</td>\n",
       "      <td>0.837961</td>\n",
       "    </tr>\n",
       "    <tr>\n",
       "      <th>11</th>\n",
       "      <td>100</td>\n",
       "      <td>32</td>\n",
       "      <td>6</td>\n",
       "      <td>0.921337</td>\n",
       "      <td>0.837917</td>\n",
       "    </tr>\n",
       "    <tr>\n",
       "      <th>10</th>\n",
       "      <td>100</td>\n",
       "      <td>16</td>\n",
       "      <td>6</td>\n",
       "      <td>0.914351</td>\n",
       "      <td>0.836631</td>\n",
       "    </tr>\n",
       "    <tr>\n",
       "      <th>1</th>\n",
       "      <td>100</td>\n",
       "      <td>8</td>\n",
       "      <td>2</td>\n",
       "      <td>0.913161</td>\n",
       "      <td>0.832150</td>\n",
       "    </tr>\n",
       "    <tr>\n",
       "      <th>6</th>\n",
       "      <td>100</td>\n",
       "      <td>16</td>\n",
       "      <td>4</td>\n",
       "      <td>0.959438</td>\n",
       "      <td>0.823589</td>\n",
       "    </tr>\n",
       "    <tr>\n",
       "      <th>0</th>\n",
       "      <td>100</td>\n",
       "      <td>4</td>\n",
       "      <td>2</td>\n",
       "      <td>0.954517</td>\n",
       "      <td>0.821017</td>\n",
       "    </tr>\n",
       "    <tr>\n",
       "      <th>7</th>\n",
       "      <td>100</td>\n",
       "      <td>32</td>\n",
       "      <td>4</td>\n",
       "      <td>0.892364</td>\n",
       "      <td>0.803096</td>\n",
       "    </tr>\n",
       "    <tr>\n",
       "      <th>3</th>\n",
       "      <td>100</td>\n",
       "      <td>32</td>\n",
       "      <td>2</td>\n",
       "      <td>0.956501</td>\n",
       "      <td>0.789966</td>\n",
       "    </tr>\n",
       "  </tbody>\n",
       "</table>\n",
       "</div>"
      ],
      "text/plain": [
       "    epoch  no_of_features  hidden_layers  train_score  test_score\n",
       "4     100               4              4     0.870694    0.902014\n",
       "5     100               8              4     0.943880    0.888086\n",
       "9     100               8              6     0.927766    0.866749\n",
       "8     100               4              6     0.959994    0.843506\n",
       "2     100              16              2     0.943562    0.837961\n",
       "11    100              32              6     0.921337    0.837917\n",
       "10    100              16              6     0.914351    0.836631\n",
       "1     100               8              2     0.913161    0.832150\n",
       "6     100              16              4     0.959438    0.823589\n",
       "0     100               4              2     0.954517    0.821017\n",
       "7     100              32              4     0.892364    0.803096\n",
       "3     100              32              2     0.956501    0.789966"
      ]
     },
     "execution_count": 10,
     "metadata": {},
     "output_type": "execute_result"
    },
    {
     "data": {
      "image/png": "[encoded data removed]",
      "text/plain": [
       "<matplotlib.figure.Figure at 0x7f5a8d671b00>"
      ]
     },
     "metadata": {},
     "output_type": "display_data"
    }
   ],
   "source": [
    "evaluate(\"dataset/tf_vae_only_nsl_kdd_predictions.pkl\",\n",
    "         \"dataset/tf_vae_only_nsl_kdd_scores.pkl\", \"VAE_with_label_MSE_loss\")"
   ]
  },
  {
   "cell_type": "markdown",
   "metadata": {
    "nbpresent": {
     "id": "ae6e2a6d-a258-412f-9d50-53bf77e2f622"
    },
    "slideshow": {
     "slide_type": "slide"
    }
   },
   "source": [
    "# Compare Results"
   ]
  },
  {
   "cell_type": "code",
   "execution_count": 11,
   "metadata": {
    "ExecuteTime": {
     "end_time": "2017-05-29T21:32:50.363523Z",
     "start_time": "2017-05-29T21:32:50.357323Z"
    },
    "collapsed": true,
    "nbpresent": {
     "id": "7478d10f-09bf-4090-95cd-f0021c756136"
    },
    "slideshow": {
     "slide_type": "skip"
    }
   },
   "outputs": [],
   "source": [
    "accumulate_test_scores['param'] = accumulate_test_scores[['epoch','no_of_features', 'hidden_layers']].apply(lambda x : '{}_{}_{}'.format(x[0],x[1], x[2]), axis=1)"
   ]
  },
  {
   "cell_type": "code",
   "execution_count": 12,
   "metadata": {
    "ExecuteTime": {
     "end_time": "2017-05-29T21:32:50.369925Z",
     "start_time": "2017-05-29T21:32:50.365098Z"
    },
    "collapsed": true,
    "nbpresent": {
     "id": "0f797418-3425-4061-98fb-6bfdfb254c72"
    },
    "slideshow": {
     "slide_type": "skip"
    }
   },
   "outputs": [],
   "source": [
    "accumulate_test_scores = accumulate_test_scores.drop(['epoch','no_of_features', 'hidden_layers'], axis = 1)"
   ]
  },
  {
   "cell_type": "code",
   "execution_count": 13,
   "metadata": {
    "ExecuteTime": {
     "end_time": "2017-05-29T21:32:50.375291Z",
     "start_time": "2017-05-29T21:32:50.371572Z"
    },
    "collapsed": true,
    "nbpresent": {
     "id": "af94558b-d4d2-4e1e-8478-4d36504c8c51"
    },
    "slideshow": {
     "slide_type": "skip"
    }
   },
   "outputs": [],
   "source": [
    "accumulate_test_scores.set_index(\"param\", inplace = True)"
   ]
  },
  {
   "cell_type": "code",
   "execution_count": 14,
   "metadata": {
    "ExecuteTime": {
     "end_time": "2017-05-29T21:32:50.388167Z",
     "start_time": "2017-05-29T21:32:50.376686Z"
    },
    "nbpresent": {
     "id": "d0352ed5-d35e-421e-b41f-64e6be58b0e3"
    },
    "slideshow": {
     "slide_type": "subslide"
    }
   },
   "outputs": [
    {
     "data": {
      "text/html": [
       "<div>\n",
       "<table border=\"1\" class=\"dataframe\">\n",
       "  <thead>\n",
       "    <tr style=\"text-align: right;\">\n",
       "      <th></th>\n",
       "      <th>DenseNetwork_test_score</th>\n",
       "      <th>VAE_with_Softmax_test_score</th>\n",
       "      <th>VAE_with_label_test_score</th>\n",
       "      <th>VAE_with_label_MSE_loss_test_score</th>\n",
       "    </tr>\n",
       "    <tr>\n",
       "      <th>param</th>\n",
       "      <th></th>\n",
       "      <th></th>\n",
       "      <th></th>\n",
       "      <th></th>\n",
       "    </tr>\n",
       "  </thead>\n",
       "  <tbody>\n",
       "    <tr>\n",
       "      <th>100_4_2</th>\n",
       "      <td>0.827715</td>\n",
       "      <td>0.885646</td>\n",
       "      <td>0.850603</td>\n",
       "      <td>0.821017</td>\n",
       "    </tr>\n",
       "    <tr>\n",
       "      <th>100_8_2</th>\n",
       "      <td>0.888707</td>\n",
       "      <td>0.852244</td>\n",
       "      <td>0.801943</td>\n",
       "      <td>0.832150</td>\n",
       "    </tr>\n",
       "    <tr>\n",
       "      <th>100_16_2</th>\n",
       "      <td>0.847809</td>\n",
       "      <td>0.906317</td>\n",
       "      <td>0.842708</td>\n",
       "      <td>0.837961</td>\n",
       "    </tr>\n",
       "    <tr>\n",
       "      <th>100_32_2</th>\n",
       "      <td>0.890614</td>\n",
       "      <td>0.909022</td>\n",
       "      <td>0.855438</td>\n",
       "      <td>0.789966</td>\n",
       "    </tr>\n",
       "    <tr>\n",
       "      <th>100_4_4</th>\n",
       "      <td>0.806024</td>\n",
       "      <td>0.861870</td>\n",
       "      <td>0.900506</td>\n",
       "      <td>0.902014</td>\n",
       "    </tr>\n",
       "    <tr>\n",
       "      <th>100_8_4</th>\n",
       "      <td>0.791031</td>\n",
       "      <td>0.871984</td>\n",
       "      <td>0.863911</td>\n",
       "      <td>0.888086</td>\n",
       "    </tr>\n",
       "    <tr>\n",
       "      <th>100_16_4</th>\n",
       "      <td>0.891057</td>\n",
       "      <td>0.877883</td>\n",
       "      <td>0.856148</td>\n",
       "      <td>0.823589</td>\n",
       "    </tr>\n",
       "    <tr>\n",
       "      <th>100_32_4</th>\n",
       "      <td>0.886710</td>\n",
       "      <td>0.800967</td>\n",
       "      <td>0.862092</td>\n",
       "      <td>0.803096</td>\n",
       "    </tr>\n",
       "    <tr>\n",
       "      <th>100_4_6</th>\n",
       "      <td>0.727333</td>\n",
       "      <td>0.833393</td>\n",
       "      <td>0.886622</td>\n",
       "      <td>0.843506</td>\n",
       "    </tr>\n",
       "    <tr>\n",
       "      <th>100_8_6</th>\n",
       "      <td>0.860451</td>\n",
       "      <td>0.857567</td>\n",
       "      <td>0.885291</td>\n",
       "      <td>0.866749</td>\n",
       "    </tr>\n",
       "    <tr>\n",
       "      <th>100_16_6</th>\n",
       "      <td>0.887952</td>\n",
       "      <td>0.867504</td>\n",
       "      <td>0.863290</td>\n",
       "      <td>0.836631</td>\n",
       "    </tr>\n",
       "    <tr>\n",
       "      <th>100_32_6</th>\n",
       "      <td>0.883472</td>\n",
       "      <td>0.847853</td>\n",
       "      <td>0.873137</td>\n",
       "      <td>0.837917</td>\n",
       "    </tr>\n",
       "  </tbody>\n",
       "</table>\n",
       "</div>"
      ],
      "text/plain": [
       "          DenseNetwork_test_score  VAE_with_Softmax_test_score  \\\n",
       "param                                                            \n",
       "100_4_2                  0.827715                     0.885646   \n",
       "100_8_2                  0.888707                     0.852244   \n",
       "100_16_2                 0.847809                     0.906317   \n",
       "100_32_2                 0.890614                     0.909022   \n",
       "100_4_4                  0.806024                     0.861870   \n",
       "100_8_4                  0.791031                     0.871984   \n",
       "100_16_4                 0.891057                     0.877883   \n",
       "100_32_4                 0.886710                     0.800967   \n",
       "100_4_6                  0.727333                     0.833393   \n",
       "100_8_6                  0.860451                     0.857567   \n",
       "100_16_6                 0.887952                     0.867504   \n",
       "100_32_6                 0.883472                     0.847853   \n",
       "\n",
       "          VAE_with_label_test_score  VAE_with_label_MSE_loss_test_score  \n",
       "param                                                                    \n",
       "100_4_2                    0.850603                            0.821017  \n",
       "100_8_2                    0.801943                            0.832150  \n",
       "100_16_2                   0.842708                            0.837961  \n",
       "100_32_2                   0.855438                            0.789966  \n",
       "100_4_4                    0.900506                            0.902014  \n",
       "100_8_4                    0.863911                            0.888086  \n",
       "100_16_4                   0.856148                            0.823589  \n",
       "100_32_4                   0.862092                            0.803096  \n",
       "100_4_6                    0.886622                            0.843506  \n",
       "100_8_6                    0.885291                            0.866749  \n",
       "100_16_6                   0.863290                            0.836631  \n",
       "100_32_6                   0.873137                            0.837917  "
      ]
     },
     "execution_count": 14,
     "metadata": {},
     "output_type": "execute_result"
    }
   ],
   "source": [
    "accumulate_test_scores"
   ]
  },
  {
   "cell_type": "code",
   "execution_count": 15,
   "metadata": {
    "ExecuteTime": {
     "end_time": "2017-05-29T21:32:50.859390Z",
     "start_time": "2017-05-29T21:32:50.389522Z"
    },
    "nbpresent": {
     "id": "d2b7cd6f-82d4-47f5-bf2f-0a8b003947ad"
    },
    "slideshow": {
     "slide_type": "subslide"
    }
   },
   "outputs": [
    {
     "data": {
      "image/png": "[encoded data removed]",
      "text/plain": [
       "<matplotlib.figure.Figure at 0x7f5a81350320>"
      ]
     },
     "metadata": {},
     "output_type": "display_data"
    }
   ],
   "source": [
    "f = plt.figure()\n",
    "accumulate_test_scores.plot(kind='bar', figsize=(15,4), ax=f.gca(),grid=True, )\n",
    "plt.legend(loc='center left', bbox_to_anchor=(1.0, 0.5))\n",
    "plt.show()"
   ]
  },
  {
   "cell_type": "code",
   "execution_count": 16,
   "metadata": {
    "ExecuteTime": {
     "end_time": "2017-05-29T21:32:50.864254Z",
     "start_time": "2017-05-29T21:32:50.860861Z"
    },
    "collapsed": true,
    "nbpresent": {
     "id": "5eed33c1-30c4-4447-8067-f97c5a110d97"
    },
    "slideshow": {
     "slide_type": "skip"
    }
   },
   "outputs": [],
   "source": [
    "accumulate_test_scores.to_csv(\"dataset/results.csv\")"
   ]
  },
  {
   "cell_type": "code",
   "execution_count": null,
   "metadata": {
    "collapsed": true,
    "nbpresent": {
     "id": "226a0ba1-e79a-4ba2-8e27-23d447d1ec1e"
    }
   },
   "outputs": [],
   "source": []
  }
 ],
 "metadata": {
  "_draft": {
   "nbviewer_url": "https://gist.github.com/93fa75f3f9285b1ba4670c28a417c10c"
  },
  "anaconda-cloud": {},
  "celltoolbar": "Slideshow",
  "gist": {
   "data": {
    "description": "With True Positive, True Negative, Type I & II errors",
    "public": false
   },
   "id": "93fa75f3f9285b1ba4670c28a417c10c"
  },
  "kernelspec": {
   "display_name": "Python [default]",
   "language": "python",
   "name": "python3"
  },
  "language_info": {
   "codemirror_mode": {
    "name": "ipython",
    "version": 3
   },
   "file_extension": ".py",
   "mimetype": "text/x-python",
   "name": "python",
   "nbconvert_exporter": "python",
   "pygments_lexer": "ipython3",
   "version": "3.5.3"
  },
  "nbpresent": {
   "slides": {
    "3a419963-d7b3-4295-8765-5577c842ab30": {
     "id": "3a419963-d7b3-4295-8765-5577c842ab30",
     "prev": null,
     "regions": {
      "f2fe9b5e-2eff-4f19-8047-98c0c5de1439": {
       "attrs": {
        "height": 1,
        "width": 1,
        "x": 0,
        "y": 0
       },
       "id": "f2fe9b5e-2eff-4f19-8047-98c0c5de1439"
      }
     }
    },
    "95beb128-0450-448c-800f-e022ef926a9f": {
     "id": "95beb128-0450-448c-800f-e022ef926a9f",
     "prev": "3a419963-d7b3-4295-8765-5577c842ab30",
     "regions": {
      "0a626d1c-d87d-4ef2-9c92-24e5598a6804": {
       "attrs": {
        "height": 1,
        "width": 1,
        "x": 0,
        "y": 0
       },
       "id": "0a626d1c-d87d-4ef2-9c92-24e5598a6804"
      }
     }
    }
   },
   "themes": {}
  }
 },
 "nbformat": 4,
 "nbformat_minor": 2
}
