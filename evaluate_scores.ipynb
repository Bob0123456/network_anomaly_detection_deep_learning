{
 "cells": [
  {
   "cell_type": "code",
   "execution_count": 1,
   "metadata": {
    "ExecuteTime": {
     "end_time": "2017-07-28T13:23:19.398816Z",
     "start_time": "2017-07-28T13:23:05.808251Z"
    }
   },
   "outputs": [
    {
     "name": "stdout",
     "output_type": "stream",
     "text": [
      "Automatic pdb calling has been turned ON\n"
     ]
    }
   ],
   "source": [
    "import pandas as pd\n",
    "import numpy as np\n",
    "import warnings\n",
    "from scipy import stats\n",
    "from IPython.display import display, HTML\n",
    "from sklearn import metrics as me\n",
    "from sklearn.preprocessing import label_binarize\n",
    "warnings.filterwarnings('ignore')\n",
    "pd.set_option(\"display.max_rows\",20)\n",
    "pd.set_option('precision', 4)\n",
    "import numpy as np\n",
    "import matplotlib.pyplot as plt\n",
    "import matplotlib\n",
    "from sklearn.preprocessing import OneHotEncoder\n",
    "from itertools import cycle\n",
    "from matplotlib import cm\n",
    "\n",
    "%pdb\n",
    "%matplotlib inline"
   ]
  },
  {
   "cell_type": "code",
   "execution_count": 2,
   "metadata": {
    "ExecuteTime": {
     "end_time": "2017-07-28T13:23:19.405114Z",
     "start_time": "2017-07-28T13:23:19.400478Z"
    },
    "collapsed": true,
    "slideshow": {
     "slide_type": "skip"
    }
   },
   "outputs": [],
   "source": [
    "cmap = cm.get_cmap('Blues_r')\n",
    "matplotlib.style.use('ggplot')\n",
    "#print(plt.style.available)\n",
    "matplotlib.rcParams['font.family'] = \"Times New Roman\"\n",
    "matplotlib.rcParams.update({'figure.autolayout': True})\n"
   ]
  },
  {
   "cell_type": "code",
   "execution_count": 3,
   "metadata": {
    "ExecuteTime": {
     "end_time": "2017-07-28T13:23:19.478917Z",
     "start_time": "2017-07-28T13:23:19.406494Z"
    },
    "collapsed": true,
    "slideshow": {
     "slide_type": "skip"
    }
   },
   "outputs": [],
   "source": [
    "\n",
    "\n",
    "import itertools\n",
    "#matplotlib.rcParams['figure.figsize'] = (15.0, 5.0)\n",
    "\n",
    "\n",
    "def plot_confusion_matrix(cm, classes,\n",
    "                          normalize=False,\n",
    "                          append = \"\",\n",
    "                          cmap=plt.cm.Blues):\n",
    "    \"\"\"\n",
    "    This function prints and plots the confusion matrix.\n",
    "    Normalization can be applied by setting `normalize=True`.\n",
    "    \"\"\"\n",
    "    title='Confusion matrix {}'.format(append)\n",
    "    np.set_printoptions(precision=4)\n",
    "\n",
    "    plt.imshow(cm, interpolation='nearest', cmap=cmap)\n",
    "    plt.title(title)\n",
    "    plt.colorbar()\n",
    "    tick_marks = np.arange(len(classes))\n",
    "    plt.xticks(tick_marks, classes, rotation=45)\n",
    "    plt.yticks(tick_marks, classes)\n",
    "\n",
    "    if normalize:\n",
    "        cm = cm.astype('float') / cm.sum(axis=1)[:, np.newaxis]\n",
    "        #print(\"Normalized confusion matrix\")\n",
    "    else:\n",
    "        #print('Confusion matrix, without normalization')\n",
    "        pass\n",
    "    \n",
    "    #print(cm)\n",
    "\n",
    "    label = [[\"\\n True Negative\", \"\\n False Positive \"],\n",
    "             [\"\\n False Negative \", \"\\n True Positive\"]\n",
    "            ]\n",
    "    \n",
    "    thresh = cm.max() / 2.\n",
    "    for i, j in itertools.product(range(cm.shape[0]), range(cm.shape[1])):\n",
    "        \n",
    "        plt.text(j, i, \"{} {}\".format(cm[i, j].round(4), label[i][j]),\n",
    "                 horizontalalignment=\"center\",\n",
    "                 color=\"white\" if cm[i, j] > thresh else \"black\")\n",
    "\n",
    "    plt.tight_layout()\n",
    "    plt.ylabel('True label')\n",
    "    plt.xlabel('Predicted label')\n",
    "\n",
    "def plot(actual_value, pred_value, scenario):\n",
    "    from sklearn.metrics import confusion_matrix\n",
    "    append = '{}; \\n Total Normal traffic:{}, \\n Total Attack Traffic: {}'.format(scenario, \n",
    "                                                                            actual_value.groupby(actual_value).count()[0], \n",
    "                                                                           actual_value.groupby(actual_value).count()[1])\n",
    "    \n",
    "    cm_2labels = confusion_matrix(y_pred = pred_value, y_true = actual_value)\n",
    "    plt.figure(figsize=[6,6])\n",
    "    plot_confusion_matrix(cm_2labels, ['Normal', 'Attack'], normalize = False, append = append)\n"
   ]
  },
  {
   "cell_type": "code",
   "execution_count": null,
   "metadata": {
    "ExecuteTime": {
     "start_time": "2017-07-28T13:23:07.625Z"
    },
    "collapsed": true,
    "slideshow": {
     "slide_type": "skip"
    }
   },
   "outputs": [],
   "source": [
    "result_config={}\n",
    "\n",
    "def evaluate_lstm(model, past_scores, predictions):\n",
    "    return evaluate(model, past_scores, predictions, 'LSTM')\n",
    "\n",
    "lstm_result = []\n",
    "\n",
    "def display_and_save(name, plot):\n",
    "    fig = plot.get_figure()\n",
    "    #fig.savefig(\"result_plots/{}.eps\".format(name.replace(\":\",\"\").strip()), format='eps', dpi=1000)\n",
    "    #fig.savefig(\"result_plots/{}.png\".format(name.replace(\":\",\"\").strip()), format='png', dpi=1000)\n",
    "    display(plot)\n",
    "\n",
    "def evaluate(model, past_scores, predictions, model_type='AE'):\n",
    "    all_scenarios = pd.DataFrame(columns=['Model','Scenarios', 'Number of Features', 'Accuracy', 'Quality Score', 'Precision', 'Recall'])\n",
    "\n",
    "    \n",
    "    def get_best_df(past_scores):\n",
    "        psg = past_scores.sort_values(by='quality_score', ascending=False).groupby(by=['no_of_features', 'hidden_layers'])\n",
    "        df = psg.first().sort_values(by='quality_score', ascending=False)\n",
    "        #df = past_scores.sort_values(by='key')#[past_scores.key == '20151201']\n",
    "\n",
    "        return df\n",
    "    def get_median_df(past_scores):\n",
    "        psg = past_scores.sort_values(by='quality_score', ascending=False).groupby(by=['no_of_features', 'hidden_layers'])\n",
    "        df = psg.nth(int(psg.size()[0]/2)).sort_values(by='quality_score', ascending=False)\n",
    "        return df\n",
    "    def get_worst_df(past_scores):\n",
    "        psg = past_scores.sort_values(by='quality_score', ascending=False).groupby(by=['no_of_features', 'hidden_layers'])\n",
    "        df = psg.last().sort_values(by='quality_score', ascending=False)\n",
    "        return df\n",
    "    \n",
    "    def get_result(past_scores, which='best'):\n",
    "        if which == 'best':\n",
    "            df = get_best_df(past_scores)\n",
    "        elif which == 'median':\n",
    "            df = get_median_df(past_scores)\n",
    "        elif which == 'worst':\n",
    "            df = get_worst_df(past_scores)\n",
    "            \n",
    "        #epoch_nof_hidden\n",
    "        key = \"20151221\" #int(df.iloc[0]['key'])\n",
    "        nof = df.iloc[0].name[0]\n",
    "        hidden = df.iloc[0].name[1]\n",
    "        \n",
    "        return \"{}_{}_{}\".format(key, nof, hidden), nof, df\n",
    "\n",
    "    def view_data(name, past_scores, which):\n",
    "        _, _, df = get_result(past_scores, which)\n",
    "        display(name)\n",
    "        display(df)\n",
    "        \n",
    "        group_by = 'no_of_features'\n",
    "        if(model_type == 'LSTM'):\n",
    "            group_by = 'hidden_layers'\n",
    "        df1 = df.reset_index().sort_values(by='quality_score', ascending=False).groupby(by=[group_by])\n",
    "        \n",
    "        df1 = df1.first().loc[:,['quality_score', 'time_taken']]\n",
    "        df1 = df1.rename(index={1:\"One\", 4:\"10%\", 8:\"20%\", 16:\"40%\", 42:\"All\"})\n",
    "        plot = df1.plot(secondary_y = 'time_taken', title=name)#,figsize=(10, 10))\n",
    "        display_and_save(name, plot)\n",
    "        return df1\n",
    "        \n",
    "    #display(\"Individual Results for each Scenario:-\")    \n",
    "    r_best = view_data(\"   Results for {}: Best case\".format(model),past_scores, 'best')\n",
    "    r_avg = view_data(\"   Results for {}: General case\".format(model),past_scores,'median')\n",
    "    r_worst = view_data(\"   Results for {}: Worst case\".format(model),past_scores,'worst')\n",
    "    \n",
    "    global result_config\n",
    "    result_config = {\"Best\":r_best, \"Average\":r_avg, \"Worst\":r_worst}\n",
    "    \n",
    "    def get_score(y_true, y_pred):\n",
    "        f1 = me.matthews_corrcoef(y_true, y_pred)\n",
    "        pre = me.precision_score(y_true, y_pred)\n",
    "        rec = me.recall_score(y_true, y_pred)\n",
    "        acc = me.accuracy_score(y_true, y_pred)\n",
    "        #plot_auc(y_true, y_pred)\n",
    "        return {\"Quality Score\":f1, \"Precision\":pre, \"Recall\":rec, \"Accuracy\":acc}\n",
    "    \n",
    "    display(\"Combined Results from all Scenarios for {}\".format(model))\n",
    "\n",
    "    def plot_auc(y_true, y_pred):\n",
    "        y_true = y_true.astype(type(\"\"))\n",
    "        y_pred = y_pred.astype(type(\"\"))\n",
    "        \n",
    "        y_true_oh = pd.get_dummies(y_true).values\n",
    "        y_pred_oh = pd.get_dummies(y_pred.astype('category', categories = [0,1])).values\n",
    "        fpr = dict()\n",
    "        tpr = dict()\n",
    "        roc_auc = dict()\n",
    "        \n",
    "        for i in [0,1]:\n",
    "            fpr[i], tpr[i], _ = me.roc_curve(y_true_oh[:,i], y_pred_oh[:,i])\n",
    "            roc_auc[i] = me.auc(fpr[i], tpr[i])\n",
    "        fpr[\"micro\"], tpr[\"micro\"], _ = me.roc_curve(y_true_oh.ravel(), y_pred_oh.ravel())\n",
    "        roc_auc[\"micro\"] = me.auc(fpr[\"micro\"], tpr[\"micro\"])\n",
    "        plt.figure()\n",
    "        lw = 2\n",
    "        colors = cycle(['aqua', 'cornflowerblue'])\n",
    "        for i, color in zip([0,1], colors):\n",
    "            plt.plot(fpr[i], tpr[i], color=color, lw=lw,\n",
    "                     label='ROC curve for {0} (area = {1:0.2f})'\n",
    "                     ''.format(\"Normal\" if i == 0 else \"Attack\", roc_auc[i]))\n",
    "        plt.plot([0, 1], [0, 1], color='navy', lw=lw, linestyle='--')\n",
    "        plt.xlim([0.0, 1.0])\n",
    "        plt.ylim([0.0, 1.05])\n",
    "        plt.xlabel('False Positive Rate')\n",
    "        plt.ylabel('True Positive Rate')\n",
    "        plt.title('ROC-AUC Curve for {}'.format(model))\n",
    "        plt.legend(loc=\"lower right\")\n",
    "        display(plt.show())\n",
    "        \n",
    "    def accumulate_scenarios(predictions, past_scores, which='best'):\n",
    "        key, nof, df = get_result(past_scores, which)\n",
    "        key=\"20151221_1_1\"\n",
    "        y_true = predictions[key][\"Actual\"]\n",
    "        y_pred = predictions[key][\"Prediction\"]\n",
    "        y_true = y_true.dropna()\n",
    "        y_pred = y_pred.dropna()\n",
    "        \n",
    "        scores = get_score(y_true, y_pred)\n",
    "        scores.update({\"Scenarios\":scenario,\"Number of Features\":nof,\"Model\":model, \"Duration(secs)\": df.iloc[0]['time_taken']})\n",
    "        plot(y_true, y_pred, \"{}_{}\".format(scenario, key))\n",
    "        return pd.DataFrame(scores, index=[1])\n",
    "    \n",
    "    scenario = \"Best Result\"\n",
    "    all_scenarios = all_scenarios.append(accumulate_scenarios(predictions, past_scores, 'best'))\n",
    "    scenario = \"Average Result\"\n",
    "    all_scenarios = all_scenarios.append(accumulate_scenarios(predictions, past_scores, 'median'))\n",
    "    scenario = \"Worst Result\"\n",
    "    all_scenarios = all_scenarios.append(accumulate_scenarios(predictions, past_scores, 'worst'))\n",
    "    \n",
    "    \n",
    "    display(all_scenarios.set_index(['Model','Scenarios','Number of Features']))\n",
    "\n",
    "    return all_scenarios\n",
    "    \n",
    "    \n",
    "    \n",
    "    \n",
    "    "
   ]
  },
  {
   "cell_type": "code",
   "execution_count": null,
   "metadata": {
    "ExecuteTime": {
     "start_time": "2017-07-28T13:23:07.631Z"
    },
    "collapsed": true
   },
   "outputs": [],
   "source": [
    "past_scores = pd.read_pickle(\"dataset/scores/tf_dense_only_nsl_kdd_scores_all.pkl\")\n",
    "predictions = pd.read_pickle(\"dataset/tf_dense_only_nsl_kdd_predictions.pkl\")\n"
   ]
  },
  {
   "cell_type": "code",
   "execution_count": null,
   "metadata": {
    "ExecuteTime": {
     "start_time": "2017-07-28T13:23:07.649Z"
    },
    "scrolled": true
   },
   "outputs": [],
   "source": [
    "all_scenarios_fcn = evaluate(\"FCN\", past_scores, predictions)"
   ]
  },
  {
   "cell_type": "markdown",
   "metadata": {
    "ExecuteTime": {
     "end_time": "2017-07-21T20:33:20.402100Z",
     "start_time": "2017-07-21T20:33:19.892237Z"
    }
   },
   "source": [
    "psg = past_scores.sort_values(by='f1_score', ascending=False).groupby(by=['no_of_features', 'hidden_layers'])\n",
    "df = psg.first().sort_values(by='f1_score', ascending=False).head(5)\n",
    "df1 = df.reset_index().sort_values(by='f1_score', ascending=False).groupby(by=['no_of_features'])\n",
    "df1 = df1.first().loc[:,['f1_score', 'time_taken']]\n",
    "df1 = df1.rename(index={1:\"One\", 4:\"10%\", 8:\"20%\", 16:\"40%\", 42:\"All\"})\n",
    "df1.plot(secondary_y = 'time_taken', table=True)"
   ]
  },
  {
   "cell_type": "code",
   "execution_count": null,
   "metadata": {
    "ExecuteTime": {
     "start_time": "2017-07-28T13:23:07.654Z"
    },
    "collapsed": true
   },
   "outputs": [],
   "source": [
    "past_scores = pd.read_pickle(\"dataset/scores/tf_vae_dense_trained_together_nsl_kdd_scores-all.pkl\")\n",
    "predictions = pd.read_pickle(\"dataset/tf_vae_dense_trained_together_nsl_kdd_predictions.pkl\")"
   ]
  },
  {
   "cell_type": "code",
   "execution_count": null,
   "metadata": {
    "ExecuteTime": {
     "start_time": "2017-07-28T13:23:07.679Z"
    },
    "scrolled": true
   },
   "outputs": [],
   "source": [
    "all_scenarios_vae_sm = evaluate(\"VAE-Softmax\", past_scores, predictions)"
   ]
  },
  {
   "cell_type": "code",
   "execution_count": null,
   "metadata": {
    "ExecuteTime": {
     "start_time": "2017-07-28T13:23:07.683Z"
    },
    "collapsed": true
   },
   "outputs": [],
   "source": [
    "past_scores = pd.read_pickle(\"dataset/scores/tf_vae_only_vae_loss_nsl_kdd_scores_all.pkl\")\n",
    "predictions = pd.read_pickle(\"dataset/tf_vae_only_vae_loss_nsl_kdd_predictions.pkl\")"
   ]
  },
  {
   "cell_type": "code",
   "execution_count": null,
   "metadata": {
    "ExecuteTime": {
     "start_time": "2017-07-28T13:23:07.703Z"
    },
    "scrolled": true
   },
   "outputs": [],
   "source": [
    "all_scenarios_vae = evaluate(\"VAE-Label\", past_scores, predictions)"
   ]
  },
  {
   "cell_type": "code",
   "execution_count": null,
   "metadata": {
    "ExecuteTime": {
     "start_time": "2017-07-28T13:23:07.707Z"
    },
    "collapsed": true
   },
   "outputs": [],
   "source": [
    "past_scores = pd.read_pickle(\"dataset/scores/tf_lstm_nsl_kdd-orig_all.pkl\")\n",
    "predictions = pd.read_pickle(\"dataset/tf_lstm_nsl_kdd_predictions.pkl\")"
   ]
  },
  {
   "cell_type": "code",
   "execution_count": null,
   "metadata": {
    "ExecuteTime": {
     "start_time": "2017-07-28T13:23:07.723Z"
    },
    "scrolled": false
   },
   "outputs": [],
   "source": [
    "all_scenarios_lstm = evaluate_lstm(\"LSTM-Seq2Seq\", past_scores, predictions)"
   ]
  },
  {
   "cell_type": "code",
   "execution_count": null,
   "metadata": {
    "ExecuteTime": {
     "start_time": "2017-07-28T13:23:07.728Z"
    },
    "collapsed": true
   },
   "outputs": [],
   "source": [
    "t = pd.concat(result_config.values(),axis=0, keys=result_config.keys())\n",
    "t = t.reset_index()\n",
    "t.hidden_layers = t.hidden_layers.replace({\"One\":\"Shallow\", 3:\"Deep\"})\n",
    "t.rename(columns={\"quality_score\":\"MCC\"}, inplace=True)\n",
    "t = t.pivot_table(values='MCC', index='level_0', columns='hidden_layers')\n",
    "#t = t.reindex([\"Shallow\", \"Deep\"])\n",
    "#t = t.loc[:,['Shallow','Deep']]"
   ]
  },
  {
   "cell_type": "code",
   "execution_count": null,
   "metadata": {
    "ExecuteTime": {
     "start_time": "2017-07-28T13:23:07.733Z"
    }
   },
   "outputs": [],
   "source": [
    "ax = t.plot(kind='bar', rot=0,  legend=False, figsize=[10,4], cmap=cmap, title=False, fontsize='xx-large',\n",
    "                                   edgecolor='black')\n",
    "\n",
    "lgd = ax.legend(bbox_to_anchor=(0,1.02,1,0.2), loc=\"lower left\",\n",
    "                 ncol=3, fontsize='xx-large')\n",
    "ax.set_xlabel(\"\")\n",
    "ax.set_ylabel(\"MCC\", fontsize='xx-large')\n",
    "ax.get_figure().savefig(\"result_plots/LSTM_Type_Kyoto.png\", format='png', dpi=200, bbox_extra_artists=(lgd,), bbox_inches='tight')"
   ]
  },
  {
   "cell_type": "code",
   "execution_count": null,
   "metadata": {
    "ExecuteTime": {
     "start_time": "2017-07-28T13:23:07.740Z"
    }
   },
   "outputs": [],
   "source": [
    "t"
   ]
  },
  {
   "cell_type": "code",
   "execution_count": null,
   "metadata": {
    "ExecuteTime": {
     "start_time": "2017-07-28T13:23:07.745Z"
    },
    "collapsed": true
   },
   "outputs": [],
   "source": [
    "all_scenarios = pd.concat([all_scenarios_fcn, all_scenarios_vae, all_scenarios_vae_sm,  all_scenarios_lstm],axis=0)"
   ]
  },
  {
   "cell_type": "code",
   "execution_count": null,
   "metadata": {
    "ExecuteTime": {
     "start_time": "2017-07-28T13:23:07.751Z"
    },
    "collapsed": true
   },
   "outputs": [],
   "source": [
    "all_scenarios_display = all_scenarios.set_index(['Model', 'Scenarios', 'Number of Features'])\n",
    "#all_scenarios_display"
   ]
  },
  {
   "cell_type": "code",
   "execution_count": null,
   "metadata": {
    "ExecuteTime": {
     "start_time": "2017-07-28T13:23:07.759Z"
    }
   },
   "outputs": [],
   "source": [
    "all_scenarios_best = all_scenarios.set_index(['Scenarios', 'Model']) #, 'Number of Features'\n",
    "all_scenarios_best.loc['Best Result']\n"
   ]
  },
  {
   "cell_type": "code",
   "execution_count": null,
   "metadata": {
    "ExecuteTime": {
     "start_time": "2017-07-28T13:23:07.764Z"
    }
   },
   "outputs": [],
   "source": [
    "plot = all_scenarios_best.loc['Best Result'].drop('Number of Features', axis = 1).plot()\n",
    "display_and_save(\"all_models_score_best_result\", plot)"
   ]
  },
  {
   "cell_type": "code",
   "execution_count": null,
   "metadata": {
    "ExecuteTime": {
     "start_time": "2017-07-28T13:23:07.771Z"
    }
   },
   "outputs": [],
   "source": [
    "all_scenarios_best.loc['Average Result']"
   ]
  },
  {
   "cell_type": "code",
   "execution_count": null,
   "metadata": {
    "ExecuteTime": {
     "start_time": "2017-07-28T13:23:07.776Z"
    }
   },
   "outputs": [],
   "source": [
    "plot = all_scenarios_best.loc['Average Result'].drop('Number of Features', axis = 1).plot()\n",
    "display_and_save(\"all_models_score_general_result\", plot)"
   ]
  },
  {
   "cell_type": "code",
   "execution_count": null,
   "metadata": {
    "ExecuteTime": {
     "start_time": "2017-07-28T13:23:07.784Z"
    }
   },
   "outputs": [],
   "source": [
    "all_scenarios_best.loc['Worst Result']"
   ]
  },
  {
   "cell_type": "code",
   "execution_count": null,
   "metadata": {
    "ExecuteTime": {
     "start_time": "2017-07-28T13:23:07.789Z"
    }
   },
   "outputs": [],
   "source": [
    "plot = all_scenarios_best.loc['Worst Result'].drop('Number of Features', axis = 1).plot()\n",
    "display_and_save(\"all_models_score_worst_result\", plot)"
   ]
  },
  {
   "cell_type": "code",
   "execution_count": null,
   "metadata": {
    "ExecuteTime": {
     "start_time": "2017-07-28T13:23:07.798Z"
    },
    "scrolled": false
   },
   "outputs": [],
   "source": [
    "all_scenarios"
   ]
  },
  {
   "cell_type": "code",
   "execution_count": null,
   "metadata": {
    "ExecuteTime": {
     "end_time": "2017-07-28T03:52:42.324053Z",
     "start_time": "2017-07-28T03:52:42.304298Z"
    },
    "collapsed": true
   },
   "outputs": [],
   "source": []
  },
  {
   "cell_type": "code",
   "execution_count": null,
   "metadata": {
    "ExecuteTime": {
     "end_time": "2017-07-28T03:52:49.619987Z",
     "start_time": "2017-07-28T03:52:49.604343Z"
    },
    "collapsed": true
   },
   "outputs": [],
   "source": []
  },
  {
   "cell_type": "code",
   "execution_count": null,
   "metadata": {
    "ExecuteTime": {
     "start_time": "2017-07-28T13:23:07.808Z"
    },
    "collapsed": true
   },
   "outputs": [],
   "source": [
    "cmap = cm.get_cmap('Blues_r')\n",
    "matplotlib.style.use('ggplot')\n",
    "#print(plt.style.available)\n",
    "matplotlib.rcParams['font.family'] = \"Times New Roman\"\n",
    "#matplotlib.rcParams['axes.titlesize'] = 15\n"
   ]
  },
  {
   "cell_type": "code",
   "execution_count": null,
   "metadata": {
    "ExecuteTime": {
     "start_time": "2017-07-28T13:23:07.813Z"
    },
    "collapsed": true
   },
   "outputs": [],
   "source": [
    "all_scenarios_display = all_scenarios.loc[:,[ 'Scenarios', 'Quality Score', 'Model']]\n",
    "all_scenarios_pivot = all_scenarios_display.pivot_table('Quality Score', 'Model', 'Scenarios')"
   ]
  },
  {
   "cell_type": "code",
   "execution_count": null,
   "metadata": {
    "ExecuteTime": {
     "start_time": "2017-07-28T13:23:07.818Z"
    }
   },
   "outputs": [],
   "source": [
    "#matplotlib.style.use('fivethirtyeight')\n",
    "#print(plt.style.available)\n",
    "#plot_bar = all_scenarios_pivot.plot(kind='bar', figsize=[10,4], style='seaborn-colorblind', colormap=plt.cmaps.Qualitative)\n",
    "#plot_bar.set_ylabel(\"Quality Score\")\n",
    "#display_and_save(\"All Results with Models in X Axis\",plot_bar)\n",
    "ax = all_scenarios_pivot.plot(kind='bar', rot=0,  legend=False, figsize=[10,4], cmap=cmap, title=False, fontsize='xx-large') \n",
    "ax.legend(bbox_to_anchor=(0,1.02,1,0.2), loc=\"lower left\", mode=\"expand\", ncol=3, fontsize='x-large')\n",
    "ax.set_xlabel(\"\")\n",
    "display_and_save(\"All Results with Models in X Axis\",ax)"
   ]
  },
  {
   "cell_type": "code",
   "execution_count": null,
   "metadata": {
    "ExecuteTime": {
     "start_time": "2017-07-28T13:23:07.824Z"
    }
   },
   "outputs": [],
   "source": [
    "all_scenarios_display = all_scenarios.loc[:,[ 'Scenarios', 'Quality Score', 'Model']]\n",
    "all_scenarios_pivot = all_scenarios_display.pivot_table('Quality Score', 'Scenarios', 'Model' )\n",
    "all_scenarios_pivot"
   ]
  },
  {
   "cell_type": "code",
   "execution_count": null,
   "metadata": {
    "ExecuteTime": {
     "start_time": "2017-07-28T13:23:07.829Z"
    }
   },
   "outputs": [],
   "source": [
    "plot_bar = all_scenarios_pivot.plot(kind='bar', rot=0,  legend=False, figsize=[10,4], cmap=cmap, title=False, fontsize='xx-large')\n",
    "#plot_bar.set_ylabel(\"Quality Score\")\n",
    "plot_bar.legend(bbox_to_anchor=(0,1.02,1,0.2), loc=\"lower left\", mode=\"expand\", ncol=3, fontsize='x-large')\n",
    "plot_bar.set_xlabel(\"\")\n",
    "plot_bar.set_yticks([-1,1])\n",
    "plot_bar.axhline(ls='dashed', color = 'black', linewidth=1)\n",
    "display_and_save(\"All Results with Scenarios in X Axis\",plot_bar)"
   ]
  },
  {
   "cell_type": "code",
   "execution_count": null,
   "metadata": {
    "ExecuteTime": {
     "start_time": "2017-07-28T13:23:07.836Z"
    }
   },
   "outputs": [],
   "source": [
    "all_scenarios_display = all_scenarios.loc[:,[ 'Scenarios', 'Duration(secs)', 'Model']]\n",
    "all_scenarios_pivot = all_scenarios_display.pivot_table('Duration(secs)', 'Scenarios', 'Model' )\n",
    "#all_scenarios_pivot = all_scenarios_pivot.rename(index={\"LSTM-Seq2Seq\":\"Deep LSTM\"})\n",
    "all_scenarios_pivot"
   ]
  },
  {
   "cell_type": "code",
   "execution_count": null,
   "metadata": {
    "ExecuteTime": {
     "start_time": "2017-07-28T13:23:07.842Z"
    }
   },
   "outputs": [],
   "source": [
    "#t.rename(index={\"Average\":\"Average Result\", \"Best\":\"Best Result\",\"Worst\":\"Worst Result\"},\n",
    "                columns={\"Deep\":\"Deep LSTM\", \"Shallow\": \"Shallow LSTM\"}, inplace=True)\n",
    "#t1 = t.reset_index().pivot_table(values=\"Shallow LSTM\", columns=\"level_0\")\n",
    "#t1"
   ]
  },
  {
   "cell_type": "code",
   "execution_count": null,
   "metadata": {
    "ExecuteTime": {
     "start_time": "2017-07-28T13:23:07.846Z"
    },
    "collapsed": true
   },
   "outputs": [],
   "source": [
    "#all_scenarios_pivot = pd.concat([all_scenarios_pivot, t1], axis = 0)\n",
    "#all_scenarios_pivot"
   ]
  },
  {
   "cell_type": "code",
   "execution_count": null,
   "metadata": {
    "ExecuteTime": {
     "start_time": "2017-07-28T13:23:07.850Z"
    },
    "collapsed": true
   },
   "outputs": [],
   "source": [
    "ax = all_scenarios_pivot.plot(kind='bar', rot=0,  legend=False, figsize=[10,4], cmap=cmap, title=False, fontsize='xx-large') \n",
    "ax.legend(bbox_to_anchor=(0,1.02,1,0.2), loc=\"lower left\", mode=\"expand\", ncol=3, fontsize='x-large')\n",
    "ax.set_xlabel(\"\")\n",
    "display_and_save(\"All Duration(secs) with Scenarios in X Axis\",plot_bar)"
   ]
  },
  {
   "cell_type": "code",
   "execution_count": null,
   "metadata": {
    "ExecuteTime": {
     "start_time": "2017-07-28T13:23:07.854Z"
    },
    "collapsed": true
   },
   "outputs": [],
   "source": [
    "%%bash\n",
    "zip -r result_plots.zip result_plots"
   ]
  },
  {
   "cell_type": "code",
   "execution_count": null,
   "metadata": {
    "collapsed": true
   },
   "outputs": [],
   "source": []
  }
 ],
 "metadata": {
  "_draft": {
   "nbviewer_url": "https://gist.github.com/93fa75f3f9285b1ba4670c28a417c10c"
  },
  "anaconda-cloud": {},
  "celltoolbar": "Slideshow",
  "gist": {
   "data": {
    "description": "With True Positive, True Negative, Type I & II errors",
    "public": false
   },
   "id": "93fa75f3f9285b1ba4670c28a417c10c"
  },
  "kernelspec": {
   "display_name": "Python [conda env:p3]",
   "language": "python",
   "name": "conda-env-p3-py"
  },
  "language_info": {
   "codemirror_mode": {
    "name": "ipython",
    "version": 3
   },
   "file_extension": ".py",
   "mimetype": "text/x-python",
   "name": "python",
   "nbconvert_exporter": "python",
   "pygments_lexer": "ipython3",
   "version": "3.6.1"
  },
  "nbpresent": {
   "slides": {
    "465daa31-826a-4f9c-8612-f5248561e27a": {
     "id": "465daa31-826a-4f9c-8612-f5248561e27a",
     "prev": null,
     "regions": {
      "7f9bea92-5d12-4214-8baf-1ddd8e29581d": {
       "attrs": {
        "height": 1,
        "width": 1,
        "x": 0,
        "y": 0
       },
       "content": {
        "cell": "c59ff496-7575-4402-b20b-20db68a3540f",
        "part": "source"
       },
       "id": "7f9bea92-5d12-4214-8baf-1ddd8e29581d"
      }
     }
    },
    "760681d5-7308-42c1-833a-01ffb8a76cfc": {
     "id": "760681d5-7308-42c1-833a-01ffb8a76cfc",
     "layout": "manual",
     "prev": "465daa31-826a-4f9c-8612-f5248561e27a",
     "regions": {
      "6409a8d4-b4b2-41fc-84c8-e136ddceb555": {
       "attrs": {
        "height": 0.4864994026284349,
        "width": 0.4913978494623656,
        "x": 0.0064516129032258064,
        "y": 0.49761146953405017
       },
       "content": {
        "cell": "5dbceeca-6499-4cb0-834d-4db5462bd427",
        "part": "outputs"
       },
       "id": "6409a8d4-b4b2-41fc-84c8-e136ddceb555"
      },
      "8190449a-cc49-4dc9-89e2-79031a7103e4": {
       "attrs": {
        "height": 0.4769414575866189,
        "width": 0.4838709677419355,
        "x": 0.5064516129032258,
        "y": 0.495699880525687
       },
       "content": {
        "cell": "35966131-eebf-4da9-962f-4d4d71000afe",
        "part": "outputs"
       },
       "id": "8190449a-cc49-4dc9-89e2-79031a7103e4"
      },
      "eb015708-540c-4ff8-8d93-880739f5a207": {
       "attrs": {
        "height": 0.47120669056152925,
        "width": 0.989247311827957,
        "x": 0.0032258064516129032,
        "y": 0.010155297491039427
       },
       "content": {
        "cell": "8744ff16-810a-4f78-9d46-f01feb5ce35e",
        "part": "source"
       },
       "id": "eb015708-540c-4ff8-8d93-880739f5a207"
      }
     }
    },
    "99702eec-7996-4128-8b4f-29679d686a6d": {
     "id": "99702eec-7996-4128-8b4f-29679d686a6d",
     "prev": "760681d5-7308-42c1-833a-01ffb8a76cfc",
     "regions": {
      "f020b0ef-f71f-4904-8eb3-05adca2cab3e": {
       "attrs": {
        "height": 1,
        "width": 1,
        "x": 0,
        "y": 0
       },
       "content": {
        "cell": "c67b5de0-d0f8-427e-8b34-0dad203d61d7",
        "part": "source"
       },
       "id": "f020b0ef-f71f-4904-8eb3-05adca2cab3e"
      }
     }
    }
   },
   "themes": {
    "default": "4c5fcccd-eb25-41be-99f3-040a2d43a641",
    "theme": {
     "4c5fcccd-eb25-41be-99f3-040a2d43a641": {
      "backgrounds": {
       "dc7afa04-bf90-40b1-82a5-726e3cff5267": {
        "background-color": "31af15d2-7e15-44c5-ab5e-e04b16a89eff",
        "id": "dc7afa04-bf90-40b1-82a5-726e3cff5267"
       }
      },
      "id": "4c5fcccd-eb25-41be-99f3-040a2d43a641",
      "palette": {
       "19cc588f-0593-49c9-9f4b-e4d7cc113b1c": {
        "id": "19cc588f-0593-49c9-9f4b-e4d7cc113b1c",
        "rgb": [
         252,
         252,
         252
        ]
       },
       "31af15d2-7e15-44c5-ab5e-e04b16a89eff": {
        "id": "31af15d2-7e15-44c5-ab5e-e04b16a89eff",
        "rgb": [
         68,
         68,
         68
        ]
       },
       "50f92c45-a630-455b-aec3-788680ec7410": {
        "id": "50f92c45-a630-455b-aec3-788680ec7410",
        "rgb": [
         197,
         226,
         245
        ]
       },
       "c5cc3653-2ee1-402a-aba2-7caae1da4f6c": {
        "id": "c5cc3653-2ee1-402a-aba2-7caae1da4f6c",
        "rgb": [
         43,
         126,
         184
        ]
       },
       "efa7f048-9acb-414c-8b04-a26811511a21": {
        "id": "efa7f048-9acb-414c-8b04-a26811511a21",
        "rgb": [
         25.118061674008803,
         73.60176211453744,
         107.4819383259912
        ]
       }
      },
      "rules": {
       "a": {
        "color": "19cc588f-0593-49c9-9f4b-e4d7cc113b1c"
       },
       "blockquote": {
        "color": "50f92c45-a630-455b-aec3-788680ec7410",
        "font-size": 3
       },
       "code": {
        "font-family": "Anonymous Pro"
       },
       "h1": {
        "color": "19cc588f-0593-49c9-9f4b-e4d7cc113b1c",
        "font-family": "Merriweather",
        "font-size": 8
       },
       "h2": {
        "color": "19cc588f-0593-49c9-9f4b-e4d7cc113b1c",
        "font-family": "Merriweather",
        "font-size": 6
       },
       "h3": {
        "color": "50f92c45-a630-455b-aec3-788680ec7410",
        "font-family": "Lato",
        "font-size": 5.5
       },
       "h4": {
        "color": "c5cc3653-2ee1-402a-aba2-7caae1da4f6c",
        "font-family": "Lato",
        "font-size": 5
       },
       "h5": {
        "font-family": "Lato"
       },
       "h6": {
        "font-family": "Lato"
       },
       "h7": {
        "font-family": "Lato"
       },
       "li": {
        "color": "50f92c45-a630-455b-aec3-788680ec7410",
        "font-size": 3.25
       },
       "pre": {
        "font-family": "Anonymous Pro",
        "font-size": 4
       }
      },
      "text-base": {
       "color": "19cc588f-0593-49c9-9f4b-e4d7cc113b1c",
       "font-family": "Lato",
       "font-size": 4
      }
     }
    }
   }
  },
  "varInspector": {
   "cols": {
    "lenName": 16,
    "lenType": 16,
    "lenVar": 40
   },
   "kernels_config": {
    "python": {
     "delete_cmd_postfix": "",
     "delete_cmd_prefix": "del ",
     "library": "var_list.py",
     "varRefreshCmd": "print(var_dic_list())"
    },
    "r": {
     "delete_cmd_postfix": ") ",
     "delete_cmd_prefix": "rm(",
     "library": "var_list.r",
     "varRefreshCmd": "cat(var_dic_list()) "
    }
   },
   "types_to_exclude": [
    "module",
    "function",
    "builtin_function_or_method",
    "instance",
    "_Feature"
   ],
   "window_display": false
  },
  "widgets": {
   "application/vnd.jupyter.widget-state+json": {
    "state": {},
    "version_major": 1,
    "version_minor": 0
   }
  }
 },
 "nbformat": 4,
 "nbformat_minor": 2
}
