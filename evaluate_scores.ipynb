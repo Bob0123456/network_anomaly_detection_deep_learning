{
 "cells": [
  {
   "cell_type": "markdown",
   "metadata": {
    "slideshow": {
     "slide_type": "slide"
    }
   },
   "source": [
    "# Deep Learning for Kyoto dataset\n"
   ]
  },
  {
   "cell_type": "code",
   "execution_count": 2,
   "metadata": {
    "ExecuteTime": {
     "end_time": "2017-07-18T01:33:35.018765Z",
     "start_time": "2017-07-18T01:33:35.012331Z"
    },
    "collapsed": true,
    "slideshow": {
     "slide_type": "skip"
    }
   },
   "outputs": [],
   "source": [
    "import pandas as pd\n",
    "import numpy as np\n",
    "pd.set_option(\"display.max_rows\",100)\n",
    "import warnings\n",
    "from scipy import stats\n",
    "warnings.filterwarnings('ignore')\n",
    "%matplotlib inline"
   ]
  },
  {
   "cell_type": "code",
   "execution_count": 4,
   "metadata": {
    "ExecuteTime": {
     "end_time": "2017-07-18T01:33:53.123939Z",
     "start_time": "2017-07-18T01:33:53.017255Z"
    },
    "collapsed": true,
    "slideshow": {
     "slide_type": "skip"
    }
   },
   "outputs": [],
   "source": [
    "import numpy as np\n",
    "import matplotlib.pyplot as plt\n",
    "import itertools\n",
    "from sklearn import metrics as me\n",
    "\n",
    "def plot_confusion_matrix(cm, classes,\n",
    "                          normalize=False,\n",
    "                          title='Confusion matrix',\n",
    "                          cmap=plt.cm.Blues):\n",
    "    \"\"\"\n",
    "    This function prints and plots the confusion matrix.\n",
    "    Normalization can be applied by setting `normalize=True`.\n",
    "    \"\"\"\n",
    "    np.set_printoptions(precision=4)\n",
    "\n",
    "    plt.imshow(cm, interpolation='nearest', cmap=cmap)\n",
    "    plt.title(title)\n",
    "    plt.colorbar()\n",
    "    tick_marks = np.arange(len(classes))\n",
    "    plt.xticks(tick_marks, classes, rotation=45)\n",
    "    plt.yticks(tick_marks, classes)\n",
    "\n",
    "    if normalize:\n",
    "        cm = cm.astype('float') / cm.sum(axis=1)[:, np.newaxis]\n",
    "        #print(\"Normalized confusion matrix\")\n",
    "    else:\n",
    "        #print('Confusion matrix, without normalization')\n",
    "        pass\n",
    "    \n",
    "    #print(cm)\n",
    "\n",
    "    label = [[\"\\n True Positive\", \"\\n False Negative \\n Type II Error\"],\n",
    "             [\"\\n False Positive \\n Type I Error\", \"\\n True Negative\"]\n",
    "            ]\n",
    "    \n",
    "    thresh = cm.max() / 2.\n",
    "    for i, j in itertools.product(range(cm.shape[0]), range(cm.shape[1])):\n",
    "        \n",
    "        plt.text(j, i, \"{} {}\".format(cm[i, j].round(4), label[i][j]),\n",
    "                 horizontalalignment=\"center\",\n",
    "                 color=\"white\" if cm[i, j] > thresh else \"black\")\n",
    "\n",
    "    plt.tight_layout()\n",
    "    plt.ylabel('True label')\n",
    "    plt.xlabel('Predicted label')\n",
    "\n",
    "def plot(pred_value):\n",
    "    from sklearn.metrics import confusion_matrix\n",
    "\n",
    "    cm_2labels = confusion_matrix(y_pred = pred_value, y_true = actual_value)\n",
    "    plt.figure(figsize=[6,6])\n",
    "    plot_confusion_matrix(cm_2labels, output_columns_2labels, normalize = False)\n",
    "    #print(\"F1 Score: {}\".format(me.f1_score(actual_value, pred_value)))"
   ]
  },
  {
   "cell_type": "code",
   "execution_count": 5,
   "metadata": {
    "ExecuteTime": {
     "end_time": "2017-07-18T01:33:53.751275Z",
     "start_time": "2017-07-18T01:33:53.736892Z"
    },
    "collapsed": true,
    "slideshow": {
     "slide_type": "skip"
    }
   },
   "outputs": [],
   "source": [
    "def get_count(pred_value):\n",
    "    difficulty = pd.DataFrame({\"Actual\":actual_value, \"Predict\":pred_value, \"difficulty_level\":kdd_diff_level_test})\n",
    "    #difficulty = pd.concat(difficulty, pd.Data)\n",
    "    difficulty['accuracy'] = None\n",
    "    difficulty.ix[difficulty.Actual == difficulty.Predict, \"accuracy\"] = 'Correct'\n",
    "    difficulty.ix[difficulty.Actual != difficulty.Predict, \"accuracy\"] = 'Incorrect'\n",
    "    diff_group = difficulty.loc[:,[\"difficulty_level\", \"accuracy\", \"Predict\"]].groupby([\"difficulty_level\", \"accuracy\"])\n",
    "    total_correct = sum(difficulty.Actual == difficulty.Predict)\n",
    "    total_records = difficulty.shape[0]\n",
    "    total_incorrect = total_records - total_correct\n",
    "    print(\"Total Records:{}\".format(total_records))\n",
    "    return diff_group.count()"
   ]
  },
  {
   "cell_type": "code",
   "execution_count": 12,
   "metadata": {
    "ExecuteTime": {
     "end_time": "2017-07-17T20:48:44.988251Z",
     "start_time": "2017-07-17T20:48:44.963474Z"
    },
    "collapsed": true,
    "slideshow": {
     "slide_type": "skip"
    }
   },
   "outputs": [],
   "source": [
    "scores = pd.read_pickle(\"dataset/{}tf_vae_dense_trained_together_nsl_kdd_scores.pkl\".format(master))\n",
    "accumulate_test_scores = scores.iloc[:,0:3]\n",
    "accumulate_test_time = scores.iloc[:,0:3]\n",
    "#accumulate_test_scores"
   ]
  },
  {
   "cell_type": "code",
   "execution_count": 13,
   "metadata": {
    "ExecuteTime": {
     "end_time": "2017-07-17T20:48:45.076035Z",
     "start_time": "2017-07-17T20:48:44.989928Z"
    },
    "collapsed": true,
    "slideshow": {
     "slide_type": "skip"
    }
   },
   "outputs": [],
   "source": [
    "def evaluate(pred_pkl, past_pkl, actual_value, name = 'DNN'):\n",
    "    global accumulate_test_scores\n",
    "    global accumulate_test_time\n",
    "    print(name)\n",
    "    predictions = pd.read_pickle(pred_pkl)\n",
    "    past = pd.read_pickle(past_pkl)\n",
    "    \n",
    "    df_sorted = past.reset_index().sort_values(\"test_score\", ascending=False).iloc[0,0:3]\n",
    "    epoch = int(df_sorted['epoch'])\n",
    "    n_o_f = int(df_sorted['no_of_features'])\n",
    "    h_l = int(df_sorted['hidden_layers'])\n",
    "    print(\"Best model choosen is: Number of Features:{} Hidden Layers:{}\".format(n_o_f,h_l))\n",
    "    \n",
    "    import fnmatch\n",
    "    pred_keys = predictions.keys()\n",
    "    best_hp = fnmatch.filter(pred_keys.tolist(), \"*_{}_{}\".format(n_o_f,h_l))\n",
    "    \n",
    "    df_pred = predictions[best_hp[0]] #.round(2)\n",
    "    Attack_index = actual_value == 0\n",
    "    Normal_index = actual_value == 1\n",
    "\n",
    "    pred_value = df_pred[\"Prediction\"] #np.argmax(df_pred.values, axis=1)\n",
    "    plot(pred_value)\n",
    "    \n",
    "    gp = past.loc[n_o_f, h_l].groupby(by='epoch')\n",
    "    mean = gp.test_score.max().mean()\n",
    "    std = gp.test_score.max().std()\n",
    "    N = gp.test_score.max().count()\n",
    "    print(\"F1 Score: {}\".format(me.f1_score(actual_value, pred_value)))\n",
    "    print(\"Total Attack: {}, Total Normal: {}\".format(sum(actual_value), len(actual_value) - sum(actual_value)))\n",
    "    print(\"Mean: {}, std: {}, 95% conf int: {}\".format(mean, std, stats.norm.interval(0.95, loc=mean, scale=std)))\n",
    "    \n",
    "    #return scores.sort_values(\"test_score\", ascending=False)"
   ]
  },
  {
   "cell_type": "code",
   "execution_count": 14,
   "metadata": {
    "ExecuteTime": {
     "end_time": "2017-07-17T20:48:45.126463Z",
     "start_time": "2017-07-17T20:48:45.078399Z"
    },
    "collapsed": true,
    "slideshow": {
     "slide_type": "skip"
    }
   },
   "outputs": [],
   "source": [
    "def evaluate_scores(past_pkl, name = 'DNN'):\n",
    "\n",
    "    print(name)\n",
    "    past = pd.read_pickle(past_pkl)\n",
    "    \n",
    "    df_sorted = past.reset_index().sort_values(\"test_score\", ascending=False).iloc[0,0:3]\n",
    "    epoch = int(df_sorted['epoch'])\n",
    "    n_o_f = int(df_sorted['no_of_features'])\n",
    "    h_l = int(df_sorted['hidden_layers'])\n",
    "    \n",
    "    print(\"Best model choosen is: Number of Features:{} Hidden Layers:{}\".format(n_o_f,h_l))\n",
    "    \n",
    "    gp = past.loc[n_o_f, h_l].groupby(by='epoch')\n",
    "    mean = gp.test_score.max().mean()\n",
    "    std = gp.test_score.max().std()\n",
    "    N = gp.test_score.max().count()\n",
    "    #print(\"Mean: {}, std: {}, 95% conf int: {}\".format(mean, std, stats.norm.interval(0.95, loc=mean, scale=std)))\n",
    "    \n",
    "    disp = past.groupby(by=['no_of_features']).max().sort_values(\"test_score\", ascending=False)\n",
    "    return disp"
   ]
  },
  {
   "cell_type": "markdown",
   "metadata": {
    "slideshow": {
     "slide_type": "slide"
    }
   },
   "source": [
    "# Evaluating Dense Network\n",
    "\n",
    "![Fully Connected Network](images/NSL_KDD_FullyConnectedNetwork.jpg)\n",
    "\n",
    "We used Fully connected Neural Network to observe the behavior of model training on NSL KDD data under various hyper parameter configurations as stated below:\n",
    "\n",
    "- Feature Reduction  \n",
    "We tried to reduce the number of features to understand how much the data can be compressed while still able to generalize enough for test dataset.\n",
    "    \n",
    "- Number of Hidden layers  \n",
    "    We wanted to observe how many layers of dense networks may be required to capture the non-leanarity of the data. This understanding may prove useful while training other deep learning architectures.\n",
    "- Epochs, learning rate   \n",
    "    We wanted to get an understanding of how much time/resources will be required to train the model."
   ]
  },
  {
   "cell_type": "code",
   "execution_count": 15,
   "metadata": {
    "ExecuteTime": {
     "end_time": "2017-07-17T20:48:46.438281Z",
     "start_time": "2017-07-17T20:48:45.128061Z"
    },
    "scrolled": false,
    "slideshow": {
     "slide_type": "subslide"
    }
   },
   "outputs": [
    {
     "name": "stdout",
     "output_type": "stream",
     "text": [
      "Dense Network Conf Matrix ++\n",
      "Best model choosen is: Number of Features:32 Hidden Layers:1\n",
      "F1 Score: 0.7920574644278722\n",
      "Total Attack: 12833, Total Normal: 9711\n",
      "Mean: 0.8608055412769318, std: 0.03687656820881274, 95% conf int: (0.78852879571422407, 0.93308228683963945)\n"
     ]
    },
    {
     "data": {
      "image/png": "[encoded data removed]",
      "text/plain": [
       "<matplotlib.figure.Figure at 0x7f67b3b13278>"
      ]
     },
     "metadata": {},
     "output_type": "display_data"
    }
   ],
   "source": [
    "evaluate(\"dataset/{}tf_dense_only_nsl_kdd_predictions.pkl\".format(master),\n",
    "         \"dataset/{}tf_dense_only_nsl_kdd_scores_all.pkl\".format(master), actual_value, \"Dense Network Conf Matrix ++\")"
   ]
  },
  {
   "cell_type": "code",
   "execution_count": 16,
   "metadata": {
    "ExecuteTime": {
     "end_time": "2017-07-17T20:48:46.879382Z",
     "start_time": "2017-07-17T20:48:46.440538Z"
    },
    "scrolled": false,
    "slideshow": {
     "slide_type": "subslide"
    }
   },
   "outputs": [
    {
     "name": "stdout",
     "output_type": "stream",
     "text": [
      "Dense Network Conf Matrix +-\n",
      "Best model choosen is: Number of Features:32 Hidden Layers:1\n",
      "F1 Score: 0.7920574644278722\n",
      "Total Attack: 12833, Total Normal: 9711\n",
      "Mean: 0.8608055412769318, std: 0.03687656820881274, 95% conf int: (0.78852879571422407, 0.93308228683963945)\n"
     ]
    },
    {
     "data": {
      "image/png": "[encoded data removed]",
      "text/plain": [
       "<matplotlib.figure.Figure at 0x7f67776c5748>"
      ]
     },
     "metadata": {},
     "output_type": "display_data"
    }
   ],
   "source": [
    "evaluate(\"dataset/{}tf_dense_only_nsl_kdd_predictions.pkl\".format(master),\n",
    "         \"dataset/{}tf_dense_only_nsl_kdd_scores_all.pkl\".format(master), actual_value, \"Dense Network Conf Matrix +-\")"
   ]
  },
  {
   "cell_type": "code",
   "execution_count": 17,
   "metadata": {
    "ExecuteTime": {
     "end_time": "2017-07-17T20:48:46.902038Z",
     "start_time": "2017-07-17T20:48:46.880815Z"
    }
   },
   "outputs": [
    {
     "name": "stdout",
     "output_type": "stream",
     "text": [
      "Dense Network Scores\n",
      "Best model choosen is: Number of Features:32 Hidden Layers:1\n"
     ]
    },
    {
     "data": {
      "text/html": [
       "<div>\n",
       "<style>\n",
       "    .dataframe thead tr:only-child th {\n",
       "        text-align: right;\n",
       "    }\n",
       "\n",
       "    .dataframe thead th {\n",
       "        text-align: left;\n",
       "    }\n",
       "\n",
       "    .dataframe tbody tr th {\n",
       "        vertical-align: top;\n",
       "    }\n",
       "</style>\n",
       "<table border=\"1\" class=\"dataframe\">\n",
       "  <thead>\n",
       "    <tr style=\"text-align: right;\">\n",
       "      <th></th>\n",
       "      <th>epoch</th>\n",
       "      <th>train_score</th>\n",
       "      <th>test_score</th>\n",
       "      <th>test_score_20</th>\n",
       "      <th>time_taken</th>\n",
       "    </tr>\n",
       "    <tr>\n",
       "      <th>no_of_features</th>\n",
       "      <th></th>\n",
       "      <th></th>\n",
       "      <th></th>\n",
       "      <th></th>\n",
       "      <th></th>\n",
       "    </tr>\n",
       "  </thead>\n",
       "  <tbody>\n",
       "    <tr>\n",
       "      <th>32</th>\n",
       "      <td>33</td>\n",
       "      <td>0.965471</td>\n",
       "      <td>0.902191</td>\n",
       "      <td>0.829367</td>\n",
       "      <td>74.239607</td>\n",
       "    </tr>\n",
       "    <tr>\n",
       "      <th>122</th>\n",
       "      <td>11</td>\n",
       "      <td>0.965471</td>\n",
       "      <td>0.901348</td>\n",
       "      <td>0.852911</td>\n",
       "      <td>27.836271</td>\n",
       "    </tr>\n",
       "    <tr>\n",
       "      <th>8</th>\n",
       "      <td>33</td>\n",
       "      <td>0.968249</td>\n",
       "      <td>0.891412</td>\n",
       "      <td>0.843460</td>\n",
       "      <td>54.562763</td>\n",
       "    </tr>\n",
       "    <tr>\n",
       "      <th>1</th>\n",
       "      <td>33</td>\n",
       "      <td>0.963248</td>\n",
       "      <td>0.877928</td>\n",
       "      <td>0.791730</td>\n",
       "      <td>43.407795</td>\n",
       "    </tr>\n",
       "  </tbody>\n",
       "</table>\n",
       "</div>"
      ],
      "text/plain": [
       "                epoch  train_score  test_score  test_score_20  time_taken\n",
       "no_of_features                                                           \n",
       "32                 33     0.965471    0.902191       0.829367   74.239607\n",
       "122                11     0.965471    0.901348       0.852911   27.836271\n",
       "8                  33     0.968249    0.891412       0.843460   54.562763\n",
       "1                  33     0.963248    0.877928       0.791730   43.407795"
      ]
     },
     "execution_count": 17,
     "metadata": {},
     "output_type": "execute_result"
    }
   ],
   "source": [
    "evaluate_scores(\"dataset/{}tf_dense_only_nsl_kdd_scores_all.pkl\".format(master), \"Dense Network Scores\")"
   ]
  },
  {
   "cell_type": "code",
   "execution_count": 18,
   "metadata": {
    "ExecuteTime": {
     "end_time": "2017-07-17T20:48:47.037716Z",
     "start_time": "2017-07-17T20:48:46.903543Z"
    },
    "scrolled": false,
    "slideshow": {
     "slide_type": "subslide"
    }
   },
   "outputs": [
    {
     "ename": "TypeError",
     "evalue": "evaluate() missing 1 required positional argument: 'actual_value'",
     "output_type": "error",
     "traceback": [
      "\u001b[0;31m---------------------------------------------------------------------------\u001b[0m",
      "\u001b[0;31mTypeError\u001b[0m                                 Traceback (most recent call last)",
      "\u001b[0;32m<ipython-input-18-8dae8cc0545f>\u001b[0m in \u001b[0;36m<module>\u001b[0;34m()\u001b[0m\n\u001b[0;32m----> 1\u001b[0;31m \u001b[0mevaluate\u001b[0m\u001b[0;34m(\u001b[0m\u001b[0;34m\"dataset/{}tf_dense_only_nsl_kdd_predictions__.pkl\"\u001b[0m\u001b[0;34m.\u001b[0m\u001b[0mformat\u001b[0m\u001b[0;34m(\u001b[0m\u001b[0mmaster\u001b[0m\u001b[0;34m)\u001b[0m\u001b[0;34m,\u001b[0m \u001b[0;34m\"Dense Network +-\"\u001b[0m\u001b[0;34m)\u001b[0m\u001b[0;34m\u001b[0m\u001b[0m\n\u001b[0m",
      "\u001b[0;31mTypeError\u001b[0m: evaluate() missing 1 required positional argument: 'actual_value'"
     ]
    }
   ],
   "source": [
    "evaluate(\"dataset/{}tf_dense_only_nsl_kdd_predictions__.pkl\".format(master), \"Dense Network +-\")"
   ]
  },
  {
   "cell_type": "markdown",
   "metadata": {
    "slideshow": {
     "slide_type": "slide"
    }
   },
   "source": [
    "# Variational Autoencoders \n",
    "\n",
    "Variational Autoencoders can reduce the features by initially compressing the data and then calculating mean and variance of the compressed data features. Mean and variance is used to approximate data distribution (Z) of each compressed feature. The model learns by optimzing loss occured while reproducing the actual data using the Z data distribution.  \n",
    "\n",
    "## Predict using Softmax\n",
    "In order to predict whether current network session is Normal or Attack, we coupled Softmax with layer producing Z data distribution.\n",
    "\n",
    "![VAE with Softmax](images/VAE_withSoftmax.jpg)\n"
   ]
  },
  {
   "cell_type": "code",
   "execution_count": null,
   "metadata": {
    "ExecuteTime": {
     "end_time": "2017-07-17T20:48:47.038266Z",
     "start_time": "2017-07-17T20:48:40.481Z"
    },
    "collapsed": true,
    "scrolled": false,
    "slideshow": {
     "slide_type": "subslide"
    }
   },
   "outputs": [],
   "source": [
    "evaluate(\"dataset/{}tf_vae_dense_trained_together_nsl_kdd_predictions.pkl\".format(master),\n",
    "         \"dataset/{}tf_vae_dense_trained_together_nsl_kdd_scores.pkl\".format(master), \"VAE with Softmax\")"
   ]
  },
  {
   "cell_type": "markdown",
   "metadata": {
    "slideshow": {
     "slide_type": "slide"
    }
   },
   "source": [
    "## Include dependent Variable as feature.\n",
    "\n",
    "Another approach we took is to train VAE to reproduce Normal/Attack labels itself during Training cylce. While testing, we would replace the labels with **random values(0~1)** and use VAE to generate correct values of the labels.\n",
    "\n",
    "![VAE with Softmax](images/VAE_withLabel.jpg)\n"
   ]
  },
  {
   "cell_type": "markdown",
   "metadata": {
    "slideshow": {
     "slide_type": "subslide"
    }
   },
   "source": [
    "## using VAE Loss\n",
    "\n",
    "< explain the variation >"
   ]
  },
  {
   "cell_type": "code",
   "execution_count": null,
   "metadata": {
    "ExecuteTime": {
     "end_time": "2017-07-17T20:48:47.038836Z",
     "start_time": "2017-07-17T20:48:40.485Z"
    },
    "collapsed": true,
    "scrolled": false,
    "slideshow": {
     "slide_type": "subslide"
    }
   },
   "outputs": [],
   "source": [
    "evaluate(\"dataset/{}tf_vae_only_vae_loss_nsl_kdd_predictions.pkl\".format(master),\n",
    "         \"dataset/{}tf_vae_only_vae_loss_nsl_kdd_scores.pkl\".format(master), \"VAE with label (using VAE loss)\")"
   ]
  },
  {
   "cell_type": "markdown",
   "metadata": {
    "slideshow": {
     "slide_type": "subslide"
    }
   },
   "source": [
    "## Using MSE Loss"
   ]
  },
  {
   "cell_type": "code",
   "execution_count": null,
   "metadata": {
    "ExecuteTime": {
     "end_time": "2017-07-17T20:48:47.039513Z",
     "start_time": "2017-07-17T20:48:40.489Z"
    },
    "collapsed": true,
    "slideshow": {
     "slide_type": "subslide"
    }
   },
   "outputs": [],
   "source": [
    "evaluate(\"dataset/{}tf_vae_only_nsl_kdd_predictions.pkl\".format(master),\n",
    "         \"dataset/{}tf_vae_only_nsl_kdd_scores.pkl\".format(master), \"VAE with label (using MSE loss)\")"
   ]
  },
  {
   "cell_type": "markdown",
   "metadata": {
    "slideshow": {
     "slide_type": "slide"
    }
   },
   "source": [
    "# LSTM Autoencoder Model\n",
    "\n",
    "LSTM Autoencoder, aka Seq2Seq, model is generally used to predict sequences of numbers (time dependent) given another sequence of numbers. LSTM encoders generates a context vector using input sequence which is passed on to decoder to generate the output.  \n",
    "We coupled LSTM decoder cells with Softmax layer to generate probability whether current session is Normal or Attack  \n",
    "\n",
    "\n",
    "![LSTM Encoder Decoder Model](images/LSTMseq2seq_withsoftmax.jpg)"
   ]
  },
  {
   "cell_type": "code",
   "execution_count": null,
   "metadata": {
    "ExecuteTime": {
     "end_time": "2017-07-17T20:48:47.040059Z",
     "start_time": "2017-07-17T20:48:40.493Z"
    },
    "collapsed": true,
    "slideshow": {
     "slide_type": "subslide"
    }
   },
   "outputs": [],
   "source": [
    "evaluate(\"dataset/{}tf_lstm_nsl_kdd_predictions.pkl\".format(master),\n",
    "         \"dataset/{}tf_lstm_nsl_kdd_scores.pkl\".format(master), \"LSTM Autoencoder (Seq2Seq)\")"
   ]
  },
  {
   "cell_type": "code",
   "execution_count": null,
   "metadata": {
    "ExecuteTime": {
     "end_time": "2017-07-17T20:48:47.040607Z",
     "start_time": "2017-07-17T20:48:40.496Z"
    },
    "collapsed": true
   },
   "outputs": [],
   "source": [
    "evaluate(\"dataset/{}tf_lstm_nsl_kdd_predictions-.pkl\".format(master),\n",
    "         \"dataset/{}tf_lstm_nsl_kdd_scores-.pkl\".format(master), \"LSTM Autoencoder (Seq2Seq) 20% Data\")"
   ]
  },
  {
   "cell_type": "markdown",
   "metadata": {
    "slideshow": {
     "slide_type": "slide"
    }
   },
   "source": [
    "# Generative Adversarial Networks\n",
    "\n",
    "## General Concept\n",
    "\n",
    "GANs utilizes two networks, Generator and Discriminator, to learn about data distribution by generating the data itself.\n",
    "- Generator Network is responsible to produce data of interest using random values.\n",
    "- Discriminator Network is responsible to identify between fake data produced by Generator and Actual sample of data.\n",
    "\n",
    "The optimized state of GANs is when Generator starts to produce enough realistic data so discriminator cannot distinguish between real data and generated data\n",
    "\n",
    "\n",
    "\n",
    "![Generative Advarsarial Networks](images/NSL_KDD_GAN_original_idea.jpg)"
   ]
  },
  {
   "cell_type": "markdown",
   "metadata": {
    "slideshow": {
     "slide_type": "slide"
    }
   },
   "source": [
    "## GANs - For Hypothesis testing\n",
    "\n",
    "We suggest a learning model where GANs can be used for Hypothesis testing. Assume we have 2 data distributions D1 and D2:\n",
    "- Generator will be responsible to produce D2 distribution using random values\n",
    "- Discriminiator will be responsible to distinguish between D1 and D2 distributions.  \n",
    "\n",
    "Basically, discriminator will output probability between 0~1 whether current data is D1 or not. In this way we can decide a significance level based on which it can be decided to either Accept or Reject Null hypothesis i.e. whether current data is D1 or not.\n",
    "\n",
    "![GAN_hypo_optim_state](images/NSL_KDD_GAN_initial_state.jpg)\n",
    "![GAN_hypo_optim_state](images/NSL_KDD_GAN_hypo_optim_state.jpg)"
   ]
  },
  {
   "cell_type": "markdown",
   "metadata": {
    "slideshow": {
     "slide_type": "slide"
    }
   },
   "source": [
    "### GANs for NSL KDD dataset \n",
    "\n",
    "\n",
    "\n",
    "![GANs for NSL KDD dataset ](images/NSL_KDD_GAN_attack_hypothesis.jpg)"
   ]
  },
  {
   "cell_type": "markdown",
   "metadata": {
    "slideshow": {
     "slide_type": "slide"
    }
   },
   "source": [
    "# Compare Results"
   ]
  },
  {
   "cell_type": "code",
   "execution_count": null,
   "metadata": {
    "ExecuteTime": {
     "end_time": "2017-07-17T20:48:47.041185Z",
     "start_time": "2017-07-17T20:48:40.501Z"
    },
    "collapsed": true,
    "slideshow": {
     "slide_type": "skip"
    }
   },
   "outputs": [],
   "source": [
    "#accumulate_test_scores['param'] = accumulate_test_scores[['epoch','no_of_features', 'hidden_layers']].apply(lambda x : 'epoch:{}_features:{}_layers:{}'.format(x[0],x[1], x[2]), axis=1)\n",
    "accumulate_test_scores['Scenarios'] = accumulate_test_scores[['no_of_features', 'hidden_layers']].apply(lambda x : 'features:{}_layers:{}'.format(x[0], x[1]), axis=1)\n",
    "accumulate_test_time['Scenarios'] = accumulate_test_time[['no_of_features', 'hidden_layers']].apply(lambda x : 'features:{}_layers:{}'.format(x[0], x[1]), axis=1)\n"
   ]
  },
  {
   "cell_type": "code",
   "execution_count": null,
   "metadata": {
    "ExecuteTime": {
     "end_time": "2017-07-17T20:48:47.041736Z",
     "start_time": "2017-07-17T20:48:40.504Z"
    },
    "collapsed": true,
    "slideshow": {
     "slide_type": "skip"
    }
   },
   "outputs": [],
   "source": [
    "accumulate_test_scores = accumulate_test_scores.drop(['epoch','no_of_features', 'hidden_layers'], axis = 1)\n",
    "accumulate_test_time = accumulate_test_time.drop(['epoch','no_of_features', 'hidden_layers'], axis = 1)"
   ]
  },
  {
   "cell_type": "code",
   "execution_count": null,
   "metadata": {
    "ExecuteTime": {
     "end_time": "2017-07-17T20:48:47.042269Z",
     "start_time": "2017-07-17T20:48:40.509Z"
    },
    "collapsed": true,
    "slideshow": {
     "slide_type": "skip"
    }
   },
   "outputs": [],
   "source": [
    "accumulate_test_scores.set_index(\"Scenarios\", inplace = True)\n",
    "accumulate_test_time.set_index(\"Scenarios\", inplace = True)"
   ]
  },
  {
   "cell_type": "code",
   "execution_count": null,
   "metadata": {
    "ExecuteTime": {
     "end_time": "2017-07-17T20:48:47.042794Z",
     "start_time": "2017-07-17T20:48:40.513Z"
    },
    "collapsed": true,
    "slideshow": {
     "slide_type": "subslide"
    }
   },
   "outputs": [],
   "source": [
    "accumulate_test_scores.replace(np.nan, '<Not Tested>', regex=True)"
   ]
  },
  {
   "cell_type": "code",
   "execution_count": null,
   "metadata": {
    "ExecuteTime": {
     "end_time": "2017-07-17T20:48:47.043341Z",
     "start_time": "2017-07-17T20:48:40.516Z"
    },
    "collapsed": true,
    "slideshow": {
     "slide_type": "subslide"
    }
   },
   "outputs": [],
   "source": [
    "f = plt.figure()\n",
    "accumulate_test_scores.plot(kind='bar', figsize=(15,4), ax=f.gca(),grid=True, )\n",
    "plt.legend(loc='center left', bbox_to_anchor=(1.0, 0.5))\n",
    "plt.title(\"Test Accuracy\")\n",
    "plt.show()"
   ]
  },
  {
   "cell_type": "code",
   "execution_count": null,
   "metadata": {
    "ExecuteTime": {
     "end_time": "2017-07-17T20:48:47.043866Z",
     "start_time": "2017-07-17T20:48:40.519Z"
    },
    "collapsed": true,
    "slideshow": {
     "slide_type": "skip"
    }
   },
   "outputs": [],
   "source": [
    "accumulate_test_scores.to_csv(\"dataset/{}scores.csv\".format(master))"
   ]
  },
  {
   "cell_type": "code",
   "execution_count": null,
   "metadata": {
    "ExecuteTime": {
     "end_time": "2017-07-17T20:48:47.044398Z",
     "start_time": "2017-07-17T20:48:40.522Z"
    },
    "collapsed": true,
    "slideshow": {
     "slide_type": "skip"
    }
   },
   "outputs": [],
   "source": [
    "accumulate_test_time.replace(np.nan, '<Not Tested>', regex=True)"
   ]
  },
  {
   "cell_type": "code",
   "execution_count": null,
   "metadata": {
    "ExecuteTime": {
     "end_time": "2017-07-17T20:48:47.045147Z",
     "start_time": "2017-07-17T20:48:40.527Z"
    },
    "collapsed": true
   },
   "outputs": [],
   "source": [
    "f = plt.figure()\n",
    "accumulate_test_time.plot(kind='bar', figsize=(15,4), ax=f.gca(),grid=True, )\n",
    "plt.legend(loc='center left', bbox_to_anchor=(1.0, 0.5))\n",
    "plt.title('Time required for Training (in secs)')\n",
    "plt.show()"
   ]
  },
  {
   "cell_type": "code",
   "execution_count": null,
   "metadata": {
    "ExecuteTime": {
     "end_time": "2017-07-17T20:48:47.045862Z",
     "start_time": "2017-07-17T20:48:40.531Z"
    },
    "collapsed": true
   },
   "outputs": [],
   "source": [
    "accumulate_test_time.to_csv(\"dataset/{}time.csv\".format(master))"
   ]
  },
  {
   "cell_type": "code",
   "execution_count": null,
   "metadata": {
    "collapsed": true
   },
   "outputs": [],
   "source": []
  }
 ],
 "metadata": {
  "_draft": {
   "nbviewer_url": "https://gist.github.com/93fa75f3f9285b1ba4670c28a417c10c"
  },
  "anaconda-cloud": {},
  "celltoolbar": "Slideshow",
  "gist": {
   "data": {
    "description": "With True Positive, True Negative, Type I & II errors",
    "public": false
   },
   "id": "93fa75f3f9285b1ba4670c28a417c10c"
  },
  "kernelspec": {
   "display_name": "Python [conda env:p3]",
   "language": "python",
   "name": "conda-env-p3-py"
  },
  "language_info": {
   "codemirror_mode": {
    "name": "ipython",
    "version": 3
   },
   "file_extension": ".py",
   "mimetype": "text/x-python",
   "name": "python",
   "nbconvert_exporter": "python",
   "pygments_lexer": "ipython3",
   "version": "3.6.1"
  },
  "nbpresent": {
   "slides": {
    "465daa31-826a-4f9c-8612-f5248561e27a": {
     "id": "465daa31-826a-4f9c-8612-f5248561e27a",
     "prev": null,
     "regions": {
      "7f9bea92-5d12-4214-8baf-1ddd8e29581d": {
       "attrs": {
        "height": 1,
        "width": 1,
        "x": 0,
        "y": 0
       },
       "content": {
        "cell": "c59ff496-7575-4402-b20b-20db68a3540f",
        "part": "source"
       },
       "id": "7f9bea92-5d12-4214-8baf-1ddd8e29581d"
      }
     }
    },
    "760681d5-7308-42c1-833a-01ffb8a76cfc": {
     "id": "760681d5-7308-42c1-833a-01ffb8a76cfc",
     "layout": "manual",
     "prev": "465daa31-826a-4f9c-8612-f5248561e27a",
     "regions": {
      "6409a8d4-b4b2-41fc-84c8-e136ddceb555": {
       "attrs": {
        "height": 0.4864994026284349,
        "width": 0.4913978494623656,
        "x": 0.0064516129032258064,
        "y": 0.49761146953405017
       },
       "content": {
        "cell": "5dbceeca-6499-4cb0-834d-4db5462bd427",
        "part": "outputs"
       },
       "id": "6409a8d4-b4b2-41fc-84c8-e136ddceb555"
      },
      "8190449a-cc49-4dc9-89e2-79031a7103e4": {
       "attrs": {
        "height": 0.4769414575866189,
        "width": 0.4838709677419355,
        "x": 0.5064516129032258,
        "y": 0.495699880525687
       },
       "content": {
        "cell": "35966131-eebf-4da9-962f-4d4d71000afe",
        "part": "outputs"
       },
       "id": "8190449a-cc49-4dc9-89e2-79031a7103e4"
      },
      "eb015708-540c-4ff8-8d93-880739f5a207": {
       "attrs": {
        "height": 0.47120669056152925,
        "width": 0.989247311827957,
        "x": 0.0032258064516129032,
        "y": 0.010155297491039427
       },
       "content": {
        "cell": "8744ff16-810a-4f78-9d46-f01feb5ce35e",
        "part": "source"
       },
       "id": "eb015708-540c-4ff8-8d93-880739f5a207"
      }
     }
    },
    "99702eec-7996-4128-8b4f-29679d686a6d": {
     "id": "99702eec-7996-4128-8b4f-29679d686a6d",
     "prev": "760681d5-7308-42c1-833a-01ffb8a76cfc",
     "regions": {
      "f020b0ef-f71f-4904-8eb3-05adca2cab3e": {
       "attrs": {
        "height": 1,
        "width": 1,
        "x": 0,
        "y": 0
       },
       "content": {
        "cell": "c67b5de0-d0f8-427e-8b34-0dad203d61d7",
        "part": "source"
       },
       "id": "f020b0ef-f71f-4904-8eb3-05adca2cab3e"
      }
     }
    }
   },
   "themes": {
    "default": "4c5fcccd-eb25-41be-99f3-040a2d43a641",
    "theme": {
     "4c5fcccd-eb25-41be-99f3-040a2d43a641": {
      "backgrounds": {
       "dc7afa04-bf90-40b1-82a5-726e3cff5267": {
        "background-color": "31af15d2-7e15-44c5-ab5e-e04b16a89eff",
        "id": "dc7afa04-bf90-40b1-82a5-726e3cff5267"
       }
      },
      "id": "4c5fcccd-eb25-41be-99f3-040a2d43a641",
      "palette": {
       "19cc588f-0593-49c9-9f4b-e4d7cc113b1c": {
        "id": "19cc588f-0593-49c9-9f4b-e4d7cc113b1c",
        "rgb": [
         252,
         252,
         252
        ]
       },
       "31af15d2-7e15-44c5-ab5e-e04b16a89eff": {
        "id": "31af15d2-7e15-44c5-ab5e-e04b16a89eff",
        "rgb": [
         68,
         68,
         68
        ]
       },
       "50f92c45-a630-455b-aec3-788680ec7410": {
        "id": "50f92c45-a630-455b-aec3-788680ec7410",
        "rgb": [
         197,
         226,
         245
        ]
       },
       "c5cc3653-2ee1-402a-aba2-7caae1da4f6c": {
        "id": "c5cc3653-2ee1-402a-aba2-7caae1da4f6c",
        "rgb": [
         43,
         126,
         184
        ]
       },
       "efa7f048-9acb-414c-8b04-a26811511a21": {
        "id": "efa7f048-9acb-414c-8b04-a26811511a21",
        "rgb": [
         25.118061674008803,
         73.60176211453744,
         107.4819383259912
        ]
       }
      },
      "rules": {
       "a": {
        "color": "19cc588f-0593-49c9-9f4b-e4d7cc113b1c"
       },
       "blockquote": {
        "color": "50f92c45-a630-455b-aec3-788680ec7410",
        "font-size": 3
       },
       "code": {
        "font-family": "Anonymous Pro"
       },
       "h1": {
        "color": "19cc588f-0593-49c9-9f4b-e4d7cc113b1c",
        "font-family": "Merriweather",
        "font-size": 8
       },
       "h2": {
        "color": "19cc588f-0593-49c9-9f4b-e4d7cc113b1c",
        "font-family": "Merriweather",
        "font-size": 6
       },
       "h3": {
        "color": "50f92c45-a630-455b-aec3-788680ec7410",
        "font-family": "Lato",
        "font-size": 5.5
       },
       "h4": {
        "color": "c5cc3653-2ee1-402a-aba2-7caae1da4f6c",
        "font-family": "Lato",
        "font-size": 5
       },
       "h5": {
        "font-family": "Lato"
       },
       "h6": {
        "font-family": "Lato"
       },
       "h7": {
        "font-family": "Lato"
       },
       "li": {
        "color": "50f92c45-a630-455b-aec3-788680ec7410",
        "font-size": 3.25
       },
       "pre": {
        "font-family": "Anonymous Pro",
        "font-size": 4
       }
      },
      "text-base": {
       "color": "19cc588f-0593-49c9-9f4b-e4d7cc113b1c",
       "font-family": "Lato",
       "font-size": 4
      }
     }
    }
   }
  },
  "widgets": {
   "application/vnd.jupyter.widget-state+json": {
    "state": {},
    "version_major": 1,
    "version_minor": 0
   }
  }
 },
 "nbformat": 4,
 "nbformat_minor": 2
}
