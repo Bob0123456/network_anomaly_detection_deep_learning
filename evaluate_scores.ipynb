{
 "cells": [
  {
   "cell_type": "code",
   "execution_count": 1,
   "metadata": {
    "ExecuteTime": {
     "end_time": "2017-05-14T21:12:14.146717Z",
     "start_time": "2017-05-14T21:12:13.722400Z"
    },
    "collapsed": true
   },
   "outputs": [],
   "source": [
    "import pandas as pd\n",
    "import numpy as np\n",
    "pd.set_option(\"display.max_rows\",45)\n",
    "%matplotlib inline"
   ]
  },
  {
   "cell_type": "code",
   "execution_count": 2,
   "metadata": {
    "ExecuteTime": {
     "end_time": "2017-05-14T21:12:14.152801Z",
     "start_time": "2017-05-14T21:12:14.148338Z"
    },
    "collapsed": true
   },
   "outputs": [],
   "source": [
    "#kdd_diff_level_train = pd.read_pickle(\"dataset/kdd_diff_level_train.pkl\")\n",
    "#kdd_diff_level_test = pd.read_pickle(\"dataset/kdd_diff_level_test.pkl\")\n",
    "#output_columns_2labels = ['Normal','Attack']\n",
    "output_columns_2labels = ['Attack','Normal']\n",
    "actual_value = pd.read_pickle(\"dataset/kdd_test_2labels_y.pkl\");\n"
   ]
  },
  {
   "cell_type": "code",
   "execution_count": 3,
   "metadata": {
    "ExecuteTime": {
     "end_time": "2017-05-14T21:12:14.229338Z",
     "start_time": "2017-05-14T21:12:14.154282Z"
    },
    "collapsed": true
   },
   "outputs": [],
   "source": [
    "import numpy as np\n",
    "import matplotlib.pyplot as plt\n",
    "import itertools\n",
    "\n",
    "def plot_confusion_matrix(cm, classes,\n",
    "                          normalize=False,\n",
    "                          title='Confusion matrix',\n",
    "                          cmap=plt.cm.Blues):\n",
    "    \"\"\"\n",
    "    This function prints and plots the confusion matrix.\n",
    "    Normalization can be applied by setting `normalize=True`.\n",
    "    \"\"\"\n",
    "    np.set_printoptions(precision=4)\n",
    "\n",
    "    plt.imshow(cm, interpolation='nearest', cmap=cmap)\n",
    "    plt.title(title)\n",
    "    plt.colorbar()\n",
    "    tick_marks = np.arange(len(classes))\n",
    "    plt.xticks(tick_marks, classes, rotation=45)\n",
    "    plt.yticks(tick_marks, classes)\n",
    "\n",
    "    if normalize:\n",
    "        cm = cm.astype('float') / cm.sum(axis=1)[:, np.newaxis]\n",
    "        print(\"Normalized confusion matrix\")\n",
    "    else:\n",
    "        print('Confusion matrix, without normalization')\n",
    "\n",
    "    print(cm)\n",
    "\n",
    "    label = [[\"\\n True Positive\", \"\\n False Negative \\n Type II Error\"],\n",
    "             [\"\\n False Positive \\n Type I Error\", \"\\n True Negative\"]\n",
    "            ]\n",
    "    \n",
    "    thresh = cm.max() / 2.\n",
    "    for i, j in itertools.product(range(cm.shape[0]), range(cm.shape[1])):\n",
    "        \n",
    "        plt.text(j, i, \"{} {}\".format(cm[i, j].round(4), label[i][j]),\n",
    "                 horizontalalignment=\"center\",\n",
    "                 color=\"white\" if cm[i, j] > thresh else \"black\")\n",
    "\n",
    "    plt.tight_layout()\n",
    "    plt.ylabel('True label')\n",
    "    plt.xlabel('Predicted label')\n",
    "\n",
    "def plot(pred_value):\n",
    "    from sklearn.metrics import confusion_matrix\n",
    "\n",
    "    cm_2labels = confusion_matrix(y_pred = pred_value, y_true = actual_value)\n",
    "    plt.figure(figsize=[6,6])\n",
    "    plot_confusion_matrix(cm_2labels, output_columns_2labels, normalize = True)"
   ]
  },
  {
   "cell_type": "code",
   "execution_count": 4,
   "metadata": {
    "ExecuteTime": {
     "end_time": "2017-05-14T21:12:14.245623Z",
     "start_time": "2017-05-14T21:12:14.230882Z"
    },
    "collapsed": true
   },
   "outputs": [],
   "source": [
    "def get_count(pred_value):\n",
    "    difficulty = pd.DataFrame({\"Actual\":actual_value, \"Predict\":pred_value, \"difficulty_level\":kdd_diff_level_test})\n",
    "    #difficulty = pd.concat(difficulty, pd.Data)\n",
    "    difficulty['accuracy'] = None\n",
    "    difficulty.ix[difficulty.Actual == difficulty.Predict, \"accuracy\"] = 'Correct'\n",
    "    difficulty.ix[difficulty.Actual != difficulty.Predict, \"accuracy\"] = 'Incorrect'\n",
    "    diff_group = difficulty.loc[:,[\"difficulty_level\", \"accuracy\", \"Predict\"]].groupby([\"difficulty_level\", \"accuracy\"])\n",
    "    total_correct = sum(difficulty.Actual == difficulty.Predict)\n",
    "    total_records = difficulty.shape[0]\n",
    "    total_incorrect = total_records - total_correct\n",
    "    print(\"Total Records:{}\".format(total_records))\n",
    "    return diff_group.count()"
   ]
  },
  {
   "cell_type": "code",
   "execution_count": 19,
   "metadata": {
    "ExecuteTime": {
     "end_time": "2017-05-15T00:43:34.099989Z",
     "start_time": "2017-05-15T00:43:34.075274Z"
    },
    "collapsed": true
   },
   "outputs": [],
   "source": [
    "def evaluate(pred_pkl, score_pkl):\n",
    "    predictions = pd.read_pickle(pred_pkl)\n",
    "    scores = pd.read_pickle(score_pkl)\n",
    "\n",
    "    print(scores.sort_values(\"test_score\", ascending=False))\n",
    "\n",
    "    df_sorted = scores.sort_values(\"test_score\", ascending=False).iloc[0,0:3]\n",
    "    epoch = int(df_sorted['epoch'])\n",
    "    n_o_f = int(df_sorted['no_of_features'])\n",
    "    h_l = int(df_sorted['hidden_layers'])\n",
    "    df_pred = predictions[\"{}_{}_{}\".format(epoch,n_o_f,h_l)].round(2)\n",
    "    Attack_index = actual_value == 0\n",
    "    Normal_index = actual_value == 1\n",
    "\n",
    "    #df_pred[Attack_index].plot(kind='line', figsize=(20,5), title=\"Prediction of Attack\")\n",
    "    #df_pred[Normal_index].plot(kind='line', figsize=(20,5), title=\"Prediction of Normal\")\n",
    "    \n",
    "    \n",
    "    pred_value = np.argmax(df_pred.values, axis=1)\n",
    "    #plot(pred_value)"
   ]
  },
  {
   "cell_type": "markdown",
   "metadata": {},
   "source": [
    "# Evaluating Dense Network"
   ]
  },
  {
   "cell_type": "code",
   "execution_count": 20,
   "metadata": {
    "ExecuteTime": {
     "end_time": "2017-05-15T00:43:37.475702Z",
     "start_time": "2017-05-15T00:43:37.459200Z"
    }
   },
   "outputs": [
    {
     "name": "stdout",
     "output_type": "stream",
     "text": [
      "     epoch  no_of_features  hidden_layers  train_score  test_score\n",
      "618    100              32              6     0.946341    0.868479\n",
      "616    100              32              6     0.946579    0.868213\n",
      "615    100              32              6     0.943721    0.868125\n",
      "617    100              32              6     0.951659    0.867459\n",
      "614    100              32              6     0.942372    0.867459\n",
      "619    100              32              6     0.949754    0.866927\n",
      "620    100              32              6     0.952453    0.864665\n",
      "613    100              32              6     0.943880    0.864532\n",
      "3      100               4              4     0.850452    0.864088\n",
      "621    100              32              6     0.951262    0.862935\n",
      "612    100              32              6     0.941261    0.862358\n",
      "622    100              32              6     0.950389    0.862048\n",
      "623    100              32              6     0.951500    0.860539\n",
      "624    100              32              6     0.952056    0.858943\n",
      "611    100              32              6     0.940705    0.858676\n",
      "625    100              32              6     0.951818    0.858055\n",
      "626    100              32              6     0.951103    0.857922\n",
      "127    100               8              4     0.946738    0.857656\n",
      "128    100               8              4     0.946182    0.857612\n",
      "627    100              32              6     0.955231    0.857479\n",
      "610    100              32              6     0.935069    0.857479\n",
      "126    100               8              4     0.946341    0.857390\n",
      "..     ...             ...            ...          ...         ...\n",
      "458    100               4              6     0.536355    0.430758\n",
      "459    100               4              6     0.537228    0.430758\n",
      "460    100               4              6     0.532148    0.430758\n",
      "461    100               4              6     0.532227    0.430758\n",
      "462    100               4              6     0.529449    0.430758\n",
      "463    100               4              6     0.526036    0.430758\n",
      "464    100               4              6     0.534609    0.430758\n",
      "465    100               4              6     0.535641    0.430758\n",
      "466    100               4              6     0.536911    0.430758\n",
      "467    100               4              6     0.539133    0.430758\n",
      "468    100               4              6     0.534291    0.430758\n",
      "469    100               4              6     0.541038    0.430758\n",
      "470    100               4              6     0.538101    0.430758\n",
      "471    100               4              6     0.528179    0.430758\n",
      "472    100               4              6     0.523655    0.430758\n",
      "473    100               4              6     0.526988    0.430758\n",
      "474    100               4              6     0.532783    0.430758\n",
      "475    100               4              6     0.534609    0.430758\n",
      "477    100               4              6     0.539054    0.430758\n",
      "478    100               4              6     0.533974    0.430758\n",
      "479    100               4              6     0.541038    0.430758\n",
      "400    100               4              6     0.535402    0.430758\n",
      "\n",
      "[800 rows x 5 columns]\n"
     ]
    }
   ],
   "source": [
    "evaluate(\"dataset/tf_dense_only_nsl_kdd_predictions.pkl\",\n",
    "         \"dataset/tf_dense_only_nsl_kdd_scores.pkl\")"
   ]
  },
  {
   "cell_type": "code",
   "execution_count": 7,
   "metadata": {
    "ExecuteTime": {
     "end_time": "2017-05-14T21:12:14.885588Z",
     "start_time": "2017-05-14T21:12:14.883030Z"
    },
    "collapsed": true
   },
   "outputs": [],
   "source": [
    "#get_count(pred_value)\n",
    "#dense_only_predictions"
   ]
  },
  {
   "cell_type": "markdown",
   "metadata": {},
   "source": [
    "# Evaluating VAE with Softmax - Trained Together"
   ]
  },
  {
   "cell_type": "code",
   "execution_count": 15,
   "metadata": {
    "ExecuteTime": {
     "end_time": "2017-05-14T21:20:49.139513Z",
     "start_time": "2017-05-14T21:20:48.771575Z"
    },
    "scrolled": false
   },
   "outputs": [
    {
     "name": "stdout",
     "output_type": "stream",
     "text": [
      "     epoch  no_of_features  hidden_layers  train_score  test_score\n",
      "97      50               8              2     0.913118    0.907470\n",
      "98      50               8              2     0.914031    0.905296\n",
      "143     50              16              2     0.891248    0.904587\n",
      "144     50              16              2     0.881484    0.903123\n",
      "145     50              16              2     0.888272    0.901925\n",
      "165     50              32              2     0.888391    0.898643\n",
      "191     50              32              2     0.889780    0.897312\n",
      "111     50              16              2     0.894781    0.896292\n",
      "96      50               8              2     0.915340    0.895227\n",
      "198     50              32              2     0.851201    0.894384\n",
      "140     50              16              2     0.897361    0.892388\n",
      "142     50              16              2     0.896567    0.892300\n",
      "94      50               8              2     0.901965    0.892300\n",
      "283     50               8              4     0.877753    0.892078\n",
      "116     50              16              2     0.897599    0.892078\n",
      "135     50              16              2     0.887240    0.892033\n",
      "199     50              32              2     0.846755    0.891501\n",
      "138     50              16              2     0.891566    0.891457\n",
      "186     50              32              2     0.898829    0.891279\n",
      "147     50              16              2     0.892677    0.891235\n",
      "113     50              16              2     0.902560    0.891191\n",
      "162     50              32              2     0.901727    0.891013\n",
      "..     ...             ...            ...          ...         ...\n",
      "585     50              32              6     0.534987    0.433685\n",
      "473     50               8              6     0.532328    0.433463\n",
      "568     50              32              6     0.537567    0.433153\n",
      "486     50               8              6     0.538956    0.432532\n",
      "492     50               8              6     0.536575    0.432266\n",
      "485     50               8              6     0.530978    0.431911\n",
      "488     50               8              6     0.539671    0.431334\n",
      "494     50               8              6     0.534154    0.430891\n",
      "481     50               8              6     0.534312    0.430891\n",
      "489     50               8              6     0.533677    0.430891\n",
      "474     50               8              6     0.534511    0.430846\n",
      "491     50               8              6     0.536416    0.430846\n",
      "497     50               8              6     0.539155    0.430802\n",
      "495     50               8              6     0.534868    0.430758\n",
      "487     50               8              6     0.531217    0.430758\n",
      "476     50               8              6     0.538162    0.430758\n",
      "479     50               8              6     0.539829    0.430758\n",
      "480     50               8              6     0.532447    0.430758\n",
      "483     50               8              6     0.527525    0.430758\n",
      "482     50               8              6     0.538043    0.430758\n",
      "471     50               8              6     0.532368    0.430713\n",
      "493     50               8              6     0.539710    0.430403\n",
      "\n",
      "[600 rows x 5 columns]\n",
      "Normalized confusion matrix\n",
      "[[ 0.8671  0.1329]\n",
      " [ 0.0959  0.9041]]\n"
     ]
    },
    {
     "data": {
      "image/png": "[encoded data removed]",
      "text/plain": [
       "<matplotlib.figure.Figure at 0x7f55c3585f60>"
      ]
     },
     "metadata": {},
     "output_type": "display_data"
    }
   ],
   "source": [
    "evaluate(\"dataset/tf_vae_dense_trained_together_nsl_kdd_predictions.pkl\",\n",
    "         \"dataset/tf_vae_dense_trained_together_nsl_kdd_scores.pkl\")"
   ]
  },
  {
   "cell_type": "markdown",
   "metadata": {},
   "source": [
    "# Evaluating VAE with Label using VAE Loss"
   ]
  },
  {
   "cell_type": "code",
   "execution_count": 16,
   "metadata": {
    "ExecuteTime": {
     "end_time": "2017-05-14T21:23:44.757517Z",
     "start_time": "2017-05-14T21:23:44.452472Z"
    },
    "scrolled": false
   },
   "outputs": [
    {
     "name": "stdout",
     "output_type": "stream",
     "text": [
      "     epoch  no_of_features  hidden_layers  train_score  test_score\n",
      "366     50              32              4     0.906731    0.889771\n",
      "368     50              32              4     0.906890    0.887376\n",
      "367     50              32              4     0.910859    0.886977\n",
      "364     50              32              4     0.911811    0.882408\n",
      "357     50              32              4     0.912050    0.873625\n",
      "371     50              32              4     0.914828    0.873581\n",
      "358     50              32              4     0.916812    0.872250\n",
      "363     50              32              4     0.920067    0.869544\n",
      "360     50              32              4     0.900778    0.868435\n",
      "365     50              32              4     0.889268    0.867060\n",
      "361     50              32              4     0.906334    0.865774\n",
      "362     50              32              4     0.908716    0.865729\n",
      "391     50              32              4     0.918003    0.864532\n",
      "390     50              32              4     0.919749    0.864487\n",
      "389     50              32              4     0.919194    0.863290\n",
      "388     50              32              4     0.922448    0.862846\n",
      "393     50              32              4     0.917923    0.862713\n",
      "384     50              32              4     0.924036    0.862491\n",
      "394     50              32              4     0.914828    0.861338\n",
      "369     50              32              4     0.917368    0.860584\n",
      "396     50              32              4     0.921099    0.859475\n",
      "392     50              32              4     0.912526    0.858987\n",
      "..     ...             ...            ...          ...         ...\n",
      "235     50               4              4     0.464598    0.569242\n",
      "238     50               4              4     0.466661    0.569198\n",
      "217     50               4              4     0.817034    0.563786\n",
      "212     50               4              4     0.808144    0.558109\n",
      "213     50               4              4     0.812589    0.545910\n",
      "214     50               4              4     0.801953    0.540144\n",
      "215     50               4              4     0.820924    0.534998\n",
      "232     50               4              4     0.524051    0.528345\n",
      "233     50               4              4     0.587712    0.466155\n",
      "234     50               4              4     0.596603    0.462784\n",
      "248     50               4              4     0.573583    0.461187\n",
      "244     50               4              4     0.582473    0.460699\n",
      "247     50               4              4     0.576599    0.460566\n",
      "245     50               4              4     0.573742    0.460522\n",
      "243     50               4              4     0.578108    0.460477\n",
      "240     50               4              4     0.574139    0.460433\n",
      "246     50               4              4     0.584299    0.460433\n",
      "237     50               4              4     0.584696    0.460300\n",
      "236     50               4              4     0.574933    0.460167\n",
      "249     50               4              4     0.582077    0.458259\n",
      "231     50               4              4     0.543578    0.446815\n",
      "398     50              32              4     0.537546    0.437101\n",
      "\n",
      "[400 rows x 5 columns]\n",
      "Normalized confusion matrix\n",
      "[[ 0.935   0.065 ]\n",
      " [ 0.8339  0.1661]]\n"
     ]
    },
    {
     "data": {
      "image/png": "[encoded data removed]",
      "text/plain": [
       "<matplotlib.figure.Figure at 0x7f55f8571a20>"
      ]
     },
     "metadata": {},
     "output_type": "display_data"
    }
   ],
   "source": [
    "evaluate(\"dataset/tf_vae_only_vae_loss_nsl_kdd_predictions.pkl\",\n",
    "         \"dataset/tf_vae_only_vae_loss_nsl_kdd_scores.pkl\")"
   ]
  },
  {
   "cell_type": "markdown",
   "metadata": {},
   "source": [
    "# Evaluating VAE with Label using VAE Loss"
   ]
  },
  {
   "cell_type": "code",
   "execution_count": 10,
   "metadata": {
    "ExecuteTime": {
     "end_time": "2017-05-14T21:12:15.802373Z",
     "start_time": "2017-05-14T21:12:15.496475Z"
    }
   },
   "outputs": [
    {
     "name": "stdout",
     "output_type": "stream",
     "text": [
      "     epoch  no_of_features  hidden_layers  train_score  test_score\n",
      "279     50               8              4     0.948404    0.870076\n",
      "337     50              16              4     0.831640    0.867947\n",
      "338     50              16              4     0.830529    0.867903\n",
      "341     50              16              4     0.793459    0.864044\n",
      "105     50              16              2     0.865137    0.863999\n",
      "340     50              16              4     0.794094    0.863999\n",
      "219     50               4              4     0.928481    0.862225\n",
      "278     50               8              4     0.941816    0.859164\n",
      "357     50              32              4     0.914351    0.858588\n",
      "356     50              32              4     0.911494    0.858277\n",
      "333     50              16              4     0.827909    0.857656\n",
      "358     50              32              4     0.926338    0.857612\n",
      "334     50              16              4     0.829973    0.857567\n",
      "339     50              16              4     0.826957    0.857567\n",
      "332     50              16              4     0.821876    0.857523\n",
      "331     50              16              4     0.825607    0.857479\n",
      "336     50              16              4     0.827750    0.857213\n",
      "335     50              16              4     0.828227    0.856769\n",
      "324     50              16              4     0.829179    0.856414\n",
      "330     50              16              4     0.829497    0.856325\n",
      "360     50              32              4     0.921813    0.856237\n",
      "328     50              16              4     0.825449    0.856104\n",
      "..     ...             ...            ...          ...         ...\n",
      "162     50              32              2     0.464598    0.569242\n",
      "161     50              32              2     0.461422    0.569242\n",
      "178     50              32              2     0.463566    0.569242\n",
      "179     50              32              2     0.472535    0.569242\n",
      "180     50              32              2     0.472694    0.569242\n",
      "181     50              32              2     0.461740    0.569242\n",
      "182     50              32              2     0.462931    0.569242\n",
      "183     50              32              2     0.463169    0.569242\n",
      "184     50              32              2     0.469440    0.569242\n",
      "185     50              32              2     0.465788    0.569242\n",
      "186     50              32              2     0.470472    0.569242\n",
      "160     50              32              2     0.467296    0.569242\n",
      "187     50              32              2     0.468487    0.569242\n",
      "199     50              32              2     0.469598    0.569242\n",
      "282     50               8              4     0.670186    0.564452\n",
      "345     50              16              4     0.533497    0.430758\n",
      "346     50              16              4     0.527623    0.430758\n",
      "347     50              16              4     0.532227    0.430758\n",
      "348     50              16              4     0.534053    0.430758\n",
      "349     50              16              4     0.539451    0.430758\n",
      "103     50              16              2     0.532624    0.430758\n",
      "104     50              16              2     0.537546    0.430758\n",
      "\n",
      "[400 rows x 5 columns]\n",
      "Normalized confusion matrix\n",
      "[[ 0.9091  0.0909]\n",
      " [ 0.3502  0.6498]]\n"
     ]
    },
    {
     "data": {
      "image/png": "[encoded data removed]",
      "text/plain": [
       "<matplotlib.figure.Figure at 0x7f55c377b668>"
      ]
     },
     "metadata": {},
     "output_type": "display_data"
    }
   ],
   "source": [
    "evaluate(\"dataset/tf_vae_only_nsl_kdd_predictions.pkl\",\n",
    "         \"dataset/tf_vae_only_nsl_kdd_scores.pkl\")"
   ]
  },
  {
   "cell_type": "code",
   "execution_count": null,
   "metadata": {
    "collapsed": true
   },
   "outputs": [],
   "source": []
  }
 ],
 "metadata": {
  "_draft": {
   "nbviewer_url": "https://gist.github.com/93fa75f3f9285b1ba4670c28a417c10c"
  },
  "anaconda-cloud": {},
  "gist": {
   "data": {
    "description": "With True Positive, True Negative, Type I & II errors",
    "public": false
   },
   "id": "93fa75f3f9285b1ba4670c28a417c10c"
  },
  "kernelspec": {
   "display_name": "Python [default]",
   "language": "python",
   "name": "python3"
  },
  "language_info": {
   "codemirror_mode": {
    "name": "ipython",
    "version": 3
   },
   "file_extension": ".py",
   "mimetype": "text/x-python",
   "name": "python",
   "nbconvert_exporter": "python",
   "pygments_lexer": "ipython3",
   "version": "3.5.3"
  }
 },
 "nbformat": 4,
 "nbformat_minor": 2
}
