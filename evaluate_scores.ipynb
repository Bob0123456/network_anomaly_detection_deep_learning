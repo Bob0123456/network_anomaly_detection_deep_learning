{
 "cells": [
  {
   "cell_type": "markdown",
   "metadata": {},
   "source": [
    "# Deep Learning for NSL KDD dataset\n",
    "\n",
    "> NSL-KDD is a data set suggested to solve some of the inherent problems of the KDD'99 data set...\n",
    "> [[University of New Brunswick](http://www.unb.ca/cic/research/datasets/nsl.html)]  \n",
    "\n",
    "NSL KDD dataset has large number of columns which doesn't have significant correlation to decide whether current network session is *Normal* or an *Attack*. We performed Linear modeling of data and found that **36% of columns** *(considering 1e-5 as threshold for p value)* are significant in creating models of the dataset. Hence, we believe Deep Learning architectures like AutoEncoders and GANs will be best suitable.\n",
    "\n",
    "We have special interest GAN networks due to their ability of learning about the data distribution by generating the distribution itself. We believe this can be utilized to generate Attack data distribution to help the discriminator model learn better."
   ]
  },
  {
   "cell_type": "markdown",
   "metadata": {
    "nbpresent": {
     "id": "c59ff496-7575-4402-b20b-20db68a3540f"
    },
    "slideshow": {
     "slide_type": "slide"
    }
   },
   "source": [
    "## Data files  \n",
    ">     * KDDTrain+.ARFF: The full NSL-KDD train set with binary labels in ARFF format  \n",
    ">     * KDDTrain+.TXT: The full NSL-KDD train set including attack-type labels and difficulty level in CSV format  \n",
    ">     * KDDTrain+_20Percent.ARFF: A 20% subset of the KDDTrain+.arff file  \n",
    ">     * KDDTrain+_20Percent.TXT: A 20% subset of the KDDTrain+.txt file  \n",
    ">     * KDDTest+.ARFF: The full NSL-KDD test set with binary labels in ARFF format  \n",
    ">     * KDDTest+.TXT: The full NSL-KDD test set including attack-type labels and difficulty level in CSV format  \n",
    ">     * KDDTest-21.ARFF: A subset of the KDDTest+.arff file which does not include records with difficulty level of 21 out of 21  \n",
    ">     * KDDTest-21.TXT: A subset of the KDDTest+.txt file which does not include records with difficulty level of 21 out of 21  \n",
    "> [[University of New Brunswick](http://www.unb.ca/cic/research/datasets/nsl.html)]  \n",
    "\n",
    "\n",
    "\n"
   ]
  },
  {
   "cell_type": "code",
   "execution_count": 1,
   "metadata": {
    "ExecuteTime": {
     "end_time": "2017-05-31T01:09:33.926490Z",
     "start_time": "2017-05-31T01:09:33.451750Z"
    },
    "collapsed": true,
    "nbpresent": {
     "id": "ac2268be-ef2d-4348-be47-904e281e0511"
    },
    "slideshow": {
     "slide_type": "skip"
    }
   },
   "outputs": [],
   "source": [
    "import pandas as pd\n",
    "import numpy as np\n",
    "pd.set_option(\"display.max_rows\",100)\n",
    "%matplotlib inline"
   ]
  },
  {
   "cell_type": "code",
   "execution_count": 2,
   "metadata": {
    "ExecuteTime": {
     "end_time": "2017-05-31T01:09:34.472084Z",
     "start_time": "2017-05-31T01:09:33.928221Z"
    },
    "collapsed": true,
    "nbpresent": {
     "id": "a531f3f3-dbf7-49c7-9241-93282f135458"
    },
    "slideshow": {
     "slide_type": "skip"
    }
   },
   "outputs": [],
   "source": [
    "import statsmodels.api as sm\n",
    "kdd_train_2labels = pd.read_pickle(\"dataset/kdd_train_2labels.pkl\")\n",
    "kdd_train_2labels_y = pd.read_pickle(\"dataset/kdd_train_2labels_y.pkl\")\n",
    "results = sm.OLS(kdd_train_2labels_y.iloc[0:1000], kdd_train_2labels.iloc[0:1000, :-2]).fit()\n",
    "#results.summary()"
   ]
  },
  {
   "cell_type": "markdown",
   "metadata": {
    "nbpresent": {
     "id": "8744ff16-810a-4f78-9d46-f01feb5ce35e"
    },
    "slideshow": {
     "slide_type": "slide"
    }
   },
   "source": [
    "# Exploratory Data Analysis\n",
    "\n",
    "\n",
    "## Feature Selection\n",
    "\n",
    "We found that only 15 (out of 41) columns have P-values considering 1e-5 as threshold.   "
   ]
  },
  {
   "cell_type": "code",
   "execution_count": 3,
   "metadata": {
    "ExecuteTime": {
     "end_time": "2017-05-31T01:09:34.670870Z",
     "start_time": "2017-05-31T01:09:34.473968Z"
    },
    "nbpresent": {
     "id": "5dbceeca-6499-4cb0-834d-4db5462bd427"
    },
    "slideshow": {
     "slide_type": "subslide"
    }
   },
   "outputs": [
    {
     "data": {
      "image/png": "[encoded data removed]",
      "text/plain": [
       "<matplotlib.figure.Figure at 0x7f0e8bee35c0>"
      ]
     },
     "metadata": {},
     "output_type": "display_data"
    }
   ],
   "source": [
    "import warnings\n",
    "warnings.filterwarnings('ignore')\n",
    "results.pvalues.sort_values().plot();"
   ]
  },
  {
   "cell_type": "code",
   "execution_count": 4,
   "metadata": {
    "ExecuteTime": {
     "end_time": "2017-05-31T01:09:34.681845Z",
     "start_time": "2017-05-31T01:09:34.672541Z"
    },
    "nbpresent": {
     "id": "35966131-eebf-4da9-962f-4d4d71000afe"
    },
    "slideshow": {
     "slide_type": "subslide"
    }
   },
   "outputs": [
    {
     "name": "stdout",
     "output_type": "stream",
     "text": [
      "Variables having P value lower than 1e-5\n"
     ]
    },
    {
     "data": {
      "text/plain": [
       "wrong_fragment                 1.577002e-39\n",
       "same_srv_rate                  2.913320e-16\n",
       "service_urp_i                  6.079849e-11\n",
       "service_http                   1.801443e-10\n",
       "dst_host_same_srv_rate         1.897631e-10\n",
       "service_smtp                   2.699004e-10\n",
       "dst_host_srv_rerror_rate       3.418082e-10\n",
       "dst_host_srv_count             1.270372e-08\n",
       "dst_host_same_src_port_rate    3.700446e-08\n",
       "diff_srv_rate                  3.464595e-07\n",
       "dst_host_srv_diff_host_rate    7.880064e-07\n",
       "protocol_type_udp              1.163489e-06\n",
       "service_IRC                    1.688161e-06\n",
       "dst_host_count                 3.587908e-06\n",
       "protocol_type_tcp              8.879575e-06\n",
       "dtype: float64"
      ]
     },
     "execution_count": 4,
     "metadata": {},
     "output_type": "execute_result"
    }
   ],
   "source": [
    "\n",
    "print(\"Variables having P value lower than 1e-5\")\n",
    "results.pvalues[results.pvalues < 1e-5].sort_values()"
   ]
  },
  {
   "cell_type": "markdown",
   "metadata": {
    "nbpresent": {
     "id": "c67b5de0-d0f8-427e-8b34-0dad203d61d7"
    },
    "slideshow": {
     "slide_type": "slide"
    }
   },
   "source": [
    "## TSNE\n",
    "- We found that Normal and Attack data are:\n",
    "    * Not clearly seperable.\n",
    "    * Not linearly sepearable \n",
    "\n",
    "![](images/TSNE-Train+Dataset.png)\n"
   ]
  },
  {
   "cell_type": "code",
   "execution_count": 5,
   "metadata": {
    "ExecuteTime": {
     "end_time": "2017-05-31T01:09:34.691301Z",
     "start_time": "2017-05-31T01:09:34.683520Z"
    },
    "collapsed": true,
    "nbpresent": {
     "id": "a9549f94-67aa-448d-8d2c-3ab11677f860"
    },
    "slideshow": {
     "slide_type": "skip"
    }
   },
   "outputs": [],
   "source": [
    "#kdd_diff_level_train = pd.read_pickle(\"dataset/kdd_diff_level_train.pkl\")\n",
    "#kdd_diff_level_test = pd.read_pickle(\"dataset/kdd_diff_level_test.pkl\")\n",
    "#output_columns_2labels = ['Normal','Attack']\n",
    "output_columns_2labels = ['Attack','Normal']\n",
    "actual_value = pd.read_pickle(\"dataset/kdd_test_2labels_y.pkl\");\n"
   ]
  },
  {
   "cell_type": "code",
   "execution_count": 6,
   "metadata": {
    "ExecuteTime": {
     "end_time": "2017-05-31T01:09:34.767257Z",
     "start_time": "2017-05-31T01:09:34.692813Z"
    },
    "collapsed": true,
    "nbpresent": {
     "id": "6da8ab16-c580-4890-a2e2-a723568500a3"
    },
    "slideshow": {
     "slide_type": "skip"
    }
   },
   "outputs": [],
   "source": [
    "import numpy as np\n",
    "import matplotlib.pyplot as plt\n",
    "import itertools\n",
    "\n",
    "def plot_confusion_matrix(cm, classes,\n",
    "                          normalize=False,\n",
    "                          title='Confusion matrix',\n",
    "                          cmap=plt.cm.Blues):\n",
    "    \"\"\"\n",
    "    This function prints and plots the confusion matrix.\n",
    "    Normalization can be applied by setting `normalize=True`.\n",
    "    \"\"\"\n",
    "    np.set_printoptions(precision=4)\n",
    "\n",
    "    plt.imshow(cm, interpolation='nearest', cmap=cmap)\n",
    "    plt.title(title)\n",
    "    plt.colorbar()\n",
    "    tick_marks = np.arange(len(classes))\n",
    "    plt.xticks(tick_marks, classes, rotation=45)\n",
    "    plt.yticks(tick_marks, classes)\n",
    "\n",
    "    if normalize:\n",
    "        cm = cm.astype('float') / cm.sum(axis=1)[:, np.newaxis]\n",
    "        #print(\"Normalized confusion matrix\")\n",
    "    else:\n",
    "        #print('Confusion matrix, without normalization')\n",
    "        pass\n",
    "    \n",
    "    #print(cm)\n",
    "\n",
    "    label = [[\"\\n True Positive\", \"\\n False Negative \\n Type II Error\"],\n",
    "             [\"\\n False Positive \\n Type I Error\", \"\\n True Negative\"]\n",
    "            ]\n",
    "    \n",
    "    thresh = cm.max() / 2.\n",
    "    for i, j in itertools.product(range(cm.shape[0]), range(cm.shape[1])):\n",
    "        \n",
    "        plt.text(j, i, \"{} {}\".format(cm[i, j].round(4), label[i][j]),\n",
    "                 horizontalalignment=\"center\",\n",
    "                 color=\"white\" if cm[i, j] > thresh else \"black\")\n",
    "\n",
    "    plt.tight_layout()\n",
    "    plt.ylabel('True label')\n",
    "    plt.xlabel('Predicted label')\n",
    "\n",
    "def plot(pred_value):\n",
    "    from sklearn.metrics import confusion_matrix\n",
    "\n",
    "    cm_2labels = confusion_matrix(y_pred = pred_value, y_true = actual_value)\n",
    "    plt.figure(figsize=[6,6])\n",
    "    plot_confusion_matrix(cm_2labels, output_columns_2labels, normalize = True)"
   ]
  },
  {
   "cell_type": "code",
   "execution_count": 7,
   "metadata": {
    "ExecuteTime": {
     "end_time": "2017-05-31T01:09:34.796250Z",
     "start_time": "2017-05-31T01:09:34.768903Z"
    },
    "collapsed": true,
    "nbpresent": {
     "id": "dc327101-f063-4204-aebf-bdcfdbb52961"
    },
    "slideshow": {
     "slide_type": "skip"
    }
   },
   "outputs": [],
   "source": [
    "def get_count(pred_value):\n",
    "    difficulty = pd.DataFrame({\"Actual\":actual_value, \"Predict\":pred_value, \"difficulty_level\":kdd_diff_level_test})\n",
    "    #difficulty = pd.concat(difficulty, pd.Data)\n",
    "    difficulty['accuracy'] = None\n",
    "    difficulty.ix[difficulty.Actual == difficulty.Predict, \"accuracy\"] = 'Correct'\n",
    "    difficulty.ix[difficulty.Actual != difficulty.Predict, \"accuracy\"] = 'Incorrect'\n",
    "    diff_group = difficulty.loc[:,[\"difficulty_level\", \"accuracy\", \"Predict\"]].groupby([\"difficulty_level\", \"accuracy\"])\n",
    "    total_correct = sum(difficulty.Actual == difficulty.Predict)\n",
    "    total_records = difficulty.shape[0]\n",
    "    total_incorrect = total_records - total_correct\n",
    "    print(\"Total Records:{}\".format(total_records))\n",
    "    return diff_group.count()"
   ]
  },
  {
   "cell_type": "code",
   "execution_count": 8,
   "metadata": {
    "ExecuteTime": {
     "end_time": "2017-05-31T01:09:34.811827Z",
     "start_time": "2017-05-31T01:09:34.797934Z"
    },
    "collapsed": true,
    "nbpresent": {
     "id": "91e05ba0-d86f-4fcf-8088-3f12c7d94802"
    },
    "slideshow": {
     "slide_type": "skip"
    }
   },
   "outputs": [],
   "source": [
    "scores = pd.read_pickle(\"dataset/tf_vae_dense_trained_together_nsl_kdd_scores.pkl\")\n",
    "accumulate_test_scores = scores.iloc[:,0:3]\n",
    "#accumulate_test_scores"
   ]
  },
  {
   "cell_type": "code",
   "execution_count": 9,
   "metadata": {
    "ExecuteTime": {
     "end_time": "2017-05-31T01:09:34.848190Z",
     "start_time": "2017-05-31T01:09:34.813473Z"
    },
    "collapsed": true,
    "nbpresent": {
     "id": "d6b24543-bbf1-4826-b17d-dd735d08d01b"
    },
    "slideshow": {
     "slide_type": "skip"
    }
   },
   "outputs": [],
   "source": [
    "def evaluate(pred_pkl, score_pkl, name = 'DNN'):\n",
    "    global accumulate_test_scores\n",
    "    predictions = pd.read_pickle(pred_pkl)\n",
    "    scores = pd.read_pickle(score_pkl)\n",
    "    \n",
    "    accumulate_test_scores = pd.concat([accumulate_test_scores, \n",
    "                                        pd.DataFrame({\"{}_test_score\"\n",
    "                                                                  .format(name):\n",
    "                                                                  scores.loc[:,\"test_score\"]})], \n",
    "                                       axis = 1,)\n",
    "    #accumulate_test_scores = accumulate_test_scores.rename(columns = {\"test_score\":\"{}_test_score\".format(name)})\n",
    "    #print(scores.sort_values(\"test_score\", ascending=False))\n",
    "\n",
    "    df_sorted = scores.sort_values(\"test_score\", ascending=False).iloc[0,0:3]\n",
    "    epoch = int(df_sorted['epoch'])\n",
    "    n_o_f = int(df_sorted['no_of_features'])\n",
    "    h_l = int(df_sorted['hidden_layers'])\n",
    "    print(\"Best model choosen is: Epochs:{} Number of Features:{} Hidden Layers:{}\".format(epoch,n_o_f,h_l))\n",
    "    df_pred = predictions[\"{}_{}_{}\".format(epoch,n_o_f,h_l)] #.round(2)\n",
    "    Attack_index = actual_value == 0\n",
    "    Normal_index = actual_value == 1\n",
    "\n",
    "    #df_pred[Attack_index].plot(kind='line', figsize=(20,5), title=\"Prediction of Attack\")\n",
    "    #df_pred[Normal_index].plot(kind='line', figsize=(20,5), title=\"Prediction of Normal\")\n",
    "    \n",
    "    pred_value = df_pred[\"Prediction\"] #np.argmax(df_pred.values, axis=1)\n",
    "    plot(pred_value)\n",
    "    return scores.sort_values(\"test_score\", ascending=False)"
   ]
  },
  {
   "cell_type": "markdown",
   "metadata": {
    "nbpresent": {
     "id": "1cdf93b2-90b9-49f1-b624-141ada99d3c9"
    },
    "slideshow": {
     "slide_type": "slide"
    }
   },
   "source": [
    "# Evaluating Dense Network\n",
    "\n",
    "![Fully Connected Network](images/NSL_KDD_FullyConnectedNetwork.jpg)\n",
    "\n",
    "We used Fully connected Neural Network to observe the behavior of model training on NSL KDD data under various hyper parameter configurations as stated below:\n",
    "\n",
    "- Feature Reduction  \n",
    "We tried to reduce the number of features to understand how much the data can be compressed while still able to generalize enough for test dataset.\n",
    "    \n",
    "- Number of Hidden layers  \n",
    "    We wanted to observe how many layers of dense networks may be required to capture the non-leanarity of the data. This understanding may prove useful while training other deep learning architectures.\n",
    "- Epochs, learning rate   \n",
    "    We wanted to get an understanding of how much time/resources will be required to train the model."
   ]
  },
  {
   "cell_type": "code",
   "execution_count": 10,
   "metadata": {
    "ExecuteTime": {
     "end_time": "2017-05-31T01:09:35.245188Z",
     "start_time": "2017-05-31T01:09:34.849912Z"
    },
    "nbpresent": {
     "id": "3a6c2944-2893-4d44-88d8-606a7745c93f"
    },
    "slideshow": {
     "slide_type": "subslide"
    }
   },
   "outputs": [
    {
     "name": "stdout",
     "output_type": "stream",
     "text": [
      "Best model choosen is: Epochs:20 Number of Features:32 Hidden Layers:4\n"
     ]
    },
    {
     "data": {
      "text/html": [
       "<div>\n",
       "<table border=\"1\" class=\"dataframe\">\n",
       "  <thead>\n",
       "    <tr style=\"text-align: right;\">\n",
       "      <th></th>\n",
       "      <th>epoch</th>\n",
       "      <th>no_of_features</th>\n",
       "      <th>hidden_layers</th>\n",
       "      <th>train_score</th>\n",
       "      <th>test_score</th>\n",
       "      <th>time_taken</th>\n",
       "    </tr>\n",
       "  </thead>\n",
       "  <tbody>\n",
       "    <tr>\n",
       "      <th>6</th>\n",
       "      <td>20</td>\n",
       "      <td>32</td>\n",
       "      <td>4</td>\n",
       "      <td>0.892046</td>\n",
       "      <td>0.897933</td>\n",
       "      <td>19.431615</td>\n",
       "    </tr>\n",
       "    <tr>\n",
       "      <th>5</th>\n",
       "      <td>20</td>\n",
       "      <td>8</td>\n",
       "      <td>4</td>\n",
       "      <td>0.869027</td>\n",
       "      <td>0.885823</td>\n",
       "      <td>22.556436</td>\n",
       "    </tr>\n",
       "    <tr>\n",
       "      <th>1</th>\n",
       "      <td>20</td>\n",
       "      <td>8</td>\n",
       "      <td>2</td>\n",
       "      <td>0.905382</td>\n",
       "      <td>0.881254</td>\n",
       "      <td>17.043705</td>\n",
       "    </tr>\n",
       "    <tr>\n",
       "      <th>11</th>\n",
       "      <td>20</td>\n",
       "      <td>64</td>\n",
       "      <td>6</td>\n",
       "      <td>0.901334</td>\n",
       "      <td>0.881033</td>\n",
       "      <td>39.989143</td>\n",
       "    </tr>\n",
       "    <tr>\n",
       "      <th>3</th>\n",
       "      <td>20</td>\n",
       "      <td>64</td>\n",
       "      <td>2</td>\n",
       "      <td>0.919432</td>\n",
       "      <td>0.862757</td>\n",
       "      <td>8.935693</td>\n",
       "    </tr>\n",
       "    <tr>\n",
       "      <th>0</th>\n",
       "      <td>20</td>\n",
       "      <td>4</td>\n",
       "      <td>2</td>\n",
       "      <td>0.943007</td>\n",
       "      <td>0.845369</td>\n",
       "      <td>16.299912</td>\n",
       "    </tr>\n",
       "    <tr>\n",
       "      <th>4</th>\n",
       "      <td>20</td>\n",
       "      <td>4</td>\n",
       "      <td>4</td>\n",
       "      <td>0.850294</td>\n",
       "      <td>0.835788</td>\n",
       "      <td>9.173420</td>\n",
       "    </tr>\n",
       "    <tr>\n",
       "      <th>10</th>\n",
       "      <td>20</td>\n",
       "      <td>32</td>\n",
       "      <td>6</td>\n",
       "      <td>0.945309</td>\n",
       "      <td>0.829755</td>\n",
       "      <td>78.154274</td>\n",
       "    </tr>\n",
       "    <tr>\n",
       "      <th>7</th>\n",
       "      <td>20</td>\n",
       "      <td>64</td>\n",
       "      <td>4</td>\n",
       "      <td>0.948166</td>\n",
       "      <td>0.817158</td>\n",
       "      <td>39.293368</td>\n",
       "    </tr>\n",
       "    <tr>\n",
       "      <th>2</th>\n",
       "      <td>20</td>\n",
       "      <td>32</td>\n",
       "      <td>2</td>\n",
       "      <td>0.956342</td>\n",
       "      <td>0.788769</td>\n",
       "      <td>21.211315</td>\n",
       "    </tr>\n",
       "    <tr>\n",
       "      <th>9</th>\n",
       "      <td>20</td>\n",
       "      <td>8</td>\n",
       "      <td>6</td>\n",
       "      <td>0.870773</td>\n",
       "      <td>0.668604</td>\n",
       "      <td>58.356642</td>\n",
       "    </tr>\n",
       "    <tr>\n",
       "      <th>8</th>\n",
       "      <td>20</td>\n",
       "      <td>4</td>\n",
       "      <td>6</td>\n",
       "      <td>0.545960</td>\n",
       "      <td>0.430979</td>\n",
       "      <td>41.594095</td>\n",
       "    </tr>\n",
       "  </tbody>\n",
       "</table>\n",
       "</div>"
      ],
      "text/plain": [
       "    epoch  no_of_features  hidden_layers  train_score  test_score  time_taken\n",
       "6      20              32              4     0.892046    0.897933   19.431615\n",
       "5      20               8              4     0.869027    0.885823   22.556436\n",
       "1      20               8              2     0.905382    0.881254   17.043705\n",
       "11     20              64              6     0.901334    0.881033   39.989143\n",
       "3      20              64              2     0.919432    0.862757    8.935693\n",
       "0      20               4              2     0.943007    0.845369   16.299912\n",
       "4      20               4              4     0.850294    0.835788    9.173420\n",
       "10     20              32              6     0.945309    0.829755   78.154274\n",
       "7      20              64              4     0.948166    0.817158   39.293368\n",
       "2      20              32              2     0.956342    0.788769   21.211315\n",
       "9      20               8              6     0.870773    0.668604   58.356642\n",
       "8      20               4              6     0.545960    0.430979   41.594095"
      ]
     },
     "execution_count": 10,
     "metadata": {},
     "output_type": "execute_result"
    },
    {
     "data": {
      "image/png": "[encoded data removed]",
      "text/plain": [
       "<matplotlib.figure.Figure at 0x7f0ebc1d4f60>"
      ]
     },
     "metadata": {},
     "output_type": "display_data"
    }
   ],
   "source": [
    "evaluate(\"dataset/tf_dense_only_nsl_kdd_predictions.pkl\",\n",
    "         \"dataset/tf_dense_only_nsl_kdd_scores.pkl\", \"DenseNetwork\")"
   ]
  },
  {
   "cell_type": "markdown",
   "metadata": {
    "nbpresent": {
     "id": "a474a32b-ac75-4127-847b-5b6a54768b22"
    },
    "slideshow": {
     "slide_type": "slide"
    }
   },
   "source": [
    "# Variational Autoencoders \n",
    "\n",
    "Variational Autoencoders can reduce the features by initially compressing the data and then calculating mean and variance of the compressed data features. Mean and variance is used to approximate data distribution (Z) of each compressed feature. The model learns by optimzing loss occured while reproducing the actual data using the Z data distribution.  \n",
    "\n",
    "## Predict using Softmax\n",
    "In order to predict whether current network session is Normal or Attack, we coupled Softmax with layer producing Z data distribution.\n",
    "\n",
    "![VAE with Softmax](images/VAE_withSoftmax.jpg)\n"
   ]
  },
  {
   "cell_type": "code",
   "execution_count": 11,
   "metadata": {
    "ExecuteTime": {
     "end_time": "2017-05-31T01:09:35.600394Z",
     "start_time": "2017-05-31T01:09:35.246789Z"
    },
    "nbpresent": {
     "id": "2faa93e3-932d-4dec-a1d4-6b6550904965"
    },
    "scrolled": false,
    "slideshow": {
     "slide_type": "subslide"
    }
   },
   "outputs": [
    {
     "name": "stdout",
     "output_type": "stream",
     "text": [
      "Best model choosen is: Epochs:20 Number of Features:8 Hidden Layers:6\n"
     ]
    },
    {
     "data": {
      "text/html": [
       "<div>\n",
       "<table border=\"1\" class=\"dataframe\">\n",
       "  <thead>\n",
       "    <tr style=\"text-align: right;\">\n",
       "      <th></th>\n",
       "      <th>epoch</th>\n",
       "      <th>no_of_features</th>\n",
       "      <th>hidden_layers</th>\n",
       "      <th>train_score</th>\n",
       "      <th>test_score</th>\n",
       "      <th>time_taken</th>\n",
       "    </tr>\n",
       "  </thead>\n",
       "  <tbody>\n",
       "    <tr>\n",
       "      <th>9</th>\n",
       "      <td>20</td>\n",
       "      <td>8</td>\n",
       "      <td>6</td>\n",
       "      <td>0.896606</td>\n",
       "      <td>0.892832</td>\n",
       "      <td>18.282973</td>\n",
       "    </tr>\n",
       "    <tr>\n",
       "      <th>2</th>\n",
       "      <td>20</td>\n",
       "      <td>16</td>\n",
       "      <td>2</td>\n",
       "      <td>0.910498</td>\n",
       "      <td>0.884315</td>\n",
       "      <td>52.052245</td>\n",
       "    </tr>\n",
       "    <tr>\n",
       "      <th>8</th>\n",
       "      <td>20</td>\n",
       "      <td>4</td>\n",
       "      <td>6</td>\n",
       "      <td>0.900099</td>\n",
       "      <td>0.883960</td>\n",
       "      <td>79.896244</td>\n",
       "    </tr>\n",
       "    <tr>\n",
       "      <th>7</th>\n",
       "      <td>20</td>\n",
       "      <td>32</td>\n",
       "      <td>4</td>\n",
       "      <td>0.876999</td>\n",
       "      <td>0.877395</td>\n",
       "      <td>109.307383</td>\n",
       "    </tr>\n",
       "    <tr>\n",
       "      <th>11</th>\n",
       "      <td>20</td>\n",
       "      <td>32</td>\n",
       "      <td>6</td>\n",
       "      <td>0.872832</td>\n",
       "      <td>0.858321</td>\n",
       "      <td>56.983235</td>\n",
       "    </tr>\n",
       "    <tr>\n",
       "      <th>4</th>\n",
       "      <td>20</td>\n",
       "      <td>4</td>\n",
       "      <td>4</td>\n",
       "      <td>0.878309</td>\n",
       "      <td>0.857967</td>\n",
       "      <td>36.212009</td>\n",
       "    </tr>\n",
       "    <tr>\n",
       "      <th>1</th>\n",
       "      <td>20</td>\n",
       "      <td>8</td>\n",
       "      <td>2</td>\n",
       "      <td>0.831117</td>\n",
       "      <td>0.841466</td>\n",
       "      <td>46.666873</td>\n",
       "    </tr>\n",
       "    <tr>\n",
       "      <th>6</th>\n",
       "      <td>20</td>\n",
       "      <td>16</td>\n",
       "      <td>4</td>\n",
       "      <td>0.930304</td>\n",
       "      <td>0.836985</td>\n",
       "      <td>8.436142</td>\n",
       "    </tr>\n",
       "    <tr>\n",
       "      <th>10</th>\n",
       "      <td>20</td>\n",
       "      <td>16</td>\n",
       "      <td>6</td>\n",
       "      <td>0.882993</td>\n",
       "      <td>0.821327</td>\n",
       "      <td>9.489717</td>\n",
       "    </tr>\n",
       "    <tr>\n",
       "      <th>0</th>\n",
       "      <td>20</td>\n",
       "      <td>4</td>\n",
       "      <td>2</td>\n",
       "      <td>0.902123</td>\n",
       "      <td>0.810504</td>\n",
       "      <td>14.201883</td>\n",
       "    </tr>\n",
       "    <tr>\n",
       "      <th>3</th>\n",
       "      <td>20</td>\n",
       "      <td>32</td>\n",
       "      <td>2</td>\n",
       "      <td>0.925581</td>\n",
       "      <td>0.773554</td>\n",
       "      <td>4.045676</td>\n",
       "    </tr>\n",
       "    <tr>\n",
       "      <th>5</th>\n",
       "      <td>20</td>\n",
       "      <td>8</td>\n",
       "      <td>4</td>\n",
       "      <td>0.877555</td>\n",
       "      <td>0.771735</td>\n",
       "      <td>156.046256</td>\n",
       "    </tr>\n",
       "  </tbody>\n",
       "</table>\n",
       "</div>"
      ],
      "text/plain": [
       "    epoch  no_of_features  hidden_layers  train_score  test_score  time_taken\n",
       "9      20               8              6     0.896606    0.892832   18.282973\n",
       "2      20              16              2     0.910498    0.884315   52.052245\n",
       "8      20               4              6     0.900099    0.883960   79.896244\n",
       "7      20              32              4     0.876999    0.877395  109.307383\n",
       "11     20              32              6     0.872832    0.858321   56.983235\n",
       "4      20               4              4     0.878309    0.857967   36.212009\n",
       "1      20               8              2     0.831117    0.841466   46.666873\n",
       "6      20              16              4     0.930304    0.836985    8.436142\n",
       "10     20              16              6     0.882993    0.821327    9.489717\n",
       "0      20               4              2     0.902123    0.810504   14.201883\n",
       "3      20              32              2     0.925581    0.773554    4.045676\n",
       "5      20               8              4     0.877555    0.771735  156.046256"
      ]
     },
     "execution_count": 11,
     "metadata": {},
     "output_type": "execute_result"
    },
    {
     "data": {
      "image/png": "[encoded data removed]",
      "text/plain": [
       "<matplotlib.figure.Figure at 0x7f0e807703c8>"
      ]
     },
     "metadata": {},
     "output_type": "display_data"
    }
   ],
   "source": [
    "evaluate(\"dataset/tf_vae_dense_trained_together_nsl_kdd_predictions.pkl\",\n",
    "         \"dataset/tf_vae_dense_trained_together_nsl_kdd_scores.pkl\", \"VAE_with_Softmax\")"
   ]
  },
  {
   "cell_type": "markdown",
   "metadata": {
    "nbpresent": {
     "id": "c4ef37f2-b016-4b0e-a3c9-aa38478fc6eb"
    },
    "slideshow": {
     "slide_type": "slide"
    }
   },
   "source": [
    "## Include dependent Variable as feature.\n",
    "\n",
    "Another approach we took is to train VAE to reproduce Normal/Attack labels itself during Training cylce. While testing, we would replace the labels with **random values(0~1)** and use VAE to generate correct values of the labels.\n",
    "\n",
    "![VAE with Softmax](images/VAE_withLabel.jpg)\n"
   ]
  },
  {
   "cell_type": "markdown",
   "metadata": {
    "nbpresent": {
     "id": "7d9c7d57-0cb5-4eb4-969f-959d0a3ae352"
    },
    "slideshow": {
     "slide_type": "subslide"
    }
   },
   "source": [
    "## using VAE Loss\n",
    "\n",
    "< explain the variation >"
   ]
  },
  {
   "cell_type": "code",
   "execution_count": 12,
   "metadata": {
    "ExecuteTime": {
     "end_time": "2017-05-31T01:09:36.040692Z",
     "start_time": "2017-05-31T01:09:35.601937Z"
    },
    "nbpresent": {
     "id": "a4c7d76b-0be6-4bd2-9b00-208e08d86ca7"
    },
    "scrolled": false,
    "slideshow": {
     "slide_type": "subslide"
    }
   },
   "outputs": [
    {
     "name": "stdout",
     "output_type": "stream",
     "text": [
      "Best model choosen is: Epochs:20 Number of Features:4 Hidden Layers:6\n"
     ]
    },
    {
     "data": {
      "text/html": [
       "<div>\n",
       "<table border=\"1\" class=\"dataframe\">\n",
       "  <thead>\n",
       "    <tr style=\"text-align: right;\">\n",
       "      <th></th>\n",
       "      <th>epoch</th>\n",
       "      <th>no_of_features</th>\n",
       "      <th>hidden_layers</th>\n",
       "      <th>train_score</th>\n",
       "      <th>test_score</th>\n",
       "      <th>time_taken</th>\n",
       "    </tr>\n",
       "  </thead>\n",
       "  <tbody>\n",
       "    <tr>\n",
       "      <th>8</th>\n",
       "      <td>20</td>\n",
       "      <td>4</td>\n",
       "      <td>6</td>\n",
       "      <td>0.856326</td>\n",
       "      <td>0.869633</td>\n",
       "      <td>58.462562</td>\n",
       "    </tr>\n",
       "    <tr>\n",
       "      <th>4</th>\n",
       "      <td>20</td>\n",
       "      <td>4</td>\n",
       "      <td>4</td>\n",
       "      <td>0.865375</td>\n",
       "      <td>0.862535</td>\n",
       "      <td>62.101604</td>\n",
       "    </tr>\n",
       "    <tr>\n",
       "      <th>11</th>\n",
       "      <td>20</td>\n",
       "      <td>32</td>\n",
       "      <td>6</td>\n",
       "      <td>0.904509</td>\n",
       "      <td>0.845413</td>\n",
       "      <td>7.644736</td>\n",
       "    </tr>\n",
       "    <tr>\n",
       "      <th>1</th>\n",
       "      <td>20</td>\n",
       "      <td>8</td>\n",
       "      <td>2</td>\n",
       "      <td>0.920067</td>\n",
       "      <td>0.842264</td>\n",
       "      <td>63.524530</td>\n",
       "    </tr>\n",
       "    <tr>\n",
       "      <th>10</th>\n",
       "      <td>20</td>\n",
       "      <td>16</td>\n",
       "      <td>6</td>\n",
       "      <td>0.778060</td>\n",
       "      <td>0.840845</td>\n",
       "      <td>73.350619</td>\n",
       "    </tr>\n",
       "    <tr>\n",
       "      <th>9</th>\n",
       "      <td>20</td>\n",
       "      <td>8</td>\n",
       "      <td>6</td>\n",
       "      <td>0.844658</td>\n",
       "      <td>0.833126</td>\n",
       "      <td>77.473783</td>\n",
       "    </tr>\n",
       "    <tr>\n",
       "      <th>6</th>\n",
       "      <td>20</td>\n",
       "      <td>16</td>\n",
       "      <td>4</td>\n",
       "      <td>0.905223</td>\n",
       "      <td>0.824876</td>\n",
       "      <td>135.412426</td>\n",
       "    </tr>\n",
       "    <tr>\n",
       "      <th>3</th>\n",
       "      <td>20</td>\n",
       "      <td>32</td>\n",
       "      <td>2</td>\n",
       "      <td>0.950548</td>\n",
       "      <td>0.823279</td>\n",
       "      <td>11.461275</td>\n",
       "    </tr>\n",
       "    <tr>\n",
       "      <th>7</th>\n",
       "      <td>20</td>\n",
       "      <td>32</td>\n",
       "      <td>4</td>\n",
       "      <td>0.903477</td>\n",
       "      <td>0.809218</td>\n",
       "      <td>36.302240</td>\n",
       "    </tr>\n",
       "    <tr>\n",
       "      <th>0</th>\n",
       "      <td>20</td>\n",
       "      <td>4</td>\n",
       "      <td>2</td>\n",
       "      <td>0.943086</td>\n",
       "      <td>0.790232</td>\n",
       "      <td>21.424091</td>\n",
       "    </tr>\n",
       "    <tr>\n",
       "      <th>5</th>\n",
       "      <td>20</td>\n",
       "      <td>8</td>\n",
       "      <td>4</td>\n",
       "      <td>0.911256</td>\n",
       "      <td>0.772401</td>\n",
       "      <td>13.949796</td>\n",
       "    </tr>\n",
       "    <tr>\n",
       "      <th>2</th>\n",
       "      <td>20</td>\n",
       "      <td>16</td>\n",
       "      <td>2</td>\n",
       "      <td>0.953564</td>\n",
       "      <td>0.767876</td>\n",
       "      <td>5.662451</td>\n",
       "    </tr>\n",
       "  </tbody>\n",
       "</table>\n",
       "</div>"
      ],
      "text/plain": [
       "    epoch  no_of_features  hidden_layers  train_score  test_score  time_taken\n",
       "8      20               4              6     0.856326    0.869633   58.462562\n",
       "4      20               4              4     0.865375    0.862535   62.101604\n",
       "11     20              32              6     0.904509    0.845413    7.644736\n",
       "1      20               8              2     0.920067    0.842264   63.524530\n",
       "10     20              16              6     0.778060    0.840845   73.350619\n",
       "9      20               8              6     0.844658    0.833126   77.473783\n",
       "6      20              16              4     0.905223    0.824876  135.412426\n",
       "3      20              32              2     0.950548    0.823279   11.461275\n",
       "7      20              32              4     0.903477    0.809218   36.302240\n",
       "0      20               4              2     0.943086    0.790232   21.424091\n",
       "5      20               8              4     0.911256    0.772401   13.949796\n",
       "2      20              16              2     0.953564    0.767876    5.662451"
      ]
     },
     "execution_count": 12,
     "metadata": {},
     "output_type": "execute_result"
    },
    {
     "data": {
      "image/png": "[encoded data removed]",
      "text/plain": [
       "<matplotlib.figure.Figure at 0x7f0e7af2f1d0>"
      ]
     },
     "metadata": {},
     "output_type": "display_data"
    }
   ],
   "source": [
    "evaluate(\"dataset/tf_vae_only_vae_loss_nsl_kdd_predictions.pkl\",\n",
    "         \"dataset/tf_vae_only_vae_loss_nsl_kdd_scores.pkl\", \"VAE_with_label\")"
   ]
  },
  {
   "cell_type": "markdown",
   "metadata": {
    "nbpresent": {
     "id": "77e87c15-2fa9-42e3-a422-16e7a4fcd394"
    },
    "slideshow": {
     "slide_type": "subslide"
    }
   },
   "source": [
    "## Using MSE Loss"
   ]
  },
  {
   "cell_type": "code",
   "execution_count": 13,
   "metadata": {
    "ExecuteTime": {
     "end_time": "2017-05-31T01:09:36.388010Z",
     "start_time": "2017-05-31T01:09:36.042349Z"
    },
    "nbpresent": {
     "id": "6c54a49d-2138-49dd-a863-40f4b4b7036b"
    },
    "slideshow": {
     "slide_type": "subslide"
    }
   },
   "outputs": [
    {
     "name": "stdout",
     "output_type": "stream",
     "text": [
      "Best model choosen is: Epochs:20 Number of Features:8 Hidden Layers:4\n"
     ]
    },
    {
     "data": {
      "text/html": [
       "<div>\n",
       "<table border=\"1\" class=\"dataframe\">\n",
       "  <thead>\n",
       "    <tr style=\"text-align: right;\">\n",
       "      <th></th>\n",
       "      <th>epoch</th>\n",
       "      <th>no_of_features</th>\n",
       "      <th>hidden_layers</th>\n",
       "      <th>train_score</th>\n",
       "      <th>test_score</th>\n",
       "      <th>time_taken</th>\n",
       "    </tr>\n",
       "  </thead>\n",
       "  <tbody>\n",
       "    <tr>\n",
       "      <th>5</th>\n",
       "      <td>20</td>\n",
       "      <td>8</td>\n",
       "      <td>4</td>\n",
       "      <td>0.942610</td>\n",
       "      <td>0.895848</td>\n",
       "      <td>58.912110</td>\n",
       "    </tr>\n",
       "    <tr>\n",
       "      <th>8</th>\n",
       "      <td>20</td>\n",
       "      <td>4</td>\n",
       "      <td>6</td>\n",
       "      <td>0.909906</td>\n",
       "      <td>0.877661</td>\n",
       "      <td>155.164080</td>\n",
       "    </tr>\n",
       "    <tr>\n",
       "      <th>9</th>\n",
       "      <td>20</td>\n",
       "      <td>8</td>\n",
       "      <td>6</td>\n",
       "      <td>0.927290</td>\n",
       "      <td>0.831396</td>\n",
       "      <td>83.473590</td>\n",
       "    </tr>\n",
       "    <tr>\n",
       "      <th>3</th>\n",
       "      <td>20</td>\n",
       "      <td>32</td>\n",
       "      <td>2</td>\n",
       "      <td>0.949992</td>\n",
       "      <td>0.829888</td>\n",
       "      <td>48.012730</td>\n",
       "    </tr>\n",
       "    <tr>\n",
       "      <th>0</th>\n",
       "      <td>20</td>\n",
       "      <td>4</td>\n",
       "      <td>2</td>\n",
       "      <td>0.955945</td>\n",
       "      <td>0.828691</td>\n",
       "      <td>19.451182</td>\n",
       "    </tr>\n",
       "    <tr>\n",
       "      <th>6</th>\n",
       "      <td>20</td>\n",
       "      <td>16</td>\n",
       "      <td>4</td>\n",
       "      <td>0.844975</td>\n",
       "      <td>0.827848</td>\n",
       "      <td>101.502000</td>\n",
       "    </tr>\n",
       "    <tr>\n",
       "      <th>4</th>\n",
       "      <td>20</td>\n",
       "      <td>4</td>\n",
       "      <td>4</td>\n",
       "      <td>0.959200</td>\n",
       "      <td>0.822392</td>\n",
       "      <td>40.326999</td>\n",
       "    </tr>\n",
       "    <tr>\n",
       "      <th>11</th>\n",
       "      <td>20</td>\n",
       "      <td>32</td>\n",
       "      <td>6</td>\n",
       "      <td>0.933323</td>\n",
       "      <td>0.821993</td>\n",
       "      <td>69.000163</td>\n",
       "    </tr>\n",
       "    <tr>\n",
       "      <th>7</th>\n",
       "      <td>20</td>\n",
       "      <td>32</td>\n",
       "      <td>4</td>\n",
       "      <td>0.953008</td>\n",
       "      <td>0.813831</td>\n",
       "      <td>6.107059</td>\n",
       "    </tr>\n",
       "    <tr>\n",
       "      <th>10</th>\n",
       "      <td>20</td>\n",
       "      <td>16</td>\n",
       "      <td>6</td>\n",
       "      <td>0.947214</td>\n",
       "      <td>0.806246</td>\n",
       "      <td>8.385378</td>\n",
       "    </tr>\n",
       "    <tr>\n",
       "      <th>1</th>\n",
       "      <td>20</td>\n",
       "      <td>8</td>\n",
       "      <td>2</td>\n",
       "      <td>0.938800</td>\n",
       "      <td>0.802874</td>\n",
       "      <td>52.740351</td>\n",
       "    </tr>\n",
       "    <tr>\n",
       "      <th>2</th>\n",
       "      <td>20</td>\n",
       "      <td>16</td>\n",
       "      <td>2</td>\n",
       "      <td>0.966423</td>\n",
       "      <td>0.794491</td>\n",
       "      <td>10.471723</td>\n",
       "    </tr>\n",
       "  </tbody>\n",
       "</table>\n",
       "</div>"
      ],
      "text/plain": [
       "    epoch  no_of_features  hidden_layers  train_score  test_score  time_taken\n",
       "5      20               8              4     0.942610    0.895848   58.912110\n",
       "8      20               4              6     0.909906    0.877661  155.164080\n",
       "9      20               8              6     0.927290    0.831396   83.473590\n",
       "3      20              32              2     0.949992    0.829888   48.012730\n",
       "0      20               4              2     0.955945    0.828691   19.451182\n",
       "6      20              16              4     0.844975    0.827848  101.502000\n",
       "4      20               4              4     0.959200    0.822392   40.326999\n",
       "11     20              32              6     0.933323    0.821993   69.000163\n",
       "7      20              32              4     0.953008    0.813831    6.107059\n",
       "10     20              16              6     0.947214    0.806246    8.385378\n",
       "1      20               8              2     0.938800    0.802874   52.740351\n",
       "2      20              16              2     0.966423    0.794491   10.471723"
      ]
     },
     "execution_count": 13,
     "metadata": {},
     "output_type": "execute_result"
    },
    {
     "data": {
      "image/png": "[encoded data removed]",
      "text/plain": [
       "<matplotlib.figure.Figure at 0x7f0e80809208>"
      ]
     },
     "metadata": {},
     "output_type": "display_data"
    }
   ],
   "source": [
    "evaluate(\"dataset/tf_vae_only_nsl_kdd_predictions.pkl\",\n",
    "         \"dataset/tf_vae_only_nsl_kdd_scores.pkl\", \"VAE_with_label_MSE_loss\")"
   ]
  },
  {
   "cell_type": "markdown",
   "metadata": {
    "nbpresent": {
     "id": "93a1c0ae-00d0-4878-b175-623a9935d426"
    },
    "slideshow": {
     "slide_type": "slide"
    }
   },
   "source": [
    "# LSTM Autoencoder Model\n",
    "\n",
    "LSTM Autoencoder, aka Seq2Seq, model is generally used to predict sequences of numbers (time dependent) given another sequence of numbers. LSTM encoders generates a context vector using input sequence which is passed on to decoder to generate the output.  \n",
    "We coupled LSTM decoder cells with Softmax layer to generate probability whether current session is Normal or Attack  \n",
    "\n",
    "\n",
    "![LSTM Encoder Decoder Model](images/LSTMseq2seq_withsoftmax.jpg)"
   ]
  },
  {
   "cell_type": "code",
   "execution_count": 14,
   "metadata": {
    "ExecuteTime": {
     "end_time": "2017-05-31T01:09:36.392149Z",
     "start_time": "2017-05-31T01:09:36.389576Z"
    },
    "collapsed": true,
    "nbpresent": {
     "id": "b357855c-ff4f-4b65-81f5-b1805f98cced"
    },
    "slideshow": {
     "slide_type": "subslide"
    }
   },
   "outputs": [],
   "source": [
    "#evaluate(\"dataset/keras_lstm_nsl_kdd_predictions.pkl\",\n",
    "#         \"dataset/keras_lstm_nsl_kdd_scores.pkl\", \"VAE_with_label_MSE_loss\")"
   ]
  },
  {
   "cell_type": "markdown",
   "metadata": {
    "nbpresent": {
     "id": "76d423a9-d1c1-41be-9eea-37efcd760698"
    },
    "slideshow": {
     "slide_type": "slide"
    }
   },
   "source": [
    "# Generative Adversarial Networks\n",
    "\n",
    "## General Concept\n",
    "\n",
    "GANs utilizes two networks, Generator and Discriminator, to learn about data distribution by generating the data itself.\n",
    "- Generator Network is responsible to produce data of interest using random values.\n",
    "- Discriminator Network is responsible to identify between fake data produced by Generator and Actual sample of data.\n",
    "\n",
    "The optimized state of GANs is when Generator starts to produce enough realistic data so discriminator cannot distinguish between real data and generated data\n",
    "\n",
    "\n",
    "\n",
    "![Generative Advarsarial Networks](images/NSL_KDD_GAN_original_idea.jpg)"
   ]
  },
  {
   "cell_type": "markdown",
   "metadata": {
    "nbpresent": {
     "id": "51c2878f-3084-4b90-90a0-47b521aa2b72"
    },
    "slideshow": {
     "slide_type": "slide"
    }
   },
   "source": [
    "## GANs - For Hypothesis testing\n",
    "\n",
    "We suggest a learning model where GANs can be used for Hypothesis testing. Assume we have 2 data distributions D1 and D2:\n",
    "- Generator will be responsible to produce D2 distribution using random values\n",
    "- Discriminiator will be responsible to distinguish between D1 and D2 distributions.  \n",
    "\n",
    "Basically, discriminator will output probability between 0~1 whether current data is D1 or not. In this way we can decide a significance level based on which it can be decided to either Accept or Reject Null hypothesis i.e. whether current data is D1 or not.\n",
    "\n",
    "![GAN_hypo_optim_state](images/NSL_KDD_GAN_initial_state.jpg)\n",
    "![GAN_hypo_optim_state](images/NSL_KDD_GAN_hypo_optim_state.jpg)"
   ]
  },
  {
   "cell_type": "markdown",
   "metadata": {
    "nbpresent": {
     "id": "42ada2ab-373d-4ad8-a029-ecffaa76bb9f"
    },
    "slideshow": {
     "slide_type": "slide"
    }
   },
   "source": [
    "### GANs for NSL KDD dataset \n",
    "\n",
    "\n",
    "\n",
    "![GANs for NSL KDD dataset ](images/NSL_KDD_GAN_attack_hypothesis.jpg)"
   ]
  },
  {
   "cell_type": "markdown",
   "metadata": {
    "nbpresent": {
     "id": "ae6e2a6d-a258-412f-9d50-53bf77e2f622"
    },
    "slideshow": {
     "slide_type": "slide"
    }
   },
   "source": [
    "# Compare Results"
   ]
  },
  {
   "cell_type": "code",
   "execution_count": 15,
   "metadata": {
    "ExecuteTime": {
     "end_time": "2017-05-31T01:09:36.400784Z",
     "start_time": "2017-05-31T01:09:36.393681Z"
    },
    "collapsed": true,
    "nbpresent": {
     "id": "7478d10f-09bf-4090-95cd-f0021c756136"
    },
    "slideshow": {
     "slide_type": "skip"
    }
   },
   "outputs": [],
   "source": [
    "accumulate_test_scores['param'] = accumulate_test_scores[['epoch','no_of_features', 'hidden_layers']].apply(lambda x : 'epoch:{}_features:{}_layers:{}'.format(x[0],x[1], x[2]), axis=1)"
   ]
  },
  {
   "cell_type": "code",
   "execution_count": 16,
   "metadata": {
    "ExecuteTime": {
     "end_time": "2017-05-31T01:09:36.406626Z",
     "start_time": "2017-05-31T01:09:36.402437Z"
    },
    "collapsed": true,
    "nbpresent": {
     "id": "0f797418-3425-4061-98fb-6bfdfb254c72"
    },
    "slideshow": {
     "slide_type": "skip"
    }
   },
   "outputs": [],
   "source": [
    "accumulate_test_scores = accumulate_test_scores.drop(['epoch','no_of_features', 'hidden_layers'], axis = 1)"
   ]
  },
  {
   "cell_type": "code",
   "execution_count": 17,
   "metadata": {
    "ExecuteTime": {
     "end_time": "2017-05-31T01:09:36.411564Z",
     "start_time": "2017-05-31T01:09:36.408161Z"
    },
    "collapsed": true,
    "nbpresent": {
     "id": "af94558b-d4d2-4e1e-8478-4d36504c8c51"
    },
    "slideshow": {
     "slide_type": "skip"
    }
   },
   "outputs": [],
   "source": [
    "accumulate_test_scores.set_index(\"param\", inplace = True)"
   ]
  },
  {
   "cell_type": "code",
   "execution_count": 18,
   "metadata": {
    "ExecuteTime": {
     "end_time": "2017-05-31T01:09:36.424464Z",
     "start_time": "2017-05-31T01:09:36.412970Z"
    },
    "nbpresent": {
     "id": "d0352ed5-d35e-421e-b41f-64e6be58b0e3"
    },
    "slideshow": {
     "slide_type": "subslide"
    }
   },
   "outputs": [
    {
     "data": {
      "text/html": [
       "<div>\n",
       "<table border=\"1\" class=\"dataframe\">\n",
       "  <thead>\n",
       "    <tr style=\"text-align: right;\">\n",
       "      <th></th>\n",
       "      <th>DenseNetwork_test_score</th>\n",
       "      <th>VAE_with_Softmax_test_score</th>\n",
       "      <th>VAE_with_label_test_score</th>\n",
       "      <th>VAE_with_label_MSE_loss_test_score</th>\n",
       "    </tr>\n",
       "    <tr>\n",
       "      <th>param</th>\n",
       "      <th></th>\n",
       "      <th></th>\n",
       "      <th></th>\n",
       "      <th></th>\n",
       "    </tr>\n",
       "  </thead>\n",
       "  <tbody>\n",
       "    <tr>\n",
       "      <th>epoch:20_features:4_layers:2</th>\n",
       "      <td>0.845369</td>\n",
       "      <td>0.810504</td>\n",
       "      <td>0.790232</td>\n",
       "      <td>0.828691</td>\n",
       "    </tr>\n",
       "    <tr>\n",
       "      <th>epoch:20_features:8_layers:2</th>\n",
       "      <td>0.881254</td>\n",
       "      <td>0.841466</td>\n",
       "      <td>0.842264</td>\n",
       "      <td>0.802874</td>\n",
       "    </tr>\n",
       "    <tr>\n",
       "      <th>epoch:20_features:16_layers:2</th>\n",
       "      <td>0.788769</td>\n",
       "      <td>0.884315</td>\n",
       "      <td>0.767876</td>\n",
       "      <td>0.794491</td>\n",
       "    </tr>\n",
       "    <tr>\n",
       "      <th>epoch:20_features:32_layers:2</th>\n",
       "      <td>0.862757</td>\n",
       "      <td>0.773554</td>\n",
       "      <td>0.823279</td>\n",
       "      <td>0.829888</td>\n",
       "    </tr>\n",
       "    <tr>\n",
       "      <th>epoch:20_features:4_layers:4</th>\n",
       "      <td>0.835788</td>\n",
       "      <td>0.857967</td>\n",
       "      <td>0.862535</td>\n",
       "      <td>0.822392</td>\n",
       "    </tr>\n",
       "    <tr>\n",
       "      <th>epoch:20_features:8_layers:4</th>\n",
       "      <td>0.885823</td>\n",
       "      <td>0.771735</td>\n",
       "      <td>0.772401</td>\n",
       "      <td>0.895848</td>\n",
       "    </tr>\n",
       "    <tr>\n",
       "      <th>epoch:20_features:16_layers:4</th>\n",
       "      <td>0.897933</td>\n",
       "      <td>0.836985</td>\n",
       "      <td>0.824876</td>\n",
       "      <td>0.827848</td>\n",
       "    </tr>\n",
       "    <tr>\n",
       "      <th>epoch:20_features:32_layers:4</th>\n",
       "      <td>0.817158</td>\n",
       "      <td>0.877395</td>\n",
       "      <td>0.809218</td>\n",
       "      <td>0.813831</td>\n",
       "    </tr>\n",
       "    <tr>\n",
       "      <th>epoch:20_features:4_layers:6</th>\n",
       "      <td>0.430979</td>\n",
       "      <td>0.883960</td>\n",
       "      <td>0.869633</td>\n",
       "      <td>0.877661</td>\n",
       "    </tr>\n",
       "    <tr>\n",
       "      <th>epoch:20_features:8_layers:6</th>\n",
       "      <td>0.668604</td>\n",
       "      <td>0.892832</td>\n",
       "      <td>0.833126</td>\n",
       "      <td>0.831396</td>\n",
       "    </tr>\n",
       "    <tr>\n",
       "      <th>epoch:20_features:16_layers:6</th>\n",
       "      <td>0.829755</td>\n",
       "      <td>0.821327</td>\n",
       "      <td>0.840845</td>\n",
       "      <td>0.806246</td>\n",
       "    </tr>\n",
       "    <tr>\n",
       "      <th>epoch:20_features:32_layers:6</th>\n",
       "      <td>0.881033</td>\n",
       "      <td>0.858321</td>\n",
       "      <td>0.845413</td>\n",
       "      <td>0.821993</td>\n",
       "    </tr>\n",
       "  </tbody>\n",
       "</table>\n",
       "</div>"
      ],
      "text/plain": [
       "                               DenseNetwork_test_score  \\\n",
       "param                                                    \n",
       "epoch:20_features:4_layers:2                  0.845369   \n",
       "epoch:20_features:8_layers:2                  0.881254   \n",
       "epoch:20_features:16_layers:2                 0.788769   \n",
       "epoch:20_features:32_layers:2                 0.862757   \n",
       "epoch:20_features:4_layers:4                  0.835788   \n",
       "epoch:20_features:8_layers:4                  0.885823   \n",
       "epoch:20_features:16_layers:4                 0.897933   \n",
       "epoch:20_features:32_layers:4                 0.817158   \n",
       "epoch:20_features:4_layers:6                  0.430979   \n",
       "epoch:20_features:8_layers:6                  0.668604   \n",
       "epoch:20_features:16_layers:6                 0.829755   \n",
       "epoch:20_features:32_layers:6                 0.881033   \n",
       "\n",
       "                               VAE_with_Softmax_test_score  \\\n",
       "param                                                        \n",
       "epoch:20_features:4_layers:2                      0.810504   \n",
       "epoch:20_features:8_layers:2                      0.841466   \n",
       "epoch:20_features:16_layers:2                     0.884315   \n",
       "epoch:20_features:32_layers:2                     0.773554   \n",
       "epoch:20_features:4_layers:4                      0.857967   \n",
       "epoch:20_features:8_layers:4                      0.771735   \n",
       "epoch:20_features:16_layers:4                     0.836985   \n",
       "epoch:20_features:32_layers:4                     0.877395   \n",
       "epoch:20_features:4_layers:6                      0.883960   \n",
       "epoch:20_features:8_layers:6                      0.892832   \n",
       "epoch:20_features:16_layers:6                     0.821327   \n",
       "epoch:20_features:32_layers:6                     0.858321   \n",
       "\n",
       "                               VAE_with_label_test_score  \\\n",
       "param                                                      \n",
       "epoch:20_features:4_layers:2                    0.790232   \n",
       "epoch:20_features:8_layers:2                    0.842264   \n",
       "epoch:20_features:16_layers:2                   0.767876   \n",
       "epoch:20_features:32_layers:2                   0.823279   \n",
       "epoch:20_features:4_layers:4                    0.862535   \n",
       "epoch:20_features:8_layers:4                    0.772401   \n",
       "epoch:20_features:16_layers:4                   0.824876   \n",
       "epoch:20_features:32_layers:4                   0.809218   \n",
       "epoch:20_features:4_layers:6                    0.869633   \n",
       "epoch:20_features:8_layers:6                    0.833126   \n",
       "epoch:20_features:16_layers:6                   0.840845   \n",
       "epoch:20_features:32_layers:6                   0.845413   \n",
       "\n",
       "                               VAE_with_label_MSE_loss_test_score  \n",
       "param                                                              \n",
       "epoch:20_features:4_layers:2                             0.828691  \n",
       "epoch:20_features:8_layers:2                             0.802874  \n",
       "epoch:20_features:16_layers:2                            0.794491  \n",
       "epoch:20_features:32_layers:2                            0.829888  \n",
       "epoch:20_features:4_layers:4                             0.822392  \n",
       "epoch:20_features:8_layers:4                             0.895848  \n",
       "epoch:20_features:16_layers:4                            0.827848  \n",
       "epoch:20_features:32_layers:4                            0.813831  \n",
       "epoch:20_features:4_layers:6                             0.877661  \n",
       "epoch:20_features:8_layers:6                             0.831396  \n",
       "epoch:20_features:16_layers:6                            0.806246  \n",
       "epoch:20_features:32_layers:6                            0.821993  "
      ]
     },
     "execution_count": 18,
     "metadata": {},
     "output_type": "execute_result"
    }
   ],
   "source": [
    "accumulate_test_scores"
   ]
  },
  {
   "cell_type": "code",
   "execution_count": 19,
   "metadata": {
    "ExecuteTime": {
     "end_time": "2017-05-31T01:09:36.881163Z",
     "start_time": "2017-05-31T01:09:36.426046Z"
    },
    "nbpresent": {
     "id": "d2b7cd6f-82d4-47f5-bf2f-0a8b003947ad"
    },
    "slideshow": {
     "slide_type": "subslide"
    }
   },
   "outputs": [
    {
     "data": {
      "image/png": "[encoded data removed]",
      "text/plain": [
       "<matplotlib.figure.Figure at 0x7f0e80243dd8>"
      ]
     },
     "metadata": {},
     "output_type": "display_data"
    }
   ],
   "source": [
    "f = plt.figure()\n",
    "accumulate_test_scores.plot(kind='bar', figsize=(15,4), ax=f.gca(),grid=True, )\n",
    "plt.legend(loc='center left', bbox_to_anchor=(1.0, 0.5))\n",
    "plt.show()"
   ]
  },
  {
   "cell_type": "code",
   "execution_count": 20,
   "metadata": {
    "ExecuteTime": {
     "end_time": "2017-05-31T01:09:36.886374Z",
     "start_time": "2017-05-31T01:09:36.882768Z"
    },
    "collapsed": true,
    "nbpresent": {
     "id": "5eed33c1-30c4-4447-8067-f97c5a110d97"
    },
    "slideshow": {
     "slide_type": "skip"
    }
   },
   "outputs": [],
   "source": [
    "accumulate_test_scores.to_csv(\"dataset/results.csv\")"
   ]
  },
  {
   "cell_type": "code",
   "execution_count": null,
   "metadata": {
    "collapsed": true,
    "nbpresent": {
     "id": "226a0ba1-e79a-4ba2-8e27-23d447d1ec1e"
    },
    "slideshow": {
     "slide_type": "skip"
    }
   },
   "outputs": [],
   "source": []
  }
 ],
 "metadata": {
  "_draft": {
   "nbviewer_url": "https://gist.github.com/93fa75f3f9285b1ba4670c28a417c10c"
  },
  "anaconda-cloud": {},
  "celltoolbar": "Slideshow",
  "gist": {
   "data": {
    "description": "With True Positive, True Negative, Type I & II errors",
    "public": false
   },
   "id": "93fa75f3f9285b1ba4670c28a417c10c"
  },
  "kernelspec": {
   "display_name": "Python [default]",
   "language": "python",
   "name": "python3"
  },
  "language_info": {
   "codemirror_mode": {
    "name": "ipython",
    "version": 3
   },
   "file_extension": ".py",
   "mimetype": "text/x-python",
   "name": "python",
   "nbconvert_exporter": "python",
   "pygments_lexer": "ipython3",
   "version": "3.5.3"
  },
  "nbpresent": {
   "slides": {
    "465daa31-826a-4f9c-8612-f5248561e27a": {
     "id": "465daa31-826a-4f9c-8612-f5248561e27a",
     "prev": null,
     "regions": {
      "7f9bea92-5d12-4214-8baf-1ddd8e29581d": {
       "attrs": {
        "height": 1,
        "width": 1,
        "x": 0,
        "y": 0
       },
       "content": {
        "cell": "c59ff496-7575-4402-b20b-20db68a3540f",
        "part": "source"
       },
       "id": "7f9bea92-5d12-4214-8baf-1ddd8e29581d"
      }
     }
    },
    "760681d5-7308-42c1-833a-01ffb8a76cfc": {
     "id": "760681d5-7308-42c1-833a-01ffb8a76cfc",
     "layout": "manual",
     "prev": "465daa31-826a-4f9c-8612-f5248561e27a",
     "regions": {
      "6409a8d4-b4b2-41fc-84c8-e136ddceb555": {
       "attrs": {
        "height": 0.4864994026284349,
        "width": 0.4913978494623656,
        "x": 0.0064516129032258064,
        "y": 0.49761146953405017
       },
       "content": {
        "cell": "5dbceeca-6499-4cb0-834d-4db5462bd427",
        "part": "outputs"
       },
       "id": "6409a8d4-b4b2-41fc-84c8-e136ddceb555"
      },
      "8190449a-cc49-4dc9-89e2-79031a7103e4": {
       "attrs": {
        "height": 0.4769414575866189,
        "width": 0.4838709677419355,
        "x": 0.5064516129032258,
        "y": 0.495699880525687
       },
       "content": {
        "cell": "35966131-eebf-4da9-962f-4d4d71000afe",
        "part": "outputs"
       },
       "id": "8190449a-cc49-4dc9-89e2-79031a7103e4"
      },
      "eb015708-540c-4ff8-8d93-880739f5a207": {
       "attrs": {
        "height": 0.47120669056152925,
        "width": 0.989247311827957,
        "x": 0.0032258064516129032,
        "y": 0.010155297491039427
       },
       "content": {
        "cell": "8744ff16-810a-4f78-9d46-f01feb5ce35e",
        "part": "source"
       },
       "id": "eb015708-540c-4ff8-8d93-880739f5a207"
      }
     }
    },
    "99702eec-7996-4128-8b4f-29679d686a6d": {
     "id": "99702eec-7996-4128-8b4f-29679d686a6d",
     "prev": "760681d5-7308-42c1-833a-01ffb8a76cfc",
     "regions": {
      "f020b0ef-f71f-4904-8eb3-05adca2cab3e": {
       "attrs": {
        "height": 1,
        "width": 1,
        "x": 0,
        "y": 0
       },
       "content": {
        "cell": "c67b5de0-d0f8-427e-8b34-0dad203d61d7",
        "part": "source"
       },
       "id": "f020b0ef-f71f-4904-8eb3-05adca2cab3e"
      }
     }
    }
   },
   "themes": {
    "default": "4c5fcccd-eb25-41be-99f3-040a2d43a641",
    "theme": {
     "4c5fcccd-eb25-41be-99f3-040a2d43a641": {
      "backgrounds": {
       "dc7afa04-bf90-40b1-82a5-726e3cff5267": {
        "background-color": "31af15d2-7e15-44c5-ab5e-e04b16a89eff",
        "id": "dc7afa04-bf90-40b1-82a5-726e3cff5267"
       }
      },
      "id": "4c5fcccd-eb25-41be-99f3-040a2d43a641",
      "palette": {
       "19cc588f-0593-49c9-9f4b-e4d7cc113b1c": {
        "id": "19cc588f-0593-49c9-9f4b-e4d7cc113b1c",
        "rgb": [
         252,
         252,
         252
        ]
       },
       "31af15d2-7e15-44c5-ab5e-e04b16a89eff": {
        "id": "31af15d2-7e15-44c5-ab5e-e04b16a89eff",
        "rgb": [
         68,
         68,
         68
        ]
       },
       "50f92c45-a630-455b-aec3-788680ec7410": {
        "id": "50f92c45-a630-455b-aec3-788680ec7410",
        "rgb": [
         197,
         226,
         245
        ]
       },
       "c5cc3653-2ee1-402a-aba2-7caae1da4f6c": {
        "id": "c5cc3653-2ee1-402a-aba2-7caae1da4f6c",
        "rgb": [
         43,
         126,
         184
        ]
       },
       "efa7f048-9acb-414c-8b04-a26811511a21": {
        "id": "efa7f048-9acb-414c-8b04-a26811511a21",
        "rgb": [
         25.118061674008803,
         73.60176211453744,
         107.4819383259912
        ]
       }
      },
      "rules": {
       "a": {
        "color": "19cc588f-0593-49c9-9f4b-e4d7cc113b1c"
       },
       "blockquote": {
        "color": "50f92c45-a630-455b-aec3-788680ec7410",
        "font-size": 3
       },
       "code": {
        "font-family": "Anonymous Pro"
       },
       "h1": {
        "color": "19cc588f-0593-49c9-9f4b-e4d7cc113b1c",
        "font-family": "Merriweather",
        "font-size": 8
       },
       "h2": {
        "color": "19cc588f-0593-49c9-9f4b-e4d7cc113b1c",
        "font-family": "Merriweather",
        "font-size": 6
       },
       "h3": {
        "color": "50f92c45-a630-455b-aec3-788680ec7410",
        "font-family": "Lato",
        "font-size": 5.5
       },
       "h4": {
        "color": "c5cc3653-2ee1-402a-aba2-7caae1da4f6c",
        "font-family": "Lato",
        "font-size": 5
       },
       "h5": {
        "font-family": "Lato"
       },
       "h6": {
        "font-family": "Lato"
       },
       "h7": {
        "font-family": "Lato"
       },
       "li": {
        "color": "50f92c45-a630-455b-aec3-788680ec7410",
        "font-size": 3.25
       },
       "pre": {
        "font-family": "Anonymous Pro",
        "font-size": 4
       }
      },
      "text-base": {
       "color": "19cc588f-0593-49c9-9f4b-e4d7cc113b1c",
       "font-family": "Lato",
       "font-size": 4
      }
     }
    }
   }
  }
 },
 "nbformat": 4,
 "nbformat_minor": 2
}
