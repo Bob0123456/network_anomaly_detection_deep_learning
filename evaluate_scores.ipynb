{
 "cells": [
  {
   "cell_type": "markdown",
   "metadata": {
    "slideshow": {
     "slide_type": "slide"
    }
   },
   "source": [
    "# Deep Learning for NSL KDD dataset\n",
    "\n",
    "> NSL-KDD is a data set suggested to solve some of the inherent problems of the KDD'99 data set...\n",
    "> [[University of New Brunswick](http://www.unb.ca/cic/research/datasets/nsl.html)]  \n",
    "\n",
    "NSL KDD dataset has large number of columns which doesn't have significant correlation to decide whether current network session is *Normal* or an *Attack*. We performed Linear modeling of data and found that **36% of columns** *(considering 1e-5 as threshold for p value)* are significant in creating models of the dataset. Hence, we believe Deep Learning architectures like AutoEncoders and GANs will be best suitable.\n",
    "\n",
    "We have special interest GAN networks due to their ability of learning about the data distribution by generating the distribution itself. We believe this can be utilized to generate Attack data distribution to help the discriminator model learn better."
   ]
  },
  {
   "cell_type": "markdown",
   "metadata": {
    "nbpresent": {
     "id": "c59ff496-7575-4402-b20b-20db68a3540f"
    },
    "slideshow": {
     "slide_type": "slide"
    }
   },
   "source": [
    "## Data files  \n",
    ">     * KDDTrain+.ARFF: The full NSL-KDD train set with binary labels in ARFF format  \n",
    ">     * KDDTrain+.TXT: The full NSL-KDD train set including attack-type labels and difficulty level in CSV format  \n",
    ">     * KDDTrain+_20Percent.ARFF: A 20% subset of the KDDTrain+.arff file  \n",
    ">     * KDDTrain+_20Percent.TXT: A 20% subset of the KDDTrain+.txt file  \n",
    ">     * KDDTest+.ARFF: The full NSL-KDD test set with binary labels in ARFF format  \n",
    ">     * KDDTest+.TXT: The full NSL-KDD test set including attack-type labels and difficulty level in CSV format  \n",
    ">     * KDDTest-21.ARFF: A subset of the KDDTest+.arff file which does not include records with difficulty level of 21 out of 21  \n",
    ">     * KDDTest-21.TXT: A subset of the KDDTest+.txt file which does not include records with difficulty level of 21 out of 21  \n",
    "> [[University of New Brunswick](http://www.unb.ca/cic/research/datasets/nsl.html)]  \n",
    "\n",
    "\n",
    "\n"
   ]
  },
  {
   "cell_type": "code",
   "execution_count": 1,
   "metadata": {
    "ExecuteTime": {
     "end_time": "2017-06-19T12:46:17.087654Z",
     "start_time": "2017-06-19T12:46:16.478116Z"
    },
    "collapsed": true,
    "nbpresent": {
     "id": "ac2268be-ef2d-4348-be47-904e281e0511"
    },
    "slideshow": {
     "slide_type": "skip"
    }
   },
   "outputs": [],
   "source": [
    "import pandas as pd\n",
    "import numpy as np\n",
    "pd.set_option(\"display.max_rows\",100)\n",
    "%matplotlib inline"
   ]
  },
  {
   "cell_type": "code",
   "execution_count": 2,
   "metadata": {
    "ExecuteTime": {
     "end_time": "2017-06-19T12:46:21.688629Z",
     "start_time": "2017-06-19T12:46:18.565320Z"
    },
    "nbpresent": {
     "id": "a531f3f3-dbf7-49c7-9241-93282f135458"
    },
    "slideshow": {
     "slide_type": "skip"
    }
   },
   "outputs": [
    {
     "name": "stderr",
     "output_type": "stream",
     "text": [
      "/home/ritesh_malaiya/anaconda3/envs/p3/lib/python3.6/site-packages/statsmodels/compat/pandas.py:56: FutureWarning: The pandas.core.datetools module is deprecated and will be removed in a future version. Please use the pandas.tseries module instead.\n",
      "  from pandas.core import datetools\n"
     ]
    }
   ],
   "source": [
    "import statsmodels.api as sm\n",
    "kdd_train_2labels = pd.read_pickle(\"dataset/kdd_train_2labels.pkl\")\n",
    "kdd_train_2labels_y = pd.read_pickle(\"dataset/kdd_train_2labels_y.pkl\")\n",
    "\n",
    "kdd_train_2labels.sample(kdd_train_2labels.shape[0] * 0.1)\n",
    "\n",
    "results = sm.OLS(kdd_train_2labels_y.iloc[0:1000], kdd_train_2labels.iloc[0:1000, :-2]).fit()\n",
    "master = \"\"\n",
    "#results.summary()"
   ]
  },
  {
   "cell_type": "markdown",
   "metadata": {
    "nbpresent": {
     "id": "8744ff16-810a-4f78-9d46-f01feb5ce35e"
    },
    "slideshow": {
     "slide_type": "slide"
    }
   },
   "source": [
    "# Exploratory Data Analysis\n",
    "\n",
    "\n",
    "## Feature Selection\n",
    "\n",
    "Using 'ordinary least squares model', we found that only 15 (out of 41) columns have P-values lower enough (< 1e-5) to be considered significant.   "
   ]
  },
  {
   "cell_type": "code",
   "execution_count": 6,
   "metadata": {
    "ExecuteTime": {
     "end_time": "2017-06-19T12:46:57.726554Z",
     "start_time": "2017-06-19T12:46:57.711572Z"
    }
   },
   "outputs": [
    {
     "data": {
      "text/plain": [
       "wrong_fragment                 1.577002e-39\n",
       "same_srv_rate                  2.913320e-16\n",
       "dst_host_same_srv_rate         1.897631e-10\n",
       "dst_host_srv_rerror_rate       3.418082e-10\n",
       "service_http                   8.259018e-09\n",
       "service_smtp                   1.004827e-08\n",
       "dst_host_srv_count             1.270372e-08\n",
       "dst_host_same_src_port_rate    3.700446e-08\n",
       "diff_srv_rate                  3.464595e-07\n",
       "dst_host_srv_diff_host_rate    7.880064e-07\n",
       "dst_host_count                 3.587908e-06\n",
       "service_IRC                    3.698352e-06\n",
       "dst_host_diff_srv_rate         1.222193e-05\n",
       "service_ecr_i                  1.797080e-05\n",
       "flag_S0                        2.312308e-05\n",
       "service_urp_i                  2.816946e-05\n",
       "num_access_files               4.761004e-05\n",
       "dst_host_srv_serror_rate       8.294892e-05\n",
       "logged_in                      3.466756e-04\n",
       "num_root                       3.634275e-04\n",
       "service_other                  3.640072e-04\n",
       "num_compromised                7.150970e-04\n",
       "service_private                9.364454e-04\n",
       "flag_SH                        1.157809e-03\n",
       "dst_host_rerror_rate           1.747674e-03\n",
       "srv_count                      4.437003e-03\n",
       "service_eco_i                  1.027852e-02\n",
       "hot                            1.030273e-02\n",
       "flag_REJ                       1.400171e-02\n",
       "flag_RSTO                      2.181857e-02\n",
       "srv_diff_host_rate             3.090031e-02\n",
       "srv_rerror_rate                3.552867e-02\n",
       "service_X11                    3.666503e-02\n",
       "service_domain_u               3.708450e-02\n",
       "flag_SF                        3.923994e-02\n",
       "flag_RSTR                      4.268289e-02\n",
       "su_attempted                   4.862452e-02\n",
       "num_failed_logins              7.270697e-02\n",
       "src_bytes                      7.682599e-02\n",
       "service_klogin                 8.473373e-02\n",
       "srv_serror_rate                9.267959e-02\n",
       "rerror_rate                    1.024434e-01\n",
       "dst_host_serror_rate           1.455468e-01\n",
       "flag_S1                        1.820007e-01\n",
       "service_pop_3                  1.844980e-01\n",
       "service_shell                  1.927046e-01\n",
       "urgent                         1.955744e-01\n",
       "land                           1.993865e-01\n",
       "num_shells                     2.016900e-01\n",
       "service_efs                    2.118656e-01\n",
       "                                   ...     \n",
       "is_guest_login                 5.569218e-01\n",
       "num_file_creations             5.930198e-01\n",
       "service_kshell                 6.014744e-01\n",
       "service_login                  6.031381e-01\n",
       "service_ntp_u                  6.041646e-01\n",
       "service_whois                  6.178406e-01\n",
       "service_printer                6.517648e-01\n",
       "service_systat                 6.624836e-01\n",
       "service_sql_net                6.848997e-01\n",
       "root_shell                     6.991994e-01\n",
       "service_mtp                    7.067487e-01\n",
       "duration                       7.124203e-01\n",
       "protocol_type_tcp              7.127077e-01\n",
       "service_hostnames              7.209277e-01\n",
       "service_csnet_ns               7.296034e-01\n",
       "service_http_443               7.434794e-01\n",
       "service_imap4                  7.453517e-01\n",
       "service_remote_job             7.633867e-01\n",
       "service_supdup                 8.065317e-01\n",
       "service_ssh                    8.080375e-01\n",
       "service_ftp                    8.339258e-01\n",
       "service_nntp                   8.355631e-01\n",
       "service_aol                    8.493995e-01\n",
       "service_link                   8.528644e-01\n",
       "service_sunrpc                 8.554831e-01\n",
       "service_auth                   8.658930e-01\n",
       "service_time                   8.885648e-01\n",
       "service_nnsp                   9.058104e-01\n",
       "service_discard                9.279964e-01\n",
       "service_domain                 9.382061e-01\n",
       "service_vmnet                  9.395204e-01\n",
       "service_http_8001              9.409894e-01\n",
       "service_ctf                    9.463094e-01\n",
       "service_netbios_ssn            9.653467e-01\n",
       "service_pm_dump                9.687625e-01\n",
       "service_rje                    9.691611e-01\n",
       "service_red_i                  9.693094e-01\n",
       "service_daytime                9.710941e-01\n",
       "service_http_2784              9.767724e-01\n",
       "service_harvest                9.885415e-01\n",
       "service_pop_2                  9.902124e-01\n",
       "serror_rate                    9.932087e-01\n",
       "service_name                   9.991460e-01\n",
       "service_tftp_u                          NaN\n",
       "service_tim_i                           NaN\n",
       "service_urh_i                           NaN\n",
       "flag_OTH                                NaN\n",
       "flag_RSTOS0                             NaN\n",
       "flag_S2                                 NaN\n",
       "flag_S3                                 NaN\n",
       "Length: 122, dtype: float64"
      ]
     },
     "execution_count": 6,
     "metadata": {},
     "output_type": "execute_result"
    }
   ],
   "source": [
    "results.pvalues.sort_values()"
   ]
  },
  {
   "cell_type": "code",
   "execution_count": 4,
   "metadata": {
    "ExecuteTime": {
     "end_time": "2017-06-13T17:50:19.423673Z",
     "start_time": "2017-06-13T17:50:19.239422Z"
    },
    "nbpresent": {
     "id": "5dbceeca-6499-4cb0-834d-4db5462bd427"
    },
    "slideshow": {
     "slide_type": "subslide"
    }
   },
   "outputs": [
    {
     "data": {
      "image/png": "[encoded data removed]",
      "text/plain": [
       "<matplotlib.figure.Figure at 0x7f25c1934940>"
      ]
     },
     "metadata": {},
     "output_type": "display_data"
    }
   ],
   "source": [
    "import warnings\n",
    "warnings.filterwarnings('ignore')\n",
    "results.pvalues.sort_values().plot();"
   ]
  },
  {
   "cell_type": "code",
   "execution_count": 5,
   "metadata": {
    "ExecuteTime": {
     "end_time": "2017-06-13T17:50:19.615933Z",
     "start_time": "2017-06-13T17:50:19.425285Z"
    }
   },
   "outputs": [
    {
     "data": {
      "text/plain": [
       "<matplotlib.axes._subplots.AxesSubplot at 0x7f25bd98cb70>"
      ]
     },
     "execution_count": 5,
     "metadata": {},
     "output_type": "execute_result"
    },
    {
     "data": {
      "image/png": "[encoded data removed]",
      "text/plain": [
       "<matplotlib.figure.Figure at 0x7f25bd8f16a0>"
      ]
     },
     "metadata": {},
     "output_type": "display_data"
    }
   ],
   "source": [
    "results.pvalues.sort_values().hist()"
   ]
  },
  {
   "cell_type": "code",
   "execution_count": 6,
   "metadata": {
    "ExecuteTime": {
     "end_time": "2017-06-13T17:50:19.625766Z",
     "start_time": "2017-06-13T17:50:19.617619Z"
    },
    "nbpresent": {
     "id": "35966131-eebf-4da9-962f-4d4d71000afe"
    },
    "slideshow": {
     "slide_type": "subslide"
    }
   },
   "outputs": [
    {
     "name": "stdout",
     "output_type": "stream",
     "text": [
      "Variables having P value lower than 1e-5\n"
     ]
    },
    {
     "data": {
      "text/plain": [
       "wrong_fragment                 1.577002e-39\n",
       "same_srv_rate                  2.913320e-16\n",
       "dst_host_same_srv_rate         1.897631e-10\n",
       "dst_host_srv_rerror_rate       3.418082e-10\n",
       "service_http                   8.259018e-09\n",
       "service_smtp                   1.004827e-08\n",
       "dst_host_srv_count             1.270372e-08\n",
       "dst_host_same_src_port_rate    3.700446e-08\n",
       "diff_srv_rate                  3.464595e-07\n",
       "dst_host_srv_diff_host_rate    7.880064e-07\n",
       "dst_host_count                 3.587908e-06\n",
       "service_IRC                    3.698352e-06\n",
       "dtype: float64"
      ]
     },
     "execution_count": 6,
     "metadata": {},
     "output_type": "execute_result"
    }
   ],
   "source": [
    "\n",
    "print(\"Variables having P value lower than 1e-5\")\n",
    "results.pvalues[results.pvalues < 1e-5].sort_values()"
   ]
  },
  {
   "cell_type": "markdown",
   "metadata": {
    "nbpresent": {
     "id": "c67b5de0-d0f8-427e-8b34-0dad203d61d7"
    },
    "slideshow": {
     "slide_type": "slide"
    }
   },
   "source": [
    "## TSNE\n",
    "- We found that Normal and Attack data are:\n",
    "    * Not clearly separable.\n",
    "    * Not linearly separable \n",
    "\n",
    "![](images/TSNE-Train+Dataset.png)\n"
   ]
  },
  {
   "cell_type": "code",
   "execution_count": 7,
   "metadata": {
    "ExecuteTime": {
     "end_time": "2017-06-13T17:50:19.702290Z",
     "start_time": "2017-06-13T17:50:19.627419Z"
    },
    "collapsed": true,
    "nbpresent": {
     "id": "a9549f94-67aa-448d-8d2c-3ab11677f860"
    },
    "slideshow": {
     "slide_type": "skip"
    }
   },
   "outputs": [],
   "source": [
    "#kdd_diff_level_train = pd.read_pickle(\"dataset/kdd_diff_level_train.pkl\")\n",
    "#kdd_diff_level_test = pd.read_pickle(\"dataset/kdd_diff_level_test.pkl\")\n",
    "#output_columns_2labels = ['Normal','Attack']\n",
    "output_columns_2labels = ['Attack','Normal']\n",
    "actual_value = pd.read_pickle(\"dataset/kdd_test_2labels_y.pkl\");\n"
   ]
  },
  {
   "cell_type": "code",
   "execution_count": 8,
   "metadata": {
    "ExecuteTime": {
     "end_time": "2017-06-13T17:50:19.779602Z",
     "start_time": "2017-06-13T17:50:19.704047Z"
    },
    "collapsed": true,
    "nbpresent": {
     "id": "6da8ab16-c580-4890-a2e2-a723568500a3"
    },
    "slideshow": {
     "slide_type": "skip"
    }
   },
   "outputs": [],
   "source": [
    "import numpy as np\n",
    "import matplotlib.pyplot as plt\n",
    "import itertools\n",
    "\n",
    "def plot_confusion_matrix(cm, classes,\n",
    "                          normalize=False,\n",
    "                          title='Confusion matrix',\n",
    "                          cmap=plt.cm.Blues):\n",
    "    \"\"\"\n",
    "    This function prints and plots the confusion matrix.\n",
    "    Normalization can be applied by setting `normalize=True`.\n",
    "    \"\"\"\n",
    "    np.set_printoptions(precision=4)\n",
    "\n",
    "    plt.imshow(cm, interpolation='nearest', cmap=cmap)\n",
    "    plt.title(title)\n",
    "    plt.colorbar()\n",
    "    tick_marks = np.arange(len(classes))\n",
    "    plt.xticks(tick_marks, classes, rotation=45)\n",
    "    plt.yticks(tick_marks, classes)\n",
    "\n",
    "    if normalize:\n",
    "        cm = cm.astype('float') / cm.sum(axis=1)[:, np.newaxis]\n",
    "        #print(\"Normalized confusion matrix\")\n",
    "    else:\n",
    "        #print('Confusion matrix, without normalization')\n",
    "        pass\n",
    "    \n",
    "    #print(cm)\n",
    "\n",
    "    label = [[\"\\n True Positive\", \"\\n False Negative \\n Type II Error\"],\n",
    "             [\"\\n False Positive \\n Type I Error\", \"\\n True Negative\"]\n",
    "            ]\n",
    "    \n",
    "    thresh = cm.max() / 2.\n",
    "    for i, j in itertools.product(range(cm.shape[0]), range(cm.shape[1])):\n",
    "        \n",
    "        plt.text(j, i, \"{} {}\".format(cm[i, j].round(4), label[i][j]),\n",
    "                 horizontalalignment=\"center\",\n",
    "                 color=\"white\" if cm[i, j] > thresh else \"black\")\n",
    "\n",
    "    plt.tight_layout()\n",
    "    plt.ylabel('True label')\n",
    "    plt.xlabel('Predicted label')\n",
    "\n",
    "def plot(pred_value):\n",
    "    from sklearn.metrics import confusion_matrix\n",
    "\n",
    "    cm_2labels = confusion_matrix(y_pred = pred_value, y_true = actual_value)\n",
    "    plt.figure(figsize=[6,6])\n",
    "    plot_confusion_matrix(cm_2labels, output_columns_2labels, normalize = True)"
   ]
  },
  {
   "cell_type": "code",
   "execution_count": 9,
   "metadata": {
    "ExecuteTime": {
     "end_time": "2017-06-13T17:50:19.795449Z",
     "start_time": "2017-06-13T17:50:19.781280Z"
    },
    "collapsed": true,
    "nbpresent": {
     "id": "dc327101-f063-4204-aebf-bdcfdbb52961"
    },
    "slideshow": {
     "slide_type": "skip"
    }
   },
   "outputs": [],
   "source": [
    "def get_count(pred_value):\n",
    "    difficulty = pd.DataFrame({\"Actual\":actual_value, \"Predict\":pred_value, \"difficulty_level\":kdd_diff_level_test})\n",
    "    #difficulty = pd.concat(difficulty, pd.Data)\n",
    "    difficulty['accuracy'] = None\n",
    "    difficulty.ix[difficulty.Actual == difficulty.Predict, \"accuracy\"] = 'Correct'\n",
    "    difficulty.ix[difficulty.Actual != difficulty.Predict, \"accuracy\"] = 'Incorrect'\n",
    "    diff_group = difficulty.loc[:,[\"difficulty_level\", \"accuracy\", \"Predict\"]].groupby([\"difficulty_level\", \"accuracy\"])\n",
    "    total_correct = sum(difficulty.Actual == difficulty.Predict)\n",
    "    total_records = difficulty.shape[0]\n",
    "    total_incorrect = total_records - total_correct\n",
    "    print(\"Total Records:{}\".format(total_records))\n",
    "    return diff_group.count()"
   ]
  },
  {
   "cell_type": "code",
   "execution_count": 10,
   "metadata": {
    "ExecuteTime": {
     "end_time": "2017-06-13T17:50:19.819158Z",
     "start_time": "2017-06-13T17:50:19.797101Z"
    },
    "collapsed": true,
    "nbpresent": {
     "id": "91e05ba0-d86f-4fcf-8088-3f12c7d94802"
    },
    "slideshow": {
     "slide_type": "skip"
    }
   },
   "outputs": [],
   "source": [
    "scores = pd.read_pickle(\"dataset/{}tf_vae_dense_trained_together_nsl_kdd_scores.pkl\".format(master))\n",
    "accumulate_test_scores = scores.iloc[:,0:3]\n",
    "accumulate_test_time = scores.iloc[:,0:3]\n",
    "#accumulate_test_scores"
   ]
  },
  {
   "cell_type": "code",
   "execution_count": 11,
   "metadata": {
    "ExecuteTime": {
     "end_time": "2017-06-13T17:50:19.894564Z",
     "start_time": "2017-06-13T17:50:19.820712Z"
    },
    "collapsed": true,
    "nbpresent": {
     "id": "d6b24543-bbf1-4826-b17d-dd735d08d01b"
    },
    "slideshow": {
     "slide_type": "skip"
    }
   },
   "outputs": [],
   "source": [
    "def evaluate(pred_pkl, score_pkl, name = 'DNN'):\n",
    "    global accumulate_test_scores\n",
    "    global accumulate_test_time\n",
    "    \n",
    "    print(pred_pkl)\n",
    "    predictions = pd.read_pickle(pred_pkl)\n",
    "    scores = pd.read_pickle(score_pkl)\n",
    "    \n",
    "    #accumulate_test_scores = pd.concat([accumulate_test_scores, \n",
    "    #                                    pd.DataFrame({\"{}\" #_test_score\n",
    "    #                                                              .format(name):\n",
    "    #                                                              scores.loc[:,\"test_score\"]})], \n",
    "    #                                   axis = 1,)\n",
    "    \n",
    "    accumulate_test_scores = pd.merge(accumulate_test_scores, \n",
    "                                      scores.loc[:,[\"no_of_features\", \"hidden_layers\" , \"test_score\"]],\n",
    "                                      on=('no_of_features', 'hidden_layers'),\n",
    "                                      how = 'outer')\n",
    "\n",
    "    accumulate_test_scores = accumulate_test_scores.rename(columns = {\"test_score\":name})\n",
    "\n",
    "\n",
    "    accumulate_test_time = pd.merge(accumulate_test_time, \n",
    "                                      scores.loc[:,[\"no_of_features\", \"hidden_layers\" , \"time_taken\"]],\n",
    "                                      on=('no_of_features', 'hidden_layers'),\n",
    "                                      how = 'outer')\n",
    "    \n",
    "    accumulate_test_time = accumulate_test_time.rename(columns = {\"time_taken\":name})\n",
    "    \n",
    "    #accumulate_test_scores = accumulate_test_scores.rename(columns = {\"test_score\":\"{}_test_score\".format(name)})\n",
    "    #print(scores.sort_values(\"test_score\", ascending=False))\n",
    "\n",
    "    df_sorted = scores.sort_values(\"test_score\", ascending=False).iloc[0,0:3]\n",
    "    epoch = int(df_sorted['epoch'])\n",
    "    n_o_f = int(df_sorted['no_of_features'])\n",
    "    h_l = int(df_sorted['hidden_layers'])\n",
    "    print(\"Best model choosen is: Epochs:{} Number of Features:{} Hidden Layers:{}\".format(epoch,n_o_f,h_l))\n",
    "    \n",
    "    import fnmatch\n",
    "    pred_keys = predictions.keys()\n",
    "    best_hp = fnmatch.filter(pred_keys.tolist(), \"*_{}_{}\".format(n_o_f,h_l))\n",
    "    \n",
    "    df_pred = predictions[best_hp[0]] #.round(2)\n",
    "    Attack_index = actual_value == 0\n",
    "    Normal_index = actual_value == 1\n",
    "\n",
    "    #df_pred[Attack_index].plot(kind='line', figsize=(20,5), title=\"Prediction of Attack\")\n",
    "    #df_pred[Normal_index].plot(kind='line', figsize=(20,5), title=\"Prediction of Normal\")\n",
    "    \n",
    "    pred_value = df_pred[\"Prediction\"] #np.argmax(df_pred.values, axis=1)\n",
    "    plot(pred_value)\n",
    "    return scores.sort_values(\"test_score\", ascending=False)"
   ]
  },
  {
   "cell_type": "markdown",
   "metadata": {
    "nbpresent": {
     "id": "1cdf93b2-90b9-49f1-b624-141ada99d3c9"
    },
    "slideshow": {
     "slide_type": "slide"
    }
   },
   "source": [
    "# Evaluating Dense Network\n",
    "\n",
    "![Fully Connected Network](images/NSL_KDD_FullyConnectedNetwork.jpg)\n",
    "\n",
    "We used Fully connected Neural Network to observe the behavior of model training on NSL KDD data under various hyper parameter configurations as stated below:\n",
    "\n",
    "- Feature Reduction  \n",
    "We tried to reduce the number of features to understand how much the data can be compressed while still able to generalize enough for test dataset.\n",
    "    \n",
    "- Number of Hidden layers  \n",
    "    We wanted to observe how many layers of dense networks may be required to capture the non-leanarity of the data. This understanding may prove useful while training other deep learning architectures.\n",
    "- Epochs, learning rate   \n",
    "    We wanted to get an understanding of how much time/resources will be required to train the model."
   ]
  },
  {
   "cell_type": "code",
   "execution_count": 12,
   "metadata": {
    "ExecuteTime": {
     "end_time": "2017-06-13T17:50:20.546776Z",
     "start_time": "2017-06-13T17:50:19.896491Z"
    },
    "nbpresent": {
     "id": "3a6c2944-2893-4d44-88d8-606a7745c93f"
    },
    "slideshow": {
     "slide_type": "subslide"
    }
   },
   "outputs": [
    {
     "name": "stdout",
     "output_type": "stream",
     "text": [
      "dataset/tf_dense_only_nsl_kdd_predictions.pkl\n",
      "Best model choosen is: Epochs:90 Number of Features:16 Hidden Layers:6\n"
     ]
    },
    {
     "data": {
      "text/html": [
       "<div>\n",
       "<style>\n",
       "    .dataframe thead tr:only-child th {\n",
       "        text-align: right;\n",
       "    }\n",
       "\n",
       "    .dataframe thead th {\n",
       "        text-align: left;\n",
       "    }\n",
       "\n",
       "    .dataframe tbody tr th {\n",
       "        vertical-align: top;\n",
       "    }\n",
       "</style>\n",
       "<table border=\"1\" class=\"dataframe\">\n",
       "  <thead>\n",
       "    <tr style=\"text-align: right;\">\n",
       "      <th></th>\n",
       "      <th>epoch</th>\n",
       "      <th>no_of_features</th>\n",
       "      <th>hidden_layers</th>\n",
       "      <th>train_score</th>\n",
       "      <th>test_score</th>\n",
       "      <th>test_score_20</th>\n",
       "      <th>time_taken</th>\n",
       "    </tr>\n",
       "  </thead>\n",
       "  <tbody>\n",
       "    <tr>\n",
       "      <th>10</th>\n",
       "      <td>90</td>\n",
       "      <td>16</td>\n",
       "      <td>6</td>\n",
       "      <td>0.909906</td>\n",
       "      <td>0.886844</td>\n",
       "      <td>0.797468</td>\n",
       "      <td>21.326713</td>\n",
       "    </tr>\n",
       "    <tr>\n",
       "      <th>1</th>\n",
       "      <td>90</td>\n",
       "      <td>8</td>\n",
       "      <td>2</td>\n",
       "      <td>0.899667</td>\n",
       "      <td>0.886400</td>\n",
       "      <td>0.795105</td>\n",
       "      <td>5.324425</td>\n",
       "    </tr>\n",
       "    <tr>\n",
       "      <th>8</th>\n",
       "      <td>90</td>\n",
       "      <td>4</td>\n",
       "      <td>6</td>\n",
       "      <td>0.888871</td>\n",
       "      <td>0.881343</td>\n",
       "      <td>0.790970</td>\n",
       "      <td>14.002640</td>\n",
       "    </tr>\n",
       "    <tr>\n",
       "      <th>9</th>\n",
       "      <td>90</td>\n",
       "      <td>8</td>\n",
       "      <td>6</td>\n",
       "      <td>0.935704</td>\n",
       "      <td>0.869633</td>\n",
       "      <td>0.756287</td>\n",
       "      <td>35.233922</td>\n",
       "    </tr>\n",
       "    <tr>\n",
       "      <th>6</th>\n",
       "      <td>90</td>\n",
       "      <td>16</td>\n",
       "      <td>4</td>\n",
       "      <td>0.913399</td>\n",
       "      <td>0.863600</td>\n",
       "      <td>0.745063</td>\n",
       "      <td>17.530498</td>\n",
       "    </tr>\n",
       "    <tr>\n",
       "      <th>2</th>\n",
       "      <td>90</td>\n",
       "      <td>16</td>\n",
       "      <td>2</td>\n",
       "      <td>0.941896</td>\n",
       "      <td>0.855793</td>\n",
       "      <td>0.732152</td>\n",
       "      <td>16.246569</td>\n",
       "    </tr>\n",
       "    <tr>\n",
       "      <th>0</th>\n",
       "      <td>90</td>\n",
       "      <td>4</td>\n",
       "      <td>2</td>\n",
       "      <td>0.951183</td>\n",
       "      <td>0.798039</td>\n",
       "      <td>0.619409</td>\n",
       "      <td>17.567173</td>\n",
       "    </tr>\n",
       "    <tr>\n",
       "      <th>7</th>\n",
       "      <td>90</td>\n",
       "      <td>32</td>\n",
       "      <td>4</td>\n",
       "      <td>0.931656</td>\n",
       "      <td>0.795378</td>\n",
       "      <td>0.615021</td>\n",
       "      <td>21.863098</td>\n",
       "    </tr>\n",
       "    <tr>\n",
       "      <th>3</th>\n",
       "      <td>90</td>\n",
       "      <td>32</td>\n",
       "      <td>2</td>\n",
       "      <td>0.959438</td>\n",
       "      <td>0.794313</td>\n",
       "      <td>0.611139</td>\n",
       "      <td>19.994906</td>\n",
       "    </tr>\n",
       "    <tr>\n",
       "      <th>5</th>\n",
       "      <td>90</td>\n",
       "      <td>8</td>\n",
       "      <td>4</td>\n",
       "      <td>0.953405</td>\n",
       "      <td>0.781804</td>\n",
       "      <td>0.589620</td>\n",
       "      <td>31.419686</td>\n",
       "    </tr>\n",
       "    <tr>\n",
       "      <th>11</th>\n",
       "      <td>90</td>\n",
       "      <td>32</td>\n",
       "      <td>6</td>\n",
       "      <td>0.965868</td>\n",
       "      <td>0.772977</td>\n",
       "      <td>0.570295</td>\n",
       "      <td>150.365622</td>\n",
       "    </tr>\n",
       "    <tr>\n",
       "      <th>4</th>\n",
       "      <td>90</td>\n",
       "      <td>4</td>\n",
       "      <td>4</td>\n",
       "      <td>0.967614</td>\n",
       "      <td>0.730438</td>\n",
       "      <td>0.490549</td>\n",
       "      <td>117.563271</td>\n",
       "    </tr>\n",
       "  </tbody>\n",
       "</table>\n",
       "</div>"
      ],
      "text/plain": [
       "    epoch  no_of_features  hidden_layers  train_score  test_score  \\\n",
       "10     90              16              6     0.909906    0.886844   \n",
       "1      90               8              2     0.899667    0.886400   \n",
       "8      90               4              6     0.888871    0.881343   \n",
       "9      90               8              6     0.935704    0.869633   \n",
       "6      90              16              4     0.913399    0.863600   \n",
       "2      90              16              2     0.941896    0.855793   \n",
       "0      90               4              2     0.951183    0.798039   \n",
       "7      90              32              4     0.931656    0.795378   \n",
       "3      90              32              2     0.959438    0.794313   \n",
       "5      90               8              4     0.953405    0.781804   \n",
       "11     90              32              6     0.965868    0.772977   \n",
       "4      90               4              4     0.967614    0.730438   \n",
       "\n",
       "    test_score_20  time_taken  \n",
       "10       0.797468   21.326713  \n",
       "1        0.795105    5.324425  \n",
       "8        0.790970   14.002640  \n",
       "9        0.756287   35.233922  \n",
       "6        0.745063   17.530498  \n",
       "2        0.732152   16.246569  \n",
       "0        0.619409   17.567173  \n",
       "7        0.615021   21.863098  \n",
       "3        0.611139   19.994906  \n",
       "5        0.589620   31.419686  \n",
       "11       0.570295  150.365622  \n",
       "4        0.490549  117.563271  "
      ]
     },
     "execution_count": 12,
     "metadata": {},
     "output_type": "execute_result"
    },
    {
     "data": {
      "image/png": "[encoded data removed]",
      "text/plain": [
       "<matplotlib.figure.Figure at 0x7f25fca34160>"
      ]
     },
     "metadata": {},
     "output_type": "display_data"
    }
   ],
   "source": [
    "evaluate(\"dataset/{}tf_dense_only_nsl_kdd_predictions.pkl\".format(master),\n",
    "         \"dataset/{}tf_dense_only_nsl_kdd_scores.pkl\".format(master), \"Dense Network\")"
   ]
  },
  {
   "cell_type": "markdown",
   "metadata": {
    "nbpresent": {
     "id": "a474a32b-ac75-4127-847b-5b6a54768b22"
    },
    "slideshow": {
     "slide_type": "slide"
    }
   },
   "source": [
    "# Variational Autoencoders \n",
    "\n",
    "Variational Autoencoders can reduce the features by initially compressing the data and then calculating mean and variance of the compressed data features. Mean and variance is used to approximate data distribution (Z) of each compressed feature. The model learns by optimzing loss occured while reproducing the actual data using the Z data distribution.  \n",
    "\n",
    "## Predict using Softmax\n",
    "In order to predict whether current network session is Normal or Attack, we coupled Softmax with layer producing Z data distribution.\n",
    "\n",
    "![VAE with Softmax](images/VAE_withSoftmax.jpg)\n"
   ]
  },
  {
   "cell_type": "code",
   "execution_count": 13,
   "metadata": {
    "ExecuteTime": {
     "end_time": "2017-06-13T17:50:20.882353Z",
     "start_time": "2017-06-13T17:50:20.548177Z"
    },
    "nbpresent": {
     "id": "2faa93e3-932d-4dec-a1d4-6b6550904965"
    },
    "scrolled": false,
    "slideshow": {
     "slide_type": "subslide"
    }
   },
   "outputs": [
    {
     "name": "stdout",
     "output_type": "stream",
     "text": [
      "dataset/tf_vae_dense_trained_together_nsl_kdd_predictions.pkl\n"
     ]
    },
    {
     "ename": "KeyError",
     "evalue": "'test_score'",
     "output_type": "error",
     "traceback": [
      "\u001b[0;31m---------------------------------------------------------------------------\u001b[0m",
      "\u001b[0;31mKeyError\u001b[0m                                  Traceback (most recent call last)",
      "\u001b[0;32m~/anaconda3/envs/p3/lib/python3.6/site-packages/pandas/core/indexes/base.py\u001b[0m in \u001b[0;36mget_loc\u001b[0;34m(self, key, method, tolerance)\u001b[0m\n\u001b[1;32m   2441\u001b[0m             \u001b[0;32mtry\u001b[0m\u001b[0;34m:\u001b[0m\u001b[0;34m\u001b[0m\u001b[0m\n\u001b[0;32m-> 2442\u001b[0;31m                 \u001b[0;32mreturn\u001b[0m \u001b[0mself\u001b[0m\u001b[0;34m.\u001b[0m\u001b[0m_engine\u001b[0m\u001b[0;34m.\u001b[0m\u001b[0mget_loc\u001b[0m\u001b[0;34m(\u001b[0m\u001b[0mkey\u001b[0m\u001b[0;34m)\u001b[0m\u001b[0;34m\u001b[0m\u001b[0m\n\u001b[0m\u001b[1;32m   2443\u001b[0m             \u001b[0;32mexcept\u001b[0m \u001b[0mKeyError\u001b[0m\u001b[0;34m:\u001b[0m\u001b[0;34m\u001b[0m\u001b[0m\n",
      "\u001b[0;32mpandas/_libs/index.pyx\u001b[0m in \u001b[0;36mpandas._libs.index.IndexEngine.get_loc (pandas/_libs/index.c:5280)\u001b[0;34m()\u001b[0m\n",
      "\u001b[0;32mpandas/_libs/index.pyx\u001b[0m in \u001b[0;36mpandas._libs.index.IndexEngine.get_loc (pandas/_libs/index.c:5126)\u001b[0;34m()\u001b[0m\n",
      "\u001b[0;32mpandas/_libs/hashtable_class_helper.pxi\u001b[0m in \u001b[0;36mpandas._libs.hashtable.PyObjectHashTable.get_item (pandas/_libs/hashtable.c:20523)\u001b[0;34m()\u001b[0m\n",
      "\u001b[0;32mpandas/_libs/hashtable_class_helper.pxi\u001b[0m in \u001b[0;36mpandas._libs.hashtable.PyObjectHashTable.get_item (pandas/_libs/hashtable.c:20477)\u001b[0;34m()\u001b[0m\n",
      "\u001b[0;31mKeyError\u001b[0m: 'test_score'",
      "\nDuring handling of the above exception, another exception occurred:\n",
      "\u001b[0;31mKeyError\u001b[0m                                  Traceback (most recent call last)",
      "\u001b[0;32m<ipython-input-13-5f8fd5653dec>\u001b[0m in \u001b[0;36m<module>\u001b[0;34m()\u001b[0m\n\u001b[1;32m      1\u001b[0m evaluate(\"dataset/{}tf_vae_dense_trained_together_nsl_kdd_predictions.pkl\".format(master),\n\u001b[0;32m----> 2\u001b[0;31m          \"dataset/{}tf_vae_dense_trained_together_nsl_kdd_scores.pkl\".format(master), \"VAE with Softmax\")\n\u001b[0m",
      "\u001b[0;32m<ipython-input-11-0b5e2486d54a>\u001b[0m in \u001b[0;36mevaluate\u001b[0;34m(pred_pkl, score_pkl, name)\u001b[0m\n\u001b[1;32m     31\u001b[0m     \u001b[0;31m#print(scores.sort_values(\"test_score\", ascending=False))\u001b[0m\u001b[0;34m\u001b[0m\u001b[0;34m\u001b[0m\u001b[0m\n\u001b[1;32m     32\u001b[0m \u001b[0;34m\u001b[0m\u001b[0m\n\u001b[0;32m---> 33\u001b[0;31m     \u001b[0mdf_sorted\u001b[0m \u001b[0;34m=\u001b[0m \u001b[0mscores\u001b[0m\u001b[0;34m.\u001b[0m\u001b[0msort_values\u001b[0m\u001b[0;34m(\u001b[0m\u001b[0;34m\"test_score\"\u001b[0m\u001b[0;34m,\u001b[0m \u001b[0mascending\u001b[0m\u001b[0;34m=\u001b[0m\u001b[0;32mFalse\u001b[0m\u001b[0;34m)\u001b[0m\u001b[0;34m.\u001b[0m\u001b[0miloc\u001b[0m\u001b[0;34m[\u001b[0m\u001b[0;36m0\u001b[0m\u001b[0;34m,\u001b[0m\u001b[0;36m0\u001b[0m\u001b[0;34m:\u001b[0m\u001b[0;36m3\u001b[0m\u001b[0;34m]\u001b[0m\u001b[0;34m\u001b[0m\u001b[0m\n\u001b[0m\u001b[1;32m     34\u001b[0m     \u001b[0mepoch\u001b[0m \u001b[0;34m=\u001b[0m \u001b[0mint\u001b[0m\u001b[0;34m(\u001b[0m\u001b[0mdf_sorted\u001b[0m\u001b[0;34m[\u001b[0m\u001b[0;34m'epoch'\u001b[0m\u001b[0;34m]\u001b[0m\u001b[0;34m)\u001b[0m\u001b[0;34m\u001b[0m\u001b[0m\n\u001b[1;32m     35\u001b[0m     \u001b[0mn_o_f\u001b[0m \u001b[0;34m=\u001b[0m \u001b[0mint\u001b[0m\u001b[0;34m(\u001b[0m\u001b[0mdf_sorted\u001b[0m\u001b[0;34m[\u001b[0m\u001b[0;34m'no_of_features'\u001b[0m\u001b[0;34m]\u001b[0m\u001b[0;34m)\u001b[0m\u001b[0;34m\u001b[0m\u001b[0m\n",
      "\u001b[0;32m~/anaconda3/envs/p3/lib/python3.6/site-packages/pandas/core/frame.py\u001b[0m in \u001b[0;36msort_values\u001b[0;34m(self, by, axis, ascending, inplace, kind, na_position)\u001b[0m\n\u001b[1;32m   3184\u001b[0m \u001b[0;34m\u001b[0m\u001b[0m\n\u001b[1;32m   3185\u001b[0m             \u001b[0mby\u001b[0m \u001b[0;34m=\u001b[0m \u001b[0mby\u001b[0m\u001b[0;34m[\u001b[0m\u001b[0;36m0\u001b[0m\u001b[0;34m]\u001b[0m\u001b[0;34m\u001b[0m\u001b[0m\n\u001b[0;32m-> 3186\u001b[0;31m             \u001b[0mk\u001b[0m \u001b[0;34m=\u001b[0m \u001b[0mself\u001b[0m\u001b[0;34m.\u001b[0m\u001b[0mxs\u001b[0m\u001b[0;34m(\u001b[0m\u001b[0mby\u001b[0m\u001b[0;34m,\u001b[0m \u001b[0maxis\u001b[0m\u001b[0;34m=\u001b[0m\u001b[0mother_axis\u001b[0m\u001b[0;34m)\u001b[0m\u001b[0;34m.\u001b[0m\u001b[0mvalues\u001b[0m\u001b[0;34m\u001b[0m\u001b[0m\n\u001b[0m\u001b[1;32m   3187\u001b[0m             \u001b[0;32mif\u001b[0m \u001b[0mk\u001b[0m\u001b[0;34m.\u001b[0m\u001b[0mndim\u001b[0m \u001b[0;34m==\u001b[0m \u001b[0;36m2\u001b[0m\u001b[0;34m:\u001b[0m\u001b[0;34m\u001b[0m\u001b[0m\n\u001b[1;32m   3188\u001b[0m \u001b[0;34m\u001b[0m\u001b[0m\n",
      "\u001b[0;32m~/anaconda3/envs/p3/lib/python3.6/site-packages/pandas/core/generic.py\u001b[0m in \u001b[0;36mxs\u001b[0;34m(self, key, axis, level, drop_level)\u001b[0m\n\u001b[1;32m   2021\u001b[0m \u001b[0;34m\u001b[0m\u001b[0m\n\u001b[1;32m   2022\u001b[0m         \u001b[0;32mif\u001b[0m \u001b[0maxis\u001b[0m \u001b[0;34m==\u001b[0m \u001b[0;36m1\u001b[0m\u001b[0;34m:\u001b[0m\u001b[0;34m\u001b[0m\u001b[0m\n\u001b[0;32m-> 2023\u001b[0;31m             \u001b[0;32mreturn\u001b[0m \u001b[0mself\u001b[0m\u001b[0;34m[\u001b[0m\u001b[0mkey\u001b[0m\u001b[0;34m]\u001b[0m\u001b[0;34m\u001b[0m\u001b[0m\n\u001b[0m\u001b[1;32m   2024\u001b[0m \u001b[0;34m\u001b[0m\u001b[0m\n\u001b[1;32m   2025\u001b[0m         \u001b[0mself\u001b[0m\u001b[0;34m.\u001b[0m\u001b[0m_consolidate_inplace\u001b[0m\u001b[0;34m(\u001b[0m\u001b[0;34m)\u001b[0m\u001b[0;34m\u001b[0m\u001b[0m\n",
      "\u001b[0;32m~/anaconda3/envs/p3/lib/python3.6/site-packages/pandas/core/frame.py\u001b[0m in \u001b[0;36m__getitem__\u001b[0;34m(self, key)\u001b[0m\n\u001b[1;32m   1962\u001b[0m             \u001b[0;32mreturn\u001b[0m \u001b[0mself\u001b[0m\u001b[0;34m.\u001b[0m\u001b[0m_getitem_multilevel\u001b[0m\u001b[0;34m(\u001b[0m\u001b[0mkey\u001b[0m\u001b[0;34m)\u001b[0m\u001b[0;34m\u001b[0m\u001b[0m\n\u001b[1;32m   1963\u001b[0m         \u001b[0;32melse\u001b[0m\u001b[0;34m:\u001b[0m\u001b[0;34m\u001b[0m\u001b[0m\n\u001b[0;32m-> 1964\u001b[0;31m             \u001b[0;32mreturn\u001b[0m \u001b[0mself\u001b[0m\u001b[0;34m.\u001b[0m\u001b[0m_getitem_column\u001b[0m\u001b[0;34m(\u001b[0m\u001b[0mkey\u001b[0m\u001b[0;34m)\u001b[0m\u001b[0;34m\u001b[0m\u001b[0m\n\u001b[0m\u001b[1;32m   1965\u001b[0m \u001b[0;34m\u001b[0m\u001b[0m\n\u001b[1;32m   1966\u001b[0m     \u001b[0;32mdef\u001b[0m \u001b[0m_getitem_column\u001b[0m\u001b[0;34m(\u001b[0m\u001b[0mself\u001b[0m\u001b[0;34m,\u001b[0m \u001b[0mkey\u001b[0m\u001b[0;34m)\u001b[0m\u001b[0;34m:\u001b[0m\u001b[0;34m\u001b[0m\u001b[0m\n",
      "\u001b[0;32m~/anaconda3/envs/p3/lib/python3.6/site-packages/pandas/core/frame.py\u001b[0m in \u001b[0;36m_getitem_column\u001b[0;34m(self, key)\u001b[0m\n\u001b[1;32m   1969\u001b[0m         \u001b[0;31m# get column\u001b[0m\u001b[0;34m\u001b[0m\u001b[0;34m\u001b[0m\u001b[0m\n\u001b[1;32m   1970\u001b[0m         \u001b[0;32mif\u001b[0m \u001b[0mself\u001b[0m\u001b[0;34m.\u001b[0m\u001b[0mcolumns\u001b[0m\u001b[0;34m.\u001b[0m\u001b[0mis_unique\u001b[0m\u001b[0;34m:\u001b[0m\u001b[0;34m\u001b[0m\u001b[0m\n\u001b[0;32m-> 1971\u001b[0;31m             \u001b[0;32mreturn\u001b[0m \u001b[0mself\u001b[0m\u001b[0;34m.\u001b[0m\u001b[0m_get_item_cache\u001b[0m\u001b[0;34m(\u001b[0m\u001b[0mkey\u001b[0m\u001b[0;34m)\u001b[0m\u001b[0;34m\u001b[0m\u001b[0m\n\u001b[0m\u001b[1;32m   1972\u001b[0m \u001b[0;34m\u001b[0m\u001b[0m\n\u001b[1;32m   1973\u001b[0m         \u001b[0;31m# duplicate columns & possible reduce dimensionality\u001b[0m\u001b[0;34m\u001b[0m\u001b[0;34m\u001b[0m\u001b[0m\n",
      "\u001b[0;32m~/anaconda3/envs/p3/lib/python3.6/site-packages/pandas/core/generic.py\u001b[0m in \u001b[0;36m_get_item_cache\u001b[0;34m(self, item)\u001b[0m\n\u001b[1;32m   1643\u001b[0m         \u001b[0mres\u001b[0m \u001b[0;34m=\u001b[0m \u001b[0mcache\u001b[0m\u001b[0;34m.\u001b[0m\u001b[0mget\u001b[0m\u001b[0;34m(\u001b[0m\u001b[0mitem\u001b[0m\u001b[0;34m)\u001b[0m\u001b[0;34m\u001b[0m\u001b[0m\n\u001b[1;32m   1644\u001b[0m         \u001b[0;32mif\u001b[0m \u001b[0mres\u001b[0m \u001b[0;32mis\u001b[0m \u001b[0;32mNone\u001b[0m\u001b[0;34m:\u001b[0m\u001b[0;34m\u001b[0m\u001b[0m\n\u001b[0;32m-> 1645\u001b[0;31m             \u001b[0mvalues\u001b[0m \u001b[0;34m=\u001b[0m \u001b[0mself\u001b[0m\u001b[0;34m.\u001b[0m\u001b[0m_data\u001b[0m\u001b[0;34m.\u001b[0m\u001b[0mget\u001b[0m\u001b[0;34m(\u001b[0m\u001b[0mitem\u001b[0m\u001b[0;34m)\u001b[0m\u001b[0;34m\u001b[0m\u001b[0m\n\u001b[0m\u001b[1;32m   1646\u001b[0m             \u001b[0mres\u001b[0m \u001b[0;34m=\u001b[0m \u001b[0mself\u001b[0m\u001b[0;34m.\u001b[0m\u001b[0m_box_item_values\u001b[0m\u001b[0;34m(\u001b[0m\u001b[0mitem\u001b[0m\u001b[0;34m,\u001b[0m \u001b[0mvalues\u001b[0m\u001b[0;34m)\u001b[0m\u001b[0;34m\u001b[0m\u001b[0m\n\u001b[1;32m   1647\u001b[0m             \u001b[0mcache\u001b[0m\u001b[0;34m[\u001b[0m\u001b[0mitem\u001b[0m\u001b[0;34m]\u001b[0m \u001b[0;34m=\u001b[0m \u001b[0mres\u001b[0m\u001b[0;34m\u001b[0m\u001b[0m\n",
      "\u001b[0;32m~/anaconda3/envs/p3/lib/python3.6/site-packages/pandas/core/internals.py\u001b[0m in \u001b[0;36mget\u001b[0;34m(self, item, fastpath)\u001b[0m\n\u001b[1;32m   3588\u001b[0m \u001b[0;34m\u001b[0m\u001b[0m\n\u001b[1;32m   3589\u001b[0m             \u001b[0;32mif\u001b[0m \u001b[0;32mnot\u001b[0m \u001b[0misnull\u001b[0m\u001b[0;34m(\u001b[0m\u001b[0mitem\u001b[0m\u001b[0;34m)\u001b[0m\u001b[0;34m:\u001b[0m\u001b[0;34m\u001b[0m\u001b[0m\n\u001b[0;32m-> 3590\u001b[0;31m                 \u001b[0mloc\u001b[0m \u001b[0;34m=\u001b[0m \u001b[0mself\u001b[0m\u001b[0;34m.\u001b[0m\u001b[0mitems\u001b[0m\u001b[0;34m.\u001b[0m\u001b[0mget_loc\u001b[0m\u001b[0;34m(\u001b[0m\u001b[0mitem\u001b[0m\u001b[0;34m)\u001b[0m\u001b[0;34m\u001b[0m\u001b[0m\n\u001b[0m\u001b[1;32m   3591\u001b[0m             \u001b[0;32melse\u001b[0m\u001b[0;34m:\u001b[0m\u001b[0;34m\u001b[0m\u001b[0m\n\u001b[1;32m   3592\u001b[0m                 \u001b[0mindexer\u001b[0m \u001b[0;34m=\u001b[0m \u001b[0mnp\u001b[0m\u001b[0;34m.\u001b[0m\u001b[0marange\u001b[0m\u001b[0;34m(\u001b[0m\u001b[0mlen\u001b[0m\u001b[0;34m(\u001b[0m\u001b[0mself\u001b[0m\u001b[0;34m.\u001b[0m\u001b[0mitems\u001b[0m\u001b[0;34m)\u001b[0m\u001b[0;34m)\u001b[0m\u001b[0;34m[\u001b[0m\u001b[0misnull\u001b[0m\u001b[0;34m(\u001b[0m\u001b[0mself\u001b[0m\u001b[0;34m.\u001b[0m\u001b[0mitems\u001b[0m\u001b[0;34m)\u001b[0m\u001b[0;34m]\u001b[0m\u001b[0;34m\u001b[0m\u001b[0m\n",
      "\u001b[0;32m~/anaconda3/envs/p3/lib/python3.6/site-packages/pandas/core/indexes/base.py\u001b[0m in \u001b[0;36mget_loc\u001b[0;34m(self, key, method, tolerance)\u001b[0m\n\u001b[1;32m   2442\u001b[0m                 \u001b[0;32mreturn\u001b[0m \u001b[0mself\u001b[0m\u001b[0;34m.\u001b[0m\u001b[0m_engine\u001b[0m\u001b[0;34m.\u001b[0m\u001b[0mget_loc\u001b[0m\u001b[0;34m(\u001b[0m\u001b[0mkey\u001b[0m\u001b[0;34m)\u001b[0m\u001b[0;34m\u001b[0m\u001b[0m\n\u001b[1;32m   2443\u001b[0m             \u001b[0;32mexcept\u001b[0m \u001b[0mKeyError\u001b[0m\u001b[0;34m:\u001b[0m\u001b[0;34m\u001b[0m\u001b[0m\n\u001b[0;32m-> 2444\u001b[0;31m                 \u001b[0;32mreturn\u001b[0m \u001b[0mself\u001b[0m\u001b[0;34m.\u001b[0m\u001b[0m_engine\u001b[0m\u001b[0;34m.\u001b[0m\u001b[0mget_loc\u001b[0m\u001b[0;34m(\u001b[0m\u001b[0mself\u001b[0m\u001b[0;34m.\u001b[0m\u001b[0m_maybe_cast_indexer\u001b[0m\u001b[0;34m(\u001b[0m\u001b[0mkey\u001b[0m\u001b[0;34m)\u001b[0m\u001b[0;34m)\u001b[0m\u001b[0;34m\u001b[0m\u001b[0m\n\u001b[0m\u001b[1;32m   2445\u001b[0m \u001b[0;34m\u001b[0m\u001b[0m\n\u001b[1;32m   2446\u001b[0m         \u001b[0mindexer\u001b[0m \u001b[0;34m=\u001b[0m \u001b[0mself\u001b[0m\u001b[0;34m.\u001b[0m\u001b[0mget_indexer\u001b[0m\u001b[0;34m(\u001b[0m\u001b[0;34m[\u001b[0m\u001b[0mkey\u001b[0m\u001b[0;34m]\u001b[0m\u001b[0;34m,\u001b[0m \u001b[0mmethod\u001b[0m\u001b[0;34m=\u001b[0m\u001b[0mmethod\u001b[0m\u001b[0;34m,\u001b[0m \u001b[0mtolerance\u001b[0m\u001b[0;34m=\u001b[0m\u001b[0mtolerance\u001b[0m\u001b[0;34m)\u001b[0m\u001b[0;34m\u001b[0m\u001b[0m\n",
      "\u001b[0;32mpandas/_libs/index.pyx\u001b[0m in \u001b[0;36mpandas._libs.index.IndexEngine.get_loc (pandas/_libs/index.c:5280)\u001b[0;34m()\u001b[0m\n",
      "\u001b[0;32mpandas/_libs/index.pyx\u001b[0m in \u001b[0;36mpandas._libs.index.IndexEngine.get_loc (pandas/_libs/index.c:5126)\u001b[0;34m()\u001b[0m\n",
      "\u001b[0;32mpandas/_libs/hashtable_class_helper.pxi\u001b[0m in \u001b[0;36mpandas._libs.hashtable.PyObjectHashTable.get_item (pandas/_libs/hashtable.c:20523)\u001b[0;34m()\u001b[0m\n",
      "\u001b[0;32mpandas/_libs/hashtable_class_helper.pxi\u001b[0m in \u001b[0;36mpandas._libs.hashtable.PyObjectHashTable.get_item (pandas/_libs/hashtable.c:20477)\u001b[0;34m()\u001b[0m\n",
      "\u001b[0;31mKeyError\u001b[0m: 'test_score'"
     ]
    }
   ],
   "source": [
    "evaluate(\"dataset/{}tf_vae_dense_trained_together_nsl_kdd_predictions.pkl\".format(master),\n",
    "         \"dataset/{}tf_vae_dense_trained_together_nsl_kdd_scores.pkl\".format(master), \"VAE with Softmax\")"
   ]
  },
  {
   "cell_type": "markdown",
   "metadata": {
    "nbpresent": {
     "id": "c4ef37f2-b016-4b0e-a3c9-aa38478fc6eb"
    },
    "slideshow": {
     "slide_type": "slide"
    }
   },
   "source": [
    "## Include dependent Variable as feature.\n",
    "\n",
    "Another approach we took is to train VAE to reproduce Normal/Attack labels itself during Training cylce. While testing, we would replace the labels with **random values(0~1)** and use VAE to generate correct values of the labels.\n",
    "\n",
    "![VAE with Softmax](images/VAE_withLabel.jpg)\n"
   ]
  },
  {
   "cell_type": "markdown",
   "metadata": {
    "nbpresent": {
     "id": "7d9c7d57-0cb5-4eb4-969f-959d0a3ae352"
    },
    "slideshow": {
     "slide_type": "subslide"
    }
   },
   "source": [
    "## using VAE Loss\n",
    "\n",
    "< explain the variation >"
   ]
  },
  {
   "cell_type": "code",
   "execution_count": 14,
   "metadata": {
    "ExecuteTime": {
     "end_time": "2017-06-13T17:50:54.339115Z",
     "start_time": "2017-06-13T17:50:54.107427Z"
    },
    "nbpresent": {
     "id": "a4c7d76b-0be6-4bd2-9b00-208e08d86ca7"
    },
    "scrolled": false,
    "slideshow": {
     "slide_type": "subslide"
    }
   },
   "outputs": [
    {
     "name": "stdout",
     "output_type": "stream",
     "text": [
      "dataset/tf_vae_only_vae_loss_nsl_kdd_predictions.pkl\n"
     ]
    },
    {
     "ename": "KeyError",
     "evalue": "'test_score'",
     "output_type": "error",
     "traceback": [
      "\u001b[0;31m---------------------------------------------------------------------------\u001b[0m",
      "\u001b[0;31mKeyError\u001b[0m                                  Traceback (most recent call last)",
      "\u001b[0;32m~/anaconda3/envs/p3/lib/python3.6/site-packages/pandas/core/indexes/base.py\u001b[0m in \u001b[0;36mget_loc\u001b[0;34m(self, key, method, tolerance)\u001b[0m\n\u001b[1;32m   2441\u001b[0m             \u001b[0;32mtry\u001b[0m\u001b[0;34m:\u001b[0m\u001b[0;34m\u001b[0m\u001b[0m\n\u001b[0;32m-> 2442\u001b[0;31m                 \u001b[0;32mreturn\u001b[0m \u001b[0mself\u001b[0m\u001b[0;34m.\u001b[0m\u001b[0m_engine\u001b[0m\u001b[0;34m.\u001b[0m\u001b[0mget_loc\u001b[0m\u001b[0;34m(\u001b[0m\u001b[0mkey\u001b[0m\u001b[0;34m)\u001b[0m\u001b[0;34m\u001b[0m\u001b[0m\n\u001b[0m\u001b[1;32m   2443\u001b[0m             \u001b[0;32mexcept\u001b[0m \u001b[0mKeyError\u001b[0m\u001b[0;34m:\u001b[0m\u001b[0;34m\u001b[0m\u001b[0m\n",
      "\u001b[0;32mpandas/_libs/index.pyx\u001b[0m in \u001b[0;36mpandas._libs.index.IndexEngine.get_loc (pandas/_libs/index.c:5280)\u001b[0;34m()\u001b[0m\n",
      "\u001b[0;32mpandas/_libs/index.pyx\u001b[0m in \u001b[0;36mpandas._libs.index.IndexEngine.get_loc (pandas/_libs/index.c:5126)\u001b[0;34m()\u001b[0m\n",
      "\u001b[0;32mpandas/_libs/hashtable_class_helper.pxi\u001b[0m in \u001b[0;36mpandas._libs.hashtable.PyObjectHashTable.get_item (pandas/_libs/hashtable.c:20523)\u001b[0;34m()\u001b[0m\n",
      "\u001b[0;32mpandas/_libs/hashtable_class_helper.pxi\u001b[0m in \u001b[0;36mpandas._libs.hashtable.PyObjectHashTable.get_item (pandas/_libs/hashtable.c:20477)\u001b[0;34m()\u001b[0m\n",
      "\u001b[0;31mKeyError\u001b[0m: 'test_score'",
      "\nDuring handling of the above exception, another exception occurred:\n",
      "\u001b[0;31mKeyError\u001b[0m                                  Traceback (most recent call last)",
      "\u001b[0;32m<ipython-input-14-2f0bfae89581>\u001b[0m in \u001b[0;36m<module>\u001b[0;34m()\u001b[0m\n\u001b[1;32m      1\u001b[0m evaluate(\"dataset/{}tf_vae_only_vae_loss_nsl_kdd_predictions.pkl\".format(master),\n\u001b[0;32m----> 2\u001b[0;31m          \"dataset/{}tf_vae_only_vae_loss_nsl_kdd_scores.pkl\".format(master), \"VAE with label (using VAE loss)\")\n\u001b[0m",
      "\u001b[0;32m<ipython-input-11-0b5e2486d54a>\u001b[0m in \u001b[0;36mevaluate\u001b[0;34m(pred_pkl, score_pkl, name)\u001b[0m\n\u001b[1;32m     31\u001b[0m     \u001b[0;31m#print(scores.sort_values(\"test_score\", ascending=False))\u001b[0m\u001b[0;34m\u001b[0m\u001b[0;34m\u001b[0m\u001b[0m\n\u001b[1;32m     32\u001b[0m \u001b[0;34m\u001b[0m\u001b[0m\n\u001b[0;32m---> 33\u001b[0;31m     \u001b[0mdf_sorted\u001b[0m \u001b[0;34m=\u001b[0m \u001b[0mscores\u001b[0m\u001b[0;34m.\u001b[0m\u001b[0msort_values\u001b[0m\u001b[0;34m(\u001b[0m\u001b[0;34m\"test_score\"\u001b[0m\u001b[0;34m,\u001b[0m \u001b[0mascending\u001b[0m\u001b[0;34m=\u001b[0m\u001b[0;32mFalse\u001b[0m\u001b[0;34m)\u001b[0m\u001b[0;34m.\u001b[0m\u001b[0miloc\u001b[0m\u001b[0;34m[\u001b[0m\u001b[0;36m0\u001b[0m\u001b[0;34m,\u001b[0m\u001b[0;36m0\u001b[0m\u001b[0;34m:\u001b[0m\u001b[0;36m3\u001b[0m\u001b[0;34m]\u001b[0m\u001b[0;34m\u001b[0m\u001b[0m\n\u001b[0m\u001b[1;32m     34\u001b[0m     \u001b[0mepoch\u001b[0m \u001b[0;34m=\u001b[0m \u001b[0mint\u001b[0m\u001b[0;34m(\u001b[0m\u001b[0mdf_sorted\u001b[0m\u001b[0;34m[\u001b[0m\u001b[0;34m'epoch'\u001b[0m\u001b[0;34m]\u001b[0m\u001b[0;34m)\u001b[0m\u001b[0;34m\u001b[0m\u001b[0m\n\u001b[1;32m     35\u001b[0m     \u001b[0mn_o_f\u001b[0m \u001b[0;34m=\u001b[0m \u001b[0mint\u001b[0m\u001b[0;34m(\u001b[0m\u001b[0mdf_sorted\u001b[0m\u001b[0;34m[\u001b[0m\u001b[0;34m'no_of_features'\u001b[0m\u001b[0;34m]\u001b[0m\u001b[0;34m)\u001b[0m\u001b[0;34m\u001b[0m\u001b[0m\n",
      "\u001b[0;32m~/anaconda3/envs/p3/lib/python3.6/site-packages/pandas/core/frame.py\u001b[0m in \u001b[0;36msort_values\u001b[0;34m(self, by, axis, ascending, inplace, kind, na_position)\u001b[0m\n\u001b[1;32m   3184\u001b[0m \u001b[0;34m\u001b[0m\u001b[0m\n\u001b[1;32m   3185\u001b[0m             \u001b[0mby\u001b[0m \u001b[0;34m=\u001b[0m \u001b[0mby\u001b[0m\u001b[0;34m[\u001b[0m\u001b[0;36m0\u001b[0m\u001b[0;34m]\u001b[0m\u001b[0;34m\u001b[0m\u001b[0m\n\u001b[0;32m-> 3186\u001b[0;31m             \u001b[0mk\u001b[0m \u001b[0;34m=\u001b[0m \u001b[0mself\u001b[0m\u001b[0;34m.\u001b[0m\u001b[0mxs\u001b[0m\u001b[0;34m(\u001b[0m\u001b[0mby\u001b[0m\u001b[0;34m,\u001b[0m \u001b[0maxis\u001b[0m\u001b[0;34m=\u001b[0m\u001b[0mother_axis\u001b[0m\u001b[0;34m)\u001b[0m\u001b[0;34m.\u001b[0m\u001b[0mvalues\u001b[0m\u001b[0;34m\u001b[0m\u001b[0m\n\u001b[0m\u001b[1;32m   3187\u001b[0m             \u001b[0;32mif\u001b[0m \u001b[0mk\u001b[0m\u001b[0;34m.\u001b[0m\u001b[0mndim\u001b[0m \u001b[0;34m==\u001b[0m \u001b[0;36m2\u001b[0m\u001b[0;34m:\u001b[0m\u001b[0;34m\u001b[0m\u001b[0m\n\u001b[1;32m   3188\u001b[0m \u001b[0;34m\u001b[0m\u001b[0m\n",
      "\u001b[0;32m~/anaconda3/envs/p3/lib/python3.6/site-packages/pandas/core/generic.py\u001b[0m in \u001b[0;36mxs\u001b[0;34m(self, key, axis, level, drop_level)\u001b[0m\n\u001b[1;32m   2021\u001b[0m \u001b[0;34m\u001b[0m\u001b[0m\n\u001b[1;32m   2022\u001b[0m         \u001b[0;32mif\u001b[0m \u001b[0maxis\u001b[0m \u001b[0;34m==\u001b[0m \u001b[0;36m1\u001b[0m\u001b[0;34m:\u001b[0m\u001b[0;34m\u001b[0m\u001b[0m\n\u001b[0;32m-> 2023\u001b[0;31m             \u001b[0;32mreturn\u001b[0m \u001b[0mself\u001b[0m\u001b[0;34m[\u001b[0m\u001b[0mkey\u001b[0m\u001b[0;34m]\u001b[0m\u001b[0;34m\u001b[0m\u001b[0m\n\u001b[0m\u001b[1;32m   2024\u001b[0m \u001b[0;34m\u001b[0m\u001b[0m\n\u001b[1;32m   2025\u001b[0m         \u001b[0mself\u001b[0m\u001b[0;34m.\u001b[0m\u001b[0m_consolidate_inplace\u001b[0m\u001b[0;34m(\u001b[0m\u001b[0;34m)\u001b[0m\u001b[0;34m\u001b[0m\u001b[0m\n",
      "\u001b[0;32m~/anaconda3/envs/p3/lib/python3.6/site-packages/pandas/core/frame.py\u001b[0m in \u001b[0;36m__getitem__\u001b[0;34m(self, key)\u001b[0m\n\u001b[1;32m   1962\u001b[0m             \u001b[0;32mreturn\u001b[0m \u001b[0mself\u001b[0m\u001b[0;34m.\u001b[0m\u001b[0m_getitem_multilevel\u001b[0m\u001b[0;34m(\u001b[0m\u001b[0mkey\u001b[0m\u001b[0;34m)\u001b[0m\u001b[0;34m\u001b[0m\u001b[0m\n\u001b[1;32m   1963\u001b[0m         \u001b[0;32melse\u001b[0m\u001b[0;34m:\u001b[0m\u001b[0;34m\u001b[0m\u001b[0m\n\u001b[0;32m-> 1964\u001b[0;31m             \u001b[0;32mreturn\u001b[0m \u001b[0mself\u001b[0m\u001b[0;34m.\u001b[0m\u001b[0m_getitem_column\u001b[0m\u001b[0;34m(\u001b[0m\u001b[0mkey\u001b[0m\u001b[0;34m)\u001b[0m\u001b[0;34m\u001b[0m\u001b[0m\n\u001b[0m\u001b[1;32m   1965\u001b[0m \u001b[0;34m\u001b[0m\u001b[0m\n\u001b[1;32m   1966\u001b[0m     \u001b[0;32mdef\u001b[0m \u001b[0m_getitem_column\u001b[0m\u001b[0;34m(\u001b[0m\u001b[0mself\u001b[0m\u001b[0;34m,\u001b[0m \u001b[0mkey\u001b[0m\u001b[0;34m)\u001b[0m\u001b[0;34m:\u001b[0m\u001b[0;34m\u001b[0m\u001b[0m\n",
      "\u001b[0;32m~/anaconda3/envs/p3/lib/python3.6/site-packages/pandas/core/frame.py\u001b[0m in \u001b[0;36m_getitem_column\u001b[0;34m(self, key)\u001b[0m\n\u001b[1;32m   1969\u001b[0m         \u001b[0;31m# get column\u001b[0m\u001b[0;34m\u001b[0m\u001b[0;34m\u001b[0m\u001b[0m\n\u001b[1;32m   1970\u001b[0m         \u001b[0;32mif\u001b[0m \u001b[0mself\u001b[0m\u001b[0;34m.\u001b[0m\u001b[0mcolumns\u001b[0m\u001b[0;34m.\u001b[0m\u001b[0mis_unique\u001b[0m\u001b[0;34m:\u001b[0m\u001b[0;34m\u001b[0m\u001b[0m\n\u001b[0;32m-> 1971\u001b[0;31m             \u001b[0;32mreturn\u001b[0m \u001b[0mself\u001b[0m\u001b[0;34m.\u001b[0m\u001b[0m_get_item_cache\u001b[0m\u001b[0;34m(\u001b[0m\u001b[0mkey\u001b[0m\u001b[0;34m)\u001b[0m\u001b[0;34m\u001b[0m\u001b[0m\n\u001b[0m\u001b[1;32m   1972\u001b[0m \u001b[0;34m\u001b[0m\u001b[0m\n\u001b[1;32m   1973\u001b[0m         \u001b[0;31m# duplicate columns & possible reduce dimensionality\u001b[0m\u001b[0;34m\u001b[0m\u001b[0;34m\u001b[0m\u001b[0m\n",
      "\u001b[0;32m~/anaconda3/envs/p3/lib/python3.6/site-packages/pandas/core/generic.py\u001b[0m in \u001b[0;36m_get_item_cache\u001b[0;34m(self, item)\u001b[0m\n\u001b[1;32m   1643\u001b[0m         \u001b[0mres\u001b[0m \u001b[0;34m=\u001b[0m \u001b[0mcache\u001b[0m\u001b[0;34m.\u001b[0m\u001b[0mget\u001b[0m\u001b[0;34m(\u001b[0m\u001b[0mitem\u001b[0m\u001b[0;34m)\u001b[0m\u001b[0;34m\u001b[0m\u001b[0m\n\u001b[1;32m   1644\u001b[0m         \u001b[0;32mif\u001b[0m \u001b[0mres\u001b[0m \u001b[0;32mis\u001b[0m \u001b[0;32mNone\u001b[0m\u001b[0;34m:\u001b[0m\u001b[0;34m\u001b[0m\u001b[0m\n\u001b[0;32m-> 1645\u001b[0;31m             \u001b[0mvalues\u001b[0m \u001b[0;34m=\u001b[0m \u001b[0mself\u001b[0m\u001b[0;34m.\u001b[0m\u001b[0m_data\u001b[0m\u001b[0;34m.\u001b[0m\u001b[0mget\u001b[0m\u001b[0;34m(\u001b[0m\u001b[0mitem\u001b[0m\u001b[0;34m)\u001b[0m\u001b[0;34m\u001b[0m\u001b[0m\n\u001b[0m\u001b[1;32m   1646\u001b[0m             \u001b[0mres\u001b[0m \u001b[0;34m=\u001b[0m \u001b[0mself\u001b[0m\u001b[0;34m.\u001b[0m\u001b[0m_box_item_values\u001b[0m\u001b[0;34m(\u001b[0m\u001b[0mitem\u001b[0m\u001b[0;34m,\u001b[0m \u001b[0mvalues\u001b[0m\u001b[0;34m)\u001b[0m\u001b[0;34m\u001b[0m\u001b[0m\n\u001b[1;32m   1647\u001b[0m             \u001b[0mcache\u001b[0m\u001b[0;34m[\u001b[0m\u001b[0mitem\u001b[0m\u001b[0;34m]\u001b[0m \u001b[0;34m=\u001b[0m \u001b[0mres\u001b[0m\u001b[0;34m\u001b[0m\u001b[0m\n",
      "\u001b[0;32m~/anaconda3/envs/p3/lib/python3.6/site-packages/pandas/core/internals.py\u001b[0m in \u001b[0;36mget\u001b[0;34m(self, item, fastpath)\u001b[0m\n\u001b[1;32m   3588\u001b[0m \u001b[0;34m\u001b[0m\u001b[0m\n\u001b[1;32m   3589\u001b[0m             \u001b[0;32mif\u001b[0m \u001b[0;32mnot\u001b[0m \u001b[0misnull\u001b[0m\u001b[0;34m(\u001b[0m\u001b[0mitem\u001b[0m\u001b[0;34m)\u001b[0m\u001b[0;34m:\u001b[0m\u001b[0;34m\u001b[0m\u001b[0m\n\u001b[0;32m-> 3590\u001b[0;31m                 \u001b[0mloc\u001b[0m \u001b[0;34m=\u001b[0m \u001b[0mself\u001b[0m\u001b[0;34m.\u001b[0m\u001b[0mitems\u001b[0m\u001b[0;34m.\u001b[0m\u001b[0mget_loc\u001b[0m\u001b[0;34m(\u001b[0m\u001b[0mitem\u001b[0m\u001b[0;34m)\u001b[0m\u001b[0;34m\u001b[0m\u001b[0m\n\u001b[0m\u001b[1;32m   3591\u001b[0m             \u001b[0;32melse\u001b[0m\u001b[0;34m:\u001b[0m\u001b[0;34m\u001b[0m\u001b[0m\n\u001b[1;32m   3592\u001b[0m                 \u001b[0mindexer\u001b[0m \u001b[0;34m=\u001b[0m \u001b[0mnp\u001b[0m\u001b[0;34m.\u001b[0m\u001b[0marange\u001b[0m\u001b[0;34m(\u001b[0m\u001b[0mlen\u001b[0m\u001b[0;34m(\u001b[0m\u001b[0mself\u001b[0m\u001b[0;34m.\u001b[0m\u001b[0mitems\u001b[0m\u001b[0;34m)\u001b[0m\u001b[0;34m)\u001b[0m\u001b[0;34m[\u001b[0m\u001b[0misnull\u001b[0m\u001b[0;34m(\u001b[0m\u001b[0mself\u001b[0m\u001b[0;34m.\u001b[0m\u001b[0mitems\u001b[0m\u001b[0;34m)\u001b[0m\u001b[0;34m]\u001b[0m\u001b[0;34m\u001b[0m\u001b[0m\n",
      "\u001b[0;32m~/anaconda3/envs/p3/lib/python3.6/site-packages/pandas/core/indexes/base.py\u001b[0m in \u001b[0;36mget_loc\u001b[0;34m(self, key, method, tolerance)\u001b[0m\n\u001b[1;32m   2442\u001b[0m                 \u001b[0;32mreturn\u001b[0m \u001b[0mself\u001b[0m\u001b[0;34m.\u001b[0m\u001b[0m_engine\u001b[0m\u001b[0;34m.\u001b[0m\u001b[0mget_loc\u001b[0m\u001b[0;34m(\u001b[0m\u001b[0mkey\u001b[0m\u001b[0;34m)\u001b[0m\u001b[0;34m\u001b[0m\u001b[0m\n\u001b[1;32m   2443\u001b[0m             \u001b[0;32mexcept\u001b[0m \u001b[0mKeyError\u001b[0m\u001b[0;34m:\u001b[0m\u001b[0;34m\u001b[0m\u001b[0m\n\u001b[0;32m-> 2444\u001b[0;31m                 \u001b[0;32mreturn\u001b[0m \u001b[0mself\u001b[0m\u001b[0;34m.\u001b[0m\u001b[0m_engine\u001b[0m\u001b[0;34m.\u001b[0m\u001b[0mget_loc\u001b[0m\u001b[0;34m(\u001b[0m\u001b[0mself\u001b[0m\u001b[0;34m.\u001b[0m\u001b[0m_maybe_cast_indexer\u001b[0m\u001b[0;34m(\u001b[0m\u001b[0mkey\u001b[0m\u001b[0;34m)\u001b[0m\u001b[0;34m)\u001b[0m\u001b[0;34m\u001b[0m\u001b[0m\n\u001b[0m\u001b[1;32m   2445\u001b[0m \u001b[0;34m\u001b[0m\u001b[0m\n\u001b[1;32m   2446\u001b[0m         \u001b[0mindexer\u001b[0m \u001b[0;34m=\u001b[0m \u001b[0mself\u001b[0m\u001b[0;34m.\u001b[0m\u001b[0mget_indexer\u001b[0m\u001b[0;34m(\u001b[0m\u001b[0;34m[\u001b[0m\u001b[0mkey\u001b[0m\u001b[0;34m]\u001b[0m\u001b[0;34m,\u001b[0m \u001b[0mmethod\u001b[0m\u001b[0;34m=\u001b[0m\u001b[0mmethod\u001b[0m\u001b[0;34m,\u001b[0m \u001b[0mtolerance\u001b[0m\u001b[0;34m=\u001b[0m\u001b[0mtolerance\u001b[0m\u001b[0;34m)\u001b[0m\u001b[0;34m\u001b[0m\u001b[0m\n",
      "\u001b[0;32mpandas/_libs/index.pyx\u001b[0m in \u001b[0;36mpandas._libs.index.IndexEngine.get_loc (pandas/_libs/index.c:5280)\u001b[0;34m()\u001b[0m\n",
      "\u001b[0;32mpandas/_libs/index.pyx\u001b[0m in \u001b[0;36mpandas._libs.index.IndexEngine.get_loc (pandas/_libs/index.c:5126)\u001b[0;34m()\u001b[0m\n",
      "\u001b[0;32mpandas/_libs/hashtable_class_helper.pxi\u001b[0m in \u001b[0;36mpandas._libs.hashtable.PyObjectHashTable.get_item (pandas/_libs/hashtable.c:20523)\u001b[0;34m()\u001b[0m\n",
      "\u001b[0;32mpandas/_libs/hashtable_class_helper.pxi\u001b[0m in \u001b[0;36mpandas._libs.hashtable.PyObjectHashTable.get_item (pandas/_libs/hashtable.c:20477)\u001b[0;34m()\u001b[0m\n",
      "\u001b[0;31mKeyError\u001b[0m: 'test_score'"
     ]
    }
   ],
   "source": [
    "evaluate(\"dataset/{}tf_vae_only_vae_loss_nsl_kdd_predictions.pkl\".format(master),\n",
    "         \"dataset/{}tf_vae_only_vae_loss_nsl_kdd_scores.pkl\".format(master), \"VAE with label (using VAE loss)\")"
   ]
  },
  {
   "cell_type": "markdown",
   "metadata": {
    "nbpresent": {
     "id": "77e87c15-2fa9-42e3-a422-16e7a4fcd394"
    },
    "slideshow": {
     "slide_type": "subslide"
    }
   },
   "source": [
    "## Using MSE Loss"
   ]
  },
  {
   "cell_type": "code",
   "execution_count": null,
   "metadata": {
    "ExecuteTime": {
     "end_time": "2017-06-13T17:50:54.339736Z",
     "start_time": "2017-06-13T17:50:53.118Z"
    },
    "collapsed": true,
    "nbpresent": {
     "id": "6c54a49d-2138-49dd-a863-40f4b4b7036b"
    },
    "slideshow": {
     "slide_type": "subslide"
    }
   },
   "outputs": [],
   "source": [
    "evaluate(\"dataset/{}tf_vae_only_nsl_kdd_predictions.pkl\".format(master),\n",
    "         \"dataset/{}tf_vae_only_nsl_kdd_scores.pkl\".format(master), \"VAE with label (using MSE loss)\")"
   ]
  },
  {
   "cell_type": "markdown",
   "metadata": {
    "nbpresent": {
     "id": "93a1c0ae-00d0-4878-b175-623a9935d426"
    },
    "slideshow": {
     "slide_type": "slide"
    }
   },
   "source": [
    "# LSTM Autoencoder Model\n",
    "\n",
    "LSTM Autoencoder, aka Seq2Seq, model is generally used to predict sequences of numbers (time dependent) given another sequence of numbers. LSTM encoders generates a context vector using input sequence which is passed on to decoder to generate the output.  \n",
    "We coupled LSTM decoder cells with Softmax layer to generate probability whether current session is Normal or Attack  \n",
    "\n",
    "\n",
    "![LSTM Encoder Decoder Model](images/LSTMseq2seq_withsoftmax.jpg)"
   ]
  },
  {
   "cell_type": "code",
   "execution_count": null,
   "metadata": {
    "ExecuteTime": {
     "end_time": "2017-06-13T17:50:54.340556Z",
     "start_time": "2017-06-13T17:50:53.124Z"
    },
    "collapsed": true,
    "nbpresent": {
     "id": "b357855c-ff4f-4b65-81f5-b1805f98cced"
    },
    "slideshow": {
     "slide_type": "subslide"
    }
   },
   "outputs": [],
   "source": [
    "evaluate(\"dataset/{}tf_lstm_nsl_kdd_predictions.pkl\".format(master),\n",
    "         \"dataset/{}tf_lstm_nsl_kdd_scores.pkl\".format(master), \"LSTM Autoencoder (Seq2Seq)\")"
   ]
  },
  {
   "cell_type": "code",
   "execution_count": null,
   "metadata": {
    "ExecuteTime": {
     "end_time": "2017-06-13T17:50:54.341188Z",
     "start_time": "2017-06-13T17:50:53.128Z"
    },
    "collapsed": true
   },
   "outputs": [],
   "source": [
    "evaluate(\"dataset/{}tf_lstm_nsl_kdd_predictions-.pkl\".format(master),\n",
    "         \"dataset/{}tf_lstm_nsl_kdd_scores-.pkl\".format(master), \"LSTM Autoencoder (Seq2Seq) 20% Data\")"
   ]
  },
  {
   "cell_type": "markdown",
   "metadata": {
    "nbpresent": {
     "id": "76d423a9-d1c1-41be-9eea-37efcd760698"
    },
    "slideshow": {
     "slide_type": "slide"
    }
   },
   "source": [
    "# Generative Adversarial Networks\n",
    "\n",
    "## General Concept\n",
    "\n",
    "GANs utilizes two networks, Generator and Discriminator, to learn about data distribution by generating the data itself.\n",
    "- Generator Network is responsible to produce data of interest using random values.\n",
    "- Discriminator Network is responsible to identify between fake data produced by Generator and Actual sample of data.\n",
    "\n",
    "The optimized state of GANs is when Generator starts to produce enough realistic data so discriminator cannot distinguish between real data and generated data\n",
    "\n",
    "\n",
    "\n",
    "![Generative Advarsarial Networks](images/NSL_KDD_GAN_original_idea.jpg)"
   ]
  },
  {
   "cell_type": "markdown",
   "metadata": {
    "nbpresent": {
     "id": "51c2878f-3084-4b90-90a0-47b521aa2b72"
    },
    "slideshow": {
     "slide_type": "slide"
    }
   },
   "source": [
    "## GANs - For Hypothesis testing\n",
    "\n",
    "We suggest a learning model where GANs can be used for Hypothesis testing. Assume we have 2 data distributions D1 and D2:\n",
    "- Generator will be responsible to produce D2 distribution using random values\n",
    "- Discriminiator will be responsible to distinguish between D1 and D2 distributions.  \n",
    "\n",
    "Basically, discriminator will output probability between 0~1 whether current data is D1 or not. In this way we can decide a significance level based on which it can be decided to either Accept or Reject Null hypothesis i.e. whether current data is D1 or not.\n",
    "\n",
    "![GAN_hypo_optim_state](images/NSL_KDD_GAN_initial_state.jpg)\n",
    "![GAN_hypo_optim_state](images/NSL_KDD_GAN_hypo_optim_state.jpg)"
   ]
  },
  {
   "cell_type": "markdown",
   "metadata": {
    "nbpresent": {
     "id": "42ada2ab-373d-4ad8-a029-ecffaa76bb9f"
    },
    "slideshow": {
     "slide_type": "slide"
    }
   },
   "source": [
    "### GANs for NSL KDD dataset \n",
    "\n",
    "\n",
    "\n",
    "![GANs for NSL KDD dataset ](images/NSL_KDD_GAN_attack_hypothesis.jpg)"
   ]
  },
  {
   "cell_type": "markdown",
   "metadata": {
    "nbpresent": {
     "id": "ae6e2a6d-a258-412f-9d50-53bf77e2f622"
    },
    "slideshow": {
     "slide_type": "slide"
    }
   },
   "source": [
    "# Compare Results"
   ]
  },
  {
   "cell_type": "code",
   "execution_count": null,
   "metadata": {
    "ExecuteTime": {
     "end_time": "2017-06-13T17:50:54.341792Z",
     "start_time": "2017-06-13T17:50:53.135Z"
    },
    "collapsed": true,
    "nbpresent": {
     "id": "7478d10f-09bf-4090-95cd-f0021c756136"
    },
    "slideshow": {
     "slide_type": "skip"
    }
   },
   "outputs": [],
   "source": [
    "#accumulate_test_scores['param'] = accumulate_test_scores[['epoch','no_of_features', 'hidden_layers']].apply(lambda x : 'epoch:{}_features:{}_layers:{}'.format(x[0],x[1], x[2]), axis=1)\n",
    "accumulate_test_scores['Scenarios'] = accumulate_test_scores[['no_of_features', 'hidden_layers']].apply(lambda x : 'features:{}_layers:{}'.format(x[0], x[1]), axis=1)\n",
    "accumulate_test_time['Scenarios'] = accumulate_test_time[['no_of_features', 'hidden_layers']].apply(lambda x : 'features:{}_layers:{}'.format(x[0], x[1]), axis=1)\n"
   ]
  },
  {
   "cell_type": "code",
   "execution_count": null,
   "metadata": {
    "ExecuteTime": {
     "end_time": "2017-06-13T17:50:54.342541Z",
     "start_time": "2017-06-13T17:50:53.140Z"
    },
    "collapsed": true,
    "nbpresent": {
     "id": "0f797418-3425-4061-98fb-6bfdfb254c72"
    },
    "slideshow": {
     "slide_type": "skip"
    }
   },
   "outputs": [],
   "source": [
    "accumulate_test_scores = accumulate_test_scores.drop(['epoch','no_of_features', 'hidden_layers'], axis = 1)\n",
    "accumulate_test_time = accumulate_test_time.drop(['epoch','no_of_features', 'hidden_layers'], axis = 1)"
   ]
  },
  {
   "cell_type": "code",
   "execution_count": null,
   "metadata": {
    "ExecuteTime": {
     "end_time": "2017-06-13T17:50:54.343072Z",
     "start_time": "2017-06-13T17:50:53.145Z"
    },
    "collapsed": true,
    "nbpresent": {
     "id": "af94558b-d4d2-4e1e-8478-4d36504c8c51"
    },
    "slideshow": {
     "slide_type": "skip"
    }
   },
   "outputs": [],
   "source": [
    "accumulate_test_scores.set_index(\"Scenarios\", inplace = True)\n",
    "accumulate_test_time.set_index(\"Scenarios\", inplace = True)"
   ]
  },
  {
   "cell_type": "code",
   "execution_count": null,
   "metadata": {
    "ExecuteTime": {
     "end_time": "2017-06-13T17:50:54.343685Z",
     "start_time": "2017-06-13T17:50:53.150Z"
    },
    "collapsed": true,
    "nbpresent": {
     "id": "d0352ed5-d35e-421e-b41f-64e6be58b0e3"
    },
    "slideshow": {
     "slide_type": "subslide"
    }
   },
   "outputs": [],
   "source": [
    "accumulate_test_scores.replace(np.nan, '<Not Tested>', regex=True)"
   ]
  },
  {
   "cell_type": "code",
   "execution_count": null,
   "metadata": {
    "ExecuteTime": {
     "end_time": "2017-06-13T17:50:54.344247Z",
     "start_time": "2017-06-13T17:50:53.162Z"
    },
    "collapsed": true,
    "nbpresent": {
     "id": "d2b7cd6f-82d4-47f5-bf2f-0a8b003947ad"
    },
    "slideshow": {
     "slide_type": "subslide"
    }
   },
   "outputs": [],
   "source": [
    "f = plt.figure()\n",
    "accumulate_test_scores.plot(kind='bar', figsize=(15,4), ax=f.gca(),grid=True, )\n",
    "plt.legend(loc='center left', bbox_to_anchor=(1.0, 0.5))\n",
    "plt.title(\"Test Accuracy\")\n",
    "plt.show()"
   ]
  },
  {
   "cell_type": "code",
   "execution_count": null,
   "metadata": {
    "ExecuteTime": {
     "end_time": "2017-06-13T17:50:54.344790Z",
     "start_time": "2017-06-13T17:50:53.167Z"
    },
    "collapsed": true,
    "nbpresent": {
     "id": "5eed33c1-30c4-4447-8067-f97c5a110d97"
    },
    "slideshow": {
     "slide_type": "skip"
    }
   },
   "outputs": [],
   "source": [
    "accumulate_test_scores.to_csv(\"dataset/{}scores.csv\".format(master))"
   ]
  },
  {
   "cell_type": "code",
   "execution_count": null,
   "metadata": {
    "ExecuteTime": {
     "end_time": "2017-06-13T17:50:54.345383Z",
     "start_time": "2017-06-13T17:50:53.171Z"
    },
    "collapsed": true,
    "nbpresent": {
     "id": "226a0ba1-e79a-4ba2-8e27-23d447d1ec1e"
    },
    "slideshow": {
     "slide_type": "skip"
    }
   },
   "outputs": [],
   "source": [
    "accumulate_test_time.replace(np.nan, '<Not Tested>', regex=True)"
   ]
  },
  {
   "cell_type": "code",
   "execution_count": null,
   "metadata": {
    "ExecuteTime": {
     "end_time": "2017-06-13T17:50:54.345998Z",
     "start_time": "2017-06-13T17:50:53.176Z"
    },
    "collapsed": true
   },
   "outputs": [],
   "source": [
    "f = plt.figure()\n",
    "accumulate_test_time.plot(kind='bar', figsize=(15,4), ax=f.gca(),grid=True, )\n",
    "plt.legend(loc='center left', bbox_to_anchor=(1.0, 0.5))\n",
    "plt.title('Time required for Training (in secs)')\n",
    "plt.show()"
   ]
  },
  {
   "cell_type": "code",
   "execution_count": null,
   "metadata": {
    "ExecuteTime": {
     "end_time": "2017-06-13T17:50:54.346555Z",
     "start_time": "2017-06-13T17:50:53.180Z"
    },
    "collapsed": true
   },
   "outputs": [],
   "source": [
    "accumulate_test_time.to_csv(\"dataset/{}time.csv\".format(master))"
   ]
  }
 ],
 "metadata": {
  "_draft": {
   "nbviewer_url": "https://gist.github.com/93fa75f3f9285b1ba4670c28a417c10c"
  },
  "anaconda-cloud": {},
  "celltoolbar": "Slideshow",
  "gist": {
   "data": {
    "description": "With True Positive, True Negative, Type I & II errors",
    "public": false
   },
   "id": "93fa75f3f9285b1ba4670c28a417c10c"
  },
  "kernelspec": {
   "display_name": "Python [conda env:p3]",
   "language": "python",
   "name": "conda-env-p3-py"
  },
  "language_info": {
   "codemirror_mode": {
    "name": "ipython",
    "version": 3
   },
   "file_extension": ".py",
   "mimetype": "text/x-python",
   "name": "python",
   "nbconvert_exporter": "python",
   "pygments_lexer": "ipython3",
   "version": "3.6.1"
  },
  "nbpresent": {
   "slides": {
    "465daa31-826a-4f9c-8612-f5248561e27a": {
     "id": "465daa31-826a-4f9c-8612-f5248561e27a",
     "prev": null,
     "regions": {
      "7f9bea92-5d12-4214-8baf-1ddd8e29581d": {
       "attrs": {
        "height": 1,
        "width": 1,
        "x": 0,
        "y": 0
       },
       "content": {
        "cell": "c59ff496-7575-4402-b20b-20db68a3540f",
        "part": "source"
       },
       "id": "7f9bea92-5d12-4214-8baf-1ddd8e29581d"
      }
     }
    },
    "760681d5-7308-42c1-833a-01ffb8a76cfc": {
     "id": "760681d5-7308-42c1-833a-01ffb8a76cfc",
     "layout": "manual",
     "prev": "465daa31-826a-4f9c-8612-f5248561e27a",
     "regions": {
      "6409a8d4-b4b2-41fc-84c8-e136ddceb555": {
       "attrs": {
        "height": 0.4864994026284349,
        "width": 0.4913978494623656,
        "x": 0.0064516129032258064,
        "y": 0.49761146953405017
       },
       "content": {
        "cell": "5dbceeca-6499-4cb0-834d-4db5462bd427",
        "part": "outputs"
       },
       "id": "6409a8d4-b4b2-41fc-84c8-e136ddceb555"
      },
      "8190449a-cc49-4dc9-89e2-79031a7103e4": {
       "attrs": {
        "height": 0.4769414575866189,
        "width": 0.4838709677419355,
        "x": 0.5064516129032258,
        "y": 0.495699880525687
       },
       "content": {
        "cell": "35966131-eebf-4da9-962f-4d4d71000afe",
        "part": "outputs"
       },
       "id": "8190449a-cc49-4dc9-89e2-79031a7103e4"
      },
      "eb015708-540c-4ff8-8d93-880739f5a207": {
       "attrs": {
        "height": 0.47120669056152925,
        "width": 0.989247311827957,
        "x": 0.0032258064516129032,
        "y": 0.010155297491039427
       },
       "content": {
        "cell": "8744ff16-810a-4f78-9d46-f01feb5ce35e",
        "part": "source"
       },
       "id": "eb015708-540c-4ff8-8d93-880739f5a207"
      }
     }
    },
    "99702eec-7996-4128-8b4f-29679d686a6d": {
     "id": "99702eec-7996-4128-8b4f-29679d686a6d",
     "prev": "760681d5-7308-42c1-833a-01ffb8a76cfc",
     "regions": {
      "f020b0ef-f71f-4904-8eb3-05adca2cab3e": {
       "attrs": {
        "height": 1,
        "width": 1,
        "x": 0,
        "y": 0
       },
       "content": {
        "cell": "c67b5de0-d0f8-427e-8b34-0dad203d61d7",
        "part": "source"
       },
       "id": "f020b0ef-f71f-4904-8eb3-05adca2cab3e"
      }
     }
    }
   },
   "themes": {
    "default": "4c5fcccd-eb25-41be-99f3-040a2d43a641",
    "theme": {
     "4c5fcccd-eb25-41be-99f3-040a2d43a641": {
      "backgrounds": {
       "dc7afa04-bf90-40b1-82a5-726e3cff5267": {
        "background-color": "31af15d2-7e15-44c5-ab5e-e04b16a89eff",
        "id": "dc7afa04-bf90-40b1-82a5-726e3cff5267"
       }
      },
      "id": "4c5fcccd-eb25-41be-99f3-040a2d43a641",
      "palette": {
       "19cc588f-0593-49c9-9f4b-e4d7cc113b1c": {
        "id": "19cc588f-0593-49c9-9f4b-e4d7cc113b1c",
        "rgb": [
         252,
         252,
         252
        ]
       },
       "31af15d2-7e15-44c5-ab5e-e04b16a89eff": {
        "id": "31af15d2-7e15-44c5-ab5e-e04b16a89eff",
        "rgb": [
         68,
         68,
         68
        ]
       },
       "50f92c45-a630-455b-aec3-788680ec7410": {
        "id": "50f92c45-a630-455b-aec3-788680ec7410",
        "rgb": [
         197,
         226,
         245
        ]
       },
       "c5cc3653-2ee1-402a-aba2-7caae1da4f6c": {
        "id": "c5cc3653-2ee1-402a-aba2-7caae1da4f6c",
        "rgb": [
         43,
         126,
         184
        ]
       },
       "efa7f048-9acb-414c-8b04-a26811511a21": {
        "id": "efa7f048-9acb-414c-8b04-a26811511a21",
        "rgb": [
         25.118061674008803,
         73.60176211453744,
         107.4819383259912
        ]
       }
      },
      "rules": {
       "a": {
        "color": "19cc588f-0593-49c9-9f4b-e4d7cc113b1c"
       },
       "blockquote": {
        "color": "50f92c45-a630-455b-aec3-788680ec7410",
        "font-size": 3
       },
       "code": {
        "font-family": "Anonymous Pro"
       },
       "h1": {
        "color": "19cc588f-0593-49c9-9f4b-e4d7cc113b1c",
        "font-family": "Merriweather",
        "font-size": 8
       },
       "h2": {
        "color": "19cc588f-0593-49c9-9f4b-e4d7cc113b1c",
        "font-family": "Merriweather",
        "font-size": 6
       },
       "h3": {
        "color": "50f92c45-a630-455b-aec3-788680ec7410",
        "font-family": "Lato",
        "font-size": 5.5
       },
       "h4": {
        "color": "c5cc3653-2ee1-402a-aba2-7caae1da4f6c",
        "font-family": "Lato",
        "font-size": 5
       },
       "h5": {
        "font-family": "Lato"
       },
       "h6": {
        "font-family": "Lato"
       },
       "h7": {
        "font-family": "Lato"
       },
       "li": {
        "color": "50f92c45-a630-455b-aec3-788680ec7410",
        "font-size": 3.25
       },
       "pre": {
        "font-family": "Anonymous Pro",
        "font-size": 4
       }
      },
      "text-base": {
       "color": "19cc588f-0593-49c9-9f4b-e4d7cc113b1c",
       "font-family": "Lato",
       "font-size": 4
      }
     }
    }
   }
  },
  "widgets": {
   "application/vnd.jupyter.widget-state+json": {
    "state": {},
    "version_major": 1,
    "version_minor": 0
   }
  }
 },
 "nbformat": 4,
 "nbformat_minor": 2
}
