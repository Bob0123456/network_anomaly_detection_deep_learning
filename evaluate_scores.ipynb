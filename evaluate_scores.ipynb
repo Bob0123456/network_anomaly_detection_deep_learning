{
 "cells": [
  {
   "cell_type": "code",
   "execution_count": 1,
   "metadata": {
    "ExecuteTime": {
     "end_time": "2017-07-21T16:40:03.771078Z",
     "start_time": "2017-07-21T16:40:03.058244Z"
    },
    "collapsed": true
   },
   "outputs": [],
   "source": [
    "import pandas as pd\n",
    "import numpy as np\n",
    "import warnings\n",
    "from scipy import stats\n",
    "from IPython.display import display, HTML\n",
    "from sklearn import metrics as me\n",
    "\n",
    "warnings.filterwarnings('ignore')\n",
    "pd.set_option(\"display.max_rows\",10)\n",
    "pd.set_option('precision', 4)\n",
    "\n",
    "\n",
    "%matplotlib inline"
   ]
  },
  {
   "cell_type": "code",
   "execution_count": 21,
   "metadata": {
    "ExecuteTime": {
     "end_time": "2017-07-21T16:59:34.356295Z",
     "start_time": "2017-07-21T16:59:34.281193Z"
    }
   },
   "outputs": [],
   "source": [
    "import numpy as np\n",
    "import matplotlib.pyplot as plt\n",
    "import itertools\n",
    "\n",
    "def plot_confusion_matrix(cm, classes,\n",
    "                          normalize=False,\n",
    "                          append = \"\",\n",
    "                          cmap=plt.cm.Blues):\n",
    "    \"\"\"\n",
    "    This function prints and plots the confusion matrix.\n",
    "    Normalization can be applied by setting `normalize=True`.\n",
    "    \"\"\"\n",
    "    title='Confusion matrix {}'.format(append)\n",
    "    np.set_printoptions(precision=4)\n",
    "\n",
    "    plt.imshow(cm, interpolation='nearest', cmap=cmap)\n",
    "    plt.title(title)\n",
    "    plt.colorbar()\n",
    "    tick_marks = np.arange(len(classes))\n",
    "    plt.xticks(tick_marks, classes, rotation=45)\n",
    "    plt.yticks(tick_marks, classes)\n",
    "\n",
    "    if normalize:\n",
    "        cm = cm.astype('float') / cm.sum(axis=1)[:, np.newaxis]\n",
    "        #print(\"Normalized confusion matrix\")\n",
    "    else:\n",
    "        #print('Confusion matrix, without normalization')\n",
    "        pass\n",
    "    \n",
    "    #print(cm)\n",
    "\n",
    "    label = [[\"\\n True Negative\", \"\\n False Positive \"],\n",
    "             [\"\\n False Negative \", \"\\n True Positive\"]\n",
    "            ]\n",
    "    \n",
    "    thresh = cm.max() / 2.\n",
    "    for i, j in itertools.product(range(cm.shape[0]), range(cm.shape[1])):\n",
    "        \n",
    "        plt.text(j, i, \"{} {}\".format(cm[i, j].round(4), label[i][j]),\n",
    "                 horizontalalignment=\"center\",\n",
    "                 color=\"white\" if cm[i, j] > thresh else \"black\")\n",
    "\n",
    "    plt.tight_layout()\n",
    "    plt.ylabel('True label')\n",
    "    plt.xlabel('Predicted label')\n",
    "\n",
    "def plot(actual_value, pred_value, scenario):\n",
    "    from sklearn.metrics import confusion_matrix\n",
    "\n",
    "    cm_2labels = confusion_matrix(y_pred = pred_value, y_true = actual_value)\n",
    "    plt.figure(figsize=[6,6])\n",
    "    plot_confusion_matrix(cm_2labels, ['Normal', 'Attack'], normalize = False, append = scenario)\n"
   ]
  },
  {
   "cell_type": "code",
   "execution_count": 48,
   "metadata": {
    "ExecuteTime": {
     "end_time": "2017-07-21T17:24:26.732613Z",
     "start_time": "2017-07-21T17:24:26.407975Z"
    },
    "collapsed": true
   },
   "outputs": [],
   "source": [
    "\n",
    "def evaluate(model, past_scores, predictions):\n",
    "    all_scenarios = pd.DataFrame(columns=['Model','Scenarios', 'Number of Features', 'Accuracy', 'F1 Score', 'Precision', 'Recall'])\n",
    "\n",
    "    \n",
    "    def get_best_df(past_scores):\n",
    "        psg = past_scores.sort_values(by='f1_score', ascending=False).groupby(by=['no_of_features', 'hidden_layers'])\n",
    "        df = psg.first().sort_values(by='f1_score', ascending=False).head(5)\n",
    "        return df\n",
    "    def get_median_df(past_scores):\n",
    "        psg = past_scores.sort_values(by='f1_score', ascending=False).groupby(by=['no_of_features', 'hidden_layers'])\n",
    "        df = psg.nth(int(psg.size()[0]/2)).sort_values(by='f1_score', ascending=False).head(5)\n",
    "        return df\n",
    "    def get_worst_df(past_scores):\n",
    "        psg = past_scores.sort_values(by='f1_score', ascending=False).groupby(by=['no_of_features', 'hidden_layers'])\n",
    "        df = psg.last().sort_values(by='f1_score', ascending=False).head(5)\n",
    "        return df\n",
    "    \n",
    "    def get_result(past_scores, which='best'):\n",
    "        if which == 'best':\n",
    "            df = get_best_df(past_scores)\n",
    "        elif which == 'median':\n",
    "            df = get_median_df(past_scores)\n",
    "        elif which == 'worst':\n",
    "            df = get_worst_df(past_scores)\n",
    "            \n",
    "        #epoch_nof_hidden\n",
    "        key = int(df.iloc[0]['key'])\n",
    "        nof = df.iloc[0].name[0]\n",
    "        hidden = df.iloc[0].name[1]\n",
    "        \n",
    "        return \"{}_{}_{}\".format(key, nof, hidden), nof, df\n",
    "\n",
    "    def view_data(name, past_scores, which):\n",
    "        _, _, df = get_result(past_scores, which)\n",
    "        display(name)\n",
    "        display(df)\n",
    "        \n",
    "    display(\"Individual Results for each Scenario:-\")    \n",
    "    view_data(\"   Results for {}: Best case\".format(model),past_scores, 'best')\n",
    "    view_data(\"   Results for {}: General case\".format(model),past_scores,'median')\n",
    "    view_data(\"   Results for {}: Worst case\".format(model),past_scores,'worst')\n",
    "        \n",
    "    def get_score(y_true, y_pred):\n",
    "        f1 = me.f1_score(y_true, y_pred)\n",
    "        pre = me.precision_score(y_true, y_pred)\n",
    "        rec = me.recall_score(y_true, y_pred)\n",
    "        acc = me.accuracy_score(y_true, y_pred)\n",
    "        return {\"F1 Score\":f1, \"Precision\":pre, \"Recall\":rec, \"Accuracy\":acc}\n",
    "    \n",
    "    display(\"Combined Results from all Scenarios for {}\".format(model))\n",
    "\n",
    "    \n",
    "    \n",
    "    def accumulate_scenarios(predictions, past_scores, which='best'):\n",
    "        key, nof, df = get_result(past_scores, which)\n",
    "        y_true = predictions[key][\"Actual\"]\n",
    "        y_pred = predictions[key][\"Prediction\"]\n",
    "        y_true = y_true.dropna()\n",
    "        y_pred = y_pred.dropna()\n",
    "        \n",
    "        scores = get_score(y_true, y_pred)\n",
    "        scores.update({\"Scenarios\":scenario,\"Number of Features\":nof,\"Model\":model})\n",
    "        plot(y_true, y_pred, scenario)\n",
    "        return pd.DataFrame(scores, index=[1])\n",
    "    \n",
    "    scenario = \"Best Result\"\n",
    "    all_scenarios = all_scenarios.append(accumulate_scenarios(predictions, past_scores, 'best'))\n",
    "    scenario = \"General Result\"\n",
    "    all_scenarios = all_scenarios.append(accumulate_scenarios(predictions, past_scores, 'median'))\n",
    "    scenario = \"Worst Result\"\n",
    "    all_scenarios = all_scenarios.append(accumulate_scenarios(predictions, past_scores, 'worst'))\n",
    "    \n",
    "    \n",
    "    display(all_scenarios.set_index(['Model','Scenarios','Number of Features']))\n",
    "    return all_scenarios\n",
    "    \n",
    "    \n",
    "    \n",
    "    \n",
    "    "
   ]
  },
  {
   "cell_type": "code",
   "execution_count": 4,
   "metadata": {
    "ExecuteTime": {
     "end_time": "2017-07-21T16:40:09.830146Z",
     "start_time": "2017-07-21T16:40:04.096596Z"
    }
   },
   "outputs": [],
   "source": [
    "past_scores = pd.read_pickle(\"dataset/scores/tf_dense_only_nsl_kdd_scores_all.pkl\")\n",
    "predictions = pd.read_pickle(\"dataset/tf_dense_only_nsl_kdd_predictions.pkl\")"
   ]
  },
  {
   "cell_type": "code",
   "execution_count": 49,
   "metadata": {
    "ExecuteTime": {
     "end_time": "2017-07-21T17:24:32.949308Z",
     "start_time": "2017-07-21T17:24:30.774212Z"
    },
    "scrolled": false
   },
   "outputs": [
    {
     "data": {
      "text/plain": [
       "'Individual Results for each Scenario:-'"
      ]
     },
     "metadata": {},
     "output_type": "display_data"
    },
    {
     "data": {
      "text/plain": [
       "'   Results for Fully Connected Network: Best case'"
      ]
     },
     "metadata": {},
     "output_type": "display_data"
    },
    {
     "data": {
      "text/html": [
       "<div>\n",
       "<style>\n",
       "    .dataframe thead tr:only-child th {\n",
       "        text-align: right;\n",
       "    }\n",
       "\n",
       "    .dataframe thead th {\n",
       "        text-align: left;\n",
       "    }\n",
       "\n",
       "    .dataframe tbody tr th {\n",
       "        vertical-align: top;\n",
       "    }\n",
       "</style>\n",
       "<table border=\"1\" class=\"dataframe\">\n",
       "  <thead>\n",
       "    <tr style=\"text-align: right;\">\n",
       "      <th></th>\n",
       "      <th></th>\n",
       "      <th>key</th>\n",
       "      <th>train_score</th>\n",
       "      <th>test_score</th>\n",
       "      <th>f1_score</th>\n",
       "      <th>time_taken</th>\n",
       "    </tr>\n",
       "    <tr>\n",
       "      <th>no_of_features</th>\n",
       "      <th>hidden_layers</th>\n",
       "      <th></th>\n",
       "      <th></th>\n",
       "      <th></th>\n",
       "      <th></th>\n",
       "      <th></th>\n",
       "    </tr>\n",
       "  </thead>\n",
       "  <tbody>\n",
       "    <tr>\n",
       "      <th>1</th>\n",
       "      <th>1</th>\n",
       "      <td>20151210</td>\n",
       "      <td>0.9218</td>\n",
       "      <td>0.7742</td>\n",
       "      <td>0.8711</td>\n",
       "      <td>20.0412</td>\n",
       "    </tr>\n",
       "    <tr>\n",
       "      <th>4</th>\n",
       "      <th>1</th>\n",
       "      <td>20151205</td>\n",
       "      <td>0.9050</td>\n",
       "      <td>0.7555</td>\n",
       "      <td>0.8594</td>\n",
       "      <td>15.6686</td>\n",
       "    </tr>\n",
       "    <tr>\n",
       "      <th>8</th>\n",
       "      <th>1</th>\n",
       "      <td>20151216</td>\n",
       "      <td>0.8827</td>\n",
       "      <td>0.7447</td>\n",
       "      <td>0.8510</td>\n",
       "      <td>16.0623</td>\n",
       "    </tr>\n",
       "    <tr>\n",
       "      <th>42</th>\n",
       "      <th>1</th>\n",
       "      <td>20151228</td>\n",
       "      <td>0.8939</td>\n",
       "      <td>0.7369</td>\n",
       "      <td>0.8470</td>\n",
       "      <td>15.0928</td>\n",
       "    </tr>\n",
       "    <tr>\n",
       "      <th>16</th>\n",
       "      <th>1</th>\n",
       "      <td>20151203</td>\n",
       "      <td>0.8212</td>\n",
       "      <td>0.6556</td>\n",
       "      <td>0.7655</td>\n",
       "      <td>14.8755</td>\n",
       "    </tr>\n",
       "  </tbody>\n",
       "</table>\n",
       "</div>"
      ],
      "text/plain": [
       "                                   key  train_score  test_score  f1_score  \\\n",
       "no_of_features hidden_layers                                                \n",
       "1              1              20151210       0.9218      0.7742    0.8711   \n",
       "4              1              20151205       0.9050      0.7555    0.8594   \n",
       "8              1              20151216       0.8827      0.7447    0.8510   \n",
       "42             1              20151228       0.8939      0.7369    0.8470   \n",
       "16             1              20151203       0.8212      0.6556    0.7655   \n",
       "\n",
       "                              time_taken  \n",
       "no_of_features hidden_layers              \n",
       "1              1                 20.0412  \n",
       "4              1                 15.6686  \n",
       "8              1                 16.0623  \n",
       "42             1                 15.0928  \n",
       "16             1                 14.8755  "
      ]
     },
     "metadata": {},
     "output_type": "display_data"
    },
    {
     "data": {
      "text/plain": [
       "'   Results for Fully Connected Network: General case'"
      ]
     },
     "metadata": {},
     "output_type": "display_data"
    },
    {
     "data": {
      "text/html": [
       "<div>\n",
       "<style>\n",
       "    .dataframe thead tr:only-child th {\n",
       "        text-align: right;\n",
       "    }\n",
       "\n",
       "    .dataframe thead th {\n",
       "        text-align: left;\n",
       "    }\n",
       "\n",
       "    .dataframe tbody tr th {\n",
       "        vertical-align: top;\n",
       "    }\n",
       "</style>\n",
       "<table border=\"1\" class=\"dataframe\">\n",
       "  <thead>\n",
       "    <tr style=\"text-align: right;\">\n",
       "      <th></th>\n",
       "      <th></th>\n",
       "      <th>f1_score</th>\n",
       "      <th>key</th>\n",
       "      <th>test_score</th>\n",
       "      <th>time_taken</th>\n",
       "      <th>train_score</th>\n",
       "    </tr>\n",
       "    <tr>\n",
       "      <th>no_of_features</th>\n",
       "      <th>hidden_layers</th>\n",
       "      <th></th>\n",
       "      <th></th>\n",
       "      <th></th>\n",
       "      <th></th>\n",
       "      <th></th>\n",
       "    </tr>\n",
       "  </thead>\n",
       "  <tbody>\n",
       "    <tr>\n",
       "      <th>4</th>\n",
       "      <th>1</th>\n",
       "      <td>0.8313</td>\n",
       "      <td>20151202</td>\n",
       "      <td>0.7172</td>\n",
       "      <td>15.6686</td>\n",
       "      <td>0.9050</td>\n",
       "    </tr>\n",
       "    <tr>\n",
       "      <th>1</th>\n",
       "      <th>1</th>\n",
       "      <td>0.8299</td>\n",
       "      <td>20151205</td>\n",
       "      <td>0.7118</td>\n",
       "      <td>20.0412</td>\n",
       "      <td>0.9218</td>\n",
       "    </tr>\n",
       "    <tr>\n",
       "      <th>8</th>\n",
       "      <th>1</th>\n",
       "      <td>0.8195</td>\n",
       "      <td>20151211</td>\n",
       "      <td>0.6966</td>\n",
       "      <td>16.0623</td>\n",
       "      <td>0.8827</td>\n",
       "    </tr>\n",
       "    <tr>\n",
       "      <th>42</th>\n",
       "      <th>1</th>\n",
       "      <td>0.7896</td>\n",
       "      <td>20151201</td>\n",
       "      <td>0.6612</td>\n",
       "      <td>15.0928</td>\n",
       "      <td>0.8939</td>\n",
       "    </tr>\n",
       "    <tr>\n",
       "      <th>16</th>\n",
       "      <th>1</th>\n",
       "      <td>0.6932</td>\n",
       "      <td>20151221</td>\n",
       "      <td>0.5365</td>\n",
       "      <td>14.8755</td>\n",
       "      <td>0.8212</td>\n",
       "    </tr>\n",
       "  </tbody>\n",
       "</table>\n",
       "</div>"
      ],
      "text/plain": [
       "                              f1_score       key  test_score  time_taken  \\\n",
       "no_of_features hidden_layers                                               \n",
       "4              1                0.8313  20151202      0.7172     15.6686   \n",
       "1              1                0.8299  20151205      0.7118     20.0412   \n",
       "8              1                0.8195  20151211      0.6966     16.0623   \n",
       "42             1                0.7896  20151201      0.6612     15.0928   \n",
       "16             1                0.6932  20151221      0.5365     14.8755   \n",
       "\n",
       "                              train_score  \n",
       "no_of_features hidden_layers               \n",
       "4              1                   0.9050  \n",
       "1              1                   0.9218  \n",
       "8              1                   0.8827  \n",
       "42             1                   0.8939  \n",
       "16             1                   0.8212  "
      ]
     },
     "metadata": {},
     "output_type": "display_data"
    },
    {
     "data": {
      "text/plain": [
       "'   Results for Fully Connected Network: Worst case'"
      ]
     },
     "metadata": {},
     "output_type": "display_data"
    },
    {
     "data": {
      "text/html": [
       "<div>\n",
       "<style>\n",
       "    .dataframe thead tr:only-child th {\n",
       "        text-align: right;\n",
       "    }\n",
       "\n",
       "    .dataframe thead th {\n",
       "        text-align: left;\n",
       "    }\n",
       "\n",
       "    .dataframe tbody tr th {\n",
       "        vertical-align: top;\n",
       "    }\n",
       "</style>\n",
       "<table border=\"1\" class=\"dataframe\">\n",
       "  <thead>\n",
       "    <tr style=\"text-align: right;\">\n",
       "      <th></th>\n",
       "      <th></th>\n",
       "      <th>key</th>\n",
       "      <th>train_score</th>\n",
       "      <th>test_score</th>\n",
       "      <th>f1_score</th>\n",
       "      <th>time_taken</th>\n",
       "    </tr>\n",
       "    <tr>\n",
       "      <th>no_of_features</th>\n",
       "      <th>hidden_layers</th>\n",
       "      <th></th>\n",
       "      <th></th>\n",
       "      <th></th>\n",
       "      <th></th>\n",
       "      <th></th>\n",
       "    </tr>\n",
       "  </thead>\n",
       "  <tbody>\n",
       "    <tr>\n",
       "      <th>4</th>\n",
       "      <th>1</th>\n",
       "      <td>20151219</td>\n",
       "      <td>0.9050</td>\n",
       "      <td>0.6011</td>\n",
       "      <td>0.7306</td>\n",
       "      <td>15.6686</td>\n",
       "    </tr>\n",
       "    <tr>\n",
       "      <th>8</th>\n",
       "      <th>1</th>\n",
       "      <td>20151213</td>\n",
       "      <td>0.8827</td>\n",
       "      <td>0.5491</td>\n",
       "      <td>0.7067</td>\n",
       "      <td>16.0623</td>\n",
       "    </tr>\n",
       "    <tr>\n",
       "      <th>42</th>\n",
       "      <th>1</th>\n",
       "      <td>20151219</td>\n",
       "      <td>0.8939</td>\n",
       "      <td>0.5775</td>\n",
       "      <td>0.7046</td>\n",
       "      <td>15.0928</td>\n",
       "    </tr>\n",
       "    <tr>\n",
       "      <th>1</th>\n",
       "      <th>1</th>\n",
       "      <td>20151213</td>\n",
       "      <td>0.9218</td>\n",
       "      <td>0.4589</td>\n",
       "      <td>0.6258</td>\n",
       "      <td>20.0412</td>\n",
       "    </tr>\n",
       "    <tr>\n",
       "      <th>16</th>\n",
       "      <th>1</th>\n",
       "      <td>20151213</td>\n",
       "      <td>0.8212</td>\n",
       "      <td>0.3072</td>\n",
       "      <td>0.4626</td>\n",
       "      <td>14.8755</td>\n",
       "    </tr>\n",
       "  </tbody>\n",
       "</table>\n",
       "</div>"
      ],
      "text/plain": [
       "                                   key  train_score  test_score  f1_score  \\\n",
       "no_of_features hidden_layers                                                \n",
       "4              1              20151219       0.9050      0.6011    0.7306   \n",
       "8              1              20151213       0.8827      0.5491    0.7067   \n",
       "42             1              20151219       0.8939      0.5775    0.7046   \n",
       "1              1              20151213       0.9218      0.4589    0.6258   \n",
       "16             1              20151213       0.8212      0.3072    0.4626   \n",
       "\n",
       "                              time_taken  \n",
       "no_of_features hidden_layers              \n",
       "4              1                 15.6686  \n",
       "8              1                 16.0623  \n",
       "42             1                 15.0928  \n",
       "1              1                 20.0412  \n",
       "16             1                 14.8755  "
      ]
     },
     "metadata": {},
     "output_type": "display_data"
    },
    {
     "data": {
      "text/plain": [
       "'Combined Results from all Scenarios for Fully Connected Network'"
      ]
     },
     "metadata": {},
     "output_type": "display_data"
    },
    {
     "data": {
      "text/html": [
       "<div>\n",
       "<style>\n",
       "    .dataframe thead tr:only-child th {\n",
       "        text-align: right;\n",
       "    }\n",
       "\n",
       "    .dataframe thead th {\n",
       "        text-align: left;\n",
       "    }\n",
       "\n",
       "    .dataframe tbody tr th {\n",
       "        vertical-align: top;\n",
       "    }\n",
       "</style>\n",
       "<table border=\"1\" class=\"dataframe\">\n",
       "  <thead>\n",
       "    <tr style=\"text-align: right;\">\n",
       "      <th></th>\n",
       "      <th></th>\n",
       "      <th></th>\n",
       "      <th>Accuracy</th>\n",
       "      <th>F1 Score</th>\n",
       "      <th>Precision</th>\n",
       "      <th>Recall</th>\n",
       "    </tr>\n",
       "    <tr>\n",
       "      <th>Model</th>\n",
       "      <th>Scenarios</th>\n",
       "      <th>Number of Features</th>\n",
       "      <th></th>\n",
       "      <th></th>\n",
       "      <th></th>\n",
       "      <th></th>\n",
       "    </tr>\n",
       "  </thead>\n",
       "  <tbody>\n",
       "    <tr>\n",
       "      <th rowspan=\"3\" valign=\"top\">Fully Connected Network</th>\n",
       "      <th>Best Result</th>\n",
       "      <th>1</th>\n",
       "      <td>0.7742</td>\n",
       "      <td>0.8711</td>\n",
       "      <td>0.9971</td>\n",
       "      <td>0.7735</td>\n",
       "    </tr>\n",
       "    <tr>\n",
       "      <th>General Result</th>\n",
       "      <th>4</th>\n",
       "      <td>0.7172</td>\n",
       "      <td>0.8313</td>\n",
       "      <td>0.9637</td>\n",
       "      <td>0.7309</td>\n",
       "    </tr>\n",
       "    <tr>\n",
       "      <th>Worst Result</th>\n",
       "      <th>4</th>\n",
       "      <td>0.6011</td>\n",
       "      <td>0.7306</td>\n",
       "      <td>0.6831</td>\n",
       "      <td>0.7853</td>\n",
       "    </tr>\n",
       "  </tbody>\n",
       "</table>\n",
       "</div>"
      ],
      "text/plain": [
       "                                                           Accuracy  F1 Score  \\\n",
       "Model                   Scenarios      Number of Features                       \n",
       "Fully Connected Network Best Result    1                     0.7742    0.8711   \n",
       "                        General Result 4                     0.7172    0.8313   \n",
       "                        Worst Result   4                     0.6011    0.7306   \n",
       "\n",
       "                                                           Precision  Recall  \n",
       "Model                   Scenarios      Number of Features                     \n",
       "Fully Connected Network Best Result    1                      0.9971  0.7735  \n",
       "                        General Result 4                      0.9637  0.7309  \n",
       "                        Worst Result   4                      0.6831  0.7853  "
      ]
     },
     "metadata": {},
     "output_type": "display_data"
    },
    {
     "data": {
      "image/png": "[encoded data removed]",
      "text/plain": [
       "<matplotlib.figure.Figure at 0x7f9b68e01860>"
      ]
     },
     "metadata": {},
     "output_type": "display_data"
    },
    {
     "data": {
      "image/png": "[encoded data removed]",
      "text/plain": [
       "<matplotlib.figure.Figure at 0x7f9b64caea20>"
      ]
     },
     "metadata": {},
     "output_type": "display_data"
    },
    {
     "data": {
      "image/png": "[encoded data removed]",
      "text/plain": [
       "<matplotlib.figure.Figure at 0x7f9b68efacc0>"
      ]
     },
     "metadata": {},
     "output_type": "display_data"
    }
   ],
   "source": [
    "all_scenarios_fcn = evaluate(\"Fully Connected Network\", past_scores, predictions)"
   ]
  },
  {
   "cell_type": "code",
   "execution_count": 14,
   "metadata": {
    "ExecuteTime": {
     "end_time": "2017-07-21T16:53:55.753488Z",
     "start_time": "2017-07-21T16:53:55.744898Z"
    }
   },
   "outputs": [],
   "source": [
    "psg = past_scores.sort_values(by='f1_score', ascending=False).groupby(by=['no_of_features', 'hidden_layers'])\n",
    "df = psg.first().sort_values(by='f1_score', ascending=False)"
   ]
  },
  {
   "cell_type": "code",
   "execution_count": 40,
   "metadata": {
    "ExecuteTime": {
     "end_time": "2017-07-21T17:17:43.390405Z",
     "start_time": "2017-07-21T17:17:43.372790Z"
    }
   },
   "outputs": [
    {
     "data": {
      "text/html": [
       "<div>\n",
       "<style>\n",
       "    .dataframe thead tr:only-child th {\n",
       "        text-align: right;\n",
       "    }\n",
       "\n",
       "    .dataframe thead th {\n",
       "        text-align: left;\n",
       "    }\n",
       "\n",
       "    .dataframe tbody tr th {\n",
       "        vertical-align: top;\n",
       "    }\n",
       "</style>\n",
       "<table border=\"1\" class=\"dataframe\">\n",
       "  <thead>\n",
       "    <tr style=\"text-align: right;\">\n",
       "      <th></th>\n",
       "      <th></th>\n",
       "      <th>f1_score</th>\n",
       "      <th>key</th>\n",
       "      <th>test_score</th>\n",
       "      <th>time_taken</th>\n",
       "      <th>train_score</th>\n",
       "    </tr>\n",
       "    <tr>\n",
       "      <th>no_of_features</th>\n",
       "      <th>hidden_layers</th>\n",
       "      <th></th>\n",
       "      <th></th>\n",
       "      <th></th>\n",
       "      <th></th>\n",
       "      <th></th>\n",
       "    </tr>\n",
       "  </thead>\n",
       "  <tbody>\n",
       "    <tr>\n",
       "      <th>4</th>\n",
       "      <th>1</th>\n",
       "      <td>0.8313</td>\n",
       "      <td>20151202</td>\n",
       "      <td>0.7172</td>\n",
       "      <td>15.6686</td>\n",
       "      <td>0.9050</td>\n",
       "    </tr>\n",
       "    <tr>\n",
       "      <th>1</th>\n",
       "      <th>1</th>\n",
       "      <td>0.8299</td>\n",
       "      <td>20151205</td>\n",
       "      <td>0.7118</td>\n",
       "      <td>20.0412</td>\n",
       "      <td>0.9218</td>\n",
       "    </tr>\n",
       "    <tr>\n",
       "      <th>8</th>\n",
       "      <th>1</th>\n",
       "      <td>0.8195</td>\n",
       "      <td>20151211</td>\n",
       "      <td>0.6966</td>\n",
       "      <td>16.0623</td>\n",
       "      <td>0.8827</td>\n",
       "    </tr>\n",
       "    <tr>\n",
       "      <th>42</th>\n",
       "      <th>1</th>\n",
       "      <td>0.7896</td>\n",
       "      <td>20151201</td>\n",
       "      <td>0.6612</td>\n",
       "      <td>15.0928</td>\n",
       "      <td>0.8939</td>\n",
       "    </tr>\n",
       "    <tr>\n",
       "      <th>16</th>\n",
       "      <th>1</th>\n",
       "      <td>0.6932</td>\n",
       "      <td>20151221</td>\n",
       "      <td>0.5365</td>\n",
       "      <td>14.8755</td>\n",
       "      <td>0.8212</td>\n",
       "    </tr>\n",
       "    <tr>\n",
       "      <th>42</th>\n",
       "      <th>3</th>\n",
       "      <td>0.1697</td>\n",
       "      <td>20151214</td>\n",
       "      <td>0.1062</td>\n",
       "      <td>19.9123</td>\n",
       "      <td>0.7542</td>\n",
       "    </tr>\n",
       "    <tr>\n",
       "      <th>4</th>\n",
       "      <th>3</th>\n",
       "      <td>0.0006</td>\n",
       "      <td>20151229</td>\n",
       "      <td>0.0275</td>\n",
       "      <td>15.1157</td>\n",
       "      <td>0.7374</td>\n",
       "    </tr>\n",
       "    <tr>\n",
       "      <th>8</th>\n",
       "      <th>3</th>\n",
       "      <td>0.0002</td>\n",
       "      <td>20151209</td>\n",
       "      <td>0.0178</td>\n",
       "      <td>15.3861</td>\n",
       "      <td>0.6983</td>\n",
       "    </tr>\n",
       "    <tr>\n",
       "      <th>1</th>\n",
       "      <th>3</th>\n",
       "      <td>0.0000</td>\n",
       "      <td>20151229</td>\n",
       "      <td>0.0272</td>\n",
       "      <td>15.6119</td>\n",
       "      <td>0.7654</td>\n",
       "    </tr>\n",
       "    <tr>\n",
       "      <th>16</th>\n",
       "      <th>3</th>\n",
       "      <td>0.0000</td>\n",
       "      <td>20151215</td>\n",
       "      <td>0.0192</td>\n",
       "      <td>15.8389</td>\n",
       "      <td>0.7598</td>\n",
       "    </tr>\n",
       "  </tbody>\n",
       "</table>\n",
       "</div>"
      ],
      "text/plain": [
       "                              f1_score       key  test_score  time_taken  \\\n",
       "no_of_features hidden_layers                                               \n",
       "4              1                0.8313  20151202      0.7172     15.6686   \n",
       "1              1                0.8299  20151205      0.7118     20.0412   \n",
       "8              1                0.8195  20151211      0.6966     16.0623   \n",
       "42             1                0.7896  20151201      0.6612     15.0928   \n",
       "16             1                0.6932  20151221      0.5365     14.8755   \n",
       "42             3                0.1697  20151214      0.1062     19.9123   \n",
       "4              3                0.0006  20151229      0.0275     15.1157   \n",
       "8              3                0.0002  20151209      0.0178     15.3861   \n",
       "1              3                0.0000  20151229      0.0272     15.6119   \n",
       "16             3                0.0000  20151215      0.0192     15.8389   \n",
       "\n",
       "                              train_score  \n",
       "no_of_features hidden_layers               \n",
       "4              1                   0.9050  \n",
       "1              1                   0.9218  \n",
       "8              1                   0.8827  \n",
       "42             1                   0.8939  \n",
       "16             1                   0.8212  \n",
       "42             3                   0.7542  \n",
       "4              3                   0.7374  \n",
       "8              3                   0.6983  \n",
       "1              3                   0.7654  \n",
       "16             3                   0.7598  "
      ]
     },
     "execution_count": 40,
     "metadata": {},
     "output_type": "execute_result"
    }
   ],
   "source": [
    "psg.nth(int(psg.size()[0]/2)).sort_values(by='f1_score', ascending=False)"
   ]
  },
  {
   "cell_type": "code",
   "execution_count": 37,
   "metadata": {
    "ExecuteTime": {
     "end_time": "2017-07-21T17:16:50.107507Z",
     "start_time": "2017-07-21T17:16:50.102110Z"
    }
   },
   "outputs": [
    {
     "data": {
      "text/plain": [
       "62"
      ]
     },
     "execution_count": 37,
     "metadata": {},
     "output_type": "execute_result"
    }
   ],
   "source": []
  },
  {
   "cell_type": "code",
   "execution_count": null,
   "metadata": {
    "ExecuteTime": {
     "end_time": "2017-07-21T16:40:09.950221Z",
     "start_time": "2017-07-21T16:40:04.107Z"
    }
   },
   "outputs": [],
   "source": [
    "hidden = df['hidden_layers']\n",
    "epoch = df['epoch']\n",
    "nof = df['no_of_features']\n"
   ]
  },
  {
   "cell_type": "code",
   "execution_count": null,
   "metadata": {
    "collapsed": true
   },
   "outputs": [],
   "source": []
  }
 ],
 "metadata": {
  "_draft": {
   "nbviewer_url": "https://gist.github.com/93fa75f3f9285b1ba4670c28a417c10c"
  },
  "anaconda-cloud": {},
  "celltoolbar": "Slideshow",
  "gist": {
   "data": {
    "description": "With True Positive, True Negative, Type I & II errors",
    "public": false
   },
   "id": "93fa75f3f9285b1ba4670c28a417c10c"
  },
  "kernelspec": {
   "display_name": "Python [conda env:p3]",
   "language": "python",
   "name": "conda-env-p3-py"
  },
  "language_info": {
   "codemirror_mode": {
    "name": "ipython",
    "version": 3
   },
   "file_extension": ".py",
   "mimetype": "text/x-python",
   "name": "python",
   "nbconvert_exporter": "python",
   "pygments_lexer": "ipython3",
   "version": "3.6.1"
  },
  "nbpresent": {
   "slides": {
    "465daa31-826a-4f9c-8612-f5248561e27a": {
     "id": "465daa31-826a-4f9c-8612-f5248561e27a",
     "prev": null,
     "regions": {
      "7f9bea92-5d12-4214-8baf-1ddd8e29581d": {
       "attrs": {
        "height": 1,
        "width": 1,
        "x": 0,
        "y": 0
       },
       "content": {
        "cell": "c59ff496-7575-4402-b20b-20db68a3540f",
        "part": "source"
       },
       "id": "7f9bea92-5d12-4214-8baf-1ddd8e29581d"
      }
     }
    },
    "760681d5-7308-42c1-833a-01ffb8a76cfc": {
     "id": "760681d5-7308-42c1-833a-01ffb8a76cfc",
     "layout": "manual",
     "prev": "465daa31-826a-4f9c-8612-f5248561e27a",
     "regions": {
      "6409a8d4-b4b2-41fc-84c8-e136ddceb555": {
       "attrs": {
        "height": 0.4864994026284349,
        "width": 0.4913978494623656,
        "x": 0.0064516129032258064,
        "y": 0.49761146953405017
       },
       "content": {
        "cell": "5dbceeca-6499-4cb0-834d-4db5462bd427",
        "part": "outputs"
       },
       "id": "6409a8d4-b4b2-41fc-84c8-e136ddceb555"
      },
      "8190449a-cc49-4dc9-89e2-79031a7103e4": {
       "attrs": {
        "height": 0.4769414575866189,
        "width": 0.4838709677419355,
        "x": 0.5064516129032258,
        "y": 0.495699880525687
       },
       "content": {
        "cell": "35966131-eebf-4da9-962f-4d4d71000afe",
        "part": "outputs"
       },
       "id": "8190449a-cc49-4dc9-89e2-79031a7103e4"
      },
      "eb015708-540c-4ff8-8d93-880739f5a207": {
       "attrs": {
        "height": 0.47120669056152925,
        "width": 0.989247311827957,
        "x": 0.0032258064516129032,
        "y": 0.010155297491039427
       },
       "content": {
        "cell": "8744ff16-810a-4f78-9d46-f01feb5ce35e",
        "part": "source"
       },
       "id": "eb015708-540c-4ff8-8d93-880739f5a207"
      }
     }
    },
    "99702eec-7996-4128-8b4f-29679d686a6d": {
     "id": "99702eec-7996-4128-8b4f-29679d686a6d",
     "prev": "760681d5-7308-42c1-833a-01ffb8a76cfc",
     "regions": {
      "f020b0ef-f71f-4904-8eb3-05adca2cab3e": {
       "attrs": {
        "height": 1,
        "width": 1,
        "x": 0,
        "y": 0
       },
       "content": {
        "cell": "c67b5de0-d0f8-427e-8b34-0dad203d61d7",
        "part": "source"
       },
       "id": "f020b0ef-f71f-4904-8eb3-05adca2cab3e"
      }
     }
    }
   },
   "themes": {
    "default": "4c5fcccd-eb25-41be-99f3-040a2d43a641",
    "theme": {
     "4c5fcccd-eb25-41be-99f3-040a2d43a641": {
      "backgrounds": {
       "dc7afa04-bf90-40b1-82a5-726e3cff5267": {
        "background-color": "31af15d2-7e15-44c5-ab5e-e04b16a89eff",
        "id": "dc7afa04-bf90-40b1-82a5-726e3cff5267"
       }
      },
      "id": "4c5fcccd-eb25-41be-99f3-040a2d43a641",
      "palette": {
       "19cc588f-0593-49c9-9f4b-e4d7cc113b1c": {
        "id": "19cc588f-0593-49c9-9f4b-e4d7cc113b1c",
        "rgb": [
         252,
         252,
         252
        ]
       },
       "31af15d2-7e15-44c5-ab5e-e04b16a89eff": {
        "id": "31af15d2-7e15-44c5-ab5e-e04b16a89eff",
        "rgb": [
         68,
         68,
         68
        ]
       },
       "50f92c45-a630-455b-aec3-788680ec7410": {
        "id": "50f92c45-a630-455b-aec3-788680ec7410",
        "rgb": [
         197,
         226,
         245
        ]
       },
       "c5cc3653-2ee1-402a-aba2-7caae1da4f6c": {
        "id": "c5cc3653-2ee1-402a-aba2-7caae1da4f6c",
        "rgb": [
         43,
         126,
         184
        ]
       },
       "efa7f048-9acb-414c-8b04-a26811511a21": {
        "id": "efa7f048-9acb-414c-8b04-a26811511a21",
        "rgb": [
         25.118061674008803,
         73.60176211453744,
         107.4819383259912
        ]
       }
      },
      "rules": {
       "a": {
        "color": "19cc588f-0593-49c9-9f4b-e4d7cc113b1c"
       },
       "blockquote": {
        "color": "50f92c45-a630-455b-aec3-788680ec7410",
        "font-size": 3
       },
       "code": {
        "font-family": "Anonymous Pro"
       },
       "h1": {
        "color": "19cc588f-0593-49c9-9f4b-e4d7cc113b1c",
        "font-family": "Merriweather",
        "font-size": 8
       },
       "h2": {
        "color": "19cc588f-0593-49c9-9f4b-e4d7cc113b1c",
        "font-family": "Merriweather",
        "font-size": 6
       },
       "h3": {
        "color": "50f92c45-a630-455b-aec3-788680ec7410",
        "font-family": "Lato",
        "font-size": 5.5
       },
       "h4": {
        "color": "c5cc3653-2ee1-402a-aba2-7caae1da4f6c",
        "font-family": "Lato",
        "font-size": 5
       },
       "h5": {
        "font-family": "Lato"
       },
       "h6": {
        "font-family": "Lato"
       },
       "h7": {
        "font-family": "Lato"
       },
       "li": {
        "color": "50f92c45-a630-455b-aec3-788680ec7410",
        "font-size": 3.25
       },
       "pre": {
        "font-family": "Anonymous Pro",
        "font-size": 4
       }
      },
      "text-base": {
       "color": "19cc588f-0593-49c9-9f4b-e4d7cc113b1c",
       "font-family": "Lato",
       "font-size": 4
      }
     }
    }
   }
  },
  "widgets": {
   "application/vnd.jupyter.widget-state+json": {
    "state": {},
    "version_major": 1,
    "version_minor": 0
   }
  }
 },
 "nbformat": 4,
 "nbformat_minor": 2
}
