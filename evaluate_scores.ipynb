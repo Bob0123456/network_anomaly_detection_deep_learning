{
 "cells": [
  {
   "cell_type": "code",
   "execution_count": 47,
   "metadata": {
    "ExecuteTime": {
     "end_time": "2017-07-28T13:54:57.156032Z",
     "start_time": "2017-07-28T13:54:57.139914Z"
    }
   },
   "outputs": [
    {
     "name": "stdout",
     "output_type": "stream",
     "text": [
      "Automatic pdb calling has been turned ON\n"
     ]
    }
   ],
   "source": [
    "import pandas as pd\n",
    "import numpy as np\n",
    "import warnings\n",
    "from scipy import stats\n",
    "from IPython.display import display, HTML\n",
    "from sklearn import metrics as me\n",
    "\n",
    "warnings.filterwarnings('ignore')\n",
    "pd.set_option(\"display.max_rows\",20)\n",
    "pd.set_option('precision', 4)\n",
    "from itertools import cycle\n",
    "from matplotlib import cm\n",
    "import matplotlib.pyplot as plt\n",
    "import matplotlib\n",
    "from IPython.core.debugger import set_trace\n",
    "\n",
    "%matplotlib inline\n",
    "%pdb"
   ]
  },
  {
   "cell_type": "code",
   "execution_count": 2,
   "metadata": {
    "ExecuteTime": {
     "end_time": "2017-07-28T13:26:16.889403Z",
     "start_time": "2017-07-28T13:26:16.884505Z"
    }
   },
   "outputs": [],
   "source": [
    "cmap = cm.get_cmap('Blues_r')\n",
    "matplotlib.style.use('ggplot')\n",
    "#print(plt.style.available)\n",
    "matplotlib.rcParams['font.family'] = \"Times New Roman\"\n",
    "matplotlib.rcParams.update({'figure.autolayout': True})"
   ]
  },
  {
   "cell_type": "code",
   "execution_count": 3,
   "metadata": {
    "ExecuteTime": {
     "end_time": "2017-07-28T13:26:16.958417Z",
     "start_time": "2017-07-28T13:26:16.890937Z"
    },
    "collapsed": true
   },
   "outputs": [],
   "source": [
    "import numpy as np\n",
    "import matplotlib.pyplot as plt\n",
    "import itertools\n",
    "\n",
    "def plot_confusion_matrix(cm, classes,\n",
    "                          normalize=False,\n",
    "                          title='Confusion matrix',\n",
    "                          cmap=plt.cm.Blues):\n",
    "    \"\"\"\n",
    "    This function prints and plots the confusion matrix.\n",
    "    Normalization can be applied by setting `normalize=True`.\n",
    "    \"\"\"\n",
    "    np.set_printoptions(precision=4)\n",
    "\n",
    "    plt.imshow(cm, interpolation='nearest', cmap=cmap)\n",
    "    plt.title(title)\n",
    "    plt.colorbar()\n",
    "    tick_marks = np.arange(len(classes))\n",
    "    plt.xticks(tick_marks, classes, rotation=45)\n",
    "    plt.yticks(tick_marks, classes)\n",
    "\n",
    "    if normalize:\n",
    "        cm = cm.astype('float') / cm.sum(axis=1)[:, np.newaxis]\n",
    "        #print(\"Normalized confusion matrix\")\n",
    "    else:\n",
    "        #print('Confusion matrix, without normalization')\n",
    "        pass\n",
    "    \n",
    "    #print(cm)\n",
    "\n",
    "    label = [[\"\\n True Negative\", \"\\n False Positive \\n Type II Error\"],\n",
    "             [\"\\n False Negative \\n Type I Error\", \"\\n True Positive\"]\n",
    "            ]\n",
    "    \n",
    "    thresh = cm.max() / 2.\n",
    "    for i, j in itertools.product(range(cm.shape[0]), range(cm.shape[1])):\n",
    "        \n",
    "        plt.text(j, i, \"{} {}\".format(cm[i, j].round(4), label[i][j]),\n",
    "                 horizontalalignment=\"center\",\n",
    "                 color=\"white\" if cm[i, j] > thresh else \"black\")\n",
    "\n",
    "    plt.tight_layout()\n",
    "    plt.ylabel('True label')\n",
    "    plt.xlabel('Predicted label')\n",
    "\n",
    "def plot(actual_value, pred_value):\n",
    "    from sklearn.metrics import confusion_matrix\n",
    "\n",
    "    cm_2labels = confusion_matrix(y_pred = pred_value, y_true = actual_value)\n",
    "    plt.figure(figsize=[6,6])\n",
    "    plot_confusion_matrix(cm_2labels, ['Normal', 'Attack'], normalize = False)\n"
   ]
  },
  {
   "cell_type": "code",
   "execution_count": 4,
   "metadata": {
    "ExecuteTime": {
     "end_time": "2017-07-28T13:26:17.860623Z",
     "start_time": "2017-07-28T13:26:16.960074Z"
    },
    "collapsed": true
   },
   "outputs": [],
   "source": [
    "\n",
    "def evaluate_lstm(model, past_scores, past_scores_20, predictions, predictions_, predictions_20, predictions_20_):\n",
    "    return evaluate(model, past_scores, past_scores_20, predictions, predictions_, predictions_20, predictions_20_, 'LSTM')\n",
    "\n",
    "def view_data(name, past_scores, model_type=''):\n",
    "    _, _, df = get_result(past_scores)\n",
    "    display(name)\n",
    "\n",
    "\n",
    "    group_by = 'no_of_features'\n",
    "    if(model_type == 'LSTM'):\n",
    "        group_by = 'hidden_layers'\n",
    "    df1 = df.reset_index().sort_values(by='f1_score', ascending=False).groupby(by=[group_by])\n",
    "\n",
    "    df1 = df1.first().loc[:,['f1_score', 'f1_score_20', 'time_taken']]\n",
    "\n",
    "    if(model_type == 'LSTM'):\n",
    "\n",
    "        df1 = df1.rename(index={1:\"Shallow\", 3:\"Deep\"})\n",
    "        df1.index.rename('LSTM Type', inplace=True)\n",
    "\n",
    "    else: \n",
    "        df1 = df1.rename(index={1:\"One\", 12:\"10%\", 24:\"20%\", 48:\"40%\", 122:\"All\"})\n",
    "\n",
    "    df1 = df1.rename(columns={\"f1_score\":\"F Score(Test+)\", \"f1_score_20\":\"F Score(Test-)\", \"time_taken\":\"Duration(secs)\"})\n",
    "    display(df1)\n",
    "    plot = df1.drop(\"Duration(secs)\", axis=1).plot(kind='bar', rot=0,  legend=False, \n",
    "                    figsize=[10,4], cmap=cmap, fontsize='xx-large', edgecolor='black')#,figsize=(10, 10))\n",
    "    plot.legend(bbox_to_anchor=(0,1.02,1,0.2), loc=\"lower left\", ncol=3, fontsize='xx-large')\n",
    "    plotx = plot.twinx()\n",
    "    plot1 = df1.loc[:,\"Duration(secs)\"].plot(kind='line', linestyle='--', rot=0,  \n",
    "                                                    legend=False,cmap=cmap, fontsize='xx-large',\n",
    "                                                    ax=plotx)#,figsize=(10, 10))\n",
    "    plot1.legend(loc=\"lower left\", ncol=3, fontsize='xx-large')\n",
    "    display_and_save(name, plot1)\n",
    "    return df1\n",
    "\n",
    "def get_best_df(past_scores):\n",
    "    psg = past_scores.sort_values(by='f1_score', ascending=False).groupby(by=['no_of_features', 'hidden_layers'])\n",
    "    df = psg.first().sort_values(by='f1_score', ascending=False)\n",
    "    return df\n",
    "\n",
    "def get_result(past_scores):\n",
    "\n",
    "    df = get_best_df(past_scores)\n",
    "\n",
    "    #epoch_nof_hidden\n",
    "    key = int(df.iloc[0]['epoch'])\n",
    "    nof = int(df.iloc[0].name[0])\n",
    "    hidden = int(df.iloc[0].name[1])\n",
    "    return \"{}_{}_{}\".format(key, nof, hidden), nof, df\n",
    "\n",
    "def plot_auc(y_true, y_pred):\n",
    "    y_true = y_true.astype(type(\"\"))\n",
    "    y_pred = y_pred.astype(type(\"\"))\n",
    "\n",
    "    y_true_oh = pd.get_dummies(y_true).values\n",
    "    y_pred_oh = pd.get_dummies(y_pred, categories = [0,1]).values\n",
    "    fpr = dict()\n",
    "    tpr = dict()\n",
    "    roc_auc = dict()\n",
    "\n",
    "    for i in [0,1]:\n",
    "        fpr[i], tpr[i], _ = me.roc_curve(y_true_oh[:,i], y_pred_oh[:,i])\n",
    "        roc_auc[i] = me.auc(fpr[i], tpr[i])\n",
    "    fpr[\"micro\"], tpr[\"micro\"], _ = me.roc_curve(y_true_oh.ravel(), y_pred_oh.ravel())\n",
    "    roc_auc[\"micro\"] = me.auc(fpr[\"micro\"], tpr[\"micro\"])\n",
    "    plt.figure()\n",
    "    lw = 2\n",
    "    colors = cycle(['aqua', 'cornflowerblue'])\n",
    "    for i, color in zip([0,1], colors):\n",
    "        plt.plot(fpr[i], tpr[i], color=color, lw=lw,\n",
    "                 label='ROC curve for {0} (area = {1:0.2f})'\n",
    "                 ''.format(\"Normal\" if i == 0 else \"Attack\", roc_auc[i]))\n",
    "    plt.plot([0, 1], [0, 1], color='navy', lw=lw, linestyle='--')\n",
    "    plt.xlim([0.0, 1.0])\n",
    "    plt.ylim([0.0, 1.05])\n",
    "    plt.xlabel('False Positive Rate')\n",
    "    plt.ylabel('True Positive Rate')\n",
    "    plt.title('Receiver operating characteristic example')\n",
    "    plt.legend(loc=\"lower right\")\n",
    "    display(plt.show())\n",
    "\n",
    "def get_score(y_true, y_pred):\n",
    "    f1 = me.f1_score(y_true, y_pred)\n",
    "    pre = me.precision_score(y_true, y_pred)\n",
    "    rec = me.recall_score(y_true, y_pred)\n",
    "    acc = me.accuracy_score(y_true, y_pred)\n",
    "    #plot_auc(y_true, y_pred)\n",
    "    return {\"F1 Score\":f1, \"Precision\":pre, \"Recall\":rec, \"Accuracy\":acc}\n",
    "\n",
    "def accumulate_scenarios(predictions, past_scores, model, scenario):\n",
    "    key, nof, df = get_result(past_scores)\n",
    "    y_true = predictions[key][\"Actual\"]\n",
    "    y_pred = predictions[key][\"Prediction\"]\n",
    "    scores = get_score(y_true, y_pred)\n",
    "    scores.update({\"Model\":model,\"Scenarios\":scenario,\"Number of Features\":nof, \"Duration(secs)\":df.iloc[0]['time_taken']})\n",
    "\n",
    "    return pd.DataFrame(scores, index=[1])\n",
    "\n",
    "\n",
    "def display_and_save(name, plot):\n",
    "    fig = plot.get_figure()\n",
    "    #fig.savefig(\"result_plots/{}.eps\".format(name.replace(\":\",\"\").strip()), format='eps', dpi=1000)\n",
    "    fig.savefig(\"result_plots/{}.png\".format(name.replace(\":\",\"\").strip()), format='png', dpi=1000)\n",
    "    display(plot)\n",
    "\n",
    "    \n",
    "    \n",
    "def evaluate(model, past_scores, past_scores_20, predictions, predictions_, predictions_20, predictions_20_, model_type='AE'):\n",
    "    all_scenarios = pd.DataFrame(columns=['Scenarios', 'Number of Features', 'Accuracy', 'F1 Score', 'Precision', 'Recall', 'Duration(secs)'])\n",
    "            \n",
    "    #display(\"Individual Results for each Scenario\")    \n",
    "    results = view_data(\"Results for {} Train+\".format(model),past_scores)\n",
    "    results20 = view_data(\"Results for {} Train-\".format(model),past_scores_20)\n",
    "\n",
    "    display(\"Combined Results from all Scenarios for {}\".format(model))\n",
    "\n",
    "    scenario = \"Train+/Test+\"\n",
    "    all_scenarios = all_scenarios.append(accumulate_scenarios(predictions, past_scores, model, scenario))\n",
    "    \n",
    "    scenario = \"Train+/Test-\"\n",
    "    all_scenarios = all_scenarios.append(accumulate_scenarios(predictions_, past_scores, model, scenario))\n",
    "    \n",
    "    scenario = \"Train-/Test+\"\n",
    "    all_scenarios = all_scenarios.append(accumulate_scenarios(predictions_20, past_scores_20, model, scenario))\n",
    "    \n",
    "    scenario = \"Train-/Test-\"\n",
    "    all_scenarios = all_scenarios.append(accumulate_scenarios(predictions_20_, past_scores_20, model, scenario))\n",
    "    \n",
    "    \n",
    "    display(all_scenarios.set_index(['Model','Scenarios','Number of Features']))\n",
    "    \n",
    "    return all_scenarios\n",
    "    \n",
    "    \n",
    "    \n",
    "    "
   ]
  },
  {
   "cell_type": "code",
   "execution_count": 5,
   "metadata": {
    "ExecuteTime": {
     "end_time": "2017-07-28T13:26:19.794069Z",
     "start_time": "2017-07-28T13:26:17.862401Z"
    },
    "collapsed": true
   },
   "outputs": [],
   "source": [
    "past_scores = pd.read_pickle(\"dataset/scores/tf_dense_only_nsl_kdd_scores_all.pkl\")\n",
    "past_scores_20 = pd.read_pickle(\"dataset/scores/tf_dense_only_nsl_kdd_scores_all-.pkl\")\n",
    "predictions = pd.read_pickle(\"dataset/tf_dense_only_nsl_kdd_predictions.pkl\")\n",
    "predictions_ = pd.read_pickle(\"dataset/tf_dense_only_nsl_kdd_predictions__.pkl\")\n",
    "predictions_20 = pd.read_pickle(\"dataset/tf_dense_only_nsl_kdd_predictions-.pkl\")\n",
    "predictions_20_ = pd.read_pickle(\"dataset/tf_dense_only_nsl_kdd_predictions-__.pkl\")\n"
   ]
  },
  {
   "cell_type": "code",
   "execution_count": 6,
   "metadata": {
    "ExecuteTime": {
     "end_time": "2017-07-28T13:26:32.939250Z",
     "start_time": "2017-07-28T13:26:19.795763Z"
    },
    "scrolled": true
   },
   "outputs": [
    {
     "data": {
      "text/plain": [
       "'Results for FCN Train+'"
      ]
     },
     "metadata": {},
     "output_type": "display_data"
    },
    {
     "data": {
      "text/html": [
       "<div>\n",
       "<style>\n",
       "    .dataframe thead tr:only-child th {\n",
       "        text-align: right;\n",
       "    }\n",
       "\n",
       "    .dataframe thead th {\n",
       "        text-align: left;\n",
       "    }\n",
       "\n",
       "    .dataframe tbody tr th {\n",
       "        vertical-align: top;\n",
       "    }\n",
       "</style>\n",
       "<table border=\"1\" class=\"dataframe\">\n",
       "  <thead>\n",
       "    <tr style=\"text-align: right;\">\n",
       "      <th></th>\n",
       "      <th>F Score(Test+)</th>\n",
       "      <th>F Score(Test-)</th>\n",
       "      <th>Duration(secs)</th>\n",
       "    </tr>\n",
       "    <tr>\n",
       "      <th>no_of_features</th>\n",
       "      <th></th>\n",
       "      <th></th>\n",
       "      <th></th>\n",
       "    </tr>\n",
       "  </thead>\n",
       "  <tbody>\n",
       "    <tr>\n",
       "      <th>One</th>\n",
       "      <td>0.7492</td>\n",
       "      <td>0.6508</td>\n",
       "      <td>10.8948</td>\n",
       "    </tr>\n",
       "    <tr>\n",
       "      <th>10%</th>\n",
       "      <td>0.8571</td>\n",
       "      <td>0.8392</td>\n",
       "      <td>16.9951</td>\n",
       "    </tr>\n",
       "    <tr>\n",
       "      <th>20%</th>\n",
       "      <td>0.8728</td>\n",
       "      <td>0.8316</td>\n",
       "      <td>6.6152</td>\n",
       "    </tr>\n",
       "    <tr>\n",
       "      <th>40%</th>\n",
       "      <td>0.8739</td>\n",
       "      <td>0.8350</td>\n",
       "      <td>18.9799</td>\n",
       "    </tr>\n",
       "    <tr>\n",
       "      <th>All</th>\n",
       "      <td>0.8684</td>\n",
       "      <td>0.8410</td>\n",
       "      <td>4.3544</td>\n",
       "    </tr>\n",
       "  </tbody>\n",
       "</table>\n",
       "</div>"
      ],
      "text/plain": [
       "                F Score(Test+)  F Score(Test-)  Duration(secs)\n",
       "no_of_features                                                \n",
       "One                     0.7492          0.6508         10.8948\n",
       "10%                     0.8571          0.8392         16.9951\n",
       "20%                     0.8728          0.8316          6.6152\n",
       "40%                     0.8739          0.8350         18.9799\n",
       "All                     0.8684          0.8410          4.3544"
      ]
     },
     "metadata": {},
     "output_type": "display_data"
    },
    {
     "data": {
      "text/plain": [
       "<matplotlib.axes._subplots.AxesSubplot at 0x7f303fad3a20>"
      ]
     },
     "metadata": {},
     "output_type": "display_data"
    },
    {
     "data": {
      "text/plain": [
       "'Results for FCN Train-'"
      ]
     },
     "metadata": {},
     "output_type": "display_data"
    },
    {
     "data": {
      "text/html": [
       "<div>\n",
       "<style>\n",
       "    .dataframe thead tr:only-child th {\n",
       "        text-align: right;\n",
       "    }\n",
       "\n",
       "    .dataframe thead th {\n",
       "        text-align: left;\n",
       "    }\n",
       "\n",
       "    .dataframe tbody tr th {\n",
       "        vertical-align: top;\n",
       "    }\n",
       "</style>\n",
       "<table border=\"1\" class=\"dataframe\">\n",
       "  <thead>\n",
       "    <tr style=\"text-align: right;\">\n",
       "      <th></th>\n",
       "      <th>F Score(Test+)</th>\n",
       "      <th>F Score(Test-)</th>\n",
       "      <th>Duration(secs)</th>\n",
       "    </tr>\n",
       "    <tr>\n",
       "      <th>no_of_features</th>\n",
       "      <th></th>\n",
       "      <th></th>\n",
       "      <th></th>\n",
       "    </tr>\n",
       "  </thead>\n",
       "  <tbody>\n",
       "    <tr>\n",
       "      <th>One</th>\n",
       "      <td>0.3772</td>\n",
       "      <td>0.2880</td>\n",
       "      <td>5.7566</td>\n",
       "    </tr>\n",
       "    <tr>\n",
       "      <th>10%</th>\n",
       "      <td>0.7044</td>\n",
       "      <td>0.5874</td>\n",
       "      <td>8.0408</td>\n",
       "    </tr>\n",
       "    <tr>\n",
       "      <th>20%</th>\n",
       "      <td>0.8480</td>\n",
       "      <td>0.7952</td>\n",
       "      <td>5.3462</td>\n",
       "    </tr>\n",
       "    <tr>\n",
       "      <th>40%</th>\n",
       "      <td>0.8695</td>\n",
       "      <td>0.8396</td>\n",
       "      <td>0.6421</td>\n",
       "    </tr>\n",
       "    <tr>\n",
       "      <th>All</th>\n",
       "      <td>0.8364</td>\n",
       "      <td>0.7840</td>\n",
       "      <td>3.9727</td>\n",
       "    </tr>\n",
       "  </tbody>\n",
       "</table>\n",
       "</div>"
      ],
      "text/plain": [
       "                F Score(Test+)  F Score(Test-)  Duration(secs)\n",
       "no_of_features                                                \n",
       "One                     0.3772          0.2880          5.7566\n",
       "10%                     0.7044          0.5874          8.0408\n",
       "20%                     0.8480          0.7952          5.3462\n",
       "40%                     0.8695          0.8396          0.6421\n",
       "All                     0.8364          0.7840          3.9727"
      ]
     },
     "metadata": {},
     "output_type": "display_data"
    },
    {
     "data": {
      "text/plain": [
       "<matplotlib.axes._subplots.AxesSubplot at 0x7f303f8f9eb8>"
      ]
     },
     "metadata": {},
     "output_type": "display_data"
    },
    {
     "data": {
      "text/plain": [
       "'Combined Results from all Scenarios for FCN'"
      ]
     },
     "metadata": {},
     "output_type": "display_data"
    },
    {
     "data": {
      "text/html": [
       "<div>\n",
       "<style>\n",
       "    .dataframe thead tr:only-child th {\n",
       "        text-align: right;\n",
       "    }\n",
       "\n",
       "    .dataframe thead th {\n",
       "        text-align: left;\n",
       "    }\n",
       "\n",
       "    .dataframe tbody tr th {\n",
       "        vertical-align: top;\n",
       "    }\n",
       "</style>\n",
       "<table border=\"1\" class=\"dataframe\">\n",
       "  <thead>\n",
       "    <tr style=\"text-align: right;\">\n",
       "      <th></th>\n",
       "      <th></th>\n",
       "      <th></th>\n",
       "      <th>Accuracy</th>\n",
       "      <th>Duration(secs)</th>\n",
       "      <th>F1 Score</th>\n",
       "      <th>Precision</th>\n",
       "      <th>Recall</th>\n",
       "    </tr>\n",
       "    <tr>\n",
       "      <th>Model</th>\n",
       "      <th>Scenarios</th>\n",
       "      <th>Number of Features</th>\n",
       "      <th></th>\n",
       "      <th></th>\n",
       "      <th></th>\n",
       "      <th></th>\n",
       "      <th></th>\n",
       "    </tr>\n",
       "  </thead>\n",
       "  <tbody>\n",
       "    <tr>\n",
       "      <th rowspan=\"4\" valign=\"top\">FCN</th>\n",
       "      <th>Train+/Test+</th>\n",
       "      <th>48</th>\n",
       "      <td>0.8670</td>\n",
       "      <td>18.9799</td>\n",
       "      <td>0.8739</td>\n",
       "      <td>0.9490</td>\n",
       "      <td>0.8098</td>\n",
       "    </tr>\n",
       "    <tr>\n",
       "      <th>Train+/Test-</th>\n",
       "      <th>48</th>\n",
       "      <td>0.7576</td>\n",
       "      <td>18.9799</td>\n",
       "      <td>0.8350</td>\n",
       "      <td>0.9424</td>\n",
       "      <td>0.7495</td>\n",
       "    </tr>\n",
       "    <tr>\n",
       "      <th>Train-/Test+</th>\n",
       "      <th>48</th>\n",
       "      <td>0.8561</td>\n",
       "      <td>0.6421</td>\n",
       "      <td>0.8695</td>\n",
       "      <td>0.8988</td>\n",
       "      <td>0.8420</td>\n",
       "    </tr>\n",
       "    <tr>\n",
       "      <th>Train-/Test-</th>\n",
       "      <th>48</th>\n",
       "      <td>0.7504</td>\n",
       "      <td>0.6421</td>\n",
       "      <td>0.8396</td>\n",
       "      <td>0.8856</td>\n",
       "      <td>0.7981</td>\n",
       "    </tr>\n",
       "  </tbody>\n",
       "</table>\n",
       "</div>"
      ],
      "text/plain": [
       "                                       Accuracy  Duration(secs)  F1 Score  \\\n",
       "Model Scenarios    Number of Features                                       \n",
       "FCN   Train+/Test+ 48                    0.8670         18.9799    0.8739   \n",
       "      Train+/Test- 48                    0.7576         18.9799    0.8350   \n",
       "      Train-/Test+ 48                    0.8561          0.6421    0.8695   \n",
       "      Train-/Test- 48                    0.7504          0.6421    0.8396   \n",
       "\n",
       "                                       Precision  Recall  \n",
       "Model Scenarios    Number of Features                     \n",
       "FCN   Train+/Test+ 48                     0.9490  0.8098  \n",
       "      Train+/Test- 48                     0.9424  0.7495  \n",
       "      Train-/Test+ 48                     0.8988  0.8420  \n",
       "      Train-/Test- 48                     0.8856  0.7981  "
      ]
     },
     "metadata": {},
     "output_type": "display_data"
    },
    {
     "data": {
      "image/png": "[encoded data removed]",
      "text/plain": [
       "<matplotlib.figure.Figure at 0x7f303fe62470>"
      ]
     },
     "metadata": {},
     "output_type": "display_data"
    },
    {
     "data": {
      "image/png": "[encoded data removed]",
      "text/plain": [
       "<matplotlib.figure.Figure at 0x7f303f9ccac8>"
      ]
     },
     "metadata": {},
     "output_type": "display_data"
    }
   ],
   "source": [
    "all_scenarios_fcn = evaluate(\"FCN\", past_scores, past_scores_20, predictions, predictions_, predictions_20, predictions_20_)"
   ]
  },
  {
   "cell_type": "code",
   "execution_count": 7,
   "metadata": {
    "ExecuteTime": {
     "end_time": "2017-07-28T13:26:34.061659Z",
     "start_time": "2017-07-28T13:26:32.940724Z"
    },
    "collapsed": true
   },
   "outputs": [],
   "source": [
    "past_scores = pd.read_pickle(\"dataset/scores/tf_vae_dense_trained_together_nsl_kdd_all.pkl\")\n",
    "past_scores_20 = pd.read_pickle(\"dataset/scores/tf_vae_dense_trained_together_nsl_kdd_all-.pkl\")\n",
    "predictions = pd.read_pickle(\"dataset/tf_vae_dense_trained_together_nsl_kdd_predictions.pkl\")\n",
    "predictions_ = pd.read_pickle(\"dataset/tf_vae_dense_trained_together_nsl_kdd_predictions__.pkl\")\n",
    "predictions_20 = pd.read_pickle(\"dataset/tf_vae_dense_trained_together_nsl_kdd_predictions.pkl\")\n",
    "predictions_20_ = pd.read_pickle(\"dataset/tf_vae_dense_trained_together_nsl_kdd_predictions-__.pkl\")"
   ]
  },
  {
   "cell_type": "code",
   "execution_count": 8,
   "metadata": {
    "ExecuteTime": {
     "end_time": "2017-07-28T13:26:46.861957Z",
     "start_time": "2017-07-28T13:26:34.063256Z"
    },
    "scrolled": true
   },
   "outputs": [
    {
     "data": {
      "text/plain": [
       "'Results for VAE-Softmax Train+'"
      ]
     },
     "metadata": {},
     "output_type": "display_data"
    },
    {
     "data": {
      "text/html": [
       "<div>\n",
       "<style>\n",
       "    .dataframe thead tr:only-child th {\n",
       "        text-align: right;\n",
       "    }\n",
       "\n",
       "    .dataframe thead th {\n",
       "        text-align: left;\n",
       "    }\n",
       "\n",
       "    .dataframe tbody tr th {\n",
       "        vertical-align: top;\n",
       "    }\n",
       "</style>\n",
       "<table border=\"1\" class=\"dataframe\">\n",
       "  <thead>\n",
       "    <tr style=\"text-align: right;\">\n",
       "      <th></th>\n",
       "      <th>F Score(Test+)</th>\n",
       "      <th>F Score(Test-)</th>\n",
       "      <th>Duration(secs)</th>\n",
       "    </tr>\n",
       "    <tr>\n",
       "      <th>no_of_features</th>\n",
       "      <th></th>\n",
       "      <th></th>\n",
       "      <th></th>\n",
       "    </tr>\n",
       "  </thead>\n",
       "  <tbody>\n",
       "    <tr>\n",
       "      <th>One</th>\n",
       "      <td>0.7918</td>\n",
       "      <td>0.8054</td>\n",
       "      <td>19.0764</td>\n",
       "    </tr>\n",
       "    <tr>\n",
       "      <th>10%</th>\n",
       "      <td>0.8991</td>\n",
       "      <td>0.8743</td>\n",
       "      <td>40.3995</td>\n",
       "    </tr>\n",
       "    <tr>\n",
       "      <th>20%</th>\n",
       "      <td>0.8903</td>\n",
       "      <td>0.8643</td>\n",
       "      <td>27.2753</td>\n",
       "    </tr>\n",
       "    <tr>\n",
       "      <th>40%</th>\n",
       "      <td>0.7320</td>\n",
       "      <td>0.6515</td>\n",
       "      <td>28.7957</td>\n",
       "    </tr>\n",
       "    <tr>\n",
       "      <th>All</th>\n",
       "      <td>0.9036</td>\n",
       "      <td>0.8814</td>\n",
       "      <td>88.6219</td>\n",
       "    </tr>\n",
       "  </tbody>\n",
       "</table>\n",
       "</div>"
      ],
      "text/plain": [
       "                F Score(Test+)  F Score(Test-)  Duration(secs)\n",
       "no_of_features                                                \n",
       "One                     0.7918          0.8054         19.0764\n",
       "10%                     0.8991          0.8743         40.3995\n",
       "20%                     0.8903          0.8643         27.2753\n",
       "40%                     0.7320          0.6515         28.7957\n",
       "All                     0.9036          0.8814         88.6219"
      ]
     },
     "metadata": {},
     "output_type": "display_data"
    },
    {
     "data": {
      "text/plain": [
       "<matplotlib.axes._subplots.AxesSubplot at 0x7f303f7867f0>"
      ]
     },
     "metadata": {},
     "output_type": "display_data"
    },
    {
     "data": {
      "text/plain": [
       "'Results for VAE-Softmax Train-'"
      ]
     },
     "metadata": {},
     "output_type": "display_data"
    },
    {
     "data": {
      "text/html": [
       "<div>\n",
       "<style>\n",
       "    .dataframe thead tr:only-child th {\n",
       "        text-align: right;\n",
       "    }\n",
       "\n",
       "    .dataframe thead th {\n",
       "        text-align: left;\n",
       "    }\n",
       "\n",
       "    .dataframe tbody tr th {\n",
       "        vertical-align: top;\n",
       "    }\n",
       "</style>\n",
       "<table border=\"1\" class=\"dataframe\">\n",
       "  <thead>\n",
       "    <tr style=\"text-align: right;\">\n",
       "      <th></th>\n",
       "      <th>F Score(Test+)</th>\n",
       "      <th>F Score(Test-)</th>\n",
       "      <th>Duration(secs)</th>\n",
       "    </tr>\n",
       "    <tr>\n",
       "      <th>no_of_features</th>\n",
       "      <th></th>\n",
       "      <th></th>\n",
       "      <th></th>\n",
       "    </tr>\n",
       "  </thead>\n",
       "  <tbody>\n",
       "    <tr>\n",
       "      <th>One</th>\n",
       "      <td>0.8001</td>\n",
       "      <td>0.7782</td>\n",
       "      <td>39.1019</td>\n",
       "    </tr>\n",
       "    <tr>\n",
       "      <th>10%</th>\n",
       "      <td>0.8741</td>\n",
       "      <td>0.8692</td>\n",
       "      <td>41.8303</td>\n",
       "    </tr>\n",
       "    <tr>\n",
       "      <th>20%</th>\n",
       "      <td>0.8715</td>\n",
       "      <td>0.8393</td>\n",
       "      <td>4.2602</td>\n",
       "    </tr>\n",
       "    <tr>\n",
       "      <th>40%</th>\n",
       "      <td>0.8975</td>\n",
       "      <td>0.8700</td>\n",
       "      <td>10.4086</td>\n",
       "    </tr>\n",
       "    <tr>\n",
       "      <th>All</th>\n",
       "      <td>0.7368</td>\n",
       "      <td>0.6601</td>\n",
       "      <td>1.7788</td>\n",
       "    </tr>\n",
       "  </tbody>\n",
       "</table>\n",
       "</div>"
      ],
      "text/plain": [
       "                F Score(Test+)  F Score(Test-)  Duration(secs)\n",
       "no_of_features                                                \n",
       "One                     0.8001          0.7782         39.1019\n",
       "10%                     0.8741          0.8692         41.8303\n",
       "20%                     0.8715          0.8393          4.2602\n",
       "40%                     0.8975          0.8700         10.4086\n",
       "All                     0.7368          0.6601          1.7788"
      ]
     },
     "metadata": {},
     "output_type": "display_data"
    },
    {
     "data": {
      "text/plain": [
       "<matplotlib.axes._subplots.AxesSubplot at 0x7f3035dcce48>"
      ]
     },
     "metadata": {},
     "output_type": "display_data"
    },
    {
     "data": {
      "text/plain": [
       "'Combined Results from all Scenarios for VAE-Softmax'"
      ]
     },
     "metadata": {},
     "output_type": "display_data"
    },
    {
     "data": {
      "text/html": [
       "<div>\n",
       "<style>\n",
       "    .dataframe thead tr:only-child th {\n",
       "        text-align: right;\n",
       "    }\n",
       "\n",
       "    .dataframe thead th {\n",
       "        text-align: left;\n",
       "    }\n",
       "\n",
       "    .dataframe tbody tr th {\n",
       "        vertical-align: top;\n",
       "    }\n",
       "</style>\n",
       "<table border=\"1\" class=\"dataframe\">\n",
       "  <thead>\n",
       "    <tr style=\"text-align: right;\">\n",
       "      <th></th>\n",
       "      <th></th>\n",
       "      <th></th>\n",
       "      <th>Accuracy</th>\n",
       "      <th>Duration(secs)</th>\n",
       "      <th>F1 Score</th>\n",
       "      <th>Precision</th>\n",
       "      <th>Recall</th>\n",
       "    </tr>\n",
       "    <tr>\n",
       "      <th>Model</th>\n",
       "      <th>Scenarios</th>\n",
       "      <th>Number of Features</th>\n",
       "      <th></th>\n",
       "      <th></th>\n",
       "      <th></th>\n",
       "      <th></th>\n",
       "      <th></th>\n",
       "    </tr>\n",
       "  </thead>\n",
       "  <tbody>\n",
       "    <tr>\n",
       "      <th rowspan=\"4\" valign=\"top\">VAE-Softmax</th>\n",
       "      <th>Train+/Test+</th>\n",
       "      <th>122</th>\n",
       "      <td>0.8948</td>\n",
       "      <td>88.6219</td>\n",
       "      <td>0.9036</td>\n",
       "      <td>0.9441</td>\n",
       "      <td>0.8665</td>\n",
       "    </tr>\n",
       "    <tr>\n",
       "      <th>Train+/Test-</th>\n",
       "      <th>122</th>\n",
       "      <td>0.8173</td>\n",
       "      <td>88.6219</td>\n",
       "      <td>0.8814</td>\n",
       "      <td>0.9402</td>\n",
       "      <td>0.8296</td>\n",
       "    </tr>\n",
       "    <tr>\n",
       "      <th>Train-/Test+</th>\n",
       "      <th>48</th>\n",
       "      <td>0.7195</td>\n",
       "      <td>10.4086</td>\n",
       "      <td>0.6942</td>\n",
       "      <td>0.9151</td>\n",
       "      <td>0.5592</td>\n",
       "    </tr>\n",
       "    <tr>\n",
       "      <th>Train-/Test-</th>\n",
       "      <th>48</th>\n",
       "      <td>0.8015</td>\n",
       "      <td>10.4086</td>\n",
       "      <td>0.8700</td>\n",
       "      <td>0.9373</td>\n",
       "      <td>0.8118</td>\n",
       "    </tr>\n",
       "  </tbody>\n",
       "</table>\n",
       "</div>"
      ],
      "text/plain": [
       "                                             Accuracy  Duration(secs)  \\\n",
       "Model       Scenarios    Number of Features                             \n",
       "VAE-Softmax Train+/Test+ 122                   0.8948         88.6219   \n",
       "            Train+/Test- 122                   0.8173         88.6219   \n",
       "            Train-/Test+ 48                    0.7195         10.4086   \n",
       "            Train-/Test- 48                    0.8015         10.4086   \n",
       "\n",
       "                                             F1 Score  Precision  Recall  \n",
       "Model       Scenarios    Number of Features                               \n",
       "VAE-Softmax Train+/Test+ 122                   0.9036     0.9441  0.8665  \n",
       "            Train+/Test- 122                   0.8814     0.9402  0.8296  \n",
       "            Train-/Test+ 48                    0.6942     0.9151  0.5592  \n",
       "            Train-/Test- 48                    0.8700     0.9373  0.8118  "
      ]
     },
     "metadata": {},
     "output_type": "display_data"
    },
    {
     "data": {
      "image/png": "[encoded data removed]",
      "text/plain": [
       "<matplotlib.figure.Figure at 0x7f303fb42320>"
      ]
     },
     "metadata": {},
     "output_type": "display_data"
    },
    {
     "data": {
      "image/png": "[encoded data removed]",
      "text/plain": [
       "<matplotlib.figure.Figure at 0x7f303f7e3e10>"
      ]
     },
     "metadata": {},
     "output_type": "display_data"
    }
   ],
   "source": [
    "all_scenarios_vae_sm = evaluate(\"VAE-Softmax\", past_scores, past_scores_20, predictions, predictions_, predictions_20, predictions_20_)"
   ]
  },
  {
   "cell_type": "code",
   "execution_count": 9,
   "metadata": {
    "ExecuteTime": {
     "end_time": "2017-07-28T13:26:48.093882Z",
     "start_time": "2017-07-28T13:26:46.863367Z"
    },
    "collapsed": true
   },
   "outputs": [],
   "source": [
    "past_scores = pd.read_pickle(\"dataset/scores/tf_vae_only_nsl_kdd_all.pkl\")\n",
    "past_scores_20 = pd.read_pickle(\"dataset/scores/tf_vae_only_nsl_kdd_all-.pkl\")\n",
    "predictions = pd.read_pickle(\"dataset/tf_vae_only_nsl_kdd_predictions.pkl\")\n",
    "predictions_ = pd.read_pickle(\"dataset/tf_vae_only_nsl_kdd_predictions__.pkl\")\n",
    "predictions_20 = pd.read_pickle(\"dataset/tf_vae_only_nsl_kdd_predictions-.pkl\")\n",
    "predictions_20_ = pd.read_pickle(\"dataset/tf_vae_only_nsl_kdd_predictions-__.pkl\")"
   ]
  },
  {
   "cell_type": "code",
   "execution_count": 10,
   "metadata": {
    "ExecuteTime": {
     "end_time": "2017-07-28T13:27:01.035248Z",
     "start_time": "2017-07-28T13:26:48.095482Z"
    },
    "scrolled": true
   },
   "outputs": [
    {
     "data": {
      "text/plain": [
       "'Results for VAE-Label Train+'"
      ]
     },
     "metadata": {},
     "output_type": "display_data"
    },
    {
     "data": {
      "text/html": [
       "<div>\n",
       "<style>\n",
       "    .dataframe thead tr:only-child th {\n",
       "        text-align: right;\n",
       "    }\n",
       "\n",
       "    .dataframe thead th {\n",
       "        text-align: left;\n",
       "    }\n",
       "\n",
       "    .dataframe tbody tr th {\n",
       "        vertical-align: top;\n",
       "    }\n",
       "</style>\n",
       "<table border=\"1\" class=\"dataframe\">\n",
       "  <thead>\n",
       "    <tr style=\"text-align: right;\">\n",
       "      <th></th>\n",
       "      <th>F Score(Test+)</th>\n",
       "      <th>F Score(Test-)</th>\n",
       "      <th>Duration(secs)</th>\n",
       "    </tr>\n",
       "    <tr>\n",
       "      <th>no_of_features</th>\n",
       "      <th></th>\n",
       "      <th></th>\n",
       "      <th></th>\n",
       "    </tr>\n",
       "  </thead>\n",
       "  <tbody>\n",
       "    <tr>\n",
       "      <th>One</th>\n",
       "      <td>0.7255</td>\n",
       "      <td>0.9001</td>\n",
       "      <td>1.8554</td>\n",
       "    </tr>\n",
       "    <tr>\n",
       "      <th>10%</th>\n",
       "      <td>0.0017</td>\n",
       "      <td>0.0010</td>\n",
       "      <td>39.5257</td>\n",
       "    </tr>\n",
       "    <tr>\n",
       "      <th>20%</th>\n",
       "      <td>0.6778</td>\n",
       "      <td>0.7922</td>\n",
       "      <td>120.1837</td>\n",
       "    </tr>\n",
       "    <tr>\n",
       "      <th>40%</th>\n",
       "      <td>0.4421</td>\n",
       "      <td>0.4869</td>\n",
       "      <td>19.5371</td>\n",
       "    </tr>\n",
       "    <tr>\n",
       "      <th>All</th>\n",
       "      <td>0.6667</td>\n",
       "      <td>0.7915</td>\n",
       "      <td>158.8168</td>\n",
       "    </tr>\n",
       "  </tbody>\n",
       "</table>\n",
       "</div>"
      ],
      "text/plain": [
       "                F Score(Test+)  F Score(Test-)  Duration(secs)\n",
       "no_of_features                                                \n",
       "One                     0.7255          0.9001          1.8554\n",
       "10%                     0.0017          0.0010         39.5257\n",
       "20%                     0.6778          0.7922        120.1837\n",
       "40%                     0.4421          0.4869         19.5371\n",
       "All                     0.6667          0.7915        158.8168"
      ]
     },
     "metadata": {},
     "output_type": "display_data"
    },
    {
     "data": {
      "text/plain": [
       "<matplotlib.axes._subplots.AxesSubplot at 0x7f303dde0f60>"
      ]
     },
     "metadata": {},
     "output_type": "display_data"
    },
    {
     "data": {
      "text/plain": [
       "'Results for VAE-Label Train-'"
      ]
     },
     "metadata": {},
     "output_type": "display_data"
    },
    {
     "data": {
      "text/html": [
       "<div>\n",
       "<style>\n",
       "    .dataframe thead tr:only-child th {\n",
       "        text-align: right;\n",
       "    }\n",
       "\n",
       "    .dataframe thead th {\n",
       "        text-align: left;\n",
       "    }\n",
       "\n",
       "    .dataframe tbody tr th {\n",
       "        vertical-align: top;\n",
       "    }\n",
       "</style>\n",
       "<table border=\"1\" class=\"dataframe\">\n",
       "  <thead>\n",
       "    <tr style=\"text-align: right;\">\n",
       "      <th></th>\n",
       "      <th>F Score(Test+)</th>\n",
       "      <th>F Score(Test-)</th>\n",
       "      <th>Duration(secs)</th>\n",
       "    </tr>\n",
       "    <tr>\n",
       "      <th>no_of_features</th>\n",
       "      <th></th>\n",
       "      <th></th>\n",
       "      <th></th>\n",
       "    </tr>\n",
       "  </thead>\n",
       "  <tbody>\n",
       "    <tr>\n",
       "      <th>One</th>\n",
       "      <td>0.7255</td>\n",
       "      <td>0.9001</td>\n",
       "      <td>2.1003</td>\n",
       "    </tr>\n",
       "    <tr>\n",
       "      <th>10%</th>\n",
       "      <td>0.3398</td>\n",
       "      <td>0.3614</td>\n",
       "      <td>4.6407</td>\n",
       "    </tr>\n",
       "    <tr>\n",
       "      <th>20%</th>\n",
       "      <td>0.6374</td>\n",
       "      <td>0.7816</td>\n",
       "      <td>14.5815</td>\n",
       "    </tr>\n",
       "    <tr>\n",
       "      <th>40%</th>\n",
       "      <td>0.5402</td>\n",
       "      <td>0.6203</td>\n",
       "      <td>24.7774</td>\n",
       "    </tr>\n",
       "    <tr>\n",
       "      <th>All</th>\n",
       "      <td>0.5413</td>\n",
       "      <td>0.6541</td>\n",
       "      <td>3.2477</td>\n",
       "    </tr>\n",
       "  </tbody>\n",
       "</table>\n",
       "</div>"
      ],
      "text/plain": [
       "                F Score(Test+)  F Score(Test-)  Duration(secs)\n",
       "no_of_features                                                \n",
       "One                     0.7255          0.9001          2.1003\n",
       "10%                     0.3398          0.3614          4.6407\n",
       "20%                     0.6374          0.7816         14.5815\n",
       "40%                     0.5402          0.6203         24.7774\n",
       "All                     0.5413          0.6541          3.2477"
      ]
     },
     "metadata": {},
     "output_type": "display_data"
    },
    {
     "data": {
      "text/plain": [
       "<matplotlib.axes._subplots.AxesSubplot at 0x7f303dc4cc18>"
      ]
     },
     "metadata": {},
     "output_type": "display_data"
    },
    {
     "data": {
      "text/plain": [
       "'Combined Results from all Scenarios for VAE-Label'"
      ]
     },
     "metadata": {},
     "output_type": "display_data"
    },
    {
     "data": {
      "text/html": [
       "<div>\n",
       "<style>\n",
       "    .dataframe thead tr:only-child th {\n",
       "        text-align: right;\n",
       "    }\n",
       "\n",
       "    .dataframe thead th {\n",
       "        text-align: left;\n",
       "    }\n",
       "\n",
       "    .dataframe tbody tr th {\n",
       "        vertical-align: top;\n",
       "    }\n",
       "</style>\n",
       "<table border=\"1\" class=\"dataframe\">\n",
       "  <thead>\n",
       "    <tr style=\"text-align: right;\">\n",
       "      <th></th>\n",
       "      <th></th>\n",
       "      <th></th>\n",
       "      <th>Accuracy</th>\n",
       "      <th>Duration(secs)</th>\n",
       "      <th>F1 Score</th>\n",
       "      <th>Precision</th>\n",
       "      <th>Recall</th>\n",
       "    </tr>\n",
       "    <tr>\n",
       "      <th>Model</th>\n",
       "      <th>Scenarios</th>\n",
       "      <th>Number of Features</th>\n",
       "      <th></th>\n",
       "      <th></th>\n",
       "      <th></th>\n",
       "      <th></th>\n",
       "      <th></th>\n",
       "    </tr>\n",
       "  </thead>\n",
       "  <tbody>\n",
       "    <tr>\n",
       "      <th rowspan=\"4\" valign=\"top\">VAE-Label</th>\n",
       "      <th>Train+/Test+</th>\n",
       "      <th>1</th>\n",
       "      <td>0.5692</td>\n",
       "      <td>1.8554</td>\n",
       "      <td>0.7255</td>\n",
       "      <td>0.5692</td>\n",
       "      <td>1.0</td>\n",
       "    </tr>\n",
       "    <tr>\n",
       "      <th>Train+/Test-</th>\n",
       "      <th>1</th>\n",
       "      <td>0.8184</td>\n",
       "      <td>1.8554</td>\n",
       "      <td>0.9001</td>\n",
       "      <td>0.8184</td>\n",
       "      <td>1.0</td>\n",
       "    </tr>\n",
       "    <tr>\n",
       "      <th>Train-/Test+</th>\n",
       "      <th>1</th>\n",
       "      <td>0.5692</td>\n",
       "      <td>2.1003</td>\n",
       "      <td>0.7255</td>\n",
       "      <td>0.5692</td>\n",
       "      <td>1.0</td>\n",
       "    </tr>\n",
       "    <tr>\n",
       "      <th>Train-/Test-</th>\n",
       "      <th>1</th>\n",
       "      <td>0.8184</td>\n",
       "      <td>2.1003</td>\n",
       "      <td>0.9001</td>\n",
       "      <td>0.8184</td>\n",
       "      <td>1.0</td>\n",
       "    </tr>\n",
       "  </tbody>\n",
       "</table>\n",
       "</div>"
      ],
      "text/plain": [
       "                                           Accuracy  Duration(secs)  F1 Score  \\\n",
       "Model     Scenarios    Number of Features                                       \n",
       "VAE-Label Train+/Test+ 1                     0.5692          1.8554    0.7255   \n",
       "          Train+/Test- 1                     0.8184          1.8554    0.9001   \n",
       "          Train-/Test+ 1                     0.5692          2.1003    0.7255   \n",
       "          Train-/Test- 1                     0.8184          2.1003    0.9001   \n",
       "\n",
       "                                           Precision  Recall  \n",
       "Model     Scenarios    Number of Features                     \n",
       "VAE-Label Train+/Test+ 1                      0.5692     1.0  \n",
       "          Train+/Test- 1                      0.8184     1.0  \n",
       "          Train-/Test+ 1                      0.5692     1.0  \n",
       "          Train-/Test- 1                      0.8184     1.0  "
      ]
     },
     "metadata": {},
     "output_type": "display_data"
    },
    {
     "data": {
      "image/png": "[encoded data removed]",
      "text/plain": [
       "<matplotlib.figure.Figure at 0x7f3035ca6240>"
      ]
     },
     "metadata": {},
     "output_type": "display_data"
    },
    {
     "data": {
      "image/png": "[encoded data removed]",
      "text/plain": [
       "<matplotlib.figure.Figure at 0x7f303dd14208>"
      ]
     },
     "metadata": {},
     "output_type": "display_data"
    }
   ],
   "source": [
    "all_scenarios_vae = evaluate(\"VAE-Label\", past_scores, past_scores_20, predictions, predictions_, predictions_20, predictions_20_)"
   ]
  },
  {
   "cell_type": "code",
   "execution_count": 36,
   "metadata": {
    "ExecuteTime": {
     "end_time": "2017-07-28T13:44:13.989213Z",
     "start_time": "2017-07-28T13:44:13.972123Z"
    },
    "collapsed": true
   },
   "outputs": [],
   "source": [
    "past_scores = pd.read_pickle(\"dataset/scores/tf_lstm_nsl_kdd-orig_all.pkl\")\n",
    "past_scores_20 = pd.read_pickle(\"dataset/scores/tf_lstm_nsl_kdd-orig_all-.pkl\")\n",
    "predictions = pd.read_pickle(\"dataset/tf_lstm_nsl_kdd_predictions.pkl\")\n",
    "predictions_ = pd.read_pickle(\"dataset/tf_lstm_nsl_kdd_predictions__.pkl\")\n",
    "predictions_20 = pd.read_pickle(\"dataset/tf_lstm_nsl_kdd_predictions-.pkl\")\n",
    "predictions_20_ = pd.read_pickle(\"dataset/tf_lstm_nsl_kdd_predictions-__.pkl\")"
   ]
  },
  {
   "cell_type": "code",
   "execution_count": 37,
   "metadata": {
    "ExecuteTime": {
     "end_time": "2017-07-28T13:44:27.360028Z",
     "start_time": "2017-07-28T13:44:14.918464Z"
    },
    "scrolled": false
   },
   "outputs": [
    {
     "data": {
      "text/plain": [
       "'Results for LSTM-Seq2Seq Train+'"
      ]
     },
     "metadata": {},
     "output_type": "display_data"
    },
    {
     "data": {
      "text/html": [
       "<div>\n",
       "<style>\n",
       "    .dataframe thead tr:only-child th {\n",
       "        text-align: right;\n",
       "    }\n",
       "\n",
       "    .dataframe thead th {\n",
       "        text-align: left;\n",
       "    }\n",
       "\n",
       "    .dataframe tbody tr th {\n",
       "        vertical-align: top;\n",
       "    }\n",
       "</style>\n",
       "<table border=\"1\" class=\"dataframe\">\n",
       "  <thead>\n",
       "    <tr style=\"text-align: right;\">\n",
       "      <th></th>\n",
       "      <th>F Score(Test+)</th>\n",
       "      <th>F Score(Test-)</th>\n",
       "      <th>Duration(secs)</th>\n",
       "    </tr>\n",
       "    <tr>\n",
       "      <th>no_of_features</th>\n",
       "      <th></th>\n",
       "      <th></th>\n",
       "      <th></th>\n",
       "    </tr>\n",
       "  </thead>\n",
       "  <tbody>\n",
       "    <tr>\n",
       "      <th>One</th>\n",
       "      <td>1.0</td>\n",
       "      <td>1.0</td>\n",
       "      <td>24.9541</td>\n",
       "    </tr>\n",
       "  </tbody>\n",
       "</table>\n",
       "</div>"
      ],
      "text/plain": [
       "                F Score(Test+)  F Score(Test-)  Duration(secs)\n",
       "no_of_features                                                \n",
       "One                        1.0             1.0         24.9541"
      ]
     },
     "metadata": {},
     "output_type": "display_data"
    },
    {
     "data": {
      "text/plain": [
       "<matplotlib.axes._subplots.AxesSubplot at 0x7f303dcae978>"
      ]
     },
     "metadata": {},
     "output_type": "display_data"
    },
    {
     "data": {
      "text/plain": [
       "'Results for LSTM-Seq2Seq Train-'"
      ]
     },
     "metadata": {},
     "output_type": "display_data"
    },
    {
     "data": {
      "text/html": [
       "<div>\n",
       "<style>\n",
       "    .dataframe thead tr:only-child th {\n",
       "        text-align: right;\n",
       "    }\n",
       "\n",
       "    .dataframe thead th {\n",
       "        text-align: left;\n",
       "    }\n",
       "\n",
       "    .dataframe tbody tr th {\n",
       "        vertical-align: top;\n",
       "    }\n",
       "</style>\n",
       "<table border=\"1\" class=\"dataframe\">\n",
       "  <thead>\n",
       "    <tr style=\"text-align: right;\">\n",
       "      <th></th>\n",
       "      <th>F Score(Test+)</th>\n",
       "      <th>F Score(Test-)</th>\n",
       "      <th>Duration(secs)</th>\n",
       "    </tr>\n",
       "    <tr>\n",
       "      <th>no_of_features</th>\n",
       "      <th></th>\n",
       "      <th></th>\n",
       "      <th></th>\n",
       "    </tr>\n",
       "  </thead>\n",
       "  <tbody>\n",
       "    <tr>\n",
       "      <th>One</th>\n",
       "      <td>1.0</td>\n",
       "      <td>1.0</td>\n",
       "      <td>15.2373</td>\n",
       "    </tr>\n",
       "  </tbody>\n",
       "</table>\n",
       "</div>"
      ],
      "text/plain": [
       "                F Score(Test+)  F Score(Test-)  Duration(secs)\n",
       "no_of_features                                                \n",
       "One                        1.0             1.0         15.2373"
      ]
     },
     "metadata": {},
     "output_type": "display_data"
    },
    {
     "data": {
      "text/plain": [
       "<matplotlib.axes._subplots.AxesSubplot at 0x7f303dd5ac50>"
      ]
     },
     "metadata": {},
     "output_type": "display_data"
    },
    {
     "data": {
      "text/plain": [
       "'Combined Results from all Scenarios for LSTM-Seq2Seq'"
      ]
     },
     "metadata": {},
     "output_type": "display_data"
    },
    {
     "data": {
      "text/html": [
       "<div>\n",
       "<style>\n",
       "    .dataframe thead tr:only-child th {\n",
       "        text-align: right;\n",
       "    }\n",
       "\n",
       "    .dataframe thead th {\n",
       "        text-align: left;\n",
       "    }\n",
       "\n",
       "    .dataframe tbody tr th {\n",
       "        vertical-align: top;\n",
       "    }\n",
       "</style>\n",
       "<table border=\"1\" class=\"dataframe\">\n",
       "  <thead>\n",
       "    <tr style=\"text-align: right;\">\n",
       "      <th></th>\n",
       "      <th></th>\n",
       "      <th></th>\n",
       "      <th>Accuracy</th>\n",
       "      <th>Duration(secs)</th>\n",
       "      <th>F1 Score</th>\n",
       "      <th>Precision</th>\n",
       "      <th>Recall</th>\n",
       "    </tr>\n",
       "    <tr>\n",
       "      <th>Model</th>\n",
       "      <th>Scenarios</th>\n",
       "      <th>Number of Features</th>\n",
       "      <th></th>\n",
       "      <th></th>\n",
       "      <th></th>\n",
       "      <th></th>\n",
       "      <th></th>\n",
       "    </tr>\n",
       "  </thead>\n",
       "  <tbody>\n",
       "    <tr>\n",
       "      <th rowspan=\"4\" valign=\"top\">LSTM-Seq2Seq</th>\n",
       "      <th>Train+/Test+</th>\n",
       "      <th>1</th>\n",
       "      <td>0.9949</td>\n",
       "      <td>24.9541</td>\n",
       "      <td>0.9955</td>\n",
       "      <td>0.9915</td>\n",
       "      <td>0.9995</td>\n",
       "    </tr>\n",
       "    <tr>\n",
       "      <th>Train+/Test-</th>\n",
       "      <th>1</th>\n",
       "      <td>0.9949</td>\n",
       "      <td>24.9541</td>\n",
       "      <td>0.9955</td>\n",
       "      <td>0.9915</td>\n",
       "      <td>0.9995</td>\n",
       "    </tr>\n",
       "    <tr>\n",
       "      <th>Train-/Test+</th>\n",
       "      <th>1</th>\n",
       "      <td>0.9992</td>\n",
       "      <td>15.2373</td>\n",
       "      <td>0.9993</td>\n",
       "      <td>0.9985</td>\n",
       "      <td>1.0000</td>\n",
       "    </tr>\n",
       "    <tr>\n",
       "      <th>Train-/Test-</th>\n",
       "      <th>1</th>\n",
       "      <td>0.9992</td>\n",
       "      <td>15.2373</td>\n",
       "      <td>0.9993</td>\n",
       "      <td>0.9985</td>\n",
       "      <td>1.0000</td>\n",
       "    </tr>\n",
       "  </tbody>\n",
       "</table>\n",
       "</div>"
      ],
      "text/plain": [
       "                                              Accuracy  Duration(secs)  \\\n",
       "Model        Scenarios    Number of Features                             \n",
       "LSTM-Seq2Seq Train+/Test+ 1                     0.9949         24.9541   \n",
       "             Train+/Test- 1                     0.9949         24.9541   \n",
       "             Train-/Test+ 1                     0.9992         15.2373   \n",
       "             Train-/Test- 1                     0.9992         15.2373   \n",
       "\n",
       "                                              F1 Score  Precision  Recall  \n",
       "Model        Scenarios    Number of Features                               \n",
       "LSTM-Seq2Seq Train+/Test+ 1                     0.9955     0.9915  0.9995  \n",
       "             Train+/Test- 1                     0.9955     0.9915  0.9995  \n",
       "             Train-/Test+ 1                     0.9993     0.9985  1.0000  \n",
       "             Train-/Test- 1                     0.9993     0.9985  1.0000  "
      ]
     },
     "metadata": {},
     "output_type": "display_data"
    },
    {
     "data": {
      "image/png": "[encoded data removed]",
      "text/plain": [
       "<matplotlib.figure.Figure at 0x7f303fac2dd8>"
      ]
     },
     "metadata": {},
     "output_type": "display_data"
    },
    {
     "data": {
      "image/png": "[encoded data removed]",
      "text/plain": [
       "<matplotlib.figure.Figure at 0x7f303f702b00>"
      ]
     },
     "metadata": {},
     "output_type": "display_data"
    }
   ],
   "source": [
    "all_scenarios_lstm = evaluate_lstm(\"LSTM-Seq2Seq\", past_scores, past_scores_20, predictions, predictions_, predictions_20, predictions_20_)"
   ]
  },
  {
   "cell_type": "code",
   "execution_count": 80,
   "metadata": {
    "ExecuteTime": {
     "end_time": "2017-07-28T14:16:07.035712Z",
     "start_time": "2017-07-28T14:15:40.209315Z"
    },
    "scrolled": false
   },
   "outputs": [
    {
     "data": {
      "text/plain": [
       "'LSTM-Seq2Seq'"
      ]
     },
     "metadata": {},
     "output_type": "display_data"
    },
    {
     "data": {
      "text/html": [
       "<div>\n",
       "<style>\n",
       "    .dataframe thead tr:only-child th {\n",
       "        text-align: right;\n",
       "    }\n",
       "\n",
       "    .dataframe thead th {\n",
       "        text-align: left;\n",
       "    }\n",
       "\n",
       "    .dataframe tbody tr th {\n",
       "        vertical-align: top;\n",
       "    }\n",
       "</style>\n",
       "<table border=\"1\" class=\"dataframe\">\n",
       "  <thead>\n",
       "    <tr style=\"text-align: right;\">\n",
       "      <th></th>\n",
       "      <th>F Score(Test+)</th>\n",
       "      <th>F Score(Test-)</th>\n",
       "      <th>Duration(secs)</th>\n",
       "    </tr>\n",
       "    <tr>\n",
       "      <th>LSTM Type</th>\n",
       "      <th></th>\n",
       "      <th></th>\n",
       "      <th></th>\n",
       "    </tr>\n",
       "  </thead>\n",
       "  <tbody>\n",
       "    <tr>\n",
       "      <th>Shallow</th>\n",
       "      <td>0.937</td>\n",
       "      <td>0.9153</td>\n",
       "      <td>21.5624</td>\n",
       "    </tr>\n",
       "    <tr>\n",
       "      <th>Deep</th>\n",
       "      <td>1.000</td>\n",
       "      <td>1.0000</td>\n",
       "      <td>24.9541</td>\n",
       "    </tr>\n",
       "  </tbody>\n",
       "</table>\n",
       "</div>"
      ],
      "text/plain": [
       "           F Score(Test+)  F Score(Test-)  Duration(secs)\n",
       "LSTM Type                                                \n",
       "Shallow             0.937          0.9153         21.5624\n",
       "Deep                1.000          1.0000         24.9541"
      ]
     },
     "metadata": {},
     "output_type": "display_data"
    },
    {
     "data": {
      "text/plain": [
       "<matplotlib.axes._subplots.AxesSubplot at 0x7f303ee1acf8>"
      ]
     },
     "metadata": {},
     "output_type": "display_data"
    },
    {
     "data": {
      "text/plain": [
       "'LSTM-Seq2Seq'"
      ]
     },
     "metadata": {},
     "output_type": "display_data"
    },
    {
     "data": {
      "text/html": [
       "<div>\n",
       "<style>\n",
       "    .dataframe thead tr:only-child th {\n",
       "        text-align: right;\n",
       "    }\n",
       "\n",
       "    .dataframe thead th {\n",
       "        text-align: left;\n",
       "    }\n",
       "\n",
       "    .dataframe tbody tr th {\n",
       "        vertical-align: top;\n",
       "    }\n",
       "</style>\n",
       "<table border=\"1\" class=\"dataframe\">\n",
       "  <thead>\n",
       "    <tr style=\"text-align: right;\">\n",
       "      <th></th>\n",
       "      <th>F Score(Test+)</th>\n",
       "      <th>F Score(Test-)</th>\n",
       "      <th>Duration(secs)</th>\n",
       "    </tr>\n",
       "    <tr>\n",
       "      <th>LSTM Type</th>\n",
       "      <th></th>\n",
       "      <th></th>\n",
       "      <th></th>\n",
       "    </tr>\n",
       "  </thead>\n",
       "  <tbody>\n",
       "    <tr>\n",
       "      <th>Shallow</th>\n",
       "      <td>0.9243</td>\n",
       "      <td>0.898</td>\n",
       "      <td>11.2495</td>\n",
       "    </tr>\n",
       "    <tr>\n",
       "      <th>Deep</th>\n",
       "      <td>1.0000</td>\n",
       "      <td>1.000</td>\n",
       "      <td>15.2373</td>\n",
       "    </tr>\n",
       "  </tbody>\n",
       "</table>\n",
       "</div>"
      ],
      "text/plain": [
       "           F Score(Test+)  F Score(Test-)  Duration(secs)\n",
       "LSTM Type                                                \n",
       "Shallow            0.9243           0.898         11.2495\n",
       "Deep               1.0000           1.000         15.2373"
      ]
     },
     "metadata": {},
     "output_type": "display_data"
    },
    {
     "data": {
      "text/plain": [
       "<matplotlib.axes._subplots.AxesSubplot at 0x7f303ec6f1d0>"
      ]
     },
     "metadata": {},
     "output_type": "display_data"
    },
    {
     "data": {
      "text/plain": [
       "'LSTM-Seq2Seq'"
      ]
     },
     "metadata": {},
     "output_type": "display_data"
    },
    {
     "data": {
      "text/html": [
       "<div>\n",
       "<style>\n",
       "    .dataframe thead tr:only-child th {\n",
       "        text-align: right;\n",
       "    }\n",
       "\n",
       "    .dataframe thead th {\n",
       "        text-align: left;\n",
       "    }\n",
       "\n",
       "    .dataframe tbody tr th {\n",
       "        vertical-align: top;\n",
       "    }\n",
       "</style>\n",
       "<table border=\"1\" class=\"dataframe\">\n",
       "  <thead>\n",
       "    <tr style=\"text-align: right;\">\n",
       "      <th></th>\n",
       "      <th>F Score(Test+)</th>\n",
       "      <th>F Score(Test-)</th>\n",
       "      <th>Duration(secs)</th>\n",
       "    </tr>\n",
       "    <tr>\n",
       "      <th>LSTM Type</th>\n",
       "      <th></th>\n",
       "      <th></th>\n",
       "      <th></th>\n",
       "    </tr>\n",
       "  </thead>\n",
       "  <tbody>\n",
       "    <tr>\n",
       "      <th>Shallow</th>\n",
       "      <td>0.937</td>\n",
       "      <td>0.9153</td>\n",
       "      <td>21.5624</td>\n",
       "    </tr>\n",
       "    <tr>\n",
       "      <th>Deep</th>\n",
       "      <td>1.000</td>\n",
       "      <td>1.0000</td>\n",
       "      <td>24.9541</td>\n",
       "    </tr>\n",
       "  </tbody>\n",
       "</table>\n",
       "</div>"
      ],
      "text/plain": [
       "           F Score(Test+)  F Score(Test-)  Duration(secs)\n",
       "LSTM Type                                                \n",
       "Shallow             0.937          0.9153         21.5624\n",
       "Deep                1.000          1.0000         24.9541"
      ]
     },
     "metadata": {},
     "output_type": "display_data"
    },
    {
     "data": {
      "text/plain": [
       "<matplotlib.axes._subplots.AxesSubplot at 0x7f303eeacda0>"
      ]
     },
     "metadata": {},
     "output_type": "display_data"
    },
    {
     "data": {
      "text/plain": [
       "'LSTM-Seq2Seq'"
      ]
     },
     "metadata": {},
     "output_type": "display_data"
    },
    {
     "data": {
      "text/html": [
       "<div>\n",
       "<style>\n",
       "    .dataframe thead tr:only-child th {\n",
       "        text-align: right;\n",
       "    }\n",
       "\n",
       "    .dataframe thead th {\n",
       "        text-align: left;\n",
       "    }\n",
       "\n",
       "    .dataframe tbody tr th {\n",
       "        vertical-align: top;\n",
       "    }\n",
       "</style>\n",
       "<table border=\"1\" class=\"dataframe\">\n",
       "  <thead>\n",
       "    <tr style=\"text-align: right;\">\n",
       "      <th></th>\n",
       "      <th>F Score(Test+)</th>\n",
       "      <th>F Score(Test-)</th>\n",
       "      <th>Duration(secs)</th>\n",
       "    </tr>\n",
       "    <tr>\n",
       "      <th>LSTM Type</th>\n",
       "      <th></th>\n",
       "      <th></th>\n",
       "      <th></th>\n",
       "    </tr>\n",
       "  </thead>\n",
       "  <tbody>\n",
       "    <tr>\n",
       "      <th>Shallow</th>\n",
       "      <td>0.9243</td>\n",
       "      <td>0.898</td>\n",
       "      <td>11.2495</td>\n",
       "    </tr>\n",
       "    <tr>\n",
       "      <th>Deep</th>\n",
       "      <td>1.0000</td>\n",
       "      <td>1.000</td>\n",
       "      <td>15.2373</td>\n",
       "    </tr>\n",
       "  </tbody>\n",
       "</table>\n",
       "</div>"
      ],
      "text/plain": [
       "           F Score(Test+)  F Score(Test-)  Duration(secs)\n",
       "LSTM Type                                                \n",
       "Shallow            0.9243           0.898         11.2495\n",
       "Deep               1.0000           1.000         15.2373"
      ]
     },
     "metadata": {},
     "output_type": "display_data"
    },
    {
     "data": {
      "text/plain": [
       "<matplotlib.axes._subplots.AxesSubplot at 0x7f303dde8ef0>"
      ]
     },
     "metadata": {},
     "output_type": "display_data"
    },
    {
     "data": {
      "text/html": [
       "<div>\n",
       "<style>\n",
       "    .dataframe thead tr:only-child th {\n",
       "        text-align: right;\n",
       "    }\n",
       "\n",
       "    .dataframe thead th {\n",
       "        text-align: left;\n",
       "    }\n",
       "\n",
       "    .dataframe tbody tr th {\n",
       "        vertical-align: top;\n",
       "    }\n",
       "</style>\n",
       "<table border=\"1\" class=\"dataframe\">\n",
       "  <thead>\n",
       "    <tr style=\"text-align: right;\">\n",
       "      <th>LSTM Type</th>\n",
       "      <th>Deep</th>\n",
       "      <th>Shallow</th>\n",
       "    </tr>\n",
       "    <tr>\n",
       "      <th>variable</th>\n",
       "      <th></th>\n",
       "      <th></th>\n",
       "    </tr>\n",
       "  </thead>\n",
       "  <tbody>\n",
       "    <tr>\n",
       "      <th>Train+/Test+</th>\n",
       "      <td>1.0</td>\n",
       "      <td>0.9370</td>\n",
       "    </tr>\n",
       "    <tr>\n",
       "      <th>Train+/Test-</th>\n",
       "      <td>1.0</td>\n",
       "      <td>0.9153</td>\n",
       "    </tr>\n",
       "    <tr>\n",
       "      <th>Train-/Test+</th>\n",
       "      <td>1.0</td>\n",
       "      <td>0.9243</td>\n",
       "    </tr>\n",
       "    <tr>\n",
       "      <th>Train-/Test-</th>\n",
       "      <td>1.0</td>\n",
       "      <td>0.8980</td>\n",
       "    </tr>\n",
       "  </tbody>\n",
       "</table>\n",
       "</div>"
      ],
      "text/plain": [
       "LSTM Type     Deep  Shallow\n",
       "variable                   \n",
       "Train+/Test+   1.0   0.9370\n",
       "Train+/Test-   1.0   0.9153\n",
       "Train-/Test+   1.0   0.9243\n",
       "Train-/Test-   1.0   0.8980"
      ]
     },
     "metadata": {},
     "output_type": "display_data"
    },
    {
     "data": {
      "image/png": "[encoded data removed]",
      "text/plain": [
       "<matplotlib.figure.Figure at 0x7f303f97d828>"
      ]
     },
     "metadata": {},
     "output_type": "display_data"
    },
    {
     "data": {
      "image/png": "[encoded data removed]",
      "text/plain": [
       "<matplotlib.figure.Figure at 0x7f303f7da588>"
      ]
     },
     "metadata": {},
     "output_type": "display_data"
    },
    {
     "data": {
      "image/png": "[encoded data removed]",
      "text/plain": [
       "<matplotlib.figure.Figure at 0x7f303ec1a4a8>"
      ]
     },
     "metadata": {},
     "output_type": "display_data"
    },
    {
     "data": {
      "image/png": "[encoded data removed]",
      "text/plain": [
       "<matplotlib.figure.Figure at 0x7f303f8b17b8>"
      ]
     },
     "metadata": {},
     "output_type": "display_data"
    },
    {
     "data": {
      "image/png": "[encoded data removed]",
      "text/plain": [
       "<matplotlib.figure.Figure at 0x7f303fa9a8d0>"
      ]
     },
     "metadata": {},
     "output_type": "display_data"
    }
   ],
   "source": [
    "\n",
    "def get_score_for_bar(result, append):\n",
    "    t = result.reset_index()\n",
    "    t.rename(columns={\"F Score(Test+)\":\"Test+\", \"F Score(Test-)\":\"Test-\"}, inplace=True)\n",
    "    t = t.melt(value_vars=['Test+', 'Test-'], id_vars=['LSTM Type'] )\n",
    "    t.replace(to_replace={\"Test+\":\"{}/Test+\".format(append), \"Test-\":\"{}/Test-\".format(append)}, inplace=True)\n",
    "    return t.loc[:,[\"variable\", \"value\", \"LSTM Type\"]]\n",
    "\n",
    "def get_time_for_bar(result, append):\n",
    "    t = result.reset_index()\n",
    "    t.rename(columns={\"F Score(Test+)\":\"Test+\", \"F Score(Test-)\":\"Test-\"}, inplace=True)\n",
    "    t = t.melt(value_vars='Duration(secs)', id_vars='LSTM Type' )\n",
    "    t.replace(to_replace={\"Test+\":\"{}/Test+\".format(append), \"Test-\":\"{}/Test-\".format(append)}, inplace=True)\n",
    "    return t.loc[:,[\"variable\", \"value\", \"LSTM Type\"]]\n",
    "\n",
    "def get_shallow_network_data(type='score'):\n",
    "\n",
    "    result = view_data(\"LSTM-Seq2Seq\", past_scores, 'LSTM')\n",
    "    result20 = view_data(\"LSTM-Seq2Seq\", past_scores_20, 'LSTM')\n",
    "\n",
    "    if(type=='time'):\n",
    "        result=get_time_for_bar(result, \"Train+\")\n",
    "        result.loc[:,'Scenarios'] = ['Train+', 'Train+']\n",
    "        result20=get_time_for_bar(result20, \"Train-\")\n",
    "        result20.loc[:,'Scenarios'] = ['Train-', 'Train-']\n",
    "\n",
    "    else:\n",
    "        result=get_score_for_bar(result, \"Train+\")\n",
    "        result20=get_score_for_bar(result20, \"Train-\")\n",
    "\n",
    "    t = pd.concat([result, result20], axis=0)\n",
    "    return t\n",
    "\n",
    "t_duration = get_shallow_network_data(type='time')\n",
    "t = get_shallow_network_data()\n",
    "    \n",
    "t = t.pivot_table(values='value', columns='LSTM Type', index='variable')\n",
    "display(t)\n",
    "ax = t.plot(kind='bar', rot=0,  legend=False, figsize=[10,4], cmap=cmap, title=False, fontsize='xx-large',\n",
    "                                   edgecolor='black')\n",
    "\n",
    "lgd = ax.legend(bbox_to_anchor=(0,1.02,1,0.2), loc=\"lower left\",\n",
    "                 ncol=3, fontsize='xx-large')\n",
    "ax.set_xlabel(\"\")\n",
    "ax.set_ylabel(\"F-measure\", fontsize='xx-large')\n",
    "ax.get_figure().savefig(\"result_plots/LSTM_Type_KDD.png\", format='png', dpi=200, bbox_extra_artists=(lgd,), bbox_inches='tight')"
   ]
  },
  {
   "cell_type": "code",
   "execution_count": 81,
   "metadata": {
    "ExecuteTime": {
     "end_time": "2017-07-28T14:16:07.057748Z",
     "start_time": "2017-07-28T14:16:07.037573Z"
    }
   },
   "outputs": [
    {
     "data": {
      "text/html": [
       "<div>\n",
       "<style>\n",
       "    .dataframe thead tr:only-child th {\n",
       "        text-align: right;\n",
       "    }\n",
       "\n",
       "    .dataframe thead th {\n",
       "        text-align: left;\n",
       "    }\n",
       "\n",
       "    .dataframe tbody tr th {\n",
       "        vertical-align: top;\n",
       "    }\n",
       "</style>\n",
       "<table border=\"1\" class=\"dataframe\">\n",
       "  <thead>\n",
       "    <tr style=\"text-align: right;\">\n",
       "      <th></th>\n",
       "      <th>Accuracy</th>\n",
       "      <th>Duration(secs)</th>\n",
       "      <th>F1 Score</th>\n",
       "      <th>Model</th>\n",
       "      <th>Number of Features</th>\n",
       "      <th>Precision</th>\n",
       "      <th>Recall</th>\n",
       "      <th>Scenarios</th>\n",
       "    </tr>\n",
       "  </thead>\n",
       "  <tbody>\n",
       "    <tr>\n",
       "      <th>1</th>\n",
       "      <td>0.8670</td>\n",
       "      <td>18.9799</td>\n",
       "      <td>0.8739</td>\n",
       "      <td>FCN</td>\n",
       "      <td>48</td>\n",
       "      <td>0.9490</td>\n",
       "      <td>0.8098</td>\n",
       "      <td>Train+/Test+</td>\n",
       "    </tr>\n",
       "    <tr>\n",
       "      <th>1</th>\n",
       "      <td>0.7576</td>\n",
       "      <td>18.9799</td>\n",
       "      <td>0.8350</td>\n",
       "      <td>FCN</td>\n",
       "      <td>48</td>\n",
       "      <td>0.9424</td>\n",
       "      <td>0.7495</td>\n",
       "      <td>Train+/Test-</td>\n",
       "    </tr>\n",
       "    <tr>\n",
       "      <th>1</th>\n",
       "      <td>0.8561</td>\n",
       "      <td>0.6421</td>\n",
       "      <td>0.8695</td>\n",
       "      <td>FCN</td>\n",
       "      <td>48</td>\n",
       "      <td>0.8988</td>\n",
       "      <td>0.8420</td>\n",
       "      <td>Train-/Test+</td>\n",
       "    </tr>\n",
       "    <tr>\n",
       "      <th>1</th>\n",
       "      <td>0.7504</td>\n",
       "      <td>0.6421</td>\n",
       "      <td>0.8396</td>\n",
       "      <td>FCN</td>\n",
       "      <td>48</td>\n",
       "      <td>0.8856</td>\n",
       "      <td>0.7981</td>\n",
       "      <td>Train-/Test-</td>\n",
       "    </tr>\n",
       "    <tr>\n",
       "      <th>1</th>\n",
       "      <td>0.5692</td>\n",
       "      <td>1.8554</td>\n",
       "      <td>0.7255</td>\n",
       "      <td>VAE-Label</td>\n",
       "      <td>1</td>\n",
       "      <td>0.5692</td>\n",
       "      <td>1.0000</td>\n",
       "      <td>Train+/Test+</td>\n",
       "    </tr>\n",
       "    <tr>\n",
       "      <th>1</th>\n",
       "      <td>0.8184</td>\n",
       "      <td>1.8554</td>\n",
       "      <td>0.9001</td>\n",
       "      <td>VAE-Label</td>\n",
       "      <td>1</td>\n",
       "      <td>0.8184</td>\n",
       "      <td>1.0000</td>\n",
       "      <td>Train+/Test-</td>\n",
       "    </tr>\n",
       "    <tr>\n",
       "      <th>1</th>\n",
       "      <td>0.5692</td>\n",
       "      <td>2.1003</td>\n",
       "      <td>0.7255</td>\n",
       "      <td>VAE-Label</td>\n",
       "      <td>1</td>\n",
       "      <td>0.5692</td>\n",
       "      <td>1.0000</td>\n",
       "      <td>Train-/Test+</td>\n",
       "    </tr>\n",
       "    <tr>\n",
       "      <th>1</th>\n",
       "      <td>0.8184</td>\n",
       "      <td>2.1003</td>\n",
       "      <td>0.9001</td>\n",
       "      <td>VAE-Label</td>\n",
       "      <td>1</td>\n",
       "      <td>0.8184</td>\n",
       "      <td>1.0000</td>\n",
       "      <td>Train-/Test-</td>\n",
       "    </tr>\n",
       "    <tr>\n",
       "      <th>1</th>\n",
       "      <td>0.8948</td>\n",
       "      <td>88.6219</td>\n",
       "      <td>0.9036</td>\n",
       "      <td>VAE-Softmax</td>\n",
       "      <td>122</td>\n",
       "      <td>0.9441</td>\n",
       "      <td>0.8665</td>\n",
       "      <td>Train+/Test+</td>\n",
       "    </tr>\n",
       "    <tr>\n",
       "      <th>1</th>\n",
       "      <td>0.8173</td>\n",
       "      <td>88.6219</td>\n",
       "      <td>0.8814</td>\n",
       "      <td>VAE-Softmax</td>\n",
       "      <td>122</td>\n",
       "      <td>0.9402</td>\n",
       "      <td>0.8296</td>\n",
       "      <td>Train+/Test-</td>\n",
       "    </tr>\n",
       "    <tr>\n",
       "      <th>1</th>\n",
       "      <td>0.7195</td>\n",
       "      <td>10.4086</td>\n",
       "      <td>0.6942</td>\n",
       "      <td>VAE-Softmax</td>\n",
       "      <td>48</td>\n",
       "      <td>0.9151</td>\n",
       "      <td>0.5592</td>\n",
       "      <td>Train-/Test+</td>\n",
       "    </tr>\n",
       "    <tr>\n",
       "      <th>1</th>\n",
       "      <td>0.8015</td>\n",
       "      <td>10.4086</td>\n",
       "      <td>0.8700</td>\n",
       "      <td>VAE-Softmax</td>\n",
       "      <td>48</td>\n",
       "      <td>0.9373</td>\n",
       "      <td>0.8118</td>\n",
       "      <td>Train-/Test-</td>\n",
       "    </tr>\n",
       "    <tr>\n",
       "      <th>1</th>\n",
       "      <td>0.9949</td>\n",
       "      <td>24.9541</td>\n",
       "      <td>0.9955</td>\n",
       "      <td>LSTM-Seq2Seq</td>\n",
       "      <td>1</td>\n",
       "      <td>0.9915</td>\n",
       "      <td>0.9995</td>\n",
       "      <td>Train+/Test+</td>\n",
       "    </tr>\n",
       "    <tr>\n",
       "      <th>1</th>\n",
       "      <td>0.9949</td>\n",
       "      <td>24.9541</td>\n",
       "      <td>0.9955</td>\n",
       "      <td>LSTM-Seq2Seq</td>\n",
       "      <td>1</td>\n",
       "      <td>0.9915</td>\n",
       "      <td>0.9995</td>\n",
       "      <td>Train+/Test-</td>\n",
       "    </tr>\n",
       "    <tr>\n",
       "      <th>1</th>\n",
       "      <td>0.9992</td>\n",
       "      <td>15.2373</td>\n",
       "      <td>0.9993</td>\n",
       "      <td>LSTM-Seq2Seq</td>\n",
       "      <td>1</td>\n",
       "      <td>0.9985</td>\n",
       "      <td>1.0000</td>\n",
       "      <td>Train-/Test+</td>\n",
       "    </tr>\n",
       "    <tr>\n",
       "      <th>1</th>\n",
       "      <td>0.9992</td>\n",
       "      <td>15.2373</td>\n",
       "      <td>0.9993</td>\n",
       "      <td>LSTM-Seq2Seq</td>\n",
       "      <td>1</td>\n",
       "      <td>0.9985</td>\n",
       "      <td>1.0000</td>\n",
       "      <td>Train-/Test-</td>\n",
       "    </tr>\n",
       "  </tbody>\n",
       "</table>\n",
       "</div>"
      ],
      "text/plain": [
       "   Accuracy  Duration(secs)  F1 Score         Model Number of Features  \\\n",
       "1    0.8670         18.9799    0.8739           FCN                 48   \n",
       "1    0.7576         18.9799    0.8350           FCN                 48   \n",
       "1    0.8561          0.6421    0.8695           FCN                 48   \n",
       "1    0.7504          0.6421    0.8396           FCN                 48   \n",
       "1    0.5692          1.8554    0.7255     VAE-Label                  1   \n",
       "1    0.8184          1.8554    0.9001     VAE-Label                  1   \n",
       "1    0.5692          2.1003    0.7255     VAE-Label                  1   \n",
       "1    0.8184          2.1003    0.9001     VAE-Label                  1   \n",
       "1    0.8948         88.6219    0.9036   VAE-Softmax                122   \n",
       "1    0.8173         88.6219    0.8814   VAE-Softmax                122   \n",
       "1    0.7195         10.4086    0.6942   VAE-Softmax                 48   \n",
       "1    0.8015         10.4086    0.8700   VAE-Softmax                 48   \n",
       "1    0.9949         24.9541    0.9955  LSTM-Seq2Seq                  1   \n",
       "1    0.9949         24.9541    0.9955  LSTM-Seq2Seq                  1   \n",
       "1    0.9992         15.2373    0.9993  LSTM-Seq2Seq                  1   \n",
       "1    0.9992         15.2373    0.9993  LSTM-Seq2Seq                  1   \n",
       "\n",
       "   Precision  Recall     Scenarios  \n",
       "1     0.9490  0.8098  Train+/Test+  \n",
       "1     0.9424  0.7495  Train+/Test-  \n",
       "1     0.8988  0.8420  Train-/Test+  \n",
       "1     0.8856  0.7981  Train-/Test-  \n",
       "1     0.5692  1.0000  Train+/Test+  \n",
       "1     0.8184  1.0000  Train+/Test-  \n",
       "1     0.5692  1.0000  Train-/Test+  \n",
       "1     0.8184  1.0000  Train-/Test-  \n",
       "1     0.9441  0.8665  Train+/Test+  \n",
       "1     0.9402  0.8296  Train+/Test-  \n",
       "1     0.9151  0.5592  Train-/Test+  \n",
       "1     0.9373  0.8118  Train-/Test-  \n",
       "1     0.9915  0.9995  Train+/Test+  \n",
       "1     0.9915  0.9995  Train+/Test-  \n",
       "1     0.9985  1.0000  Train-/Test+  \n",
       "1     0.9985  1.0000  Train-/Test-  "
      ]
     },
     "execution_count": 81,
     "metadata": {},
     "output_type": "execute_result"
    }
   ],
   "source": [
    "all_scenarios = pd.concat([all_scenarios_fcn, all_scenarios_vae, all_scenarios_vae_sm, all_scenarios_lstm],axis=0)\n",
    "all_scenarios"
   ]
  },
  {
   "cell_type": "code",
   "execution_count": 82,
   "metadata": {
    "ExecuteTime": {
     "end_time": "2017-07-28T14:16:07.088939Z",
     "start_time": "2017-07-28T14:16:07.059155Z"
    }
   },
   "outputs": [
    {
     "data": {
      "text/html": [
       "<div>\n",
       "<style>\n",
       "    .dataframe thead tr:only-child th {\n",
       "        text-align: right;\n",
       "    }\n",
       "\n",
       "    .dataframe thead th {\n",
       "        text-align: left;\n",
       "    }\n",
       "\n",
       "    .dataframe tbody tr th {\n",
       "        vertical-align: top;\n",
       "    }\n",
       "</style>\n",
       "<table border=\"1\" class=\"dataframe\">\n",
       "  <thead>\n",
       "    <tr style=\"text-align: right;\">\n",
       "      <th>LSTM Type</th>\n",
       "      <th>Shallow LSTM</th>\n",
       "    </tr>\n",
       "    <tr>\n",
       "      <th>variable</th>\n",
       "      <th></th>\n",
       "    </tr>\n",
       "  </thead>\n",
       "  <tbody>\n",
       "    <tr>\n",
       "      <th>Train+/Test+</th>\n",
       "      <td>0.9370</td>\n",
       "    </tr>\n",
       "    <tr>\n",
       "      <th>Train+/Test-</th>\n",
       "      <td>0.9153</td>\n",
       "    </tr>\n",
       "    <tr>\n",
       "      <th>Train-/Test+</th>\n",
       "      <td>0.9243</td>\n",
       "    </tr>\n",
       "    <tr>\n",
       "      <th>Train-/Test-</th>\n",
       "      <td>0.8980</td>\n",
       "    </tr>\n",
       "  </tbody>\n",
       "</table>\n",
       "</div>"
      ],
      "text/plain": [
       "LSTM Type     Shallow LSTM\n",
       "variable                  \n",
       "Train+/Test+        0.9370\n",
       "Train+/Test-        0.9153\n",
       "Train-/Test+        0.9243\n",
       "Train-/Test-        0.8980"
      ]
     },
     "execution_count": 82,
     "metadata": {},
     "output_type": "execute_result"
    }
   ],
   "source": [
    "t = t.rename(columns={'Shallow':\"Shallow LSTM\"}).drop('Deep', axis = 1)\n",
    "t"
   ]
  },
  {
   "cell_type": "code",
   "execution_count": null,
   "metadata": {
    "ExecuteTime": {
     "start_time": "2017-07-28T14:15:48.045Z"
    }
   },
   "outputs": [
    {
     "data": {
      "text/html": [
       "<div>\n",
       "<style>\n",
       "    .dataframe thead tr:only-child th {\n",
       "        text-align: right;\n",
       "    }\n",
       "\n",
       "    .dataframe thead th {\n",
       "        text-align: left;\n",
       "    }\n",
       "\n",
       "    .dataframe tbody tr th {\n",
       "        vertical-align: top;\n",
       "    }\n",
       "</style>\n",
       "<table border=\"1\" class=\"dataframe\">\n",
       "  <thead>\n",
       "    <tr style=\"text-align: right;\">\n",
       "      <th>Model</th>\n",
       "      <th>FCN</th>\n",
       "      <th>Deep LSTM</th>\n",
       "      <th>VAE-Label</th>\n",
       "      <th>VAE-Softmax</th>\n",
       "    </tr>\n",
       "    <tr>\n",
       "      <th>Scenarios</th>\n",
       "      <th></th>\n",
       "      <th></th>\n",
       "      <th></th>\n",
       "      <th></th>\n",
       "    </tr>\n",
       "  </thead>\n",
       "  <tbody>\n",
       "    <tr>\n",
       "      <th>Train+/Test+</th>\n",
       "      <td>0.8739</td>\n",
       "      <td>0.9955</td>\n",
       "      <td>0.7255</td>\n",
       "      <td>0.9036</td>\n",
       "    </tr>\n",
       "    <tr>\n",
       "      <th>Train+/Test-</th>\n",
       "      <td>0.8350</td>\n",
       "      <td>0.9955</td>\n",
       "      <td>0.9001</td>\n",
       "      <td>0.8814</td>\n",
       "    </tr>\n",
       "    <tr>\n",
       "      <th>Train-/Test+</th>\n",
       "      <td>0.8695</td>\n",
       "      <td>0.9993</td>\n",
       "      <td>0.7255</td>\n",
       "      <td>0.6942</td>\n",
       "    </tr>\n",
       "    <tr>\n",
       "      <th>Train-/Test-</th>\n",
       "      <td>0.8396</td>\n",
       "      <td>0.9993</td>\n",
       "      <td>0.9001</td>\n",
       "      <td>0.8700</td>\n",
       "    </tr>\n",
       "  </tbody>\n",
       "</table>\n",
       "</div>"
      ],
      "text/plain": [
       "Model            FCN  Deep LSTM  VAE-Label  VAE-Softmax\n",
       "Scenarios                                              \n",
       "Train+/Test+  0.8739     0.9955     0.7255       0.9036\n",
       "Train+/Test-  0.8350     0.9955     0.9001       0.8814\n",
       "Train-/Test+  0.8695     0.9993     0.7255       0.6942\n",
       "Train-/Test-  0.8396     0.9993     0.9001       0.8700"
      ]
     },
     "execution_count": 83,
     "metadata": {},
     "output_type": "execute_result"
    }
   ],
   "source": [
    "all_scenarios_display = all_scenarios.loc[:,[ 'Scenarios', 'F1 Score', 'Model']]\n",
    "all_scenarios_pivot = all_scenarios_display.pivot_table('F1 Score', 'Scenarios', 'Model')\n",
    "all_scenarios_pivot = all_scenarios_pivot.rename(columns={'LSTM-Seq2Seq':\"Deep LSTM\"})\n",
    "all_scenarios_pivot"
   ]
  },
  {
   "cell_type": "code",
   "execution_count": null,
   "metadata": {
    "ExecuteTime": {
     "start_time": "2017-07-28T14:15:49.226Z"
    }
   },
   "outputs": [],
   "source": [
    "all_scenarios_pivot = pd.concat([all_scenarios_pivot, t], axis = 1)\n",
    "all_scenarios_pivot = all_scenarios_pivot.loc[:,['FCN', \"VAE-Label\", \"VAE-Softmax\", \"Shallow LSTM\", 'Deep LSTM']]\n",
    "all_scenarios_pivot"
   ]
  },
  {
   "cell_type": "code",
   "execution_count": 18,
   "metadata": {
    "ExecuteTime": {
     "end_time": "2017-07-28T13:27:29.184424Z",
     "start_time": "2017-07-28T13:27:28.131416Z"
    }
   },
   "outputs": [
    {
     "data": {
      "image/png": "[encoded data removed]",
      "text/plain": [
       "<matplotlib.figure.Figure at 0x7f303dcb1438>"
      ]
     },
     "metadata": {},
     "output_type": "display_data"
    }
   ],
   "source": [
    "plot_bar = all_scenarios_pivot.plot(kind='bar', rot=0,  legend=False, figsize=[10,4], cmap=cmap, title=False, fontsize='xx-large',\n",
    "                                   edgecolor='black')\n",
    "lgd = plot_bar.legend(bbox_to_anchor=(0,1.02,1,0.2), loc=\"lower left\",  mode=\"expand\", ncol=3, fontsize='xx-large')\n",
    "plot_bar.set_xlabel(\"\")\n",
    "plot_bar.set_ylabel(\"F-measure\", fontsize='xx-large')\n",
    "#display_and_save(\"All Results with Train_Test in X-axis\",plot_bar)\n",
    "plot_bar.get_figure().savefig(\"result_plots/fig_b.png\", format='png', dpi=200, bbox_extra_artists=(lgd,), bbox_inches='tight')"
   ]
  },
  {
   "cell_type": "code",
   "execution_count": 19,
   "metadata": {
    "ExecuteTime": {
     "end_time": "2017-07-28T13:27:29.205116Z",
     "start_time": "2017-07-28T13:27:29.185810Z"
    }
   },
   "outputs": [
    {
     "data": {
      "text/html": [
       "<div>\n",
       "<style>\n",
       "    .dataframe thead tr:only-child th {\n",
       "        text-align: right;\n",
       "    }\n",
       "\n",
       "    .dataframe thead th {\n",
       "        text-align: left;\n",
       "    }\n",
       "\n",
       "    .dataframe tbody tr th {\n",
       "        vertical-align: top;\n",
       "    }\n",
       "</style>\n",
       "<table border=\"1\" class=\"dataframe\">\n",
       "  <thead>\n",
       "    <tr style=\"text-align: right;\">\n",
       "      <th>Scenarios</th>\n",
       "      <th>Train+/Test+</th>\n",
       "      <th>Train+/Test-</th>\n",
       "      <th>Train-/Test+</th>\n",
       "      <th>Train-/Test-</th>\n",
       "    </tr>\n",
       "    <tr>\n",
       "      <th>Model</th>\n",
       "      <th></th>\n",
       "      <th></th>\n",
       "      <th></th>\n",
       "      <th></th>\n",
       "    </tr>\n",
       "  </thead>\n",
       "  <tbody>\n",
       "    <tr>\n",
       "      <th>FCN</th>\n",
       "      <td>0.8739</td>\n",
       "      <td>0.8350</td>\n",
       "      <td>0.8695</td>\n",
       "      <td>0.8396</td>\n",
       "    </tr>\n",
       "    <tr>\n",
       "      <th>LSTM-Seq2Seq</th>\n",
       "      <td>0.9955</td>\n",
       "      <td>0.9955</td>\n",
       "      <td>0.9993</td>\n",
       "      <td>0.9993</td>\n",
       "    </tr>\n",
       "    <tr>\n",
       "      <th>VAE-Label</th>\n",
       "      <td>0.7255</td>\n",
       "      <td>0.9001</td>\n",
       "      <td>0.7255</td>\n",
       "      <td>0.9001</td>\n",
       "    </tr>\n",
       "    <tr>\n",
       "      <th>VAE-Softmax</th>\n",
       "      <td>0.9036</td>\n",
       "      <td>0.8814</td>\n",
       "      <td>0.6942</td>\n",
       "      <td>0.8700</td>\n",
       "    </tr>\n",
       "  </tbody>\n",
       "</table>\n",
       "</div>"
      ],
      "text/plain": [
       "Scenarios     Train+/Test+  Train+/Test-  Train-/Test+  Train-/Test-\n",
       "Model                                                               \n",
       "FCN                 0.8739        0.8350        0.8695        0.8396\n",
       "LSTM-Seq2Seq        0.9955        0.9955        0.9993        0.9993\n",
       "VAE-Label           0.7255        0.9001        0.7255        0.9001\n",
       "VAE-Softmax         0.9036        0.8814        0.6942        0.8700"
      ]
     },
     "execution_count": 19,
     "metadata": {},
     "output_type": "execute_result"
    }
   ],
   "source": [
    "all_scenarios_display = all_scenarios.loc[:,[ 'Scenarios', 'F1 Score', 'Model']]\n",
    "all_scenarios_pivot = all_scenarios_display.pivot_table('F1 Score', 'Model', 'Scenarios')\n",
    "all_scenarios_pivot"
   ]
  },
  {
   "cell_type": "code",
   "execution_count": 20,
   "metadata": {
    "ExecuteTime": {
     "end_time": "2017-07-28T13:27:35.081757Z",
     "start_time": "2017-07-28T13:27:29.206420Z"
    }
   },
   "outputs": [
    {
     "data": {
      "text/plain": [
       "<matplotlib.axes._subplots.AxesSubplot at 0x7f303f845fd0>"
      ]
     },
     "metadata": {},
     "output_type": "display_data"
    },
    {
     "data": {
      "image/png": "[encoded data removed]",
      "text/plain": [
       "<matplotlib.figure.Figure at 0x7f303fa9af98>"
      ]
     },
     "metadata": {},
     "output_type": "display_data"
    }
   ],
   "source": [
    "plot_bar = all_scenarios_pivot.plot(kind='bar', rot=0,  legend=False, figsize=[10,4], cmap=cmap, title=False, fontsize='x-large')\n",
    "plot_bar.legend(bbox_to_anchor=(0,1.02,1,0.2), loc=\"lower left\", mode=\"expand\", ncol=3, fontsize='x-large')\n",
    "plot_bar.set_xlabel(\"\")\n",
    "display_and_save(\"All Results with Models in X Axis\",plot_bar)\n"
   ]
  },
  {
   "cell_type": "code",
   "execution_count": 64,
   "metadata": {
    "ExecuteTime": {
     "end_time": "2017-07-28T14:09:49.979645Z",
     "start_time": "2017-07-28T14:09:49.961722Z"
    }
   },
   "outputs": [
    {
     "data": {
      "text/html": [
       "<div>\n",
       "<style>\n",
       "    .dataframe thead tr:only-child th {\n",
       "        text-align: right;\n",
       "    }\n",
       "\n",
       "    .dataframe thead th {\n",
       "        text-align: left;\n",
       "    }\n",
       "\n",
       "    .dataframe tbody tr th {\n",
       "        vertical-align: top;\n",
       "    }\n",
       "</style>\n",
       "<table border=\"1\" class=\"dataframe\">\n",
       "  <thead>\n",
       "    <tr style=\"text-align: right;\">\n",
       "      <th></th>\n",
       "      <th>Model</th>\n",
       "      <th>Duration(secs)</th>\n",
       "      <th>Scenarios</th>\n",
       "    </tr>\n",
       "  </thead>\n",
       "  <tbody>\n",
       "    <tr>\n",
       "      <th>0</th>\n",
       "      <td>Shallow LSTM</td>\n",
       "      <td>21.5624</td>\n",
       "      <td>Train+</td>\n",
       "    </tr>\n",
       "    <tr>\n",
       "      <th>1</th>\n",
       "      <td>Shallow LSTM</td>\n",
       "      <td>11.2495</td>\n",
       "      <td>Train-</td>\n",
       "    </tr>\n",
       "  </tbody>\n",
       "</table>\n",
       "</div>"
      ],
      "text/plain": [
       "          Model  Duration(secs) Scenarios\n",
       "0  Shallow LSTM         21.5624    Train+\n",
       "1  Shallow LSTM         11.2495    Train-"
      ]
     },
     "execution_count": 64,
     "metadata": {},
     "output_type": "execute_result"
    }
   ],
   "source": [
    "t = t_duration.drop('variable', axis=1)\n",
    "t = t.set_index(\"LSTM Type\").drop('Deep', axis=0).reset_index()\n",
    "t.rename(columns={'LSTM Type':'Model', \"value\":\"Duration(secs)\"}, inplace=True)\n",
    "t.replace({\"Shallow\":\"Shallow LSTM\"},inplace=True)\n",
    "t"
   ]
  },
  {
   "cell_type": "code",
   "execution_count": 65,
   "metadata": {
    "ExecuteTime": {
     "end_time": "2017-07-28T14:09:51.228005Z",
     "start_time": "2017-07-28T14:09:51.200479Z"
    }
   },
   "outputs": [
    {
     "data": {
      "text/html": [
       "<div>\n",
       "<style>\n",
       "    .dataframe thead tr:only-child th {\n",
       "        text-align: right;\n",
       "    }\n",
       "\n",
       "    .dataframe thead th {\n",
       "        text-align: left;\n",
       "    }\n",
       "\n",
       "    .dataframe tbody tr th {\n",
       "        vertical-align: top;\n",
       "    }\n",
       "</style>\n",
       "<table border=\"1\" class=\"dataframe\">\n",
       "  <thead>\n",
       "    <tr style=\"text-align: right;\">\n",
       "      <th></th>\n",
       "      <th>Duration(secs)</th>\n",
       "      <th>Model</th>\n",
       "      <th>Scenarios</th>\n",
       "    </tr>\n",
       "  </thead>\n",
       "  <tbody>\n",
       "    <tr>\n",
       "      <th>1</th>\n",
       "      <td>18.9799</td>\n",
       "      <td>FCN</td>\n",
       "      <td>Train+</td>\n",
       "    </tr>\n",
       "    <tr>\n",
       "      <th>1</th>\n",
       "      <td>18.9799</td>\n",
       "      <td>FCN</td>\n",
       "      <td>Train+</td>\n",
       "    </tr>\n",
       "    <tr>\n",
       "      <th>1</th>\n",
       "      <td>0.6421</td>\n",
       "      <td>FCN</td>\n",
       "      <td>Train-</td>\n",
       "    </tr>\n",
       "    <tr>\n",
       "      <th>1</th>\n",
       "      <td>0.6421</td>\n",
       "      <td>FCN</td>\n",
       "      <td>Train-</td>\n",
       "    </tr>\n",
       "    <tr>\n",
       "      <th>1</th>\n",
       "      <td>1.8554</td>\n",
       "      <td>VAE-Label</td>\n",
       "      <td>Train+</td>\n",
       "    </tr>\n",
       "    <tr>\n",
       "      <th>1</th>\n",
       "      <td>1.8554</td>\n",
       "      <td>VAE-Label</td>\n",
       "      <td>Train+</td>\n",
       "    </tr>\n",
       "    <tr>\n",
       "      <th>1</th>\n",
       "      <td>2.1003</td>\n",
       "      <td>VAE-Label</td>\n",
       "      <td>Train-</td>\n",
       "    </tr>\n",
       "    <tr>\n",
       "      <th>1</th>\n",
       "      <td>2.1003</td>\n",
       "      <td>VAE-Label</td>\n",
       "      <td>Train-</td>\n",
       "    </tr>\n",
       "    <tr>\n",
       "      <th>1</th>\n",
       "      <td>88.6219</td>\n",
       "      <td>VAE-Softmax</td>\n",
       "      <td>Train+</td>\n",
       "    </tr>\n",
       "    <tr>\n",
       "      <th>1</th>\n",
       "      <td>88.6219</td>\n",
       "      <td>VAE-Softmax</td>\n",
       "      <td>Train+</td>\n",
       "    </tr>\n",
       "    <tr>\n",
       "      <th>1</th>\n",
       "      <td>10.4086</td>\n",
       "      <td>VAE-Softmax</td>\n",
       "      <td>Train-</td>\n",
       "    </tr>\n",
       "    <tr>\n",
       "      <th>1</th>\n",
       "      <td>10.4086</td>\n",
       "      <td>VAE-Softmax</td>\n",
       "      <td>Train-</td>\n",
       "    </tr>\n",
       "    <tr>\n",
       "      <th>1</th>\n",
       "      <td>24.9541</td>\n",
       "      <td>Deep LSTM</td>\n",
       "      <td>Train+</td>\n",
       "    </tr>\n",
       "    <tr>\n",
       "      <th>1</th>\n",
       "      <td>24.9541</td>\n",
       "      <td>Deep LSTM</td>\n",
       "      <td>Train+</td>\n",
       "    </tr>\n",
       "    <tr>\n",
       "      <th>1</th>\n",
       "      <td>15.2373</td>\n",
       "      <td>Deep LSTM</td>\n",
       "      <td>Train-</td>\n",
       "    </tr>\n",
       "    <tr>\n",
       "      <th>1</th>\n",
       "      <td>15.2373</td>\n",
       "      <td>Deep LSTM</td>\n",
       "      <td>Train-</td>\n",
       "    </tr>\n",
       "    <tr>\n",
       "      <th>0</th>\n",
       "      <td>21.5624</td>\n",
       "      <td>Shallow LSTM</td>\n",
       "      <td>Train+</td>\n",
       "    </tr>\n",
       "    <tr>\n",
       "      <th>1</th>\n",
       "      <td>11.2495</td>\n",
       "      <td>Shallow LSTM</td>\n",
       "      <td>Train-</td>\n",
       "    </tr>\n",
       "  </tbody>\n",
       "</table>\n",
       "</div>"
      ],
      "text/plain": [
       "   Duration(secs)         Model Scenarios\n",
       "1         18.9799           FCN    Train+\n",
       "1         18.9799           FCN    Train+\n",
       "1          0.6421           FCN    Train-\n",
       "1          0.6421           FCN    Train-\n",
       "1          1.8554     VAE-Label    Train+\n",
       "1          1.8554     VAE-Label    Train+\n",
       "1          2.1003     VAE-Label    Train-\n",
       "1          2.1003     VAE-Label    Train-\n",
       "1         88.6219   VAE-Softmax    Train+\n",
       "1         88.6219   VAE-Softmax    Train+\n",
       "1         10.4086   VAE-Softmax    Train-\n",
       "1         10.4086   VAE-Softmax    Train-\n",
       "1         24.9541     Deep LSTM    Train+\n",
       "1         24.9541     Deep LSTM    Train+\n",
       "1         15.2373     Deep LSTM    Train-\n",
       "1         15.2373     Deep LSTM    Train-\n",
       "0         21.5624  Shallow LSTM    Train+\n",
       "1         11.2495  Shallow LSTM    Train-"
      ]
     },
     "execution_count": 65,
     "metadata": {},
     "output_type": "execute_result"
    }
   ],
   "source": [
    "all_scenarios_display = all_scenarios.loc[:,[ 'Scenarios', 'Duration(secs)', 'Model']]\n",
    "all_scenarios_display.replace('Train+/Test+', 'Train+', inplace=True)\n",
    "all_scenarios_display.replace('Train+/Test-', 'Train+', inplace=True)\n",
    "all_scenarios_display.replace('Train-/Test+', 'Train-', inplace=True)\n",
    "all_scenarios_display.replace('Train-/Test-', 'Train-', inplace=True)\n",
    "all_scenarios_display.replace({\"LSTM-Seq2Seq\":\"Deep LSTM\"},inplace=True)\n",
    "\n",
    "\n",
    "all_scenarios_display = pd.concat([all_scenarios_display, t], axis=0)\n",
    "all_scenarios_display"
   ]
  },
  {
   "cell_type": "code",
   "execution_count": 74,
   "metadata": {
    "ExecuteTime": {
     "end_time": "2017-07-28T14:11:40.603312Z",
     "start_time": "2017-07-28T14:11:40.587426Z"
    }
   },
   "outputs": [
    {
     "data": {
      "text/html": [
       "<div>\n",
       "<style>\n",
       "    .dataframe thead tr:only-child th {\n",
       "        text-align: right;\n",
       "    }\n",
       "\n",
       "    .dataframe thead th {\n",
       "        text-align: left;\n",
       "    }\n",
       "\n",
       "    .dataframe tbody tr th {\n",
       "        vertical-align: top;\n",
       "    }\n",
       "</style>\n",
       "<table border=\"1\" class=\"dataframe\">\n",
       "  <thead>\n",
       "    <tr style=\"text-align: right;\">\n",
       "      <th>Scenarios</th>\n",
       "      <th>Train+</th>\n",
       "      <th>Train-</th>\n",
       "    </tr>\n",
       "    <tr>\n",
       "      <th>Model</th>\n",
       "      <th></th>\n",
       "      <th></th>\n",
       "    </tr>\n",
       "  </thead>\n",
       "  <tbody>\n",
       "    <tr>\n",
       "      <th>Deep LSTM</th>\n",
       "      <td>24.9541</td>\n",
       "      <td>15.2373</td>\n",
       "    </tr>\n",
       "    <tr>\n",
       "      <th>FCN</th>\n",
       "      <td>18.9799</td>\n",
       "      <td>0.6421</td>\n",
       "    </tr>\n",
       "    <tr>\n",
       "      <th>Shallow LSTM</th>\n",
       "      <td>21.5624</td>\n",
       "      <td>11.2495</td>\n",
       "    </tr>\n",
       "    <tr>\n",
       "      <th>VAE-Label</th>\n",
       "      <td>1.8554</td>\n",
       "      <td>2.1003</td>\n",
       "    </tr>\n",
       "    <tr>\n",
       "      <th>VAE-Softmax</th>\n",
       "      <td>88.6219</td>\n",
       "      <td>10.4086</td>\n",
       "    </tr>\n",
       "  </tbody>\n",
       "</table>\n",
       "</div>"
      ],
      "text/plain": [
       "Scenarios      Train+   Train-\n",
       "Model                         \n",
       "Deep LSTM     24.9541  15.2373\n",
       "FCN           18.9799   0.6421\n",
       "Shallow LSTM  21.5624  11.2495\n",
       "VAE-Label      1.8554   2.1003\n",
       "VAE-Softmax   88.6219  10.4086"
      ]
     },
     "execution_count": 74,
     "metadata": {},
     "output_type": "execute_result"
    }
   ],
   "source": [
    "all_scenarios_pivot = all_scenarios_display.pivot_table('Duration(secs)', 'Model', 'Scenarios')\n",
    "all_scenarios_pivot"
   ]
  },
  {
   "cell_type": "code",
   "execution_count": 75,
   "metadata": {
    "ExecuteTime": {
     "end_time": "2017-07-28T14:11:41.910001Z",
     "start_time": "2017-07-28T14:11:41.898958Z"
    }
   },
   "outputs": [
    {
     "data": {
      "text/html": [
       "<div>\n",
       "<style>\n",
       "    .dataframe thead tr:only-child th {\n",
       "        text-align: right;\n",
       "    }\n",
       "\n",
       "    .dataframe thead th {\n",
       "        text-align: left;\n",
       "    }\n",
       "\n",
       "    .dataframe tbody tr th {\n",
       "        vertical-align: top;\n",
       "    }\n",
       "</style>\n",
       "<table border=\"1\" class=\"dataframe\">\n",
       "  <thead>\n",
       "    <tr style=\"text-align: right;\">\n",
       "      <th>Scenarios</th>\n",
       "      <th>Train+</th>\n",
       "      <th>Train-</th>\n",
       "    </tr>\n",
       "    <tr>\n",
       "      <th>Model</th>\n",
       "      <th></th>\n",
       "      <th></th>\n",
       "    </tr>\n",
       "  </thead>\n",
       "  <tbody>\n",
       "    <tr>\n",
       "      <th>FCN</th>\n",
       "      <td>18.9799</td>\n",
       "      <td>0.6421</td>\n",
       "    </tr>\n",
       "    <tr>\n",
       "      <th>VAE-Label</th>\n",
       "      <td>1.8554</td>\n",
       "      <td>2.1003</td>\n",
       "    </tr>\n",
       "    <tr>\n",
       "      <th>VAE-Softmax</th>\n",
       "      <td>88.6219</td>\n",
       "      <td>10.4086</td>\n",
       "    </tr>\n",
       "    <tr>\n",
       "      <th>Shallow LSTM</th>\n",
       "      <td>21.5624</td>\n",
       "      <td>11.2495</td>\n",
       "    </tr>\n",
       "    <tr>\n",
       "      <th>Deep LSTM</th>\n",
       "      <td>24.9541</td>\n",
       "      <td>15.2373</td>\n",
       "    </tr>\n",
       "  </tbody>\n",
       "</table>\n",
       "</div>"
      ],
      "text/plain": [
       "Scenarios      Train+   Train-\n",
       "Model                         \n",
       "FCN           18.9799   0.6421\n",
       "VAE-Label      1.8554   2.1003\n",
       "VAE-Softmax   88.6219  10.4086\n",
       "Shallow LSTM  21.5624  11.2495\n",
       "Deep LSTM     24.9541  15.2373"
      ]
     },
     "execution_count": 75,
     "metadata": {},
     "output_type": "execute_result"
    }
   ],
   "source": [
    "all_scenarios_pivot = all_scenarios_pivot.reindex([\"FCN\",\"VAE-Label\",\"VAE-Softmax\", \"Shallow LSTM\", \"Deep LSTM\"])\n",
    "all_scenarios_pivot = all_scenarios_pivot.rename(index={'LSTM-Seq2Seq':\"Deep LSTM\"})\n",
    "all_scenarios_pivot"
   ]
  },
  {
   "cell_type": "code",
   "execution_count": 77,
   "metadata": {
    "ExecuteTime": {
     "end_time": "2017-07-28T14:14:21.313421Z",
     "start_time": "2017-07-28T14:14:20.177684Z"
    }
   },
   "outputs": [
    {
     "data": {
      "image/png": "[encoded data removed]",
      "text/plain": [
       "<matplotlib.figure.Figure at 0x7f303ee3c668>"
      ]
     },
     "metadata": {},
     "output_type": "display_data"
    }
   ],
   "source": [
    "plot_bar = all_scenarios_pivot.plot(kind='bar', rot=0, legend=False, figsize=[10,4], cmap=cmap, title=False, fontsize='xx-large', \n",
    "                                    edgecolor='black')\n",
    "lgd = plot_bar.legend(bbox_to_anchor=(0,1.02,1,0.2), loc=\"lower left\", ncol=3, fontsize='xx-large')\n",
    "plot_bar.set_xlabel(\"\")\n",
    "plot_bar.set_ylabel(\"Training time (sec)\", fontsize='xx-large')\n",
    "#display_and_save(\"All TimeTaken with Models in X Axis\",plot_bar)\n",
    "plot_bar.get_figure().savefig(\"result_plots/fig_a.png\", format='png', dpi=200, bbox_extra_artists=(lgd,), bbox_inches='tight')"
   ]
  },
  {
   "cell_type": "code",
   "execution_count": null,
   "metadata": {
    "ExecuteTime": {
     "end_time": "2017-07-24T14:50:11.031390Z",
     "start_time": "2017-07-24T14:50:10.766518Z"
    },
    "collapsed": true
   },
   "outputs": [],
   "source": [
    "\n"
   ]
  },
  {
   "cell_type": "code",
   "execution_count": 25,
   "metadata": {
    "ExecuteTime": {
     "end_time": "2017-07-28T13:27:37.557401Z",
     "start_time": "2017-07-28T13:27:35.952019Z"
    }
   },
   "outputs": [
    {
     "name": "stdout",
     "output_type": "stream",
     "text": [
      "updating: result_plots/ (stored 0%)\n",
      "updating: result_plots/Results for VAE-GenerateLabels Train-.png (deflated 16%)\n",
      "updating: result_plots/Results for LSTM Train+.png (deflated 21%)\n",
      "updating: result_plots/All Results with Models in X Axis.png (deflated 55%)\n",
      "updating: result_plots/Results for VAE-GenerateLabels Train+.eps (deflated 71%)\n",
      "updating: result_plots/Results for VAE-Softmax Train+.eps (deflated 70%)\n",
      "updating: result_plots/All Results with Train_Test in X-axis.png (deflated 55%)\n",
      "updating: result_plots/Results for VAE-GenerateLabels Train+.png (deflated 15%)\n",
      "updating: result_plots/Results for VAE-Softmax Train-.eps (deflated 70%)\n",
      "updating: result_plots/Results for Fully Connected Train+.png (deflated 19%)\n",
      "updating: result_plots/Results for VAE-Softmax Train+.png (deflated 31%)\n",
      "updating: result_plots/Results for LSTM Train+.eps (deflated 70%)\n",
      "updating: result_plots/Results for LSTM Train-.png (deflated 21%)\n",
      "updating: result_plots/All Results with Models in X Axis.eps (deflated 69%)\n",
      "updating: result_plots/Results for LSTM Train-.eps (deflated 70%)\n",
      "updating: result_plots/Results for Fully Connected Train-.eps (deflated 70%)\n",
      "updating: result_plots/Results for Fully Connected Train-.png (deflated 18%)\n",
      "updating: result_plots/Results for Fully Connected Train+.eps (deflated 70%)\n",
      "updating: result_plots/Results for VAE-Softmax Train-.png (deflated 32%)\n",
      "updating: result_plots/All Results with Train_Test in X-axis.eps (deflated 69%)\n",
      "updating: result_plots/Results for VAE-GenerateLabels Train-.eps (deflated 70%)\n",
      "updating: result_plots/All TimeTaken with Models in X Axis.png (deflated 49%)\n",
      "updating: result_plots/All TimeTaken with Models in X Axis.eps (deflated 69%)\n",
      "updating: result_plots/Results for LSTM-Seq2Seq Train+.png (deflated 44%)\n",
      "updating: result_plots/Results for LSTM-Seq2Seq Train-.png (deflated 42%)\n",
      "updating: result_plots/Results for VAE-Label Train+.png (deflated 27%)\n",
      "updating: result_plots/Results for VAE-Label Train-.png (deflated 30%)\n",
      "updating: result_plots/Results for FCN Train-.png (deflated 30%)\n",
      "updating: result_plots/Results for FCN Train+.png (deflated 28%)\n",
      "updating: result_plots/fig_a.png (deflated 19%)\n",
      "updating: result_plots/fig_b.png (deflated 18%)\n",
      "updating: result_plots/LSTM_Type_KDD.png (deflated 22%)\n",
      "updating: result_plots/LSTM-Seq2Seq.png (deflated 35%)\n"
     ]
    }
   ],
   "source": [
    "%%bash\n",
    "zip -r result_plots.zip result_plots"
   ]
  }
 ],
 "metadata": {
  "_draft": {
   "nbviewer_url": "https://gist.github.com/93fa75f3f9285b1ba4670c28a417c10c"
  },
  "anaconda-cloud": {},
  "celltoolbar": "Slideshow",
  "gist": {
   "data": {
    "description": "Before copying Kyoto reporting style",
    "public": false
   },
   "id": "93fa75f3f9285b1ba4670c28a417c10c"
  },
  "kernelspec": {
   "display_name": "Python [conda env:p3]",
   "language": "python",
   "name": "conda-env-p3-py"
  },
  "language_info": {
   "codemirror_mode": {
    "name": "ipython",
    "version": 3
   },
   "file_extension": ".py",
   "mimetype": "text/x-python",
   "name": "python",
   "nbconvert_exporter": "python",
   "pygments_lexer": "ipython3",
   "version": "3.6.1"
  },
  "nbpresent": {
   "slides": {
    "465daa31-826a-4f9c-8612-f5248561e27a": {
     "id": "465daa31-826a-4f9c-8612-f5248561e27a",
     "prev": null,
     "regions": {
      "7f9bea92-5d12-4214-8baf-1ddd8e29581d": {
       "attrs": {
        "height": 1,
        "width": 1,
        "x": 0,
        "y": 0
       },
       "content": {
        "cell": "c59ff496-7575-4402-b20b-20db68a3540f",
        "part": "source"
       },
       "id": "7f9bea92-5d12-4214-8baf-1ddd8e29581d"
      }
     }
    },
    "760681d5-7308-42c1-833a-01ffb8a76cfc": {
     "id": "760681d5-7308-42c1-833a-01ffb8a76cfc",
     "layout": "manual",
     "prev": "465daa31-826a-4f9c-8612-f5248561e27a",
     "regions": {
      "6409a8d4-b4b2-41fc-84c8-e136ddceb555": {
       "attrs": {
        "height": 0.4864994026284349,
        "width": 0.4913978494623656,
        "x": 0.0064516129032258064,
        "y": 0.49761146953405017
       },
       "content": {
        "cell": "5dbceeca-6499-4cb0-834d-4db5462bd427",
        "part": "outputs"
       },
       "id": "6409a8d4-b4b2-41fc-84c8-e136ddceb555"
      },
      "8190449a-cc49-4dc9-89e2-79031a7103e4": {
       "attrs": {
        "height": 0.4769414575866189,
        "width": 0.4838709677419355,
        "x": 0.5064516129032258,
        "y": 0.495699880525687
       },
       "content": {
        "cell": "35966131-eebf-4da9-962f-4d4d71000afe",
        "part": "outputs"
       },
       "id": "8190449a-cc49-4dc9-89e2-79031a7103e4"
      },
      "eb015708-540c-4ff8-8d93-880739f5a207": {
       "attrs": {
        "height": 0.47120669056152925,
        "width": 0.989247311827957,
        "x": 0.0032258064516129032,
        "y": 0.010155297491039427
       },
       "content": {
        "cell": "8744ff16-810a-4f78-9d46-f01feb5ce35e",
        "part": "source"
       },
       "id": "eb015708-540c-4ff8-8d93-880739f5a207"
      }
     }
    },
    "99702eec-7996-4128-8b4f-29679d686a6d": {
     "id": "99702eec-7996-4128-8b4f-29679d686a6d",
     "prev": "760681d5-7308-42c1-833a-01ffb8a76cfc",
     "regions": {
      "f020b0ef-f71f-4904-8eb3-05adca2cab3e": {
       "attrs": {
        "height": 1,
        "width": 1,
        "x": 0,
        "y": 0
       },
       "content": {
        "cell": "c67b5de0-d0f8-427e-8b34-0dad203d61d7",
        "part": "source"
       },
       "id": "f020b0ef-f71f-4904-8eb3-05adca2cab3e"
      }
     }
    }
   },
   "themes": {
    "default": "4c5fcccd-eb25-41be-99f3-040a2d43a641",
    "theme": {
     "4c5fcccd-eb25-41be-99f3-040a2d43a641": {
      "backgrounds": {
       "dc7afa04-bf90-40b1-82a5-726e3cff5267": {
        "background-color": "31af15d2-7e15-44c5-ab5e-e04b16a89eff",
        "id": "dc7afa04-bf90-40b1-82a5-726e3cff5267"
       }
      },
      "id": "4c5fcccd-eb25-41be-99f3-040a2d43a641",
      "palette": {
       "19cc588f-0593-49c9-9f4b-e4d7cc113b1c": {
        "id": "19cc588f-0593-49c9-9f4b-e4d7cc113b1c",
        "rgb": [
         252,
         252,
         252
        ]
       },
       "31af15d2-7e15-44c5-ab5e-e04b16a89eff": {
        "id": "31af15d2-7e15-44c5-ab5e-e04b16a89eff",
        "rgb": [
         68,
         68,
         68
        ]
       },
       "50f92c45-a630-455b-aec3-788680ec7410": {
        "id": "50f92c45-a630-455b-aec3-788680ec7410",
        "rgb": [
         197,
         226,
         245
        ]
       },
       "c5cc3653-2ee1-402a-aba2-7caae1da4f6c": {
        "id": "c5cc3653-2ee1-402a-aba2-7caae1da4f6c",
        "rgb": [
         43,
         126,
         184
        ]
       },
       "efa7f048-9acb-414c-8b04-a26811511a21": {
        "id": "efa7f048-9acb-414c-8b04-a26811511a21",
        "rgb": [
         25.118061674008803,
         73.60176211453744,
         107.4819383259912
        ]
       }
      },
      "rules": {
       "a": {
        "color": "19cc588f-0593-49c9-9f4b-e4d7cc113b1c"
       },
       "blockquote": {
        "color": "50f92c45-a630-455b-aec3-788680ec7410",
        "font-size": 3
       },
       "code": {
        "font-family": "Anonymous Pro"
       },
       "h1": {
        "color": "19cc588f-0593-49c9-9f4b-e4d7cc113b1c",
        "font-family": "Merriweather",
        "font-size": 8
       },
       "h2": {
        "color": "19cc588f-0593-49c9-9f4b-e4d7cc113b1c",
        "font-family": "Merriweather",
        "font-size": 6
       },
       "h3": {
        "color": "50f92c45-a630-455b-aec3-788680ec7410",
        "font-family": "Lato",
        "font-size": 5.5
       },
       "h4": {
        "color": "c5cc3653-2ee1-402a-aba2-7caae1da4f6c",
        "font-family": "Lato",
        "font-size": 5
       },
       "h5": {
        "font-family": "Lato"
       },
       "h6": {
        "font-family": "Lato"
       },
       "h7": {
        "font-family": "Lato"
       },
       "li": {
        "color": "50f92c45-a630-455b-aec3-788680ec7410",
        "font-size": 3.25
       },
       "pre": {
        "font-family": "Anonymous Pro",
        "font-size": 4
       }
      },
      "text-base": {
       "color": "19cc588f-0593-49c9-9f4b-e4d7cc113b1c",
       "font-family": "Lato",
       "font-size": 4
      }
     }
    }
   }
  },
  "varInspector": {
   "cols": {
    "lenName": 16,
    "lenType": 16,
    "lenVar": 40
   },
   "kernels_config": {
    "python": {
     "delete_cmd_postfix": "",
     "delete_cmd_prefix": "del ",
     "library": "var_list.py",
     "varRefreshCmd": "print(var_dic_list())"
    },
    "r": {
     "delete_cmd_postfix": ") ",
     "delete_cmd_prefix": "rm(",
     "library": "var_list.r",
     "varRefreshCmd": "cat(var_dic_list()) "
    }
   },
   "types_to_exclude": [
    "module",
    "function",
    "builtin_function_or_method",
    "instance",
    "_Feature"
   ],
   "window_display": false
  },
  "widgets": {
   "application/vnd.jupyter.widget-state+json": {
    "state": {},
    "version_major": 1,
    "version_minor": 0
   }
  }
 },
 "nbformat": 4,
 "nbformat_minor": 2
}
