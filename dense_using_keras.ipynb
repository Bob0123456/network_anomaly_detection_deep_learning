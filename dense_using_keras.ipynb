{
 "cells": [
  {
   "cell_type": "code",
   "execution_count": 1,
   "metadata": {
    "collapsed": true
   },
   "outputs": [],
   "source": [
    "import pandas as pd\n",
    "import numpy as np\n",
    "pd.set_option(\"display.max_rows\",40)\n",
    "%matplotlib inline"
   ]
  },
  {
   "cell_type": "code",
   "execution_count": 2,
   "metadata": {
    "collapsed": true
   },
   "outputs": [],
   "source": [
    "class dataset:\n",
    "    kdd_train_2labels = pd.read_pickle(\"dataset/kdd_train_2labels.pkl\")\n",
    "    kdd_train_2labels_y = pd.read_pickle(\"dataset/kdd_train_2labels_y.pkl\")\n",
    "    \n",
    "    kdd_test_2labels = pd.read_pickle(\"dataset/kdd_test_2labels.pkl\")\n",
    "    kdd_test_2labels_y = pd.read_pickle(\"dataset/kdd_test_2labels_y.pkl\")\n",
    "    "
   ]
  },
  {
   "cell_type": "code",
   "execution_count": 3,
   "metadata": {
    "collapsed": true
   },
   "outputs": [],
   "source": [
    "from sklearn.preprocessing import LabelEncoder\n",
    "\n",
    "le_2labels = LabelEncoder()\n",
    "dataset.y_train_2labels = le_2labels.fit_transform(dataset.kdd_train_2labels_y)\n",
    "dataset.y_test_2labels = le_2labels.transform(dataset.kdd_test_2labels_y)\n"
   ]
  },
  {
   "cell_type": "code",
   "execution_count": 4,
   "metadata": {
    "collapsed": true
   },
   "outputs": [],
   "source": [
    "from itertools import product\n",
    "from sklearn.model_selection import train_test_split\n",
    "\n",
    "class preprocessing:\n",
    "    x_train = dataset.kdd_train_2labels.iloc[:,:-2].values\n",
    "    y_train = np.array(dataset.y_train_2labels)\n",
    "\n",
    "    x_test, y_test = (dataset.kdd_test_2labels.iloc[:,:-2].values, \n",
    "                      np.array(dataset.y_test_2labels))\n",
    "\n",
    "    "
   ]
  },
  {
   "cell_type": "code",
   "execution_count": null,
   "metadata": {},
   "outputs": [
    {
     "name": "stderr",
     "output_type": "stream",
     "text": [
      "Using TensorFlow backend.\n"
     ]
    }
   ],
   "source": [
    "from collections import namedtuple\n",
    "import numpy as np\n",
    "from keras.models import Sequential\n",
    "from keras.layers import Dense, Dropout\n",
    "from keras.layers.normalization import BatchNormalization\n",
    "from keras import optimizers\n",
    "from keras import regularizers\n",
    "\n",
    "class Train:\n",
    "    score = namedtuple(\"score\", ['epoch', 'no_of_features','hidden_layers','train_score', 'test_score'])\n",
    "    #model_detail = namedtuple(\"model_detail\", ['epoch', 'no_of_features','hidden_layers', 'model'])\n",
    "    scores = []\n",
    "    predictions = pd.DataFrame()\n",
    "    #models = []\n",
    "    def execute(x_train, x_test, \n",
    "                y_train, y_test, \n",
    "                input_dim, no_of_features, hidden_layers,\n",
    "                epochs = 1, keep_prob = 0.4):\n",
    "        \n",
    "        print(\"Training for no_of_features: {}, hidden_layer: {}\".format(no_of_features, hidden_layers\n",
    "                                                                        ))\n",
    "        model = Sequential()\n",
    "        model.add(Dense(no_of_features, input_dim=input_dim, activation='relu'))\n",
    "        model.add(Dropout(keep_prob))\n",
    "        model.add(BatchNormalization())\n",
    "        \n",
    "        for i in range(hidden_layers - 1):\n",
    "            model.add(Dense(no_of_features, activation='relu'))\n",
    "            model.add(Dropout(keep_prob))\n",
    "            model.add(BatchNormalization())\n",
    "\n",
    "        \n",
    "        model.add(Dense(1, activation=None))\n",
    "\n",
    "        model.compile(loss='mean_squared_error',\n",
    "                      optimizer=\"Adam\",\n",
    "                      metrics=['accuracy'])\n",
    "\n",
    "        x_train, x_valid, y_train, y_valid = train_test_split(x_train, y_train, test_size=.6)\n",
    "        \n",
    "        model.fit(x_train, y_train,\n",
    "                  validation_data=(x_valid, y_valid),\n",
    "                  epochs=epochs,\n",
    "                  batch_size=128,\n",
    "                  verbose = 0)\n",
    "        \n",
    "        curr_score_valid = model.evaluate(x_valid, y_valid) #, batch_size=128)\n",
    "        curr_score_test = model.evaluate(x_test, y_test) #, batch_size=128)\n",
    "        pred_value = model.predict(x_test)\n",
    "        \n",
    "        print(\"\\n Train Accuracy: {}, Test Accuracy: {}\".format(curr_score_valid[1], curr_score_test[1])  )\n",
    "        Train.scores.append(Train.score(epochs,no_of_features,hidden_layers,curr_score_valid[1], curr_score_test[1]))\n",
    "        #Train.models.append(Train.model_detail(epochs,no_of_features,hidden_layers,model))\n",
    "        y_pred = pred_value[:,-1]\n",
    "        y_pred[y_pred >= pred_value[:,-1].mean()] = 1\n",
    "        y_pred[y_pred < pred_value[:,-1].mean()] = 0\n",
    "        curr_pred = pd.DataFrame({\"{}_{}_{}\".format(epochs,f,h):y_pred},)\n",
    "        Train.predictions = pd.concat([Train.predictions, curr_pred], axis = 1)\n",
    "                "
   ]
  },
  {
   "cell_type": "code",
   "execution_count": null,
   "metadata": {
    "scrolled": false
   },
   "outputs": [
    {
     "name": "stdout",
     "output_type": "stream",
     "text": [
      "Training for no_of_features: 4, hidden_layer: 2\n",
      "21856/22544 [============================>.] - ETA: 0s\n",
      " Train Accuracy: 0.5343723539373413, Test Accuracy: 0.4308463449254791\n",
      "Training for no_of_features: 4, hidden_layer: 4\n",
      "22112/22544 [============================>.] - ETA: 0s\n",
      " Train Accuracy: 0.4642516934801016, Test Accuracy: 0.5489265436479773\n",
      "Training for no_of_features: 4, hidden_layer: 6\n",
      "22176/22544 [============================>.] - ETA: 0s\n",
      " Train Accuracy: 0.5344252751905165, Test Accuracy: 0.43075762952448543\n",
      "Training for no_of_features: 4, hidden_layer: 50\n",
      "75584/75584 [==============================] - 11s    \n",
      "22336/22544 [============================>.] - ETA: 0s\n",
      " Train Accuracy: 0.46413262066045724, Test Accuracy: 0.5692423704755145\n",
      "Training for no_of_features: 4, hidden_layer: 100\n",
      "22528/22544 [============================>.] - ETA: 0s\n",
      " Train Accuracy: 0.5346369602032176, Test Accuracy: 0.43075762952448543\n",
      "Training for no_of_features: 8, hidden_layer: 2\n",
      "21856/22544 [============================>.] - ETA: 0s\n",
      " Train Accuracy: 0.46554826418289585, Test Accuracy: 0.5692423704755145\n",
      "Training for no_of_features: 8, hidden_layer: 4\n",
      "22544/22544 [==============================] - 1s     \n",
      "\n",
      " Train Accuracy: 0.4659980948348857, Test Accuracy: 0.569153655074521\n",
      "Training for no_of_features: 8, hidden_layer: 6\n",
      "21952/22544 [============================>.] - ETA: 0s\n",
      " Train Accuracy: 0.14370766299745977, Test Accuracy: 0.32824698367636623\n",
      "Training for no_of_features: 8, hidden_layer: 50\n",
      "22368/22544 [============================>.] - ETA: 0s\n",
      " Train Accuracy: 0.5358012277730737, Test Accuracy: 0.43075762952448543\n",
      "Training for no_of_features: 8, hidden_layer: 100\n",
      "22432/22544 [============================>.] - ETA: 0s\n",
      " Train Accuracy: 0.4674798899237934, Test Accuracy: 0.5692423704755145\n",
      "Training for no_of_features: 16, hidden_layer: 2\n",
      "22304/22544 [============================>.] - ETA: 0s\n",
      " Train Accuracy: 0.5668395427603725, Test Accuracy: 0.4661994322214336\n",
      "Training for no_of_features: 16, hidden_layer: 4\n",
      "75584/75584 [==============================] - 6s     \n",
      "22144/22544 [============================>.] - ETA: 0s\n",
      " Train Accuracy: 0.46239944961896695, Test Accuracy: 0.5626330731014905\n",
      "Training for no_of_features: 16, hidden_layer: 6\n",
      "22496/22544 [============================>.] - ETA: 0s\n",
      " Train Accuracy: 0.5281011854360711, Test Accuracy: 0.4304914833215046\n",
      "Training for no_of_features: 16, hidden_layer: 50\n",
      "27968/75584 [==========>...................] - ETA: 10s"
     ]
    }
   ],
   "source": [
    "features_arr = [4, 8, 16, 32, 64, 128, 256, 1024]\n",
    "hidden_layers_arr = [2, 4, 6, 50, 100]\n",
    "\n",
    "\n",
    "for f, h in product(features_arr, hidden_layers_arr):\n",
    "    Train.execute(preprocessing.x_train, preprocessing.x_test, \n",
    "                  preprocessing.y_train, preprocessing.y_test, \n",
    "                 122, f, h)"
   ]
  },
  {
   "cell_type": "code",
   "execution_count": null,
   "metadata": {},
   "outputs": [],
   "source": [
    "pd.DataFrame(Train.scores)"
   ]
  },
  {
   "cell_type": "code",
   "execution_count": null,
   "metadata": {
    "collapsed": true
   },
   "outputs": [],
   "source": [
    "#for m in Train.models:\n",
    "#    m.model.save(\"dataset/keras_model_epoch_{}_no_of_features_{}_hidden_layers_{}\".format(m.epoch,\n",
    "#                                                                                         m.no_of_features,\n",
    "#                                                                                         m.hidden_layers))"
   ]
  },
  {
   "cell_type": "code",
   "execution_count": null,
   "metadata": {
    "collapsed": true
   },
   "outputs": [],
   "source": [
    "Train.predictions.to_pickle(\"dataset/dense_only_predictions.pkl\")\n",
    "pd.DataFrame(Train.scores).to_pickle(\"dataset/dense_only_scores.pkl\")"
   ]
  }
 ],
 "metadata": {
  "_draft": {
   "nbviewer_url": "https://gist.github.com/0f6c9677d5f316c57d9d8bd6e0fe8850"
  },
  "anaconda-cloud": {},
  "gist": {
   "data": {
    "description": "Final Hyper parameter tuning",
    "public": false
   },
   "id": "0f6c9677d5f316c57d9d8bd6e0fe8850"
  },
  "kernelspec": {
   "display_name": "Python 3",
   "language": "python",
   "name": "python3"
  },
  "language_info": {
   "codemirror_mode": {
    "name": "ipython",
    "version": 3
   },
   "file_extension": ".py",
   "mimetype": "text/x-python",
   "name": "python",
   "nbconvert_exporter": "python",
   "pygments_lexer": "ipython3",
   "version": "3.6.0"
  }
 },
 "nbformat": 4,
 "nbformat_minor": 2
}
