{
 "cells": [
  {
   "cell_type": "markdown",
   "metadata": {},
   "source": [
    "# Read Data Sample"
   ]
  },
  {
   "cell_type": "code",
   "execution_count": 14,
   "metadata": {
    "collapsed": true
   },
   "outputs": [],
   "source": [
    "import pandas as pd\n",
    "import numpy as np\n",
    "pd.set_option(\"display.max_rows\",15)\n",
    "%matplotlib inline"
   ]
  },
  {
   "cell_type": "code",
   "execution_count": 15,
   "metadata": {
    "collapsed": true
   },
   "outputs": [],
   "source": [
    "class dataset:\n",
    "    kdd_train_2labels = pd.read_pickle(\"dataset/kdd_train_2labels.pkl\")\n",
    "    kdd_test_2labels = pd.read_pickle(\"dataset/kdd_test_2labels.pkl\")\n",
    "    \n",
    "    kdd_train_5labels = pd.read_pickle(\"dataset/kdd_train_5labels.pkl\")\n",
    "    kdd_test_5labels = pd.read_pickle(\"dataset/kdd_test_5labels.pkl\")\n",
    "    "
   ]
  },
  {
   "cell_type": "code",
   "execution_count": 16,
   "metadata": {},
   "outputs": [
    {
     "data": {
      "text/plain": [
       "(125973, 123)"
      ]
     },
     "execution_count": 16,
     "metadata": {},
     "output_type": "execute_result"
    }
   ],
   "source": [
    "dataset.kdd_train_2labels.shape"
   ]
  },
  {
   "cell_type": "code",
   "execution_count": 17,
   "metadata": {},
   "outputs": [
    {
     "data": {
      "text/plain": [
       "(22544, 123)"
      ]
     },
     "execution_count": 17,
     "metadata": {},
     "output_type": "execute_result"
    }
   ],
   "source": [
    "dataset.kdd_test_2labels.shape"
   ]
  },
  {
   "cell_type": "code",
   "execution_count": 18,
   "metadata": {
    "collapsed": true
   },
   "outputs": [],
   "source": [
    "class preprocess:\n",
    "    \n",
    "    output_columns_2labels = ['is_Attack','is_Normal']\n",
    "\n",
    "    from sklearn import model_selection as ms\n",
    "    from sklearn import preprocessing as pp\n",
    "\n",
    "    x_input = dataset.kdd_train_2labels.drop(output_columns_2labels, axis = 1)\n",
    "    y_output = dataset.kdd_train_2labels.loc[:,output_columns_2labels]\n",
    "\n",
    "    x_test_input = dataset.kdd_test_2labels.drop(output_columns_2labels, axis = 1)\n",
    "    y_test = dataset.kdd_test_2labels.loc[:,output_columns_2labels]\n",
    "\n",
    "\n",
    "    ss = pp.StandardScaler()\n",
    "\n",
    "    x_train = ss.fit_transform(x_input)\n",
    "    x_test = ss.transform(x_test_input)\n",
    "\n",
    "    y_train = y_output.values\n",
    "\n",
    "    x_valid, x_test, y_valid, y_test = ms.train_test_split(x_test, \n",
    "                                  y_test, \n",
    "                                  test_size=0.4)\n"
   ]
  },
  {
   "cell_type": "code",
   "execution_count": 19,
   "metadata": {
    "collapsed": true
   },
   "outputs": [],
   "source": [
    "import tensorflow as tf\n"
   ]
  },
  {
   "cell_type": "code",
   "execution_count": 7,
   "metadata": {
    "collapsed": true
   },
   "outputs": [],
   "source": [
    "class network(object):\n",
    "    \n",
    "    input_dim = 121\n",
    "    classes = 2\n",
    "    hidden_encoder_dim = 40\n",
    "    hidden_layers = 1\n",
    "    latent_dim = 10\n",
    "\n",
    "    hidden_decoder_dim = 40\n",
    "    lam = 0.01\n",
    "    \n",
    "    def __init__(self, classes, hidden_layers, num_of_features):\n",
    "        self.classes = classes\n",
    "        self.hidden_layers = hidden_layers\n",
    "        self.latent_dim = num_of_features\n",
    "            \n",
    "    def build_layers(self):\n",
    "        tf.reset_default_graph()\n",
    "        #learning_rate = tf.Variable(initial_value=0.001)\n",
    "\n",
    "        with tf.variable_scope(\"Input\"):\n",
    "            self.x = tf.placeholder(\"float\", shape=[None, input_dim])\n",
    "            self.y_ = tf.placeholder(\"float\", shape=[None, classes])\n",
    "            self.keep_prob = tf.placeholder(\"float\")\n",
    "        \n",
    "        with tf.variable_scope(\"Layer_Encoder\"):\n",
    "\n",
    "            hidden_encoder = tf.layers.dense(self.x, hidden_encoder_dim, activation = tf.nn.relu)\n",
    "            for h in range(hidden_layers - 1):\n",
    "                hidden_encoder = tf.layers.dense(hidden_encoder, hidden_encoder_dim, activation = tf.nn.relu)\n",
    "            \n",
    "        with tf.variable_scope(\"Layer_Mean\"):\n",
    "            mu_encoder = tf.layers.dense(hidden_encoder, latent_dim, activation = None)\n",
    "\n",
    "        with tf.variable_scope(\"Layer_Variance\"):\n",
    "            logvar_encoder = tf.layers.dense(hidden_encoder, latent_dim, activation = None)\n",
    "\n",
    "        with tf.variable_scope(\"Sampling_Distribution\"):\n",
    "            # Sample epsilon\n",
    "            epsilon = tf.random_normal(tf.shape(logvar_encoder), name='epsilon')\n",
    "\n",
    "            # Sample latent variable\n",
    "            std_encoder = tf.exp(0.5 * logvar_encoder)\n",
    "            z = mu_encoder + tf.multiply(std_encoder, epsilon)\n",
    "            tf.summary.histogram(\"Sample_Distribution\", z)\n",
    "\n",
    "        with tf.variable_scope(\"Layer_Decoder\"):\n",
    "            hidden_decoder = tf.layers.dense(z, hidden_decoder_dim, activation = tf.nn.relu)\n",
    "            for h in range(hidden_layers - 1):\n",
    "                hidden_decoder = tf.layers.dense(hidden_decoder, hidden_decoder_dim, activation = tf.nn.relu)\n",
    "\n",
    "        with tf.variable_scope(\"Layer_Reconstruction\"):\n",
    "            x_hat = tf.layers.dense(hidden_decoder, input_dim, activation = tf.nn.relu)\n",
    "            \n",
    "        with tf.variable_scope(\"Layer_Dense_Hidden\"):\n",
    "            hidden_output = tf.layers.dense(z,latent_dim, activation=tf.nn.relu)\n",
    "\n",
    "        with tf.variable_scope(\"Layer_Dense_Softmax\"):\n",
    "            y = tf.layers.dense(z, classes, activation=tf.nn.softmax)\n",
    "\n",
    "        with tf.variable_scope(\"Loss\"):\n",
    "            BCE = tf.reduce_mean(tf.nn.sigmoid_cross_entropy_with_logits(logits=x_hat, labels=self.x), reduction_indices=1)\n",
    "            KLD = -0.5 * tf.reduce_mean(1 + logvar_encoder - tf.pow(mu_encoder, 2) - tf.exp(logvar_encoder), reduction_indices=1)\n",
    "            softmax_loss = tf.reduce_mean(tf.nn.softmax_cross_entropy_with_logits(labels = self.y_, logits = y))\n",
    "\n",
    "            loss = tf.reduce_mean(BCE + KLD + softmax_loss)\n",
    "\n",
    "            self.regularized_loss = tf.abs(loss, name = \"Regularized_loss\")\n",
    "            correct_prediction = tf.equal(tf.argmax(self.y_, 1), tf.argmax(y, 1))\n",
    "            self.tf_accuracy = tf.reduce_mean(tf.cast(correct_prediction, tf.float32), name = \"Accuracy\")\n",
    "\n",
    "        with tf.variable_scope(\"Optimizer\"):\n",
    "            learning_rate=0.01\n",
    "            train_op = tf.train.AdamOptimizer(learning_rate).minimize(self.regularized_loss)\n",
    "            \n",
    "        # add op for merging summary\n",
    "        self.summary_op = tf.summary.merge_all()\n",
    "        self.pred = tf.argmax(y, 1)\n",
    "        self.actual = tf.argmax(self.y_, 1)\n",
    "\n",
    "        # add Saver ops\n",
    "        # saver = tf.train.Saver()\n",
    "        "
   ]
  },
  {
   "cell_type": "code",
   "execution_count": 8,
   "metadata": {
    "collapsed": true,
    "scrolled": false
   },
   "outputs": [],
   "source": [
    "class Train:    \n",
    "    def train(epochs, net):\n",
    "        batch_iterations = 100\n",
    "\n",
    "        batch_indices = np.array_split(np.arange(preprocess.x_train.shape[0]), \n",
    "                                   batch_iterations)\n",
    "        with tf.Session() as sess:\n",
    "            summary_writer_train = tf.summary.FileWriter('./logs/kdd/VAE/training', graph=sess.graph)\n",
    "            summary_writer_valid = tf.summary.FileWriter('./logs/kdd/VAE/validation')\n",
    "\n",
    "            sess.run(tf.global_variables_initializer())\n",
    "\n",
    "            for epoch in range(0, epochs):\n",
    "                for i in batch_indices:\n",
    "                    _, train_loss, summary_str = sess.run([net.optimizer, \n",
    "                                                           net.regularized_loss, \n",
    "                                                           net.summary_op],\n",
    "                                                          feed_dict={net.x: preprocess.x_train[i,:], \n",
    "                                                                     net.y_: preprocess.y_train[i,:], \n",
    "                                                                     net.keep_prob:0.8})\n",
    "                    summary_writer_train.add_summary(summary_str, epoch)\n",
    "\n",
    "\n",
    "                accuracy, summary_str = sess.run([net.tf_accuracy, net.summary_op], \n",
    "                                                      feed_dict={net.x: preprocess.x_valid, \n",
    "                                                                 net.y_: preprocess.y_valid, \n",
    "                                                                 net.keep_prob:1})\n",
    "                summary_writer_valid.add_summary(summary_str, epoch)\n",
    "\n",
    "                if epoch % 10 == 0:\n",
    "                    print(\"Step {} | Training Loss: {:.4f} | Validation Accuracy: {:.4f}\".format(epoch, train_loss, accuracy))\n",
    "\n",
    "            accuracy, pred_value, actual_value = sess.run([net.tf_accuracy, \n",
    "                                                           net.pred, \n",
    "                                                           net.actual], \n",
    "                                                          feed_dict={net.x: preprocess.x_test, \n",
    "                                                                     net.y_: preprocess.y_test, \n",
    "                                                                     net.keep_prob:1})\n",
    "\n",
    "\n",
    "            print(\"Accuracy on Test data: {}\".format(accuracy))\n",
    "            return accuracy, pred_value, actual_value"
   ]
  },
  {
   "cell_type": "code",
   "execution_count": 9,
   "metadata": {
    "scrolled": false
   },
   "outputs": [
    {
     "name": "stdout",
     "output_type": "stream",
     "text": [
      "Current Layer Attributes - epochs:40 hidden layers:2 features count:4\n",
      "Step 0 | Training Loss: 0.7344 | Validation Accuracy: 0.7362\n",
      "Step 10 | Training Loss: 0.1223 | Validation Accuracy: 0.7997\n",
      "Step 20 | Training Loss: 0.1391 | Validation Accuracy: 0.8415\n",
      "Step 30 | Training Loss: 0.1309 | Validation Accuracy: 0.8580\n",
      "Accuracy on Test data: 0.7179293632507324\n",
      "Current Layer Attributes - epochs:40 hidden layers:2 features count:8\n",
      "Step 0 | Training Loss: 0.2584 | Validation Accuracy: 0.6944\n",
      "Step 10 | Training Loss: 0.1443 | Validation Accuracy: 0.7798\n",
      "Step 20 | Training Loss: 0.1634 | Validation Accuracy: 0.8222\n",
      "Step 30 | Training Loss: 0.1166 | Validation Accuracy: 0.8502\n",
      "Accuracy on Test data: 0.7103886008262634\n",
      "Current Layer Attributes - epochs:40 hidden layers:2 features count:16\n",
      "Step 0 | Training Loss: 0.0911 | Validation Accuracy: 0.6500\n",
      "Step 10 | Training Loss: 0.1064 | Validation Accuracy: 0.7824\n",
      "Step 20 | Training Loss: 0.1576 | Validation Accuracy: 0.8338\n",
      "Step 30 | Training Loss: 0.1343 | Validation Accuracy: 0.8752\n",
      "Accuracy on Test data: 0.7230748534202576\n",
      "Current Layer Attributes - epochs:40 hidden layers:2 features count:32\n",
      "Step 0 | Training Loss: 0.2199 | Validation Accuracy: 0.6259\n",
      "Step 10 | Training Loss: 0.1761 | Validation Accuracy: 0.7958\n",
      "Step 20 | Training Loss: 0.1627 | Validation Accuracy: 0.8589\n",
      "Step 30 | Training Loss: 0.1576 | Validation Accuracy: 0.9056\n",
      "Accuracy on Test data: 0.7378460168838501\n",
      "Current Layer Attributes - epochs:40 hidden layers:2 features count:64\n",
      "Step 0 | Training Loss: 0.3188 | Validation Accuracy: 0.6107\n",
      "Step 10 | Training Loss: 0.1840 | Validation Accuracy: 0.7956\n",
      "Step 20 | Training Loss: 0.1661 | Validation Accuracy: 0.8971\n",
      "Step 30 | Training Loss: 0.1164 | Validation Accuracy: 0.9343\n",
      "Accuracy on Test data: 0.7476046681404114\n",
      "Current Layer Attributes - epochs:40 hidden layers:2 features count:128\n",
      "Step 0 | Training Loss: 0.2317 | Validation Accuracy: 0.5831\n",
      "Step 10 | Training Loss: 0.2018 | Validation Accuracy: 0.8382\n",
      "Step 20 | Training Loss: 0.1741 | Validation Accuracy: 0.9285\n",
      "Step 30 | Training Loss: 0.1003 | Validation Accuracy: 0.9506\n",
      "Accuracy on Test data: 0.7616660594940186\n",
      "Current Layer Attributes - epochs:40 hidden layers:4 features count:4\n",
      "Step 0 | Training Loss: 0.8961 | Validation Accuracy: 0.5045\n",
      "Step 10 | Training Loss: 0.7868 | Validation Accuracy: 0.5359\n",
      "Step 20 | Training Loss: 0.7759 | Validation Accuracy: 0.5359\n",
      "Step 30 | Training Loss: 0.7653 | Validation Accuracy: 0.5359\n",
      "Accuracy on Test data: 0.43075764179229736\n",
      "Current Layer Attributes - epochs:40 hidden layers:4 features count:8\n",
      "Step 0 | Training Loss: 0.8986 | Validation Accuracy: 0.5050\n",
      "Step 10 | Training Loss: 0.7918 | Validation Accuracy: 0.5359\n",
      "Step 20 | Training Loss: 0.7750 | Validation Accuracy: 0.5359\n",
      "Step 30 | Training Loss: 0.7675 | Validation Accuracy: 0.5359\n",
      "Accuracy on Test data: 0.43075764179229736\n",
      "Current Layer Attributes - epochs:40 hidden layers:4 features count:16\n",
      "Step 0 | Training Loss: 0.8766 | Validation Accuracy: 0.5083\n",
      "Step 10 | Training Loss: 0.7885 | Validation Accuracy: 0.5359\n",
      "Step 20 | Training Loss: 0.7759 | Validation Accuracy: 0.5359\n",
      "Step 30 | Training Loss: 0.7691 | Validation Accuracy: 0.5359\n",
      "Accuracy on Test data: 0.43075764179229736\n",
      "Current Layer Attributes - epochs:40 hidden layers:4 features count:32\n",
      "Step 0 | Training Loss: 0.9104 | Validation Accuracy: 0.5118\n",
      "Step 10 | Training Loss: 0.7877 | Validation Accuracy: 0.5359\n",
      "Step 20 | Training Loss: 0.7753 | Validation Accuracy: 0.5359\n",
      "Step 30 | Training Loss: 0.7681 | Validation Accuracy: 0.5359\n",
      "Accuracy on Test data: 0.43075764179229736\n",
      "Current Layer Attributes - epochs:40 hidden layers:4 features count:64\n",
      "Step 0 | Training Loss: 0.8981 | Validation Accuracy: 0.5109\n",
      "Step 10 | Training Loss: 0.7878 | Validation Accuracy: 0.5357\n",
      "Step 20 | Training Loss: 0.7739 | Validation Accuracy: 0.5358\n",
      "Step 30 | Training Loss: 0.7701 | Validation Accuracy: 0.5359\n",
      "Accuracy on Test data: 0.4309350550174713\n",
      "Current Layer Attributes - epochs:40 hidden layers:4 features count:128\n",
      "Step 0 | Training Loss: 0.9096 | Validation Accuracy: 0.5117\n",
      "Step 10 | Training Loss: 0.7866 | Validation Accuracy: 0.5329\n",
      "Step 20 | Training Loss: 0.7770 | Validation Accuracy: 0.5344\n",
      "Step 30 | Training Loss: 0.7652 | Validation Accuracy: 0.5357\n",
      "Accuracy on Test data: 0.4328868091106415\n",
      "Current Layer Attributes - epochs:40 hidden layers:6 features count:4\n",
      "Step 0 | Training Loss: 0.8539 | Validation Accuracy: 0.5119\n",
      "Step 10 | Training Loss: 0.7950 | Validation Accuracy: 0.5359\n",
      "Step 20 | Training Loss: 0.7868 | Validation Accuracy: 0.5359\n",
      "Step 30 | Training Loss: 0.7745 | Validation Accuracy: 0.5359\n",
      "Accuracy on Test data: 0.43075764179229736\n",
      "Current Layer Attributes - epochs:40 hidden layers:6 features count:8\n",
      "Step 0 | Training Loss: 0.8688 | Validation Accuracy: 0.5080\n",
      "Step 10 | Training Loss: 0.7936 | Validation Accuracy: 0.5359\n",
      "Step 20 | Training Loss: 0.7936 | Validation Accuracy: 0.5359\n",
      "Step 30 | Training Loss: 0.7774 | Validation Accuracy: 0.5359\n",
      "Accuracy on Test data: 0.43075764179229736\n",
      "Current Layer Attributes - epochs:40 hidden layers:6 features count:16\n",
      "Step 0 | Training Loss: 0.8957 | Validation Accuracy: 0.5083\n",
      "Step 10 | Training Loss: 0.7901 | Validation Accuracy: 0.5359\n",
      "Step 20 | Training Loss: 0.7865 | Validation Accuracy: 0.5359\n",
      "Step 30 | Training Loss: 0.7742 | Validation Accuracy: 0.5359\n",
      "Accuracy on Test data: 0.43075764179229736\n",
      "Current Layer Attributes - epochs:40 hidden layers:6 features count:32\n",
      "Step 0 | Training Loss: 0.8725 | Validation Accuracy: 0.5114\n",
      "Step 10 | Training Loss: 0.8001 | Validation Accuracy: 0.5359\n",
      "Step 20 | Training Loss: 0.7826 | Validation Accuracy: 0.5358\n",
      "Step 30 | Training Loss: 0.7749 | Validation Accuracy: 0.5359\n",
      "Accuracy on Test data: 0.43075764179229736\n",
      "Current Layer Attributes - epochs:40 hidden layers:6 features count:64\n",
      "Step 0 | Training Loss: 0.8820 | Validation Accuracy: 0.5080\n",
      "Step 10 | Training Loss: 0.7964 | Validation Accuracy: 0.5359\n",
      "Step 20 | Training Loss: 0.7806 | Validation Accuracy: 0.5358\n",
      "Step 30 | Training Loss: 0.7736 | Validation Accuracy: 0.5358\n",
      "Accuracy on Test data: 0.4308907091617584\n",
      "Current Layer Attributes - epochs:40 hidden layers:6 features count:128\n",
      "Step 0 | Training Loss: 0.8765 | Validation Accuracy: 0.5094\n",
      "Step 10 | Training Loss: 0.7872 | Validation Accuracy: 0.5342\n",
      "Step 20 | Training Loss: 0.7885 | Validation Accuracy: 0.5349\n",
      "Step 30 | Training Loss: 0.7758 | Validation Accuracy: 0.5354\n",
      "Accuracy on Test data: 0.4323101341724396\n"
     ]
    }
   ],
   "source": [
    "import itertools\n",
    "import collections\n",
    "class Hyperparameters:\n",
    "    features_arr = [4, 8, 16, 32, 64, 128]\n",
    "    hidden_layers_arr = [2, 4, 6]\n",
    "    epochs = [40]\n",
    "    result = collections.namedtuple(\"result\", [\"epochs\", \"hidden_layers\", \"feature_count\",\n",
    "                                  \"accuracy\"])\n",
    "    results = []\n",
    "    best_acc = 0\n",
    "    for e, h, f in itertools.product(epochs, hidden_layers_arr, features_arr):\n",
    "        print(\"Current Layer Attributes - epochs:{} hidden layers:{} features count:{}\".format(e,h,f))\n",
    "        n = network(2,h,f)\n",
    "        n.build_layers()\n",
    "        acc, pred, actual = Train.train(e, n)\n",
    "        if acc > best_acc:\n",
    "            best_acc = acc\n",
    "            pred_value = pred\n",
    "            actual_value = actual\n",
    "        results.append(result(e, h, f,acc))"
   ]
  },
  {
   "cell_type": "code",
   "execution_count": 10,
   "metadata": {
    "collapsed": true
   },
   "outputs": [],
   "source": [
    "df_results = pd.DataFrame(Hyperparameters.results)"
   ]
  },
  {
   "cell_type": "code",
   "execution_count": 13,
   "metadata": {},
   "outputs": [
    {
     "data": {
      "text/html": [
       "<div>\n",
       "<table border=\"1\" class=\"dataframe\">\n",
       "  <thead>\n",
       "    <tr style=\"text-align: right;\">\n",
       "      <th></th>\n",
       "      <th>epochs</th>\n",
       "      <th>hidden_layers</th>\n",
       "      <th>feature_count</th>\n",
       "      <th>accuracy</th>\n",
       "    </tr>\n",
       "  </thead>\n",
       "  <tbody>\n",
       "    <tr>\n",
       "      <th>0</th>\n",
       "      <td>40</td>\n",
       "      <td>2</td>\n",
       "      <td>4</td>\n",
       "      <td>0.717929</td>\n",
       "    </tr>\n",
       "    <tr>\n",
       "      <th>1</th>\n",
       "      <td>40</td>\n",
       "      <td>2</td>\n",
       "      <td>8</td>\n",
       "      <td>0.710389</td>\n",
       "    </tr>\n",
       "    <tr>\n",
       "      <th>2</th>\n",
       "      <td>40</td>\n",
       "      <td>2</td>\n",
       "      <td>16</td>\n",
       "      <td>0.723075</td>\n",
       "    </tr>\n",
       "    <tr>\n",
       "      <th>3</th>\n",
       "      <td>40</td>\n",
       "      <td>2</td>\n",
       "      <td>32</td>\n",
       "      <td>0.737846</td>\n",
       "    </tr>\n",
       "    <tr>\n",
       "      <th>4</th>\n",
       "      <td>40</td>\n",
       "      <td>2</td>\n",
       "      <td>64</td>\n",
       "      <td>0.747605</td>\n",
       "    </tr>\n",
       "    <tr>\n",
       "      <th>5</th>\n",
       "      <td>40</td>\n",
       "      <td>2</td>\n",
       "      <td>128</td>\n",
       "      <td>0.761666</td>\n",
       "    </tr>\n",
       "    <tr>\n",
       "      <th>6</th>\n",
       "      <td>40</td>\n",
       "      <td>4</td>\n",
       "      <td>4</td>\n",
       "      <td>0.430758</td>\n",
       "    </tr>\n",
       "    <tr>\n",
       "      <th>...</th>\n",
       "      <td>...</td>\n",
       "      <td>...</td>\n",
       "      <td>...</td>\n",
       "      <td>...</td>\n",
       "    </tr>\n",
       "    <tr>\n",
       "      <th>11</th>\n",
       "      <td>40</td>\n",
       "      <td>4</td>\n",
       "      <td>128</td>\n",
       "      <td>0.432887</td>\n",
       "    </tr>\n",
       "    <tr>\n",
       "      <th>12</th>\n",
       "      <td>40</td>\n",
       "      <td>6</td>\n",
       "      <td>4</td>\n",
       "      <td>0.430758</td>\n",
       "    </tr>\n",
       "    <tr>\n",
       "      <th>13</th>\n",
       "      <td>40</td>\n",
       "      <td>6</td>\n",
       "      <td>8</td>\n",
       "      <td>0.430758</td>\n",
       "    </tr>\n",
       "    <tr>\n",
       "      <th>14</th>\n",
       "      <td>40</td>\n",
       "      <td>6</td>\n",
       "      <td>16</td>\n",
       "      <td>0.430758</td>\n",
       "    </tr>\n",
       "    <tr>\n",
       "      <th>15</th>\n",
       "      <td>40</td>\n",
       "      <td>6</td>\n",
       "      <td>32</td>\n",
       "      <td>0.430758</td>\n",
       "    </tr>\n",
       "    <tr>\n",
       "      <th>16</th>\n",
       "      <td>40</td>\n",
       "      <td>6</td>\n",
       "      <td>64</td>\n",
       "      <td>0.430891</td>\n",
       "    </tr>\n",
       "    <tr>\n",
       "      <th>17</th>\n",
       "      <td>40</td>\n",
       "      <td>6</td>\n",
       "      <td>128</td>\n",
       "      <td>0.432310</td>\n",
       "    </tr>\n",
       "  </tbody>\n",
       "</table>\n",
       "<p>18 rows × 4 columns</p>\n",
       "</div>"
      ],
      "text/plain": [
       "    epochs  hidden_layers  feature_count  accuracy\n",
       "0       40              2              4  0.717929\n",
       "1       40              2              8  0.710389\n",
       "2       40              2             16  0.723075\n",
       "3       40              2             32  0.737846\n",
       "4       40              2             64  0.747605\n",
       "5       40              2            128  0.761666\n",
       "6       40              4              4  0.430758\n",
       "..     ...            ...            ...       ...\n",
       "11      40              4            128  0.432887\n",
       "12      40              6              4  0.430758\n",
       "13      40              6              8  0.430758\n",
       "14      40              6             16  0.430758\n",
       "15      40              6             32  0.430758\n",
       "16      40              6             64  0.430891\n",
       "17      40              6            128  0.432310\n",
       "\n",
       "[18 rows x 4 columns]"
      ]
     },
     "execution_count": 13,
     "metadata": {},
     "output_type": "execute_result"
    }
   ],
   "source": [
    "df_results"
   ]
  },
  {
   "cell_type": "code",
   "execution_count": 11,
   "metadata": {
    "collapsed": true
   },
   "outputs": [],
   "source": [
    "import numpy as np\n",
    "import matplotlib.pyplot as plt\n",
    "\n",
    "def plot_confusion_matrix(cm, classes,\n",
    "                          normalize=False,\n",
    "                          title='Confusion matrix',\n",
    "                          cmap=plt.cm.Blues):\n",
    "    \"\"\"\n",
    "    This function prints and plots the confusion matrix.\n",
    "    Normalization can be applied by setting `normalize=True`.\n",
    "    \"\"\"\n",
    "    np.set_printoptions(precision=4)\n",
    "\n",
    "    plt.imshow(cm, interpolation='nearest', cmap=cmap)\n",
    "    plt.title(title)\n",
    "    plt.colorbar()\n",
    "    tick_marks = np.arange(len(classes))\n",
    "    plt.xticks(tick_marks, classes, rotation=45)\n",
    "    plt.yticks(tick_marks, classes)\n",
    "\n",
    "    if normalize:\n",
    "        cm = cm.astype('float') / cm.sum(axis=1)[:, np.newaxis]\n",
    "        print(\"Normalized confusion matrix\")\n",
    "    else:\n",
    "        print('Confusion matrix, without normalization')\n",
    "\n",
    "    print(cm)\n",
    "\n",
    "    thresh = cm.max() / 2.\n",
    "    for i, j in itertools.product(range(cm.shape[0]), range(cm.shape[1])):\n",
    "        plt.text(j, i, cm[i, j].round(4),\n",
    "                 horizontalalignment=\"center\",\n",
    "                 color=\"white\" if cm[i, j] > thresh else \"black\")\n",
    "\n",
    "    plt.tight_layout()\n",
    "    plt.ylabel('True label')\n",
    "    plt.xlabel('Predicted label')"
   ]
  },
  {
   "cell_type": "code",
   "execution_count": 12,
   "metadata": {},
   "outputs": [
    {
     "name": "stdout",
     "output_type": "stream",
     "text": [
      "Normalized confusion matrix\n",
      "[[ 0.6347  0.3653]\n",
      " [ 0.0705  0.9295]]\n"
     ]
    },
    {
     "data": {
      "image/png": "[encoded data removed]",
      "text/plain": [
       "<matplotlib.figure.Figure at 0x7fc17d212f28>"
      ]
     },
     "metadata": {},
     "output_type": "display_data"
    }
   ],
   "source": [
    "from sklearn.metrics import confusion_matrix\n",
    "cm_2labels = confusion_matrix(y_pred = Hyperparameters.pred_value, y_true = Hyperparameters.actual_value)\n",
    "plt.figure(figsize=[6,6])\n",
    "plot_confusion_matrix(cm_2labels, preprocess.output_columns_2labels, normalize = True)"
   ]
  },
  {
   "cell_type": "code",
   "execution_count": null,
   "metadata": {
    "collapsed": true
   },
   "outputs": [],
   "source": []
  }
 ],
 "metadata": {
  "_draft": {
   "nbviewer_url": "https://gist.github.com/7d1ace18a82178e15ece8fc5252fce88"
  },
  "gist": {
   "data": {
    "description": "Hyper parameter tuning",
    "public": false
   },
   "id": "7d1ace18a82178e15ece8fc5252fce88"
  },
  "kernelspec": {
   "display_name": "Python [default]",
   "language": "python",
   "name": "python3"
  },
  "language_info": {
   "codemirror_mode": {
    "name": "ipython",
    "version": 3
   },
   "file_extension": ".py",
   "mimetype": "text/x-python",
   "name": "python",
   "nbconvert_exporter": "python",
   "pygments_lexer": "ipython3",
   "version": "3.5.3"
  }
 },
 "nbformat": 4,
 "nbformat_minor": 2
}
