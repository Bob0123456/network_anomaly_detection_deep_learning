{
 "cells": [
  {
   "cell_type": "code",
   "execution_count": 1,
   "metadata": {
    "ExecuteTime": {
     "end_time": "2017-06-19T22:07:28.383531Z",
     "start_time": "2017-06-19T22:07:27.981102Z"
    },
    "collapsed": true
   },
   "outputs": [],
   "source": [
    "import pandas as pd\n",
    "import numpy as np\n",
    "pd.set_option(\"display.max_rows\",15)\n",
    "%matplotlib inline"
   ]
  },
  {
   "cell_type": "code",
   "execution_count": 2,
   "metadata": {
    "ExecuteTime": {
     "end_time": "2017-06-19T22:07:28.593348Z",
     "start_time": "2017-06-19T22:07:28.384973Z"
    },
    "collapsed": true
   },
   "outputs": [],
   "source": [
    "class dataset:\n",
    "    kdd_train_2labels = pd.read_pickle(\"dataset/kdd_train_2labels.pkl\")\n",
    "    kdd_train_2labels_y = pd.read_pickle(\"dataset/kdd_train_2labels_y.pkl\")\n",
    "    \n",
    "    kdd_test_2labels = pd.read_pickle(\"dataset/kdd_test_2labels.pkl\")\n",
    "    kdd_test_2labels_y = pd.read_pickle(\"dataset/kdd_test_2labels_y.pkl\")\n",
    "    \n",
    "    kdd_train_5labels = pd.read_pickle(\"dataset/kdd_train_5labels.pkl\")\n",
    "    kdd_train_5labels_y = pd.read_pickle(\"dataset/kdd_train_5labels_y.pkl\")\n",
    "    \n",
    "    kdd_test_5labels = pd.read_pickle(\"dataset/kdd_test_5labels.pkl\")\n",
    "    kdd_test_5labels_y = pd.read_pickle(\"dataset/kdd_test_5labels_y.pkl\")\n",
    "    "
   ]
  },
  {
   "cell_type": "code",
   "execution_count": 3,
   "metadata": {
    "ExecuteTime": {
     "end_time": "2017-06-19T22:07:28.927883Z",
     "start_time": "2017-06-19T22:07:28.595030Z"
    },
    "collapsed": true
   },
   "outputs": [],
   "source": [
    "import collections\n",
    "from sklearn.tree import DecisionTreeClassifier\n",
    "from sklearn.neural_network import MLPClassifier\n",
    "from sklearn.ensemble import RandomForestClassifier, AdaBoostClassifier\n",
    "from sklearn.svm import NuSVC, SVC\n",
    "from sklearn.naive_bayes import GaussianNB\n",
    "from sklearn.model_selection import cross_val_score\n",
    "from sklearn.model_selection import cross_val_predict\n",
    "from sklearn.model_selection import ShuffleSplit\n",
    "from sklearn.pipeline import make_pipeline\n",
    "from sklearn import preprocessing\n",
    "from sklearn import metrics\n",
    "import time \n",
    "from sklearn.decomposition import SparsePCA"
   ]
  },
  {
   "cell_type": "code",
   "execution_count": 4,
   "metadata": {
    "ExecuteTime": {
     "end_time": "2017-06-19T22:07:28.972103Z",
     "start_time": "2017-06-19T22:07:28.929335Z"
    },
    "collapsed": true
   },
   "outputs": [],
   "source": [
    "x_train, y_train = dataset.kdd_train_2labels.iloc[:,:-2], dataset.kdd_train_2labels_y\n",
    "x_test, y_test = dataset.kdd_test_2labels.iloc[:,:-2], dataset.kdd_test_2labels_y"
   ]
  },
  {
   "cell_type": "code",
   "execution_count": 5,
   "metadata": {
    "ExecuteTime": {
     "end_time": "2017-06-19T22:07:32.440401Z",
     "start_time": "2017-06-19T22:07:28.973664Z"
    },
    "collapsed": true
   },
   "outputs": [],
   "source": [
    "pca_analysis = SparsePCA(n_components=2)\n",
    "x_train_analysis = pca_analysis.fit_transform(x_train)\n",
    "y_train_analysis = dataset.kdd_train_2labels.iloc[:,-2]"
   ]
  },
  {
   "cell_type": "code",
   "execution_count": 6,
   "metadata": {
    "ExecuteTime": {
     "end_time": "2017-06-19T22:07:34.226624Z",
     "start_time": "2017-06-19T22:07:32.443112Z"
    }
   },
   "outputs": [
    {
     "data": {
      "text/plain": [
       "<matplotlib.legend.Legend at 0x7f13dbdf3cf8>"
      ]
     },
     "execution_count": 6,
     "metadata": {},
     "output_type": "execute_result"
    },
    {
     "data": {
      "image/png": "[encoded data removed]",
      "text/plain": [
       "<matplotlib.figure.Figure at 0x7f13dc052f60>"
      ]
     },
     "metadata": {},
     "output_type": "display_data"
    }
   ],
   "source": [
    "import matplotlib.pyplot as plt\n",
    "\n",
    "plt.scatter(x = x_train_analysis[y_train_analysis==0,0], y = x_train_analysis[y_train_analysis==0,1], label = 'Normal')\n",
    "plt.scatter(x = x_train_analysis[y_train_analysis==1,0], y = x_train_analysis[y_train_analysis==1,1], label = 'Attack')\n",
    "\n",
    "plt.legend()"
   ]
  },
  {
   "cell_type": "code",
   "execution_count": 7,
   "metadata": {
    "ExecuteTime": {
     "end_time": "2017-06-19T22:07:34.231043Z",
     "start_time": "2017-06-19T22:07:34.228269Z"
    },
    "collapsed": true
   },
   "outputs": [],
   "source": [
    "pca = SparsePCA(n_components=10)"
   ]
  },
  {
   "cell_type": "code",
   "execution_count": null,
   "metadata": {
    "ExecuteTime": {
     "start_time": "2017-06-19T22:07:28.642Z"
    },
    "collapsed": true
   },
   "outputs": [],
   "source": [
    "#names_noscaling = [\"RBF SVM\", \"Decision Tree\", \"Random Forest\", \"Naive Bayes\"]\n",
    "names_noscaling = [\"Decision Tree\", \"Random Forest\"]\n",
    "classifiers_noscaling = [\n",
    "                        DecisionTreeClassifier(),\n",
    "                        RandomForestClassifier()\n",
    "                        ]\n",
    "\n",
    "names_withscaling = [\"SVC\", \"Non - Linear SVM\", \"AdaBoost\", \"Naive Bayes\"]\n",
    "classifiers_withscaling = [SVC(), NuSVC(),\n",
    "                            AdaBoostClassifier(), GaussianNB()]\n",
    "\n",
    "score = collections.namedtuple(\"score\", [\"name\", \"valid_score\" ,\"test_score\", 'time_taken'])\n",
    "scores = []\n",
    "cv = ShuffleSplit(n_splits=10, test_size=0.2, random_state=0)\n",
    "\n",
    "x_train = pca.fit_transform(x_train)\n",
    "x_test = pca.fit_transform(x_test)"
   ]
  },
  {
   "cell_type": "code",
   "execution_count": null,
   "metadata": {
    "ExecuteTime": {
     "start_time": "2017-06-19T22:07:28.645Z"
    }
   },
   "outputs": [
    {
     "name": "stdout",
     "output_type": "stream",
     "text": [
      "Classifier: Decision Tree\n",
      "Score: 0.4316004258339248 \n",
      "\n",
      "Classifier: Random Forest\n",
      "Score: 0.44087118523775726 \n",
      "\n",
      "Classifier: SVC\n",
      "Score: 0.33206174591909154 \n",
      "\n",
      "Classifier: Non - Linear SVM\n",
      "Score: 0.5549591909155429 \n",
      "\n",
      "Classifier: AdaBoost\n",
      "Score: 0.43727821149751595 \n",
      "\n",
      "Classifier: Naive Bayes\n",
      "Score: 0.5449343506032647 \n",
      "\n"
     ]
    }
   ],
   "source": [
    "for name, clf in zip(names_noscaling, classifiers_noscaling):\n",
    "    print(\"Classifier: {}\".format(name))\n",
    "    start_time = time.perf_counter()\n",
    "    \n",
    "    clf_p = make_pipeline(clf)    \n",
    "    valid_score = cross_val_score(clf_p, x_train, y_train, cv=cv)\n",
    "    \n",
    "    clf.fit(x_train, y_train)\n",
    "    y_pred = clf.predict(x_test)\n",
    "    test_acc = metrics.accuracy_score(y_test, y_pred) \n",
    "    \n",
    "    scores.append(score(name, valid_score.mean(), test_acc, time.perf_counter() - start_time))\n",
    "    print(\"Score: {} \\n\".format(test_acc))\n",
    "\n",
    "for name, clf in zip(names_withscaling, classifiers_withscaling):\n",
    "    print(\"Classifier: {}\".format(name))\n",
    "    \n",
    "    clf_p = make_pipeline(preprocessing.StandardScaler(), clf)    \n",
    "    valid_score = cross_val_score(clf_p, x_train, y_train, cv=cv)\n",
    "    \n",
    "    scaler = preprocessing.StandardScaler().fit(x_train)\n",
    "    clf.fit(scaler.transform(x_train), y_train)\n",
    "    y_pred = clf.predict(scaler.transform(x_test))\n",
    "    test_acc = metrics.accuracy_score(y_test, y_pred) \n",
    "    \n",
    "    scores.append(score(name, valid_score.mean(), test_acc, time.perf_counter() - start_time))\n",
    "    print(\"Score: {} \\n\".format(test_acc))"
   ]
  },
  {
   "cell_type": "code",
   "execution_count": null,
   "metadata": {
    "ExecuteTime": {
     "start_time": "2017-06-19T22:07:28.648Z"
    }
   },
   "outputs": [
    {
     "data": {
      "text/html": [
       "<div>\n",
       "<style>\n",
       "    .dataframe thead tr:only-child th {\n",
       "        text-align: right;\n",
       "    }\n",
       "\n",
       "    .dataframe thead th {\n",
       "        text-align: left;\n",
       "    }\n",
       "\n",
       "    .dataframe tbody tr th {\n",
       "        vertical-align: top;\n",
       "    }\n",
       "</style>\n",
       "<table border=\"1\" class=\"dataframe\">\n",
       "  <thead>\n",
       "    <tr style=\"text-align: right;\">\n",
       "      <th></th>\n",
       "      <th>name</th>\n",
       "      <th>valid_score</th>\n",
       "      <th>test_score</th>\n",
       "      <th>time_taken</th>\n",
       "    </tr>\n",
       "  </thead>\n",
       "  <tbody>\n",
       "    <tr>\n",
       "      <th>0</th>\n",
       "      <td>Decision Tree</td>\n",
       "      <td>0.992586</td>\n",
       "      <td>0.431600</td>\n",
       "      <td>17.264962</td>\n",
       "    </tr>\n",
       "    <tr>\n",
       "      <th>1</th>\n",
       "      <td>Random Forest</td>\n",
       "      <td>0.994693</td>\n",
       "      <td>0.440871</td>\n",
       "      <td>33.555924</td>\n",
       "    </tr>\n",
       "    <tr>\n",
       "      <th>2</th>\n",
       "      <td>SVC</td>\n",
       "      <td>0.960417</td>\n",
       "      <td>0.332062</td>\n",
       "      <td>1244.475453</td>\n",
       "    </tr>\n",
       "    <tr>\n",
       "      <th>3</th>\n",
       "      <td>Non - Linear SVM</td>\n",
       "      <td>0.903906</td>\n",
       "      <td>0.554959</td>\n",
       "      <td>10601.877003</td>\n",
       "    </tr>\n",
       "    <tr>\n",
       "      <th>4</th>\n",
       "      <td>AdaBoost</td>\n",
       "      <td>0.974352</td>\n",
       "      <td>0.437278</td>\n",
       "      <td>10704.173392</td>\n",
       "    </tr>\n",
       "    <tr>\n",
       "      <th>5</th>\n",
       "      <td>Naive Bayes</td>\n",
       "      <td>0.902552</td>\n",
       "      <td>0.544934</td>\n",
       "      <td>10705.082242</td>\n",
       "    </tr>\n",
       "  </tbody>\n",
       "</table>\n",
       "</div>"
      ],
      "text/plain": [
       "               name  valid_score  test_score    time_taken\n",
       "0     Decision Tree     0.992586    0.431600     17.264962\n",
       "1     Random Forest     0.994693    0.440871     33.555924\n",
       "2               SVC     0.960417    0.332062   1244.475453\n",
       "3  Non - Linear SVM     0.903906    0.554959  10601.877003\n",
       "4          AdaBoost     0.974352    0.437278  10704.173392\n",
       "5       Naive Bayes     0.902552    0.544934  10705.082242"
      ]
     },
     "execution_count": 10,
     "metadata": {},
     "output_type": "execute_result"
    }
   ],
   "source": [
    "pd.DataFrame(scores)"
   ]
  },
  {
   "cell_type": "code",
   "execution_count": null,
   "metadata": {
    "ExecuteTime": {
     "start_time": "2017-06-19T22:07:28.651Z"
    },
    "collapsed": true
   },
   "outputs": [],
   "source": [
    "#Naive Bayes 3.4GB RAM"
   ]
  }
 ],
 "metadata": {
  "anaconda-cloud": {},
  "kernelspec": {
   "display_name": "Python [conda env:p3]",
   "language": "python",
   "name": "conda-env-p3-py"
  },
  "language_info": {
   "codemirror_mode": {
    "name": "ipython",
    "version": 3
   },
   "file_extension": ".py",
   "mimetype": "text/x-python",
   "name": "python",
   "nbconvert_exporter": "python",
   "pygments_lexer": "ipython3",
   "version": "3.6.1"
  }
 },
 "nbformat": 4,
 "nbformat_minor": 2
}
