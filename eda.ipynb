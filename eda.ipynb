{
 "cells": [
  {
   "cell_type": "markdown",
   "metadata": {},
   "source": [
    "# Read Data Sample"
   ]
  },
  {
   "cell_type": "code",
   "execution_count": 1,
   "metadata": {
    "ExecuteTime": {
     "end_time": "2017-10-17T21:37:23.068653Z",
     "start_time": "2017-10-17T21:37:17.274348Z"
    },
    "collapsed": true
   },
   "outputs": [],
   "source": [
    "import pandas as pd\n",
    "import numpy as np \n",
    "import matplotlib.pyplot as plt\n",
    "from sklearn import model_selection as ms\n",
    "pd.set_option(\"display.max_rows\",15)\n",
    "%matplotlib inline"
   ]
  },
  {
   "cell_type": "code",
   "execution_count": 2,
   "metadata": {
    "ExecuteTime": {
     "end_time": "2017-10-17T21:37:23.072985Z",
     "start_time": "2017-10-17T21:37:23.070207Z"
    },
    "collapsed": true
   },
   "outputs": [],
   "source": [
    "#no_of_lines = !wc -l dataset/combine_result_20150304_new0921.csv\n",
    "#['32998329 dataset/combine_result_20150304_new0921.csv']"
   ]
  },
  {
   "cell_type": "code",
   "execution_count": 3,
   "metadata": {
    "ExecuteTime": {
     "end_time": "2017-10-17T21:37:23.080525Z",
     "start_time": "2017-10-17T21:37:23.074537Z"
    }
   },
   "outputs": [],
   "source": [
    "#!wc -l dataset/combine_result_20150604_new0921.csv\n",
    "#['31736830 dataset/combine_result_20150304_new0921.csv']"
   ]
  },
  {
   "cell_type": "code",
   "execution_count": 4,
   "metadata": {
    "ExecuteTime": {
     "end_time": "2017-10-17T21:37:23.233140Z",
     "start_time": "2017-10-17T21:37:23.082018Z"
    }
   },
   "outputs": [
    {
     "name": "stdout",
     "output_type": "stream",
     "text": [
      "sIP,dIP,sPort,dPort,pro,packets,bytes,flags,sTime,durat,eTime,sen,in,out,nhIP,cla,type,iTy,iCo,initialF,sessionF,attribut,appli,Records,%Records,cumul_%,status,taxonomy,label,heuristic,distance,nbDetectors\r\n",
      "47.24.55.119,214.59.69.106,80,21679,6,1,1500,A,2015/03/04T05:00:24,0,2015/03/04T05:00:24,?,0,0,0.0.0.0,all,in,,,,,,0,18064,0.020778,0.020778,anomaly,mptmp,Multi Points,0.59898,6,anomalous\r\n",
      "200.126.62.160,147.178.193.185,55455,80,6,1,52,A,2015/03/04T05:10:25,0,2015/03/04T05:10:25,?,0,0,0.0.0.0,all,in,,,,,,0,15510,0.017840,0.038618,anomaly,mptpHTTP,Multi Points,0.75724,11,anomalous\r\n",
      "47.24.55.119,214.59.69.106,80,21816,6,1,1500,A,2015/03/04T05:06:05,0,2015/03/04T05:06:05,?,0,0,0.0.0.0,all,in,,,,,,0,13980,0.016080,0.054698,anomaly,mptmp,Multi Points,0.59898,6,anomalous\r\n",
      "5.48.95.89,164.219.8.3,443,55233,6,1,1426,A,2015/03/04T05:06:44,0,2015/03/04T05:06:44,?,0,0,0.0.0.0,all,in,,,,,,0,12387,0.014248,0.068946,anomaly,mptmp,Multi Points,0.59898,6,anomalous\r\n",
      "113.197.143.171,215.67.133.83,0,0,1,1,32,,2015/03/04T05:11:57,0,2015/03/04T05:11:57,?,0,0,0.0.0.0,all,in,0,0,,,,0,11202,0.012885,0.081831,normal\r\n",
      "113.197.143.171,215.67.133.83,0,0,1,1,32,,2015/03/04T05:11:55,0,2015/03/04T05:11:55,?,0,0,0.0.0.0,all,in,0,0,,,,0,11189,0.012870,0.094701,normal\r\n",
      "113.197.143.171,215.67.133.83,0,0,1,1,32,,2015/03/04T05:11:58,0,2015/03/04T05:11:58,?,0,0,0.0.0.0,all,in,0,0,,,,0,11182,0.012862,0.107563,normal\r\n",
      "113.197.143.171,215.67.133.83,0,0,1,1,32,,2015/03/04T05:11:56,0,2015/03/04T05:11:56,?,0,0,0.0.0.0,all,in,0,0,,,,0,11177,0.012856,0.120420,normal\r\n",
      "223.168.45.112,143.3.232.167,443,46730,6,1,1500,A,2015/03/04T05:09:26,0,2015/03/04T05:09:26,?,0,0,0.0.0.0,all,in,,,,,,0,10555,0.012141,0.132560,anomaly,mptmp,Multi Points,0.59898,6,anomalous\r\n"
     ]
    }
   ],
   "source": [
    "! head dataset/combine_result_20150304_new0921.csv"
   ]
  },
  {
   "cell_type": "code",
   "execution_count": 5,
   "metadata": {
    "ExecuteTime": {
     "end_time": "2017-10-17T21:37:23.390148Z",
     "start_time": "2017-10-17T21:37:23.235030Z"
    }
   },
   "outputs": [
    {
     "name": "stdout",
     "output_type": "stream",
     "text": [
      "0.0.0.0,215.67.133.83,0,768,1,1,56,,2015/03/04T05:00:42,0,2015/03/04T05:00:42,?,0,0,0.0.0.0,all,in,3,0,,,,0,1,0.000001,99.999990,anomaly,netout,HTTP,0.04509,1,anomalous\r\n",
      "223.255.255.113,215.67.133.83,0,2816,1,1,56,,2015/03/04T05:14:39,0,2015/03/04T05:14:39,?,0,0,0.0.0.0,all,in,11,0,,,,0,1,0.000001,99.999991,normal\r\n",
      "223.255.255.125,215.67.133.83,0,2816,1,1,56,,2015/03/04T05:09:48,0,2015/03/04T05:09:48,?,0,0,0.0.0.0,all,in,11,0,,,,0,1,0.000001,99.999992,normal\r\n",
      "223.255.255.127,215.67.133.83,0,2816,1,1,56,,2015/03/04T05:09:45,0,2015/03/04T05:09:45,?,0,0,0.0.0.0,all,in,11,0,,,,0,1,0.000001,99.999993,normal\r\n",
      "223.255.255.142,215.67.133.83,0,0,1,1,32,,2015/03/04T05:00:01,0,2015/03/04T05:00:01,?,0,0,0.0.0.0,all,in,0,0,,,,0,1,0.000001,99.999994,normal\r\n",
      "223.255.255.214,215.67.133.83,0,0,1,1,32,,2015/03/04T05:11:04,0,2015/03/04T05:11:04,?,0,0,0.0.0.0,all,in,0,0,,,,0,1,0.000001,99.999995,normal\r\n",
      "244.190.107.157,138.32.174.245,0,0,6,1,60,S    E,2015/03/04T05:03:41,0,2015/03/04T05:03:41,?,0,0,0.0.0.0,all,in,,,,,,0,1,0.000001,99.999997,normal\r\n",
      "244.190.107.157,147.236.135.227,0,0,6,1,60,S,2015/03/04T05:13:57,0,2015/03/04T05:13:57,?,0,0,0.0.0.0,all,in,,,,,,0,1,0.000001,99.999998,normal\r\n",
      "244.190.107.157,164.219.98.127,0,0,6,1,60,S    EC,2015/03/04T05:00:51,0,2015/03/04T05:00:51,?,0,0,0.0.0.0,all,in,,,,,,0,1,0.000001,99.999999,normal\r\n",
      "0.0.0.0,215.67.133.83,0,768,1,1,56,,2015/03/04T05:00:11,0,2015/03/04T05:00:11,?,0,0,0.0.0.0,all,in,3,0,,,,0,1,0.000001,100.000000,anomaly,netout,HTTP,0.04509,1,anomalous\r\n"
     ]
    }
   ],
   "source": [
    "! tail dataset/combine_result_20150304_new0921.csv"
   ]
  },
  {
   "cell_type": "code",
   "execution_count": 6,
   "metadata": {
    "ExecuteTime": {
     "end_time": "2017-10-17T21:37:23.397458Z",
     "start_time": "2017-10-17T21:37:23.392090Z"
    }
   },
   "outputs": [
    {
     "name": "stdout",
     "output_type": "stream",
     "text": [
      "329983 3173683\n"
     ]
    }
   ],
   "source": [
    "no_of_lines = 32998329 #train\n",
    "train_size = int(no_of_lines * 0.01)\n",
    "no_of_lines = 31736830 #test\n",
    "test_size = int(no_of_lines * 0.1) \n",
    "print(train_size, test_size)"
   ]
  },
  {
   "cell_type": "code",
   "execution_count": 7,
   "metadata": {
    "ExecuteTime": {
     "end_time": "2017-10-17T21:37:44.767696Z",
     "start_time": "2017-10-17T21:37:23.399366Z"
    },
    "scrolled": false
   },
   "outputs": [],
   "source": [
    "class dataset:\n",
    "    col_names = ['sIP','dIP','sPort','dPort','pro','packets','bytes','flags','sTime','durat','eTime','sen','in','out','nhIP',\n",
    "                 'cla','type','iTy','iCo','initialF','sessionF','attribut','appli','Records','Records','cumul','status',\n",
    "                 'taxonomy','label','heuristic','distance','nbDetectors'\n",
    "                ]\n",
    "\n",
    "    #sample_data = pd.read_csv(\"dataset/combine_result_20150304_new0921.csv\", header = 0,names = col_names, nrows = train_size)\n",
    "    #sample_data.to_pickle('dataset/sample_train.pkl')\n",
    "    #sample_data = pd.read_csv(\"dataset/combine_result_20150604_new0921.csv\", header = 0,names = col_names, nrows = test_size)\n",
    "    #sample_data.to_pickle('dataset/sample_test.pkl')\n",
    "    \n",
    "    "
   ]
  },
  {
   "cell_type": "code",
   "execution_count": 21,
   "metadata": {
    "ExecuteTime": {
     "end_time": "2017-10-17T22:05:25.733380Z",
     "start_time": "2017-10-17T22:05:21.741233Z"
    }
   },
   "outputs": [
    {
     "data": {
      "text/html": [
       "<div>\n",
       "<style>\n",
       "    .dataframe thead tr:only-child th {\n",
       "        text-align: right;\n",
       "    }\n",
       "\n",
       "    .dataframe thead th {\n",
       "        text-align: left;\n",
       "    }\n",
       "\n",
       "    .dataframe tbody tr th {\n",
       "        vertical-align: top;\n",
       "    }\n",
       "</style>\n",
       "<table border=\"1\" class=\"dataframe\">\n",
       "  <thead>\n",
       "    <tr style=\"text-align: right;\">\n",
       "      <th></th>\n",
       "      <th>pro</th>\n",
       "      <th>packets</th>\n",
       "      <th>bytes</th>\n",
       "      <th>flags</th>\n",
       "      <th>durat</th>\n",
       "      <th>svc_port</th>\n",
       "      <th>status</th>\n",
       "    </tr>\n",
       "  </thead>\n",
       "  <tbody>\n",
       "    <tr>\n",
       "      <th>0</th>\n",
       "      <td>6</td>\n",
       "      <td>1</td>\n",
       "      <td>1500</td>\n",
       "      <td>A</td>\n",
       "      <td>0</td>\n",
       "      <td>80</td>\n",
       "      <td>anomaly</td>\n",
       "    </tr>\n",
       "    <tr>\n",
       "      <th>1</th>\n",
       "      <td>6</td>\n",
       "      <td>1</td>\n",
       "      <td>52</td>\n",
       "      <td>A</td>\n",
       "      <td>0</td>\n",
       "      <td>80</td>\n",
       "      <td>anomaly</td>\n",
       "    </tr>\n",
       "    <tr>\n",
       "      <th>2</th>\n",
       "      <td>6</td>\n",
       "      <td>1</td>\n",
       "      <td>1500</td>\n",
       "      <td>A</td>\n",
       "      <td>0</td>\n",
       "      <td>80</td>\n",
       "      <td>anomaly</td>\n",
       "    </tr>\n",
       "    <tr>\n",
       "      <th>3</th>\n",
       "      <td>6</td>\n",
       "      <td>1</td>\n",
       "      <td>1426</td>\n",
       "      <td>A</td>\n",
       "      <td>0</td>\n",
       "      <td>443</td>\n",
       "      <td>anomaly</td>\n",
       "    </tr>\n",
       "    <tr>\n",
       "      <th>4</th>\n",
       "      <td>1</td>\n",
       "      <td>1</td>\n",
       "      <td>32</td>\n",
       "      <td>NaN</td>\n",
       "      <td>0</td>\n",
       "      <td>0</td>\n",
       "      <td>normal</td>\n",
       "    </tr>\n",
       "    <tr>\n",
       "      <th>5</th>\n",
       "      <td>1</td>\n",
       "      <td>1</td>\n",
       "      <td>32</td>\n",
       "      <td>NaN</td>\n",
       "      <td>0</td>\n",
       "      <td>0</td>\n",
       "      <td>normal</td>\n",
       "    </tr>\n",
       "    <tr>\n",
       "      <th>6</th>\n",
       "      <td>1</td>\n",
       "      <td>1</td>\n",
       "      <td>32</td>\n",
       "      <td>NaN</td>\n",
       "      <td>0</td>\n",
       "      <td>0</td>\n",
       "      <td>normal</td>\n",
       "    </tr>\n",
       "    <tr>\n",
       "      <th>...</th>\n",
       "      <td>...</td>\n",
       "      <td>...</td>\n",
       "      <td>...</td>\n",
       "      <td>...</td>\n",
       "      <td>...</td>\n",
       "      <td>...</td>\n",
       "      <td>...</td>\n",
       "    </tr>\n",
       "    <tr>\n",
       "      <th>329976</th>\n",
       "      <td>6</td>\n",
       "      <td>1</td>\n",
       "      <td>362</td>\n",
       "      <td>PA</td>\n",
       "      <td>0</td>\n",
       "      <td>80</td>\n",
       "      <td>anomaly</td>\n",
       "    </tr>\n",
       "    <tr>\n",
       "      <th>329977</th>\n",
       "      <td>6</td>\n",
       "      <td>1</td>\n",
       "      <td>1500</td>\n",
       "      <td>PA</td>\n",
       "      <td>0</td>\n",
       "      <td>80</td>\n",
       "      <td>anomaly</td>\n",
       "    </tr>\n",
       "    <tr>\n",
       "      <th>329978</th>\n",
       "      <td>6</td>\n",
       "      <td>1</td>\n",
       "      <td>1426</td>\n",
       "      <td>A</td>\n",
       "      <td>0</td>\n",
       "      <td>80</td>\n",
       "      <td>anomaly</td>\n",
       "    </tr>\n",
       "    <tr>\n",
       "      <th>329979</th>\n",
       "      <td>6</td>\n",
       "      <td>1</td>\n",
       "      <td>52</td>\n",
       "      <td>A</td>\n",
       "      <td>0</td>\n",
       "      <td>54232</td>\n",
       "      <td>normal</td>\n",
       "    </tr>\n",
       "    <tr>\n",
       "      <th>329980</th>\n",
       "      <td>6</td>\n",
       "      <td>1</td>\n",
       "      <td>52</td>\n",
       "      <td>A</td>\n",
       "      <td>0</td>\n",
       "      <td>80</td>\n",
       "      <td>anomaly</td>\n",
       "    </tr>\n",
       "    <tr>\n",
       "      <th>329981</th>\n",
       "      <td>6</td>\n",
       "      <td>1</td>\n",
       "      <td>40</td>\n",
       "      <td>A</td>\n",
       "      <td>0</td>\n",
       "      <td>3027</td>\n",
       "      <td>anomaly</td>\n",
       "    </tr>\n",
       "    <tr>\n",
       "      <th>329982</th>\n",
       "      <td>6</td>\n",
       "      <td>1</td>\n",
       "      <td>40</td>\n",
       "      <td>A</td>\n",
       "      <td>0</td>\n",
       "      <td>80</td>\n",
       "      <td>anomaly</td>\n",
       "    </tr>\n",
       "  </tbody>\n",
       "</table>\n",
       "<p>329983 rows × 7 columns</p>\n",
       "</div>"
      ],
      "text/plain": [
       "        pro  packets  bytes flags  durat  svc_port   status\n",
       "0         6        1   1500     A      0        80  anomaly\n",
       "1         6        1     52     A      0        80  anomaly\n",
       "2         6        1   1500     A      0        80  anomaly\n",
       "3         6        1   1426     A      0       443  anomaly\n",
       "4         1        1     32   NaN      0         0   normal\n",
       "5         1        1     32   NaN      0         0   normal\n",
       "6         1        1     32   NaN      0         0   normal\n",
       "...     ...      ...    ...   ...    ...       ...      ...\n",
       "329976    6        1    362    PA      0        80  anomaly\n",
       "329977    6        1   1500    PA      0        80  anomaly\n",
       "329978    6        1   1426     A      0        80  anomaly\n",
       "329979    6        1     52     A      0     54232   normal\n",
       "329980    6        1     52     A      0        80  anomaly\n",
       "329981    6        1     40     A      0      3027  anomaly\n",
       "329982    6        1     40     A      0        80  anomaly\n",
       "\n",
       "[329983 rows x 7 columns]"
      ]
     },
     "execution_count": 21,
     "metadata": {},
     "output_type": "execute_result"
    }
   ],
   "source": [
    "def process(df):\n",
    "    min_port = np.minimum(df.sPort.values, df.dPort.values)\n",
    "    df.insert(0,'svc_port',0)\n",
    "    df.loc[min_port <= 1024, 'svc_port'] = min_port \n",
    "    df.loc[min_port > 1024, 'svc_port'] = df.dPort.copy()\n",
    "    df = df.loc[:,('pro', 'packets', 'bytes', 'flags', 'durat', 'svc_port', 'status')].copy()\n",
    "    return df\n",
    "dataset.kdd_train = process(pd.read_pickle('dataset/sample_train.pkl'))\n",
    "dataset.kdd_test = process(pd.read_pickle('dataset/sample_test.pkl'))\n",
    "dataset.kdd_label = dataset.kdd_train.status.copy()\n",
    "\n",
    "dataset.kdd_train"
   ]
  },
  {
   "cell_type": "code",
   "execution_count": 11,
   "metadata": {
    "ExecuteTime": {
     "end_time": "2017-10-17T21:55:59.294335Z",
     "start_time": "2017-10-17T21:55:59.263110Z"
    }
   },
   "outputs": [
    {
     "data": {
      "text/plain": [
       "array(['anomaly', 'normal'], dtype=object)"
      ]
     },
     "execution_count": 11,
     "metadata": {},
     "output_type": "execute_result"
    }
   ],
   "source": [
    "dataset.kdd_label.unique()"
   ]
  },
  {
   "cell_type": "code",
   "execution_count": 12,
   "metadata": {
    "ExecuteTime": {
     "end_time": "2017-10-17T21:55:59.375150Z",
     "start_time": "2017-10-17T21:55:59.295919Z"
    }
   },
   "outputs": [
    {
     "name": "stdout",
     "output_type": "stream",
     "text": [
      "<class 'pandas.core.frame.DataFrame'>\n",
      "RangeIndex: 329983 entries, 0 to 329982\n",
      "Data columns (total 7 columns):\n",
      "pro         329983 non-null int64\n",
      "packets     329983 non-null int64\n",
      "bytes       329983 non-null int64\n",
      "flags       310521 non-null object\n",
      "durat       329983 non-null int64\n",
      "svc_port    329983 non-null int64\n",
      "status      329983 non-null object\n",
      "dtypes: int64(5), object(2)\n",
      "memory usage: 17.6+ MB\n"
     ]
    }
   ],
   "source": [
    "dataset.kdd_train.info(memory_usage = True)"
   ]
  },
  {
   "cell_type": "code",
   "execution_count": 26,
   "metadata": {
    "ExecuteTime": {
     "end_time": "2017-10-17T22:06:19.500063Z",
     "start_time": "2017-10-17T22:06:19.384651Z"
    }
   },
   "outputs": [
    {
     "data": {
      "text/html": [
       "<div>\n",
       "<style>\n",
       "    .dataframe thead tr:only-child th {\n",
       "        text-align: right;\n",
       "    }\n",
       "\n",
       "    .dataframe thead th {\n",
       "        text-align: left;\n",
       "    }\n",
       "\n",
       "    .dataframe tbody tr th {\n",
       "        vertical-align: top;\n",
       "    }\n",
       "</style>\n",
       "<table border=\"1\" class=\"dataframe\">\n",
       "  <thead>\n",
       "    <tr style=\"text-align: right;\">\n",
       "      <th></th>\n",
       "      <th>pro</th>\n",
       "      <th>packets</th>\n",
       "      <th>bytes</th>\n",
       "      <th>durat</th>\n",
       "      <th>svc_port</th>\n",
       "    </tr>\n",
       "  </thead>\n",
       "  <tbody>\n",
       "    <tr>\n",
       "      <th>count</th>\n",
       "      <td>329983.000000</td>\n",
       "      <td>329983.0</td>\n",
       "      <td>329983.000000</td>\n",
       "      <td>329983.0</td>\n",
       "      <td>329983.000000</td>\n",
       "    </tr>\n",
       "    <tr>\n",
       "      <th>mean</th>\n",
       "      <td>7.344548</td>\n",
       "      <td>1.0</td>\n",
       "      <td>495.593561</td>\n",
       "      <td>0.0</td>\n",
       "      <td>3402.446532</td>\n",
       "    </tr>\n",
       "    <tr>\n",
       "      <th>std</th>\n",
       "      <td>6.792850</td>\n",
       "      <td>0.0</td>\n",
       "      <td>651.264860</td>\n",
       "      <td>0.0</td>\n",
       "      <td>12088.844138</td>\n",
       "    </tr>\n",
       "    <tr>\n",
       "      <th>min</th>\n",
       "      <td>1.000000</td>\n",
       "      <td>1.0</td>\n",
       "      <td>28.000000</td>\n",
       "      <td>0.0</td>\n",
       "      <td>0.000000</td>\n",
       "    </tr>\n",
       "    <tr>\n",
       "      <th>25%</th>\n",
       "      <td>6.000000</td>\n",
       "      <td>1.0</td>\n",
       "      <td>40.000000</td>\n",
       "      <td>0.0</td>\n",
       "      <td>80.000000</td>\n",
       "    </tr>\n",
       "    <tr>\n",
       "      <th>50%</th>\n",
       "      <td>6.000000</td>\n",
       "      <td>1.0</td>\n",
       "      <td>52.000000</td>\n",
       "      <td>0.0</td>\n",
       "      <td>80.000000</td>\n",
       "    </tr>\n",
       "    <tr>\n",
       "      <th>75%</th>\n",
       "      <td>6.000000</td>\n",
       "      <td>1.0</td>\n",
       "      <td>1426.000000</td>\n",
       "      <td>0.0</td>\n",
       "      <td>443.000000</td>\n",
       "    </tr>\n",
       "    <tr>\n",
       "      <th>max</th>\n",
       "      <td>51.000000</td>\n",
       "      <td>1.0</td>\n",
       "      <td>1500.000000</td>\n",
       "      <td>0.0</td>\n",
       "      <td>65534.000000</td>\n",
       "    </tr>\n",
       "  </tbody>\n",
       "</table>\n",
       "</div>"
      ],
      "text/plain": [
       "                 pro   packets          bytes     durat       svc_port\n",
       "count  329983.000000  329983.0  329983.000000  329983.0  329983.000000\n",
       "mean        7.344548       1.0     495.593561       0.0    3402.446532\n",
       "std         6.792850       0.0     651.264860       0.0   12088.844138\n",
       "min         1.000000       1.0      28.000000       0.0       0.000000\n",
       "25%         6.000000       1.0      40.000000       0.0      80.000000\n",
       "50%         6.000000       1.0      52.000000       0.0      80.000000\n",
       "75%         6.000000       1.0    1426.000000       0.0     443.000000\n",
       "max        51.000000       1.0    1500.000000       0.0   65534.000000"
      ]
     },
     "execution_count": 26,
     "metadata": {},
     "output_type": "execute_result"
    }
   ],
   "source": [
    "dataset.kdd_train.describe()"
   ]
  },
  {
   "cell_type": "code",
   "execution_count": 28,
   "metadata": {
    "ExecuteTime": {
     "end_time": "2017-10-17T22:06:44.214666Z",
     "start_time": "2017-10-17T22:06:44.192801Z"
    }
   },
   "outputs": [
    {
     "ename": "TypeError",
     "evalue": "_astype() got an unexpected keyword argument 'categories'",
     "output_type": "error",
     "traceback": [
      "\u001b[0;31m---------------------------------------------------------------------------\u001b[0m",
      "\u001b[0;31mTypeError\u001b[0m                                 Traceback (most recent call last)",
      "\u001b[0;32m<ipython-input-28-6fdb6606fbd1>\u001b[0m in \u001b[0;36m<module>\u001b[0;34m()\u001b[0m\n\u001b[1;32m      3\u001b[0m \u001b[0;32mfor\u001b[0m \u001b[0mcv\u001b[0m \u001b[0;32min\u001b[0m \u001b[0mcategory_variables\u001b[0m\u001b[0;34m:\u001b[0m\u001b[0;34m\u001b[0m\u001b[0m\n\u001b[1;32m      4\u001b[0m     \u001b[0mdataset\u001b[0m\u001b[0;34m.\u001b[0m\u001b[0mkdd_train\u001b[0m\u001b[0;34m[\u001b[0m\u001b[0mcv\u001b[0m\u001b[0;34m]\u001b[0m \u001b[0;34m=\u001b[0m \u001b[0mdataset\u001b[0m\u001b[0;34m.\u001b[0m\u001b[0mkdd_train\u001b[0m\u001b[0;34m[\u001b[0m\u001b[0mcv\u001b[0m\u001b[0;34m]\u001b[0m\u001b[0;34m.\u001b[0m\u001b[0mastype\u001b[0m\u001b[0;34m(\u001b[0m\u001b[0;34m\"category\"\u001b[0m\u001b[0;34m)\u001b[0m\u001b[0;34m\u001b[0m\u001b[0m\n\u001b[0;32m----> 5\u001b[0;31m     \u001b[0mdataset\u001b[0m\u001b[0;34m.\u001b[0m\u001b[0mkdd_test\u001b[0m\u001b[0;34m[\u001b[0m\u001b[0mcv\u001b[0m\u001b[0;34m]\u001b[0m \u001b[0;34m=\u001b[0m \u001b[0mdataset\u001b[0m\u001b[0;34m.\u001b[0m\u001b[0mkdd_test\u001b[0m\u001b[0;34m[\u001b[0m\u001b[0mcv\u001b[0m\u001b[0;34m]\u001b[0m\u001b[0;34m.\u001b[0m\u001b[0mastype\u001b[0m\u001b[0;34m(\u001b[0m\u001b[0;34m\"category\"\u001b[0m\u001b[0;34m,\u001b[0m \u001b[0mcategories\u001b[0m \u001b[0;34m=\u001b[0m \u001b[0mdataset\u001b[0m\u001b[0;34m.\u001b[0m\u001b[0mkdd_train\u001b[0m\u001b[0;34m[\u001b[0m\u001b[0mcv\u001b[0m\u001b[0;34m]\u001b[0m\u001b[0;34m.\u001b[0m\u001b[0mcat\u001b[0m\u001b[0;34m.\u001b[0m\u001b[0mcategories\u001b[0m\u001b[0;34m)\u001b[0m\u001b[0;34m\u001b[0m\u001b[0m\n\u001b[0m\u001b[1;32m      6\u001b[0m \u001b[0;34m\u001b[0m\u001b[0m\n\u001b[1;32m      7\u001b[0m     \u001b[0;31m#print(\"Length of Categories for {} are {}\".format(cv , len(dataset.kdd_train[cv].cat.categories)))\u001b[0m\u001b[0;34m\u001b[0m\u001b[0;34m\u001b[0m\u001b[0m\n",
      "\u001b[0;32m~/anaconda3/envs/p3/lib/python3.6/site-packages/pandas/util/_decorators.py\u001b[0m in \u001b[0;36mwrapper\u001b[0;34m(*args, **kwargs)\u001b[0m\n\u001b[1;32m     89\u001b[0m                 \u001b[0;32melse\u001b[0m\u001b[0;34m:\u001b[0m\u001b[0;34m\u001b[0m\u001b[0m\n\u001b[1;32m     90\u001b[0m                     \u001b[0mkwargs\u001b[0m\u001b[0;34m[\u001b[0m\u001b[0mnew_arg_name\u001b[0m\u001b[0;34m]\u001b[0m \u001b[0;34m=\u001b[0m \u001b[0mnew_arg_value\u001b[0m\u001b[0;34m\u001b[0m\u001b[0m\n\u001b[0;32m---> 91\u001b[0;31m             \u001b[0;32mreturn\u001b[0m \u001b[0mfunc\u001b[0m\u001b[0;34m(\u001b[0m\u001b[0;34m*\u001b[0m\u001b[0margs\u001b[0m\u001b[0;34m,\u001b[0m \u001b[0;34m**\u001b[0m\u001b[0mkwargs\u001b[0m\u001b[0;34m)\u001b[0m\u001b[0;34m\u001b[0m\u001b[0m\n\u001b[0m\u001b[1;32m     92\u001b[0m         \u001b[0;32mreturn\u001b[0m \u001b[0mwrapper\u001b[0m\u001b[0;34m\u001b[0m\u001b[0m\n\u001b[1;32m     93\u001b[0m     \u001b[0;32mreturn\u001b[0m \u001b[0m_deprecate_kwarg\u001b[0m\u001b[0;34m\u001b[0m\u001b[0m\n",
      "\u001b[0;32m~/anaconda3/envs/p3/lib/python3.6/site-packages/pandas/core/generic.py\u001b[0m in \u001b[0;36mastype\u001b[0;34m(self, dtype, copy, errors, **kwargs)\u001b[0m\n\u001b[1;32m   3408\u001b[0m         \u001b[0;31m# else, only a single dtype is given\u001b[0m\u001b[0;34m\u001b[0m\u001b[0;34m\u001b[0m\u001b[0m\n\u001b[1;32m   3409\u001b[0m         new_data = self._data.astype(dtype=dtype, copy=copy, errors=errors,\n\u001b[0;32m-> 3410\u001b[0;31m                                      **kwargs)\n\u001b[0m\u001b[1;32m   3411\u001b[0m         \u001b[0;32mreturn\u001b[0m \u001b[0mself\u001b[0m\u001b[0;34m.\u001b[0m\u001b[0m_constructor\u001b[0m\u001b[0;34m(\u001b[0m\u001b[0mnew_data\u001b[0m\u001b[0;34m)\u001b[0m\u001b[0;34m.\u001b[0m\u001b[0m__finalize__\u001b[0m\u001b[0;34m(\u001b[0m\u001b[0mself\u001b[0m\u001b[0;34m)\u001b[0m\u001b[0;34m\u001b[0m\u001b[0m\n\u001b[1;32m   3412\u001b[0m \u001b[0;34m\u001b[0m\u001b[0m\n",
      "\u001b[0;32m~/anaconda3/envs/p3/lib/python3.6/site-packages/pandas/core/internals.py\u001b[0m in \u001b[0;36mastype\u001b[0;34m(self, dtype, **kwargs)\u001b[0m\n\u001b[1;32m   3222\u001b[0m \u001b[0;34m\u001b[0m\u001b[0m\n\u001b[1;32m   3223\u001b[0m     \u001b[0;32mdef\u001b[0m \u001b[0mastype\u001b[0m\u001b[0;34m(\u001b[0m\u001b[0mself\u001b[0m\u001b[0;34m,\u001b[0m \u001b[0mdtype\u001b[0m\u001b[0;34m,\u001b[0m \u001b[0;34m**\u001b[0m\u001b[0mkwargs\u001b[0m\u001b[0;34m)\u001b[0m\u001b[0;34m:\u001b[0m\u001b[0;34m\u001b[0m\u001b[0m\n\u001b[0;32m-> 3224\u001b[0;31m         \u001b[0;32mreturn\u001b[0m \u001b[0mself\u001b[0m\u001b[0;34m.\u001b[0m\u001b[0mapply\u001b[0m\u001b[0;34m(\u001b[0m\u001b[0;34m'astype'\u001b[0m\u001b[0;34m,\u001b[0m \u001b[0mdtype\u001b[0m\u001b[0;34m=\u001b[0m\u001b[0mdtype\u001b[0m\u001b[0;34m,\u001b[0m \u001b[0;34m**\u001b[0m\u001b[0mkwargs\u001b[0m\u001b[0;34m)\u001b[0m\u001b[0;34m\u001b[0m\u001b[0m\n\u001b[0m\u001b[1;32m   3225\u001b[0m \u001b[0;34m\u001b[0m\u001b[0m\n\u001b[1;32m   3226\u001b[0m     \u001b[0;32mdef\u001b[0m \u001b[0mconvert\u001b[0m\u001b[0;34m(\u001b[0m\u001b[0mself\u001b[0m\u001b[0;34m,\u001b[0m \u001b[0;34m**\u001b[0m\u001b[0mkwargs\u001b[0m\u001b[0;34m)\u001b[0m\u001b[0;34m:\u001b[0m\u001b[0;34m\u001b[0m\u001b[0m\n",
      "\u001b[0;32m~/anaconda3/envs/p3/lib/python3.6/site-packages/pandas/core/internals.py\u001b[0m in \u001b[0;36mapply\u001b[0;34m(self, f, axes, filter, do_integrity_check, consolidate, **kwargs)\u001b[0m\n\u001b[1;32m   3089\u001b[0m \u001b[0;34m\u001b[0m\u001b[0m\n\u001b[1;32m   3090\u001b[0m             \u001b[0mkwargs\u001b[0m\u001b[0;34m[\u001b[0m\u001b[0;34m'mgr'\u001b[0m\u001b[0;34m]\u001b[0m \u001b[0;34m=\u001b[0m \u001b[0mself\u001b[0m\u001b[0;34m\u001b[0m\u001b[0m\n\u001b[0;32m-> 3091\u001b[0;31m             \u001b[0mapplied\u001b[0m \u001b[0;34m=\u001b[0m \u001b[0mgetattr\u001b[0m\u001b[0;34m(\u001b[0m\u001b[0mb\u001b[0m\u001b[0;34m,\u001b[0m \u001b[0mf\u001b[0m\u001b[0;34m)\u001b[0m\u001b[0;34m(\u001b[0m\u001b[0;34m**\u001b[0m\u001b[0mkwargs\u001b[0m\u001b[0;34m)\u001b[0m\u001b[0;34m\u001b[0m\u001b[0m\n\u001b[0m\u001b[1;32m   3092\u001b[0m             \u001b[0mresult_blocks\u001b[0m \u001b[0;34m=\u001b[0m \u001b[0m_extend_blocks\u001b[0m\u001b[0;34m(\u001b[0m\u001b[0mapplied\u001b[0m\u001b[0;34m,\u001b[0m \u001b[0mresult_blocks\u001b[0m\u001b[0;34m)\u001b[0m\u001b[0;34m\u001b[0m\u001b[0m\n\u001b[1;32m   3093\u001b[0m \u001b[0;34m\u001b[0m\u001b[0m\n",
      "\u001b[0;32m~/anaconda3/envs/p3/lib/python3.6/site-packages/pandas/core/internals.py\u001b[0m in \u001b[0;36mastype\u001b[0;34m(self, dtype, copy, errors, values, **kwargs)\u001b[0m\n\u001b[1;32m    469\u001b[0m     \u001b[0;32mdef\u001b[0m \u001b[0mastype\u001b[0m\u001b[0;34m(\u001b[0m\u001b[0mself\u001b[0m\u001b[0;34m,\u001b[0m \u001b[0mdtype\u001b[0m\u001b[0;34m,\u001b[0m \u001b[0mcopy\u001b[0m\u001b[0;34m=\u001b[0m\u001b[0;32mFalse\u001b[0m\u001b[0;34m,\u001b[0m \u001b[0merrors\u001b[0m\u001b[0;34m=\u001b[0m\u001b[0;34m'raise'\u001b[0m\u001b[0;34m,\u001b[0m \u001b[0mvalues\u001b[0m\u001b[0;34m=\u001b[0m\u001b[0;32mNone\u001b[0m\u001b[0;34m,\u001b[0m \u001b[0;34m**\u001b[0m\u001b[0mkwargs\u001b[0m\u001b[0;34m)\u001b[0m\u001b[0;34m:\u001b[0m\u001b[0;34m\u001b[0m\u001b[0m\n\u001b[1;32m    470\u001b[0m         return self._astype(dtype, copy=copy, errors=errors, values=values,\n\u001b[0;32m--> 471\u001b[0;31m                             **kwargs)\n\u001b[0m\u001b[1;32m    472\u001b[0m \u001b[0;34m\u001b[0m\u001b[0m\n\u001b[1;32m    473\u001b[0m     def _astype(self, dtype, copy=False, errors='raise', values=None,\n",
      "\u001b[0;31mTypeError\u001b[0m: _astype() got an unexpected keyword argument 'categories'"
     ]
    }
   ],
   "source": [
    "category_variables = [\"flags\", \"status\"]\n",
    "\n",
    "for cv in category_variables:\n",
    "    dataset.kdd_train[cv] = dataset.kdd_train[cv].astype(\"category\")\n",
    "    dataset.kdd_test[cv] = dataset.kdd_test[cv].astype(\"category\", categories = dataset.kdd_train[cv].cat.categories)\n",
    "    \n",
    "    #print(\"Length of Categories for {} are {}\".format(cv , len(dataset.kdd_train[cv].cat.categories)))\n",
    "    #print(\"Categories for {} are {} \\n\".format(cv ,dataset.kdd_train[cv].cat.categories))\n",
    "\n",
    "    "
   ]
  },
  {
   "cell_type": "code",
   "execution_count": 29,
   "metadata": {
    "ExecuteTime": {
     "end_time": "2017-10-17T22:06:44.843469Z",
     "start_time": "2017-10-17T22:06:44.219624Z"
    },
    "collapsed": true
   },
   "outputs": [],
   "source": [
    "dummy_variables_2labels = category_variables\n",
    "    \n",
    "class preprocessing:\n",
    "    kdd_train_2labels = pd.get_dummies(dataset.kdd_train, columns = dummy_variables_2labels, prefix=dummy_variables_2labels)\n",
    "    kdd_test_2labels = pd.get_dummies(dataset.kdd_test, columns = dummy_variables_2labels, prefix=dummy_variables_2labels)\n",
    "    \n",
    "    "
   ]
  },
  {
   "cell_type": "code",
   "execution_count": 30,
   "metadata": {
    "ExecuteTime": {
     "end_time": "2017-10-17T22:06:45.149201Z",
     "start_time": "2017-10-17T22:06:44.845202Z"
    }
   },
   "outputs": [
    {
     "data": {
      "text/html": [
       "<div>\n",
       "<style>\n",
       "    .dataframe thead tr:only-child th {\n",
       "        text-align: right;\n",
       "    }\n",
       "\n",
       "    .dataframe thead th {\n",
       "        text-align: left;\n",
       "    }\n",
       "\n",
       "    .dataframe tbody tr th {\n",
       "        vertical-align: top;\n",
       "    }\n",
       "</style>\n",
       "<table border=\"1\" class=\"dataframe\">\n",
       "  <thead>\n",
       "    <tr style=\"text-align: right;\">\n",
       "      <th></th>\n",
       "      <th>pro</th>\n",
       "      <th>packets</th>\n",
       "      <th>bytes</th>\n",
       "      <th>durat</th>\n",
       "      <th>svc_port</th>\n",
       "      <th>flags_A</th>\n",
       "      <th>flags_F   A</th>\n",
       "      <th>flags_PA</th>\n",
       "      <th>flags_R</th>\n",
       "      <th>flags_R A</th>\n",
       "      <th>status_anomaly</th>\n",
       "      <th>status_normal</th>\n",
       "    </tr>\n",
       "  </thead>\n",
       "  <tbody>\n",
       "    <tr>\n",
       "      <th>0</th>\n",
       "      <td>6</td>\n",
       "      <td>1</td>\n",
       "      <td>1500</td>\n",
       "      <td>0</td>\n",
       "      <td>80</td>\n",
       "      <td>1</td>\n",
       "      <td>0</td>\n",
       "      <td>0</td>\n",
       "      <td>0</td>\n",
       "      <td>0</td>\n",
       "      <td>1</td>\n",
       "      <td>0</td>\n",
       "    </tr>\n",
       "    <tr>\n",
       "      <th>1</th>\n",
       "      <td>6</td>\n",
       "      <td>1</td>\n",
       "      <td>52</td>\n",
       "      <td>0</td>\n",
       "      <td>80</td>\n",
       "      <td>1</td>\n",
       "      <td>0</td>\n",
       "      <td>0</td>\n",
       "      <td>0</td>\n",
       "      <td>0</td>\n",
       "      <td>1</td>\n",
       "      <td>0</td>\n",
       "    </tr>\n",
       "    <tr>\n",
       "      <th>2</th>\n",
       "      <td>6</td>\n",
       "      <td>1</td>\n",
       "      <td>1500</td>\n",
       "      <td>0</td>\n",
       "      <td>80</td>\n",
       "      <td>1</td>\n",
       "      <td>0</td>\n",
       "      <td>0</td>\n",
       "      <td>0</td>\n",
       "      <td>0</td>\n",
       "      <td>1</td>\n",
       "      <td>0</td>\n",
       "    </tr>\n",
       "    <tr>\n",
       "      <th>3</th>\n",
       "      <td>6</td>\n",
       "      <td>1</td>\n",
       "      <td>1426</td>\n",
       "      <td>0</td>\n",
       "      <td>443</td>\n",
       "      <td>1</td>\n",
       "      <td>0</td>\n",
       "      <td>0</td>\n",
       "      <td>0</td>\n",
       "      <td>0</td>\n",
       "      <td>1</td>\n",
       "      <td>0</td>\n",
       "    </tr>\n",
       "    <tr>\n",
       "      <th>4</th>\n",
       "      <td>1</td>\n",
       "      <td>1</td>\n",
       "      <td>32</td>\n",
       "      <td>0</td>\n",
       "      <td>0</td>\n",
       "      <td>0</td>\n",
       "      <td>0</td>\n",
       "      <td>0</td>\n",
       "      <td>0</td>\n",
       "      <td>0</td>\n",
       "      <td>0</td>\n",
       "      <td>1</td>\n",
       "    </tr>\n",
       "    <tr>\n",
       "      <th>5</th>\n",
       "      <td>1</td>\n",
       "      <td>1</td>\n",
       "      <td>32</td>\n",
       "      <td>0</td>\n",
       "      <td>0</td>\n",
       "      <td>0</td>\n",
       "      <td>0</td>\n",
       "      <td>0</td>\n",
       "      <td>0</td>\n",
       "      <td>0</td>\n",
       "      <td>0</td>\n",
       "      <td>1</td>\n",
       "    </tr>\n",
       "    <tr>\n",
       "      <th>6</th>\n",
       "      <td>1</td>\n",
       "      <td>1</td>\n",
       "      <td>32</td>\n",
       "      <td>0</td>\n",
       "      <td>0</td>\n",
       "      <td>0</td>\n",
       "      <td>0</td>\n",
       "      <td>0</td>\n",
       "      <td>0</td>\n",
       "      <td>0</td>\n",
       "      <td>0</td>\n",
       "      <td>1</td>\n",
       "    </tr>\n",
       "    <tr>\n",
       "      <th>...</th>\n",
       "      <td>...</td>\n",
       "      <td>...</td>\n",
       "      <td>...</td>\n",
       "      <td>...</td>\n",
       "      <td>...</td>\n",
       "      <td>...</td>\n",
       "      <td>...</td>\n",
       "      <td>...</td>\n",
       "      <td>...</td>\n",
       "      <td>...</td>\n",
       "      <td>...</td>\n",
       "      <td>...</td>\n",
       "    </tr>\n",
       "    <tr>\n",
       "      <th>329976</th>\n",
       "      <td>6</td>\n",
       "      <td>1</td>\n",
       "      <td>362</td>\n",
       "      <td>0</td>\n",
       "      <td>80</td>\n",
       "      <td>0</td>\n",
       "      <td>0</td>\n",
       "      <td>1</td>\n",
       "      <td>0</td>\n",
       "      <td>0</td>\n",
       "      <td>1</td>\n",
       "      <td>0</td>\n",
       "    </tr>\n",
       "    <tr>\n",
       "      <th>329977</th>\n",
       "      <td>6</td>\n",
       "      <td>1</td>\n",
       "      <td>1500</td>\n",
       "      <td>0</td>\n",
       "      <td>80</td>\n",
       "      <td>0</td>\n",
       "      <td>0</td>\n",
       "      <td>1</td>\n",
       "      <td>0</td>\n",
       "      <td>0</td>\n",
       "      <td>1</td>\n",
       "      <td>0</td>\n",
       "    </tr>\n",
       "    <tr>\n",
       "      <th>329978</th>\n",
       "      <td>6</td>\n",
       "      <td>1</td>\n",
       "      <td>1426</td>\n",
       "      <td>0</td>\n",
       "      <td>80</td>\n",
       "      <td>1</td>\n",
       "      <td>0</td>\n",
       "      <td>0</td>\n",
       "      <td>0</td>\n",
       "      <td>0</td>\n",
       "      <td>1</td>\n",
       "      <td>0</td>\n",
       "    </tr>\n",
       "    <tr>\n",
       "      <th>329979</th>\n",
       "      <td>6</td>\n",
       "      <td>1</td>\n",
       "      <td>52</td>\n",
       "      <td>0</td>\n",
       "      <td>54232</td>\n",
       "      <td>1</td>\n",
       "      <td>0</td>\n",
       "      <td>0</td>\n",
       "      <td>0</td>\n",
       "      <td>0</td>\n",
       "      <td>0</td>\n",
       "      <td>1</td>\n",
       "    </tr>\n",
       "    <tr>\n",
       "      <th>329980</th>\n",
       "      <td>6</td>\n",
       "      <td>1</td>\n",
       "      <td>52</td>\n",
       "      <td>0</td>\n",
       "      <td>80</td>\n",
       "      <td>1</td>\n",
       "      <td>0</td>\n",
       "      <td>0</td>\n",
       "      <td>0</td>\n",
       "      <td>0</td>\n",
       "      <td>1</td>\n",
       "      <td>0</td>\n",
       "    </tr>\n",
       "    <tr>\n",
       "      <th>329981</th>\n",
       "      <td>6</td>\n",
       "      <td>1</td>\n",
       "      <td>40</td>\n",
       "      <td>0</td>\n",
       "      <td>3027</td>\n",
       "      <td>1</td>\n",
       "      <td>0</td>\n",
       "      <td>0</td>\n",
       "      <td>0</td>\n",
       "      <td>0</td>\n",
       "      <td>1</td>\n",
       "      <td>0</td>\n",
       "    </tr>\n",
       "    <tr>\n",
       "      <th>329982</th>\n",
       "      <td>6</td>\n",
       "      <td>1</td>\n",
       "      <td>40</td>\n",
       "      <td>0</td>\n",
       "      <td>80</td>\n",
       "      <td>1</td>\n",
       "      <td>0</td>\n",
       "      <td>0</td>\n",
       "      <td>0</td>\n",
       "      <td>0</td>\n",
       "      <td>1</td>\n",
       "      <td>0</td>\n",
       "    </tr>\n",
       "  </tbody>\n",
       "</table>\n",
       "<p>329983 rows × 12 columns</p>\n",
       "</div>"
      ],
      "text/plain": [
       "        pro  packets  bytes  durat  svc_port  flags_A  flags_F   A  flags_PA  \\\n",
       "0         6        1   1500      0        80        1            0         0   \n",
       "1         6        1     52      0        80        1            0         0   \n",
       "2         6        1   1500      0        80        1            0         0   \n",
       "3         6        1   1426      0       443        1            0         0   \n",
       "4         1        1     32      0         0        0            0         0   \n",
       "5         1        1     32      0         0        0            0         0   \n",
       "6         1        1     32      0         0        0            0         0   \n",
       "...     ...      ...    ...    ...       ...      ...          ...       ...   \n",
       "329976    6        1    362      0        80        0            0         1   \n",
       "329977    6        1   1500      0        80        0            0         1   \n",
       "329978    6        1   1426      0        80        1            0         0   \n",
       "329979    6        1     52      0     54232        1            0         0   \n",
       "329980    6        1     52      0        80        1            0         0   \n",
       "329981    6        1     40      0      3027        1            0         0   \n",
       "329982    6        1     40      0        80        1            0         0   \n",
       "\n",
       "        flags_R  flags_R A  status_anomaly  status_normal  \n",
       "0             0          0               1              0  \n",
       "1             0          0               1              0  \n",
       "2             0          0               1              0  \n",
       "3             0          0               1              0  \n",
       "4             0          0               0              1  \n",
       "5             0          0               0              1  \n",
       "6             0          0               0              1  \n",
       "...         ...        ...             ...            ...  \n",
       "329976        0          0               1              0  \n",
       "329977        0          0               1              0  \n",
       "329978        0          0               1              0  \n",
       "329979        0          0               0              1  \n",
       "329980        0          0               1              0  \n",
       "329981        0          0               1              0  \n",
       "329982        0          0               1              0  \n",
       "\n",
       "[329983 rows x 12 columns]"
      ]
     },
     "execution_count": 30,
     "metadata": {},
     "output_type": "execute_result"
    }
   ],
   "source": [
    "preprocessing.kdd_train_2labels.to_pickle(\"dataset/preprocessed_train_data.pkl\")\n",
    "preprocessing.kdd_test_2labels.to_pickle(\"dataset/preprocessed_test_data.pkl\")\n",
    "\n",
    "preprocessing.kdd_train_2labels"
   ]
  },
  {
   "cell_type": "code",
   "execution_count": 31,
   "metadata": {
    "ExecuteTime": {
     "end_time": "2017-10-17T22:06:45.214437Z",
     "start_time": "2017-10-17T22:06:45.150840Z"
    }
   },
   "outputs": [
    {
     "data": {
      "text/plain": [
       "anomaly    284631\n",
       "normal      45352\n",
       "Name: status, dtype: int64"
      ]
     },
     "execution_count": 31,
     "metadata": {},
     "output_type": "execute_result"
    }
   ],
   "source": [
    "dataset.kdd_label.value_counts()\n"
   ]
  },
  {
   "cell_type": "code",
   "execution_count": 32,
   "metadata": {
    "ExecuteTime": {
     "end_time": "2017-10-17T22:06:45.221491Z",
     "start_time": "2017-10-17T22:06:45.215848Z"
    },
    "collapsed": true
   },
   "outputs": [],
   "source": [
    "import matplotlib\n",
    "from pandas.plotting import andrews_curves\n",
    "from pandas.plotting import parallel_coordinates\n",
    "from sklearn import preprocessing as ps\n",
    "from pandas.plotting import radviz\n",
    "import matplotlib.pyplot as plt\n",
    "matplotlib.style.use('ggplot')"
   ]
  },
  {
   "cell_type": "code",
   "execution_count": 33,
   "metadata": {
    "ExecuteTime": {
     "end_time": "2017-10-17T22:06:45.262391Z",
     "start_time": "2017-10-17T22:06:45.222785Z"
    }
   },
   "outputs": [
    {
     "data": {
      "text/html": [
       "<div>\n",
       "<style>\n",
       "    .dataframe thead tr:only-child th {\n",
       "        text-align: right;\n",
       "    }\n",
       "\n",
       "    .dataframe thead th {\n",
       "        text-align: left;\n",
       "    }\n",
       "\n",
       "    .dataframe tbody tr th {\n",
       "        vertical-align: top;\n",
       "    }\n",
       "</style>\n",
       "<table border=\"1\" class=\"dataframe\">\n",
       "  <thead>\n",
       "    <tr style=\"text-align: right;\">\n",
       "      <th></th>\n",
       "      <th>pro</th>\n",
       "      <th>packets</th>\n",
       "      <th>bytes</th>\n",
       "      <th>durat</th>\n",
       "      <th>svc_port</th>\n",
       "      <th>flags_A</th>\n",
       "      <th>flags_F   A</th>\n",
       "      <th>flags_PA</th>\n",
       "      <th>flags_R</th>\n",
       "      <th>flags_R A</th>\n",
       "      <th>status</th>\n",
       "    </tr>\n",
       "  </thead>\n",
       "  <tbody>\n",
       "    <tr>\n",
       "      <th>0</th>\n",
       "      <td>6</td>\n",
       "      <td>1</td>\n",
       "      <td>1500</td>\n",
       "      <td>0</td>\n",
       "      <td>80</td>\n",
       "      <td>1</td>\n",
       "      <td>0</td>\n",
       "      <td>0</td>\n",
       "      <td>0</td>\n",
       "      <td>0</td>\n",
       "      <td>anomaly</td>\n",
       "    </tr>\n",
       "    <tr>\n",
       "      <th>1</th>\n",
       "      <td>6</td>\n",
       "      <td>1</td>\n",
       "      <td>52</td>\n",
       "      <td>0</td>\n",
       "      <td>80</td>\n",
       "      <td>1</td>\n",
       "      <td>0</td>\n",
       "      <td>0</td>\n",
       "      <td>0</td>\n",
       "      <td>0</td>\n",
       "      <td>anomaly</td>\n",
       "    </tr>\n",
       "    <tr>\n",
       "      <th>2</th>\n",
       "      <td>6</td>\n",
       "      <td>1</td>\n",
       "      <td>1500</td>\n",
       "      <td>0</td>\n",
       "      <td>80</td>\n",
       "      <td>1</td>\n",
       "      <td>0</td>\n",
       "      <td>0</td>\n",
       "      <td>0</td>\n",
       "      <td>0</td>\n",
       "      <td>anomaly</td>\n",
       "    </tr>\n",
       "    <tr>\n",
       "      <th>3</th>\n",
       "      <td>6</td>\n",
       "      <td>1</td>\n",
       "      <td>1426</td>\n",
       "      <td>0</td>\n",
       "      <td>443</td>\n",
       "      <td>1</td>\n",
       "      <td>0</td>\n",
       "      <td>0</td>\n",
       "      <td>0</td>\n",
       "      <td>0</td>\n",
       "      <td>anomaly</td>\n",
       "    </tr>\n",
       "    <tr>\n",
       "      <th>4</th>\n",
       "      <td>1</td>\n",
       "      <td>1</td>\n",
       "      <td>32</td>\n",
       "      <td>0</td>\n",
       "      <td>0</td>\n",
       "      <td>0</td>\n",
       "      <td>0</td>\n",
       "      <td>0</td>\n",
       "      <td>0</td>\n",
       "      <td>0</td>\n",
       "      <td>normal</td>\n",
       "    </tr>\n",
       "    <tr>\n",
       "      <th>5</th>\n",
       "      <td>1</td>\n",
       "      <td>1</td>\n",
       "      <td>32</td>\n",
       "      <td>0</td>\n",
       "      <td>0</td>\n",
       "      <td>0</td>\n",
       "      <td>0</td>\n",
       "      <td>0</td>\n",
       "      <td>0</td>\n",
       "      <td>0</td>\n",
       "      <td>normal</td>\n",
       "    </tr>\n",
       "    <tr>\n",
       "      <th>6</th>\n",
       "      <td>1</td>\n",
       "      <td>1</td>\n",
       "      <td>32</td>\n",
       "      <td>0</td>\n",
       "      <td>0</td>\n",
       "      <td>0</td>\n",
       "      <td>0</td>\n",
       "      <td>0</td>\n",
       "      <td>0</td>\n",
       "      <td>0</td>\n",
       "      <td>normal</td>\n",
       "    </tr>\n",
       "    <tr>\n",
       "      <th>...</th>\n",
       "      <td>...</td>\n",
       "      <td>...</td>\n",
       "      <td>...</td>\n",
       "      <td>...</td>\n",
       "      <td>...</td>\n",
       "      <td>...</td>\n",
       "      <td>...</td>\n",
       "      <td>...</td>\n",
       "      <td>...</td>\n",
       "      <td>...</td>\n",
       "      <td>...</td>\n",
       "    </tr>\n",
       "    <tr>\n",
       "      <th>329976</th>\n",
       "      <td>6</td>\n",
       "      <td>1</td>\n",
       "      <td>362</td>\n",
       "      <td>0</td>\n",
       "      <td>80</td>\n",
       "      <td>0</td>\n",
       "      <td>0</td>\n",
       "      <td>1</td>\n",
       "      <td>0</td>\n",
       "      <td>0</td>\n",
       "      <td>anomaly</td>\n",
       "    </tr>\n",
       "    <tr>\n",
       "      <th>329977</th>\n",
       "      <td>6</td>\n",
       "      <td>1</td>\n",
       "      <td>1500</td>\n",
       "      <td>0</td>\n",
       "      <td>80</td>\n",
       "      <td>0</td>\n",
       "      <td>0</td>\n",
       "      <td>1</td>\n",
       "      <td>0</td>\n",
       "      <td>0</td>\n",
       "      <td>anomaly</td>\n",
       "    </tr>\n",
       "    <tr>\n",
       "      <th>329978</th>\n",
       "      <td>6</td>\n",
       "      <td>1</td>\n",
       "      <td>1426</td>\n",
       "      <td>0</td>\n",
       "      <td>80</td>\n",
       "      <td>1</td>\n",
       "      <td>0</td>\n",
       "      <td>0</td>\n",
       "      <td>0</td>\n",
       "      <td>0</td>\n",
       "      <td>anomaly</td>\n",
       "    </tr>\n",
       "    <tr>\n",
       "      <th>329979</th>\n",
       "      <td>6</td>\n",
       "      <td>1</td>\n",
       "      <td>52</td>\n",
       "      <td>0</td>\n",
       "      <td>54232</td>\n",
       "      <td>1</td>\n",
       "      <td>0</td>\n",
       "      <td>0</td>\n",
       "      <td>0</td>\n",
       "      <td>0</td>\n",
       "      <td>normal</td>\n",
       "    </tr>\n",
       "    <tr>\n",
       "      <th>329980</th>\n",
       "      <td>6</td>\n",
       "      <td>1</td>\n",
       "      <td>52</td>\n",
       "      <td>0</td>\n",
       "      <td>80</td>\n",
       "      <td>1</td>\n",
       "      <td>0</td>\n",
       "      <td>0</td>\n",
       "      <td>0</td>\n",
       "      <td>0</td>\n",
       "      <td>anomaly</td>\n",
       "    </tr>\n",
       "    <tr>\n",
       "      <th>329981</th>\n",
       "      <td>6</td>\n",
       "      <td>1</td>\n",
       "      <td>40</td>\n",
       "      <td>0</td>\n",
       "      <td>3027</td>\n",
       "      <td>1</td>\n",
       "      <td>0</td>\n",
       "      <td>0</td>\n",
       "      <td>0</td>\n",
       "      <td>0</td>\n",
       "      <td>anomaly</td>\n",
       "    </tr>\n",
       "    <tr>\n",
       "      <th>329982</th>\n",
       "      <td>6</td>\n",
       "      <td>1</td>\n",
       "      <td>40</td>\n",
       "      <td>0</td>\n",
       "      <td>80</td>\n",
       "      <td>1</td>\n",
       "      <td>0</td>\n",
       "      <td>0</td>\n",
       "      <td>0</td>\n",
       "      <td>0</td>\n",
       "      <td>anomaly</td>\n",
       "    </tr>\n",
       "  </tbody>\n",
       "</table>\n",
       "<p>329983 rows × 11 columns</p>\n",
       "</div>"
      ],
      "text/plain": [
       "        pro  packets  bytes  durat  svc_port  flags_A  flags_F   A  flags_PA  \\\n",
       "0         6        1   1500      0        80        1            0         0   \n",
       "1         6        1     52      0        80        1            0         0   \n",
       "2         6        1   1500      0        80        1            0         0   \n",
       "3         6        1   1426      0       443        1            0         0   \n",
       "4         1        1     32      0         0        0            0         0   \n",
       "5         1        1     32      0         0        0            0         0   \n",
       "6         1        1     32      0         0        0            0         0   \n",
       "...     ...      ...    ...    ...       ...      ...          ...       ...   \n",
       "329976    6        1    362      0        80        0            0         1   \n",
       "329977    6        1   1500      0        80        0            0         1   \n",
       "329978    6        1   1426      0        80        1            0         0   \n",
       "329979    6        1     52      0     54232        1            0         0   \n",
       "329980    6        1     52      0        80        1            0         0   \n",
       "329981    6        1     40      0      3027        1            0         0   \n",
       "329982    6        1     40      0        80        1            0         0   \n",
       "\n",
       "        flags_R  flags_R A   status  \n",
       "0             0          0  anomaly  \n",
       "1             0          0  anomaly  \n",
       "2             0          0  anomaly  \n",
       "3             0          0  anomaly  \n",
       "4             0          0   normal  \n",
       "5             0          0   normal  \n",
       "6             0          0   normal  \n",
       "...         ...        ...      ...  \n",
       "329976        0          0  anomaly  \n",
       "329977        0          0  anomaly  \n",
       "329978        0          0  anomaly  \n",
       "329979        0          0   normal  \n",
       "329980        0          0  anomaly  \n",
       "329981        0          0  anomaly  \n",
       "329982        0          0  anomaly  \n",
       "\n",
       "[329983 rows x 11 columns]"
      ]
     },
     "execution_count": 33,
     "metadata": {},
     "output_type": "execute_result"
    }
   ],
   "source": [
    "df_train = preprocessing.kdd_train_2labels.drop(['status_anomaly', 'status_normal'], axis = 1)\n",
    "df_train = pd.concat([df_train, dataset.kdd_label], axis = 1)\n",
    "df_train"
   ]
  },
  {
   "cell_type": "code",
   "execution_count": 34,
   "metadata": {
    "ExecuteTime": {
     "end_time": "2017-10-17T22:06:46.649187Z",
     "start_time": "2017-10-17T22:06:45.263757Z"
    },
    "collapsed": true
   },
   "outputs": [],
   "source": [
    "from sklearn.manifold import TSNE\n",
    "model = TSNE(n_components=2, random_state=0)\n",
    "#np.set_printoptions(suppress=True)\n",
    "df_n = df_train[df_train.status == 'normal'].sample(1000)\n",
    "df_a = df_train[df_train.status == 'anomaly'].sample(1000)"
   ]
  },
  {
   "cell_type": "code",
   "execution_count": 35,
   "metadata": {
    "ExecuteTime": {
     "end_time": "2017-10-17T22:06:46.674378Z",
     "start_time": "2017-10-17T22:06:46.650861Z"
    },
    "collapsed": true
   },
   "outputs": [],
   "source": [
    "sample = pd.concat([df_n, df_a], axis=0)\n",
    "sample.to_pickle(\"dataset/tsne_sample.pkl\")"
   ]
  },
  {
   "cell_type": "code",
   "execution_count": 36,
   "metadata": {
    "ExecuteTime": {
     "end_time": "2017-10-17T22:06:46.682305Z",
     "start_time": "2017-10-17T22:06:46.676014Z"
    },
    "collapsed": true
   },
   "outputs": [],
   "source": [
    "sample = pd.read_pickle(\"dataset/tsne_sample.pkl\")"
   ]
  },
  {
   "cell_type": "code",
   "execution_count": 37,
   "metadata": {
    "ExecuteTime": {
     "end_time": "2017-10-17T22:06:46.689231Z",
     "start_time": "2017-10-17T22:06:46.683883Z"
    }
   },
   "outputs": [
    {
     "data": {
      "text/plain": [
       "(2000, 11)"
      ]
     },
     "execution_count": 37,
     "metadata": {},
     "output_type": "execute_result"
    }
   ],
   "source": [
    "sample.shape"
   ]
  },
  {
   "cell_type": "code",
   "execution_count": 38,
   "metadata": {
    "ExecuteTime": {
     "end_time": "2017-10-17T22:06:46.700244Z",
     "start_time": "2017-10-17T22:06:46.690706Z"
    }
   },
   "outputs": [
    {
     "data": {
      "text/plain": [
       "status\n",
       "anomaly    1000\n",
       "normal     1000\n",
       "Name: status, dtype: int64"
      ]
     },
     "execution_count": 38,
     "metadata": {},
     "output_type": "execute_result"
    }
   ],
   "source": [
    "sample.groupby(by='status').status.count()"
   ]
  },
  {
   "cell_type": "code",
   "execution_count": 39,
   "metadata": {
    "ExecuteTime": {
     "end_time": "2017-10-17T22:06:50.947722Z",
     "start_time": "2017-10-17T22:06:46.701692Z"
    },
    "collapsed": true
   },
   "outputs": [],
   "source": [
    "x_tsne = sample.iloc[:, :-1]\n",
    "y_tsne = sample.iloc[:, -1]\n",
    "\n",
    "\n",
    "from sklearn.decomposition import SparsePCA\n",
    "pca_analysis = SparsePCA(n_components=5)\n",
    "x_tsne_pca = pca_analysis.fit_transform(x_tsne)\n",
    "#x_tsne_pca = x_tsne"
   ]
  },
  {
   "cell_type": "code",
   "execution_count": 40,
   "metadata": {
    "ExecuteTime": {
     "end_time": "2017-10-17T22:06:50.955881Z",
     "start_time": "2017-10-17T22:06:50.949200Z"
    },
    "collapsed": true
   },
   "outputs": [],
   "source": [
    "\n",
    "\n",
    "\n",
    "pd.DataFrame(x_tsne_pca).to_pickle(\"dataset/tsne_pca_df.pkl\")\n",
    "\n",
    "x_tsne_pca = pd.read_pickle(\"dataset/tsne_pca_df.pkl\").values"
   ]
  },
  {
   "cell_type": "code",
   "execution_count": 41,
   "metadata": {
    "ExecuteTime": {
     "end_time": "2017-10-17T22:06:50.962199Z",
     "start_time": "2017-10-17T22:06:50.957537Z"
    },
    "collapsed": true
   },
   "outputs": [],
   "source": [
    "x_tsne_pca_df = pd.DataFrame(x_tsne_pca)\n",
    "\n",
    "x_tsne_pca_df['is'] = y_tsne.values"
   ]
  },
  {
   "cell_type": "code",
   "execution_count": 42,
   "metadata": {
    "ExecuteTime": {
     "end_time": "2017-10-17T22:06:57.497456Z",
     "start_time": "2017-10-17T22:06:50.963741Z"
    }
   },
   "outputs": [
    {
     "data": {
      "text/plain": [
       "<matplotlib.axes._subplots.AxesSubplot at 0x7fbd16734e48>"
      ]
     },
     "execution_count": 42,
     "metadata": {},
     "output_type": "execute_result"
    },
    {
     "data": {
      "image/png": "[encoded data removed]",
      "text/plain": [
       "<matplotlib.figure.Figure at 0x7fbd165b0748>"
      ]
     },
     "metadata": {},
     "output_type": "display_data"
    }
   ],
   "source": [
    "plt.figure(figsize=(7,3))\n",
    "\n",
    "andrews_curves(x_tsne_pca_df, \"is\")"
   ]
  },
  {
   "cell_type": "code",
   "execution_count": 43,
   "metadata": {
    "ExecuteTime": {
     "end_time": "2017-10-17T22:08:10.050450Z",
     "start_time": "2017-10-17T22:06:57.498931Z"
    },
    "collapsed": true
   },
   "outputs": [],
   "source": [
    "df = model.fit_transform(x_tsne_pca) \n",
    "df1 = model.fit_transform(df)\n",
    "df2 = model.fit_transform(df1) \n",
    "df3 = model.fit_transform(df2) "
   ]
  },
  {
   "cell_type": "code",
   "execution_count": 44,
   "metadata": {
    "ExecuteTime": {
     "end_time": "2017-10-17T22:08:10.058665Z",
     "start_time": "2017-10-17T22:08:10.052002Z"
    },
    "collapsed": true
   },
   "outputs": [],
   "source": [
    "pd.DataFrame(df).to_pickle(\"dataset/tsne_df.pkl\")\n",
    "pd.DataFrame(df1).to_pickle(\"dataset/tsne_df1.pkl\")\n",
    "pd.DataFrame(df2).to_pickle(\"dataset/tsne_df2.pkl\")\n",
    "pd.DataFrame(df3).to_pickle(\"dataset/tsne_df3.pkl\")"
   ]
  },
  {
   "cell_type": "code",
   "execution_count": 45,
   "metadata": {
    "ExecuteTime": {
     "end_time": "2017-10-17T22:08:10.108800Z",
     "start_time": "2017-10-17T22:08:10.059831Z"
    },
    "collapsed": true
   },
   "outputs": [],
   "source": [
    "\n",
    "df = pd.read_pickle(\"dataset/tsne_df.pkl\").values\n",
    "df1 = pd.read_pickle(\"dataset/tsne_df1.pkl\").values\n",
    "df2 = pd.read_pickle(\"dataset/tsne_df2.pkl\").values\n",
    "df3 = pd.read_pickle(\"dataset/tsne_df3.pkl\").values"
   ]
  },
  {
   "cell_type": "code",
   "execution_count": 46,
   "metadata": {
    "ExecuteTime": {
     "end_time": "2017-10-17T22:08:10.867172Z",
     "start_time": "2017-10-17T22:08:10.110069Z"
    }
   },
   "outputs": [
    {
     "data": {
      "text/plain": [
       "<matplotlib.legend.Legend at 0x7fbcf6be4f60>"
      ]
     },
     "execution_count": 46,
     "metadata": {},
     "output_type": "execute_result"
    },
    {
     "data": {
      "image/png": "[encoded data removed]",
      "text/plain": [
       "<matplotlib.figure.Figure at 0x7fbcf6e7acc0>"
      ]
     },
     "metadata": {},
     "output_type": "display_data"
    }
   ],
   "source": [
    "\n",
    "#plt.figure(figsize=(15,8))\n",
    "\n",
    "f, ((ax1, ax2), (ax3, ax4)) = plt.subplots(2, 2, sharex='col', sharey='row', figsize=(10,5))\n",
    "\n",
    "ax1.scatter(x = df[y_tsne=='normal',0], y = df[y_tsne=='normal',1], label = 'normal')\n",
    "ax1.scatter(x = df[y_tsne=='anomaly',0], y = df[y_tsne=='anomaly',1], label = 'anomaly')\n",
    "ax1.title.set_text(\"After 1000 epochs\")\n",
    "\n",
    "ax2.scatter(x = df1[y_tsne=='normal',0], y = df1[y_tsne=='normal',1], label = 'normal')\n",
    "ax2.scatter(x = df1[y_tsne=='anomaly',0], y = df1[y_tsne=='anomaly',1], label = 'anomaly')\n",
    "ax2.title.set_text(\"After 2000 epochs\")\n",
    "\n",
    "ax3.scatter(x = df2[y_tsne=='normal',0], y = df2[y_tsne=='normal',1], label = 'normal')\n",
    "ax3.scatter(x = df2[y_tsne=='anomaly',0], y = df2[y_tsne=='anomaly',1], label = 'anomaly')\n",
    "ax3.title.set_text(\"After 3000 epochs\")\n",
    "\n",
    "ax4.scatter(x = df3[y_tsne=='normal',0], y = df3[y_tsne=='normal',1], label = 'normal')\n",
    "ax4.scatter(x = df3[y_tsne=='anomaly',0], y = df3[y_tsne=='anomaly',1], label = 'anomaly')\n",
    "ax4.title.set_text(\"After 4000 epochs\")\n",
    "\n",
    "plt.subplots_adjust(wspace=0.05, hspace=0.18)\n",
    "ax1.legend(loc=0)\n",
    "\n",
    "\n"
   ]
  },
  {
   "cell_type": "code",
   "execution_count": 47,
   "metadata": {
    "ExecuteTime": {
     "end_time": "2017-10-17T22:08:11.153909Z",
     "start_time": "2017-10-17T22:08:10.868642Z"
    }
   },
   "outputs": [
    {
     "data": {
      "text/plain": [
       "<matplotlib.text.Text at 0x7fbcf6c64be0>"
      ]
     },
     "execution_count": 47,
     "metadata": {},
     "output_type": "execute_result"
    },
    {
     "data": {
      "image/png": "[encoded data removed]",
      "text/plain": [
       "<matplotlib.figure.Figure at 0x7fbcf6e5e8d0>"
      ]
     },
     "metadata": {},
     "output_type": "display_data"
    }
   ],
   "source": [
    "\n",
    "plt.figure(figsize=(15,8))\n",
    "\n",
    "\n",
    "plt.scatter(x = df3[y_tsne=='normal',0], y = df3[y_tsne=='normal',1], label = 'normal')\n",
    "plt.scatter(x = df3[y_tsne=='anomaly',0], y = df3[y_tsne=='anomaly',1], label = 'anomaly')\n",
    "plt.title(\"After 4000 epochs\")\n"
   ]
  },
  {
   "cell_type": "code",
   "execution_count": 48,
   "metadata": {
    "ExecuteTime": {
     "end_time": "2017-10-17T22:08:11.206293Z",
     "start_time": "2017-10-17T22:08:11.155247Z"
    },
    "collapsed": true
   },
   "outputs": [],
   "source": [
    "preprocessing.kdd_train_2labels.to_pickle(\"dataset/kdd_train_2labels.pkl\")\n",
    "dataset.kdd_label.to_pickle(\"dataset/kdd_label.pkl\")\n"
   ]
  },
  {
   "cell_type": "code",
   "execution_count": 49,
   "metadata": {
    "ExecuteTime": {
     "end_time": "2017-10-17T22:08:15.184383Z",
     "start_time": "2017-10-17T22:08:11.207871Z"
    }
   },
   "outputs": [
    {
     "name": "stderr",
     "output_type": "stream",
     "text": [
      "/home/ritesh_malaiya/anaconda3/envs/p3/lib/python3.6/site-packages/statsmodels/compat/pandas.py:56: FutureWarning: The pandas.core.datetools module is deprecated and will be removed in a future version. Please use the pandas.tseries module instead.\n",
      "  from pandas.core import datetools\n"
     ]
    }
   ],
   "source": [
    "import statsmodels.api as sm\n",
    "\n",
    "x_ols = sample.iloc[:, :-1]\n",
    "y_ols = sample.iloc[:, -1].map(lambda x: {\"normal\":0, \"anomaly\":1}[x])\n",
    "\n",
    "results = sm.OLS(y_ols, x_ols.values).fit()"
   ]
  },
  {
   "cell_type": "code",
   "execution_count": 50,
   "metadata": {
    "ExecuteTime": {
     "end_time": "2017-10-17T22:08:15.189336Z",
     "start_time": "2017-10-17T22:08:15.185872Z"
    }
   },
   "outputs": [
    {
     "data": {
      "text/plain": [
       "<statsmodels.regression.linear_model.RegressionResultsWrapper at 0x7fbcf00d5c88>"
      ]
     },
     "execution_count": 50,
     "metadata": {},
     "output_type": "execute_result"
    }
   ],
   "source": [
    "results"
   ]
  },
  {
   "cell_type": "code",
   "execution_count": 51,
   "metadata": {
    "ExecuteTime": {
     "end_time": "2017-10-17T22:08:15.277211Z",
     "start_time": "2017-10-17T22:08:15.190586Z"
    }
   },
   "outputs": [
    {
     "name": "stderr",
     "output_type": "stream",
     "text": [
      "/home/ritesh_malaiya/anaconda3/envs/p3/lib/python3.6/site-packages/statsmodels/base/model.py:1036: RuntimeWarning: invalid value encountered in true_divide\n",
      "  return self.params / self.bse\n",
      "/home/ritesh_malaiya/anaconda3/envs/p3/lib/python3.6/site-packages/scipy/stats/_distn_infrastructure.py:879: RuntimeWarning: invalid value encountered in greater\n",
      "  return (self.a < x) & (x < self.b)\n",
      "/home/ritesh_malaiya/anaconda3/envs/p3/lib/python3.6/site-packages/scipy/stats/_distn_infrastructure.py:879: RuntimeWarning: invalid value encountered in less\n",
      "  return (self.a < x) & (x < self.b)\n",
      "/home/ritesh_malaiya/anaconda3/envs/p3/lib/python3.6/site-packages/scipy/stats/_distn_infrastructure.py:1818: RuntimeWarning: invalid value encountered in less_equal\n",
      "  cond2 = cond0 & (x <= self.a)\n"
     ]
    },
    {
     "data": {
      "text/plain": [
       "x4       2.295176e-71\n",
       "x5       4.999732e-25\n",
       "x3       1.164028e-14\n",
       "x7       8.083688e-08\n",
       "const    8.211880e-06\n",
       "x8       1.213488e-02\n",
       "x6       4.011569e-01\n",
       "x1       7.950154e-01\n",
       "x2       7.993650e-01\n",
       "x9                NaN\n",
       "dtype: float64"
      ]
     },
     "execution_count": 51,
     "metadata": {},
     "output_type": "execute_result"
    }
   ],
   "source": [
    "results.pvalues.sort_values()"
   ]
  },
  {
   "cell_type": "code",
   "execution_count": 52,
   "metadata": {
    "ExecuteTime": {
     "end_time": "2017-10-17T22:08:15.691240Z",
     "start_time": "2017-10-17T22:08:15.278489Z"
    }
   },
   "outputs": [
    {
     "data": {
      "image/png": "[encoded data removed]",
      "text/plain": [
       "<matplotlib.figure.Figure at 0x7fbcf005a358>"
      ]
     },
     "metadata": {},
     "output_type": "display_data"
    }
   ],
   "source": [
    "import warnings\n",
    "warnings.filterwarnings('ignore')\n",
    "results.pvalues.sort_values().plot();"
   ]
  },
  {
   "cell_type": "code",
   "execution_count": 53,
   "metadata": {
    "ExecuteTime": {
     "end_time": "2017-10-17T22:08:15.882771Z",
     "start_time": "2017-10-17T22:08:15.692759Z"
    }
   },
   "outputs": [
    {
     "data": {
      "text/plain": [
       "<matplotlib.axes._subplots.AxesSubplot at 0x7fbcf000d4a8>"
      ]
     },
     "execution_count": 53,
     "metadata": {},
     "output_type": "execute_result"
    },
    {
     "data": {
      "image/png": "[encoded data removed]",
      "text/plain": [
       "<matplotlib.figure.Figure at 0x7fbcf005a390>"
      ]
     },
     "metadata": {},
     "output_type": "display_data"
    }
   ],
   "source": [
    "temp = results.pvalues\n",
    "temp = temp.reset_index()\n",
    "#temp.set_index( [i for i in range(len(results.pvalues.index))])\n",
    "#temp[0].plot()\n",
    "t = temp[0].reset_index()\n",
    "t = t.sort_values(by=0)\n",
    "t.columns = ['feature', 'p-value']\n",
    "t.feature = t.feature.astype('category')\n",
    "t.set_index('feature').plot()"
   ]
  },
  {
   "cell_type": "code",
   "execution_count": 54,
   "metadata": {
    "ExecuteTime": {
     "end_time": "2017-10-17T22:08:16.070091Z",
     "start_time": "2017-10-17T22:08:15.884081Z"
    }
   },
   "outputs": [
    {
     "data": {
      "text/plain": [
       "<matplotlib.axes._subplots.AxesSubplot at 0x7fbcef8cf5f8>"
      ]
     },
     "execution_count": 54,
     "metadata": {},
     "output_type": "execute_result"
    },
    {
     "data": {
      "image/png": "[encoded data removed]",
      "text/plain": [
       "<matplotlib.figure.Figure at 0x7fbceff95e10>"
      ]
     },
     "metadata": {},
     "output_type": "display_data"
    }
   ],
   "source": [
    "temp = results.pvalues\n",
    "temp = temp.reset_index()\n",
    "#temp.set_index( [i for i in range(len(results.pvalues.index))])\n",
    "#temp[0].plot()\n",
    "t = temp[0].reset_index()\n",
    "t.columns = ['feature', 'p-value']\n",
    "t.feature = t.feature.astype('category')\n",
    "t.set_index('feature').plot()"
   ]
  },
  {
   "cell_type": "code",
   "execution_count": 55,
   "metadata": {
    "ExecuteTime": {
     "end_time": "2017-10-17T22:08:16.240245Z",
     "start_time": "2017-10-17T22:08:16.071441Z"
    }
   },
   "outputs": [
    {
     "data": {
      "text/plain": [
       "<matplotlib.axes._subplots.AxesSubplot at 0x7fbcef793320>"
      ]
     },
     "execution_count": 55,
     "metadata": {},
     "output_type": "execute_result"
    },
    {
     "data": {
      "image/png": "[encoded data removed]",
      "text/plain": [
       "<matplotlib.figure.Figure at 0x7fbcf6c2ea58>"
      ]
     },
     "metadata": {},
     "output_type": "display_data"
    }
   ],
   "source": [
    "results.pvalues.sort_values().hist()"
   ]
  },
  {
   "cell_type": "code",
   "execution_count": 56,
   "metadata": {
    "ExecuteTime": {
     "end_time": "2017-10-17T22:08:16.248362Z",
     "start_time": "2017-10-17T22:08:16.241517Z"
    }
   },
   "outputs": [
    {
     "name": "stdout",
     "output_type": "stream",
     "text": [
      "Variables having P value lower than 1e-5\n"
     ]
    },
    {
     "data": {
      "text/plain": [
       "x4       2.295176e-71\n",
       "x5       4.999732e-25\n",
       "x3       1.164028e-14\n",
       "x7       8.083688e-08\n",
       "const    8.211880e-06\n",
       "dtype: float64"
      ]
     },
     "execution_count": 56,
     "metadata": {},
     "output_type": "execute_result"
    }
   ],
   "source": [
    "\n",
    "print(\"Variables having P value lower than 1e-5\")\n",
    "results.pvalues[results.pvalues < 1e-5].sort_values()"
   ]
  },
  {
   "cell_type": "code",
   "execution_count": null,
   "metadata": {
    "collapsed": true
   },
   "outputs": [],
   "source": []
  },
  {
   "cell_type": "code",
   "execution_count": null,
   "metadata": {
    "collapsed": true
   },
   "outputs": [],
   "source": []
  }
 ],
 "metadata": {
  "_draft": {
   "nbviewer_url": "https://gist.github.com/a442376f3fb1d15375cdf44746cfb2fb"
  },
  "anaconda-cloud": {},
  "gist": {
   "data": {
    "description": "With Difficulty level",
    "public": false
   },
   "id": "a442376f3fb1d15375cdf44746cfb2fb"
  },
  "kernelspec": {
   "display_name": "Python [conda env:p3]",
   "language": "python",
   "name": "conda-env-p3-py"
  },
  "language_info": {
   "codemirror_mode": {
    "name": "ipython",
    "version": 3
   },
   "file_extension": ".py",
   "mimetype": "text/x-python",
   "name": "python",
   "nbconvert_exporter": "python",
   "pygments_lexer": "ipython3",
   "version": "3.6.2"
  },
  "varInspector": {
   "cols": {
    "lenName": 16,
    "lenType": 16,
    "lenVar": 40
   },
   "kernels_config": {
    "python": {
     "delete_cmd_postfix": "",
     "delete_cmd_prefix": "del ",
     "library": "var_list.py",
     "varRefreshCmd": "print(var_dic_list())"
    },
    "r": {
     "delete_cmd_postfix": ") ",
     "delete_cmd_prefix": "rm(",
     "library": "var_list.r",
     "varRefreshCmd": "cat(var_dic_list()) "
    }
   },
   "types_to_exclude": [
    "module",
    "function",
    "builtin_function_or_method",
    "instance",
    "_Feature"
   ],
   "window_display": false
  }
 },
 "nbformat": 4,
 "nbformat_minor": 2
}
