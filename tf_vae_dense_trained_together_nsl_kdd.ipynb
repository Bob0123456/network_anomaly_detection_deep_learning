{
 "cells": [
  {
   "cell_type": "markdown",
   "metadata": {},
   "source": [
    "# Read Data Sample"
   ]
  },
  {
   "cell_type": "code",
   "execution_count": 1,
   "metadata": {
    "ExecuteTime": {
     "end_time": "2017-07-11T19:22:48.425774Z",
     "start_time": "2017-07-11T19:22:41.006347Z"
    },
    "collapsed": true
   },
   "outputs": [],
   "source": [
    "import pandas as pd\n",
    "import numpy as np\n",
    "import os\n",
    "from collections import namedtuple\n",
    "pd.set_option(\"display.max_rows\",100)\n",
    "%matplotlib inline"
   ]
  },
  {
   "cell_type": "code",
   "execution_count": 2,
   "metadata": {
    "ExecuteTime": {
     "end_time": "2017-07-11T19:22:48.586067Z",
     "start_time": "2017-07-11T19:22:48.427423Z"
    }
   },
   "outputs": [
    {
     "name": "stdout",
     "output_type": "stream",
     "text": [
      "{'20140122': {'y': 'dataset/Kyoto2016/2014/01/20140122_y.csv', 'x': 'dataset/Kyoto2016/2014/01/20140122_x.csv'}}\n",
      "----------------------------------------------------------------------------------------\n",
      "{'20150125': {'x': 'dataset/Kyoto2016/2015/01/20150125_x.csv', 'y': 'dataset/Kyoto2016/2015/01/20150125_y.csv'}, '20150101': {'y': 'dataset/Kyoto2016/2015/01/20150101_y.csv', 'x': 'dataset/Kyoto2016/2015/01/20150101_x.csv'}, '20150117': {'y': 'dataset/Kyoto2016/2015/01/20150117_y.csv', 'x': 'dataset/Kyoto2016/2015/01/20150117_x.csv'}, '20150105': {'y': 'dataset/Kyoto2016/2015/01/20150105_y.csv', 'x': 'dataset/Kyoto2016/2015/01/20150105_x.csv'}, '20150116': {'x': 'dataset/Kyoto2016/2015/01/20150116_x.csv', 'y': 'dataset/Kyoto2016/2015/01/20150116_y.csv'}, '20150131': {'x': 'dataset/Kyoto2016/2015/01/20150131_x.csv', 'y': 'dataset/Kyoto2016/2015/01/20150131_y.csv'}, '20150113': {'y': 'dataset/Kyoto2016/2015/01/20150113_y.csv', 'x': 'dataset/Kyoto2016/2015/01/20150113_x.csv'}, '20150118': {'y': 'dataset/Kyoto2016/2015/01/20150118_y.csv', 'x': 'dataset/Kyoto2016/2015/01/20150118_x.csv'}, '20150127': {'x': 'dataset/Kyoto2016/2015/01/20150127_x.csv', 'y': 'dataset/Kyoto2016/2015/01/20150127_y.csv'}, '20150110': {'y': 'dataset/Kyoto2016/2015/01/20150110_y.csv', 'x': 'dataset/Kyoto2016/2015/01/20150110_x.csv'}, '20150102': {'y': 'dataset/Kyoto2016/2015/01/20150102_y.csv', 'x': 'dataset/Kyoto2016/2015/01/20150102_x.csv'}, '20150130': {'y': 'dataset/Kyoto2016/2015/01/20150130_y.csv', 'x': 'dataset/Kyoto2016/2015/01/20150130_x.csv'}, '20150122': {'x': 'dataset/Kyoto2016/2015/01/20150122_x.csv', 'y': 'dataset/Kyoto2016/2015/01/20150122_y.csv'}, '20150120': {'x': 'dataset/Kyoto2016/2015/01/20150120_x.csv', 'y': 'dataset/Kyoto2016/2015/01/20150120_y.csv'}, '20150126': {'y': 'dataset/Kyoto2016/2015/01/20150126_y.csv', 'x': 'dataset/Kyoto2016/2015/01/20150126_x.csv'}, '20150109': {'y': 'dataset/Kyoto2016/2015/01/20150109_y.csv', 'x': 'dataset/Kyoto2016/2015/01/20150109_x.csv'}, '20150108': {'y': 'dataset/Kyoto2016/2015/01/20150108_y.csv', 'x': 'dataset/Kyoto2016/2015/01/20150108_x.csv'}, '20150123': {'x': 'dataset/Kyoto2016/2015/01/20150123_x.csv', 'y': 'dataset/Kyoto2016/2015/01/20150123_y.csv'}, '20150129': {'y': 'dataset/Kyoto2016/2015/01/20150129_y.csv', 'x': 'dataset/Kyoto2016/2015/01/20150129_x.csv'}, '20150115': {'y': 'dataset/Kyoto2016/2015/01/20150115_y.csv', 'x': 'dataset/Kyoto2016/2015/01/20150115_x.csv'}, '20150112': {'y': 'dataset/Kyoto2016/2015/01/20150112_y.csv', 'x': 'dataset/Kyoto2016/2015/01/20150112_x.csv'}, '20150107': {'x': 'dataset/Kyoto2016/2015/01/20150107_x.csv', 'y': 'dataset/Kyoto2016/2015/01/20150107_y.csv'}, '20150121': {'y': 'dataset/Kyoto2016/2015/01/20150121_y.csv', 'x': 'dataset/Kyoto2016/2015/01/20150121_x.csv'}, '20150111': {'x': 'dataset/Kyoto2016/2015/01/20150111_x.csv', 'y': 'dataset/Kyoto2016/2015/01/20150111_y.csv'}, '20150119': {'y': 'dataset/Kyoto2016/2015/01/20150119_y.csv', 'x': 'dataset/Kyoto2016/2015/01/20150119_x.csv'}, '20150104': {'x': 'dataset/Kyoto2016/2015/01/20150104_x.csv', 'y': 'dataset/Kyoto2016/2015/01/20150104_y.csv'}, '20150124': {'x': 'dataset/Kyoto2016/2015/01/20150124_x.csv', 'y': 'dataset/Kyoto2016/2015/01/20150124_y.csv'}, '20150114': {'y': 'dataset/Kyoto2016/2015/01/20150114_y.csv', 'x': 'dataset/Kyoto2016/2015/01/20150114_x.csv'}, '20150103': {'x': 'dataset/Kyoto2016/2015/01/20150103_x.csv', 'y': 'dataset/Kyoto2016/2015/01/20150103_y.csv'}, '20150106': {'x': 'dataset/Kyoto2016/2015/01/20150106_x.csv', 'y': 'dataset/Kyoto2016/2015/01/20150106_y.csv'}, '20150128': {'y': 'dataset/Kyoto2016/2015/01/20150128_y.csv', 'x': 'dataset/Kyoto2016/2015/01/20150128_x.csv'}}\n"
     ]
    }
   ],
   "source": [
    "\n",
    "class preprocess:\n",
    "    \n",
    "    paths = {}\n",
    "\n",
    "    def get_files(folder_path):\n",
    "        paths = {}\n",
    "        for path, subdirs, files in os.walk(folder_path):\n",
    "            for name in files:\n",
    "                if name.endswith(\"csv\"):\n",
    "                    key = name.split(\"_\")[0]\n",
    "\n",
    "                    if paths.get(key) is None:\n",
    "                        paths[key] = {}\n",
    "\n",
    "                    if name.endswith(\"_x.csv\"):\n",
    "                        x = os.path.join(path, name)\n",
    "                        paths[key]['x'] = x\n",
    "                    elif name.endswith(\"_y.csv\"):\n",
    "                        y = os.path.join(path, name)\n",
    "                        paths[key]['y'] = y\n",
    "        preprocess.paths = paths\n",
    "        return paths\n",
    "\n",
    "    def get_data(paths):\n",
    "        for key, value in paths.items():\n",
    "            x = pd.read_csv(value['x'])\n",
    "            y = pd.read_csv(value['y'])\n",
    "            #print(x.shape)\n",
    "            #print(x.values.shape)\n",
    "            #print(y.sum())\n",
    "            yield key, x.values, y.values\n",
    "        \n",
    "        \n",
    "    \n",
    "    \n",
    "train_paths = preprocess.get_files(\"dataset/Kyoto2016/2014/01\")\n",
    "test_paths = preprocess.get_files(\"dataset/Kyoto2016/2015/01\")\n",
    "\n",
    "print(train_paths)\n",
    "print(\"----------------------------------------------------------------------------------------\")\n",
    "#test_paths = test_paths.popitem()\n",
    "#test_paths = {test_paths[0]: test_paths[1]}\n",
    "print(test_paths)\n"
   ]
  },
  {
   "cell_type": "code",
   "execution_count": 3,
   "metadata": {
    "ExecuteTime": {
     "end_time": "2017-07-11T19:23:00.021699Z",
     "start_time": "2017-07-11T19:22:48.587668Z"
    },
    "collapsed": true
   },
   "outputs": [],
   "source": [
    "import tensorflow as tf\n",
    "from sklearn import model_selection as ms\n",
    "from sklearn import metrics as me"
   ]
  },
  {
   "cell_type": "code",
   "execution_count": 4,
   "metadata": {
    "ExecuteTime": {
     "end_time": "2017-07-11T19:23:00.479125Z",
     "start_time": "2017-07-11T19:23:00.023333Z"
    },
    "collapsed": true
   },
   "outputs": [],
   "source": [
    "class network(object):\n",
    "    \n",
    "    input_dim = 42\n",
    "    classes = 2\n",
    "    hidden_encoder_dim = 42\n",
    "    hidden_layers = 1\n",
    "    latent_dim = 10\n",
    "\n",
    "    hidden_decoder_dim = 42\n",
    "    lam = 0.001\n",
    "    \n",
    "    def __init__(self, classes, hidden_layers, num_of_features):\n",
    "        self.classes = classes\n",
    "        self.hidden_layers = hidden_layers\n",
    "        self.latent_dim = num_of_features\n",
    "            \n",
    "    def build_layers(self):\n",
    "        tf.reset_default_graph()\n",
    "        #learning_rate = tf.Variable(initial_value=0.001)\n",
    "\n",
    "        input_dim = self.input_dim\n",
    "        classes = self.classes\n",
    "        hidden_encoder_dim = self.hidden_encoder_dim\n",
    "        hidden_layers = self.hidden_layers\n",
    "        latent_dim = self.latent_dim\n",
    "        hidden_decoder_dim = self.hidden_decoder_dim\n",
    "        lam = self.lam\n",
    "        \n",
    "        with tf.variable_scope(\"Input\"):\n",
    "            self.x = tf.placeholder(\"float\", shape=[None, input_dim])\n",
    "            self.y_ = tf.placeholder(\"float\", shape=[None, classes])\n",
    "            self.keep_prob = tf.placeholder(\"float\")\n",
    "            self.lr = tf.placeholder(\"float\")\n",
    "        \n",
    "        with tf.variable_scope(\"Layer_Encoder\"):\n",
    "\n",
    "            hidden_encoder = tf.layers.dense(self.x, hidden_encoder_dim, activation = tf.nn.relu, kernel_regularizer=tf.nn.l2_loss)\n",
    "            hidden_encoder = tf.nn.dropout(hidden_encoder, self.keep_prob)\n",
    "            for h in range(hidden_layers - 1):\n",
    "                hidden_encoder = tf.layers.dense(hidden_encoder, hidden_encoder_dim, activation = tf.nn.relu, kernel_regularizer=tf.nn.l2_loss)\n",
    "                hidden_encoder = tf.nn.dropout(hidden_encoder, self.keep_prob)\n",
    "                \n",
    "        with tf.variable_scope(\"Layer_Mean\"):\n",
    "            mu_encoder = tf.layers.dense(hidden_encoder, latent_dim, activation = None, kernel_regularizer=tf.nn.l2_loss)\n",
    "\n",
    "        with tf.variable_scope(\"Layer_Variance\"):\n",
    "            logvar_encoder = tf.layers.dense(hidden_encoder, latent_dim, activation = None, kernel_regularizer=tf.nn.l2_loss)\n",
    "\n",
    "        with tf.variable_scope(\"Sampling_Distribution\"):\n",
    "            # Sample epsilon\n",
    "            epsilon = tf.random_normal(tf.shape(logvar_encoder), mean=0, stddev=1, name='epsilon')\n",
    "\n",
    "            # Sample latent variable\n",
    "            std_encoder = tf.exp(0.5 * logvar_encoder)\n",
    "            z = mu_encoder + tf.multiply(std_encoder, epsilon)\n",
    "            \n",
    "            #tf.summary.histogram(\"Sample_Distribution\", z)\n",
    "\n",
    "        with tf.variable_scope(\"Layer_Decoder\"):\n",
    "            hidden_decoder = tf.layers.dense(z, hidden_decoder_dim, activation = tf.nn.relu, kernel_regularizer=tf.nn.l2_loss)\n",
    "            hidden_decoder = tf.nn.dropout(hidden_decoder, self.keep_prob)\n",
    "            for h in range(hidden_layers - 1):\n",
    "                hidden_decoder = tf.layers.dense(hidden_decoder, hidden_decoder_dim, activation = tf.nn.relu, kernel_regularizer=tf.nn.l2_loss)\n",
    "                hidden_decoder = tf.nn.dropout(hidden_decoder, self.keep_prob)\n",
    "                \n",
    "        with tf.variable_scope(\"Layer_Reconstruction\"):\n",
    "            x_hat = tf.layers.dense(hidden_decoder, input_dim, activation = None)\n",
    "            \n",
    "        with tf.variable_scope(\"Layer_Dense_Hidden\"):\n",
    "            hidden_output = tf.layers.dense(z,latent_dim, activation=tf.nn.relu)\n",
    "\n",
    "        with tf.variable_scope(\"Layer_Dense_Softmax\"):\n",
    "            self.y = tf.layers.dense(z, classes, activation=tf.nn.softmax)\n",
    "\n",
    "        with tf.variable_scope(\"Loss\"):\n",
    "            \n",
    "            BCE = tf.reduce_mean(tf.nn.sigmoid_cross_entropy_with_logits(logits=x_hat, labels=self.x), reduction_indices=1)\n",
    "            KLD = -0.5 * tf.reduce_mean(1 + logvar_encoder - tf.pow(mu_encoder, 2) - tf.exp(logvar_encoder), reduction_indices=1)\n",
    "            softmax_loss = tf.reduce_mean(tf.nn.softmax_cross_entropy_with_logits(labels = self.y_, logits = self.y))\n",
    "\n",
    "            loss = tf.reduce_mean((BCE + KLD + softmax_loss) * lam)\n",
    "\n",
    "            loss = tf.clip_by_value(loss, -1e-2, 1e-2)\n",
    "            loss = tf.where(tf.is_nan(loss), 1e-2, loss)\n",
    "            loss = tf.where(tf.equal(loss, -1e-2), tf.random_normal(loss.shape), loss)\n",
    "            loss = tf.where(tf.equal(loss, 1e-2), tf.random_normal(loss.shape), loss)\n",
    "            \n",
    "            self.regularized_loss = tf.abs(loss, name = \"Regularized_loss\")\n",
    "            correct_prediction = tf.equal(tf.argmax(self.y_, 1), tf.argmax(self.y, 1))\n",
    "            self.tf_accuracy = tf.reduce_mean(tf.cast(correct_prediction, tf.float32), name = \"Accuracy\")\n",
    "\n",
    "        with tf.variable_scope(\"Optimizer\"):\n",
    "            learning_rate=self.lr #1e-2\n",
    "            optimizer = tf.train.AdamOptimizer(learning_rate)\n",
    "            gradients, variables = zip(*optimizer.compute_gradients(self.regularized_loss))\n",
    "            gradients = [\n",
    "                None if gradient is None else tf.clip_by_value(gradient, -1, 1)\n",
    "                for gradient in gradients]\n",
    "            self.train_op = optimizer.apply_gradients(zip(gradients, variables))\n",
    "            #self.train_op = optimizer.minimize(self.regularized_loss)\n",
    "            \n",
    "        # add op for merging summary\n",
    "        #self.summary_op = tf.summary.merge_all()\n",
    "        self.pred = tf.argmax(self.y, axis = 1)\n",
    "        self.actual = tf.argmax(self.y_, axis = 1)\n",
    "\n",
    "        # add Saver ops\n",
    "        self.saver = tf.train.Saver()\n",
    "        "
   ]
  },
  {
   "cell_type": "code",
   "execution_count": 11,
   "metadata": {
    "ExecuteTime": {
     "end_time": "2017-07-11T19:25:37.381780Z",
     "start_time": "2017-07-11T19:25:37.119124Z"
    },
    "collapsed": true,
    "scrolled": false
   },
   "outputs": [],
   "source": [
    "import collections\n",
    "import time\n",
    "\n",
    "class Train:    \n",
    "    \n",
    "    result = namedtuple(\"score\", ['key', 'no_of_features','hidden_layers','train_score', 'test_score', 'f1_score', 'time_taken'])\n",
    "\n",
    "    predictions = {}\n",
    "\n",
    "    results = []\n",
    "    best_acc = 0\n",
    "    best_acc_global = 0\n",
    "\n",
    "    def train(epochs, net, h,f, lrs):\n",
    "        batch_iterations = 200\n",
    "        train_loss = None\n",
    "        Train.best_acc = 0\n",
    "        os.makedirs(\"dataset/tf_vae_dense_trained_together_nsl_kdd/hidden layers_{}_features count_{}\".format(h,f),\n",
    "                    exist_ok = True)\n",
    "\n",
    "        with tf.Session() as sess:\n",
    "            #summary_writer_train = tf.summary.FileWriter('./logs/kdd/VAE/training', graph=sess.graph)\n",
    "            #summary_writer_valid = tf.summary.FileWriter('./logs/kdd/VAE/validation')\n",
    "\n",
    "            sess.run(tf.global_variables_initializer())\n",
    "            start_time = time.perf_counter()\n",
    "\n",
    "            Train.best_acc = 0\n",
    "            for lr in lrs:\n",
    "                for epoch in range(1, (epochs+1)):\n",
    "                    \n",
    "                    for key, x_train, y_train in preprocess.get_data(train_paths):\n",
    "                        x_train, x_valid, y_train, y_valid, = ms.train_test_split(x_train, \n",
    "                                                                                  y_train, \n",
    "                                                                                  test_size=0.1)\n",
    "                    \n",
    "                        batch_indices = np.array_split(np.arange(x_train.shape[0]), \n",
    "                                                   batch_iterations)\n",
    "\n",
    "                        for i in batch_indices:\n",
    "\n",
    "                            def train_batch():\n",
    "                                nonlocal train_loss\n",
    "                                _, train_loss = sess.run([net.train_op, \n",
    "                                                                       net.regularized_loss, \n",
    "                                                                       ], #net.summary_op\n",
    "                                                                      feed_dict={net.x: x_train[i,:], \n",
    "                                                                                 net.y_: y_train[i,:], \n",
    "                                                                                 net.keep_prob:1, net.lr:lr})\n",
    "\n",
    "                            train_batch()\n",
    "                            count = 10\n",
    "\n",
    "                            while((train_loss > 1e9 or np.isnan(train_loss)) and epoch > 1 and count > 1):\n",
    "                                print(\"Step {} | High Training Loss: {:.6f} ... Restoring Net\".format(epoch, train_loss))\n",
    "                                net.saver.restore(sess, \n",
    "                                                  tf.train.latest_checkpoint('dataset/tf_vae_dense_trained_together_nsl_kdd/hidden layers_{}_features count_{}'\n",
    "                                                                             .format(h,f)))\n",
    "                                train_batch()\n",
    "                                count -= 1\n",
    "\n",
    "                        valid_loss, valid_accuracy = sess.run([net.regularized_loss, net.tf_accuracy], #net.summary_op\n",
    "                                                                  feed_dict={net.x: x_valid, \n",
    "                                                                             net.y_: y_valid, \n",
    "                                                                             net.keep_prob:1, net.lr:lr})\n",
    "\n",
    "                        \n",
    "                    for key, x_test, y_test in preprocess.get_data(test_paths):\n",
    "                        test_accuracy, test_loss, pred_value, actual_value, y_pred = sess.run([net.tf_accuracy, net.regularized_loss, net.pred, \n",
    "                                                                                          net.actual, net.y], #net.summary_op \n",
    "                                                                                          feed_dict={net.x: x_test, \n",
    "                                                                                         net.y_: y_test, \n",
    "                                                                                         net.keep_prob:1, net.lr:lr})\n",
    "\n",
    "                        \n",
    "                        f1_score = me.f1_score(actual_value, pred_value)\n",
    "                        recall = me.recall_score(actual_value, pred_value)\n",
    "                        prec = me.precision_score(actual_value, pred_value)\n",
    "                        print(\"Key {} | Training Loss: {:.6f} | Train Accuracy: {:.6f} | Test Accuracy: {:.6f}, f1_score: {}\".format(key, train_loss, valid_accuracy, test_accuracy, f1_score))\n",
    "\n",
    "                        if test_accuracy > Train.best_acc_global:\n",
    "                            Train.best_acc_global = test_accuracy\n",
    "                            Train.pred_value = pred_value\n",
    "                            Train.actual_value = actual_value\n",
    "\n",
    "                            Train.best_parameters = \"Hidden Layers:{}, Features Count:{}\".format(h, f)\n",
    "\n",
    "                        if test_accuracy > Train.best_acc:\n",
    "                            Train.best_acc = test_accuracy\n",
    "\n",
    "                            if not (np.isnan(train_loss)):\n",
    "                                net.saver.save(sess, \n",
    "                                           \"dataset/tf_vae_dense_trained_together_nsl_kdd/hidden layers_{}_features count_{}/model\"\n",
    "                                           .format(h,f), \n",
    "                                           global_step = epoch, \n",
    "                                           write_meta_graph=False)\n",
    "\n",
    "                            curr_pred = pd.DataFrame({\"Attack_prob\":y_pred[:,-2], \"Normal_prob\":y_pred[:, -1], \"Prediction\":pred_value})\n",
    "                            Train.predictions.update({\"{}_{}_{}\".format(key,f,h):\n",
    "                                                      (curr_pred, \n",
    "                                                       Train.result(key, f, h,valid_accuracy, test_accuracy, f1_score, time.perf_counter() - start_time))})\n",
    "                            #Train.results.append(Train.result(epochs, f, h,valid_accuracy, test_accuracy))\n",
    "                print(\"Best Accuracy on Test data: {}\".format(Train.best_acc))\n"
   ]
  },
  {
   "cell_type": "code",
   "execution_count": 12,
   "metadata": {
    "ExecuteTime": {
     "end_time": "2017-07-11T19:25:37.690250Z",
     "start_time": "2017-07-11T19:25:37.632027Z"
    },
    "collapsed": true,
    "scrolled": true
   },
   "outputs": [],
   "source": [
    "import itertools\n",
    "\n",
    "df_results = []\n",
    "past_scores = []\n",
    "\n",
    "class Hyperparameters:\n",
    "#    features_arr = [2, 4, 8, 16, 32, 64, 128, 256]\n",
    "#    hidden_layers_arr = [2, 4, 6, 10]\n",
    "\n",
    "    def start_training():\n",
    "        global df_results\n",
    "        global past_scores\n",
    "        \n",
    "        features_arr = [8, 32, 122]\n",
    "        hidden_layers_arr = [2, 3, 5]\n",
    "\n",
    "        Train.predictions = {}\n",
    "        Train.results = []\n",
    "\n",
    "        epochs = [1]\n",
    "        lrs = [1e-2]\n",
    "\n",
    "        for e, h, f in itertools.product(epochs, hidden_layers_arr, features_arr):\n",
    "            print(\"Current Layer Attributes - epochs:{} hidden layers:{} features count:{}\".format(e,h,f))\n",
    "            n = network(2,h,f)\n",
    "            n.build_layers()\n",
    "            Train.train(e, n, h,f, lrs)\n",
    "\n",
    "        dict1 = {}\n",
    "        dict2 = []\n",
    "        for k, (v1, v2) in Train.predictions.items():\n",
    "            dict1.update({k: v1})\n",
    "            dict2.append(v2)\n",
    "            \n",
    "        Train.predictions = dict1\n",
    "        Train.results = dict2\n",
    "        df_results = pd.DataFrame(Train.results)\n",
    "        temp = df_results.set_index(['no_of_features', 'hidden_layers'])\n",
    "\n",
    "        if not os.path.isfile('dataset/tf_vae_dense_trained_together_nsl_kdd.pkl'):\n",
    "            past_scores = temp\n",
    "        else:\n",
    "            past_scores = pd.read_pickle(\"dataset/tf_vae_dense_trained_together_nsl_kdd.pkl\")\n",
    "\n",
    "        past_scores.append(temp).to_pickle(\"dataset/tf_vae_dense_trained_together_nsl_kdd.pkl\")\n"
   ]
  },
  {
   "cell_type": "code",
   "execution_count": null,
   "metadata": {
    "ExecuteTime": {
     "start_time": "2017-07-11T19:25:39.518Z"
    },
    "scrolled": false
   },
   "outputs": [
    {
     "name": "stdout",
     "output_type": "stream",
     "text": [
      "Current Layer Attributes - epochs:1 hidden layers:2 features count:8\n",
      "Key 20150125 | Training Loss: 0.000078 | Train Accuracy: 0.947980 | Test Accuracy: 0.903982, f1_score: 0.11142201402207062\n",
      "Key 20150101 | Training Loss: 0.000078 | Train Accuracy: 0.947980 | Test Accuracy: 0.843733, f1_score: 0.16088034717916924\n",
      "Key 20150117 | Training Loss: 0.000078 | Train Accuracy: 0.947980 | Test Accuracy: 0.861119, f1_score: 0.15839540808100352\n",
      "Key 20150105 | Training Loss: 0.000078 | Train Accuracy: 0.947980 | Test Accuracy: 0.703959, f1_score: 0.20364644107351224\n",
      "Key 20150116 | Training Loss: 0.000078 | Train Accuracy: 0.947980 | Test Accuracy: 0.878055, f1_score: 0.13101680432925092\n",
      "Key 20150131 | Training Loss: 0.000078 | Train Accuracy: 0.947980 | Test Accuracy: 0.931208, f1_score: 0.04824160020917767\n",
      "Key 20150113 | Training Loss: 0.000078 | Train Accuracy: 0.947980 | Test Accuracy: 0.845171, f1_score: 0.17391395769376342\n",
      "Key 20150118 | Training Loss: 0.000078 | Train Accuracy: 0.947980 | Test Accuracy: 0.889120, f1_score: 0.13191076624636275\n",
      "Key 20150127 | Training Loss: 0.000078 | Train Accuracy: 0.947980 | Test Accuracy: 0.903808, f1_score: 0.07675064047822373\n",
      "Key 20150110 | Training Loss: 0.000078 | Train Accuracy: 0.947980 | Test Accuracy: 0.838693, f1_score: 0.1646979412757341\n",
      "Key 20150102 | Training Loss: 0.000078 | Train Accuracy: 0.947980 | Test Accuracy: 0.893906, f1_score: 0.11749074689190472\n",
      "Key 20150130 | Training Loss: 0.000078 | Train Accuracy: 0.947980 | Test Accuracy: 0.882103, f1_score: 0.1289532167075047\n",
      "Key 20150122 | Training Loss: 0.000078 | Train Accuracy: 0.947980 | Test Accuracy: 0.877653, f1_score: 0.10339081124869808\n",
      "Key 20150120 | Training Loss: 0.000078 | Train Accuracy: 0.947980 | Test Accuracy: 0.854659, f1_score: 0.15145539556746165\n",
      "Key 20150126 | Training Loss: 0.000078 | Train Accuracy: 0.947980 | Test Accuracy: 0.868768, f1_score: 0.15357725471917968\n",
      "Key 20150109 | Training Loss: 0.000078 | Train Accuracy: 0.947980 | Test Accuracy: 0.869990, f1_score: 0.16181440408541314\n",
      "Key 20150108 | Training Loss: 0.000078 | Train Accuracy: 0.947980 | Test Accuracy: 0.902362, f1_score: 0.10576116900227572\n",
      "Key 20150123 | Training Loss: 0.000078 | Train Accuracy: 0.947980 | Test Accuracy: 0.858248, f1_score: 0.14905014252644871\n",
      "Key 20150129 | Training Loss: 0.000078 | Train Accuracy: 0.947980 | Test Accuracy: 0.932481, f1_score: 0.059470984844119175\n",
      "Key 20150115 | Training Loss: 0.000078 | Train Accuracy: 0.947980 | Test Accuracy: 0.857704, f1_score: 0.19153254023792862\n",
      "Key 20150112 | Training Loss: 0.000078 | Train Accuracy: 0.947980 | Test Accuracy: 0.907367, f1_score: 0.1218781799680186\n",
      "Key 20150107 | Training Loss: 0.000078 | Train Accuracy: 0.947980 | Test Accuracy: 0.844840, f1_score: 0.16138192143871272\n",
      "Key 20150121 | Training Loss: 0.000078 | Train Accuracy: 0.947980 | Test Accuracy: 0.886367, f1_score: 0.12840596364956\n",
      "Key 20150111 | Training Loss: 0.000078 | Train Accuracy: 0.947980 | Test Accuracy: 0.890938, f1_score: 0.13668553226586275\n",
      "Key 20150119 | Training Loss: 0.000078 | Train Accuracy: 0.947980 | Test Accuracy: 0.871551, f1_score: 0.1597707613615061\n",
      "Key 20150104 | Training Loss: 0.000078 | Train Accuracy: 0.947980 | Test Accuracy: 0.744938, f1_score: 0.19246288998147174\n",
      "Key 20150124 | Training Loss: 0.000078 | Train Accuracy: 0.947980 | Test Accuracy: 0.892212, f1_score: 0.08683824222590332\n",
      "Key 20150114 | Training Loss: 0.000078 | Train Accuracy: 0.947980 | Test Accuracy: 0.885401, f1_score: 0.12974980978382492\n",
      "Key 20150103 | Training Loss: 0.000078 | Train Accuracy: 0.947980 | Test Accuracy: 0.895166, f1_score: 0.0956970239969005\n",
      "Key 20150106 | Training Loss: 0.000078 | Train Accuracy: 0.947980 | Test Accuracy: 0.886499, f1_score: 0.1301499010087678\n",
      "Key 20150128 | Training Loss: 0.000078 | Train Accuracy: 0.947980 | Test Accuracy: 0.923058, f1_score: 0.10213822069492173\n",
      "Best Accuracy on Test data: 0.9324814081192017\n",
      "Current Layer Attributes - epochs:1 hidden layers:2 features count:32\n",
      "Key 20150125 | Training Loss: 0.000141 | Train Accuracy: 0.963644 | Test Accuracy: 0.927780, f1_score: 0.10129365012260083\n",
      "Key 20150101 | Training Loss: 0.000141 | Train Accuracy: 0.963644 | Test Accuracy: 0.868818, f1_score: 0.10779169789770494\n",
      "Key 20150117 | Training Loss: 0.000141 | Train Accuracy: 0.963644 | Test Accuracy: 0.874053, f1_score: 0.13109638576332164\n",
      "Key 20150105 | Training Loss: 0.000141 | Train Accuracy: 0.963644 | Test Accuracy: 0.719580, f1_score: 0.1535535653494645\n",
      "Key 20150116 | Training Loss: 0.000141 | Train Accuracy: 0.963644 | Test Accuracy: 0.899686, f1_score: 0.1143336053461547\n",
      "Key 20150131 | Training Loss: 0.000141 | Train Accuracy: 0.963644 | Test Accuracy: 0.949758, f1_score: 0.055091523014039454\n",
      "Key 20150113 | Training Loss: 0.000141 | Train Accuracy: 0.963644 | Test Accuracy: 0.860546, f1_score: 0.1239369669361128\n",
      "Key 20150118 | Training Loss: 0.000141 | Train Accuracy: 0.963644 | Test Accuracy: 0.900500, f1_score: 0.10852467334771027\n",
      "Key 20150127 | Training Loss: 0.000141 | Train Accuracy: 0.963644 | Test Accuracy: 0.936548, f1_score: 0.08050284056569564\n",
      "Key 20150110 | Training Loss: 0.000141 | Train Accuracy: 0.963644 | Test Accuracy: 0.855278, f1_score: 0.13026519787841698\n",
      "Key 20150102 | Training Loss: 0.000141 | Train Accuracy: 0.963644 | Test Accuracy: 0.912566, f1_score: 0.10525394045534149\n",
      "Key 20150130 | Training Loss: 0.000141 | Train Accuracy: 0.963644 | Test Accuracy: 0.897413, f1_score: 0.13579364563706062\n",
      "Key 20150122 | Training Loss: 0.000141 | Train Accuracy: 0.963644 | Test Accuracy: 0.902963, f1_score: 0.08053148987745208\n",
      "Key 20150120 | Training Loss: 0.000141 | Train Accuracy: 0.963644 | Test Accuracy: 0.880229, f1_score: 0.12974624930542691\n",
      "Key 20150126 | Training Loss: 0.000141 | Train Accuracy: 0.963644 | Test Accuracy: 0.886629, f1_score: 0.11103066171378204\n",
      "Key 20150109 | Training Loss: 0.000141 | Train Accuracy: 0.963644 | Test Accuracy: 0.876517, f1_score: 0.1200818991754745\n",
      "Key 20150108 | Training Loss: 0.000141 | Train Accuracy: 0.963644 | Test Accuracy: 0.933634, f1_score: 0.11059019410244052\n",
      "Key 20150123 | Training Loss: 0.000141 | Train Accuracy: 0.963644 | Test Accuracy: 0.873634, f1_score: 0.11366430471421866\n",
      "Key 20150129 | Training Loss: 0.000141 | Train Accuracy: 0.963644 | Test Accuracy: 0.949637, f1_score: 0.07898320472083523\n",
      "Key 20150115 | Training Loss: 0.000141 | Train Accuracy: 0.963644 | Test Accuracy: 0.867582, f1_score: 0.14657670172653303\n",
      "Key 20150112 | Training Loss: 0.000141 | Train Accuracy: 0.963644 | Test Accuracy: 0.926429, f1_score: 0.12529171528588098\n",
      "Key 20150107 | Training Loss: 0.000141 | Train Accuracy: 0.963644 | Test Accuracy: 0.862151, f1_score: 0.11736343418864115\n",
      "Key 20150121 | Training Loss: 0.000141 | Train Accuracy: 0.963644 | Test Accuracy: 0.905432, f1_score: 0.11383075018934846\n",
      "Key 20150111 | Training Loss: 0.000141 | Train Accuracy: 0.963644 | Test Accuracy: 0.899392, f1_score: 0.1167118793766955\n",
      "Key 20150119 | Training Loss: 0.000141 | Train Accuracy: 0.963644 | Test Accuracy: 0.882347, f1_score: 0.14607476080109347\n",
      "Key 20150104 | Training Loss: 0.000141 | Train Accuracy: 0.963644 | Test Accuracy: 0.766172, f1_score: 0.14592630622803207\n",
      "Key 20150124 | Training Loss: 0.000141 | Train Accuracy: 0.963644 | Test Accuracy: 0.919922, f1_score: 0.0695947693103321\n",
      "Key 20150114 | Training Loss: 0.000141 | Train Accuracy: 0.963644 | Test Accuracy: 0.904771, f1_score: 0.1108328976694274\n",
      "Key 20150103 | Training Loss: 0.000141 | Train Accuracy: 0.963644 | Test Accuracy: 0.918356, f1_score: 0.08924657105279639\n",
      "Key 20150106 | Training Loss: 0.000141 | Train Accuracy: 0.963644 | Test Accuracy: 0.912366, f1_score: 0.11365827864008211\n",
      "Key 20150128 | Training Loss: 0.000141 | Train Accuracy: 0.963644 | Test Accuracy: 0.941140, f1_score: 0.08877350725004747\n",
      "Best Accuracy on Test data: 0.9497576355934143\n",
      "Current Layer Attributes - epochs:1 hidden layers:2 features count:122\n",
      "Key 20150125 | Training Loss: 0.000108 | Train Accuracy: 0.991065 | Test Accuracy: 0.945252, f1_score: 0.044244113635015715\n",
      "Key 20150101 | Training Loss: 0.000108 | Train Accuracy: 0.991065 | Test Accuracy: 0.884709, f1_score: 0.05529993549774242\n"
     ]
    }
   ],
   "source": [
    "%%timeit -r 1\n",
    "\n",
    "Hyperparameters.start_training()"
   ]
  },
  {
   "cell_type": "code",
   "execution_count": null,
   "metadata": {
    "ExecuteTime": {
     "end_time": "2017-06-02T23:51:50.135861Z",
     "start_time": "2017-06-02T23:51:50.106860Z"
    },
    "collapsed": true
   },
   "outputs": [],
   "source": []
  },
  {
   "cell_type": "code",
   "execution_count": null,
   "metadata": {
    "ExecuteTime": {
     "end_time": "2017-06-02T23:51:50.143439Z",
     "start_time": "2017-06-02T23:51:50.137389Z"
    },
    "collapsed": true
   },
   "outputs": [],
   "source": []
  },
  {
   "cell_type": "code",
   "execution_count": null,
   "metadata": {
    "ExecuteTime": {
     "end_time": "2017-07-11T19:23:53.871237Z",
     "start_time": "2017-07-11T19:23:49.424Z"
    },
    "collapsed": true
   },
   "outputs": [],
   "source": [
    "df_results.sort_values(by = 'test_score', ascending = False)"
   ]
  },
  {
   "cell_type": "code",
   "execution_count": null,
   "metadata": {
    "ExecuteTime": {
     "end_time": "2017-07-11T19:23:53.872274Z",
     "start_time": "2017-07-11T19:23:49.582Z"
    },
    "collapsed": true
   },
   "outputs": [],
   "source": [
    "pd.Panel(Train.predictions).to_pickle(\"dataset/tf_vae_dense_trained_together_nsl_kdd_predictions.pkl\")\n",
    "df_results.to_pickle(\"dataset/tf_vae_dense_trained_together_nsl_kdd_scores.pkl\")"
   ]
  },
  {
   "cell_type": "code",
   "execution_count": null,
   "metadata": {
    "ExecuteTime": {
     "end_time": "2017-07-11T19:23:53.873158Z",
     "start_time": "2017-07-11T19:23:49.763Z"
    },
    "collapsed": true
   },
   "outputs": [],
   "source": [
    "import numpy as np\n",
    "import matplotlib.pyplot as plt\n",
    "import itertools\n",
    "\n",
    "def plot_confusion_matrix(cm, classes,\n",
    "                          normalize=False,\n",
    "                          title='Confusion matrix',\n",
    "                          cmap=plt.cm.Blues):\n",
    "    \"\"\"\n",
    "    This function prints and plots the confusion matrix.\n",
    "    Normalization can be applied by setting `normalize=True`.\n",
    "    \"\"\"\n",
    "    np.set_printoptions(precision=4)\n",
    "\n",
    "    plt.imshow(cm, interpolation='nearest', cmap=cmap)\n",
    "    plt.title(title)\n",
    "    plt.colorbar()\n",
    "    tick_marks = np.arange(len(classes))\n",
    "    plt.xticks(tick_marks, classes, rotation=45)\n",
    "    plt.yticks(tick_marks, classes)\n",
    "\n",
    "    if normalize:\n",
    "        cm = cm.astype('float') / cm.sum(axis=1)[:, np.newaxis]\n",
    "        print(\"Normalized confusion matrix\")\n",
    "    else:\n",
    "        print('Confusion matrix, without normalization')\n",
    "\n",
    "    print(cm)\n",
    "\n",
    "    thresh = cm.max() / 2.\n",
    "    for i, j in itertools.product(range(cm.shape[0]), range(cm.shape[1])):\n",
    "        plt.text(j, i, cm[i, j].round(4),\n",
    "                 horizontalalignment=\"center\",\n",
    "                 color=\"white\" if cm[i, j] > thresh else \"black\")\n",
    "\n",
    "    plt.tight_layout()\n",
    "    plt.ylabel('True label')\n",
    "    plt.xlabel('Predicted label')\n",
    "\n",
    "def plot(actual_value, pred_value):\n",
    "    from sklearn.metrics import confusion_matrix\n",
    "    cm_2labels = confusion_matrix(y_pred = pred_value, y_true = actual_value)\n",
    "    plt.figure(figsize=[6,6])\n",
    "    plot_confusion_matrix(cm_2labels, preprocess.output_columns_2labels, normalize = True,\n",
    "                         title = Train.best_parameters)"
   ]
  },
  {
   "cell_type": "code",
   "execution_count": null,
   "metadata": {
    "ExecuteTime": {
     "end_time": "2017-07-11T19:23:53.873817Z",
     "start_time": "2017-07-11T19:23:49.903Z"
    },
    "collapsed": true
   },
   "outputs": [],
   "source": [
    "plot(actual_value = Train.actual_value, pred_value = Train.pred_value)"
   ]
  },
  {
   "cell_type": "code",
   "execution_count": null,
   "metadata": {
    "ExecuteTime": {
     "end_time": "2017-07-11T19:23:53.874459Z",
     "start_time": "2017-07-11T19:23:50.054Z"
    },
    "collapsed": true
   },
   "outputs": [],
   "source": [
    "plot(actual_value = Train.actual_value_, pred_value = Train.pred_value_)"
   ]
  },
  {
   "cell_type": "code",
   "execution_count": null,
   "metadata": {
    "ExecuteTime": {
     "end_time": "2017-07-11T19:23:53.875048Z",
     "start_time": "2017-07-11T19:23:50.204Z"
    },
    "collapsed": true
   },
   "outputs": [],
   "source": [
    "past_scores"
   ]
  },
  {
   "cell_type": "code",
   "execution_count": null,
   "metadata": {
    "collapsed": true
   },
   "outputs": [],
   "source": []
  }
 ],
 "metadata": {
  "_draft": {
   "nbviewer_url": "https://gist.github.com/7d1ace18a82178e15ece8fc5252fce88"
  },
  "anaconda-cloud": {},
  "gist": {
   "data": {
    "description": "Hyper parameter tuning",
    "public": false
   },
   "id": "7d1ace18a82178e15ece8fc5252fce88"
  },
  "kernelspec": {
   "display_name": "Python [conda env:p3]",
   "language": "python",
   "name": "conda-env-p3-py"
  },
  "language_info": {
   "codemirror_mode": {
    "name": "ipython",
    "version": 3
   },
   "file_extension": ".py",
   "mimetype": "text/x-python",
   "name": "python",
   "nbconvert_exporter": "python",
   "pygments_lexer": "ipython3",
   "version": "3.6.1"
  }
 },
 "nbformat": 4,
 "nbformat_minor": 2
}
