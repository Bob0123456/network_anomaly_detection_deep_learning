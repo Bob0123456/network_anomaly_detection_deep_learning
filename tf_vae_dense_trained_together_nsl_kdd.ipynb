{
 "cells": [
  {
   "cell_type": "markdown",
   "metadata": {},
   "source": [
    "# Read Data Sample"
   ]
  },
  {
   "cell_type": "code",
   "execution_count": 1,
   "metadata": {
    "ExecuteTime": {
     "end_time": "2017-06-30T21:21:50.774319Z",
     "start_time": "2017-06-30T21:21:50.124472Z"
    },
    "collapsed": true
   },
   "outputs": [],
   "source": [
    "import pandas as pd\n",
    "import numpy as np\n",
    "import os\n",
    "from collections import namedtuple\n",
    "pd.set_option(\"display.max_rows\",100)\n",
    "%matplotlib inline"
   ]
  },
  {
   "cell_type": "code",
   "execution_count": 2,
   "metadata": {
    "ExecuteTime": {
     "end_time": "2017-06-30T21:21:50.976644Z",
     "start_time": "2017-06-30T21:21:50.781102Z"
    },
    "collapsed": true
   },
   "outputs": [],
   "source": [
    "class dataset:\n",
    "    kdd_train = pd.read_pickle(\"dataset/kdd_train.pkl\")\n",
    "    kdd_test = pd.read_pickle(\"dataset/kdd_test.pkl\")\n",
    "\n",
    "    kdd_train_label = pd.read_pickle(\"dataset/kdd_train_label.pkl\")\n",
    "    kdd_test_label = pd.read_pickle(\"dataset/kdd_test_label.pkl\")\n",
    "    "
   ]
  },
  {
   "cell_type": "code",
   "execution_count": 3,
   "metadata": {
    "ExecuteTime": {
     "end_time": "2017-06-30T21:21:50.989833Z",
     "start_time": "2017-06-30T21:21:50.982035Z"
    }
   },
   "outputs": [
    {
     "data": {
      "text/plain": [
       "(381105, 161)"
      ]
     },
     "execution_count": 3,
     "metadata": {},
     "output_type": "execute_result"
    }
   ],
   "source": [
    "dataset.kdd_train.shape"
   ]
  },
  {
   "cell_type": "code",
   "execution_count": 4,
   "metadata": {
    "ExecuteTime": {
     "end_time": "2017-06-30T21:21:51.010675Z",
     "start_time": "2017-06-30T21:21:50.992420Z"
    }
   },
   "outputs": [
    {
     "data": {
      "text/plain": [
       "(350596, 161)"
      ]
     },
     "execution_count": 4,
     "metadata": {},
     "output_type": "execute_result"
    }
   ],
   "source": [
    "dataset.kdd_test.shape"
   ]
  },
  {
   "cell_type": "code",
   "execution_count": 5,
   "metadata": {
    "ExecuteTime": {
     "end_time": "2017-06-30T21:21:54.073309Z",
     "start_time": "2017-06-30T21:21:51.018436Z"
    }
   },
   "outputs": [
    {
     "data": {
      "text/plain": [
       "1.0000000000000331"
      ]
     },
     "execution_count": 5,
     "metadata": {},
     "output_type": "execute_result"
    }
   ],
   "source": [
    "from sklearn import model_selection as ms\n",
    "from sklearn import preprocessing as pp\n",
    "\n",
    "class preprocess:\n",
    "    \n",
    "    output_columns_2labels = ['label']\n",
    "    \n",
    "    x_input = dataset.kdd_train\n",
    "    y_output = dataset.kdd_train_label\n",
    "\n",
    "    x_test_input = dataset.kdd_test\n",
    "    y_test = dataset.kdd_test_label\n",
    "    \n",
    "    ss = pp.StandardScaler()\n",
    "\n",
    "    x_train = ss.fit_transform(x_input)\n",
    "    x_test = ss.transform(x_test_input)\n",
    "    \n",
    "    y_train = y_output.values\n",
    "    y_test = y_test.values\n",
    "    \n",
    "preprocess.x_train.std()"
   ]
  },
  {
   "cell_type": "code",
   "execution_count": 6,
   "metadata": {
    "ExecuteTime": {
     "end_time": "2017-06-30T21:21:55.967982Z",
     "start_time": "2017-06-30T21:21:54.075657Z"
    },
    "collapsed": true
   },
   "outputs": [],
   "source": [
    "import tensorflow as tf\n"
   ]
  },
  {
   "cell_type": "code",
   "execution_count": 7,
   "metadata": {
    "ExecuteTime": {
     "end_time": "2017-06-30T21:21:56.729355Z",
     "start_time": "2017-06-30T21:21:55.970332Z"
    },
    "collapsed": true
   },
   "outputs": [],
   "source": [
    "class network(object):\n",
    "    \n",
    "    input_dim = 161\n",
    "    classes = 2\n",
    "    hidden_encoder_dim = 161\n",
    "    hidden_layers = 1\n",
    "    latent_dim = 10\n",
    "\n",
    "    hidden_decoder_dim = 161\n",
    "    lam = 0.001\n",
    "    \n",
    "    def __init__(self, classes, hidden_layers, num_of_features):\n",
    "        self.classes = classes\n",
    "        self.hidden_layers = hidden_layers\n",
    "        self.latent_dim = num_of_features\n",
    "            \n",
    "    def build_layers(self):\n",
    "        tf.reset_default_graph()\n",
    "        #learning_rate = tf.Variable(initial_value=0.001)\n",
    "\n",
    "        input_dim = self.input_dim\n",
    "        classes = self.classes\n",
    "        hidden_encoder_dim = self.hidden_encoder_dim\n",
    "        hidden_layers = self.hidden_layers\n",
    "        latent_dim = self.latent_dim\n",
    "        hidden_decoder_dim = self.hidden_decoder_dim\n",
    "        lam = self.lam\n",
    "        \n",
    "        with tf.variable_scope(\"Input\"):\n",
    "            self.x = tf.placeholder(\"float\", shape=[None, input_dim])\n",
    "            self.y_ = tf.placeholder(\"float\", shape=[None, classes])\n",
    "            self.keep_prob = tf.placeholder(\"float\")\n",
    "            self.lr = tf.placeholder(\"float\")\n",
    "        \n",
    "        with tf.variable_scope(\"Layer_Encoder\"):\n",
    "\n",
    "            hidden_encoder = tf.layers.dense(self.x, hidden_encoder_dim, activation = tf.nn.relu, kernel_regularizer=tf.nn.l2_loss)\n",
    "            hidden_encoder = tf.nn.dropout(hidden_encoder, self.keep_prob)\n",
    "            for h in range(hidden_layers - 1):\n",
    "                hidden_encoder = tf.layers.dense(hidden_encoder, hidden_encoder_dim, activation = tf.nn.relu, kernel_regularizer=tf.nn.l2_loss)\n",
    "                hidden_encoder = tf.nn.dropout(hidden_encoder, self.keep_prob)\n",
    "                \n",
    "        with tf.variable_scope(\"Layer_Mean\"):\n",
    "            mu_encoder = tf.layers.dense(hidden_encoder, latent_dim, activation = None, kernel_regularizer=tf.nn.l2_loss)\n",
    "\n",
    "        with tf.variable_scope(\"Layer_Variance\"):\n",
    "            logvar_encoder = tf.layers.dense(hidden_encoder, latent_dim, activation = None, kernel_regularizer=tf.nn.l2_loss)\n",
    "\n",
    "        with tf.variable_scope(\"Sampling_Distribution\"):\n",
    "            # Sample epsilon\n",
    "            epsilon = tf.random_normal(tf.shape(logvar_encoder), mean=0, stddev=1, name='epsilon')\n",
    "\n",
    "            # Sample latent variable\n",
    "            std_encoder = tf.exp(0.5 * logvar_encoder)\n",
    "            z = mu_encoder + tf.multiply(std_encoder, epsilon)\n",
    "            \n",
    "            #tf.summary.histogram(\"Sample_Distribution\", z)\n",
    "\n",
    "        with tf.variable_scope(\"Layer_Decoder\"):\n",
    "            hidden_decoder = tf.layers.dense(z, hidden_decoder_dim, activation = tf.nn.relu, kernel_regularizer=tf.nn.l2_loss)\n",
    "            hidden_decoder = tf.nn.dropout(hidden_decoder, self.keep_prob)\n",
    "            for h in range(hidden_layers - 1):\n",
    "                hidden_decoder = tf.layers.dense(hidden_decoder, hidden_decoder_dim, activation = tf.nn.relu, kernel_regularizer=tf.nn.l2_loss)\n",
    "                hidden_decoder = tf.nn.dropout(hidden_decoder, self.keep_prob)\n",
    "                \n",
    "        with tf.variable_scope(\"Layer_Reconstruction\"):\n",
    "            x_hat = tf.layers.dense(hidden_decoder, input_dim, activation = None)\n",
    "            \n",
    "        with tf.variable_scope(\"Layer_Dense_Hidden\"):\n",
    "            hidden_output = tf.layers.dense(z,latent_dim, activation=tf.nn.relu)\n",
    "\n",
    "        with tf.variable_scope(\"Layer_Dense_Softmax\"):\n",
    "            self.y = tf.layers.dense(z, classes, activation=tf.nn.softmax)\n",
    "\n",
    "        with tf.variable_scope(\"Loss\"):\n",
    "            \n",
    "            BCE = tf.reduce_mean(tf.nn.sigmoid_cross_entropy_with_logits(logits=x_hat, labels=self.x), reduction_indices=1)\n",
    "            KLD = -0.5 * tf.reduce_mean(1 + logvar_encoder - tf.pow(mu_encoder, 2) - tf.exp(logvar_encoder), reduction_indices=1)\n",
    "            softmax_loss = tf.reduce_mean(tf.nn.softmax_cross_entropy_with_logits(labels = self.y_, logits = self.y))\n",
    "\n",
    "            loss = tf.reduce_mean((BCE + KLD + softmax_loss) * lam)\n",
    "\n",
    "            loss = tf.clip_by_value(loss, -1e-2, 1e-2)\n",
    "            loss = tf.where(tf.is_nan(loss), 1e-2, loss)\n",
    "            loss = tf.where(tf.equal(loss, -1e-2), tf.random_normal(loss.shape), loss)\n",
    "            loss = tf.where(tf.equal(loss, 1e-2), tf.random_normal(loss.shape), loss)\n",
    "            \n",
    "            self.regularized_loss = tf.abs(loss, name = \"Regularized_loss\")\n",
    "            correct_prediction = tf.equal(tf.argmax(self.y_, 1), tf.argmax(self.y, 1))\n",
    "            self.tf_accuracy = tf.reduce_mean(tf.cast(correct_prediction, tf.float32), name = \"Accuracy\")\n",
    "\n",
    "        with tf.variable_scope(\"Optimizer\"):\n",
    "            learning_rate=self.lr #1e-2\n",
    "            optimizer = tf.train.AdamOptimizer(learning_rate)\n",
    "            gradients, variables = zip(*optimizer.compute_gradients(self.regularized_loss))\n",
    "            gradients = [\n",
    "                None if gradient is None else tf.clip_by_value(gradient, -1, 1)\n",
    "                for gradient in gradients]\n",
    "            self.train_op = optimizer.apply_gradients(zip(gradients, variables))\n",
    "            #self.train_op = optimizer.minimize(self.regularized_loss)\n",
    "            \n",
    "        # add op for merging summary\n",
    "        #self.summary_op = tf.summary.merge_all()\n",
    "        self.pred = tf.argmax(self.y, axis = 1)\n",
    "        self.actual = tf.argmax(self.y_, axis = 1)\n",
    "\n",
    "        # add Saver ops\n",
    "        self.saver = tf.train.Saver()\n",
    "        "
   ]
  },
  {
   "cell_type": "code",
   "execution_count": 8,
   "metadata": {
    "ExecuteTime": {
     "end_time": "2017-06-30T21:21:57.089325Z",
     "start_time": "2017-06-30T21:21:56.731444Z"
    },
    "collapsed": true,
    "scrolled": false
   },
   "outputs": [],
   "source": [
    "import collections\n",
    "import time\n",
    "\n",
    "class Train:    \n",
    "    \n",
    "    result = namedtuple(\"score\", ['epoch', 'no_of_features','hidden_layers','train_score', 'test_score','time_taken'])\n",
    "\n",
    "    predictions = {}\n",
    "\n",
    "    results = []\n",
    "    best_acc = 0\n",
    "    best_acc_global = 0\n",
    "\n",
    "    def train(epochs, net, h,f, lrs):\n",
    "        batch_iterations = 200\n",
    "        train_loss = None\n",
    "        Train.best_acc = 0\n",
    "        os.makedirs(\"dataset/tf_vae_dense_trained_together_nsl_kdd/hidden layers_{}_features count_{}\".format(h,f),\n",
    "                    exist_ok = True)\n",
    "\n",
    "        with tf.Session() as sess:\n",
    "            #summary_writer_train = tf.summary.FileWriter('./logs/kdd/VAE/training', graph=sess.graph)\n",
    "            #summary_writer_valid = tf.summary.FileWriter('./logs/kdd/VAE/validation')\n",
    "\n",
    "            sess.run(tf.global_variables_initializer())\n",
    "            start_time = time.perf_counter()\n",
    "\n",
    "            Train.best_acc = 0\n",
    "            for lr in lrs:\n",
    "                for epoch in range(1, (epochs+1)):\n",
    "                    x_train, x_valid, y_train, y_valid, = ms.train_test_split(preprocess.x_train, \n",
    "                                                                              preprocess.y_train, \n",
    "                                                                              test_size=0.2)\n",
    "                    batch_indices = np.array_split(np.arange(x_train.shape[0]), \n",
    "                                               batch_iterations)\n",
    "\n",
    "                    for i in batch_indices:\n",
    "\n",
    "                        def train_batch():\n",
    "                            nonlocal train_loss\n",
    "                            _, train_loss = sess.run([net.train_op, \n",
    "                                                                   net.regularized_loss, \n",
    "                                                                   ], #net.summary_op\n",
    "                                                                  feed_dict={net.x: x_train[i,:], \n",
    "                                                                             net.y_: y_train[i,:], \n",
    "                                                                             net.keep_prob:1, net.lr:lr})\n",
    "\n",
    "                        train_batch()\n",
    "                        count = 10\n",
    "                        \n",
    "                        while((train_loss > 1e9 or np.isnan(train_loss)) and epoch > 1 and count > 1):\n",
    "                            print(\"Step {} | High Training Loss: {:.6f} ... Restoring Net\".format(epoch, train_loss))\n",
    "                            net.saver.restore(sess, \n",
    "                                              tf.train.latest_checkpoint('dataset/tf_vae_dense_trained_together_nsl_kdd/hidden layers_{}_features count_{}'\n",
    "                                                                         .format(h,f)))\n",
    "                            train_batch()\n",
    "                            count -= 1\n",
    "\n",
    "                    valid_loss, valid_accuracy = sess.run([net.regularized_loss, net.tf_accuracy], #net.summary_op\n",
    "                                                              feed_dict={net.x: x_valid, \n",
    "                                                                         net.y_: y_valid, \n",
    "                                                                         net.keep_prob:1, net.lr:lr})\n",
    "\n",
    "                    test_accuracy, test_loss, pred_value, actual_value, y_pred = sess.run([net.tf_accuracy, net.regularized_loss, net.pred, \n",
    "                                                                                      net.actual, net.y], #net.summary_op \n",
    "                                                                                      feed_dict={net.x: preprocess.x_test, \n",
    "                                                                                     net.y_: preprocess.y_test, \n",
    "                                                                                     net.keep_prob:1, net.lr:lr})\n",
    "\n",
    "                    if epoch % 1 == 0:\n",
    "                        print(\"Step {} | Training Loss: {:.6f} | Test Loss: {:.6f} | Test Accuracy: {:.6f}\"\n",
    "                              .format(epoch, train_loss, test_loss, test_accuracy))\n",
    "\n",
    "                    if test_accuracy > Train.best_acc_global:\n",
    "                        Train.best_acc_global = test_accuracy\n",
    "                        Train.pred_value = pred_value\n",
    "                        Train.actual_value = actual_value\n",
    "                        \n",
    "                        Train.best_parameters = \"Hidden Layers:{}, Features Count:{}\".format(h, f)\n",
    "\n",
    "                    if test_accuracy > Train.best_acc:\n",
    "                        Train.best_acc = test_accuracy\n",
    "\n",
    "                        if not (np.isnan(train_loss)):\n",
    "                            net.saver.save(sess, \n",
    "                                       \"dataset/tf_vae_dense_trained_together_nsl_kdd/hidden layers_{}_features count_{}/model\"\n",
    "                                       .format(h,f), \n",
    "                                       global_step = epoch, \n",
    "                                       write_meta_graph=False)\n",
    "\n",
    "                        curr_pred = pd.DataFrame({\"Attack_prob\":y_pred[:,-2], \"Normal_prob\":y_pred[:, -1], \"Prediction\":pred_value})\n",
    "                        Train.predictions.update({\"{}_{}_{}\".format(epochs*len(lrs),f,h):\n",
    "                                                  (curr_pred, \n",
    "                                                   Train.result(epochs*len(lrs), f, h,valid_accuracy, test_accuracy, time.perf_counter() - start_time))})\n",
    "                        #Train.results.append(Train.result(epochs, f, h,valid_accuracy, test_accuracy))\n",
    "            print(\"Best Accuracy on Test data: {}\".format(Train.best_acc))\n",
    "            "
   ]
  },
  {
   "cell_type": "code",
   "execution_count": null,
   "metadata": {
    "ExecuteTime": {
     "start_time": "2017-06-30T21:21:53.401Z"
    },
    "collapsed": true,
    "scrolled": true
   },
   "outputs": [],
   "source": [
    "import itertools\n",
    "\n",
    "df_results = []\n",
    "past_scores = []\n",
    "\n",
    "class Hyperparameters:\n",
    "#    features_arr = [2, 4, 8, 16, 32, 64, 128, 256]\n",
    "#    hidden_layers_arr = [2, 4, 6, 10]\n",
    "\n",
    "    def start_training():\n",
    "        global df_results\n",
    "        global past_scores\n",
    "        \n",
    "        features_arr = [8, 32, 122]\n",
    "        hidden_layers_arr = [2, 3, 5]\n",
    "\n",
    "        Train.predictions = {}\n",
    "        Train.results = []\n",
    "\n",
    "        epochs = [15]\n",
    "        lrs = [1e-2, 1e-2]\n",
    "\n",
    "        for e, h, f in itertools.product(epochs, hidden_layers_arr, features_arr):\n",
    "            print(\"Current Layer Attributes - epochs:{} hidden layers:{} features count:{}\".format(e,h,f))\n",
    "            n = network(2,h,f)\n",
    "            n.build_layers()\n",
    "            Train.train(e, n, h,f, lrs)\n",
    "\n",
    "        dict1 = {}\n",
    "        dict2 = []\n",
    "        for k, (v1, v2) in Train.predictions.items():\n",
    "            dict1.update({k: v1})\n",
    "            dict2.append(v2)\n",
    "            \n",
    "        Train.predictions = dict1\n",
    "        Train.results = dict2\n",
    "        df_results = pd.DataFrame(Train.results)\n",
    "        temp = df_results.set_index(['no_of_features', 'hidden_layers'])\n",
    "\n",
    "        if not os.path.isfile('dataset/tf_vae_dense_trained_together_nsl_kdd.pkl'):\n",
    "            past_scores = temp\n",
    "        else:\n",
    "            past_scores = pd.read_pickle(\"dataset/tf_vae_dense_trained_together_nsl_kdd.pkl\")\n",
    "\n",
    "        past_scores.append(temp).to_pickle(\"dataset/tf_vae_dense_trained_together_nsl_kdd.pkl\")\n"
   ]
  },
  {
   "cell_type": "code",
   "execution_count": null,
   "metadata": {
    "ExecuteTime": {
     "start_time": "2017-06-30T21:21:53.409Z"
    },
    "scrolled": true
   },
   "outputs": [
    {
     "name": "stdout",
     "output_type": "stream",
     "text": [
      "Current Layer Attributes - epochs:15 hidden layers:2 features count:8\n",
      "Step 1 | Training Loss: 0.000055 | Test Loss: 0.997466 | Test Accuracy: 0.057622\n",
      "Step 2 | Training Loss: 0.183307 | Test Loss: 0.092274 | Test Accuracy: 0.942392\n",
      "Step 3 | Training Loss: 0.686450 | Test Loss: 0.574970 | Test Accuracy: 0.942392\n",
      "Step 4 | Training Loss: 2.839627 | Test Loss: 1.778400 | Test Accuracy: 0.942392\n",
      "Step 5 | Training Loss: 0.620367 | Test Loss: 0.400882 | Test Accuracy: 0.942392\n",
      "Step 6 | Training Loss: 0.033415 | Test Loss: 0.554753 | Test Accuracy: 0.942392\n",
      "Step 7 | Training Loss: 0.043908 | Test Loss: 1.345908 | Test Accuracy: 0.942392\n",
      "Step 8 | Training Loss: 2.509313 | Test Loss: 0.179595 | Test Accuracy: 0.942392\n",
      "Step 9 | Training Loss: 0.107973 | Test Loss: 0.990159 | Test Accuracy: 0.942392\n",
      "Step 10 | Training Loss: 1.683036 | Test Loss: 0.021995 | Test Accuracy: 0.942392\n",
      "Step 11 | Training Loss: 1.646597 | Test Loss: 0.209096 | Test Accuracy: 0.942392\n",
      "Step 12 | Training Loss: 0.148229 | Test Loss: 1.356114 | Test Accuracy: 0.942392\n",
      "Step 13 | Training Loss: 1.008383 | Test Loss: 2.875226 | Test Accuracy: 0.942392\n",
      "Step 14 | Training Loss: 1.262945 | Test Loss: 1.415622 | Test Accuracy: 0.942392\n",
      "Step 15 | Training Loss: 0.957116 | Test Loss: 0.475429 | Test Accuracy: 0.942392\n",
      "Step 1 | Training Loss: 1.645029 | Test Loss: 0.934037 | Test Accuracy: 0.942392\n",
      "Step 2 | Training Loss: 0.566218 | Test Loss: 0.692296 | Test Accuracy: 0.942392\n",
      "Step 3 | Training Loss: 0.408007 | Test Loss: 1.061089 | Test Accuracy: 0.942392\n",
      "Step 4 | Training Loss: 0.996553 | Test Loss: 0.584252 | Test Accuracy: 0.942392\n",
      "Step 5 | Training Loss: 0.668848 | Test Loss: 0.230897 | Test Accuracy: 0.942392\n",
      "Step 6 | Training Loss: 0.240433 | Test Loss: 0.883146 | Test Accuracy: 0.942392\n",
      "Step 7 | Training Loss: 1.627339 | Test Loss: 0.164189 | Test Accuracy: 0.942392\n",
      "Step 8 | Training Loss: 1.174353 | Test Loss: 0.540068 | Test Accuracy: 0.942392\n",
      "Step 9 | Training Loss: 1.497997 | Test Loss: 0.443086 | Test Accuracy: 0.942392\n",
      "Step 10 | Training Loss: 1.057303 | Test Loss: 0.588779 | Test Accuracy: 0.942392\n",
      "Step 11 | Training Loss: 0.231406 | Test Loss: 2.110029 | Test Accuracy: 0.942392\n",
      "Step 12 | Training Loss: 2.491444 | Test Loss: 0.507227 | Test Accuracy: 0.942392\n",
      "Step 13 | Training Loss: 0.757966 | Test Loss: 0.420880 | Test Accuracy: 0.942392\n",
      "Step 14 | Training Loss: 0.164164 | Test Loss: 0.605384 | Test Accuracy: 0.942392\n",
      "Step 15 | Training Loss: 1.198581 | Test Loss: 0.194262 | Test Accuracy: 0.942392\n",
      "Best Accuracy on Test data: 0.9423924088478088\n",
      "Current Layer Attributes - epochs:15 hidden layers:2 features count:32\n",
      "Step 1 | Training Loss: 0.558301 | Test Loss: 0.306111 | Test Accuracy: 0.942392\n",
      "Step 2 | Training Loss: 3.000956 | Test Loss: 0.138972 | Test Accuracy: 0.942392\n",
      "Step 3 | Training Loss: 0.761726 | Test Loss: 0.802243 | Test Accuracy: 0.942392\n",
      "Step 4 | Training Loss: 1.327797 | Test Loss: 1.101885 | Test Accuracy: 0.942392\n",
      "Step 5 | Training Loss: 0.916675 | Test Loss: 0.886693 | Test Accuracy: 0.942392\n",
      "Step 6 | Training Loss: 0.146653 | Test Loss: 0.552648 | Test Accuracy: 0.942392\n",
      "Step 7 | Training Loss: 0.568149 | Test Loss: 0.500914 | Test Accuracy: 0.942392\n",
      "Step 8 | Training Loss: 2.899875 | Test Loss: 1.123183 | Test Accuracy: 0.942392\n",
      "Step 9 | Training Loss: 0.906968 | Test Loss: 0.018357 | Test Accuracy: 0.942392\n",
      "Step 10 | Training Loss: 1.244531 | Test Loss: 0.950494 | Test Accuracy: 0.942392\n",
      "Step 11 | Training Loss: 1.228537 | Test Loss: 1.488533 | Test Accuracy: 0.942392\n",
      "Step 12 | Training Loss: 0.370095 | Test Loss: 1.948672 | Test Accuracy: 0.942392\n",
      "Step 13 | Training Loss: 0.568019 | Test Loss: 1.642705 | Test Accuracy: 0.942392\n",
      "Step 14 | Training Loss: 0.311021 | Test Loss: 1.370000 | Test Accuracy: 0.942392\n",
      "Step 15 | Training Loss: 0.376891 | Test Loss: 1.666508 | Test Accuracy: 0.942392\n",
      "Step 1 | Training Loss: 0.523428 | Test Loss: 0.323552 | Test Accuracy: 0.942392\n",
      "Step 2 | Training Loss: 1.981738 | Test Loss: 0.381774 | Test Accuracy: 0.942392\n",
      "Step 3 | Training Loss: 0.689491 | Test Loss: 0.487844 | Test Accuracy: 0.942392\n",
      "Step 4 | Training Loss: 0.120822 | Test Loss: 0.616520 | Test Accuracy: 0.942392\n",
      "Step 5 | Training Loss: 2.010202 | Test Loss: 1.906890 | Test Accuracy: 0.942392\n",
      "Step 6 | Training Loss: 0.950081 | Test Loss: 0.572236 | Test Accuracy: 0.942392\n",
      "Step 7 | Training Loss: 0.390563 | Test Loss: 1.030421 | Test Accuracy: 0.942392\n",
      "Step 8 | Training Loss: 1.240142 | Test Loss: 1.841277 | Test Accuracy: 0.942392\n",
      "Step 9 | Training Loss: 1.737967 | Test Loss: 0.429759 | Test Accuracy: 0.942392\n",
      "Step 10 | Training Loss: 0.293457 | Test Loss: 2.368089 | Test Accuracy: 0.942392\n",
      "Step 11 | Training Loss: 0.469150 | Test Loss: 0.740435 | Test Accuracy: 0.942392\n",
      "Step 12 | Training Loss: 0.878828 | Test Loss: 0.678364 | Test Accuracy: 0.942392\n",
      "Step 13 | Training Loss: 0.039313 | Test Loss: 1.004776 | Test Accuracy: 0.942392\n",
      "Step 14 | Training Loss: 2.097697 | Test Loss: 0.341571 | Test Accuracy: 0.942392\n",
      "Step 15 | Training Loss: 0.860460 | Test Loss: 0.736287 | Test Accuracy: 0.942392\n",
      "Best Accuracy on Test data: 0.9423924088478088\n",
      "Current Layer Attributes - epochs:15 hidden layers:2 features count:122\n",
      "Step 1 | Training Loss: 0.218465 | Test Loss: 0.574572 | Test Accuracy: 0.942392\n",
      "Step 2 | Training Loss: 0.658066 | Test Loss: 0.213522 | Test Accuracy: 0.942392\n",
      "Step 3 | Training Loss: 0.408207 | Test Loss: 1.335541 | Test Accuracy: 0.942392\n",
      "Step 4 | Training Loss: 0.046004 | Test Loss: 0.564635 | Test Accuracy: 0.942392\n",
      "Step 5 | Training Loss: 0.624456 | Test Loss: 0.289885 | Test Accuracy: 0.942392\n",
      "Step 6 | Training Loss: 1.690808 | Test Loss: 0.601972 | Test Accuracy: 0.942392\n",
      "Step 7 | Training Loss: 0.383271 | Test Loss: 0.084557 | Test Accuracy: 0.942392\n",
      "Step 8 | Training Loss: 0.100692 | Test Loss: 0.214586 | Test Accuracy: 0.942392\n",
      "Step 9 | Training Loss: 0.366040 | Test Loss: 1.030378 | Test Accuracy: 0.942392\n",
      "Step 10 | Training Loss: 0.074935 | Test Loss: 0.280179 | Test Accuracy: 0.942392\n",
      "Step 11 | Training Loss: 0.235225 | Test Loss: 0.306501 | Test Accuracy: 0.942392\n",
      "Step 12 | Training Loss: 0.311767 | Test Loss: 1.292853 | Test Accuracy: 0.942392\n",
      "Step 13 | Training Loss: 0.037067 | Test Loss: 1.730911 | Test Accuracy: 0.942392\n",
      "Step 14 | Training Loss: 0.195670 | Test Loss: 0.489576 | Test Accuracy: 0.942392\n",
      "Step 15 | Training Loss: 0.141341 | Test Loss: 0.661488 | Test Accuracy: 0.942392\n",
      "Step 1 | Training Loss: 1.288285 | Test Loss: 0.147091 | Test Accuracy: 0.942392\n",
      "Step 2 | Training Loss: 1.224275 | Test Loss: 1.124054 | Test Accuracy: 0.942392\n",
      "Step 3 | Training Loss: 1.234688 | Test Loss: 0.303945 | Test Accuracy: 0.942392\n",
      "Step 4 | Training Loss: 0.224544 | Test Loss: 0.502796 | Test Accuracy: 0.942392\n",
      "Step 5 | Training Loss: 0.233101 | Test Loss: 0.792650 | Test Accuracy: 0.942392\n",
      "Step 6 | Training Loss: 0.282695 | Test Loss: 0.596611 | Test Accuracy: 0.942392\n",
      "Step 7 | Training Loss: 0.406141 | Test Loss: 0.094913 | Test Accuracy: 0.942392\n",
      "Step 8 | Training Loss: 0.803300 | Test Loss: 1.677356 | Test Accuracy: 0.942392\n",
      "Step 9 | Training Loss: 1.197567 | Test Loss: 0.041230 | Test Accuracy: 0.942392\n",
      "Step 10 | Training Loss: 2.450726 | Test Loss: 0.514758 | Test Accuracy: 0.942392\n",
      "Step 11 | Training Loss: 0.548790 | Test Loss: 1.125481 | Test Accuracy: 0.942392\n",
      "Step 12 | Training Loss: 0.753757 | Test Loss: 1.957412 | Test Accuracy: 0.942392\n",
      "Step 13 | Training Loss: 0.105426 | Test Loss: 0.086605 | Test Accuracy: 0.942392\n",
      "Step 14 | Training Loss: 0.834644 | Test Loss: 2.346931 | Test Accuracy: 0.942392\n",
      "Step 15 | Training Loss: 2.562170 | Test Loss: 1.603684 | Test Accuracy: 0.942392\n",
      "Best Accuracy on Test data: 0.9423924088478088\n",
      "Current Layer Attributes - epochs:15 hidden layers:3 features count:8\n",
      "Step 1 | Training Loss: 0.717444 | Test Loss: 1.028855 | Test Accuracy: 0.942392\n",
      "Step 2 | Training Loss: 0.322763 | Test Loss: 0.779739 | Test Accuracy: 0.942392\n",
      "Step 3 | Training Loss: 1.260118 | Test Loss: 0.662755 | Test Accuracy: 0.942392\n",
      "Step 4 | Training Loss: 0.213979 | Test Loss: 0.043557 | Test Accuracy: 0.942392\n",
      "Step 5 | Training Loss: 0.592908 | Test Loss: 0.730377 | Test Accuracy: 0.942392\n",
      "Step 6 | Training Loss: 0.632273 | Test Loss: 1.188759 | Test Accuracy: 0.942392\n"
     ]
    },
    {
     "name": "stdout",
     "output_type": "stream",
     "text": [
      "Step 7 | Training Loss: 0.255836 | Test Loss: 0.298245 | Test Accuracy: 0.942392\n",
      "Step 8 | Training Loss: 0.619926 | Test Loss: 0.654680 | Test Accuracy: 0.942392\n",
      "Step 9 | Training Loss: 0.896762 | Test Loss: 1.762466 | Test Accuracy: 0.942392\n",
      "Step 10 | Training Loss: 0.014253 | Test Loss: 1.048587 | Test Accuracy: 0.942392\n",
      "Step 11 | Training Loss: 0.812266 | Test Loss: 0.773176 | Test Accuracy: 0.942392\n",
      "Step 12 | Training Loss: 0.133164 | Test Loss: 0.298032 | Test Accuracy: 0.942392\n",
      "Step 13 | Training Loss: 0.112093 | Test Loss: 0.937105 | Test Accuracy: 0.942392\n",
      "Step 14 | Training Loss: 0.289284 | Test Loss: 0.758967 | Test Accuracy: 0.942392\n",
      "Step 15 | Training Loss: 0.739118 | Test Loss: 0.936657 | Test Accuracy: 0.942392\n",
      "Step 1 | Training Loss: 1.606684 | Test Loss: 1.401290 | Test Accuracy: 0.942392\n",
      "Step 2 | Training Loss: 1.526511 | Test Loss: 1.086034 | Test Accuracy: 0.942392\n",
      "Step 3 | Training Loss: 2.090272 | Test Loss: 1.200617 | Test Accuracy: 0.942392\n",
      "Step 4 | Training Loss: 0.626977 | Test Loss: 0.070759 | Test Accuracy: 0.942392\n",
      "Step 5 | Training Loss: 0.226331 | Test Loss: 1.004791 | Test Accuracy: 0.942392\n",
      "Step 6 | Training Loss: 0.111252 | Test Loss: 0.450313 | Test Accuracy: 0.942392\n",
      "Step 7 | Training Loss: 1.957825 | Test Loss: 1.119729 | Test Accuracy: 0.942392\n",
      "Step 8 | Training Loss: 0.582965 | Test Loss: 1.317968 | Test Accuracy: 0.942392\n",
      "Step 9 | Training Loss: 1.621864 | Test Loss: 0.046521 | Test Accuracy: 0.942392\n",
      "Step 10 | Training Loss: 1.191775 | Test Loss: 0.543670 | Test Accuracy: 0.942392\n",
      "Step 11 | Training Loss: 0.889237 | Test Loss: 0.035982 | Test Accuracy: 0.942392\n",
      "Step 12 | Training Loss: 0.940147 | Test Loss: 0.823529 | Test Accuracy: 0.942392\n",
      "Step 13 | Training Loss: 1.128115 | Test Loss: 0.557743 | Test Accuracy: 0.942392\n",
      "Step 14 | Training Loss: 0.077512 | Test Loss: 0.894582 | Test Accuracy: 0.942392\n",
      "Step 15 | Training Loss: 0.599857 | Test Loss: 0.444367 | Test Accuracy: 0.942392\n",
      "Best Accuracy on Test data: 0.9423924088478088\n",
      "Current Layer Attributes - epochs:15 hidden layers:3 features count:32\n",
      "Step 1 | Training Loss: 0.500434 | Test Loss: 0.053033 | Test Accuracy: 0.942392\n",
      "Step 2 | Training Loss: 0.593709 | Test Loss: 1.471852 | Test Accuracy: 0.942392\n",
      "Step 3 | Training Loss: 2.769775 | Test Loss: 0.832316 | Test Accuracy: 0.942392\n",
      "Step 4 | Training Loss: 0.460864 | Test Loss: 0.290230 | Test Accuracy: 0.942392\n",
      "Step 5 | Training Loss: 0.494646 | Test Loss: 0.999608 | Test Accuracy: 0.942392\n",
      "Step 6 | Training Loss: 0.655963 | Test Loss: 1.750108 | Test Accuracy: 0.942392\n",
      "Step 7 | Training Loss: 0.648988 | Test Loss: 0.388847 | Test Accuracy: 0.942392\n",
      "Step 8 | Training Loss: 0.330485 | Test Loss: 0.658988 | Test Accuracy: 0.942392\n",
      "Step 9 | Training Loss: 0.368442 | Test Loss: 0.373690 | Test Accuracy: 0.942392\n",
      "Step 10 | Training Loss: 1.067135 | Test Loss: 2.363350 | Test Accuracy: 0.942392\n"
     ]
    }
   ],
   "source": [
    "%%timeit -r 1\n",
    "\n",
    "Hyperparameters.start_training()"
   ]
  },
  {
   "cell_type": "code",
   "execution_count": null,
   "metadata": {
    "ExecuteTime": {
     "end_time": "2017-06-02T23:51:50.135861Z",
     "start_time": "2017-06-02T23:51:50.106860Z"
    },
    "collapsed": true
   },
   "outputs": [],
   "source": []
  },
  {
   "cell_type": "code",
   "execution_count": null,
   "metadata": {
    "ExecuteTime": {
     "end_time": "2017-06-02T23:51:50.143439Z",
     "start_time": "2017-06-02T23:51:50.137389Z"
    },
    "collapsed": true
   },
   "outputs": [],
   "source": []
  },
  {
   "cell_type": "code",
   "execution_count": null,
   "metadata": {
    "ExecuteTime": {
     "start_time": "2017-06-30T21:21:53.415Z"
    }
   },
   "outputs": [],
   "source": [
    "df_results.sort_values(by = 'test_score', ascending = False)"
   ]
  },
  {
   "cell_type": "code",
   "execution_count": null,
   "metadata": {
    "ExecuteTime": {
     "start_time": "2017-06-30T21:21:53.419Z"
    },
    "collapsed": true
   },
   "outputs": [],
   "source": [
    "pd.Panel(Train.predictions).to_pickle(\"dataset/tf_vae_dense_trained_together_nsl_kdd_predictions.pkl\")\n",
    "df_results.to_pickle(\"dataset/tf_vae_dense_trained_together_nsl_kdd_scores.pkl\")"
   ]
  },
  {
   "cell_type": "code",
   "execution_count": null,
   "metadata": {
    "ExecuteTime": {
     "start_time": "2017-06-30T21:21:53.422Z"
    },
    "collapsed": true
   },
   "outputs": [],
   "source": [
    "import numpy as np\n",
    "import matplotlib.pyplot as plt\n",
    "import itertools\n",
    "\n",
    "def plot_confusion_matrix(cm, classes,\n",
    "                          normalize=False,\n",
    "                          title='Confusion matrix',\n",
    "                          cmap=plt.cm.Blues):\n",
    "    \"\"\"\n",
    "    This function prints and plots the confusion matrix.\n",
    "    Normalization can be applied by setting `normalize=True`.\n",
    "    \"\"\"\n",
    "    np.set_printoptions(precision=4)\n",
    "\n",
    "    plt.imshow(cm, interpolation='nearest', cmap=cmap)\n",
    "    plt.title(title)\n",
    "    plt.colorbar()\n",
    "    tick_marks = np.arange(len(classes))\n",
    "    plt.xticks(tick_marks, classes, rotation=45)\n",
    "    plt.yticks(tick_marks, classes)\n",
    "\n",
    "    if normalize:\n",
    "        cm = cm.astype('float') / cm.sum(axis=1)[:, np.newaxis]\n",
    "        print(\"Normalized confusion matrix\")\n",
    "    else:\n",
    "        print('Confusion matrix, without normalization')\n",
    "\n",
    "    print(cm)\n",
    "\n",
    "    thresh = cm.max() / 2.\n",
    "    for i, j in itertools.product(range(cm.shape[0]), range(cm.shape[1])):\n",
    "        plt.text(j, i, cm[i, j].round(4),\n",
    "                 horizontalalignment=\"center\",\n",
    "                 color=\"white\" if cm[i, j] > thresh else \"black\")\n",
    "\n",
    "    plt.tight_layout()\n",
    "    plt.ylabel('True label')\n",
    "    plt.xlabel('Predicted label')\n",
    "\n",
    "def plot(actual_value, pred_value):\n",
    "    from sklearn.metrics import confusion_matrix\n",
    "    cm_2labels = confusion_matrix(y_pred = pred_value, y_true = actual_value)\n",
    "    plt.figure(figsize=[6,6])\n",
    "    plot_confusion_matrix(cm_2labels, preprocess.output_columns_2labels, normalize = True,\n",
    "                         title = Train.best_parameters)"
   ]
  },
  {
   "cell_type": "code",
   "execution_count": null,
   "metadata": {
    "ExecuteTime": {
     "start_time": "2017-06-30T21:21:53.425Z"
    }
   },
   "outputs": [],
   "source": [
    "plot(actual_value = Train.actual_value, pred_value = Train.pred_value)"
   ]
  },
  {
   "cell_type": "code",
   "execution_count": null,
   "metadata": {
    "ExecuteTime": {
     "start_time": "2017-06-30T21:21:53.428Z"
    }
   },
   "outputs": [],
   "source": [
    "plot(actual_value = Train.actual_value_, pred_value = Train.pred_value_)"
   ]
  },
  {
   "cell_type": "code",
   "execution_count": null,
   "metadata": {
    "ExecuteTime": {
     "start_time": "2017-06-30T21:21:53.431Z"
    }
   },
   "outputs": [],
   "source": [
    "past_scores"
   ]
  },
  {
   "cell_type": "code",
   "execution_count": null,
   "metadata": {
    "collapsed": true
   },
   "outputs": [],
   "source": []
  }
 ],
 "metadata": {
  "_draft": {
   "nbviewer_url": "https://gist.github.com/7d1ace18a82178e15ece8fc5252fce88"
  },
  "anaconda-cloud": {},
  "gist": {
   "data": {
    "description": "Hyper parameter tuning",
    "public": false
   },
   "id": "7d1ace18a82178e15ece8fc5252fce88"
  },
  "kernelspec": {
   "display_name": "Python [conda env:p3]",
   "language": "python",
   "name": "conda-env-p3-py"
  },
  "language_info": {
   "codemirror_mode": {
    "name": "ipython",
    "version": 3
   },
   "file_extension": ".py",
   "mimetype": "text/x-python",
   "name": "python",
   "nbconvert_exporter": "python",
   "pygments_lexer": "ipython3",
   "version": "3.6.1"
  }
 },
 "nbformat": 4,
 "nbformat_minor": 2
}
