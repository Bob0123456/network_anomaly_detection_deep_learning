{
 "cells": [
  {
   "cell_type": "markdown",
   "metadata": {},
   "source": [
    "# Read Data Sample"
   ]
  },
  {
   "cell_type": "code",
   "execution_count": 1,
   "metadata": {
    "ExecuteTime": {
     "end_time": "2017-07-11T18:29:03.233369Z",
     "start_time": "2017-07-11T18:29:02.823106Z"
    },
    "collapsed": true
   },
   "outputs": [],
   "source": [
    "import pandas as pd\n",
    "import numpy as np\n",
    "import os\n",
    "import time\n",
    "from collections import namedtuple\n",
    "pd.set_option(\"display.max_rows\",35)\n",
    "%matplotlib inline"
   ]
  },
  {
   "cell_type": "code",
   "execution_count": 2,
   "metadata": {
    "ExecuteTime": {
     "end_time": "2017-07-11T18:29:03.305730Z",
     "start_time": "2017-07-11T18:29:03.234880Z"
    }
   },
   "outputs": [
    {
     "name": "stdout",
     "output_type": "stream",
     "text": [
      "{'20140122': {'y': 'dataset/Kyoto2016/2014/01/20140122_y.csv', 'x': 'dataset/Kyoto2016/2014/01/20140122_x.csv'}}\n",
      "----------------------------------------------------------------------------------------\n",
      "{'20150125': {'x': 'dataset/Kyoto2016/2015/01/20150125_x.csv', 'y': 'dataset/Kyoto2016/2015/01/20150125_y.csv'}, '20150101': {'y': 'dataset/Kyoto2016/2015/01/20150101_y.csv', 'x': 'dataset/Kyoto2016/2015/01/20150101_x.csv'}, '20150117': {'y': 'dataset/Kyoto2016/2015/01/20150117_y.csv', 'x': 'dataset/Kyoto2016/2015/01/20150117_x.csv'}, '20150105': {'y': 'dataset/Kyoto2016/2015/01/20150105_y.csv', 'x': 'dataset/Kyoto2016/2015/01/20150105_x.csv'}, '20150116': {'x': 'dataset/Kyoto2016/2015/01/20150116_x.csv', 'y': 'dataset/Kyoto2016/2015/01/20150116_y.csv'}, '20150131': {'x': 'dataset/Kyoto2016/2015/01/20150131_x.csv', 'y': 'dataset/Kyoto2016/2015/01/20150131_y.csv'}, '20150113': {'y': 'dataset/Kyoto2016/2015/01/20150113_y.csv', 'x': 'dataset/Kyoto2016/2015/01/20150113_x.csv'}, '20150118': {'y': 'dataset/Kyoto2016/2015/01/20150118_y.csv', 'x': 'dataset/Kyoto2016/2015/01/20150118_x.csv'}, '20150127': {'x': 'dataset/Kyoto2016/2015/01/20150127_x.csv', 'y': 'dataset/Kyoto2016/2015/01/20150127_y.csv'}, '20150110': {'y': 'dataset/Kyoto2016/2015/01/20150110_y.csv', 'x': 'dataset/Kyoto2016/2015/01/20150110_x.csv'}, '20150102': {'y': 'dataset/Kyoto2016/2015/01/20150102_y.csv', 'x': 'dataset/Kyoto2016/2015/01/20150102_x.csv'}, '20150130': {'y': 'dataset/Kyoto2016/2015/01/20150130_y.csv', 'x': 'dataset/Kyoto2016/2015/01/20150130_x.csv'}, '20150122': {'x': 'dataset/Kyoto2016/2015/01/20150122_x.csv', 'y': 'dataset/Kyoto2016/2015/01/20150122_y.csv'}, '20150120': {'x': 'dataset/Kyoto2016/2015/01/20150120_x.csv', 'y': 'dataset/Kyoto2016/2015/01/20150120_y.csv'}, '20150126': {'y': 'dataset/Kyoto2016/2015/01/20150126_y.csv', 'x': 'dataset/Kyoto2016/2015/01/20150126_x.csv'}, '20150109': {'y': 'dataset/Kyoto2016/2015/01/20150109_y.csv', 'x': 'dataset/Kyoto2016/2015/01/20150109_x.csv'}, '20150108': {'y': 'dataset/Kyoto2016/2015/01/20150108_y.csv', 'x': 'dataset/Kyoto2016/2015/01/20150108_x.csv'}, '20150123': {'x': 'dataset/Kyoto2016/2015/01/20150123_x.csv', 'y': 'dataset/Kyoto2016/2015/01/20150123_y.csv'}, '20150129': {'y': 'dataset/Kyoto2016/2015/01/20150129_y.csv', 'x': 'dataset/Kyoto2016/2015/01/20150129_x.csv'}, '20150115': {'y': 'dataset/Kyoto2016/2015/01/20150115_y.csv', 'x': 'dataset/Kyoto2016/2015/01/20150115_x.csv'}, '20150112': {'y': 'dataset/Kyoto2016/2015/01/20150112_y.csv', 'x': 'dataset/Kyoto2016/2015/01/20150112_x.csv'}, '20150107': {'x': 'dataset/Kyoto2016/2015/01/20150107_x.csv', 'y': 'dataset/Kyoto2016/2015/01/20150107_y.csv'}, '20150121': {'y': 'dataset/Kyoto2016/2015/01/20150121_y.csv', 'x': 'dataset/Kyoto2016/2015/01/20150121_x.csv'}, '20150111': {'x': 'dataset/Kyoto2016/2015/01/20150111_x.csv', 'y': 'dataset/Kyoto2016/2015/01/20150111_y.csv'}, '20150119': {'y': 'dataset/Kyoto2016/2015/01/20150119_y.csv', 'x': 'dataset/Kyoto2016/2015/01/20150119_x.csv'}, '20150104': {'x': 'dataset/Kyoto2016/2015/01/20150104_x.csv', 'y': 'dataset/Kyoto2016/2015/01/20150104_y.csv'}, '20150124': {'x': 'dataset/Kyoto2016/2015/01/20150124_x.csv', 'y': 'dataset/Kyoto2016/2015/01/20150124_y.csv'}, '20150114': {'y': 'dataset/Kyoto2016/2015/01/20150114_y.csv', 'x': 'dataset/Kyoto2016/2015/01/20150114_x.csv'}, '20150103': {'x': 'dataset/Kyoto2016/2015/01/20150103_x.csv', 'y': 'dataset/Kyoto2016/2015/01/20150103_y.csv'}, '20150106': {'x': 'dataset/Kyoto2016/2015/01/20150106_x.csv', 'y': 'dataset/Kyoto2016/2015/01/20150106_y.csv'}, '20150128': {'y': 'dataset/Kyoto2016/2015/01/20150128_y.csv', 'x': 'dataset/Kyoto2016/2015/01/20150128_x.csv'}}\n"
     ]
    }
   ],
   "source": [
    "\n",
    "class preprocess:\n",
    "    \n",
    "    paths = {}\n",
    "\n",
    "    def get_files(folder_path):\n",
    "        paths = {}\n",
    "        for path, subdirs, files in os.walk(folder_path):\n",
    "            for name in files:\n",
    "                if name.endswith(\"csv\"):\n",
    "                    key = name.split(\"_\")[0]\n",
    "\n",
    "                    if paths.get(key) is None:\n",
    "                        paths[key] = {}\n",
    "\n",
    "                    if name.endswith(\"_x.csv\"):\n",
    "                        x = os.path.join(path, name)\n",
    "                        paths[key]['x'] = x\n",
    "                    elif name.endswith(\"_y.csv\"):\n",
    "                        y = os.path.join(path, name)\n",
    "                        paths[key]['y'] = y\n",
    "        preprocess.paths = paths\n",
    "        return paths\n",
    "\n",
    "    def get_data(paths):\n",
    "        for key, value in paths.items():\n",
    "            x = pd.read_csv(value['x'])\n",
    "            y = pd.read_csv(value['y'])\n",
    "            #print(x.shape)\n",
    "            #print(x.values.shape)\n",
    "            #print(y.sum())\n",
    "            yield key, x.values, y.values\n",
    "        \n",
    "        \n",
    "    \n",
    "    \n",
    "train_paths = preprocess.get_files(\"dataset/Kyoto2016/2014/01\")\n",
    "test_paths = preprocess.get_files(\"dataset/Kyoto2016/2015/01\")\n",
    "\n",
    "print(train_paths)\n",
    "print(\"----------------------------------------------------------------------------------------\")\n",
    "#test_paths = test_paths.popitem()\n",
    "#test_paths = {test_paths[0]: test_paths[1]}\n",
    "print(test_paths)\n"
   ]
  },
  {
   "cell_type": "code",
   "execution_count": null,
   "metadata": {
    "ExecuteTime": {
     "end_time": "2017-06-30T21:19:56.713295Z",
     "start_time": "2017-06-30T21:19:56.707553Z"
    },
    "collapsed": true
   },
   "outputs": [],
   "source": []
  },
  {
   "cell_type": "code",
   "execution_count": null,
   "metadata": {
    "ExecuteTime": {
     "end_time": "2017-06-30T21:19:56.726152Z",
     "start_time": "2017-06-30T21:19:56.715043Z"
    },
    "collapsed": true
   },
   "outputs": [],
   "source": []
  },
  {
   "cell_type": "code",
   "execution_count": null,
   "metadata": {
    "ExecuteTime": {
     "end_time": "2017-06-30T21:19:56.731796Z",
     "start_time": "2017-06-30T21:19:56.727718Z"
    },
    "collapsed": true
   },
   "outputs": [],
   "source": []
  },
  {
   "cell_type": "code",
   "execution_count": null,
   "metadata": {
    "ExecuteTime": {
     "end_time": "2017-06-30T21:19:59.348620Z",
     "start_time": "2017-06-30T21:19:56.733377Z"
    },
    "collapsed": true
   },
   "outputs": [],
   "source": []
  },
  {
   "cell_type": "code",
   "execution_count": 3,
   "metadata": {
    "ExecuteTime": {
     "end_time": "2017-07-11T18:29:05.349787Z",
     "start_time": "2017-07-11T18:29:03.307371Z"
    },
    "collapsed": true
   },
   "outputs": [],
   "source": [
    "import tensorflow as tf\n",
    "from tensorflow.contrib.legacy_seq2seq.python.ops.seq2seq import basic_rnn_seq2seq\n",
    "from tensorflow.contrib.rnn import RNNCell, LSTMCell, MultiRNNCell\n",
    "from sklearn import model_selection as ms\n",
    "from sklearn import metrics as me"
   ]
  },
  {
   "cell_type": "code",
   "execution_count": 4,
   "metadata": {
    "ExecuteTime": {
     "end_time": "2017-07-11T18:29:05.606167Z",
     "start_time": "2017-07-11T18:29:05.351398Z"
    },
    "collapsed": true
   },
   "outputs": [],
   "source": [
    "class network(object):\n",
    "    \n",
    "    input_dim = 42\n",
    "    classes = 2\n",
    "    hidden_encoder_dim = 42\n",
    "    hidden_layers = 1\n",
    "    latent_dim = 40\n",
    "\n",
    "    hidden_decoder_dim = 42\n",
    "    lam = 0.01\n",
    "    \n",
    "    def __init__(self, classes, hidden_layers, num_of_features):\n",
    "        self.classes = classes\n",
    "        self.hidden_layers = hidden_layers\n",
    "        self.latent_dim = num_of_features\n",
    "            \n",
    "    def build_layers(self):\n",
    "        tf.reset_default_graph()\n",
    "        #learning_rate = tf.Variable(initial_value=0.001)\n",
    "\n",
    "        input_dim = self.input_dim\n",
    "        classes = self.classes\n",
    "        hidden_encoder_dim = self.hidden_encoder_dim\n",
    "        hidden_layers = self.hidden_layers\n",
    "        latent_dim = self.latent_dim\n",
    "        hidden_decoder_dim = self.hidden_decoder_dim\n",
    "        lam = self.lam\n",
    "        \n",
    "        with tf.variable_scope(\"Input\"):\n",
    "            self.x_input = tf.placeholder(\"float\", shape=[None, 1, input_dim])\n",
    "            self.y_input_ = tf.placeholder(\"float\", shape=[None, 1, classes])\n",
    "            self.keep_prob = tf.placeholder(\"float\")\n",
    "            self.lr = tf.placeholder(\"float\")\n",
    "            self.x_list = tf.unstack(self.x_input, axis= 1)\n",
    "            self.y_list_ = tf.unstack(self.y_input_, axis = 1)\n",
    "            self.y_ = self.y_list_[0]\n",
    "            \n",
    "            #GO = tf.fill((tf.shape(self.x)[0], 1), 0.5)\n",
    "            \n",
    "            #y_with_GO = tf.stack([self.y_, GO])\n",
    "            \n",
    "        with tf.variable_scope(\"lstm\"):\n",
    "            multi_cell = MultiRNNCell([LSTMCell(input_dim) for i in range(hidden_layers)] )\n",
    "            \n",
    "            self.y, states = basic_rnn_seq2seq(self.x_list, self.y_list_, multi_cell)\n",
    "            #self.y = tf.slice(self.y, [0, 0], [-1,2])\n",
    "            \n",
    "            #self.out = tf.squeeze(self.y)\n",
    "            \n",
    "            #self.y = tf.layers.dense(self.y[0], classes, activation = None)\n",
    "            \n",
    "            self.y = tf.slice(self.y[0], [0, 0], [-1,2])\n",
    "            \n",
    "        with tf.variable_scope(\"Loss\"):\n",
    "            \n",
    "            self.regularized_loss = tf.losses.mean_squared_error(self.y_, self.y)\n",
    "            correct_prediction = tf.equal(tf.argmax(self.y_, 1), tf.argmax(self.y, 1))\n",
    "            self.tf_accuracy = tf.reduce_mean(tf.cast(correct_prediction, tf.float32), name = \"Accuracy\")\n",
    "\n",
    "        with tf.variable_scope(\"Optimizer\"):\n",
    "            learning_rate=self.lr\n",
    "            optimizer = tf.train.AdamOptimizer(learning_rate)\n",
    "            gradients, variables = zip(*optimizer.compute_gradients(self.regularized_loss))\n",
    "            gradients = [\n",
    "                None if gradient is None else tf.clip_by_value(gradient, -1, 1)\n",
    "                for gradient in gradients]\n",
    "            self.train_op = optimizer.apply_gradients(zip(gradients, variables))\n",
    "            #self.train_op = optimizer.minimize(self.regularized_loss)\n",
    "            \n",
    "        # add op for merging summary\n",
    "        #self.summary_op = tf.summary.merge_all()\n",
    "        self.pred = tf.argmax(self.y, axis = 1)\n",
    "        self.actual = tf.argmax(self.y_, axis = 1)\n",
    "\n",
    "        # add Saver ops\n",
    "        self.saver = tf.train.Saver()\n",
    "        "
   ]
  },
  {
   "cell_type": "markdown",
   "metadata": {
    "ExecuteTime": {
     "end_time": "2017-06-01T00:59:00.684124Z",
     "start_time": "2017-06-01T00:58:59.843181Z"
    }
   },
   "source": [
    "batch_iterations = 200\n",
    "\n",
    "x_train, x_valid, y_train, y_valid, = ms.train_test_split(preprocess.x_train, \n",
    "                                                                          preprocess.y_train, \n",
    "                                                                          test_size=0.1)\n",
    "batch_indices = np.array_split(np.arange(x_train.shape[0]), \n",
    "                                           batch_iterations)\n",
    "                                                                          \n",
    "for i in batch_indices:\n",
    "    print(x_train[i,np.newaxis,:])\n",
    "    print(y_train[i,np.newaxis,:])"
   ]
  },
  {
   "cell_type": "code",
   "execution_count": 5,
   "metadata": {
    "ExecuteTime": {
     "end_time": "2017-07-11T18:29:05.857837Z",
     "start_time": "2017-07-11T18:29:05.607742Z"
    },
    "collapsed": true,
    "scrolled": false
   },
   "outputs": [],
   "source": [
    "import collections\n",
    "\n",
    "class Train:    \n",
    "    \n",
    "    result = namedtuple(\"score\", ['key', 'no_of_features','hidden_layers','train_score', 'test_score', 'f1_score', 'time_taken'])\n",
    "\n",
    "    predictions = {}\n",
    "\n",
    "    results = []\n",
    "    best_acc = 0\n",
    "    best_acc_global = 0\n",
    "\n",
    "    def train(epochs, net, h,f, lrs):\n",
    "        batch_iterations = 1000\n",
    "        train_loss = None\n",
    "        Train.best_acc = 0\n",
    "        os.makedirs(\"dataset/tf_lstm_nsl_kdd-orig/hidden layers_{}_features count_{}\".format(h,f),\n",
    "                    exist_ok = True)\n",
    "        with tf.Session() as sess:\n",
    "            #summary_writer_train = tf.summary.FileWriter('./logs/kdd/VAE/training', graph=sess.graph)\n",
    "            #summary_writer_valid = tf.summary.FileWriter('./logs/kdd/VAE/validation')\n",
    "\n",
    "            sess.run(tf.global_variables_initializer())\n",
    "            start_time = time.perf_counter()\n",
    "            \n",
    "            \n",
    "            for c, lr in enumerate(lrs):\n",
    "                for epoch in range(1, (epochs+1)):\n",
    "                    for key, x_train, y_train in preprocess.get_data(train_paths):\n",
    "                        x_train, x_valid, y_train, y_valid, = ms.train_test_split(x_train, \n",
    "                                                                                  y_train, \n",
    "                                                                                  test_size=0.1)\n",
    "                        batch_indices = np.array_split(np.arange(x_train.shape[0]), \n",
    "                                                   batch_iterations)\n",
    "\n",
    "                        for i in batch_indices:\n",
    "\n",
    "                            _, train_loss = sess.run([net.train_op, net.regularized_loss], #net.summary_op\n",
    "                                                      feed_dict={net.x_input: x_train[i,np.newaxis,:], \n",
    "                                                                 net.y_input_: y_train[i,np.newaxis,:], \n",
    "                                                                 net.keep_prob:1, net.lr:lr})\n",
    "                            #summary_writer_train.add_summary(summary_str, epoch)\n",
    "                            if(train_loss > 1e9):\n",
    "                                print(\"Step {} | Training Loss: {:.6f}\".format(epoch, train_loss))\n",
    "\n",
    "\n",
    "                        valid_accuracy,valid_loss = sess.run([net.tf_accuracy, net.regularized_loss], #net.summary_op \n",
    "                                                              feed_dict={net.x_input: x_valid[:,np.newaxis,:], \n",
    "                                                                         net.y_input_: y_valid[:,np.newaxis,:], \n",
    "                                                                         net.keep_prob:1, net.lr:lr})\n",
    "                        #summary_writer_valid.add_summary(summary_str, epoch)\n",
    "\n",
    "                        \n",
    "                        \n",
    "                    for key, x_test, y_test in preprocess.get_data(test_paths):\n",
    "                        accuracy, pred_value, actual_value, y_pred = sess.run([net.tf_accuracy, \n",
    "                                                                               net.pred, \n",
    "                                                                               net.actual, net.y], \n",
    "                                                                              feed_dict={net.x_input: x_test[:,np.newaxis,:], \n",
    "                                                                                         net.y_input_: y_test[:,np.newaxis,:], \n",
    "                                                                                         net.keep_prob:1, net.lr:lr})\n",
    "\n",
    "                        f1_score = me.f1_score(actual_value, pred_value)\n",
    "                        recall = me.recall_score(actual_value, pred_value)\n",
    "                        prec = me.precision_score(actual_value, pred_value)\n",
    "                        print(\"Key {} | Training Loss: {:.6f} | Train Accuracy: {:.6f} | Test Accuracy: {:.6f}, f1_score: {}\".format(key, train_loss, valid_accuracy, accuracy, f1_score))\n",
    "\n",
    "                        if accuracy > Train.best_acc_global:\n",
    "                                    Train.best_acc_global = accuracy\n",
    "                                    Train.pred_value = pred_value\n",
    "                                    Train.actual_value = actual_value\n",
    "\n",
    "                                    Train.best_parameters = \"Hidden Layers:{}, Features Count:{}\".format(h, f)\n",
    "\n",
    "                        if accuracy > Train.best_acc:\n",
    "\n",
    "                            #net.saver.save(sess, \"dataset/tf_vae_only_nsl_kdd_hidden layers_{}_features count_{}\".format(epochs,h,f))\n",
    "                            #Train.results.append(Train.result(epochs, f, h,valid_accuracy, accuracy))\n",
    "                            #curr_pred = pd.DataFrame({\"Attack_prob\":y_pred[:,-2], \"Normal_prob\":y_pred[:, -1]})\n",
    "                            #Train.predictions.update({\"{}_{}_{}\".format(epochs,f,h):curr_pred})\n",
    "\n",
    "                            Train.best_acc = accuracy\n",
    "                            if not (np.isnan(train_loss)):\n",
    "                                net.saver.save(sess, \n",
    "                                           \"dataset/tf_lstm_nsl_kdd-orig/hidden layers_{}_features count_{}/model\"\n",
    "                                           .format(h,f), \n",
    "                                           global_step = epoch, \n",
    "                                           write_meta_graph=False)\n",
    "\n",
    "                            curr_pred = pd.DataFrame({\"Attack_prob\":y_pred[:,-2], \"Normal_prob\":y_pred[:, -1], \"Prediction\":pred_value})\n",
    "                            Train.predictions.update({\"{}_{}_{}\".format(key,f,h):\n",
    "                                                      (curr_pred, \n",
    "                                                       Train.result(key, f, h,valid_accuracy, accuracy, f1_score, time.perf_counter() - start_time))})\n",
    "\n",
    "\n",
    "\n",
    "            "
   ]
  },
  {
   "cell_type": "code",
   "execution_count": 6,
   "metadata": {
    "ExecuteTime": {
     "end_time": "2017-07-11T18:29:05.918342Z",
     "start_time": "2017-07-11T18:29:05.859512Z"
    },
    "collapsed": true,
    "scrolled": false
   },
   "outputs": [],
   "source": [
    "import itertools\n",
    "\n",
    "df_results = []\n",
    "past_scores = []\n",
    "\n",
    "class Hyperparameters:\n",
    "#    features_arr = [2, 4, 8, 16, 32, 64, 128, 256]\n",
    "#    hidden_layers_arr = [2, 4, 6, 10]\n",
    "\n",
    "    def start_training():\n",
    "\n",
    "        global df_results\n",
    "        global past_scores\n",
    "        \n",
    "        Train.predictions = {}\n",
    "        Train.results = []\n",
    "        \n",
    "        features_arr = [1] #[4, 8, 16, 32]\n",
    "        hidden_layers_arr = [1, 3, 5]\n",
    "\n",
    "        epochs = [1]\n",
    "        lrs = [1e-2] #[1e-2, 1e-2/2, 1e-2/4]\n",
    "\n",
    "        for e, h, f in itertools.product(epochs, hidden_layers_arr, features_arr):\n",
    "            print(\"Current Layer Attributes - epochs:{} hidden layers:{} features count:{}\".format(e,h,f))\n",
    "            n = network(2,h,f)\n",
    "            n.build_layers()\n",
    "            Train.train(e, n, h,f, lrs)\n",
    "            \n",
    "        dict1 = {}\n",
    "        dict2 = []\n",
    "        for k, (v1, v2) in Train.predictions.items():\n",
    "            dict1.update({k: v1})\n",
    "            dict2.append(v2)\n",
    "            \n",
    "        Train.predictions = dict1\n",
    "        Train.results = dict2\n",
    "        df_results = pd.DataFrame(Train.results)\n",
    "        temp = df_results.set_index(['no_of_features', 'hidden_layers'])\n",
    "\n",
    "        if not os.path.isfile('dataset/tf_lstm_nsl_kdd-orig_all.pkl'):\n",
    "            past_scores = temp\n",
    "        else:\n",
    "            past_scores = pd.read_pickle(\"dataset/tf_lstm_nsl_kdd-orig_all.pkl\")\n",
    "\n",
    "        past_scores.append(temp).to_pickle(\"dataset/tf_lstm_nsl_kdd-orig_all.pkl\")\n"
   ]
  },
  {
   "cell_type": "code",
   "execution_count": 7,
   "metadata": {
    "ExecuteTime": {
     "end_time": "2017-07-11T18:50:34.117216Z",
     "start_time": "2017-07-11T18:29:05.919862Z"
    },
    "scrolled": true
   },
   "outputs": [
    {
     "name": "stdout",
     "output_type": "stream",
     "text": [
      "Current Layer Attributes - epochs:1 hidden layers:1 features count:1\n",
      "Key 20150125 | Training Loss: 0.005088 | Train Accuracy: 0.999638 | Test Accuracy: 0.998543, f1_score: 0.9844141689373297\n",
      "Key 20150101 | Training Loss: 0.005088 | Train Accuracy: 0.999638 | Test Accuracy: 0.998688, f1_score: 0.993938659231422\n",
      "Key 20150117 | Training Loss: 0.005088 | Train Accuracy: 0.999638 | Test Accuracy: 0.998827, f1_score: 0.9941801385681295\n",
      "Key 20150105 | Training Loss: 0.005088 | Train Accuracy: 0.999638 | Test Accuracy: 0.997277, f1_score: 0.994695268416038\n",
      "Key 20150116 | Training Loss: 0.005088 | Train Accuracy: 0.999638 | Test Accuracy: 0.994025, f1_score: 0.9600307455803228\n",
      "Key 20150131 | Training Loss: 0.005088 | Train Accuracy: 0.999638 | Test Accuracy: 0.980737, f1_score: 0.6146138576424993\n",
      "Key 20150113 | Training Loss: 0.005088 | Train Accuracy: 0.999638 | Test Accuracy: 0.998160, f1_score: 0.9915588171498807\n",
      "Key 20150118 | Training Loss: 0.005088 | Train Accuracy: 0.999638 | Test Accuracy: 0.998591, f1_score: 0.9891830189704843\n",
      "Key 20150127 | Training Loss: 0.005088 | Train Accuracy: 0.999638 | Test Accuracy: 0.998652, f1_score: 0.9786353024095855\n",
      "Key 20150110 | Training Loss: 0.005088 | Train Accuracy: 0.999638 | Test Accuracy: 0.998661, f1_score: 0.9946268786851656\n",
      "Key 20150102 | Training Loss: 0.005088 | Train Accuracy: 0.999638 | Test Accuracy: 0.997727, f1_score: 0.9802247971615016\n",
      "Key 20150130 | Training Loss: 0.005088 | Train Accuracy: 0.999638 | Test Accuracy: 0.998423, f1_score: 0.9899614657732616\n",
      "Key 20150122 | Training Loss: 0.005088 | Train Accuracy: 0.999638 | Test Accuracy: 0.996878, f1_score: 0.9711256188932218\n",
      "Key 20150120 | Training Loss: 0.005088 | Train Accuracy: 0.999638 | Test Accuracy: 0.998330, f1_score: 0.9909411520641727\n",
      "Key 20150126 | Training Loss: 0.005088 | Train Accuracy: 0.999638 | Test Accuracy: 0.997659, f1_score: 0.9856456974024375\n",
      "Key 20150109 | Training Loss: 0.005088 | Train Accuracy: 0.999638 | Test Accuracy: 0.996098, f1_score: 0.9805778336071118\n",
      "Key 20150108 | Training Loss: 0.005088 | Train Accuracy: 0.999638 | Test Accuracy: 0.998316, f1_score: 0.9806340014289475\n",
      "Key 20150123 | Training Loss: 0.005088 | Train Accuracy: 0.999638 | Test Accuracy: 0.983943, f1_score: 0.9185953517679276\n",
      "Key 20150129 | Training Loss: 0.005088 | Train Accuracy: 0.999638 | Test Accuracy: 0.997634, f1_score: 0.9424199718139723\n",
      "Key 20150115 | Training Loss: 0.005088 | Train Accuracy: 0.999638 | Test Accuracy: 0.998433, f1_score: 0.993297957786351\n",
      "Key 20150112 | Training Loss: 0.005088 | Train Accuracy: 0.999638 | Test Accuracy: 0.998473, f1_score: 0.9844908128308938\n",
      "Key 20150107 | Training Loss: 0.005088 | Train Accuracy: 0.999638 | Test Accuracy: 0.998179, f1_score: 0.992214014773408\n",
      "Key 20150121 | Training Loss: 0.005088 | Train Accuracy: 0.999638 | Test Accuracy: 0.998171, f1_score: 0.9855743820923364\n",
      "Key 20150111 | Training Loss: 0.005088 | Train Accuracy: 0.999638 | Test Accuracy: 0.997507, f1_score: 0.9838702180077162\n",
      "Key 20150119 | Training Loss: 0.005088 | Train Accuracy: 0.999638 | Test Accuracy: 0.998403, f1_score: 0.9918118832668485\n",
      "Key 20150104 | Training Loss: 0.005088 | Train Accuracy: 0.999638 | Test Accuracy: 0.998313, f1_score: 0.9959496563049701\n",
      "Key 20150124 | Training Loss: 0.005088 | Train Accuracy: 0.999638 | Test Accuracy: 0.996474, f1_score: 0.9478019391885532\n",
      "Key 20150114 | Training Loss: 0.005088 | Train Accuracy: 0.999638 | Test Accuracy: 0.998606, f1_score: 0.9899346711212309\n",
      "Key 20150103 | Training Loss: 0.005088 | Train Accuracy: 0.999638 | Test Accuracy: 0.998959, f1_score: 0.9883292962974614\n",
      "Key 20150106 | Training Loss: 0.005088 | Train Accuracy: 0.999638 | Test Accuracy: 0.998026, f1_score: 0.9844679924517347\n",
      "Key 20150128 | Training Loss: 0.005088 | Train Accuracy: 0.999638 | Test Accuracy: 0.998020, f1_score: 0.9665283540802213\n",
      "Current Layer Attributes - epochs:1 hidden layers:3 features count:1\n",
      "Key 20150125 | Training Loss: 0.000655 | Train Accuracy: 1.000000 | Test Accuracy: 0.999990, f1_score: 0.999892438420996\n",
      "Key 20150101 | Training Loss: 0.000655 | Train Accuracy: 1.000000 | Test Accuracy: 1.000000, f1_score: 1.0\n",
      "Key 20150117 | Training Loss: 0.000655 | Train Accuracy: 1.000000 | Test Accuracy: 1.000000, f1_score: 1.0\n",
      "Key 20150105 | Training Loss: 0.000655 | Train Accuracy: 1.000000 | Test Accuracy: 1.000000, f1_score: 1.0\n",
      "Key 20150116 | Training Loss: 0.000655 | Train Accuracy: 1.000000 | Test Accuracy: 1.000000, f1_score: 1.0\n",
      "Key 20150131 | Training Loss: 0.000655 | Train Accuracy: 1.000000 | Test Accuracy: 1.000000, f1_score: 1.0\n",
      "Key 20150113 | Training Loss: 0.000655 | Train Accuracy: 1.000000 | Test Accuracy: 1.000000, f1_score: 1.0\n",
      "Key 20150118 | Training Loss: 0.000655 | Train Accuracy: 1.000000 | Test Accuracy: 1.000000, f1_score: 1.0\n",
      "Key 20150127 | Training Loss: 0.000655 | Train Accuracy: 1.000000 | Test Accuracy: 1.000000, f1_score: 1.0\n",
      "Key 20150110 | Training Loss: 0.000655 | Train Accuracy: 1.000000 | Test Accuracy: 1.000000, f1_score: 1.0\n",
      "Key 20150102 | Training Loss: 0.000655 | Train Accuracy: 1.000000 | Test Accuracy: 1.000000, f1_score: 1.0\n",
      "Key 20150130 | Training Loss: 0.000655 | Train Accuracy: 1.000000 | Test Accuracy: 1.000000, f1_score: 1.0\n",
      "Key 20150122 | Training Loss: 0.000655 | Train Accuracy: 1.000000 | Test Accuracy: 1.000000, f1_score: 1.0\n",
      "Key 20150120 | Training Loss: 0.000655 | Train Accuracy: 1.000000 | Test Accuracy: 1.000000, f1_score: 1.0\n",
      "Key 20150126 | Training Loss: 0.000655 | Train Accuracy: 1.000000 | Test Accuracy: 1.000000, f1_score: 1.0\n",
      "Key 20150109 | Training Loss: 0.000655 | Train Accuracy: 1.000000 | Test Accuracy: 0.999996, f1_score: 0.9999810134994019\n",
      "Key 20150108 | Training Loss: 0.000655 | Train Accuracy: 1.000000 | Test Accuracy: 1.000000, f1_score: 1.0\n",
      "Key 20150123 | Training Loss: 0.000655 | Train Accuracy: 1.000000 | Test Accuracy: 1.000000, f1_score: 1.0\n",
      "Key 20150129 | Training Loss: 0.000655 | Train Accuracy: 1.000000 | Test Accuracy: 0.999437, f1_score: 0.9867523865186052\n",
      "Key 20150115 | Training Loss: 0.000655 | Train Accuracy: 1.000000 | Test Accuracy: 1.000000, f1_score: 1.0\n",
      "Key 20150112 | Training Loss: 0.000655 | Train Accuracy: 1.000000 | Test Accuracy: 1.000000, f1_score: 1.0\n",
      "Key 20150107 | Training Loss: 0.000655 | Train Accuracy: 1.000000 | Test Accuracy: 1.000000, f1_score: 1.0\n",
      "Key 20150121 | Training Loss: 0.000655 | Train Accuracy: 1.000000 | Test Accuracy: 1.000000, f1_score: 1.0\n",
      "Key 20150111 | Training Loss: 0.000655 | Train Accuracy: 1.000000 | Test Accuracy: 1.000000, f1_score: 1.0\n",
      "Key 20150119 | Training Loss: 0.000655 | Train Accuracy: 1.000000 | Test Accuracy: 0.999996, f1_score: 0.9999791392869808\n",
      "Key 20150104 | Training Loss: 0.000655 | Train Accuracy: 1.000000 | Test Accuracy: 1.000000, f1_score: 1.0\n",
      "Key 20150124 | Training Loss: 0.000655 | Train Accuracy: 1.000000 | Test Accuracy: 1.000000, f1_score: 1.0\n",
      "Key 20150114 | Training Loss: 0.000655 | Train Accuracy: 1.000000 | Test Accuracy: 1.000000, f1_score: 1.0\n",
      "Key 20150103 | Training Loss: 0.000655 | Train Accuracy: 1.000000 | Test Accuracy: 0.999997, f1_score: 0.9999689064394763\n",
      "Key 20150106 | Training Loss: 0.000655 | Train Accuracy: 1.000000 | Test Accuracy: 1.000000, f1_score: 1.0\n",
      "Key 20150128 | Training Loss: 0.000655 | Train Accuracy: 1.000000 | Test Accuracy: 0.999996, f1_score: 0.9999326009301072\n",
      "Current Layer Attributes - epochs:1 hidden layers:5 features count:1\n",
      "Key 20150125 | Training Loss: 0.000672 | Train Accuracy: 0.999928 | Test Accuracy: 0.983387, f1_score: 0.7873728150273936\n",
      "Key 20150101 | Training Loss: 0.000672 | Train Accuracy: 0.999928 | Test Accuracy: 0.956999, f1_score: 0.7539413230833909\n",
      "Key 20150117 | Training Loss: 0.000672 | Train Accuracy: 0.999928 | Test Accuracy: 0.964733, f1_score: 0.7892653301324345\n",
      "Key 20150105 | Training Loss: 0.000672 | Train Accuracy: 0.999928 | Test Accuracy: 0.995998, f1_score: 0.9921842897870483\n",
      "Key 20150116 | Training Loss: 0.000672 | Train Accuracy: 0.999928 | Test Accuracy: 0.970046, f1_score: 0.7410766340610222\n",
      "Key 20150131 | Training Loss: 0.000672 | Train Accuracy: 0.999928 | Test Accuracy: 0.994000, f1_score: 0.782235939643347\n",
      "Key 20150113 | Training Loss: 0.000672 | Train Accuracy: 0.999928 | Test Accuracy: 0.958659, f1_score: 0.7682484977023682\n"
     ]
    },
    {
     "name": "stdout",
     "output_type": "stream",
     "text": [
      "Key 20150118 | Training Loss: 0.000672 | Train Accuracy: 0.999928 | Test Accuracy: 0.989993, f1_score: 0.9175152452367753\n",
      "Key 20150127 | Training Loss: 0.000672 | Train Accuracy: 0.999928 | Test Accuracy: 0.995301, f1_score: 0.9212414950135148\n",
      "Key 20150110 | Training Loss: 0.000672 | Train Accuracy: 0.999928 | Test Accuracy: 0.945585, f1_score: 0.7221421043873758\n",
      "Key 20150102 | Training Loss: 0.000672 | Train Accuracy: 0.999928 | Test Accuracy: 0.981854, f1_score: 0.8130582980724024\n",
      "Key 20150130 | Training Loss: 0.000672 | Train Accuracy: 0.999928 | Test Accuracy: 0.963812, f1_score: 0.704142758055363\n",
      "Key 20150122 | Training Loss: 0.000672 | Train Accuracy: 0.999928 | Test Accuracy: 0.991264, f1_score: 0.9146822948797039\n",
      "Key 20150120 | Training Loss: 0.000672 | Train Accuracy: 0.999928 | Test Accuracy: 0.982186, f1_score: 0.8939983820406512\n",
      "Key 20150126 | Training Loss: 0.000672 | Train Accuracy: 0.999928 | Test Accuracy: 0.973607, f1_score: 0.8099835245830562\n",
      "Key 20150109 | Training Loss: 0.000672 | Train Accuracy: 0.999928 | Test Accuracy: 0.951406, f1_score: 0.6883171867606405\n",
      "Key 20150108 | Training Loss: 0.000672 | Train Accuracy: 0.999928 | Test Accuracy: 0.988966, f1_score: 0.8574204723078873\n",
      "Key 20150123 | Training Loss: 0.000672 | Train Accuracy: 0.999928 | Test Accuracy: 0.954342, f1_score: 0.727431843692331\n",
      "Key 20150129 | Training Loss: 0.000672 | Train Accuracy: 0.999928 | Test Accuracy: 0.989794, f1_score: 0.6780634216364347\n",
      "Key 20150115 | Training Loss: 0.000672 | Train Accuracy: 0.999928 | Test Accuracy: 0.947826, f1_score: 0.7149873843566021\n",
      "Key 20150112 | Training Loss: 0.000672 | Train Accuracy: 0.999928 | Test Accuracy: 0.990845, f1_score: 0.8990633347986339\n",
      "Key 20150107 | Training Loss: 0.000672 | Train Accuracy: 0.999928 | Test Accuracy: 0.949582, f1_score: 0.7277112232030265\n",
      "Key 20150121 | Training Loss: 0.000672 | Train Accuracy: 0.999928 | Test Accuracy: 0.990847, f1_score: 0.9233081713219141\n",
      "Key 20150111 | Training Loss: 0.000672 | Train Accuracy: 0.999928 | Test Accuracy: 0.963701, f1_score: 0.6990378027346659\n",
      "Key 20150119 | Training Loss: 0.000672 | Train Accuracy: 0.999928 | Test Accuracy: 0.969733, f1_score: 0.8176503958759835\n",
      "Key 20150104 | Training Loss: 0.000672 | Train Accuracy: 0.999928 | Test Accuracy: 0.996409, f1_score: 0.9913371784045671\n",
      "Key 20150124 | Training Loss: 0.000672 | Train Accuracy: 0.999928 | Test Accuracy: 0.994476, f1_score: 0.914102088740576\n",
      "Key 20150114 | Training Loss: 0.000672 | Train Accuracy: 0.999928 | Test Accuracy: 0.974324, f1_score: 0.7748636986124389\n",
      "Key 20150103 | Training Loss: 0.000672 | Train Accuracy: 0.999928 | Test Accuracy: 0.988347, f1_score: 0.8517976364739905\n",
      "Key 20150106 | Training Loss: 0.000672 | Train Accuracy: 0.999928 | Test Accuracy: 0.978192, f1_score: 0.7962766110265176\n",
      "Key 20150128 | Training Loss: 0.000672 | Train Accuracy: 0.999928 | Test Accuracy: 0.989472, f1_score: 0.7900831838199315\n",
      "Current Layer Attributes - epochs:1 hidden layers:1 features count:1\n",
      "Key 20150125 | Training Loss: 0.004946 | Train Accuracy: 0.999964 | Test Accuracy: 0.970042, f1_score: 0.605246664875996\n",
      "Key 20150101 | Training Loss: 0.004946 | Train Accuracy: 0.999964 | Test Accuracy: 0.940226, f1_score: 0.6216952305035206\n",
      "Key 20150117 | Training Loss: 0.004946 | Train Accuracy: 0.999964 | Test Accuracy: 0.941263, f1_score: 0.5930391180916565\n",
      "Key 20150105 | Training Loss: 0.004946 | Train Accuracy: 0.999964 | Test Accuracy: 0.902558, f1_score: 0.7684167390458322\n",
      "Key 20150116 | Training Loss: 0.004946 | Train Accuracy: 0.999964 | Test Accuracy: 0.951493, f1_score: 0.5768392608089261\n",
      "Key 20150131 | Training Loss: 0.004946 | Train Accuracy: 0.999964 | Test Accuracy: 0.965746, f1_score: 0.2496377561581453\n",
      "Key 20150113 | Training Loss: 0.004946 | Train Accuracy: 0.999964 | Test Accuracy: 0.950145, f1_score: 0.7071609625111402\n",
      "Key 20150118 | Training Loss: 0.004946 | Train Accuracy: 0.999964 | Test Accuracy: 0.972688, f1_score: 0.7399919126566923\n",
      "Key 20150127 | Training Loss: 0.004946 | Train Accuracy: 0.999964 | Test Accuracy: 0.985219, f1_score: 0.7462287569219018\n",
      "Key 20150110 | Training Loss: 0.004946 | Train Accuracy: 0.999964 | Test Accuracy: 0.935632, f1_score: 0.6542282388294846\n",
      "Key 20150102 | Training Loss: 0.004946 | Train Accuracy: 0.999964 | Test Accuracy: 0.972841, f1_score: 0.7016356457980822\n",
      "Key 20150130 | Training Loss: 0.004946 | Train Accuracy: 0.999964 | Test Accuracy: 0.953677, f1_score: 0.6188118811881188\n",
      "Key 20150122 | Training Loss: 0.004946 | Train Accuracy: 0.999964 | Test Accuracy: 0.983882, f1_score: 0.8306650961394894\n",
      "Key 20150120 | Training Loss: 0.004946 | Train Accuracy: 0.999964 | Test Accuracy: 0.974079, f1_score: 0.8385850728893827\n",
      "Key 20150126 | Training Loss: 0.004946 | Train Accuracy: 0.999964 | Test Accuracy: 0.959787, f1_score: 0.6846636968943317\n",
      "Key 20150109 | Training Loss: 0.004946 | Train Accuracy: 0.999964 | Test Accuracy: 0.932453, f1_score: 0.5081429540827866\n",
      "Key 20150108 | Training Loss: 0.004946 | Train Accuracy: 0.999964 | Test Accuracy: 0.980158, f1_score: 0.7173923166472642\n",
      "Key 20150123 | Training Loss: 0.004946 | Train Accuracy: 0.999964 | Test Accuracy: 0.927695, f1_score: 0.48789626335925246\n",
      "Key 20150129 | Training Loss: 0.004946 | Train Accuracy: 0.999964 | Test Accuracy: 0.985628, f1_score: 0.5405977254694525\n",
      "Key 20150115 | Training Loss: 0.004946 | Train Accuracy: 0.999964 | Test Accuracy: 0.927512, f1_score: 0.558719328172156\n",
      "Key 20150112 | Training Loss: 0.004946 | Train Accuracy: 0.999964 | Test Accuracy: 0.976295, f1_score: 0.6924025948183229\n",
      "Key 20150107 | Training Loss: 0.004946 | Train Accuracy: 0.999964 | Test Accuracy: 0.934004, f1_score: 0.6116883339916537\n",
      "Key 20150121 | Training Loss: 0.004946 | Train Accuracy: 0.999964 | Test Accuracy: 0.972561, f1_score: 0.7452272436073436\n",
      "Key 20150111 | Training Loss: 0.004946 | Train Accuracy: 0.999964 | Test Accuracy: 0.948855, f1_score: 0.5172448875775766\n",
      "Key 20150119 | Training Loss: 0.004946 | Train Accuracy: 0.999964 | Test Accuracy: 0.942365, f1_score: 0.5852336338459725\n",
      "Key 20150104 | Training Loss: 0.004946 | Train Accuracy: 0.999964 | Test Accuracy: 0.852313, f1_score: 0.45464663050042176\n",
      "Key 20150124 | Training Loss: 0.004946 | Train Accuracy: 0.999964 | Test Accuracy: 0.987961, f1_score: 0.812683964480942\n",
      "Key 20150114 | Training Loss: 0.004946 | Train Accuracy: 0.999964 | Test Accuracy: 0.956569, f1_score: 0.5540156145978333\n",
      "Key 20150103 | Training Loss: 0.004946 | Train Accuracy: 0.999964 | Test Accuracy: 0.980162, f1_score: 0.7336925801710819\n",
      "Key 20150106 | Training Loss: 0.004946 | Train Accuracy: 0.999964 | Test Accuracy: 0.962295, f1_score: 0.62015119593506\n",
      "Key 20150128 | Training Loss: 0.004946 | Train Accuracy: 0.999964 | Test Accuracy: 0.983243, f1_score: 0.6289957439101693\n",
      "Current Layer Attributes - epochs:1 hidden layers:3 features count:1\n",
      "Key 20150125 | Training Loss: 0.000661 | Train Accuracy: 1.000000 | Test Accuracy: 0.999997, f1_score: 0.9999641435691492\n",
      "Key 20150101 | Training Loss: 0.000661 | Train Accuracy: 1.000000 | Test Accuracy: 1.000000, f1_score: 1.0\n",
      "Key 20150117 | Training Loss: 0.000661 | Train Accuracy: 1.000000 | Test Accuracy: 1.000000, f1_score: 1.0\n",
      "Key 20150105 | Training Loss: 0.000661 | Train Accuracy: 1.000000 | Test Accuracy: 1.000000, f1_score: 1.0\n",
      "Key 20150116 | Training Loss: 0.000661 | Train Accuracy: 1.000000 | Test Accuracy: 1.000000, f1_score: 1.0\n",
      "Key 20150131 | Training Loss: 0.000661 | Train Accuracy: 1.000000 | Test Accuracy: 0.999995, f1_score: 0.9998592144164437\n",
      "Key 20150113 | Training Loss: 0.000661 | Train Accuracy: 1.000000 | Test Accuracy: 0.999998, f1_score: 0.9999910321139998\n",
      "Key 20150118 | Training Loss: 0.000661 | Train Accuracy: 1.000000 | Test Accuracy: 0.999996, f1_score: 0.9999730465486105\n",
      "Key 20150127 | Training Loss: 0.000661 | Train Accuracy: 1.000000 | Test Accuracy: 1.000000, f1_score: 1.0\n",
      "Key 20150110 | Training Loss: 0.000661 | Train Accuracy: 1.000000 | Test Accuracy: 1.000000, f1_score: 1.0\n",
      "Key 20150102 | Training Loss: 0.000661 | Train Accuracy: 1.000000 | Test Accuracy: 1.000000, f1_score: 1.0\n",
      "Key 20150130 | Training Loss: 0.000661 | Train Accuracy: 1.000000 | Test Accuracy: 1.000000, f1_score: 1.0\n",
      "Key 20150122 | Training Loss: 0.000661 | Train Accuracy: 1.000000 | Test Accuracy: 1.000000, f1_score: 1.0\n"
     ]
    },
    {
     "name": "stdout",
     "output_type": "stream",
     "text": [
      "Key 20150120 | Training Loss: 0.000661 | Train Accuracy: 1.000000 | Test Accuracy: 0.999998, f1_score: 0.9999885712979577\n",
      "Key 20150126 | Training Loss: 0.000661 | Train Accuracy: 1.000000 | Test Accuracy: 1.000000, f1_score: 1.0\n",
      "Key 20150109 | Training Loss: 0.000661 | Train Accuracy: 1.000000 | Test Accuracy: 0.999996, f1_score: 0.9999810134994019\n",
      "Key 20150108 | Training Loss: 0.000661 | Train Accuracy: 1.000000 | Test Accuracy: 1.000000, f1_score: 1.0\n",
      "Key 20150123 | Training Loss: 0.000661 | Train Accuracy: 1.000000 | Test Accuracy: 1.000000, f1_score: 1.0\n",
      "Key 20150129 | Training Loss: 0.000661 | Train Accuracy: 1.000000 | Test Accuracy: 1.000000, f1_score: 1.0\n",
      "Key 20150115 | Training Loss: 0.000661 | Train Accuracy: 1.000000 | Test Accuracy: 1.000000, f1_score: 1.0\n",
      "Key 20150112 | Training Loss: 0.000661 | Train Accuracy: 1.000000 | Test Accuracy: 1.000000, f1_score: 1.0\n",
      "Key 20150107 | Training Loss: 0.000661 | Train Accuracy: 1.000000 | Test Accuracy: 1.000000, f1_score: 1.0\n",
      "Key 20150121 | Training Loss: 0.000661 | Train Accuracy: 1.000000 | Test Accuracy: 0.999998, f1_score: 0.9999846590473269\n",
      "Key 20150111 | Training Loss: 0.000661 | Train Accuracy: 1.000000 | Test Accuracy: 1.000000, f1_score: 1.0\n",
      "Key 20150119 | Training Loss: 0.000661 | Train Accuracy: 1.000000 | Test Accuracy: 1.000000, f1_score: 1.0\n",
      "Key 20150104 | Training Loss: 0.000661 | Train Accuracy: 1.000000 | Test Accuracy: 0.999999, f1_score: 0.9999967676349755\n",
      "Key 20150124 | Training Loss: 0.000661 | Train Accuracy: 1.000000 | Test Accuracy: 1.000000, f1_score: 1.0\n",
      "Key 20150114 | Training Loss: 0.000661 | Train Accuracy: 1.000000 | Test Accuracy: 1.000000, f1_score: 1.0\n",
      "Key 20150103 | Training Loss: 0.000661 | Train Accuracy: 1.000000 | Test Accuracy: 1.000000, f1_score: 1.0\n",
      "Key 20150106 | Training Loss: 0.000661 | Train Accuracy: 1.000000 | Test Accuracy: 1.000000, f1_score: 1.0\n",
      "Key 20150128 | Training Loss: 0.000661 | Train Accuracy: 1.000000 | Test Accuracy: 1.000000, f1_score: 1.0\n",
      "Current Layer Attributes - epochs:1 hidden layers:5 features count:1\n",
      "Key 20150125 | Training Loss: 0.004535 | Train Accuracy: 0.995514 | Test Accuracy: 0.952020, f1_score: 0.012860837352345006\n",
      "Key 20150101 | Training Loss: 0.004535 | Train Accuracy: 0.995514 | Test Accuracy: 0.891531, f1_score: 0.007681597772336646\n",
      "Key 20150117 | Training Loss: 0.004535 | Train Accuracy: 0.995514 | Test Accuracy: 0.908577, f1_score: 0.18900611295994715\n",
      "Key 20150105 | Training Loss: 0.004535 | Train Accuracy: 0.995514 | Test Accuracy: 0.741983, f1_score: 0.0\n",
      "Key 20150116 | Training Loss: 0.004535 | Train Accuracy: 0.995514 | Test Accuracy: 0.932145, f1_score: 0.13666846772399327\n",
      "Key 20150131 | Training Loss: 0.004535 | Train Accuracy: 0.995514 | Test Accuracy: 0.983081, f1_score: 0.0\n",
      "Key 20150113 | Training Loss: 0.004535 | Train Accuracy: 0.995514 | Test Accuracy: 0.903164, f1_score: 0.21820264401279055\n",
      "Key 20150118 | Training Loss: 0.004535 | Train Accuracy: 0.995514 | Test Accuracy: 0.942834, f1_score: 0.24377224199288255\n",
      "Key 20150127 | Training Loss: 0.004535 | Train Accuracy: 0.995514 | Test Accuracy: 0.967764, f1_score: 0.0\n",
      "Key 20150110 | Training Loss: 0.004535 | Train Accuracy: 0.995514 | Test Accuracy: 0.877885, f1_score: 0.05739320001676938\n",
      "Key 20150102 | Training Loss: 0.004535 | Train Accuracy: 0.995514 | Test Accuracy: 0.943288, f1_score: 0.031939237548079265\n",
      "Key 20150130 | Training Loss: 0.004535 | Train Accuracy: 0.995514 | Test Accuracy: 0.920648, f1_score: 0.0\n",
      "Key 20150122 | Training Loss: 0.004535 | Train Accuracy: 0.995514 | Test Accuracy: 0.944376, f1_score: 0.0\n",
      "Key 20150120 | Training Loss: 0.004535 | Train Accuracy: 0.995514 | Test Accuracy: 0.922283, f1_score: 0.28793865197843477\n",
      "Key 20150126 | Training Loss: 0.004535 | Train Accuracy: 0.995514 | Test Accuracy: 0.918805, f1_score: 0.03837101490621211\n",
      "Key 20150109 | Training Loss: 0.004535 | Train Accuracy: 0.995514 | Test Accuracy: 0.901654, f1_score: 0.0960097080448283\n",
      "Key 20150108 | Training Loss: 0.004535 | Train Accuracy: 0.995514 | Test Accuracy: 0.956298, f1_score: 0.029054986562068716\n",
      "Key 20150123 | Training Loss: 0.004535 | Train Accuracy: 0.995514 | Test Accuracy: 0.893372, f1_score: 0.0008361578546578472\n",
      "Key 20150129 | Training Loss: 0.004535 | Train Accuracy: 0.995514 | Test Accuracy: 0.978364, f1_score: 0.0\n",
      "Key 20150115 | Training Loss: 0.004535 | Train Accuracy: 0.995514 | Test Accuracy: 0.891033, f1_score: 0.15181439048943002\n",
      "Key 20150112 | Training Loss: 0.004535 | Train Accuracy: 0.995514 | Test Accuracy: 0.953243, f1_score: 0.14751439915003076\n",
      "Key 20150107 | Training Loss: 0.004535 | Train Accuracy: 0.995514 | Test Accuracy: 0.884666, f1_score: 0.043197171844354586\n",
      "Key 20150121 | Training Loss: 0.004535 | Train Accuracy: 0.995514 | Test Accuracy: 0.937131, f1_score: 0.04760340450948186\n",
      "Key 20150111 | Training Loss: 0.004535 | Train Accuracy: 0.995514 | Test Accuracy: 0.925660, f1_score: 0.12854314955987028\n",
      "Key 20150119 | Training Loss: 0.004535 | Train Accuracy: 0.995514 | Test Accuracy: 0.911500, f1_score: 0.19791473414715594\n",
      "Key 20150104 | Training Loss: 0.004535 | Train Accuracy: 0.995514 | Test Accuracy: 0.790938, f1_score: 1.2929418305470438e-05\n",
      "Key 20150124 | Training Loss: 0.004535 | Train Accuracy: 0.995514 | Test Accuracy: 0.964875, f1_score: 0.0\n",
      "Key 20150114 | Training Loss: 0.004535 | Train Accuracy: 0.995514 | Test Accuracy: 0.932001, f1_score: 0.06096121759654906\n",
      "Key 20150103 | Training Loss: 0.004535 | Train Accuracy: 0.995514 | Test Accuracy: 0.954863, f1_score: 0.00012437037497668054\n",
      "Key 20150106 | Training Loss: 0.004535 | Train Accuracy: 0.995514 | Test Accuracy: 0.935626, f1_score: 0.006643887623386484\n",
      "Key 20150128 | Training Loss: 0.004535 | Train Accuracy: 0.995514 | Test Accuracy: 0.970715, f1_score: 0.07826982492276004\n",
      "10min 50s ± 0 ns per loop (mean ± std. dev. of 1 run, 1 loop each)\n"
     ]
    }
   ],
   "source": [
    "%%timeit -r 1\n",
    "\n",
    "Hyperparameters.start_training()"
   ]
  },
  {
   "cell_type": "code",
   "execution_count": null,
   "metadata": {
    "ExecuteTime": {
     "end_time": "2017-06-16T20:12:38.742950Z",
     "start_time": "2017-06-16T20:12:38.705898Z"
    },
    "collapsed": true
   },
   "outputs": [],
   "source": []
  },
  {
   "cell_type": "code",
   "execution_count": null,
   "metadata": {
    "ExecuteTime": {
     "end_time": "2017-06-16T20:12:38.748800Z",
     "start_time": "2017-06-16T20:12:38.744607Z"
    },
    "collapsed": true
   },
   "outputs": [],
   "source": []
  },
  {
   "cell_type": "code",
   "execution_count": 8,
   "metadata": {
    "ExecuteTime": {
     "end_time": "2017-07-11T18:50:34.221887Z",
     "start_time": "2017-07-11T18:50:34.118742Z"
    }
   },
   "outputs": [
    {
     "data": {
      "text/html": [
       "<div>\n",
       "<style>\n",
       "    .dataframe thead tr:only-child th {\n",
       "        text-align: right;\n",
       "    }\n",
       "\n",
       "    .dataframe thead th {\n",
       "        text-align: left;\n",
       "    }\n",
       "\n",
       "    .dataframe tbody tr th {\n",
       "        vertical-align: top;\n",
       "    }\n",
       "</style>\n",
       "<table border=\"1\" class=\"dataframe\">\n",
       "  <thead>\n",
       "    <tr style=\"text-align: right;\">\n",
       "      <th></th>\n",
       "      <th>epoch</th>\n",
       "      <th>no_of_features</th>\n",
       "      <th>hidden_layers</th>\n",
       "      <th>train_score</th>\n",
       "      <th>test_score</th>\n",
       "      <th>f1_score</th>\n",
       "      <th>time_taken</th>\n",
       "    </tr>\n",
       "  </thead>\n",
       "  <tbody>\n",
       "    <tr>\n",
       "      <th>6</th>\n",
       "      <td>20150101</td>\n",
       "      <td>1</td>\n",
       "      <td>3</td>\n",
       "      <td>1.0</td>\n",
       "      <td>1.0</td>\n",
       "      <td>1.0</td>\n",
       "      <td>19.569195</td>\n",
       "    </tr>\n",
       "  </tbody>\n",
       "</table>\n",
       "</div>"
      ],
      "text/plain": [
       "      epoch  no_of_features  hidden_layers  train_score  test_score  f1_score  \\\n",
       "6  20150101               1              3          1.0         1.0       1.0   \n",
       "\n",
       "   time_taken  \n",
       "6   19.569195  "
      ]
     },
     "execution_count": 8,
     "metadata": {},
     "output_type": "execute_result"
    }
   ],
   "source": [
    "g = df_results.groupby(by=['no_of_features'])\n",
    "idx = g['test_score'].transform(max) == df_results['test_score']\n",
    "df_results[idx].sort_values(by = 'test_score', ascending = False)"
   ]
  },
  {
   "cell_type": "code",
   "execution_count": 9,
   "metadata": {
    "ExecuteTime": {
     "end_time": "2017-07-11T18:50:34.268296Z",
     "start_time": "2017-07-11T18:50:34.223344Z"
    }
   },
   "outputs": [
    {
     "data": {
      "text/html": [
       "<div>\n",
       "<style>\n",
       "    .dataframe thead tr:only-child th {\n",
       "        text-align: right;\n",
       "    }\n",
       "\n",
       "    .dataframe thead th {\n",
       "        text-align: left;\n",
       "    }\n",
       "\n",
       "    .dataframe tbody tr th {\n",
       "        vertical-align: top;\n",
       "    }\n",
       "</style>\n",
       "<table border=\"1\" class=\"dataframe\">\n",
       "  <thead>\n",
       "    <tr style=\"text-align: right;\">\n",
       "      <th></th>\n",
       "      <th>epoch</th>\n",
       "      <th>no_of_features</th>\n",
       "      <th>hidden_layers</th>\n",
       "      <th>train_score</th>\n",
       "      <th>test_score</th>\n",
       "      <th>f1_score</th>\n",
       "      <th>time_taken</th>\n",
       "    </tr>\n",
       "  </thead>\n",
       "  <tbody>\n",
       "    <tr>\n",
       "      <th>6</th>\n",
       "      <td>20150101</td>\n",
       "      <td>1</td>\n",
       "      <td>3</td>\n",
       "      <td>1.000000</td>\n",
       "      <td>1.000000</td>\n",
       "      <td>1.000000</td>\n",
       "      <td>19.569195</td>\n",
       "    </tr>\n",
       "    <tr>\n",
       "      <th>5</th>\n",
       "      <td>20150125</td>\n",
       "      <td>1</td>\n",
       "      <td>3</td>\n",
       "      <td>1.000000</td>\n",
       "      <td>0.999997</td>\n",
       "      <td>0.999964</td>\n",
       "      <td>12.831741</td>\n",
       "    </tr>\n",
       "    <tr>\n",
       "      <th>4</th>\n",
       "      <td>20150124</td>\n",
       "      <td>1</td>\n",
       "      <td>1</td>\n",
       "      <td>0.999964</td>\n",
       "      <td>0.987961</td>\n",
       "      <td>0.812684</td>\n",
       "      <td>149.321016</td>\n",
       "    </tr>\n",
       "    <tr>\n",
       "      <th>3</th>\n",
       "      <td>20150129</td>\n",
       "      <td>1</td>\n",
       "      <td>1</td>\n",
       "      <td>0.999964</td>\n",
       "      <td>0.985628</td>\n",
       "      <td>0.540598</td>\n",
       "      <td>103.440948</td>\n",
       "    </tr>\n",
       "    <tr>\n",
       "      <th>2</th>\n",
       "      <td>20150127</td>\n",
       "      <td>1</td>\n",
       "      <td>1</td>\n",
       "      <td>0.999964</td>\n",
       "      <td>0.985219</td>\n",
       "      <td>0.746229</td>\n",
       "      <td>51.456299</td>\n",
       "    </tr>\n",
       "    <tr>\n",
       "      <th>8</th>\n",
       "      <td>20150131</td>\n",
       "      <td>1</td>\n",
       "      <td>5</td>\n",
       "      <td>0.995514</td>\n",
       "      <td>0.983081</td>\n",
       "      <td>0.000000</td>\n",
       "      <td>62.604211</td>\n",
       "    </tr>\n",
       "    <tr>\n",
       "      <th>1</th>\n",
       "      <td>20150118</td>\n",
       "      <td>1</td>\n",
       "      <td>1</td>\n",
       "      <td>0.999964</td>\n",
       "      <td>0.972688</td>\n",
       "      <td>0.739992</td>\n",
       "      <td>47.499880</td>\n",
       "    </tr>\n",
       "    <tr>\n",
       "      <th>0</th>\n",
       "      <td>20150125</td>\n",
       "      <td>1</td>\n",
       "      <td>1</td>\n",
       "      <td>0.999964</td>\n",
       "      <td>0.970042</td>\n",
       "      <td>0.605247</td>\n",
       "      <td>9.857440</td>\n",
       "    </tr>\n",
       "    <tr>\n",
       "      <th>7</th>\n",
       "      <td>20150125</td>\n",
       "      <td>1</td>\n",
       "      <td>5</td>\n",
       "      <td>0.995514</td>\n",
       "      <td>0.952020</td>\n",
       "      <td>0.012861</td>\n",
       "      <td>16.951076</td>\n",
       "    </tr>\n",
       "  </tbody>\n",
       "</table>\n",
       "</div>"
      ],
      "text/plain": [
       "      epoch  no_of_features  hidden_layers  train_score  test_score  f1_score  \\\n",
       "6  20150101               1              3     1.000000    1.000000  1.000000   \n",
       "5  20150125               1              3     1.000000    0.999997  0.999964   \n",
       "4  20150124               1              1     0.999964    0.987961  0.812684   \n",
       "3  20150129               1              1     0.999964    0.985628  0.540598   \n",
       "2  20150127               1              1     0.999964    0.985219  0.746229   \n",
       "8  20150131               1              5     0.995514    0.983081  0.000000   \n",
       "1  20150118               1              1     0.999964    0.972688  0.739992   \n",
       "0  20150125               1              1     0.999964    0.970042  0.605247   \n",
       "7  20150125               1              5     0.995514    0.952020  0.012861   \n",
       "\n",
       "   time_taken  \n",
       "6   19.569195  \n",
       "5   12.831741  \n",
       "4  149.321016  \n",
       "3  103.440948  \n",
       "2   51.456299  \n",
       "8   62.604211  \n",
       "1   47.499880  \n",
       "0    9.857440  \n",
       "7   16.951076  "
      ]
     },
     "execution_count": 9,
     "metadata": {},
     "output_type": "execute_result"
    }
   ],
   "source": [
    "df_results.sort_values(by = 'test_score', ascending = False)"
   ]
  },
  {
   "cell_type": "code",
   "execution_count": 10,
   "metadata": {
    "ExecuteTime": {
     "end_time": "2017-07-11T18:50:35.718141Z",
     "start_time": "2017-07-11T18:50:34.269623Z"
    },
    "collapsed": true
   },
   "outputs": [],
   "source": [
    "pd.Panel(Train.predictions).to_pickle(\"dataset/tf_lstm_nsl_kdd_predictions.pkl\")\n",
    "df_results.to_pickle(\"dataset/tf_lstm_nsl_kdd_scores.pkl\")"
   ]
  },
  {
   "cell_type": "code",
   "execution_count": 11,
   "metadata": {
    "ExecuteTime": {
     "end_time": "2017-07-11T18:50:35.783750Z",
     "start_time": "2017-07-11T18:50:35.720587Z"
    },
    "collapsed": true
   },
   "outputs": [],
   "source": [
    "import numpy as np\n",
    "import matplotlib.pyplot as plt\n",
    "import itertools\n",
    "\n",
    "def plot_confusion_matrix(cm, classes,\n",
    "                          normalize=False,\n",
    "                          title='Confusion matrix',\n",
    "                          cmap=plt.cm.Blues):\n",
    "    \"\"\"\n",
    "    This function prints and plots the confusion matrix.\n",
    "    Normalization can be applied by setting `normalize=True`.\n",
    "    \"\"\"\n",
    "    np.set_printoptions(precision=4)\n",
    "\n",
    "    plt.imshow(cm, interpolation='nearest', cmap=cmap)\n",
    "    plt.title(title)\n",
    "    plt.colorbar()\n",
    "    tick_marks = np.arange(len(classes))\n",
    "    plt.xticks(tick_marks, classes, rotation=45)\n",
    "    plt.yticks(tick_marks, classes)\n",
    "\n",
    "    if normalize:\n",
    "        cm = cm.astype('float') / cm.sum(axis=1)[:, np.newaxis]\n",
    "        print(\"Normalized confusion matrix\")\n",
    "    else:\n",
    "        print('Confusion matrix, without normalization')\n",
    "\n",
    "    print(cm)\n",
    "\n",
    "    thresh = cm.max() / 2.\n",
    "    for i, j in itertools.product(range(cm.shape[0]), range(cm.shape[1])):\n",
    "        plt.text(j, i, cm[i, j].round(4),\n",
    "                 horizontalalignment=\"center\",\n",
    "                 color=\"white\" if cm[i, j] > thresh else \"black\")\n",
    "\n",
    "    plt.tight_layout()\n",
    "    plt.ylabel('True label')\n",
    "    plt.xlabel('Predicted label')\n",
    "\n",
    "def plot(actual_value, pred_value):\n",
    "    from sklearn.metrics import confusion_matrix\n",
    "    cm_2labels = confusion_matrix(y_pred = pred_value, y_true = actual_value)\n",
    "    plt.figure(figsize=[6,6])\n",
    "    plot_confusion_matrix(cm_2labels, preprocess.output_columns_2labels, normalize = False,\n",
    "                         title = Train.best_parameters)"
   ]
  },
  {
   "cell_type": "code",
   "execution_count": 12,
   "metadata": {
    "ExecuteTime": {
     "end_time": "2017-07-11T18:50:40.531542Z",
     "start_time": "2017-07-11T18:50:35.785424Z"
    }
   },
   "outputs": [
    {
     "ename": "AttributeError",
     "evalue": "type object 'preprocess' has no attribute 'output_columns_2labels'",
     "output_type": "error",
     "traceback": [
      "\u001b[0;31m---------------------------------------------------------------------------\u001b[0m",
      "\u001b[0;31mAttributeError\u001b[0m                            Traceback (most recent call last)",
      "\u001b[0;32m<ipython-input-12-0619c9379428>\u001b[0m in \u001b[0;36m<module>\u001b[0;34m()\u001b[0m\n\u001b[0;32m----> 1\u001b[0;31m \u001b[0mplot\u001b[0m\u001b[0;34m(\u001b[0m\u001b[0mactual_value\u001b[0m \u001b[0;34m=\u001b[0m \u001b[0mTrain\u001b[0m\u001b[0;34m.\u001b[0m\u001b[0mactual_value\u001b[0m\u001b[0;34m,\u001b[0m \u001b[0mpred_value\u001b[0m \u001b[0;34m=\u001b[0m \u001b[0mTrain\u001b[0m\u001b[0;34m.\u001b[0m\u001b[0mpred_value\u001b[0m\u001b[0;34m)\u001b[0m\u001b[0;34m\u001b[0m\u001b[0m\n\u001b[0m",
      "\u001b[0;32m<ipython-input-11-75ddd84fdb1c>\u001b[0m in \u001b[0;36mplot\u001b[0;34m(actual_value, pred_value)\u001b[0m\n\u001b[1;32m     42\u001b[0m     \u001b[0mcm_2labels\u001b[0m \u001b[0;34m=\u001b[0m \u001b[0mconfusion_matrix\u001b[0m\u001b[0;34m(\u001b[0m\u001b[0my_pred\u001b[0m \u001b[0;34m=\u001b[0m \u001b[0mpred_value\u001b[0m\u001b[0;34m,\u001b[0m \u001b[0my_true\u001b[0m \u001b[0;34m=\u001b[0m \u001b[0mactual_value\u001b[0m\u001b[0;34m)\u001b[0m\u001b[0;34m\u001b[0m\u001b[0m\n\u001b[1;32m     43\u001b[0m     \u001b[0mplt\u001b[0m\u001b[0;34m.\u001b[0m\u001b[0mfigure\u001b[0m\u001b[0;34m(\u001b[0m\u001b[0mfigsize\u001b[0m\u001b[0;34m=\u001b[0m\u001b[0;34m[\u001b[0m\u001b[0;36m6\u001b[0m\u001b[0;34m,\u001b[0m\u001b[0;36m6\u001b[0m\u001b[0;34m]\u001b[0m\u001b[0;34m)\u001b[0m\u001b[0;34m\u001b[0m\u001b[0m\n\u001b[0;32m---> 44\u001b[0;31m     plot_confusion_matrix(cm_2labels, preprocess.output_columns_2labels, normalize = False,\n\u001b[0m\u001b[1;32m     45\u001b[0m                          title = Train.best_parameters)\n",
      "\u001b[0;31mAttributeError\u001b[0m: type object 'preprocess' has no attribute 'output_columns_2labels'"
     ]
    },
    {
     "data": {
      "text/plain": [
       "<matplotlib.figure.Figure at 0x7f28a42ae0f0>"
      ]
     },
     "metadata": {},
     "output_type": "display_data"
    }
   ],
   "source": [
    "plot(actual_value = Train.actual_value, pred_value = Train.pred_value)"
   ]
  },
  {
   "cell_type": "code",
   "execution_count": null,
   "metadata": {
    "ExecuteTime": {
     "end_time": "2017-07-11T18:50:40.532174Z",
     "start_time": "2017-07-11T18:29:04.104Z"
    },
    "collapsed": true
   },
   "outputs": [],
   "source": [
    "#4.5 GB\n",
    "pd.Series(Train.pred_value).to_csv('LSTM_prediction_values.csv')"
   ]
  },
  {
   "cell_type": "code",
   "execution_count": null,
   "metadata": {
    "ExecuteTime": {
     "end_time": "2017-07-11T18:50:40.532948Z",
     "start_time": "2017-07-11T18:29:04.106Z"
    },
    "collapsed": true
   },
   "outputs": [],
   "source": [
    "past_scores"
   ]
  },
  {
   "cell_type": "code",
   "execution_count": null,
   "metadata": {
    "ExecuteTime": {
     "end_time": "2017-07-11T18:50:40.533654Z",
     "start_time": "2017-07-11T18:29:04.109Z"
    },
    "collapsed": true
   },
   "outputs": [],
   "source": [
    "pgb = past_scores.groupby(by=['no_of_features', 'hidden_layers'])\n",
    "pgb.mean()"
   ]
  },
  {
   "cell_type": "code",
   "execution_count": null,
   "metadata": {
    "ExecuteTime": {
     "end_time": "2017-07-11T18:50:40.534227Z",
     "start_time": "2017-07-11T18:29:04.111Z"
    },
    "collapsed": true
   },
   "outputs": [],
   "source": [
    "pgb.std()"
   ]
  },
  {
   "cell_type": "code",
   "execution_count": null,
   "metadata": {
    "collapsed": true
   },
   "outputs": [],
   "source": []
  }
 ],
 "metadata": {
  "_draft": {
   "nbviewer_url": "https://gist.github.com/7d1ace18a82178e15ece8fc5252fce88"
  },
  "anaconda-cloud": {},
  "gist": {
   "data": {
    "description": "Hyper parameter tuning",
    "public": false
   },
   "id": "7d1ace18a82178e15ece8fc5252fce88"
  },
  "kernelspec": {
   "display_name": "Python [conda env:p3]",
   "language": "python",
   "name": "conda-env-p3-py"
  },
  "language_info": {
   "codemirror_mode": {
    "name": "ipython",
    "version": 3
   },
   "file_extension": ".py",
   "mimetype": "text/x-python",
   "name": "python",
   "nbconvert_exporter": "python",
   "pygments_lexer": "ipython3",
   "version": "3.6.1"
  }
 },
 "nbformat": 4,
 "nbformat_minor": 2
}
