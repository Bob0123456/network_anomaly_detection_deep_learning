{
 "cells": [
  {
   "cell_type": "markdown",
   "metadata": {},
   "source": [
    "# Read Data Sample"
   ]
  },
  {
   "cell_type": "code",
   "execution_count": 1,
   "metadata": {
    "ExecuteTime": {
     "end_time": "2017-06-01T01:19:54.764193Z",
     "start_time": "2017-06-01T01:19:54.354761Z"
    },
    "collapsed": true
   },
   "outputs": [],
   "source": [
    "import pandas as pd\n",
    "import numpy as np\n",
    "from collections import namedtuple\n",
    "pd.set_option(\"display.max_rows\",35)\n",
    "%matplotlib inline"
   ]
  },
  {
   "cell_type": "code",
   "execution_count": 2,
   "metadata": {
    "ExecuteTime": {
     "end_time": "2017-06-01T01:19:54.848726Z",
     "start_time": "2017-06-01T01:19:54.765831Z"
    },
    "collapsed": true
   },
   "outputs": [],
   "source": [
    "class dataset:\n",
    "    kdd_train_2labels = pd.read_pickle(\"dataset/kdd_train_2labels.pkl\")\n",
    "    kdd_test_2labels = pd.read_pickle(\"dataset/kdd_test_2labels.pkl\")\n",
    "    \n",
    "    kdd_train_5labels = pd.read_pickle(\"dataset/kdd_train_5labels.pkl\")\n",
    "    kdd_test_5labels = pd.read_pickle(\"dataset/kdd_test_5labels.pkl\")\n",
    "    "
   ]
  },
  {
   "cell_type": "code",
   "execution_count": 3,
   "metadata": {
    "ExecuteTime": {
     "end_time": "2017-06-01T01:19:54.854933Z",
     "start_time": "2017-06-01T01:19:54.850323Z"
    }
   },
   "outputs": [
    {
     "data": {
      "text/plain": [
       "(125973, 124)"
      ]
     },
     "execution_count": 3,
     "metadata": {},
     "output_type": "execute_result"
    }
   ],
   "source": [
    "dataset.kdd_train_2labels.shape"
   ]
  },
  {
   "cell_type": "code",
   "execution_count": 4,
   "metadata": {
    "ExecuteTime": {
     "end_time": "2017-06-01T01:19:54.881182Z",
     "start_time": "2017-06-01T01:19:54.856323Z"
    }
   },
   "outputs": [
    {
     "data": {
      "text/plain": [
       "(22544, 124)"
      ]
     },
     "execution_count": 4,
     "metadata": {},
     "output_type": "execute_result"
    }
   ],
   "source": [
    "dataset.kdd_test_2labels.shape"
   ]
  },
  {
   "cell_type": "code",
   "execution_count": 5,
   "metadata": {
    "ExecuteTime": {
     "end_time": "2017-06-01T01:19:55.629898Z",
     "start_time": "2017-06-01T01:19:54.882606Z"
    }
   },
   "outputs": [
    {
     "data": {
      "text/plain": [
       "0.99589320646770185"
      ]
     },
     "execution_count": 5,
     "metadata": {},
     "output_type": "execute_result"
    }
   ],
   "source": [
    "from sklearn import model_selection as ms\n",
    "from sklearn import preprocessing as pp\n",
    "\n",
    "class preprocess:\n",
    "    \n",
    "    output_columns_2labels = ['is_Attack','is_Normal']\n",
    "    \n",
    "    x_input = dataset.kdd_train_2labels.drop(output_columns_2labels, axis = 1)\n",
    "    y_output = dataset.kdd_train_2labels.loc[:,output_columns_2labels]\n",
    "\n",
    "    x_test_input = dataset.kdd_test_2labels.drop(output_columns_2labels, axis = 1)\n",
    "    y_test = dataset.kdd_test_2labels.loc[:,output_columns_2labels]\n",
    "\n",
    "    ss = pp.StandardScaler()\n",
    "\n",
    "    x_train = ss.fit_transform(x_input)\n",
    "    x_test = ss.transform(x_test_input)\n",
    "\n",
    "    y_train = y_output.values\n",
    "    y_test = y_test.values\n",
    "\n",
    "preprocess.x_train.std()"
   ]
  },
  {
   "cell_type": "code",
   "execution_count": 6,
   "metadata": {
    "ExecuteTime": {
     "end_time": "2017-06-01T01:19:57.446843Z",
     "start_time": "2017-06-01T01:19:55.631326Z"
    },
    "collapsed": true
   },
   "outputs": [],
   "source": [
    "import tensorflow as tf\n",
    "from tensorflow.contrib.legacy_seq2seq.python.ops.seq2seq import basic_rnn_seq2seq\n",
    "from tensorflow.contrib.rnn import RNNCell, LSTMCell, MultiRNNCell\n"
   ]
  },
  {
   "cell_type": "code",
   "execution_count": 7,
   "metadata": {
    "ExecuteTime": {
     "end_time": "2017-06-01T01:19:57.622469Z",
     "start_time": "2017-06-01T01:19:57.448731Z"
    },
    "collapsed": true
   },
   "outputs": [],
   "source": [
    "class network(object):\n",
    "    \n",
    "    input_dim = 122\n",
    "    classes = 2\n",
    "    hidden_encoder_dim = 122\n",
    "    hidden_layers = 1\n",
    "    latent_dim = 10\n",
    "\n",
    "    hidden_decoder_dim = 122\n",
    "    lam = 0.01\n",
    "    \n",
    "    def __init__(self, classes, hidden_layers, num_of_features):\n",
    "        self.classes = classes\n",
    "        self.hidden_layers = hidden_layers\n",
    "        self.latent_dim = num_of_features\n",
    "            \n",
    "    def build_layers(self):\n",
    "        tf.reset_default_graph()\n",
    "        #learning_rate = tf.Variable(initial_value=0.001)\n",
    "\n",
    "        input_dim = self.input_dim\n",
    "        classes = self.classes\n",
    "        hidden_encoder_dim = self.hidden_encoder_dim\n",
    "        hidden_layers = self.hidden_layers\n",
    "        latent_dim = self.latent_dim\n",
    "        hidden_decoder_dim = self.hidden_decoder_dim\n",
    "        lam = self.lam\n",
    "        \n",
    "        with tf.variable_scope(\"Input\"):\n",
    "            self.x_input = tf.placeholder(\"float\", shape=[None, 1, input_dim])\n",
    "            self.y_input_ = tf.placeholder(\"float\", shape=[None, 1, classes])\n",
    "            self.keep_prob = tf.placeholder(\"float\")\n",
    "            self.x_list = tf.unstack(self.x_input, axis= 1)\n",
    "            self.y_list_ = tf.unstack(self.y_input_, axis = 1)\n",
    "            self.y_ = self.y_list_[0]\n",
    "            \n",
    "            #GO = tf.fill((tf.shape(self.x)[0], 1), 0.5)\n",
    "            \n",
    "            #y_with_GO = tf.stack([self.y_, GO])\n",
    "            \n",
    "        with tf.variable_scope(\"lstm\"):\n",
    "            multi_cell = MultiRNNCell([LSTMCell(input_dim) for i in range(hidden_layers)] )\n",
    "            \n",
    "            self.y, states = basic_rnn_seq2seq(self.x_list, self.y_list_, multi_cell)\n",
    "            #self.y = tf.slice(self.y, [0, 0], [-1,2])\n",
    "            \n",
    "            #self.out = tf.squeeze(self.y)\n",
    "            \n",
    "            self.y = tf.layers.dense(self.y[0], classes, activation = tf.nn.softmax)\n",
    "        with tf.variable_scope(\"Loss\"):\n",
    "            \n",
    "            self.regularized_loss = tf.losses.mean_squared_error(self.y_, self.y)\n",
    "            correct_prediction = tf.equal(tf.argmax(self.y_, 1), tf.argmax(self.y, 1))\n",
    "            self.tf_accuracy = tf.reduce_mean(tf.cast(correct_prediction, tf.float32), name = \"Accuracy\")\n",
    "\n",
    "        with tf.variable_scope(\"Optimizer\"):\n",
    "            learning_rate=1e-2\n",
    "            optimizer = tf.train.AdamOptimizer(learning_rate)\n",
    "            gradients, variables = zip(*optimizer.compute_gradients(self.regularized_loss))\n",
    "            gradients = [\n",
    "                None if gradient is None else tf.clip_by_value(gradient, -1, 1)\n",
    "                for gradient in gradients]\n",
    "            self.train_op = optimizer.apply_gradients(zip(gradients, variables))\n",
    "            #self.train_op = optimizer.minimize(self.regularized_loss)\n",
    "            \n",
    "        # add op for merging summary\n",
    "        #self.summary_op = tf.summary.merge_all()\n",
    "        self.pred = tf.argmax(self.y, axis = 1)\n",
    "        self.actual = tf.argmax(self.y_, axis = 1)\n",
    "\n",
    "        # add Saver ops\n",
    "        self.saver = tf.train.Saver()\n",
    "        "
   ]
  },
  {
   "cell_type": "markdown",
   "metadata": {
    "ExecuteTime": {
     "end_time": "2017-06-01T00:59:00.684124Z",
     "start_time": "2017-06-01T00:58:59.843181Z"
    }
   },
   "source": [
    "batch_iterations = 200\n",
    "\n",
    "x_train, x_valid, y_train, y_valid, = ms.train_test_split(preprocess.x_train, \n",
    "                                                                          preprocess.y_train, \n",
    "                                                                          test_size=0.1)\n",
    "batch_indices = np.array_split(np.arange(x_train.shape[0]), \n",
    "                                           batch_iterations)\n",
    "                                                                          \n",
    "for i in batch_indices:\n",
    "    print(x_train[i,np.newaxis,:])\n",
    "    print(y_train[i,np.newaxis,:])"
   ]
  },
  {
   "cell_type": "code",
   "execution_count": 10,
   "metadata": {
    "ExecuteTime": {
     "end_time": "2017-06-01T01:20:58.486264Z",
     "start_time": "2017-06-01T01:20:58.352326Z"
    },
    "collapsed": true,
    "scrolled": false
   },
   "outputs": [],
   "source": [
    "import collections\n",
    "\n",
    "class Train:    \n",
    "    \n",
    "    result = namedtuple(\"score\", ['epoch', 'no_of_features','hidden_layers','train_score', 'test_score'])\n",
    "\n",
    "    predictions = {}\n",
    "\n",
    "    results = []\n",
    "    best_acc = 0\n",
    "    \n",
    "    def train(epochs, net, h,f):\n",
    "        batch_iterations = 200\n",
    "    \n",
    "        with tf.Session() as sess:\n",
    "            #summary_writer_train = tf.summary.FileWriter('./logs/kdd/VAE/training', graph=sess.graph)\n",
    "            #summary_writer_valid = tf.summary.FileWriter('./logs/kdd/VAE/validation')\n",
    "\n",
    "            sess.run(tf.global_variables_initializer())\n",
    "\n",
    "            for epoch in range(1, (epochs+1)):\n",
    "                x_train, x_valid, y_train, y_valid, = ms.train_test_split(preprocess.x_train, \n",
    "                                                                          preprocess.y_train, \n",
    "                                                                          test_size=0.1)\n",
    "                batch_indices = np.array_split(np.arange(x_train.shape[0]), \n",
    "                                           batch_iterations)\n",
    "                                                                          \n",
    "                for i in batch_indices:\n",
    "                    \n",
    "                    _, train_loss = sess.run([net.train_op, net.regularized_loss], #net.summary_op\n",
    "                                                          feed_dict={net.x_input: x_train[i,np.newaxis,:], \n",
    "                                                                     net.y_input_: y_train[i,np.newaxis,:], \n",
    "                                                                     net.keep_prob:1})\n",
    "                    #summary_writer_train.add_summary(summary_str, epoch)\n",
    "                    if(train_loss > 1e9):\n",
    "                        print(\"Step {} | Training Loss: {:.6f}\".format(epoch, train_loss))\n",
    "                    \n",
    "\n",
    "                valid_accuracy,valid_loss = sess.run([net.tf_accuracy, net.regularized_loss], #net.summary_op \n",
    "                                                      feed_dict={net.x_input: x_valid[:,np.newaxis,:], \n",
    "                                                                 net.y_input_: y_valid[:,np.newaxis,:], \n",
    "                                                                 net.keep_prob:1})\n",
    "                #summary_writer_valid.add_summary(summary_str, epoch)\n",
    "\n",
    "                if epoch % 1 == 0:\n",
    "                    print(\"Step {} | Training Loss: {:.6f} | Test Loss: {:.6f} | Test Accuracy: {:.6f}\".format(epoch, train_loss, valid_loss, valid_accuracy))\n",
    "\n",
    "            accuracy, pred_value, actual_value, y_pred = sess.run([net.tf_accuracy, \n",
    "                                                           net.pred, \n",
    "                                                           net.actual, net.y], \n",
    "                                                          feed_dict={net.x_input: preprocess.x_test[:,np.newaxis,:], \n",
    "                                                                     net.y_input_: preprocess.y_test[:,np.newaxis,:], \n",
    "                                                                     net.keep_prob:1})\n",
    "\n",
    "\n",
    "            print(\"Accuracy on Test data: {}\".format(accuracy))\n",
    "            \n",
    "            curr_pred = pd.DataFrame({\"Attack_prob\":y_pred[:,-2], \"Normal_prob\":y_pred[:, -1]})\n",
    "            Train.predictions.update({\"{}_{}_{}\".format(epochs,f,h):curr_pred})\n",
    "            \n",
    "            if accuracy > Train.best_acc:\n",
    "                Train.best_acc = accuracy\n",
    "                Train.pred_value = pred_value\n",
    "                Train.actual_value = actual_value\n",
    "                Train.best_parameters = \"Hidden Layers:{}, Features Count:{}\".format(h, f)\n",
    "                #net.saver.save(sess, \"dataset/epochs_{}_hidden layers_{}_features count_{}\".format(epochs,h,f))\n",
    "            Train.results.append(Train.result(epochs, f, h,valid_accuracy, accuracy))\n",
    "            "
   ]
  },
  {
   "cell_type": "code",
   "execution_count": 11,
   "metadata": {
    "ExecuteTime": {
     "end_time": "2017-06-01T02:38:32.367576Z",
     "start_time": "2017-06-01T01:20:59.498994Z"
    },
    "scrolled": false
   },
   "outputs": [
    {
     "name": "stdout",
     "output_type": "stream",
     "text": [
      "Current Layer Attributes - epochs:20 hidden layers:2 features count:4\n",
      "Step 1 | Training Loss: 0.000001 | Test Loss: 0.000875 | Test Accuracy: 0.999127\n",
      "Step 2 | Training Loss: 0.000024 | Test Loss: 0.000957 | Test Accuracy: 0.998889\n",
      "Step 3 | Training Loss: 0.000000 | Test Loss: 0.000874 | Test Accuracy: 0.999127\n",
      "Step 4 | Training Loss: 0.000000 | Test Loss: 0.000397 | Test Accuracy: 0.999603\n",
      "Step 5 | Training Loss: 0.000000 | Test Loss: 0.000556 | Test Accuracy: 0.999444\n",
      "Step 6 | Training Loss: 0.001767 | Test Loss: 0.001032 | Test Accuracy: 0.998968\n",
      "Step 7 | Training Loss: 0.000000 | Test Loss: 0.000318 | Test Accuracy: 0.999682\n",
      "Step 8 | Training Loss: 0.000000 | Test Loss: 0.000476 | Test Accuracy: 0.999524\n",
      "Step 9 | Training Loss: 0.000000 | Test Loss: 0.000477 | Test Accuracy: 0.999524\n",
      "Step 10 | Training Loss: 0.000000 | Test Loss: 0.000397 | Test Accuracy: 0.999603\n",
      "Step 11 | Training Loss: 0.000000 | Test Loss: 0.000318 | Test Accuracy: 0.999682\n",
      "Step 12 | Training Loss: 0.000000 | Test Loss: 0.000714 | Test Accuracy: 0.999286\n",
      "Step 13 | Training Loss: 0.001767 | Test Loss: 0.000476 | Test Accuracy: 0.999524\n",
      "Step 14 | Training Loss: 0.003534 | Test Loss: 0.000397 | Test Accuracy: 0.999603\n",
      "Step 15 | Training Loss: 0.000000 | Test Loss: 0.000318 | Test Accuracy: 0.999682\n",
      "Step 16 | Training Loss: 0.000000 | Test Loss: 0.000397 | Test Accuracy: 0.999603\n",
      "Step 17 | Training Loss: 0.000000 | Test Loss: 0.000397 | Test Accuracy: 0.999603\n",
      "Step 18 | Training Loss: 0.000000 | Test Loss: 0.000159 | Test Accuracy: 0.999841\n",
      "Step 19 | Training Loss: 0.001767 | Test Loss: 0.000397 | Test Accuracy: 0.999603\n",
      "Step 20 | Training Loss: 0.001767 | Test Loss: 0.000556 | Test Accuracy: 0.999444\n",
      "Accuracy on Test data: 0.9803938865661621\n",
      "Current Layer Attributes - epochs:20 hidden layers:2 features count:8\n",
      "Step 1 | Training Loss: 0.008836 | Test Loss: 0.009572 | Test Accuracy: 0.990395\n",
      "Step 2 | Training Loss: 0.010603 | Test Loss: 0.005363 | Test Accuracy: 0.994602\n",
      "Step 3 | Training Loss: 0.000004 | Test Loss: 0.000489 | Test Accuracy: 0.999524\n",
      "Step 4 | Training Loss: 0.000000 | Test Loss: 0.000238 | Test Accuracy: 0.999762\n",
      "Step 5 | Training Loss: 0.001767 | Test Loss: 0.001112 | Test Accuracy: 0.998889\n",
      "Step 6 | Training Loss: 0.007067 | Test Loss: 0.001270 | Test Accuracy: 0.998730\n",
      "Step 7 | Training Loss: 0.000000 | Test Loss: 0.002064 | Test Accuracy: 0.997936\n",
      "Step 8 | Training Loss: 0.000000 | Test Loss: 0.001826 | Test Accuracy: 0.998174\n",
      "Step 9 | Training Loss: 0.001767 | Test Loss: 0.001270 | Test Accuracy: 0.998730\n",
      "Step 10 | Training Loss: 0.003534 | Test Loss: 0.001667 | Test Accuracy: 0.998333\n",
      "Step 11 | Training Loss: 0.001767 | Test Loss: 0.000953 | Test Accuracy: 0.999047\n",
      "Step 12 | Training Loss: 0.001767 | Test Loss: 0.001826 | Test Accuracy: 0.998174\n",
      "Step 13 | Training Loss: 0.001767 | Test Loss: 0.002381 | Test Accuracy: 0.997619\n",
      "Step 14 | Training Loss: 0.005300 | Test Loss: 0.001746 | Test Accuracy: 0.998254\n",
      "Step 15 | Training Loss: 0.000000 | Test Loss: 0.002064 | Test Accuracy: 0.997936\n",
      "Step 16 | Training Loss: 0.000000 | Test Loss: 0.001746 | Test Accuracy: 0.998254\n",
      "Step 17 | Training Loss: 0.003534 | Test Loss: 0.001905 | Test Accuracy: 0.998095\n",
      "Step 18 | Training Loss: 0.003534 | Test Loss: 0.001588 | Test Accuracy: 0.998412\n",
      "Step 19 | Training Loss: 0.000000 | Test Loss: 0.001905 | Test Accuracy: 0.998095\n",
      "Step 20 | Training Loss: 0.001767 | Test Loss: 0.001111 | Test Accuracy: 0.998889\n",
      "Accuracy on Test data: 0.9981369972229004\n",
      "Current Layer Attributes - epochs:20 hidden layers:2 features count:16\n",
      "Step 1 | Training Loss: 0.001672 | Test Loss: 0.000771 | Test Accuracy: 0.999206\n",
      "Step 2 | Training Loss: 0.001768 | Test Loss: 0.000636 | Test Accuracy: 0.999365\n",
      "Step 3 | Training Loss: 0.000000 | Test Loss: 0.000476 | Test Accuracy: 0.999524\n",
      "Step 4 | Training Loss: 0.000000 | Test Loss: 0.000715 | Test Accuracy: 0.999286\n",
      "Step 5 | Training Loss: 0.000000 | Test Loss: 0.000159 | Test Accuracy: 0.999841\n",
      "Step 6 | Training Loss: 0.000000 | Test Loss: 0.000318 | Test Accuracy: 0.999682\n",
      "Step 7 | Training Loss: 0.001767 | Test Loss: 0.000238 | Test Accuracy: 0.999762\n",
      "Step 8 | Training Loss: 0.000000 | Test Loss: 0.000714 | Test Accuracy: 0.999286\n",
      "Step 9 | Training Loss: 0.000000 | Test Loss: 0.000159 | Test Accuracy: 0.999841\n",
      "Step 10 | Training Loss: 0.000000 | Test Loss: 0.000238 | Test Accuracy: 0.999762\n",
      "Step 11 | Training Loss: 0.000000 | Test Loss: 0.000000 | Test Accuracy: 1.000000\n",
      "Step 12 | Training Loss: 0.000000 | Test Loss: 0.000079 | Test Accuracy: 0.999921\n",
      "Step 13 | Training Loss: 0.000000 | Test Loss: 0.000318 | Test Accuracy: 0.999682\n",
      "Step 14 | Training Loss: 0.000000 | Test Loss: 0.000238 | Test Accuracy: 0.999762\n",
      "Step 15 | Training Loss: 0.000000 | Test Loss: 0.000159 | Test Accuracy: 0.999841\n",
      "Step 16 | Training Loss: 0.000000 | Test Loss: 0.000238 | Test Accuracy: 0.999762\n",
      "Step 17 | Training Loss: 0.000000 | Test Loss: 0.000079 | Test Accuracy: 0.999921\n",
      "Step 18 | Training Loss: 0.000000 | Test Loss: 0.000556 | Test Accuracy: 0.999444\n",
      "Step 19 | Training Loss: 0.001767 | Test Loss: 0.000238 | Test Accuracy: 0.999762\n",
      "Step 20 | Training Loss: 0.000000 | Test Loss: 0.000635 | Test Accuracy: 0.999365\n",
      "Accuracy on Test data: 0.998846709728241\n",
      "Current Layer Attributes - epochs:20 hidden layers:2 features count:32\n",
      "Step 1 | Training Loss: 0.000005 | Test Loss: 0.000879 | Test Accuracy: 0.999127\n",
      "Step 2 | Training Loss: 0.000001 | Test Loss: 0.001112 | Test Accuracy: 0.998889\n",
      "Step 3 | Training Loss: 0.001767 | Test Loss: 0.000635 | Test Accuracy: 0.999365\n",
      "Step 4 | Training Loss: 0.000000 | Test Loss: 0.000715 | Test Accuracy: 0.999286\n",
      "Step 5 | Training Loss: 0.000000 | Test Loss: 0.000476 | Test Accuracy: 0.999524\n",
      "Step 6 | Training Loss: 0.000000 | Test Loss: 0.000397 | Test Accuracy: 0.999603\n",
      "Step 7 | Training Loss: 0.000000 | Test Loss: 0.001111 | Test Accuracy: 0.998889\n",
      "Step 8 | Training Loss: 0.000000 | Test Loss: 0.000476 | Test Accuracy: 0.999524\n",
      "Step 9 | Training Loss: 0.000000 | Test Loss: 0.000635 | Test Accuracy: 0.999365\n",
      "Step 10 | Training Loss: 0.001767 | Test Loss: 0.000397 | Test Accuracy: 0.999603\n",
      "Step 11 | Training Loss: 0.000000 | Test Loss: 0.000794 | Test Accuracy: 0.999206\n",
      "Step 12 | Training Loss: 0.000000 | Test Loss: 0.000556 | Test Accuracy: 0.999444\n",
      "Step 13 | Training Loss: 0.000000 | Test Loss: 0.000635 | Test Accuracy: 0.999365\n",
      "Step 14 | Training Loss: 0.000000 | Test Loss: 0.000714 | Test Accuracy: 0.999286\n",
      "Step 15 | Training Loss: 0.003534 | Test Loss: 0.000794 | Test Accuracy: 0.999206\n",
      "Step 16 | Training Loss: 0.000000 | Test Loss: 0.000476 | Test Accuracy: 0.999524\n",
      "Step 17 | Training Loss: 0.001767 | Test Loss: 0.000635 | Test Accuracy: 0.999365\n",
      "Step 18 | Training Loss: 0.000000 | Test Loss: 0.000397 | Test Accuracy: 0.999603\n",
      "Step 19 | Training Loss: 0.001767 | Test Loss: 0.000397 | Test Accuracy: 0.999603\n",
      "Step 20 | Training Loss: 0.000000 | Test Loss: 0.000397 | Test Accuracy: 0.999603\n",
      "Accuracy on Test data: 0.9819907546043396\n",
      "Current Layer Attributes - epochs:20 hidden layers:4 features count:4\n",
      "Step 1 | Training Loss: 0.018363 | Test Loss: 0.016579 | Test Accuracy: 0.982219\n",
      "Step 2 | Training Loss: 0.003473 | Test Loss: 0.001708 | Test Accuracy: 0.998254\n",
      "Step 3 | Training Loss: 0.000001 | Test Loss: 0.001350 | Test Accuracy: 0.998651\n",
      "Step 4 | Training Loss: 0.005300 | Test Loss: 0.001667 | Test Accuracy: 0.998333\n",
      "Step 5 | Training Loss: 0.000000 | Test Loss: 0.001429 | Test Accuracy: 0.998571\n",
      "Step 6 | Training Loss: 0.001767 | Test Loss: 0.001588 | Test Accuracy: 0.998412\n",
      "Step 7 | Training Loss: 0.000000 | Test Loss: 0.001429 | Test Accuracy: 0.998571\n",
      "Step 8 | Training Loss: 0.000000 | Test Loss: 0.001429 | Test Accuracy: 0.998571\n",
      "Step 9 | Training Loss: 0.005300 | Test Loss: 0.001508 | Test Accuracy: 0.998492\n",
      "Step 10 | Training Loss: 0.001767 | Test Loss: 0.001191 | Test Accuracy: 0.998809\n",
      "Step 11 | Training Loss: 0.000000 | Test Loss: 0.001508 | Test Accuracy: 0.998492\n",
      "Step 12 | Training Loss: 0.000000 | Test Loss: 0.001826 | Test Accuracy: 0.998174\n",
      "Step 13 | Training Loss: 0.003534 | Test Loss: 0.001349 | Test Accuracy: 0.998651\n",
      "Step 14 | Training Loss: 0.001767 | Test Loss: 0.001984 | Test Accuracy: 0.998016\n",
      "Step 15 | Training Loss: 0.003534 | Test Loss: 0.001191 | Test Accuracy: 0.998809\n"
     ]
    },
    {
     "name": "stdout",
     "output_type": "stream",
     "text": [
      "Step 16 | Training Loss: 0.000000 | Test Loss: 0.000953 | Test Accuracy: 0.999047\n",
      "Step 17 | Training Loss: 0.003534 | Test Loss: 0.001826 | Test Accuracy: 0.998174\n",
      "Step 18 | Training Loss: 0.000000 | Test Loss: 0.001270 | Test Accuracy: 0.998730\n",
      "Step 19 | Training Loss: 0.000000 | Test Loss: 0.001349 | Test Accuracy: 0.998651\n",
      "Step 20 | Training Loss: 0.001767 | Test Loss: 0.001429 | Test Accuracy: 0.998571\n",
      "Accuracy on Test data: 0.9861160516738892\n",
      "Current Layer Attributes - epochs:20 hidden layers:4 features count:8\n",
      "Step 1 | Training Loss: 0.014138 | Test Loss: 0.012775 | Test Accuracy: 0.987220\n",
      "Step 2 | Training Loss: 0.012326 | Test Loss: 0.013728 | Test Accuracy: 0.986268\n",
      "Step 3 | Training Loss: 0.019437 | Test Loss: 0.013259 | Test Accuracy: 0.986744\n",
      "Step 4 | Training Loss: 0.003570 | Test Loss: 0.003678 | Test Accuracy: 0.996269\n",
      "Step 5 | Training Loss: 0.008816 | Test Loss: 0.002896 | Test Accuracy: 0.997063\n",
      "Step 6 | Training Loss: 0.003535 | Test Loss: 0.003575 | Test Accuracy: 0.996428\n",
      "Step 7 | Training Loss: 0.003534 | Test Loss: 0.003655 | Test Accuracy: 0.996349\n",
      "Step 8 | Training Loss: 0.000000 | Test Loss: 0.003414 | Test Accuracy: 0.996587\n",
      "Step 9 | Training Loss: 0.000000 | Test Loss: 0.002937 | Test Accuracy: 0.997063\n",
      "Step 10 | Training Loss: 0.001767 | Test Loss: 0.003255 | Test Accuracy: 0.996746\n",
      "Step 11 | Training Loss: 0.003534 | Test Loss: 0.002302 | Test Accuracy: 0.997698\n",
      "Step 12 | Training Loss: 0.001767 | Test Loss: 0.003334 | Test Accuracy: 0.996666\n",
      "Step 13 | Training Loss: 0.005300 | Test Loss: 0.002620 | Test Accuracy: 0.997381\n",
      "Step 14 | Training Loss: 0.005300 | Test Loss: 0.003414 | Test Accuracy: 0.996587\n",
      "Step 15 | Training Loss: 0.003534 | Test Loss: 0.002778 | Test Accuracy: 0.997222\n",
      "Step 16 | Training Loss: 0.003534 | Test Loss: 0.002223 | Test Accuracy: 0.997777\n",
      "Step 17 | Training Loss: 0.000000 | Test Loss: 0.004128 | Test Accuracy: 0.995872\n",
      "Step 18 | Training Loss: 0.003534 | Test Loss: 0.002858 | Test Accuracy: 0.997142\n",
      "Step 19 | Training Loss: 0.000000 | Test Loss: 0.002858 | Test Accuracy: 0.997142\n",
      "Step 20 | Training Loss: 0.001767 | Test Loss: 0.003413 | Test Accuracy: 0.996587\n",
      "Accuracy on Test data: 0.9784865379333496\n",
      "Current Layer Attributes - epochs:20 hidden layers:4 features count:16\n",
      "Step 1 | Training Loss: 0.038866 | Test Loss: 0.041433 | Test Accuracy: 0.958565\n",
      "Step 2 | Training Loss: 0.015580 | Test Loss: 0.021411 | Test Accuracy: 0.978727\n",
      "Step 3 | Training Loss: 0.016550 | Test Loss: 0.025342 | Test Accuracy: 0.974361\n",
      "Step 4 | Training Loss: 0.008183 | Test Loss: 0.004317 | Test Accuracy: 0.995634\n",
      "Step 5 | Training Loss: 0.005302 | Test Loss: 0.003709 | Test Accuracy: 0.996269\n",
      "Step 6 | Training Loss: 0.001770 | Test Loss: 0.003497 | Test Accuracy: 0.996507\n",
      "Step 7 | Training Loss: 0.000000 | Test Loss: 0.000556 | Test Accuracy: 0.999444\n",
      "Step 8 | Training Loss: 0.003575 | Test Loss: 0.001026 | Test Accuracy: 0.998968\n",
      "Step 9 | Training Loss: 0.000000 | Test Loss: 0.000080 | Test Accuracy: 0.999921\n",
      "Step 10 | Training Loss: 0.000000 | Test Loss: 0.000079 | Test Accuracy: 0.999921\n",
      "Step 11 | Training Loss: 0.000000 | Test Loss: 0.000079 | Test Accuracy: 0.999921\n",
      "Step 12 | Training Loss: 0.000000 | Test Loss: 0.000079 | Test Accuracy: 0.999921\n",
      "Step 13 | Training Loss: 0.000000 | Test Loss: 0.000000 | Test Accuracy: 1.000000\n",
      "Step 14 | Training Loss: 0.000000 | Test Loss: 0.000000 | Test Accuracy: 1.000000\n",
      "Step 15 | Training Loss: 0.000000 | Test Loss: 0.000079 | Test Accuracy: 0.999921\n",
      "Step 16 | Training Loss: 0.000000 | Test Loss: 0.000000 | Test Accuracy: 1.000000\n",
      "Step 17 | Training Loss: 0.000000 | Test Loss: 0.000079 | Test Accuracy: 0.999921\n",
      "Step 18 | Training Loss: 0.000000 | Test Loss: 0.000079 | Test Accuracy: 0.999921\n",
      "Step 19 | Training Loss: 0.000000 | Test Loss: 0.000079 | Test Accuracy: 0.999921\n",
      "Step 20 | Training Loss: 0.001767 | Test Loss: 0.000000 | Test Accuracy: 1.000000\n",
      "Accuracy on Test data: 0.9995120763778687\n",
      "Current Layer Attributes - epochs:20 hidden layers:4 features count:32\n",
      "Step 1 | Training Loss: 0.051237 | Test Loss: 0.040232 | Test Accuracy: 0.959756\n",
      "Step 2 | Training Loss: 0.028071 | Test Loss: 0.028136 | Test Accuracy: 0.970154\n",
      "Step 3 | Training Loss: 0.030242 | Test Loss: 0.042308 | Test Accuracy: 0.957374\n",
      "Step 4 | Training Loss: 0.020013 | Test Loss: 0.022613 | Test Accuracy: 0.976742\n",
      "Step 5 | Training Loss: 0.017587 | Test Loss: 0.022870 | Test Accuracy: 0.976663\n",
      "Step 6 | Training Loss: 0.012152 | Test Loss: 0.021822 | Test Accuracy: 0.977615\n",
      "Step 7 | Training Loss: 0.024422 | Test Loss: 0.021514 | Test Accuracy: 0.977854\n",
      "Step 8 | Training Loss: 0.022974 | Test Loss: 0.014868 | Test Accuracy: 0.985077\n",
      "Step 9 | Training Loss: 0.017671 | Test Loss: 0.017021 | Test Accuracy: 0.983013\n",
      "Step 10 | Training Loss: 0.015912 | Test Loss: 0.013972 | Test Accuracy: 0.986030\n",
      "Step 11 | Training Loss: 0.008835 | Test Loss: 0.014685 | Test Accuracy: 0.985315\n",
      "Step 12 | Training Loss: 0.010601 | Test Loss: 0.013654 | Test Accuracy: 0.986347\n",
      "Step 13 | Training Loss: 0.014134 | Test Loss: 0.013574 | Test Accuracy: 0.986426\n",
      "Step 14 | Training Loss: 0.012368 | Test Loss: 0.014764 | Test Accuracy: 0.985236\n",
      "Step 15 | Training Loss: 0.014134 | Test Loss: 0.013177 | Test Accuracy: 0.986823\n",
      "Step 16 | Training Loss: 0.017758 | Test Loss: 0.015097 | Test Accuracy: 0.984760\n",
      "Step 17 | Training Loss: 0.017668 | Test Loss: 0.014104 | Test Accuracy: 0.985871\n",
      "Step 18 | Training Loss: 0.014135 | Test Loss: 0.014973 | Test Accuracy: 0.984998\n",
      "Step 19 | Training Loss: 0.014141 | Test Loss: 0.014373 | Test Accuracy: 0.985633\n",
      "Step 20 | Training Loss: 0.017668 | Test Loss: 0.012780 | Test Accuracy: 0.987220\n",
      "Accuracy on Test data: 0.8909243941307068\n",
      "Current Layer Attributes - epochs:20 hidden layers:6 features count:4\n",
      "Step 1 | Training Loss: 0.048913 | Test Loss: 0.050344 | Test Accuracy: 0.949198\n",
      "Step 2 | Training Loss: 0.067359 | Test Loss: 0.055008 | Test Accuracy: 0.944753\n",
      "Step 3 | Training Loss: 0.058190 | Test Loss: 0.058185 | Test Accuracy: 0.940943\n",
      "Step 4 | Training Loss: 0.020390 | Test Loss: 0.027054 | Test Accuracy: 0.971742\n",
      "Step 5 | Training Loss: 0.026753 | Test Loss: 0.026510 | Test Accuracy: 0.971900\n",
      "Step 6 | Training Loss: 0.017599 | Test Loss: 0.021674 | Test Accuracy: 0.977695\n",
      "Step 7 | Training Loss: 0.018891 | Test Loss: 0.019219 | Test Accuracy: 0.980314\n",
      "Step 8 | Training Loss: 0.026172 | Test Loss: 0.022937 | Test Accuracy: 0.976028\n",
      "Step 9 | Training Loss: 0.028513 | Test Loss: 0.019015 | Test Accuracy: 0.980156\n",
      "Step 10 | Training Loss: 0.033098 | Test Loss: 0.020759 | Test Accuracy: 0.976425\n",
      "Step 11 | Training Loss: 0.008092 | Test Loss: 0.016032 | Test Accuracy: 0.983886\n",
      "Step 12 | Training Loss: 0.013996 | Test Loss: 0.013412 | Test Accuracy: 0.986426\n",
      "Step 13 | Training Loss: 0.019236 | Test Loss: 0.014753 | Test Accuracy: 0.984680\n",
      "Step 14 | Training Loss: 0.007084 | Test Loss: 0.012822 | Test Accuracy: 0.986982\n",
      "Step 15 | Training Loss: 0.001769 | Test Loss: 0.006512 | Test Accuracy: 0.993412\n",
      "Step 16 | Training Loss: 0.005236 | Test Loss: 0.005264 | Test Accuracy: 0.994682\n",
      "Step 17 | Training Loss: 0.008199 | Test Loss: 0.006208 | Test Accuracy: 0.993491\n",
      "Step 18 | Training Loss: 0.000010 | Test Loss: 0.000164 | Test Accuracy: 0.999841\n",
      "Step 19 | Training Loss: 0.000003 | Test Loss: 0.000160 | Test Accuracy: 0.999841\n",
      "Step 20 | Training Loss: 0.000001 | Test Loss: 0.000398 | Test Accuracy: 0.999603\n",
      "Accuracy on Test data: 0.9869588613510132\n",
      "Current Layer Attributes - epochs:20 hidden layers:6 features count:8\n",
      "Step 1 | Training Loss: 0.060023 | Test Loss: 0.039549 | Test Accuracy: 0.960391\n",
      "Step 2 | Training Loss: 0.150177 | Test Loss: 0.146636 | Test Accuracy: 0.853389\n",
      "Step 3 | Training Loss: 0.038255 | Test Loss: 0.035764 | Test Accuracy: 0.959279\n",
      "Step 4 | Training Loss: 0.009725 | Test Loss: 0.015171 | Test Accuracy: 0.982616\n",
      "Step 5 | Training Loss: 0.020673 | Test Loss: 0.014853 | Test Accuracy: 0.984760\n",
      "Step 6 | Training Loss: 0.009865 | Test Loss: 0.012523 | Test Accuracy: 0.985871\n",
      "Step 7 | Training Loss: 0.000501 | Test Loss: 0.011480 | Test Accuracy: 0.987141\n",
      "Step 8 | Training Loss: 0.011641 | Test Loss: 0.010508 | Test Accuracy: 0.988570\n",
      "Step 9 | Training Loss: 0.011620 | Test Loss: 0.009668 | Test Accuracy: 0.989125\n"
     ]
    },
    {
     "name": "stdout",
     "output_type": "stream",
     "text": [
      "Step 10 | Training Loss: 0.011542 | Test Loss: 0.009639 | Test Accuracy: 0.989760\n",
      "Step 11 | Training Loss: 0.016302 | Test Loss: 0.009798 | Test Accuracy: 0.989840\n",
      "Step 12 | Training Loss: 0.008870 | Test Loss: 0.009132 | Test Accuracy: 0.989681\n",
      "Step 13 | Training Loss: 0.022026 | Test Loss: 0.010958 | Test Accuracy: 0.988411\n",
      "Step 14 | Training Loss: 0.015188 | Test Loss: 0.011386 | Test Accuracy: 0.988014\n",
      "Step 15 | Training Loss: 0.011669 | Test Loss: 0.014885 | Test Accuracy: 0.983331\n",
      "Step 16 | Training Loss: 0.013022 | Test Loss: 0.012898 | Test Accuracy: 0.987141\n",
      "Step 17 | Training Loss: 0.049470 | Test Loss: 0.057711 | Test Accuracy: 0.942292\n",
      "Step 18 | Training Loss: 0.064950 | Test Loss: 0.060126 | Test Accuracy: 0.939752\n",
      "Step 19 | Training Loss: 0.044118 | Test Loss: 0.050733 | Test Accuracy: 0.948960\n",
      "Step 20 | Training Loss: 0.003728 | Test Loss: 0.003824 | Test Accuracy: 0.995634\n",
      "Accuracy on Test data: 0.8834723234176636\n",
      "Current Layer Attributes - epochs:20 hidden layers:6 features count:16\n",
      "Step 1 | Training Loss: 0.041351 | Test Loss: 0.026145 | Test Accuracy: 0.972218\n",
      "Step 2 | Training Loss: 0.032925 | Test Loss: 0.023676 | Test Accuracy: 0.974520\n",
      "Step 3 | Training Loss: 0.016493 | Test Loss: 0.019639 | Test Accuracy: 0.979600\n",
      "Step 4 | Training Loss: 0.024342 | Test Loss: 0.016752 | Test Accuracy: 0.981902\n",
      "Step 5 | Training Loss: 0.021126 | Test Loss: 0.020642 | Test Accuracy: 0.979044\n",
      "Step 6 | Training Loss: 0.001760 | Test Loss: 0.002059 | Test Accuracy: 0.997936\n",
      "Step 7 | Training Loss: 0.001769 | Test Loss: 0.001337 | Test Accuracy: 0.998651\n",
      "Step 8 | Training Loss: 0.001762 | Test Loss: 0.001938 | Test Accuracy: 0.998016\n",
      "Step 9 | Training Loss: 0.001761 | Test Loss: 0.001270 | Test Accuracy: 0.998730\n",
      "Step 10 | Training Loss: 0.000003 | Test Loss: 0.000909 | Test Accuracy: 0.999047\n",
      "Step 11 | Training Loss: 0.000005 | Test Loss: 0.001160 | Test Accuracy: 0.998809\n",
      "Step 12 | Training Loss: 0.001767 | Test Loss: 0.000977 | Test Accuracy: 0.998968\n",
      "Step 13 | Training Loss: 0.000001 | Test Loss: 0.000547 | Test Accuracy: 0.999444\n",
      "Step 14 | Training Loss: 0.000001 | Test Loss: 0.000387 | Test Accuracy: 0.999603\n",
      "Step 15 | Training Loss: 0.001767 | Test Loss: 0.000299 | Test Accuracy: 0.999682\n",
      "Step 16 | Training Loss: 0.003047 | Test Loss: 0.000465 | Test Accuracy: 0.999524\n",
      "Step 17 | Training Loss: 0.000000 | Test Loss: 0.000356 | Test Accuracy: 0.999603\n",
      "Step 18 | Training Loss: 0.001761 | Test Loss: 0.000953 | Test Accuracy: 0.999047\n",
      "Step 19 | Training Loss: 0.001768 | Test Loss: 0.000476 | Test Accuracy: 0.999524\n",
      "Step 20 | Training Loss: 0.000001 | Test Loss: 0.000610 | Test Accuracy: 0.999365\n",
      "Accuracy on Test data: 0.9956973195075989\n",
      "Current Layer Attributes - epochs:20 hidden layers:6 features count:32\n",
      "Step 1 | Training Loss: 0.056668 | Test Loss: 0.055979 | Test Accuracy: 0.943959\n",
      "Step 2 | Training Loss: 0.023965 | Test Loss: 0.026512 | Test Accuracy: 0.972773\n",
      "Step 3 | Training Loss: 0.024657 | Test Loss: 0.035345 | Test Accuracy: 0.963328\n",
      "Step 4 | Training Loss: 0.025590 | Test Loss: 0.026395 | Test Accuracy: 0.972853\n",
      "Step 5 | Training Loss: 0.031902 | Test Loss: 0.025410 | Test Accuracy: 0.974361\n",
      "Step 6 | Training Loss: 0.030687 | Test Loss: 0.023191 | Test Accuracy: 0.976822\n",
      "Step 7 | Training Loss: 0.012511 | Test Loss: 0.023813 | Test Accuracy: 0.976107\n",
      "Step 8 | Training Loss: 0.029255 | Test Loss: 0.026704 | Test Accuracy: 0.972615\n",
      "Step 9 | Training Loss: 0.054732 | Test Loss: 0.050981 | Test Accuracy: 0.944039\n",
      "Step 10 | Training Loss: 0.022968 | Test Loss: 0.026616 | Test Accuracy: 0.973329\n",
      "Step 11 | Training Loss: 0.033048 | Test Loss: 0.027551 | Test Accuracy: 0.972535\n",
      "Step 12 | Training Loss: 0.053004 | Test Loss: 0.052851 | Test Accuracy: 0.947134\n",
      "Step 13 | Training Loss: 0.048972 | Test Loss: 0.049799 | Test Accuracy: 0.950071\n",
      "Step 14 | Training Loss: 0.028303 | Test Loss: 0.033098 | Test Accuracy: 0.966820\n",
      "Step 15 | Training Loss: 0.036924 | Test Loss: 0.031120 | Test Accuracy: 0.968566\n",
      "Step 16 | Training Loss: 0.065189 | Test Loss: 0.057182 | Test Accuracy: 0.941816\n",
      "Step 17 | Training Loss: 0.038825 | Test Loss: 0.028495 | Test Accuracy: 0.971107\n",
      "Step 18 | Training Loss: 0.054770 | Test Loss: 0.054355 | Test Accuracy: 0.945626\n",
      "Step 19 | Training Loss: 0.058304 | Test Loss: 0.055363 | Test Accuracy: 0.944674\n",
      "Step 20 | Training Loss: 0.056537 | Test Loss: 0.051344 | Test Accuracy: 0.948643\n",
      "Accuracy on Test data: 0.8218594789505005\n"
     ]
    }
   ],
   "source": [
    "import itertools\n",
    "class Hyperparameters:\n",
    "#    features_arr = [2, 4, 8, 16, 32, 64, 128, 256]\n",
    "#    hidden_layers_arr = [2, 4, 6, 10]\n",
    "    features_arr = [4, 8, 16, 32]\n",
    "    hidden_layers_arr = [2, 4, 6]\n",
    "\n",
    "    epochs = [20]\n",
    "    \n",
    "    for e, h, f in itertools.product(epochs, hidden_layers_arr, features_arr):\n",
    "        print(\"Current Layer Attributes - epochs:{} hidden layers:{} features count:{}\".format(e,h,f))\n",
    "        n = network(2,h,f)\n",
    "        n.build_layers()\n",
    "        Train.train(e, n, h,f)\n",
    "        "
   ]
  },
  {
   "cell_type": "code",
   "execution_count": 12,
   "metadata": {
    "ExecuteTime": {
     "end_time": "2017-06-01T02:38:32.374486Z",
     "start_time": "2017-06-01T02:38:32.370016Z"
    },
    "collapsed": true
   },
   "outputs": [],
   "source": [
    "df_results = pd.DataFrame(Train.results)"
   ]
  },
  {
   "cell_type": "code",
   "execution_count": 13,
   "metadata": {
    "ExecuteTime": {
     "end_time": "2017-06-01T02:38:32.440492Z",
     "start_time": "2017-06-01T02:38:32.376167Z"
    }
   },
   "outputs": [
    {
     "data": {
      "text/html": [
       "<div>\n",
       "<table border=\"1\" class=\"dataframe\">\n",
       "  <thead>\n",
       "    <tr style=\"text-align: right;\">\n",
       "      <th></th>\n",
       "      <th>epoch</th>\n",
       "      <th>no_of_features</th>\n",
       "      <th>hidden_layers</th>\n",
       "      <th>train_score</th>\n",
       "      <th>test_score</th>\n",
       "    </tr>\n",
       "  </thead>\n",
       "  <tbody>\n",
       "    <tr>\n",
       "      <th>6</th>\n",
       "      <td>20</td>\n",
       "      <td>16</td>\n",
       "      <td>4</td>\n",
       "      <td>1.000000</td>\n",
       "      <td>0.999512</td>\n",
       "    </tr>\n",
       "    <tr>\n",
       "      <th>2</th>\n",
       "      <td>20</td>\n",
       "      <td>16</td>\n",
       "      <td>2</td>\n",
       "      <td>0.999365</td>\n",
       "      <td>0.998847</td>\n",
       "    </tr>\n",
       "    <tr>\n",
       "      <th>1</th>\n",
       "      <td>20</td>\n",
       "      <td>8</td>\n",
       "      <td>2</td>\n",
       "      <td>0.998889</td>\n",
       "      <td>0.998137</td>\n",
       "    </tr>\n",
       "    <tr>\n",
       "      <th>10</th>\n",
       "      <td>20</td>\n",
       "      <td>16</td>\n",
       "      <td>6</td>\n",
       "      <td>0.999365</td>\n",
       "      <td>0.995697</td>\n",
       "    </tr>\n",
       "    <tr>\n",
       "      <th>8</th>\n",
       "      <td>20</td>\n",
       "      <td>4</td>\n",
       "      <td>6</td>\n",
       "      <td>0.999603</td>\n",
       "      <td>0.986959</td>\n",
       "    </tr>\n",
       "    <tr>\n",
       "      <th>4</th>\n",
       "      <td>20</td>\n",
       "      <td>4</td>\n",
       "      <td>4</td>\n",
       "      <td>0.998571</td>\n",
       "      <td>0.986116</td>\n",
       "    </tr>\n",
       "    <tr>\n",
       "      <th>3</th>\n",
       "      <td>20</td>\n",
       "      <td>32</td>\n",
       "      <td>2</td>\n",
       "      <td>0.999603</td>\n",
       "      <td>0.981991</td>\n",
       "    </tr>\n",
       "    <tr>\n",
       "      <th>0</th>\n",
       "      <td>20</td>\n",
       "      <td>4</td>\n",
       "      <td>2</td>\n",
       "      <td>0.999444</td>\n",
       "      <td>0.980394</td>\n",
       "    </tr>\n",
       "    <tr>\n",
       "      <th>5</th>\n",
       "      <td>20</td>\n",
       "      <td>8</td>\n",
       "      <td>4</td>\n",
       "      <td>0.996587</td>\n",
       "      <td>0.978487</td>\n",
       "    </tr>\n",
       "    <tr>\n",
       "      <th>7</th>\n",
       "      <td>20</td>\n",
       "      <td>32</td>\n",
       "      <td>4</td>\n",
       "      <td>0.987220</td>\n",
       "      <td>0.890924</td>\n",
       "    </tr>\n",
       "    <tr>\n",
       "      <th>9</th>\n",
       "      <td>20</td>\n",
       "      <td>8</td>\n",
       "      <td>6</td>\n",
       "      <td>0.995634</td>\n",
       "      <td>0.883472</td>\n",
       "    </tr>\n",
       "    <tr>\n",
       "      <th>11</th>\n",
       "      <td>20</td>\n",
       "      <td>32</td>\n",
       "      <td>6</td>\n",
       "      <td>0.948643</td>\n",
       "      <td>0.821859</td>\n",
       "    </tr>\n",
       "  </tbody>\n",
       "</table>\n",
       "</div>"
      ],
      "text/plain": [
       "    epoch  no_of_features  hidden_layers  train_score  test_score\n",
       "6      20              16              4     1.000000    0.999512\n",
       "2      20              16              2     0.999365    0.998847\n",
       "1      20               8              2     0.998889    0.998137\n",
       "10     20              16              6     0.999365    0.995697\n",
       "8      20               4              6     0.999603    0.986959\n",
       "4      20               4              4     0.998571    0.986116\n",
       "3      20              32              2     0.999603    0.981991\n",
       "0      20               4              2     0.999444    0.980394\n",
       "5      20               8              4     0.996587    0.978487\n",
       "7      20              32              4     0.987220    0.890924\n",
       "9      20               8              6     0.995634    0.883472\n",
       "11     20              32              6     0.948643    0.821859"
      ]
     },
     "execution_count": 13,
     "metadata": {},
     "output_type": "execute_result"
    }
   ],
   "source": [
    "df_results.sort_values(by = 'test_score', ascending = False)"
   ]
  },
  {
   "cell_type": "code",
   "execution_count": 14,
   "metadata": {
    "ExecuteTime": {
     "end_time": "2017-06-01T02:38:32.452585Z",
     "start_time": "2017-06-01T02:38:32.442359Z"
    },
    "collapsed": true
   },
   "outputs": [],
   "source": [
    "pd.Panel(Train.predictions).to_pickle(\"dataset/tf_lstm_nsl_kdd_predictions.pkl\")\n",
    "df_results.to_pickle(\"dataset/tf_lstm_nsl_kdd_scores.pkl\")"
   ]
  },
  {
   "cell_type": "code",
   "execution_count": 15,
   "metadata": {
    "ExecuteTime": {
     "end_time": "2017-06-01T02:38:32.516492Z",
     "start_time": "2017-06-01T02:38:32.454061Z"
    },
    "collapsed": true
   },
   "outputs": [],
   "source": [
    "import numpy as np\n",
    "import matplotlib.pyplot as plt\n",
    "import itertools\n",
    "\n",
    "def plot_confusion_matrix(cm, classes,\n",
    "                          normalize=False,\n",
    "                          title='Confusion matrix',\n",
    "                          cmap=plt.cm.Blues):\n",
    "    \"\"\"\n",
    "    This function prints and plots the confusion matrix.\n",
    "    Normalization can be applied by setting `normalize=True`.\n",
    "    \"\"\"\n",
    "    np.set_printoptions(precision=4)\n",
    "\n",
    "    plt.imshow(cm, interpolation='nearest', cmap=cmap)\n",
    "    plt.title(title)\n",
    "    plt.colorbar()\n",
    "    tick_marks = np.arange(len(classes))\n",
    "    plt.xticks(tick_marks, classes, rotation=45)\n",
    "    plt.yticks(tick_marks, classes)\n",
    "\n",
    "    if normalize:\n",
    "        cm = cm.astype('float') / cm.sum(axis=1)[:, np.newaxis]\n",
    "        print(\"Normalized confusion matrix\")\n",
    "    else:\n",
    "        print('Confusion matrix, without normalization')\n",
    "\n",
    "    print(cm)\n",
    "\n",
    "    thresh = cm.max() / 2.\n",
    "    for i, j in itertools.product(range(cm.shape[0]), range(cm.shape[1])):\n",
    "        plt.text(j, i, cm[i, j].round(4),\n",
    "                 horizontalalignment=\"center\",\n",
    "                 color=\"white\" if cm[i, j] > thresh else \"black\")\n",
    "\n",
    "    plt.tight_layout()\n",
    "    plt.ylabel('True label')\n",
    "    plt.xlabel('Predicted label')\n",
    "\n",
    "def plot(actual_value, pred_value):\n",
    "    from sklearn.metrics import confusion_matrix\n",
    "    cm_2labels = confusion_matrix(y_pred = pred_value, y_true = actual_value)\n",
    "    plt.figure(figsize=[6,6])\n",
    "    plot_confusion_matrix(cm_2labels, preprocess.output_columns_2labels, normalize = True,\n",
    "                         title = Train.best_parameters)"
   ]
  },
  {
   "cell_type": "code",
   "execution_count": 16,
   "metadata": {
    "ExecuteTime": {
     "end_time": "2017-06-01T02:38:32.814963Z",
     "start_time": "2017-06-01T02:38:32.518367Z"
    }
   },
   "outputs": [
    {
     "name": "stdout",
     "output_type": "stream",
     "text": [
      "Normalized confusion matrix\n",
      "[[ 1.      0.    ]\n",
      " [ 0.0011  0.9989]]\n"
     ]
    },
    {
     "data": {
      "image/png": "[encoded data removed]",
      "text/plain": [
       "<matplotlib.figure.Figure at 0x7fac7c64deb8>"
      ]
     },
     "metadata": {},
     "output_type": "display_data"
    }
   ],
   "source": [
    "plot(actual_value = Train.actual_value, pred_value = Train.pred_value)"
   ]
  },
  {
   "cell_type": "code",
   "execution_count": 18,
   "metadata": {
    "ExecuteTime": {
     "end_time": "2017-06-01T02:42:25.395449Z",
     "start_time": "2017-06-01T02:42:25.358093Z"
    }
   },
   "outputs": [],
   "source": [
    "#4.5 GB\n",
    "pd.Series(Train.pred_value).to_csv('LSTM_prediction_values.csv')"
   ]
  }
 ],
 "metadata": {
  "_draft": {
   "nbviewer_url": "https://gist.github.com/7d1ace18a82178e15ece8fc5252fce88"
  },
  "anaconda-cloud": {},
  "gist": {
   "data": {
    "description": "Hyper parameter tuning",
    "public": false
   },
   "id": "7d1ace18a82178e15ece8fc5252fce88"
  },
  "kernelspec": {
   "display_name": "Python [conda env:p3]",
   "language": "python",
   "name": "conda-env-p3-py"
  },
  "language_info": {
   "codemirror_mode": {
    "name": "ipython",
    "version": 3
   },
   "file_extension": ".py",
   "mimetype": "text/x-python",
   "name": "python",
   "nbconvert_exporter": "python",
   "pygments_lexer": "ipython3",
   "version": "3.6.1"
  }
 },
 "nbformat": 4,
 "nbformat_minor": 2
}
