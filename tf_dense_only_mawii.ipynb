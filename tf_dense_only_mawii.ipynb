{
 "cells": [
  {
   "cell_type": "markdown",
   "metadata": {},
   "source": [
    "# Read Data Sample"
   ]
  },
  {
   "cell_type": "code",
   "execution_count": 1,
   "metadata": {
    "ExecuteTime": {
     "end_time": "2017-10-17T22:30:49.237451Z",
     "start_time": "2017-10-17T22:30:48.834150Z"
    },
    "collapsed": true
   },
   "outputs": [],
   "source": [
    "import pandas as pd\n",
    "import numpy as np\n",
    "import os\n",
    "from collections import namedtuple\n",
    "pd.set_option(\"display.max_rows\",100)\n",
    "%matplotlib inline"
   ]
  },
  {
   "cell_type": "code",
   "execution_count": 2,
   "metadata": {
    "ExecuteTime": {
     "end_time": "2017-10-17T22:30:49.250103Z",
     "start_time": "2017-10-17T22:30:49.238922Z"
    }
   },
   "outputs": [
    {
     "name": "stderr",
     "output_type": "stream",
     "text": [
      "rm: cannot remove 'dataset/scores/tf_dense_only_nsl_kdd_scores_all.pkl': No such file or directory\n"
     ]
    }
   ],
   "source": [
    "%%bash\n",
    "rm dataset/scores/tf_dense_only_nsl_kdd_scores_all.pkl"
   ]
  },
  {
   "cell_type": "code",
   "execution_count": 3,
   "metadata": {
    "ExecuteTime": {
     "end_time": "2017-10-17T22:30:49.260866Z",
     "start_time": "2017-10-17T22:30:49.251607Z"
    }
   },
   "outputs": [],
   "source": [
    "train_paths = {\"20150304\":\"dataset/preprocessed_train_data.pkl\"}\n",
    "test_paths = {\"20150604\":\"dataset/preprocessed_train_data.pkl\"}\n",
    "\n",
    "class preprocess:\n",
    "    \n",
    "    def get_data(paths):\n",
    "        \n",
    "        for key, value in paths.items():\n",
    "            sample_data = pd.read_pickle(value)\n",
    "            x = sample_data.iloc[:,:-2]\n",
    "            y = sample_data.iloc[:,-2:]\n",
    "            yield key, x.values, y.values\n",
    "        "
   ]
  },
  {
   "cell_type": "code",
   "execution_count": 4,
   "metadata": {
    "ExecuteTime": {
     "end_time": "2017-10-17T22:30:50.316591Z",
     "start_time": "2017-10-17T22:30:49.262056Z"
    },
    "collapsed": true
   },
   "outputs": [],
   "source": [
    "import tensorflow as tf\n"
   ]
  },
  {
   "cell_type": "code",
   "execution_count": 5,
   "metadata": {
    "ExecuteTime": {
     "end_time": "2017-10-17T22:30:50.493137Z",
     "start_time": "2017-10-17T22:30:50.318033Z"
    },
    "collapsed": true
   },
   "outputs": [],
   "source": [
    "class network(object):\n",
    "    \n",
    "    input_dim = 10\n",
    "    classes = 2\n",
    "    hidden_encoder_dim = 10\n",
    "    hidden_layers = 1\n",
    "    latent_dim = 5\n",
    "\n",
    "    def __init__(self, classes, hidden_layers, num_of_features):\n",
    "        self.classes = classes\n",
    "        self.hidden_layers = hidden_layers\n",
    "        self.latent_dim = num_of_features\n",
    "            \n",
    "    def build_layers(self):\n",
    "        tf.reset_default_graph()\n",
    "        #learning_rate = tf.Variable(initial_value=0.001)\n",
    "\n",
    "        input_dim = self.input_dim\n",
    "        classes = self.classes\n",
    "        hidden_encoder_dim = self.hidden_encoder_dim\n",
    "        hidden_layers = self.hidden_layers\n",
    "        latent_dim = self.latent_dim\n",
    "        \n",
    "        with tf.variable_scope(\"Input\"):\n",
    "            self.x = tf.placeholder(\"float\", shape=[None, input_dim])\n",
    "            self.y_ = tf.placeholder(\"float\", shape=[None, classes])\n",
    "            self.keep_prob = tf.placeholder(\"float\")\n",
    "            self.lr = tf.placeholder(\"float\")\n",
    "        \n",
    "        with tf.variable_scope(\"Layer_Encoder\"):\n",
    "\n",
    "            hidden_encoder = tf.layers.dense(self.x, hidden_encoder_dim, activation = tf.nn.relu, kernel_regularizer=tf.nn.l2_loss)\n",
    "            hidden_encoder = tf.nn.dropout(hidden_encoder, self.keep_prob)\n",
    "            for h in range(hidden_layers - 1):\n",
    "                hidden_encoder = tf.layers.dense(hidden_encoder, latent_dim, activation = tf.nn.relu, kernel_regularizer=tf.nn.l2_loss)\n",
    "                hidden_encoder = tf.nn.dropout(hidden_encoder, self.keep_prob)\n",
    "            \n",
    "            #hidden_encoder = tf.layers.dense(self.x, latent_dim, activation = tf.nn.relu, kernel_regularizer=tf.nn.l2_loss)\n",
    "            #hidden_encoder = tf.nn.dropout(hidden_encoder, self.keep_prob)\n",
    "            \n",
    "        with tf.variable_scope(\"Layer_Dense_Softmax\"):\n",
    "            self.y = tf.layers.dense(hidden_encoder, classes, activation=tf.nn.softmax)\n",
    "            \n",
    "        with tf.variable_scope(\"Loss\"):\n",
    "            \n",
    "            loss = tf.reduce_mean(tf.nn.softmax_cross_entropy_with_logits(labels = self.y_, logits = self.y))\n",
    "            #loss = tf.losses.mean_squared_error(labels = self.y_, predictions = self.y)\n",
    "            #loss = tf.clip_by_value(loss, -1e-1, 1e-1)\n",
    "            #loss = tf.where(tf.is_nan(loss), 1e-1, loss)\n",
    "            #loss = tf.where(tf.equal(loss, -1e-1), tf.random_normal(loss.shape), loss)\n",
    "            #loss = tf.where(tf.equal(loss, 1e-1), tf.random_normal(loss.shape), loss)\n",
    "            \n",
    "            self.regularized_loss = loss\n",
    "            correct_prediction = tf.equal(tf.argmax(self.y_, 1), tf.argmax(self.y, 1))\n",
    "            self.tf_accuracy = tf.reduce_mean(tf.cast(correct_prediction, tf.float32), name = \"Accuracy\")\n",
    "            \n",
    "        with tf.variable_scope(\"Optimizer\"):\n",
    "            learning_rate=self.lr\n",
    "            optimizer = tf.train.AdamOptimizer(learning_rate)\n",
    "            gradients, variables = zip(*optimizer.compute_gradients(self.regularized_loss))\n",
    "            gradients = [\n",
    "                None if gradient is None else tf.clip_by_value(gradient, -1, 1)\n",
    "                for gradient in gradients]\n",
    "            self.train_op = optimizer.apply_gradients(zip(gradients, variables))\n",
    "            #self.train_op = optimizer.minimize(self.regularized_loss)\n",
    "            \n",
    "        # add op for merging summary\n",
    "        #self.summary_op = tf.summary.merge_all()\n",
    "        self.pred = tf.argmax(self.y, axis = 1)\n",
    "        self.actual = tf.argmax(self.y_, axis = 1)\n",
    "\n",
    "        # add Saver ops\n",
    "        self.saver = tf.train.Saver()\n",
    "        "
   ]
  },
  {
   "cell_type": "code",
   "execution_count": 6,
   "metadata": {
    "ExecuteTime": {
     "end_time": "2017-10-17T22:30:51.033298Z",
     "start_time": "2017-10-17T22:30:50.494666Z"
    },
    "collapsed": true,
    "scrolled": false
   },
   "outputs": [],
   "source": [
    "import collections\n",
    "import time\n",
    "from sklearn import model_selection as ms\n",
    "from sklearn import metrics as me\n",
    "\n",
    "class Train:    \n",
    "    \n",
    "    result = namedtuple(\"score\", ['key', 'no_of_features','hidden_layers','train_score', 'test_score', 'quality_score', 'time_taken'])\n",
    "\n",
    "    predictions = {}\n",
    "    results = []\n",
    "    \n",
    "    best_acc = 0\n",
    "    best_acc_global = 0\n",
    "    \n",
    "    def train(epochs, net, h,f, lrs):\n",
    "        batch_iterations = 1000\n",
    "        train_loss = None\n",
    "        Train.best_acc = 0\n",
    "        os.makedirs(\"dataset/tf_dense_only_nsl_kdd/hidden layers_{}_features count_{}\".format(epochs,h,f),\n",
    "                    exist_ok = True)\n",
    "        with tf.Session() as sess:\n",
    "            #summary_writer_train = tf.summary.FileWriter('./logs/kdd/VAE/training', graph=sess.graph)\n",
    "            #summary_writer_valid = tf.summary.FileWriter('./logs/kdd/VAE/validation')\n",
    "\n",
    "            sess.run(tf.global_variables_initializer())\n",
    "            start_time = time.perf_counter()\n",
    "            for c, lr in enumerate(lrs):\n",
    "                for epoch in range(1, (epochs+1)):\n",
    "                    \n",
    "                    for key, x_train, y_train in preprocess.get_data(train_paths):\n",
    "                        x_train, x_valid, y_train, y_valid, = ms.train_test_split(x_train, \n",
    "                                                                                  y_train, \n",
    "                                                                                  test_size=0.33)\n",
    "                        batch_indices = np.array_split(np.arange(x_train.shape[0]), \n",
    "                                                   batch_iterations)\n",
    "\n",
    "                        for i in batch_indices:\n",
    "\n",
    "                            def train_batch():\n",
    "                                nonlocal train_loss\n",
    "                                _, train_loss = sess.run([net.train_op, \n",
    "                                                                   net.regularized_loss, \n",
    "                                                                   ], #net.summary_op\n",
    "                                                                  feed_dict={net.x: x_train[i,:], \n",
    "                                                                             net.y_: y_train[i,:], \n",
    "                                                                             net.keep_prob:0.5, net.lr:lr})\n",
    "\n",
    "                            train_batch()\n",
    "                            #summary_writer_train.add_summary(summary_str, epoch)\n",
    "                            #print(\"Step {} | Training Loss: {:.6f}\".format(epoch, train_loss))\n",
    "                            while((train_loss > 1e4 or np.isnan(train_loss)) and epoch > 1):\n",
    "                                print(\"Step {} | Training Loss: {:.6f}\".format(epoch, train_loss))\n",
    "                                net.saver.restore(sess, \n",
    "                                                  tf.train.latest_checkpoint('dataset/tf_dense_only_nsl_kdd/hidden_layers_{}_features_count_{}'\n",
    "                                                                             .format(epochs,h,f)))\n",
    "                                train_batch()\n",
    "\n",
    "\n",
    "                        valid_accuracy = sess.run(net.regularized_loss, #net.summary_op \n",
    "                                                              feed_dict={net.x: x_valid, \n",
    "                                                                         net.y_: y_valid, \n",
    "                                                                         net.keep_prob:1, net.lr:lr})\n",
    "                        #summary_writer_valid.add_summary(summary_str, epoch)\n",
    "                    \n",
    "                        print(\"Key {} | Training Loss: {:.6f} | Validation Loss: {:.6f}\".format(key, train_loss, valid_accuracy))\n",
    "                    \n",
    "                    end_time = time.perf_counter() \n",
    "                    for key, x_test, y_test in preprocess.get_data(test_paths):\n",
    "                        accuracy, pred_value, actual_value, y_pred = sess.run([net.tf_accuracy, \n",
    "                                                                               net.pred, \n",
    "                                                                               net.actual, net.y], \n",
    "                                                                              feed_dict={net.x: x_test, \n",
    "                                                                                         net.y_: y_test, \n",
    "                                                                                         net.keep_prob:1, net.lr:lr})\n",
    "\n",
    "\n",
    "                        q_score = me.matthews_corrcoef(actual_value, pred_value)\n",
    "                        recall = me.recall_score(actual_value, pred_value)\n",
    "                        prec = me.precision_score(actual_value, pred_value)\n",
    "                        accuracy = me.roc_auc_score(actual_value, pred_value)\n",
    "\n",
    "                        print(\"Key {} Test Accuracy: {} Quality score: {}, recall {}, precision {}\".format(key, accuracy, q_score, recall, prec))\n",
    "\n",
    "                        if accuracy > Train.best_acc_global:\n",
    "                            Train.best_acc_global = accuracy\n",
    "                            Train.pred_value = pred_value\n",
    "                            Train.actual_value = actual_value\n",
    "\n",
    "                            Train.best_parameters = \"Hidden Layers:{}, Features Count:{}\".format(h, f)\n",
    "\n",
    "                        curr_pred = pd.DataFrame({\"Attack_prob\":y_pred[:,-2], \"Normal_prob\":y_pred[:, -1], \"Prediction\":pred_value, \"Actual\": actual_value})\n",
    "                        Train.predictions.update({\"{}_{}_{}\".format(key,f,h):(curr_pred, \n",
    "                                                   Train.result(key, f, h, valid_accuracy, accuracy, q_score, end_time - start_time))})\n",
    "\n",
    "                        #Train.results.append(Train.result(epochs, f, h,valid_accuracy, accuracy))\n"
   ]
  },
  {
   "cell_type": "code",
   "execution_count": 7,
   "metadata": {
    "ExecuteTime": {
     "end_time": "2017-10-17T22:30:51.091960Z",
     "start_time": "2017-10-17T22:30:51.034787Z"
    },
    "collapsed": true
   },
   "outputs": [],
   "source": [
    "import itertools\n",
    "\n",
    "df_results = []\n",
    "past_scores = []\n",
    "\n",
    "class Hyperparameters:\n",
    "#    features_arr = [2, 4, 8, 16, 32, 64, 128, 256]\n",
    "#    hidden_layers_arr = [2, 4, 6, 10]\n",
    "\n",
    "    def start_training():\n",
    "        global df_results\n",
    "        global past_scores\n",
    "        print(\"********************************** Training ******************************\")\n",
    "        Train.predictions = {}\n",
    "        Train.results = []\n",
    "    \n",
    "        \n",
    "        features_arr = [1, 4, 10] #8, 16, 42\n",
    "        hidden_layers_arr = [1, 3]\n",
    "\n",
    "        epochs = [20]\n",
    "        lrs = [1e-5]\n",
    "        print(\"***************************** Entering Loop **********************\")\n",
    "        for e, h, f in itertools.product(epochs, hidden_layers_arr, features_arr):\n",
    "            print(\"Current Layer Attributes - hidden layers:{} features count:{}\".format(h,f))\n",
    "            n = network(2,h,f)\n",
    "            n.build_layers()\n",
    "            Train.train(e, n, h,f, lrs)\n",
    "            \n",
    "        dict1 = {}\n",
    "        dict2 = []\n",
    "        for k, (v1, v2) in Train.predictions.items():\n",
    "            dict1.update({k: v1})\n",
    "            dict2.append(v2)\n",
    "        Train.predictions = dict1\n",
    "        Train.results = dict2\n",
    "        df_results = pd.DataFrame(Train.results)\n",
    "\n",
    "        #temp = df_results.set_index(['no_of_features', 'hidden_layers'])\n",
    "\n",
    "        if not os.path.isfile('dataset/scores/tf_dense_only_nsl_kdd_scores_all.pkl'):\n",
    "            past_scores = df_results#temp\n",
    "        else:\n",
    "            past_scores = pd.read_pickle(\"dataset/scores/tf_dense_only_nsl_kdd_scores_all.pkl\")\n",
    "\n",
    "        past_scores.append(df_results, ignore_index=True).to_pickle(\"dataset/scores/tf_dense_only_nsl_kdd_scores_all.pkl\")"
   ]
  },
  {
   "cell_type": "code",
   "execution_count": 8,
   "metadata": {
    "ExecuteTime": {
     "end_time": "2017-10-17T22:33:26.865857Z",
     "start_time": "2017-10-17T22:30:51.093381Z"
    },
    "scrolled": false
   },
   "outputs": [
    {
     "name": "stdout",
     "output_type": "stream",
     "text": [
      "********************************** Training ******************************\n",
      "***************************** Entering Loop **********************\n",
      "Current Layer Attributes - hidden layers:1 features count:1\n",
      "Key 20150304 | Training Loss: 0.829787 | Validation Loss: 0.928843\n",
      "Key 20150604 Test Accuracy: 0.5245585075939343 Quality score: 0.03622469991799979, recall 0.7214014817428118, precision 0.1460124068371491\n",
      "Key 20150304 | Training Loss: 0.823081 | Validation Loss: 0.927180\n",
      "Key 20150604 Test Accuracy: 0.5228536506472546 Quality score: 0.03369740867427632, recall 0.7180058211324749, precision 0.14542247231153985\n",
      "Key 20150304 | Training Loss: 0.861609 | Validation Loss: 0.929864\n",
      "Key 20150604 Test Accuracy: 0.5225807280171264 Quality score: 0.03324212036119979, recall 0.7155803492679484, precision 0.14534990482588736\n",
      "Key 20150304 | Training Loss: 0.803778 | Validation Loss: 0.926026\n",
      "Key 20150604 Test Accuracy: 0.5225772146963708 Quality score: 0.03323711085999627, recall 0.7155803492679484, precision 0.14534860285654141\n",
      "Key 20150304 | Training Loss: 0.791417 | Validation Loss: 0.927005\n",
      "Key 20150604 Test Accuracy: 0.5225807280171264 Quality score: 0.03324212036119979, recall 0.7155803492679484, precision 0.14534990482588736\n",
      "Key 20150304 | Training Loss: 0.851192 | Validation Loss: 0.923745\n",
      "Key 20150604 Test Accuracy: 0.5225807280171264 Quality score: 0.03324212036119979, recall 0.7155803492679484, precision 0.14534990482588736\n",
      "Key 20150304 | Training Loss: 0.815203 | Validation Loss: 0.921385\n",
      "Key 20150604 Test Accuracy: 0.522591752889238 Quality score: 0.033258431939321376, recall 0.7156023990121715, precision 0.14535373260001075\n",
      "Key 20150304 | Training Loss: 0.789078 | Validation Loss: 0.916509\n",
      "Key 20150604 Test Accuracy: 0.522591752889238 Quality score: 0.033258431939321376, recall 0.7156023990121715, precision 0.14535373260001075\n",
      "Key 20150304 | Training Loss: 0.796958 | Validation Loss: 0.903643\n",
      "Key 20150604 Test Accuracy: 0.5225624935245033 Quality score: 0.0332131645928772, recall 0.7154701005468337, precision 0.1453444360333081\n",
      "Key 20150304 | Training Loss: 0.794268 | Validation Loss: 0.867835\n",
      "Key 20150604 Test Accuracy: 0.5225677635056368 Quality score: 0.033220678623682706, recall 0.7154701005468337, precision 0.1453463891850246\n",
      "Key 20150304 | Training Loss: 0.671718 | Validation Loss: 0.708323\n",
      "Key 20150604 Test Accuracy: 0.602956977427721 Quality score: 0.14265652939156048, recall 0.6227729758334803, precision 0.19227339255931108\n",
      "Key 20150304 | Training Loss: 0.607319 | Validation Loss: 0.614435\n",
      "Key 20150604 Test Accuracy: 0.621510535731904 Quality score: 0.1984756103613626, recall 0.44079643676133357, precision 0.2620601961092759\n",
      "Key 20150304 | Training Loss: 0.701971 | Validation Loss: 0.585539\n",
      "Key 20150604 Test Accuracy: 0.618212690373126 Quality score: 0.19495918546295551, recall 0.4288675251367084, precision 0.2620410912765241\n",
      "Key 20150304 | Training Loss: 0.638503 | Validation Loss: 0.576381\n",
      "Key 20150604 Test Accuracy: 0.6182162036938816 Quality score: 0.19496684413534562, recall 0.4288675251367084, precision 0.262048152190022\n",
      "Key 20150304 | Training Loss: 0.668885 | Validation Loss: 0.568294\n",
      "Key 20150604 Test Accuracy: 0.6193141164300208 Quality score: 0.1973703147281843, recall 0.4288675251367084, precision 0.264273485692546\n",
      "Key 20150304 | Training Loss: 0.643010 | Validation Loss: 0.566930\n",
      "Key 20150604 Test Accuracy: 0.6192946101868643 Quality score: 0.1973552557171197, recall 0.42877932615981657, precision 0.2642837727643381\n",
      "Key 20150304 | Training Loss: 0.635405 | Validation Loss: 0.563094\n",
      "Key 20150604 Test Accuracy: 0.6190650824365885 Quality score: 0.19709406878882524, recall 0.4280075851120127, precision 0.2642534306251361\n",
      "Key 20150304 | Training Loss: 0.620356 | Validation Loss: 0.558794\n",
      "Key 20150604 Test Accuracy: 0.6190487875833436 Quality score: 0.1970651806164021, recall 0.4279855353677897, precision 0.26423262272318876\n",
      "Key 20150304 | Training Loss: 0.599608 | Validation Loss: 0.557951\n",
      "Key 20150604 Test Accuracy: 0.6190681108474997 Quality score: 0.19710769985394536, recall 0.4279855353677897, precision 0.2642721962775879\n",
      "Key 20150304 | Training Loss: 0.645214 | Validation Loss: 0.559082\n",
      "Key 20150604 Test Accuracy: 0.6016323350791104 Quality score: 0.16958517450008045, recall 0.393036690774387, precision 0.24812082405345212\n",
      "Current Layer Attributes - hidden layers:1 features count:4\n",
      "Key 20150304 | Training Loss: 1.168591 | Validation Loss: 1.175331\n"
     ]
    },
    {
     "name": "stderr",
     "output_type": "stream",
     "text": [
      "/home/ritesh_malaiya/anaconda3/envs/p3/lib/python3.6/site-packages/sklearn/metrics/classification.py:516: RuntimeWarning: invalid value encountered in double_scalars\n",
      "  mcc = cov_ytyp / np.sqrt(var_yt * var_yp)\n"
     ]
    },
    {
     "name": "stdout",
     "output_type": "stream",
     "text": [
      "Key 20150604 Test Accuracy: 0.5 Quality score: 0.0, recall 1.0, precision 0.13743738313791923\n",
      "Key 20150304 | Training Loss: 1.079699 | Validation Loss: 1.175625\n",
      "Key 20150604 Test Accuracy: 0.5 Quality score: 0.0, recall 1.0, precision 0.13743738313791923\n",
      "Key 20150304 | Training Loss: 1.096524 | Validation Loss: 1.173914\n",
      "Key 20150604 Test Accuracy: 0.5 Quality score: 0.0, recall 1.0, precision 0.13743738313791923\n",
      "Key 20150304 | Training Loss: 1.039422 | Validation Loss: 1.174465\n",
      "Key 20150604 Test Accuracy: 0.5 Quality score: 0.0, recall 1.0, precision 0.13743738313791923\n",
      "Key 20150304 | Training Loss: 1.051768 | Validation Loss: 1.175483\n",
      "Key 20150604 Test Accuracy: 0.5 Quality score: 0.0, recall 1.0, precision 0.13743738313791923\n",
      "Key 20150304 | Training Loss: 1.061894 | Validation Loss: 1.175106\n",
      "Key 20150604 Test Accuracy: 0.5 Quality score: 0.0, recall 1.0, precision 0.13743738313791923\n",
      "Key 20150304 | Training Loss: 1.059021 | Validation Loss: 1.175427\n",
      "Key 20150604 Test Accuracy: 0.5 Quality score: 0.0, recall 1.0, precision 0.13743738313791923\n",
      "Key 20150304 | Training Loss: 1.016003 | Validation Loss: 1.174505\n",
      "Key 20150604 Test Accuracy: 0.5 Quality score: 0.0, recall 1.0, precision 0.13743738313791923\n",
      "Key 20150304 | Training Loss: 1.004702 | Validation Loss: 1.173928\n",
      "Key 20150604 Test Accuracy: 0.5000474298302012 Quality score: 0.0036108628218887123, recall 1.0, precision 0.13744862951423825\n",
      "Key 20150304 | Training Loss: 0.978446 | Validation Loss: 1.166651\n",
      "Key 20150604 Test Accuracy: 0.4995510635790275 Quality score: -0.013203474376986003, recall 0.998677015346622, precision 0.13733088337851196\n",
      "Key 20150304 | Training Loss: 0.952205 | Validation Loss: 1.152384\n",
      "Key 20150604 Test Accuracy: 0.5019468121627549 Quality score: 0.00711990998468568, recall 0.966550538013759, precision 0.1379166050522752\n",
      "Key 20150304 | Training Loss: 0.965875 | Validation Loss: 0.999265\n",
      "Key 20150604 Test Accuracy: 0.5265986237469834 Quality score: 0.04359580879320039, recall 0.8169650732051508, precision 0.14561611048447\n",
      "Key 20150304 | Training Loss: 0.938276 | Validation Loss: 0.936448\n",
      "Key 20150604 Test Accuracy: 0.5405916900228593 Quality score: 0.060738314370484006, recall 0.7655009701887459, precision 0.15127562691997648\n",
      "Key 20150304 | Training Loss: 0.922002 | Validation Loss: 0.935870\n",
      "Key 20150604 Test Accuracy: 0.5318544561183353 Quality score: 0.04749135149364698, recall 0.7464279414358793, precision 0.14835981154815384\n",
      "Key 20150304 | Training Loss: 0.885952 | Validation Loss: 0.936853\n",
      "Key 20150604 Test Accuracy: 0.5319182266239993 Quality score: 0.04753862040387621, recall 0.7454136532016229, precision 0.14839950132570104\n",
      "Key 20150304 | Training Loss: 0.834391 | Validation Loss: 0.932184\n",
      "Key 20150604 Test Accuracy: 0.5169735785602341 Quality score: 0.02499590684510424, recall 0.7063194566943023, precision 0.14338148076862822\n",
      "Key 20150304 | Training Loss: 0.809906 | Validation Loss: 0.932795\n",
      "Key 20150604 Test Accuracy: 0.5048613798069677 Quality score: 0.007122758241985471, recall 0.6789998236020462, precision 0.13915613377859923\n",
      "Key 20150304 | Training Loss: 0.804772 | Validation Loss: 0.904265\n",
      "Key 20150604 Test Accuracy: 0.5100709954555088 Quality score: 0.014468139512899063, recall 0.6596401481742812, precision 0.1411551545978286\n",
      "Key 20150304 | Training Loss: 0.803341 | Validation Loss: 0.728395\n",
      "Key 20150604 Test Accuracy: 0.5281061161507721 Quality score: 0.03876484106546932, recall 0.5215866995942847, precision 0.15152291579925056\n",
      "Key 20150304 | Training Loss: 0.756382 | Validation Loss: 0.561771\n",
      "Key 20150604 Test Accuracy: 0.627872088124169 Quality score: 0.20789494064243894, recall 0.4548862233198095, precision 0.26684085264900664\n",
      "Current Layer Attributes - hidden layers:1 features count:10\n",
      "Key 20150304 | Training Loss: 0.727429 | Validation Loss: 0.556723\n",
      "Key 20150604 Test Accuracy: 0.6200725266984629 Quality score: 0.19732026625317606, recall 0.4343579114482272, precision 0.26273040091760247\n",
      "Key 20150304 | Training Loss: 0.684484 | Validation Loss: 0.555813\n",
      "Key 20150604 Test Accuracy: 0.6152740819066771 Quality score: 0.19156404073194674, recall 0.4190553889574881, precision 0.2615606936416185\n",
      "Key 20150304 | Training Loss: 0.651532 | Validation Loss: 0.532507\n",
      "Key 20150604 Test Accuracy: 0.6004220735466148 Quality score: 0.18796141560493304, recall 0.33464896807197037, precision 0.2849498704517292\n",
      "Key 20150304 | Training Loss: 0.611612 | Validation Loss: 0.457505\n",
      "Key 20150604 Test Accuracy: 0.6299982427539654 Quality score: 0.3071356072072206, recall 0.3180014111836303, precision 0.46624854519591363\n",
      "Key 20150304 | Training Loss: 0.654729 | Validation Loss: 0.454313\n",
      "Key 20150604 Test Accuracy: 0.6293197879950578 Quality score: 0.3123959797111418, recall 0.31231257717410477, precision 0.48109778879793486\n",
      "Key 20150304 | Training Loss: 0.592690 | Validation Loss: 0.445019\n",
      "Key 20150604 Test Accuracy: 0.6111075149643402 Quality score: 0.3105361948324413, recall 0.25659287352266713, precision 0.5432265894874428\n",
      "Key 20150304 | Training Loss: 0.645331 | Validation Loss: 0.449794\n"
     ]
    },
    {
     "name": "stderr",
     "output_type": "stream",
     "text": [
      "/home/ritesh_malaiya/anaconda3/envs/p3/lib/python3.6/site-packages/sklearn/metrics/classification.py:1113: UndefinedMetricWarning: Precision is ill-defined and being set to 0.0 due to no predicted samples.\n",
      "  'precision', 'predicted', average, warn_for)\n"
     ]
    },
    {
     "name": "stdout",
     "output_type": "stream",
     "text": [
      "Key 20150604 Test Accuracy: 0.5 Quality score: 0.0, recall 0.0, precision 0.0\n",
      "Key 20150304 | Training Loss: 0.537821 | Validation Loss: 0.450546\n",
      "Key 20150604 Test Accuracy: 0.5 Quality score: 0.0, recall 0.0, precision 0.0\n",
      "Key 20150304 | Training Loss: 0.553412 | Validation Loss: 0.451199\n",
      "Key 20150604 Test Accuracy: 0.5 Quality score: 0.0, recall 0.0, precision 0.0\n",
      "Key 20150304 | Training Loss: 0.565181 | Validation Loss: 0.450877\n",
      "Key 20150604 Test Accuracy: 0.5 Quality score: 0.0, recall 0.0, precision 0.0\n",
      "Key 20150304 | Training Loss: 0.576323 | Validation Loss: 0.450253\n",
      "Key 20150604 Test Accuracy: 0.5 Quality score: 0.0, recall 0.0, precision 0.0\n",
      "Key 20150304 | Training Loss: 0.490941 | Validation Loss: 0.449656\n",
      "Key 20150604 Test Accuracy: 0.5 Quality score: 0.0, recall 0.0, precision 0.0\n",
      "Key 20150304 | Training Loss: 0.536110 | Validation Loss: 0.452494\n",
      "Key 20150604 Test Accuracy: 0.5 Quality score: 0.0, recall 0.0, precision 0.0\n",
      "Key 20150304 | Training Loss: 0.507190 | Validation Loss: 0.449141\n",
      "Key 20150604 Test Accuracy: 0.5 Quality score: 0.0, recall 0.0, precision 0.0\n",
      "Key 20150304 | Training Loss: 0.543265 | Validation Loss: 0.451071\n",
      "Key 20150604 Test Accuracy: 0.5 Quality score: 0.0, recall 0.0, precision 0.0\n",
      "Key 20150304 | Training Loss: 0.478752 | Validation Loss: 0.452099\n",
      "Key 20150604 Test Accuracy: 0.5 Quality score: 0.0, recall 0.0, precision 0.0\n",
      "Key 20150304 | Training Loss: 0.434107 | Validation Loss: 0.450942\n",
      "Key 20150604 Test Accuracy: 0.5 Quality score: 0.0, recall 0.0, precision 0.0\n",
      "Key 20150304 | Training Loss: 0.475991 | Validation Loss: 0.450427\n",
      "Key 20150604 Test Accuracy: 0.5 Quality score: 0.0, recall 0.0, precision 0.0\n",
      "Key 20150304 | Training Loss: 0.556257 | Validation Loss: 0.451070\n",
      "Key 20150604 Test Accuracy: 0.5 Quality score: 0.0, recall 0.0, precision 0.0\n",
      "Key 20150304 | Training Loss: 0.504355 | Validation Loss: 0.449619\n",
      "Key 20150604 Test Accuracy: 0.5 Quality score: 0.0, recall 0.0, precision 0.0\n",
      "Current Layer Attributes - hidden layers:3 features count:1\n",
      "Key 20150304 | Training Loss: 0.646230 | Validation Loss: 0.449998\n",
      "Key 20150604 Test Accuracy: 0.5 Quality score: 0.0, recall 0.0, precision 0.0\n",
      "Key 20150304 | Training Loss: 0.616443 | Validation Loss: 0.449837\n",
      "Key 20150604 Test Accuracy: 0.5 Quality score: 0.0, recall 0.0, precision 0.0\n",
      "Key 20150304 | Training Loss: 0.642240 | Validation Loss: 0.451721\n",
      "Key 20150604 Test Accuracy: 0.5 Quality score: 0.0, recall 0.0, precision 0.0\n",
      "Key 20150304 | Training Loss: 0.657942 | Validation Loss: 0.451402\n",
      "Key 20150604 Test Accuracy: 0.5 Quality score: 0.0, recall 0.0, precision 0.0\n",
      "Key 20150304 | Training Loss: 0.620911 | Validation Loss: 0.451503\n",
      "Key 20150604 Test Accuracy: 0.5 Quality score: 0.0, recall 0.0, precision 0.0\n",
      "Key 20150304 | Training Loss: 0.607190 | Validation Loss: 0.452000\n",
      "Key 20150604 Test Accuracy: 0.5 Quality score: 0.0, recall 0.0, precision 0.0\n",
      "Key 20150304 | Training Loss: 0.621847 | Validation Loss: 0.451402\n",
      "Key 20150604 Test Accuracy: 0.5 Quality score: 0.0, recall 0.0, precision 0.0\n",
      "Key 20150304 | Training Loss: 0.627315 | Validation Loss: 0.450648\n",
      "Key 20150604 Test Accuracy: 0.5 Quality score: 0.0, recall 0.0, precision 0.0\n",
      "Key 20150304 | Training Loss: 0.595124 | Validation Loss: 0.450854\n",
      "Key 20150604 Test Accuracy: 0.5 Quality score: 0.0, recall 0.0, precision 0.0\n",
      "Key 20150304 | Training Loss: 0.589636 | Validation Loss: 0.450499\n",
      "Key 20150604 Test Accuracy: 0.5 Quality score: 0.0, recall 0.0, precision 0.0\n",
      "Key 20150304 | Training Loss: 0.620751 | Validation Loss: 0.451663\n",
      "Key 20150604 Test Accuracy: 0.5 Quality score: 0.0, recall 0.0, precision 0.0\n",
      "Key 20150304 | Training Loss: 0.607180 | Validation Loss: 0.452020\n",
      "Key 20150604 Test Accuracy: 0.5 Quality score: 0.0, recall 0.0, precision 0.0\n",
      "Key 20150304 | Training Loss: 0.590195 | Validation Loss: 0.450845\n",
      "Key 20150604 Test Accuracy: 0.5 Quality score: 0.0, recall 0.0, precision 0.0\n",
      "Key 20150304 | Training Loss: 0.609950 | Validation Loss: 0.452653\n",
      "Key 20150604 Test Accuracy: 0.5 Quality score: 0.0, recall 0.0, precision 0.0\n",
      "Key 20150304 | Training Loss: 0.604721 | Validation Loss: 0.450934\n",
      "Key 20150604 Test Accuracy: 0.5 Quality score: 0.0, recall 0.0, precision 0.0\n",
      "Key 20150304 | Training Loss: 0.615192 | Validation Loss: 0.451256\n",
      "Key 20150604 Test Accuracy: 0.5 Quality score: 0.0, recall 0.0, precision 0.0\n",
      "Key 20150304 | Training Loss: 0.574549 | Validation Loss: 0.451541\n",
      "Key 20150604 Test Accuracy: 0.5 Quality score: 0.0, recall 0.0, precision 0.0\n",
      "Key 20150304 | Training Loss: 0.585573 | Validation Loss: 0.450676\n",
      "Key 20150604 Test Accuracy: 0.5 Quality score: 0.0, recall 0.0, precision 0.0\n",
      "Key 20150304 | Training Loss: 0.593009 | Validation Loss: 0.451540\n",
      "Key 20150604 Test Accuracy: 0.5 Quality score: 0.0, recall 0.0, precision 0.0\n",
      "Key 20150304 | Training Loss: 0.567228 | Validation Loss: 0.452137\n",
      "Key 20150604 Test Accuracy: 0.5 Quality score: 0.0, recall 0.0, precision 0.0\n",
      "Current Layer Attributes - hidden layers:3 features count:4\n",
      "Key 20150304 | Training Loss: 0.594456 | Validation Loss: 0.450025\n",
      "Key 20150604 Test Accuracy: 0.5 Quality score: 0.0, recall 0.0, precision 0.0\n",
      "Key 20150304 | Training Loss: 0.582993 | Validation Loss: 0.451664\n",
      "Key 20150604 Test Accuracy: 0.5 Quality score: 0.0, recall 0.0, precision 0.0\n",
      "Key 20150304 | Training Loss: 0.602470 | Validation Loss: 0.450898\n",
      "Key 20150604 Test Accuracy: 0.5 Quality score: 0.0, recall 0.0, precision 0.0\n",
      "Key 20150304 | Training Loss: 0.600673 | Validation Loss: 0.449693\n",
      "Key 20150604 Test Accuracy: 0.5 Quality score: 0.0, recall 0.0, precision 0.0\n",
      "Key 20150304 | Training Loss: 0.574595 | Validation Loss: 0.450711\n",
      "Key 20150604 Test Accuracy: 0.5 Quality score: 0.0, recall 0.0, precision 0.0\n",
      "Key 20150304 | Training Loss: 0.580322 | Validation Loss: 0.450864\n",
      "Key 20150604 Test Accuracy: 0.5 Quality score: 0.0, recall 0.0, precision 0.0\n",
      "Key 20150304 | Training Loss: 0.606562 | Validation Loss: 0.450580\n",
      "Key 20150604 Test Accuracy: 0.5 Quality score: 0.0, recall 0.0, precision 0.0\n",
      "Key 20150304 | Training Loss: 0.579941 | Validation Loss: 0.451984\n",
      "Key 20150604 Test Accuracy: 0.5 Quality score: 0.0, recall 0.0, precision 0.0\n",
      "Key 20150304 | Training Loss: 0.544718 | Validation Loss: 0.451305\n",
      "Key 20150604 Test Accuracy: 0.5 Quality score: 0.0, recall 0.0, precision 0.0\n",
      "Key 20150304 | Training Loss: 0.560713 | Validation Loss: 0.450322\n",
      "Key 20150604 Test Accuracy: 0.5 Quality score: 0.0, recall 0.0, precision 0.0\n",
      "Key 20150304 | Training Loss: 0.553238 | Validation Loss: 0.450254\n",
      "Key 20150604 Test Accuracy: 0.5 Quality score: 0.0, recall 0.0, precision 0.0\n",
      "Key 20150304 | Training Loss: 0.543760 | Validation Loss: 0.450308\n",
      "Key 20150604 Test Accuracy: 0.5 Quality score: 0.0, recall 0.0, precision 0.0\n",
      "Key 20150304 | Training Loss: 0.569108 | Validation Loss: 0.450877\n",
      "Key 20150604 Test Accuracy: 0.5 Quality score: 0.0, recall 0.0, precision 0.0\n",
      "Key 20150304 | Training Loss: 0.542802 | Validation Loss: 0.451970\n",
      "Key 20150604 Test Accuracy: 0.5 Quality score: 0.0, recall 0.0, precision 0.0\n",
      "Key 20150304 | Training Loss: 0.558237 | Validation Loss: 0.451024\n",
      "Key 20150604 Test Accuracy: 0.5 Quality score: 0.0, recall 0.0, precision 0.0\n",
      "Key 20150304 | Training Loss: 0.543713 | Validation Loss: 0.449849\n",
      "Key 20150604 Test Accuracy: 0.5 Quality score: 0.0, recall 0.0, precision 0.0\n",
      "Key 20150304 | Training Loss: 0.550326 | Validation Loss: 0.450409\n",
      "Key 20150604 Test Accuracy: 0.5 Quality score: 0.0, recall 0.0, precision 0.0\n",
      "Key 20150304 | Training Loss: 0.545887 | Validation Loss: 0.451189\n",
      "Key 20150604 Test Accuracy: 0.5 Quality score: 0.0, recall 0.0, precision 0.0\n",
      "Key 20150304 | Training Loss: 0.569975 | Validation Loss: 0.449849\n",
      "Key 20150604 Test Accuracy: 0.5 Quality score: 0.0, recall 0.0, precision 0.0\n",
      "Key 20150304 | Training Loss: 0.557002 | Validation Loss: 0.451070\n",
      "Key 20150604 Test Accuracy: 0.5 Quality score: 0.0, recall 0.0, precision 0.0\n",
      "Current Layer Attributes - hidden layers:3 features count:10\n",
      "Key 20150304 | Training Loss: 0.759752 | Validation Loss: 0.452037\n",
      "Key 20150604 Test Accuracy: 0.5 Quality score: 0.0, recall 0.0, precision 0.0\n",
      "Key 20150304 | Training Loss: 0.716522 | Validation Loss: 0.450583\n",
      "Key 20150604 Test Accuracy: 0.5 Quality score: 0.0, recall 0.0, precision 0.0\n"
     ]
    },
    {
     "name": "stdout",
     "output_type": "stream",
     "text": [
      "Key 20150304 | Training Loss: 0.767828 | Validation Loss: 0.451510\n",
      "Key 20150604 Test Accuracy: 0.5 Quality score: 0.0, recall 0.0, precision 0.0\n",
      "Key 20150304 | Training Loss: 0.740418 | Validation Loss: 0.448870\n",
      "Key 20150604 Test Accuracy: 0.5 Quality score: 0.0, recall 0.0, precision 0.0\n",
      "Key 20150304 | Training Loss: 0.677291 | Validation Loss: 0.450615\n",
      "Key 20150604 Test Accuracy: 0.5 Quality score: 0.0, recall 0.0, precision 0.0\n",
      "Key 20150304 | Training Loss: 0.689781 | Validation Loss: 0.453313\n",
      "Key 20150604 Test Accuracy: 0.5 Quality score: 0.0, recall 0.0, precision 0.0\n",
      "Key 20150304 | Training Loss: 0.641253 | Validation Loss: 0.449703\n",
      "Key 20150604 Test Accuracy: 0.5 Quality score: 0.0, recall 0.0, precision 0.0\n",
      "Key 20150304 | Training Loss: 0.642313 | Validation Loss: 0.450826\n",
      "Key 20150604 Test Accuracy: 0.5 Quality score: 0.0, recall 0.0, precision 0.0\n",
      "Key 20150304 | Training Loss: 0.619955 | Validation Loss: 0.451385\n",
      "Key 20150604 Test Accuracy: 0.5 Quality score: 0.0, recall 0.0, precision 0.0\n",
      "Key 20150304 | Training Loss: 0.594155 | Validation Loss: 0.451071\n",
      "Key 20150604 Test Accuracy: 0.5 Quality score: 0.0, recall 0.0, precision 0.0\n",
      "Key 20150304 | Training Loss: 0.638491 | Validation Loss: 0.451739\n",
      "Key 20150604 Test Accuracy: 0.5 Quality score: 0.0, recall 0.0, precision 0.0\n",
      "Key 20150304 | Training Loss: 0.602038 | Validation Loss: 0.451850\n",
      "Key 20150604 Test Accuracy: 0.5 Quality score: 0.0, recall 0.0, precision 0.0\n",
      "Key 20150304 | Training Loss: 0.600070 | Validation Loss: 0.449738\n",
      "Key 20150604 Test Accuracy: 0.5 Quality score: 0.0, recall 0.0, precision 0.0\n",
      "Key 20150304 | Training Loss: 0.592732 | Validation Loss: 0.452419\n",
      "Key 20150604 Test Accuracy: 0.5 Quality score: 0.0, recall 0.0, precision 0.0\n",
      "Key 20150304 | Training Loss: 0.543883 | Validation Loss: 0.451878\n",
      "Key 20150604 Test Accuracy: 0.5 Quality score: 0.0, recall 0.0, precision 0.0\n",
      "Key 20150304 | Training Loss: 0.571651 | Validation Loss: 0.451042\n",
      "Key 20150604 Test Accuracy: 0.5 Quality score: 0.0, recall 0.0, precision 0.0\n",
      "Key 20150304 | Training Loss: 0.579215 | Validation Loss: 0.450004\n",
      "Key 20150604 Test Accuracy: 0.5 Quality score: 0.0, recall 0.0, precision 0.0\n",
      "Key 20150304 | Training Loss: 0.545922 | Validation Loss: 0.450647\n",
      "Key 20150604 Test Accuracy: 0.5 Quality score: 0.0, recall 0.0, precision 0.0\n",
      "Key 20150304 | Training Loss: 0.550426 | Validation Loss: 0.451382\n",
      "Key 20150604 Test Accuracy: 0.5 Quality score: 0.0, recall 0.0, precision 0.0\n",
      "Key 20150304 | Training Loss: 0.586514 | Validation Loss: 0.449784\n",
      "Key 20150604 Test Accuracy: 0.5 Quality score: 0.0, recall 0.0, precision 0.0\n"
     ]
    }
   ],
   "source": [
    "#%%timeit\n",
    "Hyperparameters.start_training()"
   ]
  },
  {
   "cell_type": "code",
   "execution_count": 9,
   "metadata": {
    "ExecuteTime": {
     "end_time": "2017-10-17T22:33:27.314138Z",
     "start_time": "2017-10-17T22:33:26.867315Z"
    },
    "collapsed": true
   },
   "outputs": [],
   "source": [
    "pd.Panel(Train.predictions).to_pickle(\"dataset/tf_dense_only_nsl_kdd_predictions.pkl\")\n",
    "df_results.to_pickle(\"dataset/tf_dense_only_nsl_kdd_scores.pkl\")\n"
   ]
  },
  {
   "cell_type": "code",
   "execution_count": 10,
   "metadata": {
    "ExecuteTime": {
     "end_time": "2017-10-17T22:33:27.317870Z",
     "start_time": "2017-10-17T22:33:27.315657Z"
    },
    "collapsed": true
   },
   "outputs": [],
   "source": [
    "#df_results = pd.read_pickle(\"dataset/tf_dense_only_nsl_kdd_scores.pkl\")"
   ]
  },
  {
   "cell_type": "code",
   "execution_count": 11,
   "metadata": {
    "ExecuteTime": {
     "end_time": "2017-10-17T22:33:27.419332Z",
     "start_time": "2017-10-17T22:33:27.319187Z"
    },
    "collapsed": true
   },
   "outputs": [],
   "source": [
    "#df_results"
   ]
  },
  {
   "cell_type": "code",
   "execution_count": 12,
   "metadata": {
    "ExecuteTime": {
     "end_time": "2017-10-17T22:33:27.423332Z",
     "start_time": "2017-10-17T22:33:27.420816Z"
    },
    "collapsed": true
   },
   "outputs": [],
   "source": [
    "#g = df_results.groupby(by=['no_of_features'])\n",
    "#idx = g['test_score'].transform(max) == df_results['test_score']\n",
    "#df_results[idx].sort_values(by = 'test_score', ascending = False)"
   ]
  },
  {
   "cell_type": "code",
   "execution_count": 13,
   "metadata": {
    "ExecuteTime": {
     "end_time": "2017-10-17T22:33:27.428483Z",
     "start_time": "2017-10-17T22:33:27.424543Z"
    },
    "collapsed": true,
    "scrolled": true
   },
   "outputs": [],
   "source": [
    "#df_results.sort_values(by = 'test_score', ascending = False)"
   ]
  },
  {
   "cell_type": "code",
   "execution_count": 14,
   "metadata": {
    "ExecuteTime": {
     "end_time": "2017-10-17T22:33:27.501298Z",
     "start_time": "2017-10-17T22:33:27.429732Z"
    },
    "collapsed": true
   },
   "outputs": [],
   "source": [
    "import numpy as np\n",
    "import matplotlib.pyplot as plt\n",
    "import itertools\n",
    "\n",
    "def plot_confusion_matrix(cm, classes,\n",
    "                          normalize=False,\n",
    "                          title='Confusion matrix',\n",
    "                          cmap=plt.cm.Blues):\n",
    "    \"\"\"\n",
    "    This function prints and plots the confusion matrix.\n",
    "    Normalization can be applied by setting `normalize=True`.\n",
    "    \"\"\"\n",
    "    np.set_printoptions(precision=4)\n",
    "\n",
    "    plt.imshow(cm, interpolation='nearest', cmap=cmap)\n",
    "    plt.title(title)\n",
    "    plt.colorbar()\n",
    "    tick_marks = np.arange(len(classes))\n",
    "    plt.xticks(tick_marks, classes, rotation=45)\n",
    "    plt.yticks(tick_marks, classes)\n",
    "\n",
    "    if normalize:\n",
    "        cm = cm.astype('float') / cm.sum(axis=1)[:, np.newaxis]\n",
    "        #print(\"Normalized confusion matrix\")\n",
    "    else:\n",
    "        #print('Confusion matrix, without normalization')\n",
    "        pass\n",
    "    \n",
    "    #print(cm)\n",
    "\n",
    "    label = [[\"\\n True Negative\", \"\\n False Positive \\n Type II Error\"],\n",
    "             [\"\\n False Negative \\n Type I Error\", \"\\n True Positive\"]\n",
    "            ]\n",
    "    \n",
    "    thresh = cm.max() / 2.\n",
    "    for i, j in itertools.product(range(cm.shape[0]), range(cm.shape[1])):\n",
    "        \n",
    "        plt.text(j, i, \"{} {}\".format(cm[i, j].round(4), label[i][j]),\n",
    "                 horizontalalignment=\"center\",\n",
    "                 color=\"white\" if cm[i, j] > thresh else \"black\")\n",
    "\n",
    "    plt.tight_layout()\n",
    "    plt.ylabel('True label')\n",
    "    plt.xlabel('Predicted label')\n",
    "\n",
    "def plot(actual_value, pred_value):\n",
    "    from sklearn.metrics import confusion_matrix\n",
    "\n",
    "    cm_2labels = confusion_matrix(y_pred = pred_value, y_true = actual_value)\n",
    "    plt.figure(figsize=[6,6])\n",
    "    plot_confusion_matrix(cm_2labels, ['Normal', 'Attack'], normalize = False)\n"
   ]
  },
  {
   "cell_type": "code",
   "execution_count": 15,
   "metadata": {
    "ExecuteTime": {
     "end_time": "2017-10-17T22:33:27.506182Z",
     "start_time": "2017-10-17T22:33:27.502875Z"
    },
    "collapsed": true
   },
   "outputs": [],
   "source": [
    "#plot(actual_value = Train.actual_value, pred_value = Train.pred_value)"
   ]
  },
  {
   "cell_type": "code",
   "execution_count": 16,
   "metadata": {
    "ExecuteTime": {
     "end_time": "2017-10-17T22:33:27.511233Z",
     "start_time": "2017-10-17T22:33:27.507386Z"
    },
    "collapsed": true
   },
   "outputs": [],
   "source": [
    "past_scores = pd.read_pickle(\"dataset/scores/tf_dense_only_nsl_kdd_scores_all.pkl\")"
   ]
  },
  {
   "cell_type": "code",
   "execution_count": 17,
   "metadata": {
    "ExecuteTime": {
     "end_time": "2017-10-17T22:33:27.531062Z",
     "start_time": "2017-10-17T22:33:27.512510Z"
    },
    "scrolled": false
   },
   "outputs": [
    {
     "data": {
      "text/html": [
       "<div>\n",
       "<style>\n",
       "    .dataframe thead tr:only-child th {\n",
       "        text-align: right;\n",
       "    }\n",
       "\n",
       "    .dataframe thead th {\n",
       "        text-align: left;\n",
       "    }\n",
       "\n",
       "    .dataframe tbody tr th {\n",
       "        vertical-align: top;\n",
       "    }\n",
       "</style>\n",
       "<table border=\"1\" class=\"dataframe\">\n",
       "  <thead>\n",
       "    <tr style=\"text-align: right;\">\n",
       "      <th></th>\n",
       "      <th>key</th>\n",
       "      <th>no_of_features</th>\n",
       "      <th>hidden_layers</th>\n",
       "      <th>train_score</th>\n",
       "      <th>test_score</th>\n",
       "      <th>quality_score</th>\n",
       "      <th>time_taken</th>\n",
       "    </tr>\n",
       "  </thead>\n",
       "  <tbody>\n",
       "    <tr>\n",
       "      <th>1</th>\n",
       "      <td>20150604</td>\n",
       "      <td>4</td>\n",
       "      <td>1</td>\n",
       "      <td>0.561771</td>\n",
       "      <td>0.627872</td>\n",
       "      <td>0.207895</td>\n",
       "      <td>22.350658</td>\n",
       "    </tr>\n",
       "    <tr>\n",
       "      <th>7</th>\n",
       "      <td>20150604</td>\n",
       "      <td>4</td>\n",
       "      <td>1</td>\n",
       "      <td>0.561771</td>\n",
       "      <td>0.627872</td>\n",
       "      <td>0.207895</td>\n",
       "      <td>22.350658</td>\n",
       "    </tr>\n",
       "    <tr>\n",
       "      <th>0</th>\n",
       "      <td>20150604</td>\n",
       "      <td>1</td>\n",
       "      <td>1</td>\n",
       "      <td>0.559082</td>\n",
       "      <td>0.601632</td>\n",
       "      <td>0.169585</td>\n",
       "      <td>22.996205</td>\n",
       "    </tr>\n",
       "    <tr>\n",
       "      <th>6</th>\n",
       "      <td>20150604</td>\n",
       "      <td>1</td>\n",
       "      <td>1</td>\n",
       "      <td>0.559082</td>\n",
       "      <td>0.601632</td>\n",
       "      <td>0.169585</td>\n",
       "      <td>22.996205</td>\n",
       "    </tr>\n",
       "    <tr>\n",
       "      <th>2</th>\n",
       "      <td>20150604</td>\n",
       "      <td>10</td>\n",
       "      <td>1</td>\n",
       "      <td>0.449619</td>\n",
       "      <td>0.500000</td>\n",
       "      <td>0.000000</td>\n",
       "      <td>23.028763</td>\n",
       "    </tr>\n",
       "    <tr>\n",
       "      <th>3</th>\n",
       "      <td>20150604</td>\n",
       "      <td>1</td>\n",
       "      <td>3</td>\n",
       "      <td>0.452137</td>\n",
       "      <td>0.500000</td>\n",
       "      <td>0.000000</td>\n",
       "      <td>25.447692</td>\n",
       "    </tr>\n",
       "    <tr>\n",
       "      <th>4</th>\n",
       "      <td>20150604</td>\n",
       "      <td>4</td>\n",
       "      <td>3</td>\n",
       "      <td>0.451070</td>\n",
       "      <td>0.500000</td>\n",
       "      <td>0.000000</td>\n",
       "      <td>26.785682</td>\n",
       "    </tr>\n",
       "    <tr>\n",
       "      <th>5</th>\n",
       "      <td>20150604</td>\n",
       "      <td>10</td>\n",
       "      <td>3</td>\n",
       "      <td>0.449784</td>\n",
       "      <td>0.500000</td>\n",
       "      <td>0.000000</td>\n",
       "      <td>29.890475</td>\n",
       "    </tr>\n",
       "    <tr>\n",
       "      <th>8</th>\n",
       "      <td>20150604</td>\n",
       "      <td>10</td>\n",
       "      <td>1</td>\n",
       "      <td>0.449619</td>\n",
       "      <td>0.500000</td>\n",
       "      <td>0.000000</td>\n",
       "      <td>23.028763</td>\n",
       "    </tr>\n",
       "    <tr>\n",
       "      <th>9</th>\n",
       "      <td>20150604</td>\n",
       "      <td>1</td>\n",
       "      <td>3</td>\n",
       "      <td>0.452137</td>\n",
       "      <td>0.500000</td>\n",
       "      <td>0.000000</td>\n",
       "      <td>25.447692</td>\n",
       "    </tr>\n",
       "    <tr>\n",
       "      <th>10</th>\n",
       "      <td>20150604</td>\n",
       "      <td>4</td>\n",
       "      <td>3</td>\n",
       "      <td>0.451070</td>\n",
       "      <td>0.500000</td>\n",
       "      <td>0.000000</td>\n",
       "      <td>26.785682</td>\n",
       "    </tr>\n",
       "    <tr>\n",
       "      <th>11</th>\n",
       "      <td>20150604</td>\n",
       "      <td>10</td>\n",
       "      <td>3</td>\n",
       "      <td>0.449784</td>\n",
       "      <td>0.500000</td>\n",
       "      <td>0.000000</td>\n",
       "      <td>29.890475</td>\n",
       "    </tr>\n",
       "  </tbody>\n",
       "</table>\n",
       "</div>"
      ],
      "text/plain": [
       "         key  no_of_features  hidden_layers  train_score  test_score  \\\n",
       "1   20150604               4              1     0.561771    0.627872   \n",
       "7   20150604               4              1     0.561771    0.627872   \n",
       "0   20150604               1              1     0.559082    0.601632   \n",
       "6   20150604               1              1     0.559082    0.601632   \n",
       "2   20150604              10              1     0.449619    0.500000   \n",
       "3   20150604               1              3     0.452137    0.500000   \n",
       "4   20150604               4              3     0.451070    0.500000   \n",
       "5   20150604              10              3     0.449784    0.500000   \n",
       "8   20150604              10              1     0.449619    0.500000   \n",
       "9   20150604               1              3     0.452137    0.500000   \n",
       "10  20150604               4              3     0.451070    0.500000   \n",
       "11  20150604              10              3     0.449784    0.500000   \n",
       "\n",
       "    quality_score  time_taken  \n",
       "1        0.207895   22.350658  \n",
       "7        0.207895   22.350658  \n",
       "0        0.169585   22.996205  \n",
       "6        0.169585   22.996205  \n",
       "2        0.000000   23.028763  \n",
       "3        0.000000   25.447692  \n",
       "4        0.000000   26.785682  \n",
       "5        0.000000   29.890475  \n",
       "8        0.000000   23.028763  \n",
       "9        0.000000   25.447692  \n",
       "10       0.000000   26.785682  \n",
       "11       0.000000   29.890475  "
      ]
     },
     "execution_count": 17,
     "metadata": {},
     "output_type": "execute_result"
    }
   ],
   "source": [
    "past_scores.sort_values(by='quality_score', ascending = False)"
   ]
  },
  {
   "cell_type": "code",
   "execution_count": 18,
   "metadata": {
    "ExecuteTime": {
     "end_time": "2017-10-17T22:33:27.549063Z",
     "start_time": "2017-10-17T22:33:27.532353Z"
    }
   },
   "outputs": [
    {
     "data": {
      "text/html": [
       "<div>\n",
       "<style>\n",
       "    .dataframe thead tr:only-child th {\n",
       "        text-align: right;\n",
       "    }\n",
       "\n",
       "    .dataframe thead th {\n",
       "        text-align: left;\n",
       "    }\n",
       "\n",
       "    .dataframe tbody tr th {\n",
       "        vertical-align: top;\n",
       "    }\n",
       "</style>\n",
       "<table border=\"1\" class=\"dataframe\">\n",
       "  <thead>\n",
       "    <tr style=\"text-align: right;\">\n",
       "      <th></th>\n",
       "      <th></th>\n",
       "      <th>key</th>\n",
       "      <th>train_score</th>\n",
       "      <th>test_score</th>\n",
       "      <th>quality_score</th>\n",
       "      <th>time_taken</th>\n",
       "    </tr>\n",
       "    <tr>\n",
       "      <th>no_of_features</th>\n",
       "      <th>hidden_layers</th>\n",
       "      <th></th>\n",
       "      <th></th>\n",
       "      <th></th>\n",
       "      <th></th>\n",
       "      <th></th>\n",
       "    </tr>\n",
       "  </thead>\n",
       "  <tbody>\n",
       "    <tr>\n",
       "      <th>4</th>\n",
       "      <th>1</th>\n",
       "      <td>20150604</td>\n",
       "      <td>0.561771</td>\n",
       "      <td>0.627872</td>\n",
       "      <td>0.207895</td>\n",
       "      <td>22.350658</td>\n",
       "    </tr>\n",
       "    <tr>\n",
       "      <th rowspan=\"2\" valign=\"top\">1</th>\n",
       "      <th>1</th>\n",
       "      <td>20150604</td>\n",
       "      <td>0.559082</td>\n",
       "      <td>0.601632</td>\n",
       "      <td>0.169585</td>\n",
       "      <td>22.996205</td>\n",
       "    </tr>\n",
       "    <tr>\n",
       "      <th>3</th>\n",
       "      <td>20150604</td>\n",
       "      <td>0.452137</td>\n",
       "      <td>0.500000</td>\n",
       "      <td>0.000000</td>\n",
       "      <td>25.447692</td>\n",
       "    </tr>\n",
       "    <tr>\n",
       "      <th>4</th>\n",
       "      <th>3</th>\n",
       "      <td>20150604</td>\n",
       "      <td>0.451070</td>\n",
       "      <td>0.500000</td>\n",
       "      <td>0.000000</td>\n",
       "      <td>26.785682</td>\n",
       "    </tr>\n",
       "    <tr>\n",
       "      <th rowspan=\"2\" valign=\"top\">10</th>\n",
       "      <th>1</th>\n",
       "      <td>20150604</td>\n",
       "      <td>0.449619</td>\n",
       "      <td>0.500000</td>\n",
       "      <td>0.000000</td>\n",
       "      <td>23.028763</td>\n",
       "    </tr>\n",
       "    <tr>\n",
       "      <th>3</th>\n",
       "      <td>20150604</td>\n",
       "      <td>0.449784</td>\n",
       "      <td>0.500000</td>\n",
       "      <td>0.000000</td>\n",
       "      <td>29.890475</td>\n",
       "    </tr>\n",
       "  </tbody>\n",
       "</table>\n",
       "</div>"
      ],
      "text/plain": [
       "                                   key  train_score  test_score  \\\n",
       "no_of_features hidden_layers                                      \n",
       "4              1              20150604     0.561771    0.627872   \n",
       "1              1              20150604     0.559082    0.601632   \n",
       "               3              20150604     0.452137    0.500000   \n",
       "4              3              20150604     0.451070    0.500000   \n",
       "10             1              20150604     0.449619    0.500000   \n",
       "               3              20150604     0.449784    0.500000   \n",
       "\n",
       "                              quality_score  time_taken  \n",
       "no_of_features hidden_layers                             \n",
       "4              1                   0.207895   22.350658  \n",
       "1              1                   0.169585   22.996205  \n",
       "               3                   0.000000   25.447692  \n",
       "4              3                   0.000000   26.785682  \n",
       "10             1                   0.000000   23.028763  \n",
       "               3                   0.000000   29.890475  "
      ]
     },
     "execution_count": 18,
     "metadata": {},
     "output_type": "execute_result"
    }
   ],
   "source": [
    "psg = past_scores.sort_values(by='quality_score', ascending=False).groupby(by=['no_of_features', 'hidden_layers'])\n",
    "psg.first().sort_values(by='quality_score', ascending=False)"
   ]
  },
  {
   "cell_type": "code",
   "execution_count": 19,
   "metadata": {
    "ExecuteTime": {
     "end_time": "2017-10-17T22:33:27.591246Z",
     "start_time": "2017-10-17T22:33:27.550602Z"
    },
    "collapsed": true
   },
   "outputs": [],
   "source": [
    "#key_nof_hidden '20151201_16_1'\n",
    "Train.predictions = pd.read_pickle(\"dataset/tf_dense_only_nsl_kdd_predictions.pkl\")"
   ]
  },
  {
   "cell_type": "code",
   "execution_count": 20,
   "metadata": {
    "ExecuteTime": {
     "end_time": "2017-10-17T22:33:27.612773Z",
     "start_time": "2017-10-17T22:33:27.592720Z"
    }
   },
   "outputs": [],
   "source": [
    "df = Train.predictions['20150604_1_3'].dropna()"
   ]
  },
  {
   "cell_type": "code",
   "execution_count": 21,
   "metadata": {
    "ExecuteTime": {
     "end_time": "2017-10-17T22:33:27.620673Z",
     "start_time": "2017-10-17T22:33:27.614208Z"
    }
   },
   "outputs": [
    {
     "data": {
      "text/plain": [
       "array([0, 0, 0, ..., 0, 0, 0])"
      ]
     },
     "execution_count": 21,
     "metadata": {},
     "output_type": "execute_result"
    }
   ],
   "source": [
    "#Train.predictions['20151219_42_1'].loc[:,'Prediction']\n",
    "df.loc[:,'Prediction'].values.astype(int)"
   ]
  },
  {
   "cell_type": "code",
   "execution_count": 22,
   "metadata": {
    "ExecuteTime": {
     "end_time": "2017-10-17T22:33:27.676993Z",
     "start_time": "2017-10-17T22:33:27.621919Z"
    }
   },
   "outputs": [
    {
     "name": "stderr",
     "output_type": "stream",
     "text": [
      "/home/ritesh_malaiya/anaconda3/envs/p3/lib/python3.6/site-packages/sklearn/metrics/classification.py:1113: UndefinedMetricWarning: F-score is ill-defined and being set to 0.0 due to no predicted samples.\n",
      "  'precision', 'predicted', average, warn_for)\n"
     ]
    },
    {
     "data": {
      "text/plain": [
       "0.0"
      ]
     },
     "execution_count": 22,
     "metadata": {},
     "output_type": "execute_result"
    }
   ],
   "source": [
    "from sklearn import metrics as me\n",
    "me.f1_score(df.loc[:,'Actual'].values.astype(int),\n",
    "            df.loc[:,'Prediction'].values.astype(int) )"
   ]
  },
  {
   "cell_type": "code",
   "execution_count": 23,
   "metadata": {
    "ExecuteTime": {
     "end_time": "2017-10-17T22:33:27.694331Z",
     "start_time": "2017-10-17T22:33:27.678392Z"
    }
   },
   "outputs": [
    {
     "data": {
      "text/plain": [
       "Actual\n",
       "0.0    284631\n",
       "1.0     45352\n",
       "Name: Actual, dtype: int64"
      ]
     },
     "execution_count": 23,
     "metadata": {},
     "output_type": "execute_result"
    }
   ],
   "source": [
    "df.groupby(by=\"Actual\").Actual.count()"
   ]
  },
  {
   "cell_type": "code",
   "execution_count": 24,
   "metadata": {
    "ExecuteTime": {
     "end_time": "2017-10-17T22:33:28.178242Z",
     "start_time": "2017-10-17T22:33:27.695614Z"
    }
   },
   "outputs": [
    {
     "data": {
      "image/png": "[encoded data removed]",
      "text/plain": [
       "<matplotlib.figure.Figure at 0x7f9124636a58>"
      ]
     },
     "metadata": {},
     "output_type": "display_data"
    }
   ],
   "source": [
    "plot(actual_value = df.loc[:,'Actual'].values.astype(int),\n",
    "     pred_value = df.loc[:,'Prediction'].values.astype(int))"
   ]
  },
  {
   "cell_type": "code",
   "execution_count": 25,
   "metadata": {
    "ExecuteTime": {
     "end_time": "2017-10-17T22:33:28.191280Z",
     "start_time": "2017-10-17T22:33:28.179647Z"
    }
   },
   "outputs": [
    {
     "data": {
      "text/html": [
       "<div>\n",
       "<style>\n",
       "    .dataframe thead tr:only-child th {\n",
       "        text-align: right;\n",
       "    }\n",
       "\n",
       "    .dataframe thead th {\n",
       "        text-align: left;\n",
       "    }\n",
       "\n",
       "    .dataframe tbody tr th {\n",
       "        vertical-align: top;\n",
       "    }\n",
       "</style>\n",
       "<table border=\"1\" class=\"dataframe\">\n",
       "  <thead>\n",
       "    <tr style=\"text-align: right;\">\n",
       "      <th></th>\n",
       "      <th></th>\n",
       "      <th>train_score</th>\n",
       "      <th>test_score</th>\n",
       "      <th>quality_score</th>\n",
       "      <th>time_taken</th>\n",
       "    </tr>\n",
       "    <tr>\n",
       "      <th>no_of_features</th>\n",
       "      <th>hidden_layers</th>\n",
       "      <th></th>\n",
       "      <th></th>\n",
       "      <th></th>\n",
       "      <th></th>\n",
       "    </tr>\n",
       "  </thead>\n",
       "  <tbody>\n",
       "    <tr>\n",
       "      <th>4</th>\n",
       "      <th>1</th>\n",
       "      <td>0.561771</td>\n",
       "      <td>0.627872</td>\n",
       "      <td>0.207895</td>\n",
       "      <td>22.350658</td>\n",
       "    </tr>\n",
       "    <tr>\n",
       "      <th rowspan=\"2\" valign=\"top\">1</th>\n",
       "      <th>1</th>\n",
       "      <td>0.559082</td>\n",
       "      <td>0.601632</td>\n",
       "      <td>0.169585</td>\n",
       "      <td>22.996205</td>\n",
       "    </tr>\n",
       "    <tr>\n",
       "      <th>3</th>\n",
       "      <td>0.452137</td>\n",
       "      <td>0.500000</td>\n",
       "      <td>0.000000</td>\n",
       "      <td>25.447692</td>\n",
       "    </tr>\n",
       "    <tr>\n",
       "      <th>4</th>\n",
       "      <th>3</th>\n",
       "      <td>0.451070</td>\n",
       "      <td>0.500000</td>\n",
       "      <td>0.000000</td>\n",
       "      <td>26.785682</td>\n",
       "    </tr>\n",
       "    <tr>\n",
       "      <th rowspan=\"2\" valign=\"top\">10</th>\n",
       "      <th>1</th>\n",
       "      <td>0.449619</td>\n",
       "      <td>0.500000</td>\n",
       "      <td>0.000000</td>\n",
       "      <td>23.028763</td>\n",
       "    </tr>\n",
       "    <tr>\n",
       "      <th>3</th>\n",
       "      <td>0.449784</td>\n",
       "      <td>0.500000</td>\n",
       "      <td>0.000000</td>\n",
       "      <td>29.890475</td>\n",
       "    </tr>\n",
       "  </tbody>\n",
       "</table>\n",
       "</div>"
      ],
      "text/plain": [
       "                              train_score  test_score  quality_score  \\\n",
       "no_of_features hidden_layers                                           \n",
       "4              1                 0.561771    0.627872       0.207895   \n",
       "1              1                 0.559082    0.601632       0.169585   \n",
       "               3                 0.452137    0.500000       0.000000   \n",
       "4              3                 0.451070    0.500000       0.000000   \n",
       "10             1                 0.449619    0.500000       0.000000   \n",
       "               3                 0.449784    0.500000       0.000000   \n",
       "\n",
       "                              time_taken  \n",
       "no_of_features hidden_layers              \n",
       "4              1               22.350658  \n",
       "1              1               22.996205  \n",
       "               3               25.447692  \n",
       "4              3               26.785682  \n",
       "10             1               23.028763  \n",
       "               3               29.890475  "
      ]
     },
     "execution_count": 25,
     "metadata": {},
     "output_type": "execute_result"
    }
   ],
   "source": [
    "psg.mean().sort_values(by='quality_score', ascending=False)"
   ]
  },
  {
   "cell_type": "code",
   "execution_count": 26,
   "metadata": {
    "ExecuteTime": {
     "end_time": "2017-10-17T22:33:28.204801Z",
     "start_time": "2017-10-17T22:33:28.192519Z"
    }
   },
   "outputs": [
    {
     "data": {
      "text/html": [
       "<div>\n",
       "<style>\n",
       "    .dataframe thead tr:only-child th {\n",
       "        text-align: right;\n",
       "    }\n",
       "\n",
       "    .dataframe thead th {\n",
       "        text-align: left;\n",
       "    }\n",
       "\n",
       "    .dataframe tbody tr th {\n",
       "        vertical-align: top;\n",
       "    }\n",
       "</style>\n",
       "<table border=\"1\" class=\"dataframe\">\n",
       "  <thead>\n",
       "    <tr style=\"text-align: right;\">\n",
       "      <th></th>\n",
       "      <th></th>\n",
       "      <th>train_score</th>\n",
       "      <th>test_score</th>\n",
       "      <th>quality_score</th>\n",
       "      <th>time_taken</th>\n",
       "    </tr>\n",
       "    <tr>\n",
       "      <th>no_of_features</th>\n",
       "      <th>hidden_layers</th>\n",
       "      <th></th>\n",
       "      <th></th>\n",
       "      <th></th>\n",
       "      <th></th>\n",
       "    </tr>\n",
       "  </thead>\n",
       "  <tbody>\n",
       "    <tr>\n",
       "      <th rowspan=\"2\" valign=\"top\">1</th>\n",
       "      <th>1</th>\n",
       "      <td>0.0</td>\n",
       "      <td>0.0</td>\n",
       "      <td>0.0</td>\n",
       "      <td>0.0</td>\n",
       "    </tr>\n",
       "    <tr>\n",
       "      <th>3</th>\n",
       "      <td>0.0</td>\n",
       "      <td>0.0</td>\n",
       "      <td>0.0</td>\n",
       "      <td>0.0</td>\n",
       "    </tr>\n",
       "    <tr>\n",
       "      <th rowspan=\"2\" valign=\"top\">4</th>\n",
       "      <th>1</th>\n",
       "      <td>0.0</td>\n",
       "      <td>0.0</td>\n",
       "      <td>0.0</td>\n",
       "      <td>0.0</td>\n",
       "    </tr>\n",
       "    <tr>\n",
       "      <th>3</th>\n",
       "      <td>0.0</td>\n",
       "      <td>0.0</td>\n",
       "      <td>0.0</td>\n",
       "      <td>0.0</td>\n",
       "    </tr>\n",
       "    <tr>\n",
       "      <th rowspan=\"2\" valign=\"top\">10</th>\n",
       "      <th>1</th>\n",
       "      <td>0.0</td>\n",
       "      <td>0.0</td>\n",
       "      <td>0.0</td>\n",
       "      <td>0.0</td>\n",
       "    </tr>\n",
       "    <tr>\n",
       "      <th>3</th>\n",
       "      <td>0.0</td>\n",
       "      <td>0.0</td>\n",
       "      <td>0.0</td>\n",
       "      <td>0.0</td>\n",
       "    </tr>\n",
       "  </tbody>\n",
       "</table>\n",
       "</div>"
      ],
      "text/plain": [
       "                              train_score  test_score  quality_score  \\\n",
       "no_of_features hidden_layers                                           \n",
       "1              1                      0.0         0.0            0.0   \n",
       "               3                      0.0         0.0            0.0   \n",
       "4              1                      0.0         0.0            0.0   \n",
       "               3                      0.0         0.0            0.0   \n",
       "10             1                      0.0         0.0            0.0   \n",
       "               3                      0.0         0.0            0.0   \n",
       "\n",
       "                              time_taken  \n",
       "no_of_features hidden_layers              \n",
       "1              1                     0.0  \n",
       "               3                     0.0  \n",
       "4              1                     0.0  \n",
       "               3                     0.0  \n",
       "10             1                     0.0  \n",
       "               3                     0.0  "
      ]
     },
     "execution_count": 26,
     "metadata": {},
     "output_type": "execute_result"
    }
   ],
   "source": [
    "psg.std()"
   ]
  },
  {
   "cell_type": "code",
   "execution_count": 27,
   "metadata": {
    "ExecuteTime": {
     "end_time": "2017-10-17T22:33:28.222033Z",
     "start_time": "2017-10-17T22:33:28.206136Z"
    }
   },
   "outputs": [
    {
     "name": "stderr",
     "output_type": "stream",
     "text": [
      "/home/ritesh_malaiya/anaconda3/envs/p3/lib/python3.6/site-packages/scipy/stats/_distn_infrastructure.py:1907: RuntimeWarning: invalid value encountered in multiply\n",
      "  lower_bound = self.a * scale + loc\n",
      "/home/ritesh_malaiya/anaconda3/envs/p3/lib/python3.6/site-packages/scipy/stats/_distn_infrastructure.py:1908: RuntimeWarning: invalid value encountered in multiply\n",
      "  upper_bound = self.b * scale + loc\n"
     ]
    },
    {
     "data": {
      "text/plain": [
       "no_of_features  hidden_layers\n",
       "1               1                (nan, nan)\n",
       "                3                (nan, nan)\n",
       "4               1                (nan, nan)\n",
       "                3                (nan, nan)\n",
       "10              1                (nan, nan)\n",
       "                3                (nan, nan)\n",
       "dtype: object"
      ]
     },
     "execution_count": 27,
     "metadata": {},
     "output_type": "execute_result"
    }
   ],
   "source": [
    "from scipy import stats\n",
    "\n",
    "def fn(x):\n",
    "    #print(x)\n",
    "    return stats.norm.interval(0.95, loc=x.quality_score.mean(), scale=x.quality_score.std())\n",
    "psg.apply(fn)"
   ]
  },
  {
   "cell_type": "code",
   "execution_count": null,
   "metadata": {
    "collapsed": true
   },
   "outputs": [],
   "source": []
  },
  {
   "cell_type": "code",
   "execution_count": null,
   "metadata": {
    "collapsed": true
   },
   "outputs": [],
   "source": []
  },
  {
   "cell_type": "code",
   "execution_count": null,
   "metadata": {
    "collapsed": true
   },
   "outputs": [],
   "source": []
  }
 ],
 "metadata": {
  "_draft": {
   "nbviewer_url": "https://gist.github.com/7d1ace18a82178e15ece8fc5252fce88"
  },
  "anaconda-cloud": {},
  "gist": {
   "data": {
    "description": "Hyper parameter tuning",
    "public": false
   },
   "id": "7d1ace18a82178e15ece8fc5252fce88"
  },
  "kernelspec": {
   "display_name": "Python [conda env:p3]",
   "language": "python",
   "name": "conda-env-p3-py"
  },
  "language_info": {
   "codemirror_mode": {
    "name": "ipython",
    "version": 3
   },
   "file_extension": ".py",
   "mimetype": "text/x-python",
   "name": "python",
   "nbconvert_exporter": "python",
   "pygments_lexer": "ipython3",
   "version": "3.6.2"
  },
  "varInspector": {
   "cols": {
    "lenName": 16,
    "lenType": 16,
    "lenVar": 40
   },
   "kernels_config": {
    "python": {
     "delete_cmd_postfix": "",
     "delete_cmd_prefix": "del ",
     "library": "var_list.py",
     "varRefreshCmd": "print(var_dic_list())"
    },
    "r": {
     "delete_cmd_postfix": ") ",
     "delete_cmd_prefix": "rm(",
     "library": "var_list.r",
     "varRefreshCmd": "cat(var_dic_list()) "
    }
   },
   "types_to_exclude": [
    "module",
    "function",
    "builtin_function_or_method",
    "instance",
    "_Feature"
   ],
   "window_display": false
  }
 },
 "nbformat": 4,
 "nbformat_minor": 2
}
