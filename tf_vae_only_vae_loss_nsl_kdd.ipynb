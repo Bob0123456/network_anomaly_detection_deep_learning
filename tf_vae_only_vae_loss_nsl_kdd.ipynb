{
 "cells": [
  {
   "cell_type": "markdown",
   "metadata": {},
   "source": [
    "# Read Data Sample"
   ]
  },
  {
   "cell_type": "code",
   "execution_count": 1,
   "metadata": {
    "ExecuteTime": {
     "end_time": "2017-07-11T19:27:18.664079Z",
     "start_time": "2017-07-11T19:27:14.484760Z"
    },
    "collapsed": true
   },
   "outputs": [],
   "source": [
    "import pandas as pd\n",
    "import numpy as np\n",
    "import os\n",
    "from collections import namedtuple\n",
    "pd.set_option(\"display.max_rows\",35)\n",
    "%matplotlib inline"
   ]
  },
  {
   "cell_type": "code",
   "execution_count": 2,
   "metadata": {
    "ExecuteTime": {
     "end_time": "2017-07-11T19:27:18.744624Z",
     "start_time": "2017-07-11T19:27:18.665418Z"
    }
   },
   "outputs": [
    {
     "name": "stdout",
     "output_type": "stream",
     "text": [
      "{'20140122': {'y': 'dataset/Kyoto2016/2014/01/20140122_y.csv', 'x': 'dataset/Kyoto2016/2014/01/20140122_x.csv'}}\n",
      "----------------------------------------------------------------------------------------\n",
      "{'20150125': {'x': 'dataset/Kyoto2016/2015/01/20150125_x.csv', 'y': 'dataset/Kyoto2016/2015/01/20150125_y.csv'}, '20150101': {'y': 'dataset/Kyoto2016/2015/01/20150101_y.csv', 'x': 'dataset/Kyoto2016/2015/01/20150101_x.csv'}, '20150117': {'y': 'dataset/Kyoto2016/2015/01/20150117_y.csv', 'x': 'dataset/Kyoto2016/2015/01/20150117_x.csv'}, '20150105': {'y': 'dataset/Kyoto2016/2015/01/20150105_y.csv', 'x': 'dataset/Kyoto2016/2015/01/20150105_x.csv'}, '20150116': {'x': 'dataset/Kyoto2016/2015/01/20150116_x.csv', 'y': 'dataset/Kyoto2016/2015/01/20150116_y.csv'}, '20150131': {'x': 'dataset/Kyoto2016/2015/01/20150131_x.csv', 'y': 'dataset/Kyoto2016/2015/01/20150131_y.csv'}, '20150113': {'y': 'dataset/Kyoto2016/2015/01/20150113_y.csv', 'x': 'dataset/Kyoto2016/2015/01/20150113_x.csv'}, '20150118': {'y': 'dataset/Kyoto2016/2015/01/20150118_y.csv', 'x': 'dataset/Kyoto2016/2015/01/20150118_x.csv'}, '20150127': {'x': 'dataset/Kyoto2016/2015/01/20150127_x.csv', 'y': 'dataset/Kyoto2016/2015/01/20150127_y.csv'}, '20150110': {'y': 'dataset/Kyoto2016/2015/01/20150110_y.csv', 'x': 'dataset/Kyoto2016/2015/01/20150110_x.csv'}, '20150102': {'y': 'dataset/Kyoto2016/2015/01/20150102_y.csv', 'x': 'dataset/Kyoto2016/2015/01/20150102_x.csv'}, '20150130': {'y': 'dataset/Kyoto2016/2015/01/20150130_y.csv', 'x': 'dataset/Kyoto2016/2015/01/20150130_x.csv'}, '20150122': {'x': 'dataset/Kyoto2016/2015/01/20150122_x.csv', 'y': 'dataset/Kyoto2016/2015/01/20150122_y.csv'}, '20150120': {'x': 'dataset/Kyoto2016/2015/01/20150120_x.csv', 'y': 'dataset/Kyoto2016/2015/01/20150120_y.csv'}, '20150126': {'y': 'dataset/Kyoto2016/2015/01/20150126_y.csv', 'x': 'dataset/Kyoto2016/2015/01/20150126_x.csv'}, '20150109': {'y': 'dataset/Kyoto2016/2015/01/20150109_y.csv', 'x': 'dataset/Kyoto2016/2015/01/20150109_x.csv'}, '20150108': {'y': 'dataset/Kyoto2016/2015/01/20150108_y.csv', 'x': 'dataset/Kyoto2016/2015/01/20150108_x.csv'}, '20150123': {'x': 'dataset/Kyoto2016/2015/01/20150123_x.csv', 'y': 'dataset/Kyoto2016/2015/01/20150123_y.csv'}, '20150129': {'y': 'dataset/Kyoto2016/2015/01/20150129_y.csv', 'x': 'dataset/Kyoto2016/2015/01/20150129_x.csv'}, '20150115': {'y': 'dataset/Kyoto2016/2015/01/20150115_y.csv', 'x': 'dataset/Kyoto2016/2015/01/20150115_x.csv'}, '20150112': {'y': 'dataset/Kyoto2016/2015/01/20150112_y.csv', 'x': 'dataset/Kyoto2016/2015/01/20150112_x.csv'}, '20150107': {'x': 'dataset/Kyoto2016/2015/01/20150107_x.csv', 'y': 'dataset/Kyoto2016/2015/01/20150107_y.csv'}, '20150121': {'y': 'dataset/Kyoto2016/2015/01/20150121_y.csv', 'x': 'dataset/Kyoto2016/2015/01/20150121_x.csv'}, '20150111': {'x': 'dataset/Kyoto2016/2015/01/20150111_x.csv', 'y': 'dataset/Kyoto2016/2015/01/20150111_y.csv'}, '20150119': {'y': 'dataset/Kyoto2016/2015/01/20150119_y.csv', 'x': 'dataset/Kyoto2016/2015/01/20150119_x.csv'}, '20150104': {'x': 'dataset/Kyoto2016/2015/01/20150104_x.csv', 'y': 'dataset/Kyoto2016/2015/01/20150104_y.csv'}, '20150124': {'x': 'dataset/Kyoto2016/2015/01/20150124_x.csv', 'y': 'dataset/Kyoto2016/2015/01/20150124_y.csv'}, '20150114': {'y': 'dataset/Kyoto2016/2015/01/20150114_y.csv', 'x': 'dataset/Kyoto2016/2015/01/20150114_x.csv'}, '20150103': {'x': 'dataset/Kyoto2016/2015/01/20150103_x.csv', 'y': 'dataset/Kyoto2016/2015/01/20150103_y.csv'}, '20150106': {'x': 'dataset/Kyoto2016/2015/01/20150106_x.csv', 'y': 'dataset/Kyoto2016/2015/01/20150106_y.csv'}, '20150128': {'y': 'dataset/Kyoto2016/2015/01/20150128_y.csv', 'x': 'dataset/Kyoto2016/2015/01/20150128_x.csv'}}\n"
     ]
    }
   ],
   "source": [
    "\n",
    "class preprocess:\n",
    "    \n",
    "    paths = {}\n",
    "\n",
    "    def get_files(folder_path):\n",
    "        paths = {}\n",
    "        for path, subdirs, files in os.walk(folder_path):\n",
    "            for name in files:\n",
    "                if name.endswith(\"csv\"):\n",
    "                    key = name.split(\"_\")[0]\n",
    "\n",
    "                    if paths.get(key) is None:\n",
    "                        paths[key] = {}\n",
    "\n",
    "                    if name.endswith(\"_x.csv\"):\n",
    "                        x = os.path.join(path, name)\n",
    "                        paths[key]['x'] = x\n",
    "                    elif name.endswith(\"_y.csv\"):\n",
    "                        y = os.path.join(path, name)\n",
    "                        paths[key]['y'] = y\n",
    "        preprocess.paths = paths\n",
    "        return paths\n",
    "\n",
    "    def get_data(paths):\n",
    "        for key, value in paths.items():\n",
    "            x = pd.read_csv(value['x'])\n",
    "            y = pd.read_csv(value['y'])\n",
    "            #print(x.shape)\n",
    "            #print(x.values.shape)\n",
    "            #print(y.sum())\n",
    "            yield key, x.values, y.values\n",
    "        \n",
    "        \n",
    "    \n",
    "    \n",
    "train_paths = preprocess.get_files(\"dataset/Kyoto2016/2014/01\")\n",
    "test_paths = preprocess.get_files(\"dataset/Kyoto2016/2015/01\")\n",
    "\n",
    "print(train_paths)\n",
    "print(\"----------------------------------------------------------------------------------------\")\n",
    "#test_paths = test_paths.popitem()\n",
    "#test_paths = {test_paths[0]: test_paths[1]}\n",
    "print(test_paths)\n",
    "\n",
    "    "
   ]
  },
  {
   "cell_type": "code",
   "execution_count": 3,
   "metadata": {
    "ExecuteTime": {
     "end_time": "2017-07-11T19:27:27.762232Z",
     "start_time": "2017-07-11T19:27:18.746874Z"
    },
    "collapsed": true
   },
   "outputs": [],
   "source": [
    "import tensorflow as tf\n",
    "from sklearn import model_selection as ms\n",
    "from sklearn import metrics as me"
   ]
  },
  {
   "cell_type": "code",
   "execution_count": 4,
   "metadata": {
    "ExecuteTime": {
     "end_time": "2017-07-11T19:27:28.180575Z",
     "start_time": "2017-07-11T19:27:27.763831Z"
    },
    "collapsed": true
   },
   "outputs": [],
   "source": [
    "class network(object):\n",
    "    \n",
    "    input_dim = 42\n",
    "    classes = 2\n",
    "    hidden_encoder_dim = 42\n",
    "    hidden_layers = 1\n",
    "    latent_dim = 10\n",
    "\n",
    "    hidden_decoder_dim = 42\n",
    "    lam = 0.01\n",
    "    \n",
    "    def __init__(self, classes, hidden_layers, num_of_features):\n",
    "        self.classes = classes\n",
    "        self.hidden_layers = hidden_layers\n",
    "        self.latent_dim = num_of_features\n",
    "            \n",
    "    def build_layers(self):\n",
    "        tf.reset_default_graph()\n",
    "        #learning_rate = tf.Variable(initial_value=0.001)\n",
    "\n",
    "        input_dim = self.input_dim\n",
    "        classes = self.classes\n",
    "        hidden_encoder_dim = self.hidden_encoder_dim\n",
    "        hidden_layers = self.hidden_layers\n",
    "        latent_dim = self.latent_dim\n",
    "        hidden_decoder_dim = self.hidden_decoder_dim\n",
    "        lam = self.lam\n",
    "        \n",
    "        with tf.variable_scope(\"Input\"):\n",
    "            self.x = tf.placeholder(\"float\", shape=[None, input_dim])\n",
    "            self.y_ = tf.placeholder(\"float\", shape=[None, classes])\n",
    "            self.keep_prob = tf.placeholder(\"float\")\n",
    "            self.lr = tf.placeholder(\"float\")\n",
    "        \n",
    "        with tf.variable_scope(\"Layer_Encoder\"):\n",
    "\n",
    "            hidden_encoder = tf.layers.dense(self.x, hidden_encoder_dim, activation = tf.nn.relu, kernel_regularizer=tf.nn.l2_loss)\n",
    "            hidden_encoder = tf.nn.dropout(hidden_encoder, self.keep_prob)\n",
    "            for h in range(hidden_layers - 1):\n",
    "                hidden_encoder = tf.layers.dense(hidden_encoder, hidden_encoder_dim, activation = tf.nn.relu, kernel_regularizer=tf.nn.l2_loss)\n",
    "                hidden_encoder = tf.nn.dropout(hidden_encoder, self.keep_prob)\n",
    "                \n",
    "        with tf.variable_scope(\"Layer_Mean\"):\n",
    "            mu_encoder = tf.layers.dense(hidden_encoder, latent_dim, activation = None, kernel_regularizer=tf.nn.l2_loss)\n",
    "\n",
    "        with tf.variable_scope(\"Layer_Variance\"):\n",
    "            logvar_encoder = tf.layers.dense(hidden_encoder, latent_dim, activation = None, kernel_regularizer=tf.nn.l2_loss)\n",
    "\n",
    "        with tf.variable_scope(\"Sampling_Distribution\"):\n",
    "            # Sample epsilon\n",
    "            epsilon = tf.random_normal(tf.shape(logvar_encoder), mean=0, stddev=1, name='epsilon')\n",
    "\n",
    "            # Sample latent variable\n",
    "            std_encoder = tf.exp(0.5 * logvar_encoder)\n",
    "            z = mu_encoder + tf.multiply(std_encoder, epsilon)\n",
    "            \n",
    "            #tf.summary.histogram(\"Sample_Distribution\", z)\n",
    "\n",
    "        with tf.variable_scope(\"Layer_Decoder\"):\n",
    "            hidden_decoder = tf.layers.dense(z, hidden_decoder_dim, activation = tf.nn.relu, kernel_regularizer=tf.nn.l2_loss)\n",
    "            hidden_decoder = tf.nn.dropout(hidden_decoder, self.keep_prob)\n",
    "            for h in range(hidden_layers - 1):\n",
    "                hidden_decoder = tf.layers.dense(hidden_decoder, hidden_decoder_dim, activation = tf.nn.relu, kernel_regularizer=tf.nn.l2_loss)\n",
    "                hidden_decoder = tf.nn.dropout(hidden_decoder, self.keep_prob)\n",
    "                \n",
    "        with tf.variable_scope(\"Layer_Reconstruction\"):\n",
    "            self.x_hat = tf.layers.dense(hidden_decoder, input_dim, activation = None)\n",
    "            \n",
    "            self.y = tf.slice(self.x_hat, [0,input_dim-2], [-1,-1])\n",
    "\n",
    "        with tf.variable_scope(\"Loss\"):\n",
    "            \n",
    "            BCE = tf.reduce_mean(tf.nn.sigmoid_cross_entropy_with_logits(logits=self.x_hat, labels=self.x), reduction_indices=1)\n",
    "            KLD = -0.5 * tf.reduce_mean(1 + logvar_encoder - tf.pow(mu_encoder, 2) - tf.exp(logvar_encoder), reduction_indices=1)\n",
    "            softmax_loss = tf.reduce_mean(tf.nn.softmax_cross_entropy_with_logits(labels = self.y_, logits = self.y))\n",
    "\n",
    "            loss = tf.reduce_mean((BCE + KLD + softmax_loss) * lam)\n",
    "\n",
    "            #loss = tf.clip_by_value(loss, -1e-2, 1e-2)\n",
    "            #loss = tf.where(tf.is_nan(loss), 1e-2, loss)\n",
    "            #loss = tf.where(tf.equal(loss, -1e-2), tf.random_normal(loss.shape), loss)\n",
    "            #loss = tf.where(tf.equal(loss, 1e-2), tf.random_normal(loss.shape), loss)\n",
    "            \n",
    "            self.regularized_loss = tf.abs(loss, name = \"Regularized_loss\")\n",
    "            correct_prediction = tf.equal(tf.argmax(self.y_, 1), tf.argmax(self.y, 1))\n",
    "            self.tf_accuracy = tf.reduce_mean(tf.cast(correct_prediction, tf.float32), name = \"Accuracy\")\n",
    "\n",
    "        with tf.variable_scope(\"Optimizer\"):\n",
    "            learning_rate=self.lr\n",
    "            optimizer = tf.train.AdamOptimizer(learning_rate)\n",
    "            gradients, variables = zip(*optimizer.compute_gradients(self.regularized_loss))\n",
    "            gradients = [\n",
    "                None if gradient is None else tf.clip_by_value(gradient, -1, 1)\n",
    "                for gradient in gradients]\n",
    "            self.train_op = optimizer.apply_gradients(zip(gradients, variables))\n",
    "            #self.train_op = optimizer.minimize(self.regularized_loss)\n",
    "            \n",
    "            \n",
    "        # add op for merging summary\n",
    "        #self.summary_op = tf.summary.merge_all()\n",
    "        self.pred = tf.argmax(self.y, axis = 1)\n",
    "        self.actual = tf.argmax(self.y_, axis = 1)\n",
    "\n",
    "        # add Saver ops\n",
    "        self.saver = tf.train.Saver()\n",
    "        "
   ]
  },
  {
   "cell_type": "code",
   "execution_count": 9,
   "metadata": {
    "ExecuteTime": {
     "end_time": "2017-07-11T19:28:25.898609Z",
     "start_time": "2017-07-11T19:28:25.611470Z"
    },
    "collapsed": true,
    "scrolled": false
   },
   "outputs": [],
   "source": [
    "import collections\n",
    "import time\n",
    "\n",
    "class Train:    \n",
    "    \n",
    "    result = namedtuple(\"score\", ['key', 'no_of_features','hidden_layers','train_score', 'test_score', 'f1_score', 'time_taken'])\n",
    "\n",
    "    predictions = {}\n",
    "\n",
    "    results = []\n",
    "    best_acc = 0\n",
    "    best_acc_global = 0\n",
    "\n",
    "    def train(epochs, net, h,f, lrs):\n",
    "        batch_iterations = 200\n",
    "        train_loss = None\n",
    "        Train.best_acc = 0\n",
    "        os.makedirs(\"dataset/tf_vae_only_vae_loss_nsl_kdd/hidden layers_{}_features count_{}\".format(epochs,h,f),\n",
    "                    exist_ok = True)\n",
    "        with tf.Session() as sess:\n",
    "            #summary_writer_train = tf.summary.FileWriter('./logs/kdd/VAE/training', graph=sess.graph)\n",
    "            #summary_writer_valid = tf.summary.FileWriter('./logs/kdd/VAE/validation')\n",
    "\n",
    "            sess.run(tf.global_variables_initializer())\n",
    "            start_time = time.perf_counter()\n",
    "            for lr in lrs:\n",
    "                for epoch in range(1, (epochs+1)):\n",
    "                    #print(\"Step {} | Training Loss:\".format(epoch), end = \" \" )\n",
    "                    for key, x_train, y_train in preprocess.get_data(train_paths):\n",
    "                        x_train, x_valid, y_train, y_valid, = ms.train_test_split(x_train, \n",
    "                                                                                  y_train, \n",
    "                                                                                  test_size=0.1)\n",
    "                        batch_indices = np.array_split(np.arange(x_train.shape[0]), \n",
    "                                                   batch_iterations)\n",
    "\n",
    "                        for i in batch_indices:\n",
    "\n",
    "                            def train_batch():\n",
    "                                nonlocal train_loss\n",
    "                                _, train_loss = sess.run([net.train_op, \n",
    "                                                           net.regularized_loss, \n",
    "                                                           ], #net.summary_op\n",
    "                                                          feed_dict={net.x: x_train[i,:], \n",
    "                                                                     net.y_: y_train[i,:], \n",
    "                                                                     net.keep_prob:1, net.lr:lr})\n",
    "                            train_batch()\n",
    "\n",
    "                            count = 10\n",
    "                            while((train_loss > 1e4 or np.isnan(train_loss)) and epoch > 1 and count > 1):\n",
    "                                print(\"Step {} | High Training Loss: {:.6f} ... Restoring Net\".format(epoch, train_loss))\n",
    "                                net.saver.restore(sess, \n",
    "                                                  tf.train.latest_checkpoint('dataset/tf_vae_only_vae_loss_nsl_kdd/hidden layers_{}_features count_{}'\n",
    "                                                                             .format(epochs,h,f)))\n",
    "                                train_batch()\n",
    "                                count -=1\n",
    "\n",
    "                            #summary_writer_train.add_summary(summary_str, epoch)\n",
    "                            #if(train_loss > 1e9):\n",
    "\n",
    "                            #print(\"{:.6f}\".format(train_loss), end = \", \" )\n",
    "\n",
    "                        #print(\"\")\n",
    "                        valid_loss, valid_accuracy = sess.run([net.regularized_loss, net.tf_accuracy], feed_dict={net.x: x_valid, \n",
    "                                                                             net.y_: y_valid, \n",
    "                                                                             net.keep_prob:1, net.lr:lr})\n",
    "\n",
    "                    for key, x_test, y_test in preprocess.get_data(test_paths):\n",
    "\n",
    "                        accuracy, test_loss, pred_value, actual_value, y_pred = sess.run([net.tf_accuracy, net.regularized_loss, \n",
    "                                                                       net.pred, \n",
    "                                                                       net.actual, net.y], \n",
    "                                                                      feed_dict={net.x: x_test, \n",
    "                                                                                 net.y_: y_test, \n",
    "                                                                                 net.keep_prob:1, net.lr:lr})\n",
    "                        f1_score = me.f1_score(actual_value, pred_value)\n",
    "                        recall = me.recall_score(actual_value, pred_value)\n",
    "                        prec = me.precision_score(actual_value, pred_value)\n",
    "                        print(\"Key {} | Training Loss: {:.6f} | Train Accuracy: {:.6f} | Test Accuracy: {:.6f}, f1_score: {}\".format(key, train_loss, valid_accuracy, accuracy, f1_score))\n",
    "                       \n",
    "\n",
    "                        if accuracy > Train.best_acc_global:\n",
    "                            Train.best_acc_global = accuracy\n",
    "\n",
    "                            Train.pred_value = pred_value\n",
    "                            Train.actual_value = actual_value\n",
    "\n",
    "                            Train.best_parameters = \"Hidden Layers:{}, Features Count:{}\".format(h, f)\n",
    "\n",
    "                        if accuracy > Train.best_acc:\n",
    "\n",
    "                            #net.saver.save(sess, \"dataset/tf_vae_only_vae_loss_nsl_kdd_hidden layers_{}_features count_{}\".format(epochs,h,f))\n",
    "                            #Train.results.append(Train.result(epochs, f, h,valid_accuracy, accuracy))\n",
    "                            #curr_pred = pd.DataFrame({\"Attack_prob\":y_pred[:,-2], \"Normal_prob\":y_pred[:, -1]})\n",
    "                            #Train.predictions.update({\"{}_{}_{}\".format(epochs,f,h):curr_pred})\n",
    "                            Train.best_acc = accuracy\n",
    "\n",
    "                            if(not np.isnan(train_loss)):\n",
    "                                net.saver.save(sess, \n",
    "                                           \"dataset/tf_vae_only_vae_loss_nsl_kdd/hidden layers_{}_features count_{}/model\"\n",
    "                                           .format(epochs,h,f), \n",
    "                                           global_step = epoch, \n",
    "                                           write_meta_graph=False)\n",
    "\n",
    "                            curr_pred = pd.DataFrame({\"Attack_prob\":y_pred[:,-2], \"Normal_prob\":y_pred[:, -1], \"Prediction\":pred_value})\n",
    "                            Train.predictions.update({\"{}_{}_{}\".format(key,f,h):\n",
    "                                                      (curr_pred, \n",
    "                                                       Train.result(key, f, h,valid_accuracy, accuracy, f1_score, time.perf_counter() - start_time))})\n",
    "\n"
   ]
  },
  {
   "cell_type": "code",
   "execution_count": null,
   "metadata": {
    "ExecuteTime": {
     "start_time": "2017-07-11T19:28:27.245Z"
    },
    "scrolled": true
   },
   "outputs": [
    {
     "name": "stdout",
     "output_type": "stream",
     "text": [
      "Current Layer Attributes - epochs:1 hidden layers:2 features count:4\n"
     ]
    },
    {
     "name": "stderr",
     "output_type": "stream",
     "text": [
      "/home/ritesh_malaiya/anaconda3/envs/p3/lib/python3.6/site-packages/sklearn/metrics/classification.py:1113: UndefinedMetricWarning: F-score is ill-defined and being set to 0.0 due to no predicted samples.\n",
      "  'precision', 'predicted', average, warn_for)\n",
      "/home/ritesh_malaiya/anaconda3/envs/p3/lib/python3.6/site-packages/sklearn/metrics/classification.py:1113: UndefinedMetricWarning: Precision is ill-defined and being set to 0.0 due to no predicted samples.\n",
      "  'precision', 'predicted', average, warn_for)\n"
     ]
    },
    {
     "name": "stdout",
     "output_type": "stream",
     "text": [
      "Key 20150125 | Training Loss: 0.000327 | Train Accuracy: 0.995225 | Test Accuracy: 0.952628, f1_score: 0.0\n",
      "Key 20150101 | Training Loss: 0.000327 | Train Accuracy: 0.995225 | Test Accuracy: 0.891119, f1_score: 0.0\n",
      "Key 20150117 | Training Loss: 0.000327 | Train Accuracy: 0.995225 | Test Accuracy: 0.898690, f1_score: 0.0\n",
      "Key 20150105 | Training Loss: 0.000327 | Train Accuracy: 0.995225 | Test Accuracy: 0.742004, f1_score: 0.0\n",
      "Key 20150116 | Training Loss: 0.000327 | Train Accuracy: 0.995225 | Test Accuracy: 0.927179, f1_score: 0.0\n",
      "Key 20150131 | Training Loss: 0.000327 | Train Accuracy: 0.995225 | Test Accuracy: 0.983223, f1_score: 0.0\n",
      "Key 20150113 | Training Loss: 0.000327 | Train Accuracy: 0.995225 | Test Accuracy: 0.890137, f1_score: 0.0\n",
      "Key 20150118 | Training Loss: 0.000327 | Train Accuracy: 0.995225 | Test Accuracy: 0.934339, f1_score: 0.0\n",
      "Key 20150127 | Training Loss: 0.000327 | Train Accuracy: 0.995225 | Test Accuracy: 0.967819, f1_score: 0.0\n",
      "Key 20150110 | Training Loss: 0.000327 | Train Accuracy: 0.995225 | Test Accuracy: 0.874873, f1_score: 0.0\n",
      "Key 20150102 | Training Loss: 0.000327 | Train Accuracy: 0.995225 | Test Accuracy: 0.942392, f1_score: 0.0\n",
      "Key 20150130 | Training Loss: 0.000327 | Train Accuracy: 0.995225 | Test Accuracy: 0.920748, f1_score: 0.0\n",
      "Key 20150122 | Training Loss: 0.000327 | Train Accuracy: 0.995225 | Test Accuracy: 0.944436, f1_score: 0.0\n",
      "Key 20150120 | Training Loss: 0.000327 | Train Accuracy: 0.995225 | Test Accuracy: 0.907065, f1_score: 0.0\n",
      "Key 20150126 | Training Loss: 0.000327 | Train Accuracy: 0.995225 | Test Accuracy: 0.917356, f1_score: 0.0\n",
      "Key 20150109 | Training Loss: 0.000327 | Train Accuracy: 0.995225 | Test Accuracy: 0.897748, f1_score: 0.0\n",
      "Key 20150108 | Training Loss: 0.000327 | Train Accuracy: 0.995225 | Test Accuracy: 0.955788, f1_score: 0.0\n",
      "Key 20150123 | Training Loss: 0.000327 | Train Accuracy: 0.995225 | Test Accuracy: 0.893415, f1_score: 0.0\n",
      "Key 20150129 | Training Loss: 0.000327 | Train Accuracy: 0.995225 | Test Accuracy: 0.979047, f1_score: 0.0\n",
      "Key 20150115 | Training Loss: 0.000327 | Train Accuracy: 0.995225 | Test Accuracy: 0.882384, f1_score: 0.0\n",
      "Key 20150112 | Training Loss: 0.000327 | Train Accuracy: 0.995225 | Test Accuracy: 0.950072, f1_score: 0.0\n",
      "Key 20150107 | Training Loss: 0.000327 | Train Accuracy: 0.995225 | Test Accuracy: 0.882208, f1_score: 0.0\n",
      "Key 20150121 | Training Loss: 0.000327 | Train Accuracy: 0.995225 | Test Accuracy: 0.935749, f1_score: 0.0\n",
      "Key 20150111 | Training Loss: 0.000327 | Train Accuracy: 0.995225 | Test Accuracy: 0.921546, f1_score: 0.0\n",
      "Key 20150119 | Training Loss: 0.000327 | Train Accuracy: 0.995225 | Test Accuracy: 0.901875, f1_score: 0.0\n",
      "Key 20150104 | Training Loss: 0.000327 | Train Accuracy: 0.995225 | Test Accuracy: 0.790937, f1_score: 0.0\n",
      "Key 20150124 | Training Loss: 0.000327 | Train Accuracy: 0.995225 | Test Accuracy: 0.965083, f1_score: 0.0\n",
      "Key 20150114 | Training Loss: 0.000327 | Train Accuracy: 0.995225 | Test Accuracy: 0.930138, f1_score: 0.0\n",
      "Key 20150103 | Training Loss: 0.000327 | Train Accuracy: 0.995225 | Test Accuracy: 0.954861, f1_score: 0.0\n",
      "Key 20150106 | Training Loss: 0.000327 | Train Accuracy: 0.995225 | Test Accuracy: 0.935573, f1_score: 0.0\n",
      "Key 20150128 | Training Loss: 0.000327 | Train Accuracy: 0.995225 | Test Accuracy: 0.969660, f1_score: 0.0\n",
      "Current Layer Attributes - epochs:1 hidden layers:2 features count:8\n",
      "Key 20150125 | Training Loss: 0.000230 | Train Accuracy: 0.994718 | Test Accuracy: 0.952628, f1_score: 0.0\n",
      "Key 20150101 | Training Loss: 0.000230 | Train Accuracy: 0.994718 | Test Accuracy: 0.891119, f1_score: 0.0\n"
     ]
    }
   ],
   "source": [
    "import itertools\n",
    "class Hyperparameters:\n",
    "#    features_arr = [2, 4, 8, 16, 32, 64, 128, 256]\n",
    "#    hidden_layers_arr = [2, 4, 6, 10]\n",
    "    features_arr = [4, 8, 16, 32]\n",
    "    hidden_layers_arr = [2, 4, 6]\n",
    "\n",
    "    epochs = [1]\n",
    "    lrs = [1e-2]\n",
    "    for e, h, f in itertools.product(epochs, hidden_layers_arr, features_arr):\n",
    "        print(\"Current Layer Attributes - epochs:{} hidden layers:{} features count:{}\".format(e,h,f))\n",
    "        n = network(2,h,f)\n",
    "        n.build_layers()\n",
    "        Train.train(e, n, h,f, lrs)\n",
    "        "
   ]
  },
  {
   "cell_type": "code",
   "execution_count": null,
   "metadata": {
    "ExecuteTime": {
     "end_time": "2017-07-11T19:28:08.329441Z",
     "start_time": "2017-07-11T19:28:01.453Z"
    },
    "collapsed": true
   },
   "outputs": [],
   "source": [
    "dict1 = {}\n",
    "dict2 = []\n",
    "for k, (v1, v2) in Train.predictions.items():\n",
    "    dict1.update({k: v1})\n",
    "    dict2.append(v2)\n",
    "    "
   ]
  },
  {
   "cell_type": "code",
   "execution_count": null,
   "metadata": {
    "ExecuteTime": {
     "end_time": "2017-07-11T19:28:08.330265Z",
     "start_time": "2017-07-11T19:28:01.643Z"
    },
    "collapsed": true
   },
   "outputs": [],
   "source": [
    "Train.predictions = dict1\n",
    "Train.results = dict2"
   ]
  },
  {
   "cell_type": "code",
   "execution_count": null,
   "metadata": {
    "ExecuteTime": {
     "end_time": "2017-07-11T19:28:08.331130Z",
     "start_time": "2017-07-11T19:28:01.801Z"
    },
    "collapsed": true
   },
   "outputs": [],
   "source": [
    "df_results = pd.DataFrame(Train.results)"
   ]
  },
  {
   "cell_type": "code",
   "execution_count": null,
   "metadata": {
    "ExecuteTime": {
     "end_time": "2017-07-11T19:28:08.332002Z",
     "start_time": "2017-07-11T19:28:01.960Z"
    }
   },
   "outputs": [],
   "source": [
    "df_results.sort_values(by = 'test_score', ascending = False)"
   ]
  },
  {
   "cell_type": "code",
   "execution_count": null,
   "metadata": {
    "ExecuteTime": {
     "end_time": "2017-07-11T19:28:08.332954Z",
     "start_time": "2017-07-11T19:28:02.113Z"
    },
    "collapsed": true
   },
   "outputs": [],
   "source": [
    "pd.Panel(Train.predictions).to_pickle(\"dataset/tf_vae_only_vae_loss_nsl_kdd_predictions.pkl\")\n",
    "df_results.to_pickle(\"dataset/tf_vae_only_vae_loss_nsl_kdd_scores.pkl\")"
   ]
  },
  {
   "cell_type": "code",
   "execution_count": null,
   "metadata": {
    "ExecuteTime": {
     "end_time": "2017-07-11T19:28:08.333723Z",
     "start_time": "2017-07-11T19:28:02.264Z"
    },
    "collapsed": true
   },
   "outputs": [],
   "source": [
    "import numpy as np\n",
    "import matplotlib.pyplot as plt\n",
    "import itertools\n",
    "\n",
    "def plot_confusion_matrix(cm, classes,\n",
    "                          normalize=False,\n",
    "                          title='Confusion matrix',\n",
    "                          cmap=plt.cm.Blues):\n",
    "    \"\"\"\n",
    "    This function prints and plots the confusion matrix.\n",
    "    Normalization can be applied by setting `normalize=True`.\n",
    "    \"\"\"\n",
    "    np.set_printoptions(precision=4)\n",
    "\n",
    "    plt.imshow(cm, interpolation='nearest', cmap=cmap)\n",
    "    plt.title(title)\n",
    "    plt.colorbar()\n",
    "    tick_marks = np.arange(len(classes))\n",
    "    plt.xticks(tick_marks, classes, rotation=45)\n",
    "    plt.yticks(tick_marks, classes)\n",
    "\n",
    "    if normalize:\n",
    "        cm = cm.astype('float') / cm.sum(axis=1)[:, np.newaxis]\n",
    "        print(\"Normalized confusion matrix\")\n",
    "    else:\n",
    "        print('Confusion matrix, without normalization')\n",
    "\n",
    "    print(cm)\n",
    "\n",
    "    thresh = cm.max() / 2.\n",
    "    for i, j in itertools.product(range(cm.shape[0]), range(cm.shape[1])):\n",
    "        plt.text(j, i, cm[i, j].round(4),\n",
    "                 horizontalalignment=\"center\",\n",
    "                 color=\"white\" if cm[i, j] > thresh else \"black\")\n",
    "\n",
    "    plt.tight_layout()\n",
    "    plt.ylabel('True label')\n",
    "    plt.xlabel('Predicted label')\n",
    "\n",
    "def plot(actual_value, pred_value):\n",
    "    from sklearn.metrics import confusion_matrix\n",
    "    cm_2labels = confusion_matrix(y_pred = pred_value, y_true = actual_value)\n",
    "    plt.figure(figsize=[6,6])\n",
    "    plot_confusion_matrix(cm_2labels, preprocess.output_columns_2labels, normalize = True,\n",
    "                         title = Train.best_parameters)"
   ]
  },
  {
   "cell_type": "code",
   "execution_count": null,
   "metadata": {
    "ExecuteTime": {
     "end_time": "2017-07-11T19:28:08.334655Z",
     "start_time": "2017-07-11T19:28:02.400Z"
    }
   },
   "outputs": [],
   "source": [
    "plot(actual_value = Train.actual_value, pred_value = Train.pred_value)"
   ]
  },
  {
   "cell_type": "code",
   "execution_count": null,
   "metadata": {
    "collapsed": true
   },
   "outputs": [],
   "source": []
  }
 ],
 "metadata": {
  "_draft": {
   "nbviewer_url": "https://gist.github.com/7d1ace18a82178e15ece8fc5252fce88"
  },
  "anaconda-cloud": {},
  "gist": {
   "data": {
    "description": "Hyper parameter tuning",
    "public": false
   },
   "id": "7d1ace18a82178e15ece8fc5252fce88"
  },
  "kernelspec": {
   "display_name": "Python [conda env:p3]",
   "language": "python",
   "name": "conda-env-p3-py"
  },
  "language_info": {
   "codemirror_mode": {
    "name": "ipython",
    "version": 3
   },
   "file_extension": ".py",
   "mimetype": "text/x-python",
   "name": "python",
   "nbconvert_exporter": "python",
   "pygments_lexer": "ipython3",
   "version": "3.6.1"
  }
 },
 "nbformat": 4,
 "nbformat_minor": 2
}
