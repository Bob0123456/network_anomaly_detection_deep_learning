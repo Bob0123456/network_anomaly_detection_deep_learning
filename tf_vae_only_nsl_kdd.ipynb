{
 "cells": [
  {
   "cell_type": "markdown",
   "metadata": {},
   "source": [
    "# Read Data Sample"
   ]
  },
  {
   "cell_type": "code",
   "execution_count": 1,
   "metadata": {
    "ExecuteTime": {
     "end_time": "2017-05-13T14:36:01.760663Z",
     "start_time": "2017-05-13T14:36:01.360159Z"
    },
    "collapsed": true
   },
   "outputs": [],
   "source": [
    "import pandas as pd\n",
    "import numpy as np\n",
    "from collections import namedtuple\n",
    "pd.set_option(\"display.max_rows\",35)\n",
    "%matplotlib inline"
   ]
  },
  {
   "cell_type": "code",
   "execution_count": 2,
   "metadata": {
    "ExecuteTime": {
     "end_time": "2017-05-13T14:36:01.928481Z",
     "start_time": "2017-05-13T14:36:01.762114Z"
    },
    "collapsed": true
   },
   "outputs": [],
   "source": [
    "class dataset:\n",
    "    kdd_train_2labels = pd.read_pickle(\"dataset/kdd_train_2labels.pkl\")\n",
    "    kdd_test_2labels = pd.read_pickle(\"dataset/kdd_test_2labels.pkl\")\n",
    "    \n",
    "    kdd_train_5labels = pd.read_pickle(\"dataset/kdd_train_5labels.pkl\")\n",
    "    kdd_test_5labels = pd.read_pickle(\"dataset/kdd_test_5labels.pkl\")\n",
    "    "
   ]
  },
  {
   "cell_type": "code",
   "execution_count": 3,
   "metadata": {
    "ExecuteTime": {
     "end_time": "2017-05-13T14:36:01.934454Z",
     "start_time": "2017-05-13T14:36:01.930012Z"
    }
   },
   "outputs": [
    {
     "data": {
      "text/plain": [
       "(125973, 124)"
      ]
     },
     "execution_count": 3,
     "metadata": {},
     "output_type": "execute_result"
    }
   ],
   "source": [
    "dataset.kdd_train_2labels.shape"
   ]
  },
  {
   "cell_type": "code",
   "execution_count": 4,
   "metadata": {
    "ExecuteTime": {
     "end_time": "2017-05-13T14:36:01.942426Z",
     "start_time": "2017-05-13T14:36:01.935737Z"
    }
   },
   "outputs": [
    {
     "data": {
      "text/plain": [
       "(22544, 124)"
      ]
     },
     "execution_count": 4,
     "metadata": {},
     "output_type": "execute_result"
    }
   ],
   "source": [
    "dataset.kdd_test_2labels.shape"
   ]
  },
  {
   "cell_type": "code",
   "execution_count": 5,
   "metadata": {
    "ExecuteTime": {
     "end_time": "2017-05-13T14:36:02.633991Z",
     "start_time": "2017-05-13T14:36:01.943863Z"
    }
   },
   "outputs": [
    {
     "data": {
      "text/plain": [
       "(125973, 124)"
      ]
     },
     "execution_count": 5,
     "metadata": {},
     "output_type": "execute_result"
    }
   ],
   "source": [
    "from sklearn import model_selection as ms\n",
    "from sklearn import preprocessing as pp\n",
    "\n",
    "class preprocess:\n",
    "    \n",
    "    output_columns_2labels = ['is_Attack','is_Normal']\n",
    "    \n",
    "    x_train_input = dataset.kdd_train_2labels.drop(output_columns_2labels, axis = 1)\n",
    "    y_output = dataset.kdd_train_2labels.loc[:,output_columns_2labels]\n",
    "    y_train = y_output.values\n",
    "\n",
    "    x_test_input = dataset.kdd_test_2labels.drop(output_columns_2labels, axis = 1)\n",
    "    y_test = dataset.kdd_test_2labels.loc[:,output_columns_2labels]\n",
    "    y_test = y_test.values\n",
    "    \n",
    "    ss = pp.StandardScaler()\n",
    "\n",
    "    x_train_input = np.hstack([x_train_input, y_train])\n",
    "    x_test_input = np.hstack([x_test_input, y_test])\n",
    "    \n",
    "    x_train = ss.fit_transform(x_train_input)\n",
    "    x_test = ss.transform(x_test_input)\n",
    "\n",
    "    #x_train = np.hstack([x_train, y_train])\n",
    "    #x_test = np.hstack([x_test, y_test])\n",
    "    \n",
    "   \n",
    "\n",
    "    \n",
    "preprocess.x_train.shape"
   ]
  },
  {
   "cell_type": "code",
   "execution_count": 6,
   "metadata": {
    "ExecuteTime": {
     "end_time": "2017-05-13T14:36:03.692495Z",
     "start_time": "2017-05-13T14:36:02.635382Z"
    },
    "collapsed": true
   },
   "outputs": [],
   "source": [
    "import tensorflow as tf\n"
   ]
  },
  {
   "cell_type": "code",
   "execution_count": 7,
   "metadata": {
    "ExecuteTime": {
     "end_time": "2017-05-13T14:36:04.131490Z",
     "start_time": "2017-05-13T14:36:03.694093Z"
    },
    "collapsed": true
   },
   "outputs": [],
   "source": [
    "class network(object):\n",
    "    \n",
    "    input_dim = 124\n",
    "    classes = 2\n",
    "    hidden_encoder_dim = 124\n",
    "    hidden_layers = 1\n",
    "    latent_dim = 10\n",
    "\n",
    "    hidden_decoder_dim = 124\n",
    "    lam = 0.01\n",
    "    \n",
    "    def __init__(self, classes, hidden_layers, num_of_features):\n",
    "        self.classes = classes\n",
    "        self.hidden_layers = hidden_layers\n",
    "        self.latent_dim = num_of_features\n",
    "            \n",
    "    def build_layers(self):\n",
    "        tf.reset_default_graph()\n",
    "        #learning_rate = tf.Variable(initial_value=0.001)\n",
    "\n",
    "        input_dim = self.input_dim\n",
    "        classes = self.classes\n",
    "        hidden_encoder_dim = self.hidden_encoder_dim\n",
    "        hidden_layers = self.hidden_layers\n",
    "        latent_dim = self.latent_dim\n",
    "        hidden_decoder_dim = self.hidden_decoder_dim\n",
    "        lam = self.lam\n",
    "        \n",
    "        with tf.variable_scope(\"Input\"):\n",
    "            self.x = tf.placeholder(\"float\", shape=[None, input_dim])\n",
    "            self.y_ = tf.placeholder(\"float\", shape=[None, classes])\n",
    "            self.keep_prob = tf.placeholder(\"float\")\n",
    "        \n",
    "        with tf.variable_scope(\"Layer_Encoder\"):\n",
    "\n",
    "            hidden_encoder = tf.layers.dense(self.x, hidden_encoder_dim, activation = tf.nn.relu, kernel_regularizer=tf.nn.l2_loss)\n",
    "            hidden_encoder = tf.nn.dropout(hidden_encoder, self.keep_prob)\n",
    "            for h in range(hidden_layers - 1):\n",
    "                hidden_encoder = tf.layers.dense(hidden_encoder, hidden_encoder_dim, activation = tf.nn.relu, kernel_regularizer=tf.nn.l2_loss)\n",
    "                hidden_encoder = tf.nn.dropout(hidden_encoder, self.keep_prob)\n",
    "                \n",
    "        with tf.variable_scope(\"Layer_Mean\"):\n",
    "            mu_encoder = tf.layers.dense(hidden_encoder, latent_dim, activation = None, kernel_regularizer=tf.nn.l2_loss)\n",
    "\n",
    "        with tf.variable_scope(\"Layer_Variance\"):\n",
    "            logvar_encoder = tf.layers.dense(hidden_encoder, latent_dim, activation = None, kernel_regularizer=tf.nn.l2_loss)\n",
    "\n",
    "        with tf.variable_scope(\"Sampling_Distribution\"):\n",
    "            # Sample epsilon\n",
    "            epsilon = tf.random_normal(tf.shape(logvar_encoder), mean=0, stddev=1, name='epsilon')\n",
    "\n",
    "            # Sample latent variable\n",
    "            std_encoder = tf.exp(0.5 * logvar_encoder)\n",
    "            z = mu_encoder + tf.multiply(std_encoder, epsilon)\n",
    "            \n",
    "            #tf.summary.histogram(\"Sample_Distribution\", z)\n",
    "\n",
    "        with tf.variable_scope(\"Layer_Decoder\"):\n",
    "            hidden_decoder = tf.layers.dense(z, hidden_decoder_dim, activation = tf.nn.relu, kernel_regularizer=tf.nn.l2_loss)\n",
    "            hidden_decoder = tf.nn.dropout(hidden_decoder, self.keep_prob)\n",
    "            for h in range(hidden_layers - 1):\n",
    "                hidden_decoder = tf.layers.dense(hidden_decoder, hidden_decoder_dim, activation = tf.nn.relu, kernel_regularizer=tf.nn.l2_loss)\n",
    "                hidden_decoder = tf.nn.dropout(hidden_decoder, self.keep_prob)\n",
    "                \n",
    "        with tf.variable_scope(\"Layer_Reconstruction\"):\n",
    "            self.x_hat = tf.layers.dense(hidden_decoder, input_dim, activation = None)\n",
    "            self.y = tf.slice(self.x_hat, [0,input_dim-2], [-1,-1])\n",
    "            \n",
    "        with tf.variable_scope(\"Loss\"):\n",
    "            \n",
    "            BCE = tf.reduce_mean(tf.nn.sigmoid_cross_entropy_with_logits(logits=self.x_hat, labels=self.x), reduction_indices=1)\n",
    "            KLD = -0.5 * tf.reduce_mean(1 + logvar_encoder - tf.pow(mu_encoder, 2) - tf.exp(logvar_encoder), reduction_indices=1)\n",
    "            \n",
    "            loss = tf.reduce_mean((BCE + KLD) * lam)\n",
    "\n",
    "            #loss = tf.clip_by_value(loss, -1e-2, 1e-2)\n",
    "            #loss = tf.where(tf.is_nan(loss), 1e-2, loss)\n",
    "            #loss = tf.where(tf.equal(loss, -1e-2), tf.random_normal(loss.shape), loss)\n",
    "            #loss = tf.where(tf.equal(loss, 1e-2), tf.random_normal(loss.shape), loss)\n",
    "            \n",
    "            self.regularized_loss = tf.abs(loss, name = \"Regularized_loss\")\n",
    "            correct_prediction = tf.equal(tf.argmax(self.y_, 1), tf.argmax(self.y, 1))\n",
    "            self.tf_accuracy = tf.reduce_mean(tf.cast(correct_prediction, tf.float32), name = \"Accuracy\")\n",
    "\n",
    "        with tf.variable_scope(\"Optimizer\"):\n",
    "            learning_rate=1e-2\n",
    "            optimizer = tf.train.AdamOptimizer(learning_rate)\n",
    "            #gradients, variables = zip(*optimizer.compute_gradients(self.regularized_loss))\n",
    "            #gradients = [\n",
    "            #    None if gradient is None else tf.clip_by_value(gradient, -1, 1)\n",
    "            #    for gradient in gradients]\n",
    "            #self.train_op = optimizer.apply_gradients(zip(gradients, variables))\n",
    "            self.train_op = optimizer.minimize(self.regularized_loss)\n",
    "            \n",
    "        # add op for merging summary\n",
    "        #self.summary_op = tf.summary.merge_all()\n",
    "        self.pred = tf.argmax(self.y, axis = 1)\n",
    "        self.actual = tf.argmax(self.y_, axis = 1)\n",
    "\n",
    "        # add Saver ops\n",
    "        self.saver = tf.train.Saver()\n",
    "        "
   ]
  },
  {
   "cell_type": "code",
   "execution_count": 8,
   "metadata": {
    "ExecuteTime": {
     "end_time": "2017-05-13T14:36:04.263294Z",
     "start_time": "2017-05-13T14:36:04.132991Z"
    },
    "scrolled": false
   },
   "outputs": [],
   "source": [
    "import collections\n",
    "\n",
    "class Train:    \n",
    "    \n",
    "    result = namedtuple(\"score\", ['epoch', 'no_of_features','hidden_layers','train_score', 'test_score'])\n",
    "\n",
    "    predictions = {}\n",
    "\n",
    "    results = []\n",
    "    best_acc = 0\n",
    "    \n",
    "    def train(epochs, net, h,f):\n",
    "        batch_iterations = 20\n",
    "    \n",
    "        with tf.Session() as sess:\n",
    "            #summary_writer_train = tf.summary.FileWriter('./logs/kdd/VAE/training', graph=sess.graph)\n",
    "            #summary_writer_valid = tf.summary.FileWriter('./logs/kdd/VAE/validation')\n",
    "\n",
    "            sess.run(tf.global_variables_initializer())\n",
    "\n",
    "            for epoch in range(1, (epochs+1)):\n",
    "                x_train, x_valid, y_train, y_valid, = ms.train_test_split(preprocess.x_train, \n",
    "                                                                          preprocess.y_train, \n",
    "                                                                          test_size=0.1)\n",
    "                batch_indices = np.array_split(np.arange(x_train.shape[0]), \n",
    "                                           batch_iterations)\n",
    "                                                                          \n",
    "                for i in batch_indices:\n",
    "                    _, train_loss = sess.run([net.train_op, \n",
    "                                                           net.regularized_loss, \n",
    "                                                           ], #net.summary_op\n",
    "                                                          feed_dict={net.x: x_train[i,:], \n",
    "                                                                     net.y_: y_train[i,:], \n",
    "                                                                     net.keep_prob:1})\n",
    "                    \n",
    "                    #summary_writer_train.add_summary(summary_str, epoch)\n",
    "                    if(train_loss > 1e9):\n",
    "                        print(\"Step {} | Training Loss: {:.6f}\".format(epoch, train_loss))\n",
    "                    \n",
    "\n",
    "                valid_accuracy, y_pred = sess.run([net.tf_accuracy, net.x_hat], #net.summary_op \n",
    "                                                      feed_dict={net.x: preprocess.x_test, \n",
    "                                                                 net.y_: preprocess.y_test, \n",
    "                                                                 net.keep_prob:1})\n",
    "                #summary_writer_valid.add_summary(summary_str, epoch)\n",
    "                acc = np.mean(np.equal(np.argmax(y_pred[:,-2:], axis = 1), np.argmax(preprocess.y_test, axis = 1)))\n",
    "\n",
    "                if epoch % 1 == 0:\n",
    "                    print(\"Step {} | Training Loss: {:.6f} | Validation Accuracy: {:.6f} | test: {}\".format(epoch, train_loss, valid_accuracy, acc))\n",
    "\n",
    "            accuracy, pred_value, actual_value, y_pred = sess.run([net.tf_accuracy, \n",
    "                                                           net.pred, \n",
    "                                                           net.actual, net.y], \n",
    "                                                          feed_dict={net.x: preprocess.x_test, \n",
    "                                                                     net.y_: preprocess.y_test, \n",
    "                                                                     net.keep_prob:1})\n",
    "\n",
    "\n",
    "            print(\"Accuracy on Test data: {}\".format(accuracy))\n",
    "            \n",
    "            curr_pred = pd.DataFrame({\"Attack_prob\":y_pred[:,-2], \"Normal_prob\":y_pred[:, -1]})\n",
    "            Train.predictions.update({\"{}_{}_{}\".format(epochs,f,h):curr_pred})\n",
    "            \n",
    "            if accuracy > Train.best_acc:\n",
    "                Train.best_acc = accuracy\n",
    "                Train.pred_value = pred_value\n",
    "                Train.actual_value = actual_value\n",
    "                Train.best_parameters = \"Hidden Layers:{}, Features Count:{}\".format(h, f)\n",
    "                #net.saver.save(sess, \"dataset/epochs_{}_hidden layers_{}_features count_{}\".format(epochs,h,f))\n",
    "            Train.results.append(Train.result(epochs, f, h,valid_accuracy, accuracy))\n",
    "            "
   ]
  },
  {
   "cell_type": "code",
   "execution_count": 9,
   "metadata": {
    "ExecuteTime": {
     "end_time": "2017-05-13T14:45:24.007923Z",
     "start_time": "2017-05-13T14:36:04.264706Z"
    },
    "scrolled": false
   },
   "outputs": [
    {
     "name": "stdout",
     "output_type": "stream",
     "text": [
      "Current Layer Attributes - epochs:10 hidden layers:4 features count:4\n",
      "Step 1 | Training Loss: 0.000164 | Validation Accuracy: 0.569242 | test: 0.5692423704755145\n",
      "Step 2 | Training Loss: 0.000326 | Validation Accuracy: 0.569242 | test: 0.5692423704755145\n",
      "Step 3 | Training Loss: 0.000045 | Validation Accuracy: 0.569242 | test: 0.5692423704755145\n",
      "Step 4 | Training Loss: 0.000162 | Validation Accuracy: 0.569242 | test: 0.5692423704755145\n",
      "Step 5 | Training Loss: 0.000046 | Validation Accuracy: 0.569242 | test: 0.5692423704755145\n",
      "Step 6 | Training Loss: 0.000086 | Validation Accuracy: 0.569242 | test: 0.5692423704755145\n",
      "Step 7 | Training Loss: 0.000156 | Validation Accuracy: 0.569242 | test: 0.5692423704755145\n",
      "Step 8 | Training Loss: 0.000022 | Validation Accuracy: 0.569242 | test: 0.5692423704755145\n",
      "Step 9 | Training Loss: 0.000053 | Validation Accuracy: 0.569242 | test: 0.5692423704755145\n",
      "Step 10 | Training Loss: 0.000005 | Validation Accuracy: 0.569242 | test: 0.5692423704755145\n",
      "Accuracy on Test data: 0.5692423582077026\n",
      "Current Layer Attributes - epochs:10 hidden layers:4 features count:16\n",
      "Step 1 | Training Loss: 0.002283 | Validation Accuracy: 0.569242 | test: 0.5692423704755145\n",
      "Step 2 | Training Loss: 0.000109 | Validation Accuracy: 0.558020 | test: 0.5580198722498225\n",
      "Step 3 | Training Loss: 0.000043 | Validation Accuracy: 0.569242 | test: 0.5692423704755145\n",
      "Step 4 | Training Loss: 0.000156 | Validation Accuracy: 0.569242 | test: 0.5692423704755145\n",
      "Step 5 | Training Loss: 0.000002 | Validation Accuracy: 0.569242 | test: 0.5692423704755145\n",
      "Step 6 | Training Loss: 0.000104 | Validation Accuracy: 0.569242 | test: 0.5692423704755145\n",
      "Step 7 | Training Loss: 0.000058 | Validation Accuracy: 0.569242 | test: 0.5692423704755145\n",
      "Step 8 | Training Loss: 0.000030 | Validation Accuracy: 0.569242 | test: 0.5692423704755145\n",
      "Step 9 | Training Loss: 0.000040 | Validation Accuracy: 0.569242 | test: 0.5692423704755145\n",
      "Step 10 | Training Loss: 0.000036 | Validation Accuracy: 0.569242 | test: 0.5692423704755145\n",
      "Accuracy on Test data: 0.5692423582077026\n",
      "Current Layer Attributes - epochs:10 hidden layers:4 features count:32\n",
      "Step 1 | Training Loss: 0.000092 | Validation Accuracy: 0.569242 | test: 0.5692423704755145\n",
      "Step 2 | Training Loss: 0.000210 | Validation Accuracy: 0.569242 | test: 0.5692423704755145\n",
      "Step 3 | Training Loss: 0.000065 | Validation Accuracy: 0.569242 | test: 0.5692423704755145\n",
      "Step 4 | Training Loss: 0.000550 | Validation Accuracy: 0.569242 | test: 0.5692423704755145\n",
      "Step 5 | Training Loss: 0.000025 | Validation Accuracy: 0.569242 | test: 0.5692423704755145\n",
      "Step 6 | Training Loss: 0.000028 | Validation Accuracy: 0.569242 | test: 0.5692423704755145\n",
      "Step 7 | Training Loss: 0.000072 | Validation Accuracy: 0.569242 | test: 0.5692423704755145\n",
      "Step 8 | Training Loss: 0.000170 | Validation Accuracy: 0.569242 | test: 0.5692423704755145\n",
      "Step 9 | Training Loss: 0.000012 | Validation Accuracy: 0.569242 | test: 0.5692423704755145\n",
      "Step 10 | Training Loss: 0.000012 | Validation Accuracy: 0.569242 | test: 0.5692423704755145\n",
      "Accuracy on Test data: 0.5692423582077026\n",
      "Current Layer Attributes - epochs:10 hidden layers:4 features count:64\n",
      "Step 1 | Training Loss: 1702052396758753232289792.000000\n",
      "Step 1 | Training Loss: nan | Validation Accuracy: 0.569242 | test: 0.5692423704755145\n",
      "Step 2 | Training Loss: nan | Validation Accuracy: 0.569242 | test: 0.5692423704755145\n",
      "Step 3 | Training Loss: nan | Validation Accuracy: 0.569242 | test: 0.5692423704755145\n",
      "Step 4 | Training Loss: nan | Validation Accuracy: 0.569242 | test: 0.5692423704755145\n",
      "Step 5 | Training Loss: nan | Validation Accuracy: 0.569242 | test: 0.5692423704755145\n",
      "Step 6 | Training Loss: nan | Validation Accuracy: 0.569242 | test: 0.5692423704755145\n",
      "Step 7 | Training Loss: nan | Validation Accuracy: 0.569242 | test: 0.5692423704755145\n",
      "Step 8 | Training Loss: nan | Validation Accuracy: 0.569242 | test: 0.5692423704755145\n",
      "Step 9 | Training Loss: nan | Validation Accuracy: 0.569242 | test: 0.5692423704755145\n",
      "Step 10 | Training Loss: nan | Validation Accuracy: 0.569242 | test: 0.5692423704755145\n",
      "Accuracy on Test data: 0.5692423582077026\n",
      "Current Layer Attributes - epochs:10 hidden layers:6 features count:4\n",
      "Step 1 | Training Loss: 0.000537 | Validation Accuracy: 0.569242 | test: 0.5692423704755145\n",
      "Step 2 | Training Loss: 0.000151 | Validation Accuracy: 0.569242 | test: 0.5692423704755145\n",
      "Step 3 | Training Loss: 0.000018 | Validation Accuracy: 0.569242 | test: 0.5692423704755145\n",
      "Step 4 | Training Loss: 0.000109 | Validation Accuracy: 0.569242 | test: 0.5692423704755145\n",
      "Step 5 | Training Loss: 0.000102 | Validation Accuracy: 0.569242 | test: 0.5692423704755145\n",
      "Step 6 | Training Loss: 0.000009 | Validation Accuracy: 0.569242 | test: 0.5692423704755145\n",
      "Step 7 | Training Loss: 0.000020 | Validation Accuracy: 0.569242 | test: 0.5692423704755145\n",
      "Step 8 | Training Loss: 0.000027 | Validation Accuracy: 0.569242 | test: 0.5692423704755145\n",
      "Step 9 | Training Loss: 0.000001 | Validation Accuracy: 0.569242 | test: 0.5692423704755145\n",
      "Step 10 | Training Loss: 0.000088 | Validation Accuracy: 0.569242 | test: 0.5692423704755145\n",
      "Accuracy on Test data: 0.5692423582077026\n",
      "Current Layer Attributes - epochs:10 hidden layers:6 features count:16\n",
      "Step 1 | Training Loss: 0.000104 | Validation Accuracy: 0.569242 | test: 0.5692423704755145\n",
      "Step 2 | Training Loss: 0.000027 | Validation Accuracy: 0.569242 | test: 0.5692423704755145\n",
      "Step 3 | Training Loss: 0.000124 | Validation Accuracy: 0.569242 | test: 0.5692423704755145\n",
      "Step 4 | Training Loss: 0.000129 | Validation Accuracy: 0.569242 | test: 0.5692423704755145\n",
      "Step 5 | Training Loss: 0.000130 | Validation Accuracy: 0.569242 | test: 0.5692423704755145\n",
      "Step 6 | Training Loss: 0.000031 | Validation Accuracy: 0.569242 | test: 0.5692423704755145\n",
      "Step 7 | Training Loss: 0.000044 | Validation Accuracy: 0.569242 | test: 0.5692423704755145\n",
      "Step 8 | Training Loss: 0.000036 | Validation Accuracy: 0.569242 | test: 0.5692423704755145\n",
      "Step 9 | Training Loss: 0.000103 | Validation Accuracy: 0.569242 | test: 0.5692423704755145\n",
      "Step 10 | Training Loss: 0.000046 | Validation Accuracy: 0.569242 | test: 0.5692423704755145\n",
      "Accuracy on Test data: 0.5692423582077026\n",
      "Current Layer Attributes - epochs:10 hidden layers:6 features count:32\n",
      "Step 1 | Training Loss: 0.000007 | Validation Accuracy: 0.569242 | test: 0.5692423704755145\n",
      "Step 2 | Training Loss: 0.000018 | Validation Accuracy: 0.569242 | test: 0.5692423704755145\n",
      "Step 3 | Training Loss: 0.000083 | Validation Accuracy: 0.569242 | test: 0.5692423704755145\n",
      "Step 4 | Training Loss: 0.000097 | Validation Accuracy: 0.569242 | test: 0.5692423704755145\n",
      "Step 5 | Training Loss: 0.000050 | Validation Accuracy: 0.569242 | test: 0.5692423704755145\n",
      "Step 6 | Training Loss: 0.000056 | Validation Accuracy: 0.569242 | test: 0.5692423704755145\n",
      "Step 7 | Training Loss: 0.000029 | Validation Accuracy: 0.569242 | test: 0.5692423704755145\n",
      "Step 8 | Training Loss: 0.000022 | Validation Accuracy: 0.569242 | test: 0.5692423704755145\n",
      "Step 9 | Training Loss: 0.000167 | Validation Accuracy: 0.569242 | test: 0.5692423704755145\n",
      "Step 10 | Training Loss: 0.000103 | Validation Accuracy: 0.569242 | test: 0.5692423704755145\n",
      "Accuracy on Test data: 0.5692423582077026\n",
      "Current Layer Attributes - epochs:10 hidden layers:6 features count:64\n",
      "Step 1 | Training Loss: 0.000040 | Validation Accuracy: 0.569242 | test: 0.5692423704755145\n",
      "Step 2 | Training Loss: 0.000027 | Validation Accuracy: 0.569242 | test: 0.5692423704755145\n",
      "Step 3 | Training Loss: 0.000424 | Validation Accuracy: 0.569242 | test: 0.5692423704755145\n",
      "Step 4 | Training Loss: 0.000021 | Validation Accuracy: 0.569242 | test: 0.5692423704755145\n",
      "Step 5 | Training Loss: 0.000072 | Validation Accuracy: 0.569242 | test: 0.5692423704755145\n",
      "Step 6 | Training Loss: 0.000043 | Validation Accuracy: 0.569242 | test: 0.5692423704755145\n",
      "Step 7 | Training Loss: 0.000192 | Validation Accuracy: 0.569242 | test: 0.5692423704755145\n",
      "Step 8 | Training Loss: 0.000024 | Validation Accuracy: 0.569242 | test: 0.5692423704755145\n",
      "Step 9 | Training Loss: 0.000050 | Validation Accuracy: 0.569242 | test: 0.5692423704755145\n",
      "Step 10 | Training Loss: 0.000008 | Validation Accuracy: 0.569242 | test: 0.5692423704755145\n"
     ]
    },
    {
     "name": "stdout",
     "output_type": "stream",
     "text": [
      "Accuracy on Test data: 0.5692423582077026\n",
      "Current Layer Attributes - epochs:10 hidden layers:10 features count:4\n",
      "Step 1 | Training Loss: 0.000051 | Validation Accuracy: 0.569242 | test: 0.5692423704755145\n",
      "Step 2 | Training Loss: 0.000065 | Validation Accuracy: 0.569242 | test: 0.5692423704755145\n",
      "Step 3 | Training Loss: 0.000003 | Validation Accuracy: 0.569242 | test: 0.5692423704755145\n",
      "Step 4 | Training Loss: 0.000056 | Validation Accuracy: 0.569242 | test: 0.5692423704755145\n",
      "Step 5 | Training Loss: 0.000027 | Validation Accuracy: 0.569242 | test: 0.5692423704755145\n",
      "Step 6 | Training Loss: 0.000093 | Validation Accuracy: 0.569242 | test: 0.5692423704755145\n",
      "Step 7 | Training Loss: 0.000004 | Validation Accuracy: 0.569242 | test: 0.5692423704755145\n",
      "Step 8 | Training Loss: 0.000096 | Validation Accuracy: 0.569242 | test: 0.5692423704755145\n",
      "Step 9 | Training Loss: 0.000048 | Validation Accuracy: 0.569242 | test: 0.5692423704755145\n",
      "Step 10 | Training Loss: 0.000038 | Validation Accuracy: 0.569242 | test: 0.5692423704755145\n",
      "Accuracy on Test data: 0.5692423582077026\n",
      "Current Layer Attributes - epochs:10 hidden layers:10 features count:16\n",
      "Step 1 | Training Loss: 0.000125 | Validation Accuracy: 0.569242 | test: 0.5692423704755145\n",
      "Step 2 | Training Loss: 0.000156 | Validation Accuracy: 0.569242 | test: 0.5692423704755145\n",
      "Step 3 | Training Loss: 0.000068 | Validation Accuracy: 0.569242 | test: 0.5692423704755145\n",
      "Step 4 | Training Loss: 0.000014 | Validation Accuracy: 0.569242 | test: 0.5692423704755145\n",
      "Step 5 | Training Loss: 0.000073 | Validation Accuracy: 0.569242 | test: 0.5692423704755145\n",
      "Step 6 | Training Loss: 0.000014 | Validation Accuracy: 0.569242 | test: 0.5692423704755145\n",
      "Step 7 | Training Loss: 0.000085 | Validation Accuracy: 0.569242 | test: 0.5692423704755145\n",
      "Step 8 | Training Loss: 0.000103 | Validation Accuracy: 0.569242 | test: 0.5692423704755145\n",
      "Step 9 | Training Loss: 0.000036 | Validation Accuracy: 0.569242 | test: 0.5692423704755145\n",
      "Step 10 | Training Loss: 0.000045 | Validation Accuracy: 0.569242 | test: 0.5692423704755145\n",
      "Accuracy on Test data: 0.5692423582077026\n",
      "Current Layer Attributes - epochs:10 hidden layers:10 features count:32\n",
      "Step 1 | Training Loss: 0.000327 | Validation Accuracy: 0.569242 | test: 0.5692423704755145\n",
      "Step 2 | Training Loss: 0.000226 | Validation Accuracy: 0.569242 | test: 0.5692423704755145\n",
      "Step 3 | Training Loss: 0.000215 | Validation Accuracy: 0.569242 | test: 0.5692423704755145\n",
      "Step 4 | Training Loss: 0.000093 | Validation Accuracy: 0.569242 | test: 0.5692423704755145\n",
      "Step 5 | Training Loss: 0.000018 | Validation Accuracy: 0.569242 | test: 0.5692423704755145\n",
      "Step 6 | Training Loss: 0.000087 | Validation Accuracy: 0.569242 | test: 0.5692423704755145\n",
      "Step 7 | Training Loss: 0.000012 | Validation Accuracy: 0.569242 | test: 0.5692423704755145\n",
      "Step 8 | Training Loss: 0.000015 | Validation Accuracy: 0.569242 | test: 0.5692423704755145\n",
      "Step 9 | Training Loss: 0.000010 | Validation Accuracy: 0.569242 | test: 0.5692423704755145\n",
      "Step 10 | Training Loss: 0.000039 | Validation Accuracy: 0.569242 | test: 0.5692423704755145\n",
      "Accuracy on Test data: 0.5692423582077026\n",
      "Current Layer Attributes - epochs:10 hidden layers:10 features count:64\n",
      "Step 1 | Training Loss: 0.000182 | Validation Accuracy: 0.569242 | test: 0.5692423704755145\n",
      "Step 2 | Training Loss: 0.000155 | Validation Accuracy: 0.569242 | test: 0.5692423704755145\n",
      "Step 3 | Training Loss: 0.000154 | Validation Accuracy: 0.569242 | test: 0.5692423704755145\n",
      "Step 4 | Training Loss: 0.000226 | Validation Accuracy: 0.569242 | test: 0.5692423704755145\n",
      "Step 5 | Training Loss: 0.000163 | Validation Accuracy: 0.569242 | test: 0.5692423704755145\n",
      "Step 6 | Training Loss: 0.000048 | Validation Accuracy: 0.569242 | test: 0.5692423704755145\n",
      "Step 7 | Training Loss: 0.000052 | Validation Accuracy: 0.569242 | test: 0.5692423704755145\n",
      "Step 8 | Training Loss: 0.000026 | Validation Accuracy: 0.569242 | test: 0.5692423704755145\n",
      "Step 9 | Training Loss: 0.000014 | Validation Accuracy: 0.569242 | test: 0.5692423704755145\n",
      "Step 10 | Training Loss: 0.000017 | Validation Accuracy: 0.569242 | test: 0.5692423704755145\n",
      "Accuracy on Test data: 0.5692423582077026\n"
     ]
    }
   ],
   "source": [
    "import itertools\n",
    "class Hyperparameters:\n",
    "#    features_arr = [2, 4, 8, 16, 32, 64, 128, 256]\n",
    "#    hidden_layers_arr = [2, 4, 6, 10]\n",
    "    features_arr = [4, 16, 32, 64]\n",
    "    hidden_layers_arr = [4, 6, 10]\n",
    "\n",
    "    epochs = [10]\n",
    "    \n",
    "    for e, h, f in itertools.product(epochs, hidden_layers_arr, features_arr):\n",
    "        print(\"Current Layer Attributes - epochs:{} hidden layers:{} features count:{}\".format(e,h,f))\n",
    "        n = network(2,h,f)\n",
    "        n.build_layers()\n",
    "        Train.train(e, n, h,f)\n",
    "        "
   ]
  },
  {
   "cell_type": "code",
   "execution_count": 10,
   "metadata": {
    "ExecuteTime": {
     "end_time": "2017-05-13T14:45:24.041719Z",
     "start_time": "2017-05-13T14:45:24.009514Z"
    },
    "collapsed": true
   },
   "outputs": [],
   "source": [
    "df_results = pd.DataFrame(Train.results)"
   ]
  },
  {
   "cell_type": "code",
   "execution_count": 11,
   "metadata": {
    "ExecuteTime": {
     "end_time": "2017-05-13T14:45:24.087001Z",
     "start_time": "2017-05-13T14:45:24.043147Z"
    }
   },
   "outputs": [
    {
     "data": {
      "text/html": [
       "<div>\n",
       "<table border=\"1\" class=\"dataframe\">\n",
       "  <thead>\n",
       "    <tr style=\"text-align: right;\">\n",
       "      <th></th>\n",
       "      <th>epoch</th>\n",
       "      <th>no_of_features</th>\n",
       "      <th>hidden_layers</th>\n",
       "      <th>train_score</th>\n",
       "      <th>test_score</th>\n",
       "    </tr>\n",
       "  </thead>\n",
       "  <tbody>\n",
       "    <tr>\n",
       "      <th>0</th>\n",
       "      <td>10</td>\n",
       "      <td>4</td>\n",
       "      <td>4</td>\n",
       "      <td>0.569242</td>\n",
       "      <td>0.569242</td>\n",
       "    </tr>\n",
       "    <tr>\n",
       "      <th>1</th>\n",
       "      <td>10</td>\n",
       "      <td>16</td>\n",
       "      <td>4</td>\n",
       "      <td>0.569242</td>\n",
       "      <td>0.569242</td>\n",
       "    </tr>\n",
       "    <tr>\n",
       "      <th>2</th>\n",
       "      <td>10</td>\n",
       "      <td>32</td>\n",
       "      <td>4</td>\n",
       "      <td>0.569242</td>\n",
       "      <td>0.569242</td>\n",
       "    </tr>\n",
       "    <tr>\n",
       "      <th>3</th>\n",
       "      <td>10</td>\n",
       "      <td>64</td>\n",
       "      <td>4</td>\n",
       "      <td>0.569242</td>\n",
       "      <td>0.569242</td>\n",
       "    </tr>\n",
       "    <tr>\n",
       "      <th>4</th>\n",
       "      <td>10</td>\n",
       "      <td>4</td>\n",
       "      <td>6</td>\n",
       "      <td>0.569242</td>\n",
       "      <td>0.569242</td>\n",
       "    </tr>\n",
       "    <tr>\n",
       "      <th>5</th>\n",
       "      <td>10</td>\n",
       "      <td>16</td>\n",
       "      <td>6</td>\n",
       "      <td>0.569242</td>\n",
       "      <td>0.569242</td>\n",
       "    </tr>\n",
       "    <tr>\n",
       "      <th>6</th>\n",
       "      <td>10</td>\n",
       "      <td>32</td>\n",
       "      <td>6</td>\n",
       "      <td>0.569242</td>\n",
       "      <td>0.569242</td>\n",
       "    </tr>\n",
       "    <tr>\n",
       "      <th>7</th>\n",
       "      <td>10</td>\n",
       "      <td>64</td>\n",
       "      <td>6</td>\n",
       "      <td>0.569242</td>\n",
       "      <td>0.569242</td>\n",
       "    </tr>\n",
       "    <tr>\n",
       "      <th>8</th>\n",
       "      <td>10</td>\n",
       "      <td>4</td>\n",
       "      <td>10</td>\n",
       "      <td>0.569242</td>\n",
       "      <td>0.569242</td>\n",
       "    </tr>\n",
       "    <tr>\n",
       "      <th>9</th>\n",
       "      <td>10</td>\n",
       "      <td>16</td>\n",
       "      <td>10</td>\n",
       "      <td>0.569242</td>\n",
       "      <td>0.569242</td>\n",
       "    </tr>\n",
       "    <tr>\n",
       "      <th>10</th>\n",
       "      <td>10</td>\n",
       "      <td>32</td>\n",
       "      <td>10</td>\n",
       "      <td>0.569242</td>\n",
       "      <td>0.569242</td>\n",
       "    </tr>\n",
       "    <tr>\n",
       "      <th>11</th>\n",
       "      <td>10</td>\n",
       "      <td>64</td>\n",
       "      <td>10</td>\n",
       "      <td>0.569242</td>\n",
       "      <td>0.569242</td>\n",
       "    </tr>\n",
       "  </tbody>\n",
       "</table>\n",
       "</div>"
      ],
      "text/plain": [
       "    epoch  no_of_features  hidden_layers  train_score  test_score\n",
       "0      10               4              4     0.569242    0.569242\n",
       "1      10              16              4     0.569242    0.569242\n",
       "2      10              32              4     0.569242    0.569242\n",
       "3      10              64              4     0.569242    0.569242\n",
       "4      10               4              6     0.569242    0.569242\n",
       "5      10              16              6     0.569242    0.569242\n",
       "6      10              32              6     0.569242    0.569242\n",
       "7      10              64              6     0.569242    0.569242\n",
       "8      10               4             10     0.569242    0.569242\n",
       "9      10              16             10     0.569242    0.569242\n",
       "10     10              32             10     0.569242    0.569242\n",
       "11     10              64             10     0.569242    0.569242"
      ]
     },
     "execution_count": 11,
     "metadata": {},
     "output_type": "execute_result"
    }
   ],
   "source": [
    "df_results.sort_values(by = 'test_score', ascending = False)"
   ]
  },
  {
   "cell_type": "code",
   "execution_count": 12,
   "metadata": {
    "ExecuteTime": {
     "end_time": "2017-05-13T14:45:24.172840Z",
     "start_time": "2017-05-13T14:45:24.088479Z"
    },
    "collapsed": true
   },
   "outputs": [],
   "source": [
    "pd.Panel(Train.predictions).to_pickle(\"dataset/tf_vae_only_nsl_kdd_predictions.pkl\")\n",
    "df_results.to_pickle(\"dataset/tf_vae_only_nsl_kdd_scores.pkl\")"
   ]
  },
  {
   "cell_type": "code",
   "execution_count": 13,
   "metadata": {
    "ExecuteTime": {
     "end_time": "2017-05-13T14:45:24.238890Z",
     "start_time": "2017-05-13T14:45:24.174640Z"
    },
    "collapsed": true
   },
   "outputs": [],
   "source": [
    "import numpy as np\n",
    "import matplotlib.pyplot as plt\n",
    "import itertools\n",
    "\n",
    "def plot_confusion_matrix(cm, classes,\n",
    "                          normalize=False,\n",
    "                          title='Confusion matrix',\n",
    "                          cmap=plt.cm.Blues):\n",
    "    \"\"\"\n",
    "    This function prints and plots the confusion matrix.\n",
    "    Normalization can be applied by setting `normalize=True`.\n",
    "    \"\"\"\n",
    "    np.set_printoptions(precision=4)\n",
    "\n",
    "    plt.imshow(cm, interpolation='nearest', cmap=cmap)\n",
    "    plt.title(title)\n",
    "    plt.colorbar()\n",
    "    tick_marks = np.arange(len(classes))\n",
    "    plt.xticks(tick_marks, classes, rotation=45)\n",
    "    plt.yticks(tick_marks, classes)\n",
    "\n",
    "    if normalize:\n",
    "        cm = cm.astype('float') / cm.sum(axis=1)[:, np.newaxis]\n",
    "        print(\"Normalized confusion matrix\")\n",
    "    else:\n",
    "        print('Confusion matrix, without normalization')\n",
    "\n",
    "    print(cm)\n",
    "\n",
    "    thresh = cm.max() / 2.\n",
    "    for i, j in itertools.product(range(cm.shape[0]), range(cm.shape[1])):\n",
    "        plt.text(j, i, cm[i, j].round(4),\n",
    "                 horizontalalignment=\"center\",\n",
    "                 color=\"white\" if cm[i, j] > thresh else \"black\")\n",
    "\n",
    "    plt.tight_layout()\n",
    "    plt.ylabel('True label')\n",
    "    plt.xlabel('Predicted label')\n",
    "\n",
    "def plot(actual_value, pred_value):\n",
    "    from sklearn.metrics import confusion_matrix\n",
    "    cm_2labels = confusion_matrix(y_pred = pred_value, y_true = actual_value)\n",
    "    plt.figure(figsize=[6,6])\n",
    "    plot_confusion_matrix(cm_2labels, preprocess.output_columns_2labels, normalize = True,\n",
    "                         title = Train.best_parameters)"
   ]
  },
  {
   "cell_type": "code",
   "execution_count": 14,
   "metadata": {
    "ExecuteTime": {
     "end_time": "2017-05-13T14:45:25.682398Z",
     "start_time": "2017-05-13T14:45:24.240776Z"
    }
   },
   "outputs": [
    {
     "name": "stdout",
     "output_type": "stream",
     "text": [
      "Normalized confusion matrix\n",
      "[[ 1.  0.]\n",
      " [ 1.  0.]]\n"
     ]
    },
    {
     "data": {
      "image/png": "[encoded data removed]",
      "text/plain": [
       "<matplotlib.figure.Figure at 0x7fc43aff6ef0>"
      ]
     },
     "metadata": {},
     "output_type": "display_data"
    }
   ],
   "source": [
    "plot(actual_value = Train.actual_value, pred_value = Train.pred_value)"
   ]
  },
  {
   "cell_type": "code",
   "execution_count": null,
   "metadata": {
    "collapsed": true
   },
   "outputs": [],
   "source": []
  }
 ],
 "metadata": {
  "_draft": {
   "nbviewer_url": "https://gist.github.com/7d1ace18a82178e15ece8fc5252fce88"
  },
  "anaconda-cloud": {},
  "gist": {
   "data": {
    "description": "Hyper parameter tuning",
    "public": false
   },
   "id": "7d1ace18a82178e15ece8fc5252fce88"
  },
  "kernelspec": {
   "display_name": "Python [conda env:p3]",
   "language": "python",
   "name": "conda-env-p3-py"
  },
  "language_info": {
   "codemirror_mode": {
    "name": "ipython",
    "version": 3
   },
   "file_extension": ".py",
   "mimetype": "text/x-python",
   "name": "python",
   "nbconvert_exporter": "python",
   "pygments_lexer": "ipython3",
   "version": "3.6.1"
  }
 },
 "nbformat": 4,
 "nbformat_minor": 2
}
