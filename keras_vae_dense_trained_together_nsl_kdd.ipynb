{
 "cells": [
  {
   "cell_type": "markdown",
   "metadata": {},
   "source": [
    "# Deep Learning"
   ]
  },
  {
   "cell_type": "code",
   "execution_count": 1,
   "metadata": {},
   "outputs": [
    {
     "name": "stderr",
     "output_type": "stream",
     "text": [
      "Using TensorFlow backend.\n"
     ]
    }
   ],
   "source": [
    "from keras.layers import Input, Dense, Lambda, Layer\n",
    "from keras.models import Model\n",
    "from keras import regularizers\n",
    "import keras\n",
    "import pandas as pd\n",
    "import numpy as np\n",
    "from keras import backend as K\n",
    "from keras import metrics\n",
    "from collections import namedtuple\n",
    "pd.set_option(\"display.max_rows\",35)\n",
    "%matplotlib inline"
   ]
  },
  {
   "cell_type": "code",
   "execution_count": 2,
   "metadata": {
    "collapsed": true
   },
   "outputs": [],
   "source": [
    "kdd_train_2labels = pd.read_pickle(\"dataset/kdd_train_2labels.pkl\")\n",
    "kdd_test_2labels = pd.read_pickle(\"dataset/kdd_test_2labels.pkl\")\n",
    "\n",
    "#y_train_labels = pd.read_pickle(\"dataset/kdd_train_2labels_y.pkl\")\n",
    "#y_train_labels = pd.read_pickle(\"dataset/kdd_train_2labels.pkl\")\n",
    "#y_test_labels = pd.read_pickle(\"dataset/kdd_test_2labels_y.pkl\")\n",
    "\n",
    "output_columns_2labels = ['is_Attack','is_Normal']\n",
    "\n",
    "from sklearn import model_selection as ms\n",
    "from sklearn import preprocessing as pp\n",
    "\n",
    "x_input = kdd_train_2labels.drop(output_columns_2labels, axis = 1)\n",
    "y_output = kdd_train_2labels.loc[:,output_columns_2labels]\n",
    "\n",
    "ss = pp.StandardScaler()\n",
    "x_input = ss.fit_transform(x_input)\n",
    "\n",
    "#le = pp.LabelEncoder()\n",
    "#y_train = le.fit_transform(y_train_labels).reshape(-1, 1)\n",
    "#y_test = le.transform(y_test_labels).reshape(-1, 1)\n",
    "\n",
    "y_train = kdd_train_2labels.loc[:,output_columns_2labels].values\n",
    "\n",
    "x_train, x_valid, y_train, y_valid = ms.train_test_split(x_input, \n",
    "                              y_train, \n",
    "                              test_size=0.1)\n",
    "#x_valid, x_test, y_valid, y_test = ms.train_test_split(x_valid, y_valid, test_size = 0.4)\n",
    "\n",
    "x_test = kdd_test_2labels.drop(output_columns_2labels, axis = 1)\n",
    "y_test = kdd_test_2labels.loc[:,output_columns_2labels].values\n",
    "\n",
    "x_test = ss.transform(x_test)\n",
    "\n",
    "#x_train = np.hstack((x_train, y_train))\n",
    "#x_valid = np.hstack((x_valid, y_valid))\n",
    "\n",
    "#x_test = np.hstack((x_test, np.random.normal(loc = 0, scale = 0.01, size = y_test.shape)))"
   ]
  },
  {
   "cell_type": "code",
   "execution_count": 3,
   "metadata": {
    "collapsed": true
   },
   "outputs": [],
   "source": [
    "input_dim = 122\n",
    "intermediate_dim = 10\n",
    "latent_dim = 32\n",
    "batch_size = 1409\n",
    "epochs = 5\n",
    "hidden_layers = 8\n",
    "classes = 2\n",
    "\n",
    "class Train:\n",
    "    def train():\n",
    "        Train.x = Input(shape=(input_dim,))\n",
    "        \n",
    "        hidden_encoder = Train.x\n",
    "        for i in range(hidden_layers):\n",
    "            hidden_encoder = Dense(intermediate_dim, activation='relu')(hidden_encoder)\n",
    "            \n",
    "\n",
    "        mean_encoder = Dense(latent_dim, activation=None)(hidden_encoder)\n",
    "\n",
    "        logvar_encoder = Dense(latent_dim, activation=None)(hidden_encoder)\n",
    "\n",
    "        def get_distrib(args):\n",
    "\n",
    "            mean_encoder, logvar_encoder = args\n",
    "\n",
    "            # Sample epsilon\n",
    "            epsilon = np.random.normal(loc=0.0, scale=0.05, size = (batch_size, latent_dim))\n",
    "\n",
    "            # Sample latent variable\n",
    "            z = mean_encoder + K.exp(logvar_encoder / 2) * epsilon\n",
    "            return z\n",
    "\n",
    "        z = Lambda(get_distrib)([mean_encoder, logvar_encoder])\n",
    "\n",
    "        hidden_decoder = z\n",
    "        for i in range(hidden_layers):\n",
    "            hidden_decoder = Dense(intermediate_dim, activation=\"relu\")(hidden_decoder)\n",
    "\n",
    "        Train.x_ = Dense(input_dim, activation=None, name='vae_output')(hidden_decoder)\n",
    "        \n",
    "        hidden_y = Dense(latent_dim, activation='softmax', name='softmax_hidden')(z)\n",
    "        \n",
    "        Train.y = Dense(classes, activation='softmax', name='softmax_output')(hidden_y)\n",
    "        \n",
    "\n",
    "def get_loss(x, x_):\n",
    "    xent_loss = input_dim * metrics.binary_crossentropy(x, x_) \n",
    "    kl_loss = - 0.5 * K.sum(1 + logvar_encoder - K.square(mean_encoder) - K.exp(logvar_encoder), axis=-1)\n",
    "    \n",
    "    return K.abs(K.mean(xent_loss + kl_loss + label_loss))\n",
    "\n"
   ]
  },
  {
   "cell_type": "code",
   "execution_count": 4,
   "metadata": {
    "scrolled": false
   },
   "outputs": [
    {
     "name": "stdout",
     "output_type": "stream",
     "text": [
      " \n",
      " Current Layer Attributes - epochs:5 hidden layers:2 features count:4\n",
      "Train on 112720 samples, validate on 22544 samples\n",
      "Epoch 1/5\n",
      "112720/112720 [==============================] - 0s - loss: 0.6352 - acc: 0.6652 - val_loss: 0.5404 - val_acc: 0.7817\n",
      "Epoch 2/5\n",
      "112720/112720 [==============================] - 0s - loss: 0.3817 - acc: 0.9609 - val_loss: 0.5292 - val_acc: 0.7374\n",
      "Epoch 3/5\n",
      "112720/112720 [==============================] - 0s - loss: 0.3015 - acc: 0.9723 - val_loss: 0.5260 - val_acc: 0.7605\n",
      "Epoch 4/5\n",
      "112720/112720 [==============================] - 0s - loss: 0.2627 - acc: 0.9746 - val_loss: 0.5353 - val_acc: 0.7547\n",
      "Epoch 5/5\n",
      "112720/112720 [==============================] - 0s - loss: 0.2338 - acc: 0.9756 - val_loss: 0.5362 - val_acc: 0.7650\n",
      " 1409/22544 [>.............................] - ETA: 0s\n",
      " Train Acc: 0.9779098629951477, Test Acc: 0.7650372534990311\n",
      " \n",
      " Current Layer Attributes - epochs:5 hidden layers:2 features count:16\n",
      "Train on 112720 samples, validate on 22544 samples\n",
      "Epoch 1/5\n",
      "112720/112720 [==============================] - 0s - loss: 0.5557 - acc: 0.8577 - val_loss: 0.5633 - val_acc: 0.7562\n",
      "Epoch 2/5\n",
      "112720/112720 [==============================] - 0s - loss: 0.3562 - acc: 0.9692 - val_loss: 0.5688 - val_acc: 0.7479\n",
      "Epoch 3/5\n",
      "112720/112720 [==============================] - 0s - loss: 0.2877 - acc: 0.9755 - val_loss: 0.5616 - val_acc: 0.7539\n",
      "Epoch 4/5\n",
      "112720/112720 [==============================] - 0s - loss: 0.2513 - acc: 0.9777 - val_loss: 0.5680 - val_acc: 0.7534\n",
      "Epoch 5/5\n",
      "112720/112720 [==============================] - 0s - loss: 0.2238 - acc: 0.9788 - val_loss: 0.5628 - val_acc: 0.7644\n",
      " 1409/22544 [>.............................] - ETA: 0s\n",
      " Train Acc: 0.978087306022644, Test Acc: 0.764371894299984\n",
      " \n",
      " Current Layer Attributes - epochs:5 hidden layers:2 features count:32\n",
      "Train on 112720 samples, validate on 22544 samples\n",
      "Epoch 1/5\n",
      "112720/112720 [==============================] - 0s - loss: 0.5713 - acc: 0.8913 - val_loss: 0.5258 - val_acc: 0.8413\n",
      "Epoch 2/5\n",
      "112720/112720 [==============================] - 0s - loss: 0.3829 - acc: 0.9665 - val_loss: 0.5584 - val_acc: 0.7577\n",
      "Epoch 3/5\n",
      "112720/112720 [==============================] - 0s - loss: 0.2886 - acc: 0.9770 - val_loss: 0.5741 - val_acc: 0.7525\n",
      "Epoch 4/5\n",
      "112720/112720 [==============================] - 0s - loss: 0.2490 - acc: 0.9796 - val_loss: 0.5799 - val_acc: 0.7516\n",
      "Epoch 5/5\n",
      "112720/112720 [==============================] - 0s - loss: 0.2214 - acc: 0.9803 - val_loss: 0.5713 - val_acc: 0.7625\n",
      " 1409/22544 [>.............................] - ETA: 0s\n",
      " Train Acc: 0.9789744466543198, Test Acc: 0.7625088766217232\n",
      " \n",
      " Current Layer Attributes - epochs:5 hidden layers:6 features count:4\n",
      "Train on 112720 samples, validate on 22544 samples\n",
      "Epoch 1/5\n",
      "112720/112720 [==============================] - 1s - loss: 0.6170 - acc: 0.6741 - val_loss: 0.5549 - val_acc: 0.8026\n",
      "Epoch 2/5\n",
      "112720/112720 [==============================] - 0s - loss: 0.3589 - acc: 0.9675 - val_loss: 0.5205 - val_acc: 0.7924\n",
      "Epoch 3/5\n",
      "112720/112720 [==============================] - 0s - loss: 0.2933 - acc: 0.9751 - val_loss: 0.5506 - val_acc: 0.7653\n",
      "Epoch 4/5\n",
      "112720/112720 [==============================] - 0s - loss: 0.2560 - acc: 0.9786 - val_loss: 0.5498 - val_acc: 0.7693\n",
      "Epoch 5/5\n",
      "112720/112720 [==============================] - 0s - loss: 0.2278 - acc: 0.9805 - val_loss: 0.5606 - val_acc: 0.7661\n",
      " 1409/22544 [>.............................] - ETA: 0s\n",
      " Train Acc: 0.9795954674482346, Test Acc: 0.7660574838519096\n",
      " \n",
      " Current Layer Attributes - epochs:5 hidden layers:6 features count:16\n",
      "Train on 112720 samples, validate on 22544 samples\n",
      "Epoch 1/5\n",
      "112720/112720 [==============================] - 1s - loss: 0.6446 - acc: 0.7126 - val_loss: 0.5609 - val_acc: 0.8475\n",
      "Epoch 2/5\n",
      "112720/112720 [==============================] - 0s - loss: 0.4331 - acc: 0.9634 - val_loss: 0.5825 - val_acc: 0.7514\n",
      "Epoch 3/5\n",
      "112720/112720 [==============================] - 0s - loss: 0.2687 - acc: 0.9744 - val_loss: 0.6216 - val_acc: 0.7392\n",
      "Epoch 4/5\n",
      "112720/112720 [==============================] - 0s - loss: 0.2205 - acc: 0.9766 - val_loss: 0.6014 - val_acc: 0.7525\n",
      "Epoch 5/5\n",
      "112720/112720 [==============================] - 0s - loss: 0.1933 - acc: 0.9782 - val_loss: 0.5978 - val_acc: 0.7618\n",
      "22544/22544 [==============================] - 0s     \n",
      "\n",
      " Train Acc: 0.9793293103575706, Test Acc: 0.7617991454899311\n",
      " \n",
      " Current Layer Attributes - epochs:5 hidden layers:6 features count:32\n",
      "Train on 112720 samples, validate on 22544 samples\n",
      "Epoch 1/5\n",
      "112720/112720 [==============================] - 1s - loss: 0.6202 - acc: 0.7335 - val_loss: 0.5523 - val_acc: 0.7602\n",
      "Epoch 2/5\n",
      "112720/112720 [==============================] - 0s - loss: 0.3404 - acc: 0.9669 - val_loss: 0.5945 - val_acc: 0.7370\n",
      "Epoch 3/5\n",
      "112720/112720 [==============================] - 0s - loss: 0.2673 - acc: 0.9774 - val_loss: 0.5616 - val_acc: 0.7639\n",
      "Epoch 4/5\n",
      "112720/112720 [==============================] - 0s - loss: 0.2338 - acc: 0.9791 - val_loss: 0.5788 - val_acc: 0.7559\n",
      "Epoch 5/5\n",
      "112720/112720 [==============================] - 0s - loss: 0.2093 - acc: 0.9803 - val_loss: 0.5839 - val_acc: 0.7584\n",
      "22544/22544 [==============================] - 0s     \n",
      "\n",
      " Train Acc: 0.9792405962944031, Test Acc: 0.7584279663860798\n"
     ]
    }
   ],
   "source": [
    "import itertools\n",
    "#features_arr = [4, 16, 32, 256, 1024]\n",
    "#hidden_layers_arr = [2, 6, 10, 100]\n",
    "\n",
    "#features_arr = [4, 16, 32]\n",
    "#hidden_layers_arr = [2, 6, 10]\n",
    "\n",
    "features_arr = [4, 16, 32]\n",
    "hidden_layers_arr = [2, 6]\n",
    "\n",
    "epoch_arr = [5]\n",
    "\n",
    "score = namedtuple(\"score\", ['epoch', 'no_of_features','hidden_layers','train_score', 'test_score'])\n",
    "scores = []\n",
    "predictions = pd.DataFrame()\n",
    "\n",
    "for e, h, f in itertools.product(epoch_arr, hidden_layers_arr, features_arr):\n",
    "    \n",
    "    print(\" \\n Current Layer Attributes - epochs:{} hidden layers:{} features count:{}\".format(e,h,f))\n",
    "    latent_dim = f\n",
    "    epochs = e\n",
    "    hidden_layers = h\n",
    "\n",
    "    Train.train()\n",
    "\n",
    "    vae_model = Model(inputs = Train.x, outputs = Train.y)\n",
    "    #vae_model.compile(optimizer = \"adam\", loss = \"mean_squared_error\", metrics = ['accuracy'] )\n",
    "    vae_model.compile(optimizer = \"adam\", loss = \"binary_crossentropy\", metrics = ['accuracy'] )\n",
    "    \n",
    "    train_size = x_train.shape[0] - x_train.shape[0]%batch_size\n",
    "    valid_size = x_valid.shape[0] - x_valid.shape[0]%batch_size\n",
    "\n",
    "    vae_model.fit(x = x_train[:train_size,:], y = y_train[:train_size,:], \n",
    "                  shuffle=True, epochs=epochs, \n",
    "                  batch_size = batch_size, \n",
    "                  #validation_data = (x_valid[:valid_size,:], y_valid[:valid_size,:]),\n",
    "                  validation_data = (x_test, y_test),\n",
    "                  verbose = 1)\n",
    "    \n",
    "    score_train = vae_model.evaluate(x_valid[:valid_size,:], y = y_valid[:valid_size,:],\n",
    "                               batch_size = batch_size,\n",
    "                               verbose = 1)\n",
    "    \n",
    "    score_test = vae_model.evaluate(x_test, y = y_test,\n",
    "                           batch_size = batch_size,\n",
    "                           verbose = 1)\n",
    "    \n",
    "    y_test_pred = vae_model.predict(x_test, batch_size=batch_size)\n",
    "    \n",
    "    y_pred = np.argmax(y_test_pred[:,-2:], axis = 1)\n",
    "    \n",
    "    curr_pred = pd.DataFrame({\"{}_{}_{}\".format(e,f,h):y_pred},)\n",
    "    predictions = pd.concat([predictions, curr_pred], axis = 1)\n",
    "    \n",
    "    scores.append(score(e,f,h,score_train[-1], score_test[-1])) #score_test[-1]))\n",
    "    \n",
    "    print(\"\\n Train Acc: {}, Test Acc: {}\".format(score_train[-1], \n",
    "                                                  score_test[-1])  )\n",
    "    \n",
    "scores = pd.DataFrame(scores)\n"
   ]
  },
  {
   "cell_type": "code",
   "execution_count": 5,
   "metadata": {},
   "outputs": [
    {
     "data": {
      "text/html": [
       "<div>\n",
       "<table border=\"1\" class=\"dataframe\">\n",
       "  <thead>\n",
       "    <tr style=\"text-align: right;\">\n",
       "      <th></th>\n",
       "      <th>epoch</th>\n",
       "      <th>no_of_features</th>\n",
       "      <th>hidden_layers</th>\n",
       "      <th>train_score</th>\n",
       "      <th>test_score</th>\n",
       "    </tr>\n",
       "  </thead>\n",
       "  <tbody>\n",
       "    <tr>\n",
       "      <th>3</th>\n",
       "      <td>5</td>\n",
       "      <td>4</td>\n",
       "      <td>6</td>\n",
       "      <td>0.979595</td>\n",
       "      <td>0.766057</td>\n",
       "    </tr>\n",
       "    <tr>\n",
       "      <th>0</th>\n",
       "      <td>5</td>\n",
       "      <td>4</td>\n",
       "      <td>2</td>\n",
       "      <td>0.977910</td>\n",
       "      <td>0.765037</td>\n",
       "    </tr>\n",
       "    <tr>\n",
       "      <th>1</th>\n",
       "      <td>5</td>\n",
       "      <td>16</td>\n",
       "      <td>2</td>\n",
       "      <td>0.978087</td>\n",
       "      <td>0.764372</td>\n",
       "    </tr>\n",
       "    <tr>\n",
       "      <th>2</th>\n",
       "      <td>5</td>\n",
       "      <td>32</td>\n",
       "      <td>2</td>\n",
       "      <td>0.978974</td>\n",
       "      <td>0.762509</td>\n",
       "    </tr>\n",
       "    <tr>\n",
       "      <th>4</th>\n",
       "      <td>5</td>\n",
       "      <td>16</td>\n",
       "      <td>6</td>\n",
       "      <td>0.979329</td>\n",
       "      <td>0.761799</td>\n",
       "    </tr>\n",
       "    <tr>\n",
       "      <th>5</th>\n",
       "      <td>5</td>\n",
       "      <td>32</td>\n",
       "      <td>6</td>\n",
       "      <td>0.979241</td>\n",
       "      <td>0.758428</td>\n",
       "    </tr>\n",
       "  </tbody>\n",
       "</table>\n",
       "</div>"
      ],
      "text/plain": [
       "   epoch  no_of_features  hidden_layers  train_score  test_score\n",
       "3      5               4              6     0.979595    0.766057\n",
       "0      5               4              2     0.977910    0.765037\n",
       "1      5              16              2     0.978087    0.764372\n",
       "2      5              32              2     0.978974    0.762509\n",
       "4      5              16              6     0.979329    0.761799\n",
       "5      5              32              6     0.979241    0.758428"
      ]
     },
     "execution_count": 5,
     "metadata": {},
     "output_type": "execute_result"
    }
   ],
   "source": [
    "scores.sort_values(\"test_score\", ascending=False)"
   ]
  },
  {
   "cell_type": "code",
   "execution_count": 8,
   "metadata": {},
   "outputs": [
    {
     "data": {
      "text/plain": [
       "0.23562810503903478"
      ]
     },
     "execution_count": 8,
     "metadata": {},
     "output_type": "execute_result"
    }
   ],
   "source": [
    "y_pred = predictions.loc[:,'{}_16_2'.format(epochs)]\n",
    "y_actual = np.argmax(y_test, axis = 1)\n",
    "(y_test.shape[0] - np.sum(np.equal(y_pred, y_actual))) / y_test.shape[0] "
   ]
  },
  {
   "cell_type": "code",
   "execution_count": 9,
   "metadata": {
    "collapsed": true
   },
   "outputs": [],
   "source": [
    "import numpy as np\n",
    "import matplotlib.pyplot as plt\n",
    "import itertools\n",
    "\n",
    "def plot_confusion_matrix(cm, classes,\n",
    "                          normalize=False,\n",
    "                          title='Confusion matrix',\n",
    "                          cmap=plt.cm.Blues):\n",
    "    \"\"\"\n",
    "    This function prints and plots the confusion matrix.\n",
    "    Normalization can be applied by setting `normalize=True`.\n",
    "    \"\"\"\n",
    "    np.set_printoptions(precision=4)\n",
    "\n",
    "    plt.imshow(cm, interpolation='nearest', cmap=cmap)\n",
    "    plt.title(title)\n",
    "    plt.colorbar()\n",
    "    tick_marks = np.arange(len(classes))\n",
    "    plt.xticks(tick_marks, classes, rotation=45)\n",
    "    plt.yticks(tick_marks, classes)\n",
    "\n",
    "    if normalize:\n",
    "        cm = cm.astype('float') / cm.sum(axis=1)[:, np.newaxis]\n",
    "        print(\"Normalized confusion matrix\")\n",
    "    else:\n",
    "        print('Confusion matrix, without normalization')\n",
    "\n",
    "    print(cm)\n",
    "\n",
    "    thresh = cm.max() / 2.\n",
    "    for i, j in itertools.product(range(cm.shape[0]), range(cm.shape[1])):\n",
    "        plt.text(j, i, cm[i, j].round(4),\n",
    "                 horizontalalignment=\"center\",\n",
    "                 color=\"white\" if cm[i, j] > thresh else \"black\")\n",
    "\n",
    "    plt.tight_layout()\n",
    "    plt.ylabel('True label')\n",
    "    plt.xlabel('Predicted label')\n",
    "\n",
    "def plot(actual_value, pred_value):\n",
    "    from sklearn.metrics import confusion_matrix\n",
    "    cm_2labels = confusion_matrix(y_pred = pred_value, y_true = actual_value)\n",
    "    plt.figure(figsize=[6,6])\n",
    "    plot_confusion_matrix(cm_2labels, output_columns_2labels, normalize = True)"
   ]
  },
  {
   "cell_type": "code",
   "execution_count": 10,
   "metadata": {},
   "outputs": [
    {
     "name": "stdout",
     "output_type": "stream",
     "text": [
      "Normalized confusion matrix\n",
      "[[ 0.6418  0.3582]\n",
      " [ 0.0736  0.9264]]\n"
     ]
    },
    {
     "data": {
      "image/png": "[encoded data removed]",
      "text/plain": [
       "<matplotlib.figure.Figure at 0x7f1c51bc3cc0>"
      ]
     },
     "metadata": {},
     "output_type": "display_data"
    }
   ],
   "source": [
    "plot(actual_value = y_actual, pred_value = y_pred)"
   ]
  },
  {
   "cell_type": "code",
   "execution_count": 11,
   "metadata": {
    "collapsed": true
   },
   "outputs": [],
   "source": [
    "predictions.to_pickle(\"dataset/vae_dense_keras_predictions.pkl\")\n",
    "scores.to_pickle(\"dataset/vae_dense_keras_scores.pkl\")"
   ]
  },
  {
   "cell_type": "code",
   "execution_count": null,
   "metadata": {
    "collapsed": true
   },
   "outputs": [],
   "source": []
  }
 ],
 "metadata": {
  "_draft": {
   "nbviewer_url": "https://gist.github.com/33dcb1bcf3ca4a3461c4405a003a7591"
  },
  "anaconda-cloud": {},
  "gist": {
   "data": {
    "description": "Final Hyper parameter tuning",
    "public": false
   },
   "id": "33dcb1bcf3ca4a3461c4405a003a7591"
  },
  "kernelspec": {
   "display_name": "Python [conda env:p3]",
   "language": "python",
   "name": "conda-env-p3-py"
  },
  "language_info": {
   "codemirror_mode": {
    "name": "ipython",
    "version": 3
   },
   "file_extension": ".py",
   "mimetype": "text/x-python",
   "name": "python",
   "nbconvert_exporter": "python",
   "pygments_lexer": "ipython3",
   "version": "3.6.1"
  }
 },
 "nbformat": 4,
 "nbformat_minor": 2
}
