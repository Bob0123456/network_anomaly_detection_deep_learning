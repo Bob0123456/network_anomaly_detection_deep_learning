{
 "cells": [
  {
   "cell_type": "code",
   "execution_count": 1,
   "metadata": {
    "collapsed": true
   },
   "outputs": [],
   "source": [
    "import pandas as pd\n",
    "import numpy as np\n",
    "pd.set_option(\"display.max_rows\",15)\n",
    "%matplotlib inline"
   ]
  },
  {
   "cell_type": "code",
   "execution_count": 2,
   "metadata": {
    "collapsed": true
   },
   "outputs": [],
   "source": [
    "class dataset:\n",
    "    kdd_train_2labels = pd.read_pickle(\"dataset/kdd_train_2labels_20percent.pkl\")\n",
    "    kdd_train_2labels_y = pd.read_pickle(\"dataset/kdd_train_2labels_y_20percent.pkl\")\n",
    "    \n",
    "    kdd_test_2labels = pd.read_pickle(\"dataset/kdd_test_2labels_20percent.pkl\")\n",
    "    kdd_test_2labels_y = pd.read_pickle(\"dataset/kdd_test_2labels_y_20percent.pkl\")\n",
    "    \n",
    "    kdd_train_5labels = pd.read_pickle(\"dataset/kdd_train_5labels_20percent.pkl\")\n",
    "    kdd_train_5labels_y = pd.read_pickle(\"dataset/kdd_train_5labels_y_20percent.pkl\")\n",
    "    \n",
    "    kdd_test_5labels = pd.read_pickle(\"dataset/kdd_test_5labels_20percent.pkl\")\n",
    "    kdd_test_5labels_y = pd.read_pickle(\"dataset/kdd_test_5labels_y_20percent.pkl\")\n",
    "    "
   ]
  },
  {
   "cell_type": "code",
   "execution_count": 5,
   "metadata": {},
   "outputs": [
    {
     "name": "stdout",
     "output_type": "stream",
     "text": [
      "Classifier: Non - Linear SVM\n",
      "Score: 0.36455696202531646\n",
      "Classifier: RBF SVM\n",
      "Score: 0.2360337552742616\n",
      "Classifier: Decision Tree\n",
      "Score: 0.6070042194092827\n",
      "Classifier: Random Forest\n",
      "Score: 0.5723206751054852\n",
      "Classifier: AdaBoost\n",
      "Score: 0.589282700421941\n",
      "Classifier: Multi Layer Perceptron\n",
      "Score: 0.559324894514768\n"
     ]
    }
   ],
   "source": [
    "import collections\n",
    "from sklearn.tree import DecisionTreeClassifier\n",
    "from sklearn.neural_network import MLPClassifier\n",
    "from sklearn.ensemble import RandomForestClassifier, AdaBoostClassifier\n",
    "from sklearn.svm import NuSVC, SVC\n",
    "\n",
    "names = [\"Non - Linear SVM\", \"RBF SVM\", \"Decision Tree\", \"Random Forest\", \"AdaBoost\",\"Multi Layer Perceptron\"]\n",
    "classifiers = [NuSVC(),\n",
    "                SVC(gamma=2, C=1),\n",
    "                DecisionTreeClassifier(max_depth=5),\n",
    "                RandomForestClassifier(max_depth=5, n_estimators=10, max_features=1),\n",
    "                AdaBoostClassifier(),\n",
    "                MLPClassifier(alpha=1),]\n",
    "score = collections.namedtuple(\"score\", [\"name\", \"test_score\"])\n",
    "scores = []\n",
    "\n",
    "for name, clf in zip(names, classifiers):\n",
    "    print(\"Classifier: {}\".format(name))\n",
    "    \n",
    "    clf.fit(dataset.kdd_train_2labels.iloc[:,:-2], \n",
    "        dataset.kdd_train_2labels_y)\n",
    "    curr_score = clf.score(dataset.kdd_test_2labels.iloc[:,:-2], \n",
    "        dataset.kdd_test_2labels_y)\n",
    "    scores.append(score(name, curr_score))\n",
    "    print(\"Score: {}\".format(curr_score))\n",
    "\n"
   ]
  },
  {
   "cell_type": "code",
   "execution_count": 6,
   "metadata": {},
   "outputs": [
    {
     "data": {
      "text/html": [
       "<div>\n",
       "<table border=\"1\" class=\"dataframe\">\n",
       "  <thead>\n",
       "    <tr style=\"text-align: right;\">\n",
       "      <th></th>\n",
       "      <th>name</th>\n",
       "      <th>test_score</th>\n",
       "    </tr>\n",
       "  </thead>\n",
       "  <tbody>\n",
       "    <tr>\n",
       "      <th>0</th>\n",
       "      <td>Non - Linear SVM</td>\n",
       "      <td>0.364557</td>\n",
       "    </tr>\n",
       "    <tr>\n",
       "      <th>1</th>\n",
       "      <td>RBF SVM</td>\n",
       "      <td>0.236034</td>\n",
       "    </tr>\n",
       "    <tr>\n",
       "      <th>2</th>\n",
       "      <td>Decision Tree</td>\n",
       "      <td>0.607004</td>\n",
       "    </tr>\n",
       "    <tr>\n",
       "      <th>3</th>\n",
       "      <td>Random Forest</td>\n",
       "      <td>0.572321</td>\n",
       "    </tr>\n",
       "    <tr>\n",
       "      <th>4</th>\n",
       "      <td>AdaBoost</td>\n",
       "      <td>0.589283</td>\n",
       "    </tr>\n",
       "    <tr>\n",
       "      <th>5</th>\n",
       "      <td>Multi Layer Perceptron</td>\n",
       "      <td>0.559325</td>\n",
       "    </tr>\n",
       "  </tbody>\n",
       "</table>\n",
       "</div>"
      ],
      "text/plain": [
       "                     name  test_score\n",
       "0        Non - Linear SVM    0.364557\n",
       "1                 RBF SVM    0.236034\n",
       "2           Decision Tree    0.607004\n",
       "3           Random Forest    0.572321\n",
       "4                AdaBoost    0.589283\n",
       "5  Multi Layer Perceptron    0.559325"
      ]
     },
     "execution_count": 6,
     "metadata": {},
     "output_type": "execute_result"
    }
   ],
   "source": [
    "pd.DataFrame(scores)"
   ]
  },
  {
   "cell_type": "code",
   "execution_count": null,
   "metadata": {
    "collapsed": true
   },
   "outputs": [],
   "source": []
  }
 ],
 "metadata": {
  "anaconda-cloud": {},
  "kernelspec": {
   "display_name": "Python [conda env:p3]",
   "language": "python",
   "name": "conda-env-p3-py"
  },
  "language_info": {
   "codemirror_mode": {
    "name": "ipython",
    "version": 3
   },
   "file_extension": ".py",
   "mimetype": "text/x-python",
   "name": "python",
   "nbconvert_exporter": "python",
   "pygments_lexer": "ipython3",
   "version": "3.6.0"
  }
 },
 "nbformat": 4,
 "nbformat_minor": 2
}
