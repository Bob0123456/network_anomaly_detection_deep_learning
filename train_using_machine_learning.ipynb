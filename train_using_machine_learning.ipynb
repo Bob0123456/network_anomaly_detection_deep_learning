{
 "cells": [
  {
   "cell_type": "code",
   "execution_count": 1,
   "metadata": {
    "collapsed": true
   },
   "outputs": [],
   "source": [
    "import pandas as pd\n",
    "import numpy as np\n",
    "pd.set_option(\"display.max_rows\",15)\n",
    "%matplotlib inline"
   ]
  },
  {
   "cell_type": "code",
   "execution_count": null,
   "metadata": {
    "collapsed": true
   },
   "outputs": [],
   "source": [
    "class dataset:\n",
    "    kdd_train_2labels = pd.read_pickle(\"dataset/kdd_train_2labels_20percent.pkl\")\n",
    "    kdd_train_2labels_y = pd.read_pickle(\"dataset/kdd_train_2labels_y_20percent.pkl\")\n",
    "    \n",
    "    kdd_test_2labels = pd.read_pickle(\"dataset/kdd_test_2labels_20percent.pkl\")\n",
    "    kdd_test_2labels_y = pd.read_pickle(\"dataset/kdd_test_2labels_y_20percent.pkl\")\n",
    "    \n",
    "    kdd_train_5labels = pd.read_pickle(\"dataset/kdd_train_5labels_20percent.pkl\")\n",
    "    kdd_train_5labels_y = pd.read_pickle(\"dataset/kdd_train_5labels_y_20percent.pkl\")\n",
    "    \n",
    "    kdd_test_5labels = pd.read_pickle(\"dataset/kdd_test_5labels_20percent.pkl\")\n",
    "    kdd_test_5labels_y = pd.read_pickle(\"dataset/kdd_test_5labels_y_20percent.pkl\")\n",
    "    "
   ]
  },
  {
   "cell_type": "code",
   "execution_count": null,
   "metadata": {},
   "outputs": [
    {
     "name": "stdout",
     "output_type": "stream",
     "text": [
      "Classifier: RBF SVM\n"
     ]
    }
   ],
   "source": [
    "import collections\n",
    "from sklearn.tree import DecisionTreeClassifier\n",
    "from sklearn.neural_network import MLPClassifier\n",
    "from sklearn.ensemble import RandomForestClassifier, AdaBoostClassifier\n",
    "from sklearn.svm import NuSVC, SVC\n",
    "from sklearn.model_selection import cross_val_score\n",
    "from sklearn.model_selection import cross_val_predict\n",
    "from sklearn.model_selection import ShuffleSplit\n",
    "from sklearn.pipeline import make_pipeline\n",
    "from sklearn import preprocessing\n",
    "from sklearn import metrics\n",
    "\n",
    "names_noscaling = [\"RBF SVM\", \"Decision Tree\", \"Random Forest\"]\n",
    "classifiers_noscaling = [\n",
    "                SVC(),\n",
    "                DecisionTreeClassifier(max_depth=5),\n",
    "                RandomForestClassifier(max_depth=5, n_estimators=10, max_features=1)]\n",
    "\n",
    "names_withscaling = [\"Non - Linear SVM\", \"AdaBoost\", \"Multi Layer Perceptron\"]\n",
    "classifiers_withscaling = [NuSVC(),\n",
    "                AdaBoostClassifier(),\n",
    "                MLPClassifier(alpha=1),]\n",
    "\n",
    "score = collections.namedtuple(\"score\", [\"name\", \"valid_score\" ,\"test_score\"])\n",
    "scores = []\n",
    "cv = ShuffleSplit(n_splits=10, test_size=0.2, random_state=0)\n",
    "\n",
    "for name, clf in zip(names_noscaling, classifiers_noscaling):\n",
    "    print(\"Classifier: {}\".format(name))\n",
    "    \n",
    "    x_train, y_train = dataset.kdd_train_2labels.iloc[:,:-2], dataset.kdd_train_2labels_y\n",
    "    x_test, y_test = dataset.kdd_test_2labels.iloc[:,:-2], dataset.kdd_test_2labels_y\n",
    "    \n",
    "    clf_p = make_pipeline(clf)    \n",
    "    valid_score = cross_val_score(clf_p, x_train, y_train, cv=cv)\n",
    "    \n",
    "    scaler = preprocessing.StandardScaler().fit(x_train)\n",
    "    clf.fit(scaler.transform(x_train), y_train)\n",
    "    y_pred = clf.predict(x_test)\n",
    "    test_acc = metrics.accuracy_score(y_test, y_pred) \n",
    "    \n",
    "    scores.append(score(name, valid_score.mean(), test_acc))\n",
    "    print(\"Score: {} \\n\".format(test_acc))\n",
    "\n",
    "for name, clf in zip(names_withscaling, classifiers_withscaling):\n",
    "    print(\"Classifier: {}\".format(name))\n",
    "    \n",
    "    x_train, y_train = dataset.kdd_train_2labels.iloc[:,:-2], dataset.kdd_train_2labels_y\n",
    "    x_test, y_test = dataset.kdd_test_2labels.iloc[:,:-2], dataset.kdd_test_2labels_y\n",
    "    \n",
    "    clf_p = make_pipeline(preprocessing.StandardScaler(), clf)    \n",
    "    valid_score = cross_val_score(clf_p, x_train, y_train, cv=cv)\n",
    "    \n",
    "    scaler = preprocessing.StandardScaler().fit(x_train)\n",
    "    clf.fit(scaler.transform(x_train), y_train)\n",
    "    y_pred = clf.predict(x_test)\n",
    "    test_acc = metrics.accuracy_score(y_test, y_pred) \n",
    "    \n",
    "    scores.append(score(name, valid_score.mean(), test_acc))\n",
    "    print(\"Score: {} \\n\".format(test_acc))\n"
   ]
  },
  {
   "cell_type": "code",
   "execution_count": null,
   "metadata": {},
   "outputs": [],
   "source": [
    "pd.DataFrame(scores)"
   ]
  },
  {
   "cell_type": "code",
   "execution_count": null,
   "metadata": {
    "collapsed": true
   },
   "outputs": [],
   "source": []
  }
 ],
 "metadata": {
  "anaconda-cloud": {},
  "kernelspec": {
   "display_name": "Python [conda env:p3]",
   "language": "python",
   "name": "conda-env-p3-py"
  },
  "language_info": {
   "codemirror_mode": {
    "name": "ipython",
    "version": 3
   },
   "file_extension": ".py",
   "mimetype": "text/x-python",
   "name": "python",
   "nbconvert_exporter": "python",
   "pygments_lexer": "ipython3",
   "version": "3.6.0"
  }
 },
 "nbformat": 4,
 "nbformat_minor": 2
}
