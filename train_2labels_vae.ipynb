{
 "cells": [
  {
   "cell_type": "markdown",
   "metadata": {},
   "source": [
    "# Read Data Sample"
   ]
  },
  {
   "cell_type": "code",
   "execution_count": 10,
   "metadata": {
    "collapsed": true
   },
   "outputs": [],
   "source": [
    "import pandas as pd\n",
    "import numpy as np\n",
    "pd.set_option(\"display.max_rows\",15)\n",
    "%matplotlib inline"
   ]
  },
  {
   "cell_type": "code",
   "execution_count": 11,
   "metadata": {
    "collapsed": true
   },
   "outputs": [],
   "source": [
    "class dataset:\n",
    "    kdd_train_2labels = pd.read_pickle(\"dataset/kdd_train_2labels.pkl\")\n",
    "    kdd_test_2labels = pd.read_pickle(\"dataset/kdd_test_2labels.pkl\")"
   ]
  },
  {
   "cell_type": "code",
   "execution_count": 12,
   "metadata": {},
   "outputs": [
    {
     "data": {
      "text/plain": [
       "(125973, 123)"
      ]
     },
     "execution_count": 12,
     "metadata": {},
     "output_type": "execute_result"
    }
   ],
   "source": [
    "dataset.kdd_train_2labels.shape"
   ]
  },
  {
   "cell_type": "code",
   "execution_count": 13,
   "metadata": {},
   "outputs": [
    {
     "data": {
      "text/plain": [
       "(22544, 123)"
      ]
     },
     "execution_count": 13,
     "metadata": {},
     "output_type": "execute_result"
    }
   ],
   "source": [
    "dataset.kdd_test_2labels.shape"
   ]
  },
  {
   "cell_type": "code",
   "execution_count": 14,
   "metadata": {
    "collapsed": true
   },
   "outputs": [],
   "source": [
    "import tensorflow as tf\n",
    "\n",
    "sess = tf.InteractiveSession()"
   ]
  },
  {
   "cell_type": "code",
   "execution_count": 15,
   "metadata": {
    "collapsed": true
   },
   "outputs": [],
   "source": [
    "class network:\n",
    "    tf.reset_default_graph()\n",
    "\n",
    "    input_dim = 121\n",
    "    classes = 2\n",
    "    hidden_encoder_dim = 40\n",
    "\n",
    "    latent_dim = 10\n",
    "\n",
    "    hidden_decoder_dim = 40\n",
    "\n",
    "    lam = 0.01\n",
    "\n",
    "    def weight_variable(shape):\n",
    "        initial = tf.truncated_normal(shape, stddev=0.001)\n",
    "        return tf.Variable(initial)\n",
    "\n",
    "    def bias_variable(shape):\n",
    "        initial = tf.constant(0.01, shape=shape)\n",
    "        return tf.Variable(initial)\n",
    "\n",
    "    l2_loss = tf.constant(0.001)\n",
    "    #learning_rate = tf.Variable(initial_value=0.001)\n",
    "\n",
    "    with tf.variable_scope(\"Input\"):\n",
    "        x = tf.placeholder(\"float\", shape=[None, input_dim])\n",
    "        y_ = tf.placeholder(\"float\", shape=[None, classes])\n",
    "\n",
    "        keep_prob = tf.placeholder(\"float\")\n",
    "\n",
    "    with tf.variable_scope(\"Layer_Encoder\"):\n",
    "        W_encoder_input_hidden = weight_variable([input_dim,hidden_encoder_dim])\n",
    "        b_encoder_input_hidden = bias_variable([hidden_encoder_dim])\n",
    "        l2_loss += tf.nn.l2_loss(W_encoder_input_hidden)\n",
    "\n",
    "        # Hidden layer encoder\n",
    "        hidden_encoder = tf.nn.relu(tf.matmul(x, W_encoder_input_hidden) + b_encoder_input_hidden)\n",
    "        tf.summary.histogram(\"Weights_Encoder\", W_encoder_input_hidden)\n",
    "        hidden_encoder = tf.nn.dropout(hidden_encoder, keep_prob=keep_prob)\n",
    "\n",
    "    with tf.variable_scope(\"Layer_Mean\"):\n",
    "        W_encoder_hidden_mu = weight_variable([hidden_encoder_dim,latent_dim])\n",
    "        b_encoder_hidden_mu = bias_variable([latent_dim])\n",
    "        l2_loss += tf.nn.l2_loss(W_encoder_hidden_mu)\n",
    "\n",
    "        # Mu encoder\n",
    "        mu_encoder = tf.matmul(hidden_encoder, W_encoder_hidden_mu) + b_encoder_hidden_mu\n",
    "        tf.summary.histogram(\"Weights_Mean\", W_encoder_hidden_mu)\n",
    "\n",
    "    with tf.variable_scope(\"Layer_Variance\"):\n",
    "        W_encoder_hidden_logvar = weight_variable([hidden_encoder_dim,latent_dim])\n",
    "        b_encoder_hidden_logvar = bias_variable([latent_dim])\n",
    "        l2_loss += tf.nn.l2_loss(W_encoder_hidden_logvar)\n",
    "\n",
    "        # Sigma encoder\n",
    "        logvar_encoder = tf.matmul(hidden_encoder, W_encoder_hidden_logvar) + b_encoder_hidden_logvar\n",
    "        tf.summary.histogram(\"Weights_Variance\", W_encoder_hidden_logvar)\n",
    "\n",
    "    with tf.variable_scope(\"Sampling_Distribution\"):\n",
    "        # Sample epsilon\n",
    "        epsilon = tf.random_normal(tf.shape(logvar_encoder), name='epsilon')\n",
    "\n",
    "        # Sample latent variable\n",
    "        std_encoder = tf.exp(0.5 * logvar_encoder)\n",
    "        z = mu_encoder + tf.multiply(std_encoder, epsilon)\n",
    "        tf.summary.histogram(\"Sample_Distribution\", z)\n",
    "\n",
    "    with tf.variable_scope(\"Layer_Decoder\"):\n",
    "        W_decoder_z_hidden = weight_variable([latent_dim,hidden_decoder_dim])\n",
    "        b_decoder_z_hidden = bias_variable([hidden_decoder_dim])\n",
    "        l2_loss += tf.nn.l2_loss(W_decoder_z_hidden)\n",
    "\n",
    "        # Hidden layer decoder\n",
    "        hidden_decoder = tf.nn.relu(tf.matmul(z, W_decoder_z_hidden) + b_decoder_z_hidden)\n",
    "        hidden_decoder = tf.nn.dropout(hidden_decoder, keep_prob=keep_prob)\n",
    "        tf.summary.histogram(\"Weights_Decoder\", W_decoder_z_hidden)\n",
    "\n",
    "    with tf.variable_scope(\"Layer_Reconstruction\"):\n",
    "        W_decoder_hidden_reconstruction = weight_variable([hidden_decoder_dim, input_dim])\n",
    "        b_decoder_hidden_reconstruction = bias_variable([input_dim])\n",
    "        l2_loss += tf.nn.l2_loss(W_decoder_hidden_reconstruction)\n",
    "\n",
    "        x_hat = tf.matmul(hidden_decoder, W_decoder_hidden_reconstruction) + b_decoder_hidden_reconstruction\n",
    "        tf.summary.histogram(\"Weights_Reconstruction\", W_decoder_hidden_reconstruction)\n",
    "\n",
    "    with tf.variable_scope(\"Layer_Dense_Hidden\"):\n",
    "        hidden_output = tf.layers.dense(z,latent_dim, activation=tf.nn.relu)\n",
    "\n",
    "    with tf.variable_scope(\"Layer_Dense_Softmax\"):\n",
    "        y = tf.layers.dense(z, classes, activation=tf.nn.softmax)\n",
    "\n",
    "    with tf.variable_scope(\"Loss\"):\n",
    "        BCE = tf.reduce_mean(tf.nn.sigmoid_cross_entropy_with_logits(logits=x_hat, labels=x), reduction_indices=1)\n",
    "        KLD = -0.5 * tf.reduce_mean(1 + logvar_encoder - tf.pow(mu_encoder, 2) - tf.exp(logvar_encoder), reduction_indices=1)\n",
    "        softmax_loss = tf.reduce_mean(tf.nn.softmax_cross_entropy_with_logits(labels = y_, logits = y))\n",
    "\n",
    "        loss = tf.reduce_mean(BCE + KLD + softmax_loss)\n",
    "\n",
    "        regularized_loss = tf.abs(loss + lam * l2_loss, name = \"Regularized_loss\")\n",
    "        correct_prediction = tf.equal(tf.argmax(y_, 1), tf.argmax(y, 1))\n",
    "        tf_accuracy = tf.reduce_mean(tf.cast(correct_prediction, tf.float32), name = \"Accuracy\")\n",
    "\n",
    "        #tf.summary.scalar(\"BCE\", BCE)\n",
    "        #tf.summary.scalar(\"KLD\", KLD)\n",
    "        #tf.summary.scalar(\"Softmax_loss\", softmax_loss)\n",
    "\n",
    "        tf.summary.scalar(\"loss\", regularized_loss)\n",
    "\n",
    "\n",
    "\n",
    "    with tf.variable_scope(\"Optimizer\"):\n",
    "        learning_rate=0.001\n",
    "        grad_clip=5\n",
    "        tvars = tf.trainable_variables()\n",
    "        grads, _ = tf.clip_by_global_norm(tf.gradients(regularized_loss, tvars), grad_clip)\n",
    "        train_op = tf.train.AdamOptimizer(learning_rate)\n",
    "        optimizer = train_op.apply_gradients(zip(grads, tvars))\n",
    "\n",
    "    # add op for merging summary\n",
    "    summary_op = tf.summary.merge_all()\n",
    "    pred = tf.argmax(y, 1)\n",
    "    actual = tf.argmax(y_, 1)\n",
    "\n",
    "\n",
    "    # add Saver ops\n",
    "    # saver = tf.train.Saver()"
   ]
  },
  {
   "cell_type": "code",
   "execution_count": 16,
   "metadata": {},
   "outputs": [],
   "source": [
    "class preprocess:\n",
    "    \n",
    "    output_columns_2labels = ['is_Attack','is_Normal']\n",
    "\n",
    "    from sklearn import model_selection as ms\n",
    "    from sklearn import preprocessing as pp\n",
    "\n",
    "    x_input = dataset.kdd_train_2labels.drop(output_columns_2labels, axis = 1)\n",
    "    y_output = dataset.kdd_train_2labels.loc[:,output_columns_2labels]\n",
    "\n",
    "    x_test_input = dataset.kdd_test_2labels.drop(output_columns_2labels, axis = 1)\n",
    "    y_test = dataset.kdd_test_2labels.loc[:,output_columns_2labels]\n",
    "\n",
    "\n",
    "    ss = pp.StandardScaler()\n",
    "\n",
    "    x_input = ss.fit_transform(x_input)\n",
    "    x_test = ss.transform(x_test_input)\n",
    "\n",
    "\n",
    "    x_train, x_valid, y_train, y_valid = ms.train_test_split(x_input, \n",
    "                                  y_output.values, \n",
    "                                  test_size=0.33)\n"
   ]
  },
  {
   "cell_type": "code",
   "execution_count": 17,
   "metadata": {
    "collapsed": true
   },
   "outputs": [],
   "source": [
    "class Hyperparameters:\n",
    "    features_arr = [4, 8, 16, 32, 64, 128]\n",
    "    hidden_layers_arr = [2, 4, 6, 8]\n",
    "    "
   ]
  },
  {
   "cell_type": "code",
   "execution_count": null,
   "metadata": {
    "scrolled": false
   },
   "outputs": [
    {
     "name": "stdout",
     "output_type": "stream",
     "text": [
      "Step 0 | Training Loss: 0.9696 | Validation Accuracy: 0.8966\n",
      "Step 10 | Training Loss: 0.0884 | Validation Accuracy: 0.9144\n",
      "Step 20 | Training Loss: 0.0197 | Validation Accuracy: 0.9118\n",
      "Step 30 | Training Loss: 0.0168 | Validation Accuracy: 0.9081\n",
      "Step 40 | Training Loss: 0.0298 | Validation Accuracy: 0.9067\n"
     ]
    }
   ],
   "source": [
    "epochs = 50\n",
    "batch_iterations = 100\n",
    "\n",
    "batch_indices = np.array_split(np.arange(preprocess.x_train.shape[0]), \n",
    "                               batch_iterations)\n",
    "\n",
    "with tf.Session() as sess:\n",
    "    summary_writer_train = tf.summary.FileWriter('./logs/kdd/VAE/training', graph=sess.graph)\n",
    "    summary_writer_valid = tf.summary.FileWriter('./logs/kdd/VAE/validation')\n",
    "\n",
    "    sess.run(tf.global_variables_initializer())\n",
    "\n",
    "    for epoch in range(0, epochs):\n",
    "        for i in batch_indices:\n",
    "            _, train_loss, summary_str = sess.run([network.optimizer, \n",
    "                                                   network.regularized_loss, \n",
    "                                                   network.summary_op],\n",
    "                                                  feed_dict={network.x: preprocess.x_train[i,:], \n",
    "                                                             network.y_: preprocess.y_train[i,:], \n",
    "                                                             network.keep_prob:0.6})\n",
    "            summary_writer_train.add_summary(summary_str, epoch)\n",
    "\n",
    "        \n",
    "        accuracy, summary_str = sess.run([network.tf_accuracy, network.summary_op], \n",
    "                                              feed_dict={network.x: preprocess.x_valid, \n",
    "                                                         network.y_: preprocess.y_valid, \n",
    "                                                         network.keep_prob:1})\n",
    "        summary_writer_valid.add_summary(summary_str, epoch)\n",
    "            \n",
    "        if epoch % 10 == 0:\n",
    "            print(\"Step {} | Training Loss: {:.4f} | Validation Accuracy: {:.4f}\".format(epoch, train_loss, accuracy))\n",
    "            \n",
    "    accuracy, pred_value, actual_value = sess.run([network.tf_accuracy, \n",
    "                                                   network.pred, \n",
    "                                                   network.actual], \n",
    "                                                  feed_dict={network.x: preprocess.x_test, \n",
    "                                                             network.y_: preprocess.y_test, \n",
    "                                                             network.keep_prob:1})\n",
    "    \n",
    "    \n",
    "    print(\"Accuracy on Test data: {}\".format(accuracy))"
   ]
  },
  {
   "cell_type": "code",
   "execution_count": 10,
   "metadata": {
    "collapsed": true
   },
   "outputs": [],
   "source": [
    "import itertools\n",
    "import numpy as np\n",
    "import matplotlib.pyplot as plt\n",
    "\n",
    "def plot_confusion_matrix(cm, classes,\n",
    "                          normalize=False,\n",
    "                          title='Confusion matrix',\n",
    "                          cmap=plt.cm.Blues):\n",
    "    \"\"\"\n",
    "    This function prints and plots the confusion matrix.\n",
    "    Normalization can be applied by setting `normalize=True`.\n",
    "    \"\"\"\n",
    "    np.set_printoptions(precision=4)\n",
    "\n",
    "    plt.imshow(cm, interpolation='nearest', cmap=cmap)\n",
    "    plt.title(title)\n",
    "    plt.colorbar()\n",
    "    tick_marks = np.arange(len(classes))\n",
    "    plt.xticks(tick_marks, classes, rotation=45)\n",
    "    plt.yticks(tick_marks, classes)\n",
    "\n",
    "    if normalize:\n",
    "        cm = cm.astype('float') / cm.sum(axis=1)[:, np.newaxis]\n",
    "        print(\"Normalized confusion matrix\")\n",
    "    else:\n",
    "        print('Confusion matrix, without normalization')\n",
    "\n",
    "    print(cm)\n",
    "\n",
    "    thresh = cm.max() / 2.\n",
    "    for i, j in itertools.product(range(cm.shape[0]), range(cm.shape[1])):\n",
    "        plt.text(j, i, cm[i, j].round(4),\n",
    "                 horizontalalignment=\"center\",\n",
    "                 color=\"white\" if cm[i, j] > thresh else \"black\")\n",
    "\n",
    "    plt.tight_layout()\n",
    "    plt.ylabel('True label')\n",
    "    plt.xlabel('Predicted label')"
   ]
  },
  {
   "cell_type": "code",
   "execution_count": 12,
   "metadata": {},
   "outputs": [
    {
     "name": "stdout",
     "output_type": "stream",
     "text": [
      "Normalized confusion matrix\n",
      "[[ 0.5836  0.4164]\n",
      " [ 0.0498  0.9502]]\n"
     ]
    },
    {
     "data": {
      "image/png": "[encoded data removed]",
      "text/plain": [
       "<matplotlib.figure.Figure at 0x7f6493e3d240>"
      ]
     },
     "metadata": {},
     "output_type": "display_data"
    }
   ],
   "source": [
    "from sklearn.metrics import confusion_matrix\n",
    "cm_2labels = confusion_matrix(y_pred = pred_value, y_true = actual_value)\n",
    "plt.figure(figsize=[6,6])\n",
    "plot_confusion_matrix(cm_2labels, output_columns_2labels, normalize = True)"
   ]
  },
  {
   "cell_type": "code",
   "execution_count": null,
   "metadata": {
    "collapsed": true
   },
   "outputs": [],
   "source": []
  }
 ],
 "metadata": {
  "_draft": {
   "nbviewer_url": "https://gist.github.com/7d1ace18a82178e15ece8fc5252fce88"
  },
  "gist": {
   "data": {
    "description": "Implemented Grad clip, getting good accuracy!",
    "public": false
   },
   "id": "7d1ace18a82178e15ece8fc5252fce88"
  },
  "kernelspec": {
   "display_name": "Python 3",
   "language": "python",
   "name": "python3"
  },
  "language_info": {
   "codemirror_mode": {
    "name": "ipython",
    "version": 3
   },
   "file_extension": ".py",
   "mimetype": "text/x-python",
   "name": "python",
   "nbconvert_exporter": "python",
   "pygments_lexer": "ipython3",
   "version": "3.6.0"
  }
 },
 "nbformat": 4,
 "nbformat_minor": 2
}
